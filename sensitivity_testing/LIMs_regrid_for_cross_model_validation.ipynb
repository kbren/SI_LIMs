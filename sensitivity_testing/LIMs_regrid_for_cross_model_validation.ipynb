{
 "cells": [
  {
   "cell_type": "code",
   "execution_count": null,
   "metadata": {},
   "outputs": [],
   "source": []
  },
  {
   "cell_type": "code",
   "execution_count": 1,
   "metadata": {},
   "outputs": [],
   "source": [
    "import sys,os\n",
    "import xarray as xr\n",
    "import numpy as np\n",
    "import scipy as spy\n",
    "import pickle \n",
    "\n",
    "import matplotlib\n",
    "import matplotlib.pyplot as plt\n",
    "import cartopy.crs as ccrs\n",
    "import cartopy.feature as cfeature\n",
    "from cartopy.util import add_cyclic_point\n",
    "from collections import OrderedDict \n",
    "\n",
    "import time as timestamp \n",
    "import importlib"
   ]
  },
  {
   "cell_type": "code",
   "execution_count": 2,
   "metadata": {},
   "outputs": [],
   "source": [
    "sys.path.append(\"/home/disk/p/mkb22/Documents/si_analysis_kb/LIMs/SI_LIMs/\")\n",
    "import LIM_utils_kb as limkb\n",
    "import LIM_stats_kb as statskb\n",
    "import LIM_plot_kb as plotkb\n",
    "import LIM_building as limbuild\n",
    "\n",
    "sys.path.append(\"/home/disk/kalman2/mkb22/pyLMR/\")\n",
    "import LMR_utils"
   ]
  },
  {
   "cell_type": "code",
   "execution_count": 3,
   "metadata": {},
   "outputs": [
    {
     "data": {
      "text/plain": [
       "<module 'LIM_utils_kb' from '/home/disk/p/mkb22/Documents/si_analysis_kb/LIMs/SI_LIMs/LIM_utils_kb.py'>"
      ]
     },
     "execution_count": 3,
     "metadata": {},
     "output_type": "execute_result"
    }
   ],
   "source": [
    "import importlib\n",
    "importlib.reload(limkb)"
   ]
  },
  {
   "cell_type": "markdown",
   "metadata": {},
   "source": [
    "## Regrid data for cross-model validation: "
   ]
  },
  {
   "cell_type": "code",
   "execution_count": 4,
   "metadata": {},
   "outputs": [],
   "source": [
    "import numpy as np\n",
    "import matplotlib as mpl\n",
    "import matplotlib.pyplot as plt\n",
    "import xarray as xr\n",
    "import cartopy.crs as ccrs\n",
    "import xesmf as xe\n",
    "import os.path"
   ]
  },
  {
   "cell_type": "code",
   "execution_count": 5,
   "metadata": {},
   "outputs": [],
   "source": [
    "fdic_cesm_lme = limkb.build_training_dic('cesm_lme')\n",
    "fdic_cesm_le = limkb.build_training_dic('cesm_le')\n",
    "fdic_mpi_lm = limkb.build_training_dic('mpi_lm_kb')\n",
    "fdic_ccsm4_lm = limkb.build_training_dic('ccsm4_lm_kb')\n",
    "fdic_mpi_hist = limkb.build_training_dic('cmip6_mpi_hist')\n",
    "fdic_cesm2_hist = limkb.build_training_dic('cmip6_cesm2_hist')\n",
    "fdic_gfdl_hist = limkb.build_training_dic('cmip6_gfdl_hist')\n",
    "fdic_canESM_hist = limkb.build_training_dic('cmip6_CanESM_hist')\n",
    "fdic_hadGEM3_hist = limkb.build_training_dic('cmip6_HadGEM3_hist')\n",
    "fdic_sat = limkb.build_training_dic('satellite')\n",
    "fdic_era5 = limkb.build_training_dic('era5')\n",
    "limvars = ['tas','tos','psl','zg','sit','sic']"
   ]
  },
  {
   "cell_type": "code",
   "execution_count": null,
   "metadata": {},
   "outputs": [],
   "source": [
    "#data_mpi_lm = xr.open_dataset(fdic_mpi_lm[var])"
   ]
  },
  {
   "cell_type": "code",
   "execution_count": null,
   "metadata": {},
   "outputs": [],
   "source": [
    "# data_mpi_hist = xr.open_dataset(fdic_mpi_hist[var])\n",
    "# data_cesm_le = xr.open_dataset(fdic_cesm_le[var])\n",
    "# #data_sat = xr.open_dataset(fdic_sat[var])\n",
    "# data_era5 = xr.open_dataset(fdic_era5[var])"
   ]
  },
  {
   "cell_type": "code",
   "execution_count": null,
   "metadata": {},
   "outputs": [],
   "source": [
    "# data_grid_lme = xr.open_dataset(fdic_cesm_lme['tos'])\n",
    "# data_grid_le = xr.open_dataset(fdic_cesm_le['tos'])"
   ]
  },
  {
   "cell_type": "code",
   "execution_count": null,
   "metadata": {},
   "outputs": [],
   "source": [
    "#data_valid = data_valid.rename_dims(dims_dict = {'i':'nlon','j':'nlat'})"
   ]
  },
  {
   "cell_type": "markdown",
   "metadata": {},
   "source": [
    "## CESM LE to CESM LME: "
   ]
  },
  {
   "cell_type": "code",
   "execution_count": null,
   "metadata": {},
   "outputs": [],
   "source": [
    "var = 'sic'\n",
    "data_cesm_le = xr.open_dataset(fdic_cesm_le[var])\n",
    "data_cesm_lme = xr.open_dataset(fdic_cesm_lme[var])"
   ]
  },
  {
   "cell_type": "code",
   "execution_count": null,
   "metadata": {},
   "outputs": [],
   "source": [
    "data_cesm_lme"
   ]
  },
  {
   "cell_type": "code",
   "execution_count": null,
   "metadata": {},
   "outputs": [],
   "source": [
    "data_cesm_le"
   ]
  },
  {
   "cell_type": "code",
   "execution_count": null,
   "metadata": {},
   "outputs": [],
   "source": [
    "data_cesm_le = data_cesm_le.drop('time_bound')\n",
    "data_cesm_le = data_cesm_le.drop('z_t')\n",
    "# data_cesm_le = data_cesm_le.drop('latt_bounds')\n",
    "\n",
    "# data_cesm_lme = data_cesm_lme.drop('tarea')\n",
    "# data_cesm_lme = data_cesm_lme.drop('tmask')\n",
    "\n",
    "# data_cesm_le = data_cesm_le.assign_coords({'lat':data_cesm_le.lat,'lon':data_cesm_le.lon})\n",
    "# data_cesm_lme = data_cesm_lme.assign_coords({'lat':data_cesm_lme.lat,'lon':data_cesm_lme.lon})"
   ]
  },
  {
   "cell_type": "code",
   "execution_count": null,
   "metadata": {},
   "outputs": [],
   "source": [
    "regridder = xe.Regridder(data_cesm_le, data_cesm_lme, 'bilinear', reuse_weights=True)"
   ]
  },
  {
   "cell_type": "code",
   "execution_count": null,
   "metadata": {},
   "outputs": [],
   "source": [
    "data_cesm_le_regrid = regridder(data_cesm_le)"
   ]
  },
  {
   "cell_type": "code",
   "execution_count": null,
   "metadata": {},
   "outputs": [],
   "source": [
    "filename_cesm_le = {'sic':'sic_CESM_LE_002_nh_regrid_cesm_lme_200601-210012.nc',\n",
    "                    'tos':'tos_CESM_LE_002_regrid_cesm_lme_200601_210012_2d.nc',\n",
    "                    'tas':'tas_CESM_LE_002_regrid_cesm_lme_200601-210012.nc',\n",
    "                    'zg':'zg_500hPa_CESM_LE_002_regrid_cesm_lme_200601-210012.nc',\n",
    "                    'psl':'psl_CESM_LE_002_regrid_cesm_lme_200601-210012.nc',\n",
    "                    'sit':'sit_CESM_LE_002_nh_regrid_cesm_lme_200601-210012.nc'}"
   ]
  },
  {
   "cell_type": "code",
   "execution_count": null,
   "metadata": {},
   "outputs": [],
   "source": [
    "# fig = plt.figure(1, figsize=(16, 8))\n",
    "# #axs = plt.axes(projection=ccrs.NorthPolarStereo())\n",
    "# axs = plt.axes(projection=ccrs.Robinson())\n",
    "# axs.coastlines()\n",
    "# #axs.set_extent([-180, 180, 50, 90], crs=ccrs.PlateCarree())\n",
    "# # plt.pcolormesh(data_grid['lon'].values[-104:,:],data_grid['lat'].values[-104:,:],\n",
    "# #                data_cesm_lme.sic.values[0,:,:], transform=ccrs.PlateCarree())\n",
    "# data_cesm_le[var].isel(time=0).plot.pcolormesh('lon','lat',ax=axs,transform=ccrs.PlateCarree())\n",
    "# plt.title('Original', fontsize=16)"
   ]
  },
  {
   "cell_type": "code",
   "execution_count": null,
   "metadata": {},
   "outputs": [],
   "source": [
    "data_cesm_le[var].isel(time=0).plot.pcolormesh()"
   ]
  },
  {
   "cell_type": "code",
   "execution_count": null,
   "metadata": {},
   "outputs": [],
   "source": [
    "data_cesm_le_regrid[var].isel(time=0).plot.pcolormesh()"
   ]
  },
  {
   "cell_type": "code",
   "execution_count": null,
   "metadata": {},
   "outputs": [],
   "source": [
    "# print('Saving regridded file in: '+fdic_cesm_le['fpath']+filename_cesm_le[var])\n",
    "# data_cesm_le_regrid.to_netcdf(fdic_cesm_le['fpath']+filename_cesm_le[var])"
   ]
  },
  {
   "cell_type": "markdown",
   "metadata": {},
   "source": [
    "## CESM2 Historical to CESM LME: "
   ]
  },
  {
   "cell_type": "code",
   "execution_count": 18,
   "metadata": {},
   "outputs": [
    {
     "name": "stderr",
     "output_type": "stream",
     "text": [
      "/home/disk/chaos/mkb22/anaconda2/envs/lims_update/lib/python3.6/site-packages/xarray/conventions.py:500: SerializationWarning: variable 'sic' has multiple fill values {1e+20, 1e+20}, decoding all values to NaN.\n",
      "  decode_timedelta=decode_timedelta,\n"
     ]
    }
   ],
   "source": [
    "var = 'sic'\n",
    "data_cesm_lme = xr.open_dataset(fdic_cesm_lme[var])\n",
    "data_cesm2_hist = xr.open_dataset(fdic_cesm2_hist[var])"
   ]
  },
  {
   "cell_type": "code",
   "execution_count": 19,
   "metadata": {},
   "outputs": [],
   "source": [
    "data_cesm2_hist = data_cesm2_hist.drop('time_bnds')\n",
    "data_cesm2_hist = data_cesm2_hist.drop('lat_bnds')\n",
    "data_cesm2_hist = data_cesm2_hist.drop('lon_bnds')\n",
    "data_cesm2_hist = data_cesm2_hist.drop('ni')\n",
    "data_cesm2_hist = data_cesm2_hist.drop('nj')"
   ]
  },
  {
   "cell_type": "code",
   "execution_count": 25,
   "metadata": {},
   "outputs": [
    {
     "name": "stderr",
     "output_type": "stream",
     "text": [
      "/home/disk/chaos/mkb22/anaconda2/envs/lims_update/lib/python3.6/site-packages/xesmf/backend.py:53: UserWarning: Latitude is outside of [-90, 90]\n",
      "  warnings.warn('Latitude is outside of [-90, 90]')\n"
     ]
    }
   ],
   "source": [
    "regridder = xe.Regridder(data_cesm2_hist,data_cesm_lme, 'bilinear', reuse_weights=False, ignore_degenerate=True)"
   ]
  },
  {
   "cell_type": "code",
   "execution_count": 26,
   "metadata": {},
   "outputs": [],
   "source": [
    "data_cesm2_hist_regrid = regridder(data_cesm2_hist)"
   ]
  },
  {
   "cell_type": "code",
   "execution_count": 27,
   "metadata": {},
   "outputs": [
    {
     "data": {
      "text/html": [
       "<div><svg style=\"position: absolute; width: 0; height: 0; overflow: hidden\">\n",
       "<defs>\n",
       "<symbol id=\"icon-database\" viewBox=\"0 0 32 32\">\n",
       "<path d=\"M16 0c-8.837 0-16 2.239-16 5v4c0 2.761 7.163 5 16 5s16-2.239 16-5v-4c0-2.761-7.163-5-16-5z\"></path>\n",
       "<path d=\"M16 17c-8.837 0-16-2.239-16-5v6c0 2.761 7.163 5 16 5s16-2.239 16-5v-6c0 2.761-7.163 5-16 5z\"></path>\n",
       "<path d=\"M16 26c-8.837 0-16-2.239-16-5v6c0 2.761 7.163 5 16 5s16-2.239 16-5v-6c0 2.761-7.163 5-16 5z\"></path>\n",
       "</symbol>\n",
       "<symbol id=\"icon-file-text2\" viewBox=\"0 0 32 32\">\n",
       "<path d=\"M28.681 7.159c-0.694-0.947-1.662-2.053-2.724-3.116s-2.169-2.030-3.116-2.724c-1.612-1.182-2.393-1.319-2.841-1.319h-15.5c-1.378 0-2.5 1.121-2.5 2.5v27c0 1.378 1.122 2.5 2.5 2.5h23c1.378 0 2.5-1.122 2.5-2.5v-19.5c0-0.448-0.137-1.23-1.319-2.841zM24.543 5.457c0.959 0.959 1.712 1.825 2.268 2.543h-4.811v-4.811c0.718 0.556 1.584 1.309 2.543 2.268zM28 29.5c0 0.271-0.229 0.5-0.5 0.5h-23c-0.271 0-0.5-0.229-0.5-0.5v-27c0-0.271 0.229-0.5 0.5-0.5 0 0 15.499-0 15.5 0v7c0 0.552 0.448 1 1 1h7v19.5z\"></path>\n",
       "<path d=\"M23 26h-14c-0.552 0-1-0.448-1-1s0.448-1 1-1h14c0.552 0 1 0.448 1 1s-0.448 1-1 1z\"></path>\n",
       "<path d=\"M23 22h-14c-0.552 0-1-0.448-1-1s0.448-1 1-1h14c0.552 0 1 0.448 1 1s-0.448 1-1 1z\"></path>\n",
       "<path d=\"M23 18h-14c-0.552 0-1-0.448-1-1s0.448-1 1-1h14c0.552 0 1 0.448 1 1s-0.448 1-1 1z\"></path>\n",
       "</symbol>\n",
       "</defs>\n",
       "</svg>\n",
       "<style>/* CSS stylesheet for displaying xarray objects in jupyterlab.\n",
       " *\n",
       " */\n",
       "\n",
       ":root {\n",
       "  --xr-font-color0: var(--jp-content-font-color0, rgba(0, 0, 0, 1));\n",
       "  --xr-font-color2: var(--jp-content-font-color2, rgba(0, 0, 0, 0.54));\n",
       "  --xr-font-color3: var(--jp-content-font-color3, rgba(0, 0, 0, 0.38));\n",
       "  --xr-border-color: var(--jp-border-color2, #e0e0e0);\n",
       "  --xr-disabled-color: var(--jp-layout-color3, #bdbdbd);\n",
       "  --xr-background-color: var(--jp-layout-color0, white);\n",
       "  --xr-background-color-row-even: var(--jp-layout-color1, white);\n",
       "  --xr-background-color-row-odd: var(--jp-layout-color2, #eeeeee);\n",
       "}\n",
       "\n",
       "html[theme=dark],\n",
       "body.vscode-dark {\n",
       "  --xr-font-color0: rgba(255, 255, 255, 1);\n",
       "  --xr-font-color2: rgba(255, 255, 255, 0.54);\n",
       "  --xr-font-color3: rgba(255, 255, 255, 0.38);\n",
       "  --xr-border-color: #1F1F1F;\n",
       "  --xr-disabled-color: #515151;\n",
       "  --xr-background-color: #111111;\n",
       "  --xr-background-color-row-even: #111111;\n",
       "  --xr-background-color-row-odd: #313131;\n",
       "}\n",
       "\n",
       ".xr-wrap {\n",
       "  display: block;\n",
       "  min-width: 300px;\n",
       "  max-width: 700px;\n",
       "}\n",
       "\n",
       ".xr-text-repr-fallback {\n",
       "  /* fallback to plain text repr when CSS is not injected (untrusted notebook) */\n",
       "  display: none;\n",
       "}\n",
       "\n",
       ".xr-header {\n",
       "  padding-top: 6px;\n",
       "  padding-bottom: 6px;\n",
       "  margin-bottom: 4px;\n",
       "  border-bottom: solid 1px var(--xr-border-color);\n",
       "}\n",
       "\n",
       ".xr-header > div,\n",
       ".xr-header > ul {\n",
       "  display: inline;\n",
       "  margin-top: 0;\n",
       "  margin-bottom: 0;\n",
       "}\n",
       "\n",
       ".xr-obj-type,\n",
       ".xr-array-name {\n",
       "  margin-left: 2px;\n",
       "  margin-right: 10px;\n",
       "}\n",
       "\n",
       ".xr-obj-type {\n",
       "  color: var(--xr-font-color2);\n",
       "}\n",
       "\n",
       ".xr-sections {\n",
       "  padding-left: 0 !important;\n",
       "  display: grid;\n",
       "  grid-template-columns: 150px auto auto 1fr 20px 20px;\n",
       "}\n",
       "\n",
       ".xr-section-item {\n",
       "  display: contents;\n",
       "}\n",
       "\n",
       ".xr-section-item input {\n",
       "  display: none;\n",
       "}\n",
       "\n",
       ".xr-section-item input + label {\n",
       "  color: var(--xr-disabled-color);\n",
       "}\n",
       "\n",
       ".xr-section-item input:enabled + label {\n",
       "  cursor: pointer;\n",
       "  color: var(--xr-font-color2);\n",
       "}\n",
       "\n",
       ".xr-section-item input:enabled + label:hover {\n",
       "  color: var(--xr-font-color0);\n",
       "}\n",
       "\n",
       ".xr-section-summary {\n",
       "  grid-column: 1;\n",
       "  color: var(--xr-font-color2);\n",
       "  font-weight: 500;\n",
       "}\n",
       "\n",
       ".xr-section-summary > span {\n",
       "  display: inline-block;\n",
       "  padding-left: 0.5em;\n",
       "}\n",
       "\n",
       ".xr-section-summary-in:disabled + label {\n",
       "  color: var(--xr-font-color2);\n",
       "}\n",
       "\n",
       ".xr-section-summary-in + label:before {\n",
       "  display: inline-block;\n",
       "  content: '►';\n",
       "  font-size: 11px;\n",
       "  width: 15px;\n",
       "  text-align: center;\n",
       "}\n",
       "\n",
       ".xr-section-summary-in:disabled + label:before {\n",
       "  color: var(--xr-disabled-color);\n",
       "}\n",
       "\n",
       ".xr-section-summary-in:checked + label:before {\n",
       "  content: '▼';\n",
       "}\n",
       "\n",
       ".xr-section-summary-in:checked + label > span {\n",
       "  display: none;\n",
       "}\n",
       "\n",
       ".xr-section-summary,\n",
       ".xr-section-inline-details {\n",
       "  padding-top: 4px;\n",
       "  padding-bottom: 4px;\n",
       "}\n",
       "\n",
       ".xr-section-inline-details {\n",
       "  grid-column: 2 / -1;\n",
       "}\n",
       "\n",
       ".xr-section-details {\n",
       "  display: none;\n",
       "  grid-column: 1 / -1;\n",
       "  margin-bottom: 5px;\n",
       "}\n",
       "\n",
       ".xr-section-summary-in:checked ~ .xr-section-details {\n",
       "  display: contents;\n",
       "}\n",
       "\n",
       ".xr-array-wrap {\n",
       "  grid-column: 1 / -1;\n",
       "  display: grid;\n",
       "  grid-template-columns: 20px auto;\n",
       "}\n",
       "\n",
       ".xr-array-wrap > label {\n",
       "  grid-column: 1;\n",
       "  vertical-align: top;\n",
       "}\n",
       "\n",
       ".xr-preview {\n",
       "  color: var(--xr-font-color3);\n",
       "}\n",
       "\n",
       ".xr-array-preview,\n",
       ".xr-array-data {\n",
       "  padding: 0 5px !important;\n",
       "  grid-column: 2;\n",
       "}\n",
       "\n",
       ".xr-array-data,\n",
       ".xr-array-in:checked ~ .xr-array-preview {\n",
       "  display: none;\n",
       "}\n",
       "\n",
       ".xr-array-in:checked ~ .xr-array-data,\n",
       ".xr-array-preview {\n",
       "  display: inline-block;\n",
       "}\n",
       "\n",
       ".xr-dim-list {\n",
       "  display: inline-block !important;\n",
       "  list-style: none;\n",
       "  padding: 0 !important;\n",
       "  margin: 0;\n",
       "}\n",
       "\n",
       ".xr-dim-list li {\n",
       "  display: inline-block;\n",
       "  padding: 0;\n",
       "  margin: 0;\n",
       "}\n",
       "\n",
       ".xr-dim-list:before {\n",
       "  content: '(';\n",
       "}\n",
       "\n",
       ".xr-dim-list:after {\n",
       "  content: ')';\n",
       "}\n",
       "\n",
       ".xr-dim-list li:not(:last-child):after {\n",
       "  content: ',';\n",
       "  padding-right: 5px;\n",
       "}\n",
       "\n",
       ".xr-has-index {\n",
       "  font-weight: bold;\n",
       "}\n",
       "\n",
       ".xr-var-list,\n",
       ".xr-var-item {\n",
       "  display: contents;\n",
       "}\n",
       "\n",
       ".xr-var-item > div,\n",
       ".xr-var-item label,\n",
       ".xr-var-item > .xr-var-name span {\n",
       "  background-color: var(--xr-background-color-row-even);\n",
       "  margin-bottom: 0;\n",
       "}\n",
       "\n",
       ".xr-var-item > .xr-var-name:hover span {\n",
       "  padding-right: 5px;\n",
       "}\n",
       "\n",
       ".xr-var-list > li:nth-child(odd) > div,\n",
       ".xr-var-list > li:nth-child(odd) > label,\n",
       ".xr-var-list > li:nth-child(odd) > .xr-var-name span {\n",
       "  background-color: var(--xr-background-color-row-odd);\n",
       "}\n",
       "\n",
       ".xr-var-name {\n",
       "  grid-column: 1;\n",
       "}\n",
       "\n",
       ".xr-var-dims {\n",
       "  grid-column: 2;\n",
       "}\n",
       "\n",
       ".xr-var-dtype {\n",
       "  grid-column: 3;\n",
       "  text-align: right;\n",
       "  color: var(--xr-font-color2);\n",
       "}\n",
       "\n",
       ".xr-var-preview {\n",
       "  grid-column: 4;\n",
       "}\n",
       "\n",
       ".xr-var-name,\n",
       ".xr-var-dims,\n",
       ".xr-var-dtype,\n",
       ".xr-preview,\n",
       ".xr-attrs dt {\n",
       "  white-space: nowrap;\n",
       "  overflow: hidden;\n",
       "  text-overflow: ellipsis;\n",
       "  padding-right: 10px;\n",
       "}\n",
       "\n",
       ".xr-var-name:hover,\n",
       ".xr-var-dims:hover,\n",
       ".xr-var-dtype:hover,\n",
       ".xr-attrs dt:hover {\n",
       "  overflow: visible;\n",
       "  width: auto;\n",
       "  z-index: 1;\n",
       "}\n",
       "\n",
       ".xr-var-attrs,\n",
       ".xr-var-data {\n",
       "  display: none;\n",
       "  background-color: var(--xr-background-color) !important;\n",
       "  padding-bottom: 5px !important;\n",
       "}\n",
       "\n",
       ".xr-var-attrs-in:checked ~ .xr-var-attrs,\n",
       ".xr-var-data-in:checked ~ .xr-var-data {\n",
       "  display: block;\n",
       "}\n",
       "\n",
       ".xr-var-data > table {\n",
       "  float: right;\n",
       "}\n",
       "\n",
       ".xr-var-name span,\n",
       ".xr-var-data,\n",
       ".xr-attrs {\n",
       "  padding-left: 25px !important;\n",
       "}\n",
       "\n",
       ".xr-attrs,\n",
       ".xr-var-attrs,\n",
       ".xr-var-data {\n",
       "  grid-column: 1 / -1;\n",
       "}\n",
       "\n",
       "dl.xr-attrs {\n",
       "  padding: 0;\n",
       "  margin: 0;\n",
       "  display: grid;\n",
       "  grid-template-columns: 125px auto;\n",
       "}\n",
       "\n",
       ".xr-attrs dt,\n",
       ".xr-attrs dd {\n",
       "  padding: 0;\n",
       "  margin: 0;\n",
       "  float: left;\n",
       "  padding-right: 10px;\n",
       "  width: auto;\n",
       "}\n",
       "\n",
       ".xr-attrs dt {\n",
       "  font-weight: normal;\n",
       "  grid-column: 1;\n",
       "}\n",
       "\n",
       ".xr-attrs dt:hover span {\n",
       "  display: inline-block;\n",
       "  background: var(--xr-background-color);\n",
       "  padding-right: 10px;\n",
       "}\n",
       "\n",
       ".xr-attrs dd {\n",
       "  grid-column: 2;\n",
       "  white-space: pre-wrap;\n",
       "  word-break: break-all;\n",
       "}\n",
       "\n",
       ".xr-icon-database,\n",
       ".xr-icon-file-text2 {\n",
       "  display: inline-block;\n",
       "  vertical-align: middle;\n",
       "  width: 1em;\n",
       "  height: 1.5em !important;\n",
       "  stroke-width: 0;\n",
       "  stroke: currentColor;\n",
       "  fill: currentColor;\n",
       "}\n",
       "</style><pre class='xr-text-repr-fallback'>&lt;xarray.Dataset&gt;\n",
       "Dimensions:  (nlat: 104, nlon: 320, time: 1980)\n",
       "Coordinates:\n",
       "  * time     (time) object 1850-01-15 12:00:00 ... 2014-12-15 12:00:00\n",
       "    lon      (nlat, nlon) float32 320.6 321.7 322.8 323.9 ... nan nan nan nan\n",
       "    lat      (nlat, nlon) float32 30.38 30.38 30.38 30.38 ... nan nan nan nan\n",
       "Dimensions without coordinates: nlat, nlon\n",
       "Data variables:\n",
       "    sic      (time, nlat, nlon) float32 nan nan nan nan nan ... 0.0 0.0 0.0 0.0\n",
       "Attributes:\n",
       "    regrid_method:  bilinear</pre><div class='xr-wrap' hidden><div class='xr-header'><div class='xr-obj-type'>xarray.Dataset</div></div><ul class='xr-sections'><li class='xr-section-item'><input id='section-967f0ed5-a959-4483-84a9-5c1d06522ed0' class='xr-section-summary-in' type='checkbox' disabled ><label for='section-967f0ed5-a959-4483-84a9-5c1d06522ed0' class='xr-section-summary'  title='Expand/collapse section'>Dimensions:</label><div class='xr-section-inline-details'><ul class='xr-dim-list'><li><span>nlat</span>: 104</li><li><span>nlon</span>: 320</li><li><span class='xr-has-index'>time</span>: 1980</li></ul></div><div class='xr-section-details'></div></li><li class='xr-section-item'><input id='section-2a19534f-119c-4e59-a166-691894b54ea5' class='xr-section-summary-in' type='checkbox'  checked><label for='section-2a19534f-119c-4e59-a166-691894b54ea5' class='xr-section-summary' >Coordinates: <span>(3)</span></label><div class='xr-section-inline-details'></div><div class='xr-section-details'><ul class='xr-var-list'><li class='xr-var-item'><div class='xr-var-name'><span class='xr-has-index'>time</span></div><div class='xr-var-dims'>(time)</div><div class='xr-var-dtype'>object</div><div class='xr-var-preview xr-preview'>1850-01-15 12:00:00 ... 2014-12-...</div><input id='attrs-7a455da7-d34b-4c1e-b006-fb292f11ac0f' class='xr-var-attrs-in' type='checkbox' ><label for='attrs-7a455da7-d34b-4c1e-b006-fb292f11ac0f' title='Show/Hide attributes'><svg class='icon xr-icon-file-text2'><use xlink:href='#icon-file-text2'></use></svg></label><input id='data-44b46043-eb02-4960-9ffe-ac96e889b051' class='xr-var-data-in' type='checkbox'><label for='data-44b46043-eb02-4960-9ffe-ac96e889b051' title='Show/Hide data repr'><svg class='icon xr-icon-database'><use xlink:href='#icon-database'></use></svg></label><div class='xr-var-attrs'><dl class='xr-attrs'><dt><span>axis :</span></dt><dd>T</dd><dt><span>bounds :</span></dt><dd>time_bnds</dd><dt><span>standard_name :</span></dt><dd>time</dd><dt><span>title :</span></dt><dd>time</dd><dt><span>type :</span></dt><dd>double</dd></dl></div><div class='xr-var-data'><pre>array([cftime._cftime.DatetimeNoLeap(1850, 1, 15, 12, 0, 0, 0, 4, 15),\n",
       "       cftime._cftime.DatetimeNoLeap(1850, 2, 14, 0, 0, 0, 0, 6, 45),\n",
       "       cftime._cftime.DatetimeNoLeap(1850, 3, 15, 12, 0, 0, 0, 0, 74), ...,\n",
       "       cftime._cftime.DatetimeNoLeap(2014, 10, 15, 12, 0, 0, 0, 0, 288),\n",
       "       cftime._cftime.DatetimeNoLeap(2014, 11, 15, 0, 0, 0, 0, 3, 319),\n",
       "       cftime._cftime.DatetimeNoLeap(2014, 12, 15, 12, 0, 0, 0, 5, 349)],\n",
       "      dtype=object)</pre></div></li><li class='xr-var-item'><div class='xr-var-name'><span>lon</span></div><div class='xr-var-dims'>(nlat, nlon)</div><div class='xr-var-dtype'>float32</div><div class='xr-var-preview xr-preview'>320.6 321.7 322.8 ... nan nan nan</div><input id='attrs-e35f7b67-845a-49da-86ad-d44b1d110e98' class='xr-var-attrs-in' type='checkbox' ><label for='attrs-e35f7b67-845a-49da-86ad-d44b1d110e98' title='Show/Hide attributes'><svg class='icon xr-icon-file-text2'><use xlink:href='#icon-file-text2'></use></svg></label><input id='data-60942e75-a2b1-4c5c-a179-ff0202ee2b40' class='xr-var-data-in' type='checkbox'><label for='data-60942e75-a2b1-4c5c-a179-ff0202ee2b40' title='Show/Hide data repr'><svg class='icon xr-icon-database'><use xlink:href='#icon-database'></use></svg></label><div class='xr-var-attrs'><dl class='xr-attrs'><dt><span>long_name :</span></dt><dd>T grid center longitude</dd><dt><span>units :</span></dt><dd>degrees_east</dd><dt><span>bounds :</span></dt><dd>lont_bounds</dd></dl></div><div class='xr-var-data'><pre>array([[320.55792, 321.67377, 322.78964, ..., 317.2104 , 318.32623,\n",
       "        319.44208],\n",
       "       [320.55768, 321.673  , 322.78836, ..., 317.21167, 318.327  ,\n",
       "        319.44235],\n",
       "       [320.5574 , 321.6722 , 322.78705, ..., 317.21298, 318.3278 ,\n",
       "        319.4426 ],\n",
       "       ...,\n",
       "       [      nan,       nan,       nan, ...,       nan,       nan,\n",
       "              nan],\n",
       "       [      nan,       nan,       nan, ...,       nan,       nan,\n",
       "              nan],\n",
       "       [      nan,       nan,       nan, ...,       nan,       nan,\n",
       "              nan]], dtype=float32)</pre></div></li><li class='xr-var-item'><div class='xr-var-name'><span>lat</span></div><div class='xr-var-dims'>(nlat, nlon)</div><div class='xr-var-dtype'>float32</div><div class='xr-var-preview xr-preview'>30.38 30.38 30.38 ... nan nan nan</div><input id='attrs-ccbb5f5c-bc11-4b8b-89e4-abc6a0bbd72a' class='xr-var-attrs-in' type='checkbox' ><label for='attrs-ccbb5f5c-bc11-4b8b-89e4-abc6a0bbd72a' title='Show/Hide attributes'><svg class='icon xr-icon-file-text2'><use xlink:href='#icon-file-text2'></use></svg></label><input id='data-14a2f9dc-16cb-4c6a-8ace-ef3df96e541a' class='xr-var-data-in' type='checkbox'><label for='data-14a2f9dc-16cb-4c6a-8ace-ef3df96e541a' title='Show/Hide data repr'><svg class='icon xr-icon-database'><use xlink:href='#icon-database'></use></svg></label><div class='xr-var-attrs'><dl class='xr-attrs'><dt><span>long_name :</span></dt><dd>T grid center latitude</dd><dt><span>units :</span></dt><dd>degrees_north</dd><dt><span>bounds :</span></dt><dd>latt_bounds</dd></dl></div><div class='xr-var-data'><pre>array([[30.37926 , 30.380173, 30.381998, ..., 30.381998, 30.380173,\n",
       "        30.379261],\n",
       "       [30.831163, 30.83211 , 30.833998, ..., 30.833998, 30.83211 ,\n",
       "        30.831163],\n",
       "       [31.28158 , 31.282557, 31.284512, ..., 31.284512, 31.282557,\n",
       "        31.28158 ],\n",
       "       ...,\n",
       "       [      nan,       nan,       nan, ...,       nan,       nan,\n",
       "              nan],\n",
       "       [      nan,       nan,       nan, ...,       nan,       nan,\n",
       "              nan],\n",
       "       [      nan,       nan,       nan, ...,       nan,       nan,\n",
       "              nan]], dtype=float32)</pre></div></li></ul></div></li><li class='xr-section-item'><input id='section-f7f1eade-d718-429b-b8e8-9c4958e6a6f2' class='xr-section-summary-in' type='checkbox'  checked><label for='section-f7f1eade-d718-429b-b8e8-9c4958e6a6f2' class='xr-section-summary' >Data variables: <span>(1)</span></label><div class='xr-section-inline-details'></div><div class='xr-section-details'><ul class='xr-var-list'><li class='xr-var-item'><div class='xr-var-name'><span>sic</span></div><div class='xr-var-dims'>(time, nlat, nlon)</div><div class='xr-var-dtype'>float32</div><div class='xr-var-preview xr-preview'>nan nan nan nan ... 0.0 0.0 0.0 0.0</div><input id='attrs-ac560109-283f-4fba-a9be-fa52a602f093' class='xr-var-attrs-in' type='checkbox' disabled><label for='attrs-ac560109-283f-4fba-a9be-fa52a602f093' title='Show/Hide attributes'><svg class='icon xr-icon-file-text2'><use xlink:href='#icon-file-text2'></use></svg></label><input id='data-65918bfd-b6c5-49af-8d27-dacda847cb29' class='xr-var-data-in' type='checkbox'><label for='data-65918bfd-b6c5-49af-8d27-dacda847cb29' title='Show/Hide data repr'><svg class='icon xr-icon-database'><use xlink:href='#icon-database'></use></svg></label><div class='xr-var-attrs'><dl class='xr-attrs'></dl></div><div class='xr-var-data'><pre>array([[[nan, nan, nan, ..., nan, nan, nan],\n",
       "        [nan, nan, nan, ..., nan, nan, nan],\n",
       "        [nan, nan, nan, ..., nan, nan, nan],\n",
       "        ...,\n",
       "        [ 0.,  0.,  0., ...,  0.,  0.,  0.],\n",
       "        [ 0.,  0.,  0., ...,  0.,  0.,  0.],\n",
       "        [ 0.,  0.,  0., ...,  0.,  0.,  0.]],\n",
       "\n",
       "       [[nan, nan, nan, ..., nan, nan, nan],\n",
       "        [nan, nan, nan, ..., nan, nan, nan],\n",
       "        [nan, nan, nan, ..., nan, nan, nan],\n",
       "        ...,\n",
       "        [ 0.,  0.,  0., ...,  0.,  0.,  0.],\n",
       "        [ 0.,  0.,  0., ...,  0.,  0.,  0.],\n",
       "        [ 0.,  0.,  0., ...,  0.,  0.,  0.]],\n",
       "\n",
       "       [[nan, nan, nan, ..., nan, nan, nan],\n",
       "        [nan, nan, nan, ..., nan, nan, nan],\n",
       "        [nan, nan, nan, ..., nan, nan, nan],\n",
       "        ...,\n",
       "...\n",
       "        ...,\n",
       "        [ 0.,  0.,  0., ...,  0.,  0.,  0.],\n",
       "        [ 0.,  0.,  0., ...,  0.,  0.,  0.],\n",
       "        [ 0.,  0.,  0., ...,  0.,  0.,  0.]],\n",
       "\n",
       "       [[nan, nan, nan, ..., nan, nan, nan],\n",
       "        [nan, nan, nan, ..., nan, nan, nan],\n",
       "        [nan, nan, nan, ..., nan, nan, nan],\n",
       "        ...,\n",
       "        [ 0.,  0.,  0., ...,  0.,  0.,  0.],\n",
       "        [ 0.,  0.,  0., ...,  0.,  0.,  0.],\n",
       "        [ 0.,  0.,  0., ...,  0.,  0.,  0.]],\n",
       "\n",
       "       [[nan, nan, nan, ..., nan, nan, nan],\n",
       "        [nan, nan, nan, ..., nan, nan, nan],\n",
       "        [nan, nan, nan, ..., nan, nan, nan],\n",
       "        ...,\n",
       "        [ 0.,  0.,  0., ...,  0.,  0.,  0.],\n",
       "        [ 0.,  0.,  0., ...,  0.,  0.,  0.],\n",
       "        [ 0.,  0.,  0., ...,  0.,  0.,  0.]]], dtype=float32)</pre></div></li></ul></div></li><li class='xr-section-item'><input id='section-d4775763-9789-4e02-84a1-3d2c672183b3' class='xr-section-summary-in' type='checkbox'  checked><label for='section-d4775763-9789-4e02-84a1-3d2c672183b3' class='xr-section-summary' >Attributes: <span>(1)</span></label><div class='xr-section-inline-details'></div><div class='xr-section-details'><dl class='xr-attrs'><dt><span>regrid_method :</span></dt><dd>bilinear</dd></dl></div></li></ul></div></div>"
      ],
      "text/plain": [
       "<xarray.Dataset>\n",
       "Dimensions:  (nlat: 104, nlon: 320, time: 1980)\n",
       "Coordinates:\n",
       "  * time     (time) object 1850-01-15 12:00:00 ... 2014-12-15 12:00:00\n",
       "    lon      (nlat, nlon) float32 320.6 321.7 322.8 323.9 ... nan nan nan nan\n",
       "    lat      (nlat, nlon) float32 30.38 30.38 30.38 30.38 ... nan nan nan nan\n",
       "Dimensions without coordinates: nlat, nlon\n",
       "Data variables:\n",
       "    sic      (time, nlat, nlon) float32 nan nan nan nan nan ... 0.0 0.0 0.0 0.0\n",
       "Attributes:\n",
       "    regrid_method:  bilinear"
      ]
     },
     "execution_count": 27,
     "metadata": {},
     "output_type": "execute_result"
    }
   ],
   "source": [
    "data_cesm2_hist_regrid"
   ]
  },
  {
   "cell_type": "code",
   "execution_count": 28,
   "metadata": {},
   "outputs": [],
   "source": [
    "# data_cesm2_hist_regrid = data_cesm2_hist_regrid.drop('plev')\n",
    "# data_cesm2_hist_regrid"
   ]
  },
  {
   "cell_type": "code",
   "execution_count": 29,
   "metadata": {},
   "outputs": [
    {
     "ename": "ValueError",
     "evalue": "dimensions {'plev'} do not exist. Expected one or more of ('time', 'nlat', 'nlon')",
     "output_type": "error",
     "traceback": [
      "\u001b[0;31m---------------------------------------------------------------------------\u001b[0m",
      "\u001b[0;31mValueError\u001b[0m                                Traceback (most recent call last)",
      "\u001b[0;32m<ipython-input-29-82b5d5b85bfc>\u001b[0m in \u001b[0;36m<module>\u001b[0;34m()\u001b[0m\n\u001b[0;32m----> 1\u001b[0;31m \u001b[0mdata_cesm2_hist_regrid\u001b[0m\u001b[0;34m[\u001b[0m\u001b[0mvar\u001b[0m\u001b[0;34m]\u001b[0m\u001b[0;34m.\u001b[0m\u001b[0misel\u001b[0m\u001b[0;34m(\u001b[0m\u001b[0mtime\u001b[0m\u001b[0;34m=\u001b[0m\u001b[0;36m0\u001b[0m\u001b[0;34m,\u001b[0m\u001b[0mplev\u001b[0m\u001b[0;34m=\u001b[0m\u001b[0;36m0\u001b[0m\u001b[0;34m)\u001b[0m\u001b[0;34m.\u001b[0m\u001b[0mplot\u001b[0m\u001b[0;34m.\u001b[0m\u001b[0mpcolormesh\u001b[0m\u001b[0;34m(\u001b[0m\u001b[0;34m)\u001b[0m\u001b[0;34m\u001b[0m\u001b[0;34m\u001b[0m\u001b[0m\n\u001b[0m",
      "\u001b[0;32m/home/disk/chaos/mkb22/anaconda2/envs/lims_update/lib/python3.6/site-packages/xarray/core/dataarray.py\u001b[0m in \u001b[0;36misel\u001b[0;34m(self, indexers, drop, missing_dims, **indexers_kwargs)\u001b[0m\n\u001b[1;32m   1104\u001b[0m         \u001b[0;31m# lists, or zero or one-dimensional np.ndarray's\u001b[0m\u001b[0;34m\u001b[0m\u001b[0;34m\u001b[0m\u001b[0;34m\u001b[0m\u001b[0m\n\u001b[1;32m   1105\u001b[0m \u001b[0;34m\u001b[0m\u001b[0m\n\u001b[0;32m-> 1106\u001b[0;31m         \u001b[0mvariable\u001b[0m \u001b[0;34m=\u001b[0m \u001b[0mself\u001b[0m\u001b[0;34m.\u001b[0m\u001b[0m_variable\u001b[0m\u001b[0;34m.\u001b[0m\u001b[0misel\u001b[0m\u001b[0;34m(\u001b[0m\u001b[0mindexers\u001b[0m\u001b[0;34m,\u001b[0m \u001b[0mmissing_dims\u001b[0m\u001b[0;34m=\u001b[0m\u001b[0mmissing_dims\u001b[0m\u001b[0;34m)\u001b[0m\u001b[0;34m\u001b[0m\u001b[0;34m\u001b[0m\u001b[0m\n\u001b[0m\u001b[1;32m   1107\u001b[0m \u001b[0;34m\u001b[0m\u001b[0m\n\u001b[1;32m   1108\u001b[0m         \u001b[0mcoords\u001b[0m \u001b[0;34m=\u001b[0m \u001b[0;34m{\u001b[0m\u001b[0;34m}\u001b[0m\u001b[0;34m\u001b[0m\u001b[0;34m\u001b[0m\u001b[0m\n",
      "\u001b[0;32m/home/disk/chaos/mkb22/anaconda2/envs/lims_update/lib/python3.6/site-packages/xarray/core/variable.py\u001b[0m in \u001b[0;36misel\u001b[0;34m(self, indexers, missing_dims, **indexers_kwargs)\u001b[0m\n\u001b[1;32m   1115\u001b[0m         \u001b[0mindexers\u001b[0m \u001b[0;34m=\u001b[0m \u001b[0meither_dict_or_kwargs\u001b[0m\u001b[0;34m(\u001b[0m\u001b[0mindexers\u001b[0m\u001b[0;34m,\u001b[0m \u001b[0mindexers_kwargs\u001b[0m\u001b[0;34m,\u001b[0m \u001b[0;34m\"isel\"\u001b[0m\u001b[0;34m)\u001b[0m\u001b[0;34m\u001b[0m\u001b[0;34m\u001b[0m\u001b[0m\n\u001b[1;32m   1116\u001b[0m \u001b[0;34m\u001b[0m\u001b[0m\n\u001b[0;32m-> 1117\u001b[0;31m         \u001b[0mindexers\u001b[0m \u001b[0;34m=\u001b[0m \u001b[0mdrop_dims_from_indexers\u001b[0m\u001b[0;34m(\u001b[0m\u001b[0mindexers\u001b[0m\u001b[0;34m,\u001b[0m \u001b[0mself\u001b[0m\u001b[0;34m.\u001b[0m\u001b[0mdims\u001b[0m\u001b[0;34m,\u001b[0m \u001b[0mmissing_dims\u001b[0m\u001b[0;34m)\u001b[0m\u001b[0;34m\u001b[0m\u001b[0;34m\u001b[0m\u001b[0m\n\u001b[0m\u001b[1;32m   1118\u001b[0m \u001b[0;34m\u001b[0m\u001b[0m\n\u001b[1;32m   1119\u001b[0m         \u001b[0mkey\u001b[0m \u001b[0;34m=\u001b[0m \u001b[0mtuple\u001b[0m\u001b[0;34m(\u001b[0m\u001b[0mindexers\u001b[0m\u001b[0;34m.\u001b[0m\u001b[0mget\u001b[0m\u001b[0;34m(\u001b[0m\u001b[0mdim\u001b[0m\u001b[0;34m,\u001b[0m \u001b[0mslice\u001b[0m\u001b[0;34m(\u001b[0m\u001b[0;32mNone\u001b[0m\u001b[0;34m)\u001b[0m\u001b[0;34m)\u001b[0m \u001b[0;32mfor\u001b[0m \u001b[0mdim\u001b[0m \u001b[0;32min\u001b[0m \u001b[0mself\u001b[0m\u001b[0;34m.\u001b[0m\u001b[0mdims\u001b[0m\u001b[0;34m)\u001b[0m\u001b[0;34m\u001b[0m\u001b[0;34m\u001b[0m\u001b[0m\n",
      "\u001b[0;32m/home/disk/chaos/mkb22/anaconda2/envs/lims_update/lib/python3.6/site-packages/xarray/core/utils.py\u001b[0m in \u001b[0;36mdrop_dims_from_indexers\u001b[0;34m(indexers, dims, missing_dims)\u001b[0m\n\u001b[1;32m    767\u001b[0m         \u001b[0;32mif\u001b[0m \u001b[0minvalid\u001b[0m\u001b[0;34m:\u001b[0m\u001b[0;34m\u001b[0m\u001b[0;34m\u001b[0m\u001b[0m\n\u001b[1;32m    768\u001b[0m             raise ValueError(\n\u001b[0;32m--> 769\u001b[0;31m                 \u001b[0;34mf\"dimensions {invalid} do not exist. Expected one or more of {dims}\"\u001b[0m\u001b[0;34m\u001b[0m\u001b[0;34m\u001b[0m\u001b[0m\n\u001b[0m\u001b[1;32m    770\u001b[0m             )\n\u001b[1;32m    771\u001b[0m \u001b[0;34m\u001b[0m\u001b[0m\n",
      "\u001b[0;31mValueError\u001b[0m: dimensions {'plev'} do not exist. Expected one or more of ('time', 'nlat', 'nlon')"
     ]
    }
   ],
   "source": [
    "data_cesm2_hist_regrid[var].isel(time=0,plev=0).plot.pcolormesh()"
   ]
  },
  {
   "cell_type": "code",
   "execution_count": null,
   "metadata": {},
   "outputs": [],
   "source": [
    "data_cesm2_hist[var].isel(time=0,plev=0).plot.pcolormesh()"
   ]
  },
  {
   "cell_type": "code",
   "execution_count": null,
   "metadata": {},
   "outputs": [],
   "source": [
    "filename_cesm2_hist = {'tas':'tas_Amon_CESM2_historical_r1i1p1f1_regridLME_185001-201412.nc',\n",
    "                       'zg':'zg_500_Amon_CESM2_historical_r1i1p1f1_regridLME_185001-201412.nc',\n",
    "                       'psl':'psl_Amon_CESM2_historical_r1i1p1f1_regridLME_185001-201412.nc'}"
   ]
  },
  {
   "cell_type": "code",
   "execution_count": null,
   "metadata": {},
   "outputs": [],
   "source": [
    "# print('Saving regridded file in: '+fdic_cesm2_hist['fpath']+filename_cesm2_hist[var])\n",
    "# data_cesm2_hist_regrid.to_netcdf(fdic_cesm2_hist['fpath']+filename_cesm2_hist[var])"
   ]
  },
  {
   "cell_type": "markdown",
   "metadata": {},
   "source": [
    "## GFDL Historical to CESM LME"
   ]
  },
  {
   "cell_type": "code",
   "execution_count": null,
   "metadata": {},
   "outputs": [],
   "source": [
    "var = 'zg'\n",
    "data_cesm_lme = xr.open_dataset(fdic_cesm_lme[var])\n",
    "data_gfdl_hist = xr.open_dataset(fdic_gfdl_hist[var])"
   ]
  },
  {
   "cell_type": "code",
   "execution_count": null,
   "metadata": {},
   "outputs": [],
   "source": [
    "data_gfdl_hist"
   ]
  },
  {
   "cell_type": "code",
   "execution_count": null,
   "metadata": {},
   "outputs": [],
   "source": [
    "data_cesm_lme"
   ]
  },
  {
   "cell_type": "code",
   "execution_count": null,
   "metadata": {},
   "outputs": [],
   "source": [
    "data_gfdl_hist = data_gfdl_hist.drop('lat_bnds')\n",
    "data_gfdl_hist = data_gfdl_hist.drop('lon_bnds')\n",
    "data_gfdl_hist = data_gfdl_hist.drop('time_bnds')\n",
    "data_gfdl_hist = data_gfdl_hist.drop('plev')\n",
    "#data_gfdl_hist = data_gfdl_hist.drop('GEOLON')\n",
    "data_gfdl_hist"
   ]
  },
  {
   "cell_type": "code",
   "execution_count": null,
   "metadata": {},
   "outputs": [],
   "source": [
    "regridder = xe.Regridder(data_gfdl_hist,data_cesm_lme, 'bilinear', periodic=True,reuse_weights=False)"
   ]
  },
  {
   "cell_type": "code",
   "execution_count": null,
   "metadata": {},
   "outputs": [],
   "source": [
    "data_gfdl_regrid = regridder(data_gfdl_hist)"
   ]
  },
  {
   "cell_type": "code",
   "execution_count": null,
   "metadata": {},
   "outputs": [],
   "source": [
    "data_gfdl_regrid[var].isel(time=0).plot.pcolormesh()"
   ]
  },
  {
   "cell_type": "code",
   "execution_count": null,
   "metadata": {},
   "outputs": [],
   "source": [
    "data_gfdl_hist[var].isel(time=0).plot.pcolormesh()"
   ]
  },
  {
   "cell_type": "code",
   "execution_count": null,
   "metadata": {},
   "outputs": [],
   "source": [
    "filename_gfdl = {'sic':'sic_SImon_GFDL-ESM4_historical_r1i1p1f1_regridlme_185001-201412.nc',\n",
    "                 'tos':'tos_Omon_GFDL-ESM4_historical_r1i1p1f1_regridlme_185001-201412.nc',\n",
    "                 'tas':'tas_Amon_GFDL-ESM4_historical_r1i1p1f1_regridlme_185001-201412.nc',\n",
    "                 'zg':'zg_500hPa_Amon_GFDL-ESM4_historical_r1i1p1f1_regridlme_185001-201412.nc',\n",
    "                 'psl':'psl_Amon_GFDL-ESM4_historical_r1i1p1f1_regridlme_185001-201412.nc',\n",
    "                 'sit':'sit_SImon_GFDL-ESM4_historical_r1i1p1f1_regridlme_185001-201412.nc'}"
   ]
  },
  {
   "cell_type": "code",
   "execution_count": null,
   "metadata": {},
   "outputs": [],
   "source": [
    "print('Saving regridded file in: '+fdic_gfdl_hist['fpath']+filename_gfdl[var])\n",
    "data_gfdl_regrid.to_netcdf(fdic_gfdl_hist['fpath']+filename_gfdl[var])"
   ]
  },
  {
   "cell_type": "markdown",
   "metadata": {},
   "source": [
    "# MPI simulations have the coarsest grid\n",
    "  \n",
    "Regrid everything onto that grid for comparison.  \n",
    "220 x 256"
   ]
  },
  {
   "cell_type": "markdown",
   "metadata": {},
   "source": [
    "## CESM LME to MPI Historical (cmip6) grid: "
   ]
  },
  {
   "cell_type": "code",
   "execution_count": null,
   "metadata": {},
   "outputs": [],
   "source": [
    "filename_cesm_lme = {'sic':'sic_SImon_CESM_LME_nh_002_regrid_mpihist_085001-200512.nc',\n",
    "                     'tos':'tos_sfc_Omon_CESM_LMEallforc_002_regrid_mpihist_085001-200512.nc',\n",
    "                     'tas':'tas_sfc_Amon_CESM_LMEallforc_002_regrid_mpihist_085001-200512.nc',\n",
    "                     'zg':'zg_500hPa_Amon_CESM_LMEallforc_002_regrid_mpihist_085001-200512.nc',\n",
    "                     'psl':'psl_sfc_Amon_CESM_LMEallforc_002_regrid_mpihist_085001-200512.nc',\n",
    "                     'sit':'sit_SImon_CESM_LME_nh_002_regrid_mpihist_085001-200512.nc'}"
   ]
  },
  {
   "cell_type": "code",
   "execution_count": null,
   "metadata": {},
   "outputs": [],
   "source": [
    "var = 'zg'\n",
    "data_cesm_lme = xr.open_dataset(fdic_cesm_lme[var])\n",
    "data_mpi_hist = xr.open_dataset(fdic_mpi_hist[var])"
   ]
  },
  {
   "cell_type": "code",
   "execution_count": null,
   "metadata": {},
   "outputs": [],
   "source": [
    "regridder = xe.Regridder(data_cesm_lme, data_mpi_hist, 'bilinear', periodic=True,reuse_weights=False)"
   ]
  },
  {
   "cell_type": "code",
   "execution_count": null,
   "metadata": {},
   "outputs": [],
   "source": [
    "data_mpi_hist"
   ]
  },
  {
   "cell_type": "code",
   "execution_count": null,
   "metadata": {},
   "outputs": [],
   "source": [
    "data_cesm_lme = data_cesm_lme.drop('time_bnds')\n",
    "data_cesm_lme\n",
    "\n",
    "# data_mpi_hist = data_mpi_hist.drop('time_bnds')\n",
    "# data_mpi_hist = data_mpi_hist.drop('vertices_latitude')\n",
    "# data_mpi_hist = data_mpi_hist.drop('vertices_longitude')"
   ]
  },
  {
   "cell_type": "code",
   "execution_count": null,
   "metadata": {},
   "outputs": [],
   "source": [
    "data_cesm_lme_regrid = regridder(data_cesm_lme)"
   ]
  },
  {
   "cell_type": "code",
   "execution_count": null,
   "metadata": {},
   "outputs": [],
   "source": [
    "data_cesm_lme_regrid "
   ]
  },
  {
   "cell_type": "code",
   "execution_count": null,
   "metadata": {},
   "outputs": [],
   "source": [
    "data_cesm_lme_regrid[var].isel(time=0).plot.pcolormesh()"
   ]
  },
  {
   "cell_type": "code",
   "execution_count": null,
   "metadata": {},
   "outputs": [],
   "source": [
    "data_cesm_lme[var].isel(time=0).plot.pcolormesh()"
   ]
  },
  {
   "cell_type": "code",
   "execution_count": null,
   "metadata": {},
   "outputs": [],
   "source": [
    "print('Saving regridded file in: '+fdic_cesm_lme['fpath']+filename_cesm_lme[var])\n",
    "data_cesm_lme_regrid.to_netcdf(fdic_cesm_lme['fpath']+filename_cesm_lme[var])"
   ]
  },
  {
   "cell_type": "markdown",
   "metadata": {},
   "source": [
    "## CESM LME to all Atmospheric grid: "
   ]
  },
  {
   "cell_type": "code",
   "execution_count": null,
   "metadata": {},
   "outputs": [],
   "source": [
    "var = 'sit'\n",
    "data_cesm_lme_atmos = xr.open_dataset(fdic_cesm_lme['tas'])\n",
    "data_cesm_lme_ocean = xr.open_dataset(fdic_cesm_lme[var])"
   ]
  },
  {
   "cell_type": "code",
   "execution_count": null,
   "metadata": {},
   "outputs": [],
   "source": [
    "regridder = xe.Regridder(data_cesm_lme_ocean, data_cesm_lme_atmos, 'bilinear', periodic=True,reuse_weights=False)"
   ]
  },
  {
   "cell_type": "code",
   "execution_count": null,
   "metadata": {},
   "outputs": [],
   "source": [
    "data_cesm_lme_ocean = data_cesm_lme_ocean.drop('latt_bounds')\n",
    "data_cesm_lme_ocean = data_cesm_lme_ocean.drop('lont_bounds')\n",
    "data_cesm_lme_ocean = data_cesm_lme_ocean.drop('time_bounds')\n",
    "# data_cesm_lme_ocean = data_cesm_lme_ocean.drop('tarea')\n",
    "# data_cesm_lme_ocean = data_cesm_lme_ocean.drop('tmask')\n",
    "data_cesm_lme_ocean = data_cesm_lme_ocean.assign_coords({'lon':data_cesm_lme_ocean.lon,\n",
    "                                                         'lat':data_cesm_lme_ocean.lat})\n",
    "\n",
    "data_cesm_lme_ocean"
   ]
  },
  {
   "cell_type": "code",
   "execution_count": null,
   "metadata": {},
   "outputs": [],
   "source": [
    "data_cesm_lme_regrid = regridder(data_cesm_lme_ocean)"
   ]
  },
  {
   "cell_type": "code",
   "execution_count": null,
   "metadata": {},
   "outputs": [],
   "source": [
    "data_cesm_lme_regrid[var].isel(time=0).plot.pcolormesh(vmax=50)"
   ]
  },
  {
   "cell_type": "code",
   "execution_count": null,
   "metadata": {},
   "outputs": [],
   "source": [
    "data_cesm_lme_ocean[var].isel(time=0).plot.pcolormesh(vmax=50)"
   ]
  },
  {
   "cell_type": "code",
   "execution_count": null,
   "metadata": {},
   "outputs": [],
   "source": [
    "data_cesm_lme_regrid"
   ]
  },
  {
   "cell_type": "code",
   "execution_count": null,
   "metadata": {},
   "outputs": [],
   "source": [
    "filename_cesm_lme = {'sic':'sic_SImon_CESM_LME_nh_002_regrid_Amon_085001-200512.nc',\n",
    "                     'tos':'tos_sfc_Omon_CESM_LMEallforc_002_regrid_Amon_085001-200512.nc',\n",
    "                     'sit':'sit_SImon_CESM_LME_nh_002_regrid_Amon_085001-200512.nc'}"
   ]
  },
  {
   "cell_type": "code",
   "execution_count": null,
   "metadata": {},
   "outputs": [],
   "source": [
    "print('Saving regridded file in: '+fdic_cesm_lme['fpath']+filename_cesm_lme[var])\n",
    "data_cesm_lme_regrid.to_netcdf(fdic_cesm_lme['fpath']+filename_cesm_lme[var])"
   ]
  },
  {
   "cell_type": "markdown",
   "metadata": {},
   "source": [
    "## CESM2 Historical to all Atmospheric grid: "
   ]
  },
  {
   "cell_type": "code",
   "execution_count": 43,
   "metadata": {},
   "outputs": [
    {
     "name": "stderr",
     "output_type": "stream",
     "text": [
      "/home/disk/chaos/mkb22/anaconda2/envs/lims_update/lib/python3.6/site-packages/xarray/conventions.py:500: SerializationWarning: variable 'sic' has multiple fill values {1e+20, 1e+20}, decoding all values to NaN.\n",
      "  decode_timedelta=decode_timedelta,\n"
     ]
    }
   ],
   "source": [
    "var = 'sic'\n",
    "data_cesm_lme_atmos = xr.open_dataset(fdic_cesm_lme['tas'])\n",
    "data_cesm2_hist_ocean = xr.open_dataset(fdic_cesm2_hist[var])"
   ]
  },
  {
   "cell_type": "code",
   "execution_count": 44,
   "metadata": {},
   "outputs": [
    {
     "name": "stderr",
     "output_type": "stream",
     "text": [
      "/home/disk/chaos/mkb22/anaconda2/envs/lims_update/lib/python3.6/site-packages/xesmf/backend.py:53: UserWarning: Latitude is outside of [-90, 90]\n",
      "  warnings.warn('Latitude is outside of [-90, 90]')\n"
     ]
    }
   ],
   "source": [
    "regridder = xe.Regridder(data_cesm2_hist_ocean, data_cesm_lme_atmos, 'bilinear',\n",
    "                         periodic=True,reuse_weights=False,ignore_degenerate=True)"
   ]
  },
  {
   "cell_type": "code",
   "execution_count": 53,
   "metadata": {},
   "outputs": [
    {
     "data": {
      "text/html": [
       "<div><svg style=\"position: absolute; width: 0; height: 0; overflow: hidden\">\n",
       "<defs>\n",
       "<symbol id=\"icon-database\" viewBox=\"0 0 32 32\">\n",
       "<path d=\"M16 0c-8.837 0-16 2.239-16 5v4c0 2.761 7.163 5 16 5s16-2.239 16-5v-4c0-2.761-7.163-5-16-5z\"></path>\n",
       "<path d=\"M16 17c-8.837 0-16-2.239-16-5v6c0 2.761 7.163 5 16 5s16-2.239 16-5v-6c0 2.761-7.163 5-16 5z\"></path>\n",
       "<path d=\"M16 26c-8.837 0-16-2.239-16-5v6c0 2.761 7.163 5 16 5s16-2.239 16-5v-6c0 2.761-7.163 5-16 5z\"></path>\n",
       "</symbol>\n",
       "<symbol id=\"icon-file-text2\" viewBox=\"0 0 32 32\">\n",
       "<path d=\"M28.681 7.159c-0.694-0.947-1.662-2.053-2.724-3.116s-2.169-2.030-3.116-2.724c-1.612-1.182-2.393-1.319-2.841-1.319h-15.5c-1.378 0-2.5 1.121-2.5 2.5v27c0 1.378 1.122 2.5 2.5 2.5h23c1.378 0 2.5-1.122 2.5-2.5v-19.5c0-0.448-0.137-1.23-1.319-2.841zM24.543 5.457c0.959 0.959 1.712 1.825 2.268 2.543h-4.811v-4.811c0.718 0.556 1.584 1.309 2.543 2.268zM28 29.5c0 0.271-0.229 0.5-0.5 0.5h-23c-0.271 0-0.5-0.229-0.5-0.5v-27c0-0.271 0.229-0.5 0.5-0.5 0 0 15.499-0 15.5 0v7c0 0.552 0.448 1 1 1h7v19.5z\"></path>\n",
       "<path d=\"M23 26h-14c-0.552 0-1-0.448-1-1s0.448-1 1-1h14c0.552 0 1 0.448 1 1s-0.448 1-1 1z\"></path>\n",
       "<path d=\"M23 22h-14c-0.552 0-1-0.448-1-1s0.448-1 1-1h14c0.552 0 1 0.448 1 1s-0.448 1-1 1z\"></path>\n",
       "<path d=\"M23 18h-14c-0.552 0-1-0.448-1-1s0.448-1 1-1h14c0.552 0 1 0.448 1 1s-0.448 1-1 1z\"></path>\n",
       "</symbol>\n",
       "</defs>\n",
       "</svg>\n",
       "<style>/* CSS stylesheet for displaying xarray objects in jupyterlab.\n",
       " *\n",
       " */\n",
       "\n",
       ":root {\n",
       "  --xr-font-color0: var(--jp-content-font-color0, rgba(0, 0, 0, 1));\n",
       "  --xr-font-color2: var(--jp-content-font-color2, rgba(0, 0, 0, 0.54));\n",
       "  --xr-font-color3: var(--jp-content-font-color3, rgba(0, 0, 0, 0.38));\n",
       "  --xr-border-color: var(--jp-border-color2, #e0e0e0);\n",
       "  --xr-disabled-color: var(--jp-layout-color3, #bdbdbd);\n",
       "  --xr-background-color: var(--jp-layout-color0, white);\n",
       "  --xr-background-color-row-even: var(--jp-layout-color1, white);\n",
       "  --xr-background-color-row-odd: var(--jp-layout-color2, #eeeeee);\n",
       "}\n",
       "\n",
       "html[theme=dark],\n",
       "body.vscode-dark {\n",
       "  --xr-font-color0: rgba(255, 255, 255, 1);\n",
       "  --xr-font-color2: rgba(255, 255, 255, 0.54);\n",
       "  --xr-font-color3: rgba(255, 255, 255, 0.38);\n",
       "  --xr-border-color: #1F1F1F;\n",
       "  --xr-disabled-color: #515151;\n",
       "  --xr-background-color: #111111;\n",
       "  --xr-background-color-row-even: #111111;\n",
       "  --xr-background-color-row-odd: #313131;\n",
       "}\n",
       "\n",
       ".xr-wrap {\n",
       "  display: block;\n",
       "  min-width: 300px;\n",
       "  max-width: 700px;\n",
       "}\n",
       "\n",
       ".xr-text-repr-fallback {\n",
       "  /* fallback to plain text repr when CSS is not injected (untrusted notebook) */\n",
       "  display: none;\n",
       "}\n",
       "\n",
       ".xr-header {\n",
       "  padding-top: 6px;\n",
       "  padding-bottom: 6px;\n",
       "  margin-bottom: 4px;\n",
       "  border-bottom: solid 1px var(--xr-border-color);\n",
       "}\n",
       "\n",
       ".xr-header > div,\n",
       ".xr-header > ul {\n",
       "  display: inline;\n",
       "  margin-top: 0;\n",
       "  margin-bottom: 0;\n",
       "}\n",
       "\n",
       ".xr-obj-type,\n",
       ".xr-array-name {\n",
       "  margin-left: 2px;\n",
       "  margin-right: 10px;\n",
       "}\n",
       "\n",
       ".xr-obj-type {\n",
       "  color: var(--xr-font-color2);\n",
       "}\n",
       "\n",
       ".xr-sections {\n",
       "  padding-left: 0 !important;\n",
       "  display: grid;\n",
       "  grid-template-columns: 150px auto auto 1fr 20px 20px;\n",
       "}\n",
       "\n",
       ".xr-section-item {\n",
       "  display: contents;\n",
       "}\n",
       "\n",
       ".xr-section-item input {\n",
       "  display: none;\n",
       "}\n",
       "\n",
       ".xr-section-item input + label {\n",
       "  color: var(--xr-disabled-color);\n",
       "}\n",
       "\n",
       ".xr-section-item input:enabled + label {\n",
       "  cursor: pointer;\n",
       "  color: var(--xr-font-color2);\n",
       "}\n",
       "\n",
       ".xr-section-item input:enabled + label:hover {\n",
       "  color: var(--xr-font-color0);\n",
       "}\n",
       "\n",
       ".xr-section-summary {\n",
       "  grid-column: 1;\n",
       "  color: var(--xr-font-color2);\n",
       "  font-weight: 500;\n",
       "}\n",
       "\n",
       ".xr-section-summary > span {\n",
       "  display: inline-block;\n",
       "  padding-left: 0.5em;\n",
       "}\n",
       "\n",
       ".xr-section-summary-in:disabled + label {\n",
       "  color: var(--xr-font-color2);\n",
       "}\n",
       "\n",
       ".xr-section-summary-in + label:before {\n",
       "  display: inline-block;\n",
       "  content: '►';\n",
       "  font-size: 11px;\n",
       "  width: 15px;\n",
       "  text-align: center;\n",
       "}\n",
       "\n",
       ".xr-section-summary-in:disabled + label:before {\n",
       "  color: var(--xr-disabled-color);\n",
       "}\n",
       "\n",
       ".xr-section-summary-in:checked + label:before {\n",
       "  content: '▼';\n",
       "}\n",
       "\n",
       ".xr-section-summary-in:checked + label > span {\n",
       "  display: none;\n",
       "}\n",
       "\n",
       ".xr-section-summary,\n",
       ".xr-section-inline-details {\n",
       "  padding-top: 4px;\n",
       "  padding-bottom: 4px;\n",
       "}\n",
       "\n",
       ".xr-section-inline-details {\n",
       "  grid-column: 2 / -1;\n",
       "}\n",
       "\n",
       ".xr-section-details {\n",
       "  display: none;\n",
       "  grid-column: 1 / -1;\n",
       "  margin-bottom: 5px;\n",
       "}\n",
       "\n",
       ".xr-section-summary-in:checked ~ .xr-section-details {\n",
       "  display: contents;\n",
       "}\n",
       "\n",
       ".xr-array-wrap {\n",
       "  grid-column: 1 / -1;\n",
       "  display: grid;\n",
       "  grid-template-columns: 20px auto;\n",
       "}\n",
       "\n",
       ".xr-array-wrap > label {\n",
       "  grid-column: 1;\n",
       "  vertical-align: top;\n",
       "}\n",
       "\n",
       ".xr-preview {\n",
       "  color: var(--xr-font-color3);\n",
       "}\n",
       "\n",
       ".xr-array-preview,\n",
       ".xr-array-data {\n",
       "  padding: 0 5px !important;\n",
       "  grid-column: 2;\n",
       "}\n",
       "\n",
       ".xr-array-data,\n",
       ".xr-array-in:checked ~ .xr-array-preview {\n",
       "  display: none;\n",
       "}\n",
       "\n",
       ".xr-array-in:checked ~ .xr-array-data,\n",
       ".xr-array-preview {\n",
       "  display: inline-block;\n",
       "}\n",
       "\n",
       ".xr-dim-list {\n",
       "  display: inline-block !important;\n",
       "  list-style: none;\n",
       "  padding: 0 !important;\n",
       "  margin: 0;\n",
       "}\n",
       "\n",
       ".xr-dim-list li {\n",
       "  display: inline-block;\n",
       "  padding: 0;\n",
       "  margin: 0;\n",
       "}\n",
       "\n",
       ".xr-dim-list:before {\n",
       "  content: '(';\n",
       "}\n",
       "\n",
       ".xr-dim-list:after {\n",
       "  content: ')';\n",
       "}\n",
       "\n",
       ".xr-dim-list li:not(:last-child):after {\n",
       "  content: ',';\n",
       "  padding-right: 5px;\n",
       "}\n",
       "\n",
       ".xr-has-index {\n",
       "  font-weight: bold;\n",
       "}\n",
       "\n",
       ".xr-var-list,\n",
       ".xr-var-item {\n",
       "  display: contents;\n",
       "}\n",
       "\n",
       ".xr-var-item > div,\n",
       ".xr-var-item label,\n",
       ".xr-var-item > .xr-var-name span {\n",
       "  background-color: var(--xr-background-color-row-even);\n",
       "  margin-bottom: 0;\n",
       "}\n",
       "\n",
       ".xr-var-item > .xr-var-name:hover span {\n",
       "  padding-right: 5px;\n",
       "}\n",
       "\n",
       ".xr-var-list > li:nth-child(odd) > div,\n",
       ".xr-var-list > li:nth-child(odd) > label,\n",
       ".xr-var-list > li:nth-child(odd) > .xr-var-name span {\n",
       "  background-color: var(--xr-background-color-row-odd);\n",
       "}\n",
       "\n",
       ".xr-var-name {\n",
       "  grid-column: 1;\n",
       "}\n",
       "\n",
       ".xr-var-dims {\n",
       "  grid-column: 2;\n",
       "}\n",
       "\n",
       ".xr-var-dtype {\n",
       "  grid-column: 3;\n",
       "  text-align: right;\n",
       "  color: var(--xr-font-color2);\n",
       "}\n",
       "\n",
       ".xr-var-preview {\n",
       "  grid-column: 4;\n",
       "}\n",
       "\n",
       ".xr-var-name,\n",
       ".xr-var-dims,\n",
       ".xr-var-dtype,\n",
       ".xr-preview,\n",
       ".xr-attrs dt {\n",
       "  white-space: nowrap;\n",
       "  overflow: hidden;\n",
       "  text-overflow: ellipsis;\n",
       "  padding-right: 10px;\n",
       "}\n",
       "\n",
       ".xr-var-name:hover,\n",
       ".xr-var-dims:hover,\n",
       ".xr-var-dtype:hover,\n",
       ".xr-attrs dt:hover {\n",
       "  overflow: visible;\n",
       "  width: auto;\n",
       "  z-index: 1;\n",
       "}\n",
       "\n",
       ".xr-var-attrs,\n",
       ".xr-var-data {\n",
       "  display: none;\n",
       "  background-color: var(--xr-background-color) !important;\n",
       "  padding-bottom: 5px !important;\n",
       "}\n",
       "\n",
       ".xr-var-attrs-in:checked ~ .xr-var-attrs,\n",
       ".xr-var-data-in:checked ~ .xr-var-data {\n",
       "  display: block;\n",
       "}\n",
       "\n",
       ".xr-var-data > table {\n",
       "  float: right;\n",
       "}\n",
       "\n",
       ".xr-var-name span,\n",
       ".xr-var-data,\n",
       ".xr-attrs {\n",
       "  padding-left: 25px !important;\n",
       "}\n",
       "\n",
       ".xr-attrs,\n",
       ".xr-var-attrs,\n",
       ".xr-var-data {\n",
       "  grid-column: 1 / -1;\n",
       "}\n",
       "\n",
       "dl.xr-attrs {\n",
       "  padding: 0;\n",
       "  margin: 0;\n",
       "  display: grid;\n",
       "  grid-template-columns: 125px auto;\n",
       "}\n",
       "\n",
       ".xr-attrs dt,\n",
       ".xr-attrs dd {\n",
       "  padding: 0;\n",
       "  margin: 0;\n",
       "  float: left;\n",
       "  padding-right: 10px;\n",
       "  width: auto;\n",
       "}\n",
       "\n",
       ".xr-attrs dt {\n",
       "  font-weight: normal;\n",
       "  grid-column: 1;\n",
       "}\n",
       "\n",
       ".xr-attrs dt:hover span {\n",
       "  display: inline-block;\n",
       "  background: var(--xr-background-color);\n",
       "  padding-right: 10px;\n",
       "}\n",
       "\n",
       ".xr-attrs dd {\n",
       "  grid-column: 2;\n",
       "  white-space: pre-wrap;\n",
       "  word-break: break-all;\n",
       "}\n",
       "\n",
       ".xr-icon-database,\n",
       ".xr-icon-file-text2 {\n",
       "  display: inline-block;\n",
       "  vertical-align: middle;\n",
       "  width: 1em;\n",
       "  height: 1.5em !important;\n",
       "  stroke-width: 0;\n",
       "  stroke: currentColor;\n",
       "  fill: currentColor;\n",
       "}\n",
       "</style><pre class='xr-text-repr-fallback'>&lt;xarray.Dataset&gt;\n",
       "Dimensions:  (nlat,: 384, nlon,: 320, time: 1980)\n",
       "Coordinates:\n",
       "    lat      (nlat,, nlon,) float64 -79.22 -79.22 -79.22 ... 9.969e+36 9.969e+36\n",
       "    lon      (nlat,, nlon,) float64 320.6 321.7 322.8 ... 9.969e+36 9.969e+36\n",
       "  * time     (time) object 1850-01-15 12:00:00 ... 2014-12-15 12:00:00\n",
       "    nlon     (nlon,) int32 1 2 3 4 5 6 7 8 9 ... 313 314 315 316 317 318 319 320\n",
       "    nlat     (nlat,) int32 1 2 3 4 5 6 7 8 9 ... 377 378 379 380 381 382 383 384\n",
       "Dimensions without coordinates: nlat,, nlon,\n",
       "Data variables:\n",
       "    sic      (time, nlat,, nlon,) float32 ...\n",
       "Attributes:\n",
       "    Conventions:            CF-1.7 CMIP-6.2\n",
       "    activity_id:            CMIP\n",
       "    case_id:                15\n",
       "    cesm_casename:          b.e21.BHIST.f09_g17.CMIP6-historical.001\n",
       "    contact:                cesm_cmip6@ucar.edu\n",
       "    creation_date:          2019-01-17T00:39:18Z\n",
       "    data_specs_version:     01.00.29\n",
       "    experiment:             all-forcing simulation of the recent past\n",
       "    experiment_id:          historical\n",
       "    external_variables:     areacello\n",
       "    forcing_index:          1\n",
       "    frequency:              mon\n",
       "    grid:                   native gx1v7 displaced pole grid (384x320 latxlon)\n",
       "    grid_label:             gn\n",
       "    initialization_index:   1\n",
       "    institution:            National Center for Atmospheric Research, Climate...\n",
       "    institution_id:         NCAR\n",
       "    license:                CMIP6 model data produced by &lt;The National Center...\n",
       "    mip_era:                CMIP6\n",
       "    model_doi_url:          https://doi.org/10.5065/D67H1H0V\n",
       "    nominal_resolution:     100 km\n",
       "    parent_activity_id:     CMIP\n",
       "    parent_experiment_id:   piControl\n",
       "    parent_mip_era:         CMIP6\n",
       "    parent_source_id:       CESM2\n",
       "    parent_time_units:      days since 0001-01-01 00:00:00\n",
       "    parent_variant_label:   r1i1p1f1\n",
       "    physics_index:          1\n",
       "    product:                model-output\n",
       "    realization_index:      1\n",
       "    realm:                  seaIce\n",
       "    source:                 CESM2 (2017): atmosphere: CAM6 (0.9x1.25 finite v...\n",
       "    source_id:              CESM2\n",
       "    source_type:            AOGCM BGC\n",
       "    table_id:               SImon\n",
       "    tracking_id:            hdl:21.14100/0cf7c082-6ec3-410e-9840-f4d0e7aa6da6\n",
       "    variable_id:            siconc\n",
       "    variant_info:           CMIP6 20th century experiments (1850-2014) with C...\n",
       "    variant_label:          r1i1p1f1\n",
       "    sub_experiment:         none\n",
       "    sub_experiment_id:      none\n",
       "    branch_time_in_parent:  219000.0\n",
       "    branch_time_in_child:   674885.0\n",
       "    branch_method:          standard\n",
       "    further_info_url:       https://furtherinfo.es-doc.org/CMIP6.NCAR.CESM2.h...</pre><div class='xr-wrap' hidden><div class='xr-header'><div class='xr-obj-type'>xarray.Dataset</div></div><ul class='xr-sections'><li class='xr-section-item'><input id='section-61f76b22-eb16-49a2-9b2b-f1899771914f' class='xr-section-summary-in' type='checkbox' disabled ><label for='section-61f76b22-eb16-49a2-9b2b-f1899771914f' class='xr-section-summary'  title='Expand/collapse section'>Dimensions:</label><div class='xr-section-inline-details'><ul class='xr-dim-list'><li><span>nlat,</span>: 384</li><li><span>nlon,</span>: 320</li><li><span class='xr-has-index'>time</span>: 1980</li></ul></div><div class='xr-section-details'></div></li><li class='xr-section-item'><input id='section-9d04c652-9186-40d8-88f7-f5b7feb66450' class='xr-section-summary-in' type='checkbox'  checked><label for='section-9d04c652-9186-40d8-88f7-f5b7feb66450' class='xr-section-summary' >Coordinates: <span>(5)</span></label><div class='xr-section-inline-details'></div><div class='xr-section-details'><ul class='xr-var-list'><li class='xr-var-item'><div class='xr-var-name'><span>lat</span></div><div class='xr-var-dims'>(nlat,, nlon,)</div><div class='xr-var-dtype'>float64</div><div class='xr-var-preview xr-preview'>-79.22 -79.22 ... 9.969e+36</div><input id='attrs-16b1c9ca-79ea-4c7e-bd75-d99975c2f4c3' class='xr-var-attrs-in' type='checkbox' ><label for='attrs-16b1c9ca-79ea-4c7e-bd75-d99975c2f4c3' title='Show/Hide attributes'><svg class='icon xr-icon-file-text2'><use xlink:href='#icon-file-text2'></use></svg></label><input id='data-923cd7c2-b78e-4867-a076-0f4ba476d199' class='xr-var-data-in' type='checkbox'><label for='data-923cd7c2-b78e-4867-a076-0f4ba476d199' title='Show/Hide data repr'><svg class='icon xr-icon-database'><use xlink:href='#icon-database'></use></svg></label><div class='xr-var-attrs'><dl class='xr-attrs'><dt><span>axis :</span></dt><dd>Y</dd><dt><span>bounds :</span></dt><dd>lat_bnds</dd><dt><span>standard_name :</span></dt><dd>latitude</dd><dt><span>title :</span></dt><dd>Latitude</dd><dt><span>type :</span></dt><dd>double</dd><dt><span>units :</span></dt><dd>degrees_north</dd><dt><span>valid_max :</span></dt><dd>90.0</dd><dt><span>valid_min :</span></dt><dd>-90.0</dd></dl></div><div class='xr-var-data'><pre>array([[-7.922052e+01, -7.922052e+01, -7.922052e+01, ..., -7.922052e+01,\n",
       "        -7.922052e+01, -7.922052e+01],\n",
       "       [-7.868631e+01, -7.868631e+01, -7.868631e+01, ..., -7.868631e+01,\n",
       "        -7.868631e+01, -7.868631e+01],\n",
       "       [-7.815209e+01, -7.815209e+01, -7.815209e+01, ..., -7.815209e+01,\n",
       "        -7.815209e+01, -7.815209e+01],\n",
       "       ...,\n",
       "       [ 9.969210e+36,  9.969210e+36,  9.969210e+36, ...,  9.969210e+36,\n",
       "         9.969210e+36,  9.969210e+36],\n",
       "       [ 9.969210e+36,  9.969210e+36,  9.969210e+36, ...,  9.969210e+36,\n",
       "         9.969210e+36,  9.969210e+36],\n",
       "       [ 9.969210e+36,  9.969210e+36,  9.969210e+36, ...,  9.969210e+36,\n",
       "         9.969210e+36,  9.969210e+36]])</pre></div></li><li class='xr-var-item'><div class='xr-var-name'><span>lon</span></div><div class='xr-var-dims'>(nlat,, nlon,)</div><div class='xr-var-dtype'>float64</div><div class='xr-var-preview xr-preview'>320.6 321.7 ... 9.969e+36 9.969e+36</div><input id='attrs-c0ebb6a4-82a8-4d98-8e04-309ca774ae02' class='xr-var-attrs-in' type='checkbox' ><label for='attrs-c0ebb6a4-82a8-4d98-8e04-309ca774ae02' title='Show/Hide attributes'><svg class='icon xr-icon-file-text2'><use xlink:href='#icon-file-text2'></use></svg></label><input id='data-1ec89ad6-12d7-44e8-a65b-167975ea784e' class='xr-var-data-in' type='checkbox'><label for='data-1ec89ad6-12d7-44e8-a65b-167975ea784e' title='Show/Hide data repr'><svg class='icon xr-icon-database'><use xlink:href='#icon-database'></use></svg></label><div class='xr-var-attrs'><dl class='xr-attrs'><dt><span>axis :</span></dt><dd>X</dd><dt><span>bounds :</span></dt><dd>lon_bnds</dd><dt><span>standard_name :</span></dt><dd>longitude</dd><dt><span>title :</span></dt><dd>Longitude</dd><dt><span>type :</span></dt><dd>double</dd><dt><span>units :</span></dt><dd>degrees_east</dd><dt><span>valid_max :</span></dt><dd>360.0</dd><dt><span>valid_min :</span></dt><dd>0.0</dd></dl></div><div class='xr-var-data'><pre>array([[3.205625e+02, 3.216875e+02, 3.228125e+02, ..., 3.171875e+02,\n",
       "        3.183125e+02, 3.194375e+02],\n",
       "       [3.205625e+02, 3.216875e+02, 3.228125e+02, ..., 3.171875e+02,\n",
       "        3.183125e+02, 3.194375e+02],\n",
       "       [3.205625e+02, 3.216875e+02, 3.228125e+02, ..., 3.171875e+02,\n",
       "        3.183125e+02, 3.194375e+02],\n",
       "       ...,\n",
       "       [9.969210e+36, 9.969210e+36, 9.969210e+36, ..., 9.969210e+36,\n",
       "        9.969210e+36, 9.969210e+36],\n",
       "       [9.969210e+36, 9.969210e+36, 9.969210e+36, ..., 9.969210e+36,\n",
       "        9.969210e+36, 9.969210e+36],\n",
       "       [9.969210e+36, 9.969210e+36, 9.969210e+36, ..., 9.969210e+36,\n",
       "        9.969210e+36, 9.969210e+36]])</pre></div></li><li class='xr-var-item'><div class='xr-var-name'><span class='xr-has-index'>time</span></div><div class='xr-var-dims'>(time)</div><div class='xr-var-dtype'>object</div><div class='xr-var-preview xr-preview'>1850-01-15 12:00:00 ... 2014-12-...</div><input id='attrs-e66c72fb-93f9-491c-b950-3947d096ecb0' class='xr-var-attrs-in' type='checkbox' ><label for='attrs-e66c72fb-93f9-491c-b950-3947d096ecb0' title='Show/Hide attributes'><svg class='icon xr-icon-file-text2'><use xlink:href='#icon-file-text2'></use></svg></label><input id='data-193613e3-8530-44dc-b8dd-03307e82e201' class='xr-var-data-in' type='checkbox'><label for='data-193613e3-8530-44dc-b8dd-03307e82e201' title='Show/Hide data repr'><svg class='icon xr-icon-database'><use xlink:href='#icon-database'></use></svg></label><div class='xr-var-attrs'><dl class='xr-attrs'><dt><span>axis :</span></dt><dd>T</dd><dt><span>bounds :</span></dt><dd>time_bnds</dd><dt><span>standard_name :</span></dt><dd>time</dd><dt><span>title :</span></dt><dd>time</dd><dt><span>type :</span></dt><dd>double</dd></dl></div><div class='xr-var-data'><pre>array([cftime._cftime.DatetimeNoLeap(1850, 1, 15, 12, 0, 0, 0, 4, 15),\n",
       "       cftime._cftime.DatetimeNoLeap(1850, 2, 14, 0, 0, 0, 0, 6, 45),\n",
       "       cftime._cftime.DatetimeNoLeap(1850, 3, 15, 12, 0, 0, 0, 0, 74), ...,\n",
       "       cftime._cftime.DatetimeNoLeap(2014, 10, 15, 12, 0, 0, 0, 0, 288),\n",
       "       cftime._cftime.DatetimeNoLeap(2014, 11, 15, 0, 0, 0, 0, 3, 319),\n",
       "       cftime._cftime.DatetimeNoLeap(2014, 12, 15, 12, 0, 0, 0, 5, 349)],\n",
       "      dtype=object)</pre></div></li><li class='xr-var-item'><div class='xr-var-name'><span>nlon</span></div><div class='xr-var-dims'>(nlon,)</div><div class='xr-var-dtype'>int32</div><div class='xr-var-preview xr-preview'>1 2 3 4 5 6 ... 316 317 318 319 320</div><input id='attrs-8706e325-4799-4bb6-a5e7-b06f5eb66823' class='xr-var-attrs-in' type='checkbox' ><label for='attrs-8706e325-4799-4bb6-a5e7-b06f5eb66823' title='Show/Hide attributes'><svg class='icon xr-icon-file-text2'><use xlink:href='#icon-file-text2'></use></svg></label><input id='data-b5cb6603-225b-422f-9279-33e4cbd79a82' class='xr-var-data-in' type='checkbox'><label for='data-b5cb6603-225b-422f-9279-33e4cbd79a82' title='Show/Hide data repr'><svg class='icon xr-icon-database'><use xlink:href='#icon-database'></use></svg></label><div class='xr-var-attrs'><dl class='xr-attrs'><dt><span>long_name :</span></dt><dd>cell index along second dimension</dd><dt><span>units :</span></dt><dd>1</dd></dl></div><div class='xr-var-data'><pre>array([  1,   2,   3, ..., 318, 319, 320], dtype=int32)</pre></div></li><li class='xr-var-item'><div class='xr-var-name'><span>nlat</span></div><div class='xr-var-dims'>(nlat,)</div><div class='xr-var-dtype'>int32</div><div class='xr-var-preview xr-preview'>1 2 3 4 5 6 ... 380 381 382 383 384</div><input id='attrs-fcd07f2d-7e6b-4216-9dbc-9be871351c4e' class='xr-var-attrs-in' type='checkbox' ><label for='attrs-fcd07f2d-7e6b-4216-9dbc-9be871351c4e' title='Show/Hide attributes'><svg class='icon xr-icon-file-text2'><use xlink:href='#icon-file-text2'></use></svg></label><input id='data-779bb26c-5684-4aee-950d-cff083e80aac' class='xr-var-data-in' type='checkbox'><label for='data-779bb26c-5684-4aee-950d-cff083e80aac' title='Show/Hide data repr'><svg class='icon xr-icon-database'><use xlink:href='#icon-database'></use></svg></label><div class='xr-var-attrs'><dl class='xr-attrs'><dt><span>long_name :</span></dt><dd>cell index along first dimension</dd><dt><span>units :</span></dt><dd>1</dd></dl></div><div class='xr-var-data'><pre>array([  1,   2,   3, ..., 382, 383, 384], dtype=int32)</pre></div></li></ul></div></li><li class='xr-section-item'><input id='section-e4c9d7ce-53ae-4f90-89cb-398df0f6ea57' class='xr-section-summary-in' type='checkbox'  checked><label for='section-e4c9d7ce-53ae-4f90-89cb-398df0f6ea57' class='xr-section-summary' >Data variables: <span>(1)</span></label><div class='xr-section-inline-details'></div><div class='xr-section-details'><ul class='xr-var-list'><li class='xr-var-item'><div class='xr-var-name'><span>sic</span></div><div class='xr-var-dims'>(time, nlat,, nlon,)</div><div class='xr-var-dtype'>float32</div><div class='xr-var-preview xr-preview'>...</div><input id='attrs-37704fd3-b317-42c6-ab15-fe2d587f7442' class='xr-var-attrs-in' type='checkbox' ><label for='attrs-37704fd3-b317-42c6-ab15-fe2d587f7442' title='Show/Hide attributes'><svg class='icon xr-icon-file-text2'><use xlink:href='#icon-file-text2'></use></svg></label><input id='data-8ec766e7-ba56-4701-a175-c2eac010114c' class='xr-var-data-in' type='checkbox'><label for='data-8ec766e7-ba56-4701-a175-c2eac010114c' title='Show/Hide data repr'><svg class='icon xr-icon-database'><use xlink:href='#icon-database'></use></svg></label><div class='xr-var-attrs'><dl class='xr-attrs'><dt><span>cell_measures :</span></dt><dd>area: areacello</dd><dt><span>cell_methods :</span></dt><dd>area: mean where sea time: mean</dd><dt><span>comment :</span></dt><dd>Area fraction of grid cell covered by sea ice</dd><dt><span>description :</span></dt><dd>Area fraction of grid cell covered by sea ice</dd><dt><span>frequency :</span></dt><dd>mon</dd><dt><span>id :</span></dt><dd>siconc</dd><dt><span>long_name :</span></dt><dd>Sea-ice Area Percentage (Ocean Grid)</dd><dt><span>mipTable :</span></dt><dd>SImon</dd><dt><span>out_name :</span></dt><dd>siconc</dd><dt><span>prov :</span></dt><dd>SIMIP [seaicemon]</dd><dt><span>realm :</span></dt><dd>seaIce</dd><dt><span>standard_name :</span></dt><dd>sea_ice_area_fraction</dd><dt><span>time :</span></dt><dd>time</dd><dt><span>time_label :</span></dt><dd>time-mean</dd><dt><span>time_title :</span></dt><dd>Temporal mean</dd><dt><span>title :</span></dt><dd>Sea-ice Area Percentage (Ocean Grid)</dd><dt><span>type :</span></dt><dd>real</dd><dt><span>units :</span></dt><dd>%</dd><dt><span>variable_id :</span></dt><dd>siconc</dd></dl></div><div class='xr-var-data'><pre>[243302400 values with dtype=float32]</pre></div></li></ul></div></li><li class='xr-section-item'><input id='section-043e1f1e-c869-43c8-afa5-95d62242af0e' class='xr-section-summary-in' type='checkbox'  ><label for='section-043e1f1e-c869-43c8-afa5-95d62242af0e' class='xr-section-summary' >Attributes: <span>(45)</span></label><div class='xr-section-inline-details'></div><div class='xr-section-details'><dl class='xr-attrs'><dt><span>Conventions :</span></dt><dd>CF-1.7 CMIP-6.2</dd><dt><span>activity_id :</span></dt><dd>CMIP</dd><dt><span>case_id :</span></dt><dd>15</dd><dt><span>cesm_casename :</span></dt><dd>b.e21.BHIST.f09_g17.CMIP6-historical.001</dd><dt><span>contact :</span></dt><dd>cesm_cmip6@ucar.edu</dd><dt><span>creation_date :</span></dt><dd>2019-01-17T00:39:18Z</dd><dt><span>data_specs_version :</span></dt><dd>01.00.29</dd><dt><span>experiment :</span></dt><dd>all-forcing simulation of the recent past</dd><dt><span>experiment_id :</span></dt><dd>historical</dd><dt><span>external_variables :</span></dt><dd>areacello</dd><dt><span>forcing_index :</span></dt><dd>1</dd><dt><span>frequency :</span></dt><dd>mon</dd><dt><span>grid :</span></dt><dd>native gx1v7 displaced pole grid (384x320 latxlon)</dd><dt><span>grid_label :</span></dt><dd>gn</dd><dt><span>initialization_index :</span></dt><dd>1</dd><dt><span>institution :</span></dt><dd>National Center for Atmospheric Research, Climate and Global Dynamics Laboratory, 1850 Table Mesa Drive, Boulder, CO 80305, USA</dd><dt><span>institution_id :</span></dt><dd>NCAR</dd><dt><span>license :</span></dt><dd>CMIP6 model data produced by &lt;The National Center for Atmospheric Research&gt; is licensed under a Creative Commons Attribution-[]ShareAlike 4.0 International License (https://creativecommons.org/licenses/). Consult https://pcmdi.llnl.gov/CMIP6/TermsOfUse for terms of use governing CMIP6 output, including citation requirements and proper acknowledgment. Further information about this data, including some limitations, can be found via the further_info_url (recorded as a global attribute in this file)[]. The data producers and data providers make no warranty, either express or implied, including, but not limited to, warranties of merchantability and fitness for a particular purpose. All liabilities arising from the supply of the information (including any liability arising in negligence) are excluded to the fullest extent permitted by law.</dd><dt><span>mip_era :</span></dt><dd>CMIP6</dd><dt><span>model_doi_url :</span></dt><dd>https://doi.org/10.5065/D67H1H0V</dd><dt><span>nominal_resolution :</span></dt><dd>100 km</dd><dt><span>parent_activity_id :</span></dt><dd>CMIP</dd><dt><span>parent_experiment_id :</span></dt><dd>piControl</dd><dt><span>parent_mip_era :</span></dt><dd>CMIP6</dd><dt><span>parent_source_id :</span></dt><dd>CESM2</dd><dt><span>parent_time_units :</span></dt><dd>days since 0001-01-01 00:00:00</dd><dt><span>parent_variant_label :</span></dt><dd>r1i1p1f1</dd><dt><span>physics_index :</span></dt><dd>1</dd><dt><span>product :</span></dt><dd>model-output</dd><dt><span>realization_index :</span></dt><dd>1</dd><dt><span>realm :</span></dt><dd>seaIce</dd><dt><span>source :</span></dt><dd>CESM2 (2017): atmosphere: CAM6 (0.9x1.25 finite volume grid; 288 x 192 longitude/latitude; 32 levels; top level 2.25 mb); ocean: POP2 (320x384 longitude/latitude; 60 levels; top grid cell 0-10 m); sea_ice: CICE5.1 (same grid as ocean); land: CLM5 0.9x1.25 finite volume grid; 288 x 192 longitude/latitude; 32 levels; top level 2.25 mb); aerosol: MAM4 (0.9x1.25 finite volume grid; 288 x 192 longitude/latitude; 32 levels; top level 2.25 mb); atmoschem: MAM4 (0.9x1.25 finite volume grid; 288 x 192 longitude/latitude; 32 levels; top level 2.25 mb); landIce: CISM2.1; ocnBgchem: MARBL (320x384 longitude/latitude; 60 levels; top grid cell 0-10 m)</dd><dt><span>source_id :</span></dt><dd>CESM2</dd><dt><span>source_type :</span></dt><dd>AOGCM BGC</dd><dt><span>table_id :</span></dt><dd>SImon</dd><dt><span>tracking_id :</span></dt><dd>hdl:21.14100/0cf7c082-6ec3-410e-9840-f4d0e7aa6da6</dd><dt><span>variable_id :</span></dt><dd>siconc</dd><dt><span>variant_info :</span></dt><dd>CMIP6 20th century experiments (1850-2014) with CAM6, interactive land (CLM5), coupled ocean (POP2) with biogeochemistry (MARBL), interactive sea ice (CICE5.1), and non-evolving land ice (CISM2.1)\r\n",
       "</dd><dt><span>variant_label :</span></dt><dd>r1i1p1f1</dd><dt><span>sub_experiment :</span></dt><dd>none</dd><dt><span>sub_experiment_id :</span></dt><dd>none</dd><dt><span>branch_time_in_parent :</span></dt><dd>219000.0</dd><dt><span>branch_time_in_child :</span></dt><dd>674885.0</dd><dt><span>branch_method :</span></dt><dd>standard</dd><dt><span>further_info_url :</span></dt><dd>https://furtherinfo.es-doc.org/CMIP6.NCAR.CESM2.historical.none.r1i1p1f1</dd></dl></div></li></ul></div></div>"
      ],
      "text/plain": [
       "<xarray.Dataset>\n",
       "Dimensions:  (nlat,: 384, nlon,: 320, time: 1980)\n",
       "Coordinates:\n",
       "    lat      (nlat,, nlon,) float64 -79.22 -79.22 -79.22 ... 9.969e+36 9.969e+36\n",
       "    lon      (nlat,, nlon,) float64 320.6 321.7 322.8 ... 9.969e+36 9.969e+36\n",
       "  * time     (time) object 1850-01-15 12:00:00 ... 2014-12-15 12:00:00\n",
       "    nlon     (nlon,) int32 1 2 3 4 5 6 7 8 9 ... 313 314 315 316 317 318 319 320\n",
       "    nlat     (nlat,) int32 1 2 3 4 5 6 7 8 9 ... 377 378 379 380 381 382 383 384\n",
       "Dimensions without coordinates: nlat,, nlon,\n",
       "Data variables:\n",
       "    sic      (time, nlat,, nlon,) float32 ...\n",
       "Attributes:\n",
       "    Conventions:            CF-1.7 CMIP-6.2\n",
       "    activity_id:            CMIP\n",
       "    case_id:                15\n",
       "    cesm_casename:          b.e21.BHIST.f09_g17.CMIP6-historical.001\n",
       "    contact:                cesm_cmip6@ucar.edu\n",
       "    creation_date:          2019-01-17T00:39:18Z\n",
       "    data_specs_version:     01.00.29\n",
       "    experiment:             all-forcing simulation of the recent past\n",
       "    experiment_id:          historical\n",
       "    external_variables:     areacello\n",
       "    forcing_index:          1\n",
       "    frequency:              mon\n",
       "    grid:                   native gx1v7 displaced pole grid (384x320 latxlon)\n",
       "    grid_label:             gn\n",
       "    initialization_index:   1\n",
       "    institution:            National Center for Atmospheric Research, Climate...\n",
       "    institution_id:         NCAR\n",
       "    license:                CMIP6 model data produced by <The National Center...\n",
       "    mip_era:                CMIP6\n",
       "    model_doi_url:          https://doi.org/10.5065/D67H1H0V\n",
       "    nominal_resolution:     100 km\n",
       "    parent_activity_id:     CMIP\n",
       "    parent_experiment_id:   piControl\n",
       "    parent_mip_era:         CMIP6\n",
       "    parent_source_id:       CESM2\n",
       "    parent_time_units:      days since 0001-01-01 00:00:00\n",
       "    parent_variant_label:   r1i1p1f1\n",
       "    physics_index:          1\n",
       "    product:                model-output\n",
       "    realization_index:      1\n",
       "    realm:                  seaIce\n",
       "    source:                 CESM2 (2017): atmosphere: CAM6 (0.9x1.25 finite v...\n",
       "    source_id:              CESM2\n",
       "    source_type:            AOGCM BGC\n",
       "    table_id:               SImon\n",
       "    tracking_id:            hdl:21.14100/0cf7c082-6ec3-410e-9840-f4d0e7aa6da6\n",
       "    variable_id:            siconc\n",
       "    variant_info:           CMIP6 20th century experiments (1850-2014) with C...\n",
       "    variant_label:          r1i1p1f1\n",
       "    sub_experiment:         none\n",
       "    sub_experiment_id:      none\n",
       "    branch_time_in_parent:  219000.0\n",
       "    branch_time_in_child:   674885.0\n",
       "    branch_method:          standard\n",
       "    further_info_url:       https://furtherinfo.es-doc.org/CMIP6.NCAR.CESM2.h..."
      ]
     },
     "execution_count": 53,
     "metadata": {},
     "output_type": "execute_result"
    }
   ],
   "source": [
    "# data_cesm2_hist_ocean = data_cesm2_hist_ocean.drop('lat_bnds')\n",
    "# data_cesm2_hist_ocean = data_cesm2_hist_ocean.drop('lon_bnds')\n",
    "# data_cesm2_hist_ocean = data_cesm2_hist_ocean.drop('time_bnds')\n",
    "# # data_cesm_lme_ocean = data_cesm_lme_ocean.drop('tarea')\n",
    "# # data_cesm_lme_ocean = data_cesm_lme_ocean.drop('tmask')\n",
    "# data_cesm2_hist_ocean = data_cesm2_hist_ocean.assign_coords({'nlon':data_cesm2_hist_ocean.ni,\n",
    "#                                                              'nlat':data_cesm2_hist_ocean.nj})\n",
    "data_cesm2_hist_ocean = data_cesm2_hist_ocean.drop('ni')\n",
    "data_cesm2_hist_ocean = data_cesm2_hist_ocean.drop('nj')\n",
    "\n",
    "data_cesm2_hist_ocean"
   ]
  },
  {
   "cell_type": "code",
   "execution_count": 54,
   "metadata": {},
   "outputs": [],
   "source": [
    "data_cesm2_hist_regrid = regridder(data_cesm2_hist_ocean)"
   ]
  },
  {
   "cell_type": "code",
   "execution_count": 57,
   "metadata": {},
   "outputs": [
    {
     "data": {
      "text/plain": [
       "<matplotlib.collections.QuadMesh at 0x7f0dd8d04f98>"
      ]
     },
     "execution_count": 57,
     "metadata": {},
     "output_type": "execute_result"
    },
    {
     "data": {
      "image/png": "[encoded data removed]",
      "text/plain": [
       "<Figure size 432x288 with 2 Axes>"
      ]
     },
     "metadata": {
      "needs_background": "light"
     },
     "output_type": "display_data"
    }
   ],
   "source": [
    "data_cesm2_hist_regrid[var].isel(time=0).plot.pcolormesh(vmax=50)"
   ]
  },
  {
   "cell_type": "code",
   "execution_count": 58,
   "metadata": {},
   "outputs": [
    {
     "data": {
      "text/plain": [
       "<matplotlib.collections.QuadMesh at 0x7f0dd8c336a0>"
      ]
     },
     "execution_count": 58,
     "metadata": {},
     "output_type": "execute_result"
    },
    {
     "data": {
      "image/png": "[encoded data removed]",
      "text/plain": [
       "<Figure size 432x288 with 2 Axes>"
      ]
     },
     "metadata": {
      "needs_background": "light"
     },
     "output_type": "display_data"
    }
   ],
   "source": [
    "data_cesm2_hist_ocean[var].isel(time=0).plot.pcolormesh(vmax=50)"
   ]
  },
  {
   "cell_type": "code",
   "execution_count": null,
   "metadata": {},
   "outputs": [],
   "source": [
    "filename_cesm2_hist = {'sic':'sic_Amon_CESM2_historical_r1i1p1f1_regridLME_185001-201412.nc',\n",
    "                       'tos':'tos_Amon_CESM2_historical_r1i1p1f1_regridLME_185001-201412.nc',\n",
    "                       'sit':'sit_Amon_CESM2_historical_r1i1p1f1_regridLME_185001-201412.nc'}"
   ]
  },
  {
   "cell_type": "code",
   "execution_count": null,
   "metadata": {},
   "outputs": [],
   "source": [
    "print('Saving regridded file in: '+fdic_cesm2_hist['fpath']+filename_cesm2_hist[var])\n",
    "data_cesm2_hist_regrid.to_netcdf(fdic_cesm2_hist['fpath']+filename_cesm2_hist[var])"
   ]
  },
  {
   "cell_type": "markdown",
   "metadata": {},
   "source": [
    "## MPI Historical to all Atmospheric grid: "
   ]
  },
  {
   "cell_type": "code",
   "execution_count": null,
   "metadata": {},
   "outputs": [],
   "source": [
    "var = 'sic'\n",
    "data_cesm_lme_atmos = xr.open_dataset(fdic_cesm_lme['tas'])\n",
    "data_mpi_hist_ocean = xr.open_dataset(fdic_mpi_hist[var])"
   ]
  },
  {
   "cell_type": "code",
   "execution_count": null,
   "metadata": {},
   "outputs": [],
   "source": [
    "regridder = xe.Regridder(data_mpi_hist_ocean, data_cesm_lme_atmos, 'bilinear', periodic=True,reuse_weights=False)"
   ]
  },
  {
   "cell_type": "code",
   "execution_count": null,
   "metadata": {},
   "outputs": [],
   "source": [
    "data_mpi_hist_ocean = data_mpi_hist_ocean.drop('vertices_latitude')\n",
    "data_mpi_hist_ocean = data_mpi_hist_ocean.drop('vertices_longitude')\n",
    "data_mpi_hist_ocean = data_mpi_hist_ocean.drop('time_bnds')\n",
    "# data_cesm_lme_ocean = data_cesm_lme_ocean.drop('tarea')\n",
    "# data_cesm_lme_ocean = data_cesm_lme_ocean.drop('tmask')\n",
    "data_mpi_hist_ocean = data_mpi_hist_ocean.assign_coords({'lon':data_mpi_hist_ocean.lon,\n",
    "                                                         'lat':data_mpi_hist_ocean.lat})\n",
    "\n",
    "data_mpi_hist_ocean"
   ]
  },
  {
   "cell_type": "code",
   "execution_count": null,
   "metadata": {},
   "outputs": [],
   "source": [
    "data_mpi_hist_regrid = regridder(data_mpi_hist_ocean)"
   ]
  },
  {
   "cell_type": "code",
   "execution_count": null,
   "metadata": {},
   "outputs": [],
   "source": [
    "data_mpi_hist_regrid[var].isel(time=0).plot.pcolormesh()"
   ]
  },
  {
   "cell_type": "code",
   "execution_count": null,
   "metadata": {},
   "outputs": [],
   "source": [
    "data_mpi_hist_ocean[var].isel(time=0).plot.pcolormesh()"
   ]
  },
  {
   "cell_type": "code",
   "execution_count": null,
   "metadata": {},
   "outputs": [],
   "source": [
    "filename_mpi_hist = {'sic':'sic_Amon_MPI-ESM1-2-LR_historical_r1i1p1f1_regridlme_185001-201412.nc',\n",
    "                     'tos':'tos_Amon_MPI-ESM1-2-LR_historical_r1i1p1f1_regridlme_185001-201412.nc',\n",
    "                     'sit':'sit_Amon_MPI-ESM1-2-LR_historical_r1i1p1f1_regridlme_185001-201412.nc'}"
   ]
  },
  {
   "cell_type": "code",
   "execution_count": null,
   "metadata": {},
   "outputs": [],
   "source": [
    "print('Saving regridded file in: '+fdic_mpi_hist['fpath']+filename_mpi_hist[var])\n",
    "data_mpi_hist_regrid.to_netcdf(fdic_mpi_hist['fpath']+filename_mpi_hist[var])"
   ]
  },
  {
   "cell_type": "markdown",
   "metadata": {},
   "source": [
    "## HadGEM3 Historical to all Atmospheric grid: "
   ]
  },
  {
   "cell_type": "code",
   "execution_count": null,
   "metadata": {},
   "outputs": [],
   "source": [
    "var = 'sic'\n",
    "data_cesm_lme_atmos = xr.open_dataset(fdic_cesm_lme['tas'])\n",
    "data_hadGEM3_hist_ocean = xr.open_dataset(fdic_hadGEM3_hist[var])"
   ]
  },
  {
   "cell_type": "code",
   "execution_count": null,
   "metadata": {},
   "outputs": [],
   "source": [
    "regridder = xe.Regridder(data_hadGEM3_hist_ocean, data_cesm_lme_atmos, 'bilinear', periodic=True,reuse_weights=False)"
   ]
  },
  {
   "cell_type": "code",
   "execution_count": null,
   "metadata": {},
   "outputs": [],
   "source": [
    "data_hadGEM3_hist_ocean = data_hadGEM3_hist_ocean.drop('vertices_latitude')\n",
    "data_hadGEM3_hist_ocean = data_hadGEM3_hist_ocean.drop('vertices_longitude')\n",
    "data_hadGEM3_hist_ocean = data_hadGEM3_hist_ocean.drop('time_bnds')\n",
    "# data_hadGEM3_ocean = data_cesm_lme_ocean.drop('tarea')\n",
    "# data_cesm_lme_ocean = data_cesm_lme_ocean.drop('tmask')\n",
    "data_hadGEM3_hist_ocean = data_hadGEM3_hist_ocean.assign_coords({'lon':data_mpi_hist_ocean.lon,\n",
    "                                                         'lat':data_mpi_hist_ocean.lat})\n",
    "\n",
    "data_hadGEM3_hist_ocean"
   ]
  },
  {
   "cell_type": "code",
   "execution_count": null,
   "metadata": {},
   "outputs": [],
   "source": [
    "data_hadGEM3_hist_regrid = regridder(data_hadGEM3_hist_ocean)"
   ]
  },
  {
   "cell_type": "code",
   "execution_count": null,
   "metadata": {},
   "outputs": [],
   "source": [
    "data_hadGEM3_hist_regrid[var].isel(time=0).plot.pcolormesh()"
   ]
  },
  {
   "cell_type": "code",
   "execution_count": null,
   "metadata": {},
   "outputs": [],
   "source": [
    "data_hadGEM3_hist_ocean[var].isel(time=0).plot.pcolormesh()"
   ]
  },
  {
   "cell_type": "code",
   "execution_count": null,
   "metadata": {},
   "outputs": [],
   "source": [
    "filename_hadGEM3_hist = {'sic':'sic_Amon_HadGEM3-GC31-LL_historical_r1i1p1f3_regridlme_185001-201412.nc',\n",
    "                         'tos':'tos_Amon_HadGEM3-GC31-LL_historical_r1i1p1f3_regridlme_185001-201412.nc',\n",
    "                         'sit':'sit_Amon_HadGEM3-GC31-LL_historical_r1i1p1f3_regridlme_185001-201412.nc'}"
   ]
  },
  {
   "cell_type": "code",
   "execution_count": null,
   "metadata": {},
   "outputs": [],
   "source": [
    "print('Saving regridded file in: '+fdic_hadGEM3_hist['fpath']+filename_hadGEM3_hist[var])\n",
    "data_hadGEM3_hist_regrid.to_netcdf(fdic_hadGEM3_hist['fpath']+filename_hadGEM3_hist[var])"
   ]
  },
  {
   "cell_type": "markdown",
   "metadata": {},
   "source": [
    "## GFDL Historical to all Atmospheric grid: "
   ]
  },
  {
   "cell_type": "code",
   "execution_count": null,
   "metadata": {},
   "outputs": [],
   "source": [
    "var = 'sit'\n",
    "data_cesm_lme_atmos = xr.open_dataset(fdic_cesm_lme['tas'])\n",
    "data_gfdl_hist_ocean = xr.open_dataset(fdic_gfdl_hist[var])"
   ]
  },
  {
   "cell_type": "code",
   "execution_count": null,
   "metadata": {},
   "outputs": [],
   "source": [
    "regridder = xe.Regridder(data_gfdl_hist_ocean, data_cesm_lme_atmos, 'bilinear', periodic=True,reuse_weights=False)"
   ]
  },
  {
   "cell_type": "code",
   "execution_count": null,
   "metadata": {},
   "outputs": [],
   "source": [
    "data_gfdl_hist_ocean = data_gfdl_hist_ocean.drop('lat_bnds')\n",
    "data_gfdl_hist_ocean = data_gfdl_hist_ocean.drop('lon_bnds')\n",
    "data_gfdl_hist_ocean = data_gfdl_hist_ocean.drop('time_bnds')\n",
    "#data_gfdl_hist_ocean = data_gfdl_hist_ocean.drop('GEOLAT')\n",
    "data_gfdl_hist_ocean = data_gfdl_hist_ocean.drop('GEOLON')\n",
    "# # data_cesm_lme_ocean = data_cesm_lme_ocean.drop('tarea')\n",
    "# # data_cesm_lme_ocean = data_cesm_lme_ocean.drop('tmask')\n",
    "# data_gfdl_hist_ocean = data_gfdl_hist_ocean.assign_coords({'lon':data_gfdl_hist_ocean.lon,\n",
    "#                                                            'lat':data_gfdl_hist_ocean.lat})\n",
    "\n",
    "data_gfdl_hist_ocean"
   ]
  },
  {
   "cell_type": "code",
   "execution_count": null,
   "metadata": {},
   "outputs": [],
   "source": [
    "data_gfdl_hist_regrid = regridder(data_gfdl_hist_ocean)"
   ]
  },
  {
   "cell_type": "code",
   "execution_count": null,
   "metadata": {},
   "outputs": [],
   "source": [
    "data_gfdl_hist_regrid[var].isel(time=0).plot.pcolormesh()"
   ]
  },
  {
   "cell_type": "code",
   "execution_count": null,
   "metadata": {},
   "outputs": [],
   "source": [
    "data_gfdl_hist_ocean[var].isel(time=0).plot.pcolormesh()"
   ]
  },
  {
   "cell_type": "code",
   "execution_count": null,
   "metadata": {},
   "outputs": [],
   "source": [
    "filename_gfdl_hist = {'sic':'sic_Amon_GFDL-ESM4_historical_r1i1p1f1_regridlme_185001-201412.nc',\n",
    "                      'tos':'tos_Amon_GFDL-ESM4_historical_r1i1p1f1_regridlme_185001-201412.nc',\n",
    "                      'sit':'sit_Amon_GFDL-ESM4_historical_r1i1p1f1_regridlme_185001-201412.nc'}"
   ]
  },
  {
   "cell_type": "code",
   "execution_count": null,
   "metadata": {},
   "outputs": [],
   "source": [
    "print('Saving regridded file in: '+fdic_gfdl_hist['fpath']+filename_gfdl_hist[var])\n",
    "data_gfdl_hist_regrid.to_netcdf(fdic_gfdl_hist['fpath']+filename_gfdl_hist[var])"
   ]
  },
  {
   "cell_type": "markdown",
   "metadata": {},
   "source": [
    "## CanESM Historical to all Atmospheric grid: "
   ]
  },
  {
   "cell_type": "code",
   "execution_count": null,
   "metadata": {},
   "outputs": [],
   "source": [
    "var = 'sic'\n",
    "data_cesm_lme_atmos = xr.open_dataset(fdic_cesm_lme['tas'])\n",
    "data_canESM_hist_ocean = xr.open_dataset(fdic_canESM_hist[var])"
   ]
  },
  {
   "cell_type": "code",
   "execution_count": null,
   "metadata": {},
   "outputs": [],
   "source": [
    "regridder = xe.Regridder(data_canESM_hist_ocean, data_cesm_lme_atmos, 'bilinear', periodic=True,reuse_weights=False)"
   ]
  },
  {
   "cell_type": "code",
   "execution_count": null,
   "metadata": {},
   "outputs": [],
   "source": [
    "data_canESM_hist_ocean = data_canESM_hist_ocean.drop('vertices_latitude')\n",
    "data_canESM_hist_ocean = data_canESM_hist_ocean.drop('vertices_longitude')\n",
    "data_canESM_hist_ocean = data_canESM_hist_ocean.drop('time_bnds')\n",
    "# #data_gfdl_hist_ocean = data_gfdl_hist_ocean.drop('GEOLAT')\n",
    "# data_canESM_hist_ocean = data_canESM_hist_ocean.drop('GEOLON')\n",
    "# # data_cesm_lme_ocean = data_cesm_lme_ocean.drop('tarea')\n",
    "# # data_cesm_lme_ocean = data_cesm_lme_ocean.drop('tmask')\n",
    "data_canESM_hist_ocean = data_canESM_hist_ocean.assign_coords({'lon':data_canESM_hist_ocean.lon,\n",
    "                                                               'lat':data_canESM_hist_ocean.lat})\n",
    "\n",
    "data_canESM_hist_ocean"
   ]
  },
  {
   "cell_type": "code",
   "execution_count": null,
   "metadata": {},
   "outputs": [],
   "source": [
    "data_canESM_hist_regrid = regridder(data_canESM_hist_ocean)"
   ]
  },
  {
   "cell_type": "code",
   "execution_count": null,
   "metadata": {},
   "outputs": [],
   "source": [
    "data_canESM_hist_regrid[var].isel(time=0).plot.pcolormesh()"
   ]
  },
  {
   "cell_type": "code",
   "execution_count": null,
   "metadata": {},
   "outputs": [],
   "source": [
    "data_canESM_hist_ocean[var].isel(time=0).plot.pcolormesh()"
   ]
  },
  {
   "cell_type": "code",
   "execution_count": null,
   "metadata": {},
   "outputs": [],
   "source": [
    "filename_canESM_hist = {'sic':'sic_Amon_CanESM5_historical_r1i1p2f1_regridlme_185001-201412.nc',\n",
    "                        'tos':'tos_Amon_CanESM5_historical_r1i1p2f1_regridlme_185001-201412.nc',\n",
    "                        'sit':'sit_Amon_CanESM5_historical_r1i1p2f1_regridlme_185001-201412.nc'}"
   ]
  },
  {
   "cell_type": "code",
   "execution_count": null,
   "metadata": {},
   "outputs": [],
   "source": [
    "print('Saving regridded file in: '+fdic_canESM_hist['fpath']+filename_canESM_hist[var])\n",
    "data_canESM_hist_regrid.to_netcdf(fdic_canESM_hist['fpath']+filename_canESM_hist[var])"
   ]
  },
  {
   "cell_type": "markdown",
   "metadata": {},
   "source": [
    "## MPI Historical grid to CESM LME: "
   ]
  },
  {
   "cell_type": "code",
   "execution_count": null,
   "metadata": {},
   "outputs": [],
   "source": [
    "var = 'zg'\n",
    "data_cesm_lme = xr.open_dataset(fdic_cesm_lme[var])\n",
    "data_mpi_hist = xr.open_dataset(fdic_mpi_hist[var])"
   ]
  },
  {
   "cell_type": "code",
   "execution_count": null,
   "metadata": {},
   "outputs": [],
   "source": [
    "# data_mpi_hist = data_mpi_hist.drop('time_bnds')\n",
    "# data_mpi_hist = data_mpi_hist.drop('vertices_latitude')\n",
    "# data_mpi_hist = data_mpi_hist.drop('vertices_longitude')\n",
    "data_mpi_hist = data_mpi_hist.drop('lat_bnds')\n",
    "data_mpi_hist = data_mpi_hist.drop('lon_bnds')\n",
    "data_mpi_hist"
   ]
  },
  {
   "cell_type": "code",
   "execution_count": null,
   "metadata": {},
   "outputs": [],
   "source": [
    "regridder = xe.Regridder(data_mpi_hist, data_cesm_lme, 'bilinear', reuse_weights=False, periodic=True)"
   ]
  },
  {
   "cell_type": "code",
   "execution_count": null,
   "metadata": {},
   "outputs": [],
   "source": [
    "data_mpi_hist_regrid = regridder(data_mpi_hist)"
   ]
  },
  {
   "cell_type": "code",
   "execution_count": null,
   "metadata": {},
   "outputs": [],
   "source": [
    "data_mpi_hist_regrid[var].isel(time=0).plot.pcolormesh()"
   ]
  },
  {
   "cell_type": "code",
   "execution_count": null,
   "metadata": {},
   "outputs": [],
   "source": [
    "data_mpi_hist[var].isel(time=0).plot.pcolormesh(vmax=3.5)"
   ]
  },
  {
   "cell_type": "code",
   "execution_count": null,
   "metadata": {},
   "outputs": [],
   "source": [
    "filename_mpi_hist = {'sic':'sic_SImon_MPI-ESM1-2-LR_historical_r1i1p1f1_regridlme_185001-201412.nc',\n",
    "                     'tos':'tos_Omon_MPI-ESM1-2-LR_historical_r1i1p1f1_regridlme_185001-201412.nc',\n",
    "                     'tas':'tas_Amon_MPI-ESM1-2-LR_historical_r1i1p1f1_regridlme_185001-201412.nc',\n",
    "                     'zg':'zg_500hPa_Amon_MPI-ESM1-2-LR_historical_r1i1p1f1_regridlme_185001-201412.nc',\n",
    "                     'psl':'psl_Amon_MPI-ESM1-2-LR_historical_r1i1p1f1_regridlme_185001-201412.nc',\n",
    "                     'sit':'sit_SImon_MPI-ESM1-2-LR_historical_r1i1p1f1_regridlme_185001-201412.nc'}"
   ]
  },
  {
   "cell_type": "code",
   "execution_count": null,
   "metadata": {},
   "outputs": [],
   "source": [
    "print('Saving regridded file in: '+fdic_mpi_lm['fpath']+filename_mpi_lm[var])\n",
    "data_mpi_hist_regrid.to_netcdf(fdic_mpi_lm['fpath']+filename_mpi_lm[var])"
   ]
  },
  {
   "cell_type": "markdown",
   "metadata": {},
   "source": [
    "## CanESM to CESM LME grid: "
   ]
  },
  {
   "cell_type": "code",
   "execution_count": null,
   "metadata": {},
   "outputs": [],
   "source": [
    "var = 'sit'\n",
    "data_cesm_lme = xr.open_dataset(fdic_cesm_lme[var])\n",
    "data_canESM_hist = xr.open_dataset(fdic_canESM_hist[var])"
   ]
  },
  {
   "cell_type": "code",
   "execution_count": null,
   "metadata": {},
   "outputs": [],
   "source": [
    "data_canESM_hist = data_canESM_hist.drop('time_bnds')\n",
    "data_canESM_hist = data_canESM_hist.drop('vertices_latitude')\n",
    "data_canESM_hist = data_canESM_hist.drop('vertices_longitude')\n",
    "# data_canESM_hist = data_canESM_hist.drop('type')\n",
    "data_canESM_hist"
   ]
  },
  {
   "cell_type": "code",
   "execution_count": null,
   "metadata": {},
   "outputs": [],
   "source": [
    "regridder = xe.Regridder(data_canESM_hist, data_cesm_lme, 'bilinear', reuse_weights=False, periodic=True)"
   ]
  },
  {
   "cell_type": "code",
   "execution_count": null,
   "metadata": {},
   "outputs": [],
   "source": [
    "data_canESM_hist_regrid = regridder(data_canESM_hist)"
   ]
  },
  {
   "cell_type": "code",
   "execution_count": null,
   "metadata": {},
   "outputs": [],
   "source": [
    "data_canESM_hist_regrid[var].isel(time=0).plot.pcolormesh()"
   ]
  },
  {
   "cell_type": "code",
   "execution_count": null,
   "metadata": {},
   "outputs": [],
   "source": [
    "data_canESM_hist[var].isel(time=0).plot.pcolormesh()"
   ]
  },
  {
   "cell_type": "code",
   "execution_count": null,
   "metadata": {},
   "outputs": [],
   "source": [
    "filename_canESM_hist = {'sic':'sic_SImon_CanESM5_historical_r1i1p2f1_regridlme_185001-201412.nc',\n",
    "                         'tos':'tos_Omon_CanESM5_historical_r1i1p2f1_regridlme_185001-201412.nc',\n",
    "                         'tas':'tas_Amon_CanESM5_historical_r1i1p2f1_regridlme_185001-201412.nc',\n",
    "                         'zg':'zg500hPa_Amon_CanESM5_historical_r1i1p2f1_regridlme_185001-201412.nc',\n",
    "                         'psl':'psl_Amon_CanESM5_historical_r1i1p2f1_regridlme_185001-201412.nc',\n",
    "                         'sit':'sit_SImon_CanESM5_historical_r1i1p2f1_regridlme_185001-201412.nc'}"
   ]
  },
  {
   "cell_type": "code",
   "execution_count": null,
   "metadata": {},
   "outputs": [],
   "source": [
    "print('Saving regridded file in: '+fdic_canESM_hist['fpath']+filename_canESM_hist[var])\n",
    "data_canESM_hist_regrid.to_netcdf(fdic_canESM_hist['fpath']+filename_canESM_hist[var])"
   ]
  },
  {
   "cell_type": "markdown",
   "metadata": {},
   "source": [
    "## HadGEM3 to CESM LME grid: "
   ]
  },
  {
   "cell_type": "code",
   "execution_count": null,
   "metadata": {},
   "outputs": [],
   "source": [
    "var = 'sit'\n",
    "data_cesm_lme = xr.open_dataset(fdic_cesm_lme[var])\n",
    "data_hadGEM3_hist = xr.open_dataset(fdic_hadGEM3_hist[var])"
   ]
  },
  {
   "cell_type": "code",
   "execution_count": null,
   "metadata": {},
   "outputs": [],
   "source": [
    "data_hadGEM3_hist = data_hadGEM3_hist.drop('time_bnds')\n",
    "data_hadGEM3_hist = data_hadGEM3_hist.drop('vertices_latitude')\n",
    "data_hadGEM3_hist = data_hadGEM3_hist.drop('vertices_longitude')\n",
    "#data_hadGEM3_hist = data_hadGEM3_hist.drop('type')\n",
    "data_hadGEM3_hist"
   ]
  },
  {
   "cell_type": "code",
   "execution_count": null,
   "metadata": {},
   "outputs": [],
   "source": [
    "regridder = xe.Regridder(data_hadGEM3_hist, data_cesm_lme, 'bilinear', reuse_weights=False, periodic=True)"
   ]
  },
  {
   "cell_type": "code",
   "execution_count": null,
   "metadata": {},
   "outputs": [],
   "source": [
    "data_hadGEM3_hist_regrid = regridder(data_hadGEM3_hist)"
   ]
  },
  {
   "cell_type": "code",
   "execution_count": null,
   "metadata": {},
   "outputs": [],
   "source": [
    "data_hadGEM3_hist_regrid[var].isel(time=0).plot.pcolormesh()"
   ]
  },
  {
   "cell_type": "code",
   "execution_count": null,
   "metadata": {},
   "outputs": [],
   "source": [
    "data_hadGEM3_hist[var].isel(time=0).plot.pcolormesh()"
   ]
  },
  {
   "cell_type": "code",
   "execution_count": null,
   "metadata": {},
   "outputs": [],
   "source": [
    "filename_hadGEM3_hist = {'sic':'sic_SImon_HadGEM3-GC31-LL_historical_r1i1p1f3_regridlme_185001-201412.nc',\n",
    "                     'tos':'tos_Omon_HadGEM3-GC31-LL_historical_r1i1p1f3_regridlme_185001-201412.nc',\n",
    "                     'tas':'tas_sfc_Amon_HadGEM3-GC31-LL_historical_r1i1p1f3_regridlme_185001-201412.nc',\n",
    "                     'zg':'zg500hPa_Amon_HadGEM3-GC31-LL_historical_r1i1p1f3_regridlme_185001-201412.nc',\n",
    "                     'psl':'psl_sfc_Amon_HadGEM3-GC31-LL_historical_r1i1p1f3_regridlme_185001-201412.nc',\n",
    "                     'sit':'sit_SImon_HadGEM3-GC31-LL_historical_r1i1p1f3_regridlme_185001-201412.nc'}"
   ]
  },
  {
   "cell_type": "code",
   "execution_count": null,
   "metadata": {},
   "outputs": [],
   "source": [
    "print('Saving regridded file in: '+fdic_hadGEM3_hist['fpath']+filename_hadGEM3_hist[var])\n",
    "data_hadGEM3_hist_regrid.to_netcdf(fdic_hadGEM3_hist['fpath']+filename_hadGEM3_hist[var])"
   ]
  },
  {
   "cell_type": "markdown",
   "metadata": {},
   "source": [
    "## CCSM4 Last Millenium grid to CESM LME: "
   ]
  },
  {
   "cell_type": "code",
   "execution_count": null,
   "metadata": {},
   "outputs": [],
   "source": [
    "var = 'sic'\n",
    "data_cesm_lme = xr.open_dataset(fdic_cesm_lme[var])\n",
    "data_ccsm4_lm = xr.open_dataset(fdic_ccsm4_lm[var])"
   ]
  },
  {
   "cell_type": "code",
   "execution_count": null,
   "metadata": {},
   "outputs": [],
   "source": [
    "data_ccsm4_lm = data_ccsm4_lm.drop('time_bnds')\n",
    "data_ccsm4_lm = data_ccsm4_lm.drop('lat_vertices')\n",
    "data_ccsm4_lm = data_ccsm4_lm.drop('lon_vertices')\n",
    "# data_ccsm4_lm = data_ccsm4_lm.isel(plev=0)\n",
    "data_ccsm4_lm"
   ]
  },
  {
   "cell_type": "code",
   "execution_count": null,
   "metadata": {},
   "outputs": [],
   "source": [
    "regridder = xe.Regridder(data_ccsm4_lm, data_cesm_lme, 'bilinear', reuse_weights=False, periodic=True)"
   ]
  },
  {
   "cell_type": "code",
   "execution_count": null,
   "metadata": {},
   "outputs": [],
   "source": [
    "data_ccsm4_lm_regrid = regridder(data_ccsm4_lm)"
   ]
  },
  {
   "cell_type": "code",
   "execution_count": null,
   "metadata": {},
   "outputs": [],
   "source": [
    "data_ccsm4_lm_regrid[var].isel(time=0).plot.pcolormesh()"
   ]
  },
  {
   "cell_type": "code",
   "execution_count": null,
   "metadata": {},
   "outputs": [],
   "source": [
    "data_ccsm4_lm[var].isel(time=0).plot.pcolormesh()"
   ]
  },
  {
   "cell_type": "code",
   "execution_count": null,
   "metadata": {},
   "outputs": [],
   "source": [
    "filename_ccsm4_lm = {'sic':'sic_sfc_OImon_CCSM4_past1000_regridlme_085001-185012.nc',\n",
    "                       'tos':'tos_sfc_Omon_CCSM4_past1000_regridlme_085001-185012.nc',\n",
    "                       'tas':'tas_sfc_Amon_CCSM4_past1000_regridlme_085001-185012.nc',\n",
    "                       'zg':'zg_500hPa_Amon_CCSM4_past1000_regridlme_085001-185012.nc',\n",
    "                       'psl':'psl_sfc_Amon_CCSM4_past1000_regridlme_085001-185012.nc',\n",
    "                       'sit':'sit_sfc_OImon_CCSM4_past1000_regridlme_085001-185012.nc'}\n",
    "\n",
    "ccsm4_lm_dir = '/home/disk/kalman2/mkb22/LMR/data/model/ccsm4_last_millenium/'"
   ]
  },
  {
   "cell_type": "code",
   "execution_count": null,
   "metadata": {},
   "outputs": [],
   "source": [
    "print('Saving regridded file in: '+ccsm4_lm_dir+filename_ccsm4_lm[var])\n",
    "data_ccsm4_lm_regrid.to_netcdf(ccsm4_lm_dir+filename_ccsm4_lm[var])"
   ]
  },
  {
   "cell_type": "markdown",
   "metadata": {},
   "source": [
    "## MPI Last Millenium grid to CESM LME: "
   ]
  },
  {
   "cell_type": "code",
   "execution_count": null,
   "metadata": {},
   "outputs": [],
   "source": [
    "var = 'sit'\n",
    "data_cesm_lme = xr.open_dataset(fdic_cesm_lme[var])\n",
    "data_mpi_lm = xr.open_dataset(fdic_mpi_lm[var])"
   ]
  },
  {
   "cell_type": "code",
   "execution_count": null,
   "metadata": {},
   "outputs": [],
   "source": [
    "data_mpi_lm = data_mpi_lm.drop('time_bnds')\n",
    "data_mpi_lm = data_mpi_lm.drop('lat_vertices')\n",
    "data_mpi_lm = data_mpi_lm.drop('lon_vertices')\n",
    "\n",
    "#data_mpi_lm = data_mpi_lm.isel(plev=0)\n",
    "data_mpi_lm"
   ]
  },
  {
   "cell_type": "code",
   "execution_count": null,
   "metadata": {},
   "outputs": [],
   "source": [
    "regridder = xe.Regridder(data_mpi_lm, data_cesm_lme, 'bilinear', reuse_weights=False, periodic=True)"
   ]
  },
  {
   "cell_type": "code",
   "execution_count": null,
   "metadata": {},
   "outputs": [],
   "source": [
    "data_mpi_lm_regrid = regridder(data_mpi_lm)"
   ]
  },
  {
   "cell_type": "code",
   "execution_count": null,
   "metadata": {},
   "outputs": [],
   "source": [
    "data_mpi_lm_regrid[var].isel(time=0).plot.pcolormesh()"
   ]
  },
  {
   "cell_type": "code",
   "execution_count": null,
   "metadata": {},
   "outputs": [],
   "source": [
    "data_mpi_lm[var].isel(time=0).plot.pcolormesh()"
   ]
  },
  {
   "cell_type": "code",
   "execution_count": null,
   "metadata": {},
   "outputs": [],
   "source": [
    "filename_mpi_lm = {'sic':'sic_sfc_OImon_MPI-ESM-P_past1000_regridlme_085001-185012.nc',\n",
    "                   'tos':'tos_sfc_Omon_MPI-ESM-P_past1000_regridlme_085001-184912.nc',\n",
    "                   'tas':'tas_sfc_Amon_MPI-ESM-P_past1000_regridlme_085001-184912.nc',\n",
    "                   'zg':'zg_500hPa_Amon_MPI-ESM-P_past1000_regridlme_085001-184912.nc',\n",
    "                   'psl':'psl_sfc_Amon_MPI-ESM-P_past1000_regridlme_085001-184912.nc',\n",
    "                   'sit':'sit_sfc_OImon_MPI-ESM-P_past1000_regridlme_085001-185012.nc'}\n",
    "\n",
    "mpi_lm_dir = '/home/disk/kalman2/mkb22/LMR/data/model/mpi-esm-p_last_millenium/'"
   ]
  },
  {
   "cell_type": "code",
   "execution_count": null,
   "metadata": {},
   "outputs": [],
   "source": [
    "print('Saving regridded file in: '+mpi_lm_dir+filename_mpi_lm[var])\n",
    "data_mpi_lm_regrid.to_netcdf(mpi_lm_dir+filename_mpi_lm[var])"
   ]
  },
  {
   "cell_type": "markdown",
   "metadata": {},
   "source": [
    "## CESM LME to MPI LM grid: "
   ]
  },
  {
   "cell_type": "code",
   "execution_count": null,
   "metadata": {},
   "outputs": [],
   "source": [
    "var = 'sic'\n",
    "data_cesm_lme = xr.open_dataset(fdic_cesm_lme[var])\n",
    "data_mpi_lm = xr.open_dataset(fdic_mpi_lm[var])"
   ]
  },
  {
   "cell_type": "code",
   "execution_count": null,
   "metadata": {},
   "outputs": [],
   "source": [
    "# data_cesm_lme = data_cesm_lme.drop_vars('time_bounds')\n",
    "# data_cesm_lme = data_cesm_lme.drop_vars('latt_bounds')\n",
    "# data_cesm_lme = data_cesm_lme.drop_vars('lont_bounds')\n",
    "#data_cesm_lme = data_cesm_lme.drop_vars('tarea')\n",
    "data_cesm_lme = data_cesm_lme.drop_vars('tmask')\n",
    "data_cesm_lme"
   ]
  },
  {
   "cell_type": "code",
   "execution_count": null,
   "metadata": {},
   "outputs": [],
   "source": [
    "regridder = xe.Regridder(data_cesm_lme, data_mpi_lm, 'bilinear', reuse_weights=False, periodic=True)"
   ]
  },
  {
   "cell_type": "code",
   "execution_count": null,
   "metadata": {},
   "outputs": [],
   "source": [
    "data_cesm_lme_regrid = regridder(data_cesm_lme)"
   ]
  },
  {
   "cell_type": "code",
   "execution_count": null,
   "metadata": {},
   "outputs": [],
   "source": [
    "data_cesm_lme[var].isel(time=0).plot.pcolormesh()"
   ]
  },
  {
   "cell_type": "code",
   "execution_count": null,
   "metadata": {},
   "outputs": [],
   "source": [
    "data_cesm_lme_regrid[var].isel(time=0).plot.pcolormesh()"
   ]
  },
  {
   "cell_type": "code",
   "execution_count": null,
   "metadata": {},
   "outputs": [],
   "source": [
    "fig = plt.figure(1, figsize=(16, 8))\n",
    "#axs = plt.axes(projection=ccrs.NorthPolarStereo())\n",
    "axs = plt.axes(projection=ccrs.Robinson())\n",
    "axs.coastlines()\n",
    "#axs.set_extent([-180, 180, 55, 90], crs=ccrs.PlateCarree())\n",
    "data_cesm_lme_regrid[var].isel(time=0).plot.pcolormesh('lon','lat',ax=axs,transform=ccrs.PlateCarree())\n",
    "plt.title('Regrid', fontsize=16)\n",
    "# plt.scatter(data_cesm_lme_regrid.lon.values[30,100],data_cesm_lme_regrid.lat.values[40,150],\n",
    "#             color='r',transform=ccrs.PlateCarree())"
   ]
  },
  {
   "cell_type": "code",
   "execution_count": null,
   "metadata": {},
   "outputs": [],
   "source": [
    "filename_cesm_lme = {'sic':'sic_SImon_CESM_LME_nh_002_regrid_mpilm_085001-200512.nc',\n",
    "                     'tos':'tos_sfc_Omon_CESM_LMEallforc_002_regrid_mpilm_085001-200512.nc',\n",
    "                     'tas':'tas_sfc_Amon_CESM_LMEallforc_002_regrid_mpilm_085001-200512.nc',\n",
    "                     'zg':'zg_500hPa_Amon_CESM_LMEallforc_002_regrid_mpilm_085001-200512.nc',\n",
    "                     'psl':'psl_sfc_Amon_CESM_LMEallforc_002_regrid_mpilm_085001-200512.nc',\n",
    "                     'sit':'sit_SImon_CESM_LME_nh_002_regrid_mpilm_085001-200512.nc'}\n"
   ]
  },
  {
   "cell_type": "code",
   "execution_count": null,
   "metadata": {},
   "outputs": [],
   "source": [
    "print('Saving regridded file in: '+fdic_cesm_lme['fpath']+filename_cesm_lme[var])\n",
    "data_cesm_lme_regrid.to_netcdf(fdic_cesm_lme['fpath']+filename_cesm_lme[var])"
   ]
  },
  {
   "cell_type": "markdown",
   "metadata": {},
   "source": [
    "## ERA5 to MPI LM grid: "
   ]
  },
  {
   "cell_type": "code",
   "execution_count": null,
   "metadata": {},
   "outputs": [],
   "source": [
    "var = 'sic'\n",
    "data_cesm_lme = xr.open_dataset(fdic_cesm_lme[var])\n",
    "data_era5 = xr.open_dataset(fdic_era5[var])"
   ]
  },
  {
   "cell_type": "code",
   "execution_count": null,
   "metadata": {},
   "outputs": [],
   "source": [
    "regridder = xe.Regridder(data_era5, data_cesm_lme, 'bilinear', reuse_weights=True)"
   ]
  },
  {
   "cell_type": "code",
   "execution_count": null,
   "metadata": {},
   "outputs": [],
   "source": [
    "data_era5_regrid = regridder(data_era5)"
   ]
  },
  {
   "cell_type": "code",
   "execution_count": null,
   "metadata": {},
   "outputs": [],
   "source": [
    "data_era5_regrid"
   ]
  },
  {
   "cell_type": "code",
   "execution_count": null,
   "metadata": {},
   "outputs": [],
   "source": [
    "fig = plt.figure(1, figsize=(16, 8))\n",
    "#axs = plt.axes(projection=ccrs.NorthPolarStereo())\n",
    "axs = plt.axes(projection=ccrs.Robinson())\n",
    "axs.coastlines()\n",
    "#axs.set_extent([-180, 180, 55, 90], crs=ccrs.PlateCarree())\n",
    "data_era5[var].isel(time=0).plot.pcolormesh('lon','lat',ax=axs,transform=ccrs.PlateCarree(),vmin=220)\n",
    "plt.title('Original', fontsize=16)"
   ]
  },
  {
   "cell_type": "code",
   "execution_count": null,
   "metadata": {},
   "outputs": [],
   "source": [
    "# fig = plt.figure(1, figsize=(16, 8))\n",
    "# #axs = plt.axes(projection=ccrs.NorthPolarStereo())\n",
    "# axs = plt.axes(projection=ccrs.Robinson())\n",
    "# axs.coastlines()\n",
    "# #axs.set_extent([-180, 180, 40, 90], crs=ccrs.PlateCarree())\n",
    "# data_era5_regrid[var].isel(time=0).plot.pcolormesh('lon','lat',ax=axs,transform=ccrs.PlateCarree(),vmin=220)\n",
    "# plt.title('Regridded', fontsize=16)"
   ]
  },
  {
   "cell_type": "code",
   "execution_count": null,
   "metadata": {},
   "outputs": [],
   "source": [
    "data_era5_regrid.sic.isel(time=0).plot.pcolormesh()"
   ]
  },
  {
   "cell_type": "code",
   "execution_count": null,
   "metadata": {},
   "outputs": [],
   "source": [
    "filename_era5 = {'sic':'sic_monthly_ERA5_1979_2020_regridlme.nc',\n",
    "                 'tos':'tos_monthly_ERA5_1979_2020_regridlme.nc',\n",
    "                 'tas':'tas_monthly_ERA5_1979_2020_regridlme.nc',\n",
    "                 'psl':'psl_monthly_ERA5_1979_2020_regridlme.nc'}"
   ]
  },
  {
   "cell_type": "code",
   "execution_count": null,
   "metadata": {},
   "outputs": [],
   "source": [
    "print('Saving regridded file in: '+fdic_era5['fpath']+filename_era5[var])\n",
    "data_era5_regrid.to_netcdf(fdic_era5['fpath']+filename_era5[var])"
   ]
  },
  {
   "cell_type": "markdown",
   "metadata": {},
   "source": [
    "## Satellite to MPI LM grid: "
   ]
  },
  {
   "cell_type": "code",
   "execution_count": null,
   "metadata": {},
   "outputs": [],
   "source": [
    "var = 'sic'\n",
    "data_cesm_lme = xr.open_dataset(fdic_cesm_lme[var])\n",
    "data_sat = xr.open_dataset(fdic_sat[var])"
   ]
  },
  {
   "cell_type": "code",
   "execution_count": null,
   "metadata": {},
   "outputs": [],
   "source": [
    "data_cesm_lme"
   ]
  },
  {
   "cell_type": "code",
   "execution_count": null,
   "metadata": {},
   "outputs": [],
   "source": [
    "data_sat"
   ]
  },
  {
   "cell_type": "code",
   "execution_count": null,
   "metadata": {},
   "outputs": [],
   "source": [
    "data_sat = data_sat.assign_coords({'j':data_sat.ygrid,'i':data_sat.xgrid})\n",
    "data_sat = data_sat.drop_vars('projection')"
   ]
  },
  {
   "cell_type": "code",
   "execution_count": null,
   "metadata": {},
   "outputs": [],
   "source": [
    "regridder = xe.Regridder(data_sat, data_cesm_lme, 'bilinear', reuse_weights=False)"
   ]
  },
  {
   "cell_type": "code",
   "execution_count": null,
   "metadata": {},
   "outputs": [],
   "source": [
    "data_sat_regrid = regridder(data_sat)"
   ]
  },
  {
   "cell_type": "code",
   "execution_count": null,
   "metadata": {},
   "outputs": [],
   "source": [
    "data_sat_regrid.sic.isel(time=0).plot.pcolormesh()"
   ]
  },
  {
   "cell_type": "code",
   "execution_count": null,
   "metadata": {},
   "outputs": [],
   "source": [
    "data_sat.sic.isel(time=0).plot.pcolormesh()"
   ]
  },
  {
   "cell_type": "code",
   "execution_count": null,
   "metadata": {},
   "outputs": [],
   "source": [
    "filename_sat = {'sic':'sic_goddard_merged_mon_v03r01_regridlme_1979_2016.nc'}"
   ]
  },
  {
   "cell_type": "code",
   "execution_count": null,
   "metadata": {},
   "outputs": [],
   "source": [
    "print('Saving regridded file in: '+fdic_sat['fpath']+filename_sat[var])\n",
    "data_sat_regrid.to_netcdf(fdic_sat['fpath']+filename_sat[var])"
   ]
  },
  {
   "cell_type": "code",
   "execution_count": null,
   "metadata": {},
   "outputs": [],
   "source": [
    "fdic_sat[var]"
   ]
  },
  {
   "cell_type": "code",
   "execution_count": null,
   "metadata": {},
   "outputs": [],
   "source": []
  },
  {
   "cell_type": "code",
   "execution_count": null,
   "metadata": {},
   "outputs": [],
   "source": []
  },
  {
   "cell_type": "code",
   "execution_count": null,
   "metadata": {},
   "outputs": [],
   "source": []
  }
 ],
 "metadata": {
  "kernelspec": {
   "display_name": "Python 3",
   "language": "python",
   "name": "python3"
  },
  "language_info": {
   "codemirror_mode": {
    "name": "ipython",
    "version": 3
   },
   "file_extension": ".py",
   "mimetype": "text/x-python",
   "name": "python",
   "nbconvert_exporter": "python",
   "pygments_lexer": "ipython3",
   "version": "3.6.10"
  }
 },
 "nbformat": 4,
 "nbformat_minor": 2
}
