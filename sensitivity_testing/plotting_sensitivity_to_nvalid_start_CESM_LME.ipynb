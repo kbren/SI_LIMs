{
 "cells": [
  {
   "cell_type": "markdown",
   "metadata": {},
   "source": [
    "# Sensitivity to the number of years validated on: "
   ]
  },
  {
   "cell_type": "code",
   "execution_count": 1,
   "metadata": {},
   "outputs": [],
   "source": [
    "import sys,os\n",
    "import xarray as xr\n",
    "import numpy as np\n",
    "import scipy as spy\n",
    "import pickle"
   ]
  },
  {
   "cell_type": "code",
   "execution_count": 2,
   "metadata": {},
   "outputs": [],
   "source": [
    "import matplotlib\n",
    "import matplotlib.pyplot as plt\n",
    "import cartopy.crs as ccrs\n",
    "import cartopy.feature as cfeature\n",
    "from cartopy.util import add_cyclic_point\n",
    "from collections import OrderedDict "
   ]
  },
  {
   "cell_type": "code",
   "execution_count": 3,
   "metadata": {},
   "outputs": [],
   "source": [
    "sys.path.append(\"/home/disk/p/mkb22/Documents/si_analysis_kb/LIMs/SI_LIMs/\")\n",
    "import LIM_utils_kb as limkb\n",
    "import LIM_building as limbuild\n",
    "\n",
    "sys.path.append(\"/home/disk/kalman2/mkb22/pyLMR/\")\n",
    "import LMR_utils"
   ]
  },
  {
   "cell_type": "code",
   "execution_count": 4,
   "metadata": {},
   "outputs": [],
   "source": [
    "def get_title_strings(var,exp_setup,forecast):\n",
    "    if 'cmip6' in exp_setup['train_dsource']: \n",
    "        tcmip='CMIP6'\n",
    "    elif 'era' in exp_setup['train_dsource']:\n",
    "        tcmip=''\n",
    "    elif 'satellite' in exp_setup['train_dsource']: \n",
    "        tcmip=''\n",
    "    elif 'lme' in exp_setup['train_dsource']: \n",
    "        tcmip=''\n",
    "    else: \n",
    "        tcmip='CMIP5'\n",
    "\n",
    "    if 'cmip6' in exp_setup['valid_dsource']: \n",
    "        vcmip='CMIP6'\n",
    "    elif 'era' in exp_setup['valid_dsource']:\n",
    "        vcmip=''\n",
    "    elif 'satellite' in exp_setup['valid_dsource']: \n",
    "        vcmip=''\n",
    "    elif 'lme' in exp_setup['valid_dsource']: \n",
    "        vcmip=''\n",
    "    else: \n",
    "        vcmip='CMIP5'\n",
    "\n",
    "    # start_tim = exp_setup['nyears_startvalid']\n",
    "    # end_tim = exp_setup['nyears_startvalid']+(exp_setup['nyearsvalid']*12)\n",
    "    valid_yrs_str = (str(forecast['var_dict_valid'][var]['time'][0])[:4]+'_'+\n",
    "                     str(forecast['var_dict_valid'][var]['time'][-1])[:4])\n",
    "\n",
    "    if 'hist' in exp_setup['train_dsource']:\n",
    "        texp = 'Historical'\n",
    "    elif 'lm' in exp_setup['train_dsource']: \n",
    "        texp = 'LM'\n",
    "    elif 'ssp585' in exp_setup['train_dsource']: \n",
    "        texp = 'SSP585'\n",
    "    elif 'era5' in exp_setup['train_dsource']: \n",
    "        texp = 'ERA5'\n",
    "    elif 'satellite' in exp_setup['train_dsource']: \n",
    "        texp = 'Satellite'\n",
    "    elif 'lme' in exp_setup['train_dsource']: \n",
    "        texp = 'LME'\n",
    "\n",
    "    if 'hist' in exp_setup['valid_dsource']:\n",
    "        vexp = 'Historical'\n",
    "    elif 'lm' in exp_setup['valid_dsource']: \n",
    "        vexp = 'LM'\n",
    "    elif 'ssp585' in exp_setup['valid_dsource']: \n",
    "        vexp = 'SSP585'\n",
    "    elif 'era5' in exp_setup['valid_dsource']: \n",
    "        vexp = 'ERA5'\n",
    "    elif 'satellite' in exp_setup['valid_dsource']: \n",
    "        vexp = 'Satellite'\n",
    "    elif 'lme' in exp_setup['valid_dsource']: \n",
    "        vexp = 'LME'\n",
    "\n",
    "    if 'cesm2' in exp_setup['train_dsource']:\n",
    "        tmod = 'CESM2'\n",
    "    elif 'mpi' in exp_setup['train_dsource']: \n",
    "        tmod = 'MPI'\n",
    "    elif 'gfdl' in exp_setup['train_dsource']: \n",
    "        tmod = 'GFDL'\n",
    "    elif 'ccsm4' in exp_setup['train_dsource']: \n",
    "        tmod = 'CCSM4'\n",
    "    elif 'era5' in exp_setup['train_dsource']: \n",
    "        tmod = ''\n",
    "    elif 'satellite' in exp_setup['train_dsource']: \n",
    "        tmod = ''\n",
    "    elif 'lme' in exp_setup['train_dsource']: \n",
    "        tmod = 'CESM'\n",
    "\n",
    "    if 'cesm2' in exp_setup['valid_dsource']:\n",
    "        vmod = 'CESM2'\n",
    "    elif 'mpi' in exp_setup['valid_dsource']: \n",
    "        vmod = 'MPI'\n",
    "    elif 'gfdl' in exp_setup['valid_dsource']: \n",
    "        vmod = 'GFDL'\n",
    "    elif 'ccsm4' in exp_setup['valid_dsource']: \n",
    "        vmod = 'CCSM4'\n",
    "    elif 'era5' in exp_setup['valid_dsource']: \n",
    "        vmod = ''\n",
    "    elif 'satellite' in exp_setup['valid_dsource']: \n",
    "        vmod = ''\n",
    "    elif 'lme' in exp_setup['valid_dsource']: \n",
    "        vmod = 'CESM'\n",
    "\n",
    "    if exp_setup['Weight'] is True: \n",
    "        wt_addin = ' '\n",
    "    else: \n",
    "        wt_addin = '(no area weighting)'\n",
    "\n",
    "    if exp_setup['detrend'] is True: \n",
    "        tr_addin = ' '\n",
    "    else: \n",
    "        tr_addin = ' (trended)'\n",
    "        \n",
    "    return tcmip, vcmip, valid_yrs_str, texp, vexp, tmod, vmod, wt_addin, tr_addin"
   ]
  },
  {
   "cell_type": "code",
   "execution_count": 5,
   "metadata": {},
   "outputs": [],
   "source": [
    "def plot_lagged_performance_1var(fig,axs,var,forecast_validation_lags,ar1cast_lags,\n",
    "                                 tcmip, vcmip, valid_yrs_str, texp, vexp, tmod, vmod, \n",
    "                                 wt_addin, tr_addin):\n",
    "\n",
    "    axs.plot(exp_setup['lags'][:],forecast_validation_lags['validation_stats_lags'][var]['corr_tot'][:]**2, \n",
    "               label='Correlation',linewidth=4)\n",
    "    axs.plot(exp_setup['lags'][1:],ar1cast_lags['validation_stats_ar1_lags'][var]['corr_tot'][:-1]**2, \n",
    "               label='AR(1) Correlation',linewidth=4, \n",
    "               linestyle='--', color='tab:blue',alpha=0.5)\n",
    "\n",
    "    axs.plot(exp_setup['lags'][:],forecast_validation_lags['validation_stats_lags'][var]['ce_tot'][:],\n",
    "               label='CE',linewidth=3.0)\n",
    "    axs.plot(exp_setup['lags'][1:],ar1cast_lags['validation_stats_ar1_lags'][var]['ce_tot'][:-1],\n",
    "               label='AR(1) CE',linewidth=3.0, \n",
    "               linestyle='--', color='tab:orange', alpha=0.5)\n",
    "\n",
    "    axs.set_xticks(np.arange(0,11,1))\n",
    "    axs.set_xticklabels(np.arange(0,11,1),fontsize=12)\n",
    "    axs.set_ylim(0,1)\n",
    "    axs.set_xlim(0,8)\n",
    "    axs.grid(axis='both')\n",
    "    \n",
    "    return "
   ]
  },
  {
   "cell_type": "code",
   "execution_count": 6,
   "metadata": {},
   "outputs": [],
   "source": [
    "def plot_monthly_performance_1var(fig,axs,var,forecast_validation_lags,ar1cast_lags,\n",
    "                                  tcmip, vcmip, valid_yrs_str, texp, vexp, tmod, vmod, \n",
    "                                  wt_addin, tr_addin):\n",
    "    axs.plot(exp_setup['lags'][:],forecast_validation_lags['validation_stats_lags'][var]['gm_rmse'][:], \n",
    "               label='LIM',linewidth=3.0, color='purple')\n",
    "    axs.plot(exp_setup['lags'][1:],ar1cast_lags['validation_stats_ar1_lags'][var]['gm_rmse'][:-1], \n",
    "               label='AR(1)',linewidth=3.0, linestyle='--', color='purple',alpha=0.5)\n",
    "\n",
    "    axs.set_xticks(np.arange(0,11,1))\n",
    "    axs.set_xticklabels(np.arange(0,11,1),fontsize=12)\n",
    "#    axs.set_ylim(0,0.018)\n",
    "    axs.set_xlim(0,6)\n",
    "    axs.grid(axis='both')\n",
    "    \n",
    "#    axs.axhline(1.0, color='k', linewidth=2, label='No skill')\n",
    "    \n",
    "    return "
   ]
  },
  {
   "cell_type": "code",
   "execution_count": 12,
   "metadata": {},
   "outputs": [],
   "source": [
    "ntrunc = 50 # EOF truncation for individual fields (reduced-state space)\n",
    "ntrunc_sic = 50\n",
    "#nmodes = 15 # number of coupled EOFs for LIM state space (truncated-state space)\n",
    "#nmodes = 20\n",
    "nmodes_sic = 50\n",
    "#modes_sic = 20\n",
    "\n",
    "mo='all'\n",
    "#mo=0\n",
    "lags = [1,2,3,4,5,6,7,8]\n",
    "\n",
    "#model = 'satellite'\n",
    "#model = 'cmip6_mpi_hist'\n",
    "#model = 'era5'\n",
    "model = 'cesm_lme'\n",
    "yrend = 1650\n",
    "\n",
    "yrstart_valid = [851,950,1050,1150,1250,1350,1450,1550]\n",
    "nyrvalid = 99\n",
    "\n",
    "# forecast lead time in months that defines the LIM training\n",
    "tau = 1\n",
    "\n",
    "# variables to include in the LIM (note \"vars\" is a Python command)\n",
    "limvars = ['tas','psl','zg','tos','sit','sic']\n",
    "#limvars = ['sic']\n",
    "\n",
    "data_dir = '/home/disk/kalman2/mkb22/SI_LIMs/sensitivity_testing/nvalid_start_is/'"
   ]
  },
  {
   "cell_type": "code",
   "execution_count": 20,
   "metadata": {},
   "outputs": [
    {
     "name": "stdout",
     "output_type": "stream",
     "text": [
      "Working on tas + psl + zg + tos + sit + sic\n",
      "Loading /home/disk/kalman2/mkb22/SI_LIMs/sensitivity_testing/nvalid_start_is/last_millennium/LIMcast_cesm_lme_002_ntrain_850_1650_validyrs_0851_0950_tas50_psl50_zg50_tos50_sit50_sic50_20211202.pkl\n",
      "Working on tas + psl + zg + tos + sit + sic\n",
      "Loading /home/disk/kalman2/mkb22/SI_LIMs/sensitivity_testing/nvalid_start_is/last_millennium/LIMcast_cesm_lme_002_ntrain_850_1650_validyrs_0950_1049_tas50_psl50_zg50_tos50_sit50_sic50_20211202.pkl\n",
      "Working on tas + psl + zg + tos + sit + sic\n",
      "Loading /home/disk/kalman2/mkb22/SI_LIMs/sensitivity_testing/nvalid_start_is/last_millennium/LIMcast_cesm_lme_002_ntrain_850_1650_validyrs_1050_1149_tas50_psl50_zg50_tos50_sit50_sic50_20211202.pkl\n",
      "Working on tas + psl + zg + tos + sit + sic\n",
      "Loading /home/disk/kalman2/mkb22/SI_LIMs/sensitivity_testing/nvalid_start_is/last_millennium/LIMcast_cesm_lme_002_ntrain_850_1650_validyrs_1150_1249_tas50_psl50_zg50_tos50_sit50_sic50_20211202.pkl\n",
      "Working on tas + psl + zg + tos + sit + sic\n",
      "Loading /home/disk/kalman2/mkb22/SI_LIMs/sensitivity_testing/nvalid_start_is/last_millennium/LIMcast_cesm_lme_002_ntrain_850_1650_validyrs_1250_1349_tas50_psl50_zg50_tos50_sit50_sic50_20211202.pkl\n",
      "Working on tas + psl + zg + tos + sit + sic\n",
      "Loading /home/disk/kalman2/mkb22/SI_LIMs/sensitivity_testing/nvalid_start_is/last_millennium/LIMcast_cesm_lme_002_ntrain_850_1650_validyrs_1350_1449_tas50_psl50_zg50_tos50_sit50_sic50_20211202.pkl\n",
      "Working on tas + psl + zg + tos + sit + sic\n",
      "Loading /home/disk/kalman2/mkb22/SI_LIMs/sensitivity_testing/nvalid_start_is/last_millennium/LIMcast_cesm_lme_002_ntrain_850_1650_validyrs_1450_1549_tas50_psl50_zg50_tos50_sit50_sic50_20211202.pkl\n",
      "Working on tas + psl + zg + tos + sit + sic\n",
      "Loading /home/disk/kalman2/mkb22/SI_LIMs/sensitivity_testing/nvalid_start_is/last_millennium/LIMcast_cesm_lme_002_ntrain_850_1650_validyrs_1550_1649_tas50_psl50_zg50_tos50_sit50_sic50_20211202.pkl\n"
     ]
    }
   ],
   "source": [
    "rmse_sic_is = np.zeros((len(yrstart_valid),len(lags)))\n",
    "\n",
    "for n,yrstart in enumerate(yrstart_valid):\n",
    "    print('Working on '+(\" + \").join(limvars))\n",
    "    var = limvars[0]\n",
    "    var_names = (str(ntrunc)+\"_\").join(limvars)+str(nmodes_sic)\n",
    "    \n",
    "    folder = 'last_millennium/'\n",
    "    \n",
    "    if (yrstart+100)<1000:\n",
    "        filename_is = ('LIMcast_'+model+'_002_ntrain_850_1650'+\n",
    "                       '_validyrs_0'+str(yrstart)+'_0'+str(yrstart+nyrvalid)+'_'+\n",
    "                       var_names+'_20211202.pkl')\n",
    "    elif (yrstart<1000)and(yrstart+100)>1000:\n",
    "        filename_is = ('LIMcast_'+model+'_002_ntrain_850_1650'+\n",
    "                       '_validyrs_0'+str(yrstart)+'_'+str(yrstart+nyrvalid)+'_'+\n",
    "                       var_names+'_20211202.pkl')\n",
    "    else: \n",
    "        filename_is = ('LIMcast_'+model+'_002_ntrain_850_1650'+\n",
    "                       '_validyrs_'+str(yrstart)+'_'+str(yrstart+nyrvalid)+'_'+\n",
    "                       var_names+'_20211202.pkl')\n",
    "\n",
    "    print('Loading '+data_dir+folder+filename_is)\n",
    "    experiment_is =  pickle.load(open(data_dir+folder+filename_is, 'rb'))\n",
    "    \n",
    "    LIMd_is = experiment_is['LIMd']\n",
    "    exp_setup_is = experiment_is['forecast']['exp_setup']\n",
    "    forecast_is = experiment_is['forecast']\n",
    "    forecast_validation_lags_is = experiment_is['forecast_validation_lags']\n",
    "    ar1cast_lags_is = experiment_is['ar1cast_lags']\n",
    "    \n",
    "    [tcmip_is, vcmip_is, valid_yrs_str_is, texp_is, \n",
    "     vexp_is, tmod_is, vmod_is, wt_addin_is, tr_addin_is] = get_title_strings(var,exp_setup_is,forecast_is)\n",
    "    \n",
    "    rmse_sic_is[n,:] = forecast_validation_lags_is['validation_stats_lags']['sic']['gm_rmse'][1:]"
   ]
  },
  {
   "cell_type": "code",
   "execution_count": 30,
   "metadata": {},
   "outputs": [],
   "source": [
    "# colors = ['royalblue', 'darkcyan', 'darkblue','firebrick', 'salmon', 'peru', 'orange',\n",
    "#           'mediumpurple','m', 'indigo', 'k']\n",
    "\n",
    "cmap = matplotlib.cm.get_cmap('Blues_r')\n",
    "\n",
    "move = 0.8/len(yrstart_valid)\n",
    "colors = [cmap(i) for i in np.arange(0.2,1.1,move)]"
   ]
  },
  {
   "cell_type": "code",
   "execution_count": 31,
   "metadata": {},
   "outputs": [
    {
     "data": {
      "text/plain": [
       "(8, 8)"
      ]
     },
     "execution_count": 31,
     "metadata": {},
     "output_type": "execute_result"
    }
   ],
   "source": [
    "rmse_sic_is.shape"
   ]
  },
  {
   "cell_type": "code",
   "execution_count": 40,
   "metadata": {},
   "outputs": [
    {
     "data": {
      "text/plain": [
       "<matplotlib.legend.Legend at 0x7fbdbf092588>"
      ]
     },
     "execution_count": 40,
     "metadata": {},
     "output_type": "execute_result"
    },
    {
     "data": {
      "image/png": "[encoded data removed]",
      "text/plain": [
       "<Figure size 576x432 with 1 Axes>"
      ]
     },
     "metadata": {
      "needs_background": "light"
     },
     "output_type": "display_data"
    }
   ],
   "source": [
    "fig,ax = plt.subplots(1,1,figsize=(8,6))\n",
    "\n",
    "for i,lag in enumerate(yrstart_valid):\n",
    "    ax.plot(rmse_sic_is[i,:], label=(str(yrstart_valid[i])+'-'+str(yrstart_valid[i]+nyrvalid)), \n",
    "            linewidth=4,color=colors[i])\n",
    "    \n",
    "ax.set_xlim(0,7)\n",
    "#ax[0].set_ylim(0.059,0.09)\n",
    "#ax[0].legend(bbox_to_anchor=[1,1],fontsize=14)\n",
    "ax.set_ylabel('GM RMSE', fontsize=16)\n",
    "ax.set_xlabel('Lag (month)', fontsize=16)\n",
    "ax.set_xticklabels(lags, fontsize=14)\n",
    "ax.set_title('In Sample Validation', fontsize=18)\n",
    "ax.tick_params(labelsize=14)\n",
    "plt.legend(loc='lower right', fontsize=14)"
   ]
  },
  {
   "cell_type": "code",
   "execution_count": null,
   "metadata": {},
   "outputs": [],
   "source": []
  }
 ],
 "metadata": {
  "kernelspec": {
   "display_name": "Python 3",
   "language": "python",
   "name": "python3"
  },
  "language_info": {
   "codemirror_mode": {
    "name": "ipython",
    "version": 3
   },
   "file_extension": ".py",
   "mimetype": "text/x-python",
   "name": "python",
   "nbconvert_exporter": "python",
   "pygments_lexer": "ipython3",
   "version": "3.6.6"
  }
 },
 "nbformat": 4,
 "nbformat_minor": 2
}
