{
 "cells": [
  {
   "cell_type": "code",
   "execution_count": 14,
   "metadata": {},
   "outputs": [],
   "source": [
    "import xarray as xr \n",
    "import matplotlib.pyplot as plt\n",
    "import numpy as np"
   ]
  },
  {
   "cell_type": "code",
   "execution_count": 7,
   "metadata": {},
   "outputs": [],
   "source": [
    "datadir = '/home/disk/chaos/mkb22/Documents/SeaIceData/LME/'\n",
    "# filename = 'siconc_SImon_CESM_LME_nh_085001-185012.nc'\n",
    "# filename2 = 'siconc_SImon_CESM_LME_nh_185001-200512.nc'\n"
   ]
  },
  {
   "cell_type": "code",
   "execution_count": 21,
   "metadata": {},
   "outputs": [
    {
     "name": "stdout",
     "output_type": "stream",
     "text": [
      "working on 1\n",
      "Saving to: /home/disk/chaos/mkb22/Documents/SeaIceData/LME/LIMs/sit_SImon_CESM_LME_nh_001_085001-200512.nc\n",
      "working on 2\n",
      "Saving to: /home/disk/chaos/mkb22/Documents/SeaIceData/LME/LIMs/sit_SImon_CESM_LME_nh_002_085001-200512.nc\n",
      "working on 3\n",
      "Saving to: /home/disk/chaos/mkb22/Documents/SeaIceData/LME/LIMs/sit_SImon_CESM_LME_nh_003_085001-200512.nc\n",
      "working on 4\n",
      "Saving to: /home/disk/chaos/mkb22/Documents/SeaIceData/LME/LIMs/sit_SImon_CESM_LME_nh_004_085001-200512.nc\n",
      "working on 5\n",
      "Saving to: /home/disk/chaos/mkb22/Documents/SeaIceData/LME/LIMs/sit_SImon_CESM_LME_nh_005_085001-200512.nc\n",
      "working on 6\n",
      "Saving to: /home/disk/chaos/mkb22/Documents/SeaIceData/LME/LIMs/sit_SImon_CESM_LME_nh_006_085001-200512.nc\n",
      "working on 7\n",
      "Saving to: /home/disk/chaos/mkb22/Documents/SeaIceData/LME/LIMs/sit_SImon_CESM_LME_nh_007_085001-200512.nc\n",
      "working on 8\n",
      "Saving to: /home/disk/chaos/mkb22/Documents/SeaIceData/LME/LIMs/sit_SImon_CESM_LME_nh_008_085001-200512.nc\n",
      "working on 9\n",
      "Saving to: /home/disk/chaos/mkb22/Documents/SeaIceData/LME/LIMs/sit_SImon_CESM_LME_nh_009_085001-200512.nc\n",
      "working on 10\n",
      "Saving to: /home/disk/chaos/mkb22/Documents/SeaIceData/LME/LIMs/sit_SImon_CESM_LME_nh_010_085001-200512.nc\n",
      "working on 11\n",
      "Saving to: /home/disk/chaos/mkb22/Documents/SeaIceData/LME/LIMs/sit_SImon_CESM_LME_nh_011_085001-200512.nc\n",
      "working on 12\n",
      "Saving to: /home/disk/chaos/mkb22/Documents/SeaIceData/LME/LIMs/sit_SImon_CESM_LME_nh_012_085001-200512.nc\n",
      "working on 13\n",
      "Saving to: /home/disk/chaos/mkb22/Documents/SeaIceData/LME/LIMs/sit_SImon_CESM_LME_nh_013_085001-200512.nc\n"
     ]
    }
   ],
   "source": [
    "namestart = 'sit_SImon_CESM_LME_nh_0'\n",
    "nameend = '_085001-200512.nc'\n",
    "\n",
    "for i in np.arange(0,13,1):\n",
    "    print('working on '+str(i+1))\n",
    "    namein = namestart+str(i+1).zfill(2)+nameend\n",
    "    \n",
    "    data = xr.open_dataset(datadir+namein, decode_coords=False, use_cftime=True)\n",
    "    data = data.rename({'hi':'sit', 'TLAT':'lat', 'TLON':'lon','ni':'nlon','nj':'nlat'})\n",
    "    data = fixmonth(data)\n",
    "    \n",
    "    print('Saving to: '+datadir+'LIMs/'+namein)\n",
    "    data.to_netcdf(datadir+'LIMs/'+namein)"
   ]
  },
  {
   "cell_type": "code",
   "execution_count": 35,
   "metadata": {},
   "outputs": [],
   "source": [
    "name = 'areacella_CESM_LME_global.nc'\n",
    "datadir = '/home/disk/chaos/mkb22/Documents/SeaIceData/LME/LIMs/'\n",
    "\n",
    "data = xr.open_dataset(datadir+name)\n",
    "data.to_netcdf(datadir+'areacella_CESM_LME_global_001.nc')"
   ]
  },
  {
   "cell_type": "code",
   "execution_count": 41,
   "metadata": {},
   "outputs": [],
   "source": [
    "import pickle"
   ]
  },
  {
   "cell_type": "code",
   "execution_count": 44,
   "metadata": {},
   "outputs": [],
   "source": [
    "ntrunc_sic = 5\n",
    "date_of_interest ='20211107'\n",
    "model='cesm_lme'\n",
    "\n",
    "folder = '/home/disk/kalman2/mkb22/SI_LIMs/sensitivity_testing/neofs/last_millennium/'\n",
    "filename = ('LIMcast_'+model+'_002_ntrain_850_1350_validyrs_1651_1750_sic'+str(ntrunc_sic)+\n",
    "            '_'+date_of_interest+'.pkl')\n",
    "\n",
    "LIMcast =  pickle.load(open(folder+filename, 'rb'))"
   ]
  },
  {
   "cell_type": "code",
   "execution_count": 54,
   "metadata": {},
   "outputs": [
    {
     "data": {
      "text/plain": [
       "dict_keys(['forecast', 'forecast_validation', 'forecast_validation_lags', 'ar1cast', 'ar1cast_lags'])"
      ]
     },
     "execution_count": 54,
     "metadata": {},
     "output_type": "execute_result"
    }
   ],
   "source": [
    "LIMcast.keys()"
   ]
  },
  {
   "cell_type": "code",
   "execution_count": 46,
   "metadata": {},
   "outputs": [
    {
     "data": {
      "text/plain": [
       "dict_keys(['P_train_valid', 'exp_setup', 'var_dict_valid', 'x_forecast_dcomp'])"
      ]
     },
     "execution_count": 46,
     "metadata": {},
     "output_type": "execute_result"
    }
   ],
   "source": [
    "LIMcast['forecast'].keys()"
   ]
  },
  {
   "cell_type": "code",
   "execution_count": 52,
   "metadata": {},
   "outputs": [
    {
     "data": {
      "text/plain": [
       "(33280, 12)"
      ]
     },
     "execution_count": 52,
     "metadata": {},
     "output_type": "execute_result"
    }
   ],
   "source": [
    "LIMcast['forecast']['var_dict_valid']['sic']['climo'].shape"
   ]
  },
  {
   "cell_type": "code",
   "execution_count": 61,
   "metadata": {},
   "outputs": [
    {
     "data": {
      "text/plain": [
       "dict_keys(['P_train_valid', 'exp_setup', 'var_dict_valid'])"
      ]
     },
     "execution_count": 61,
     "metadata": {},
     "output_type": "execute_result"
    }
   ],
   "source": [
    "LIMcast['forecast'].keys()"
   ]
  },
  {
   "cell_type": "code",
   "execution_count": 60,
   "metadata": {},
   "outputs": [],
   "source": [
    "if 'x_forecast_dcomp' in LIMcast['forecast'].keys():\n",
    "    LIMcast['forecast'].pop('x_forecast_dcomp')"
   ]
  },
  {
   "cell_type": "code",
   "execution_count": null,
   "metadata": {},
   "outputs": [],
   "source": []
  },
  {
   "cell_type": "code",
   "execution_count": null,
   "metadata": {},
   "outputs": [],
   "source": []
  },
  {
   "cell_type": "code",
   "execution_count": 23,
   "metadata": {},
   "outputs": [
    {
     "name": "stdout",
     "output_type": "stream",
     "text": [
      "working on 1\n",
      "Saving to: /home/disk/chaos/mkb22/Documents/SeaIceData/LME/LIMs/sic_SImon_CESM_LME_nh_001_085001-200512.nc\n",
      "working on 2\n",
      "Saving to: /home/disk/chaos/mkb22/Documents/SeaIceData/LME/LIMs/sic_SImon_CESM_LME_nh_002_085001-200512.nc\n",
      "working on 3\n",
      "Saving to: /home/disk/chaos/mkb22/Documents/SeaIceData/LME/LIMs/sic_SImon_CESM_LME_nh_003_085001-200512.nc\n",
      "working on 4\n",
      "Saving to: /home/disk/chaos/mkb22/Documents/SeaIceData/LME/LIMs/sic_SImon_CESM_LME_nh_004_085001-200512.nc\n",
      "working on 5\n",
      "Saving to: /home/disk/chaos/mkb22/Documents/SeaIceData/LME/LIMs/sic_SImon_CESM_LME_nh_005_085001-200512.nc\n",
      "working on 6\n",
      "Saving to: /home/disk/chaos/mkb22/Documents/SeaIceData/LME/LIMs/sic_SImon_CESM_LME_nh_006_085001-200512.nc\n",
      "working on 7\n",
      "Saving to: /home/disk/chaos/mkb22/Documents/SeaIceData/LME/LIMs/sic_SImon_CESM_LME_nh_007_085001-200512.nc\n",
      "working on 8\n",
      "Saving to: /home/disk/chaos/mkb22/Documents/SeaIceData/LME/LIMs/sic_SImon_CESM_LME_nh_008_085001-200512.nc\n",
      "working on 9\n",
      "Saving to: /home/disk/chaos/mkb22/Documents/SeaIceData/LME/LIMs/sic_SImon_CESM_LME_nh_009_085001-200512.nc\n",
      "working on 10\n",
      "Saving to: /home/disk/chaos/mkb22/Documents/SeaIceData/LME/LIMs/sic_SImon_CESM_LME_nh_010_085001-200512.nc\n",
      "working on 11\n",
      "Saving to: /home/disk/chaos/mkb22/Documents/SeaIceData/LME/LIMs/sic_SImon_CESM_LME_nh_011_085001-200512.nc\n",
      "working on 12\n",
      "Saving to: /home/disk/chaos/mkb22/Documents/SeaIceData/LME/LIMs/sic_SImon_CESM_LME_nh_012_085001-200512.nc\n",
      "working on 13\n",
      "Saving to: /home/disk/chaos/mkb22/Documents/SeaIceData/LME/LIMs/sic_SImon_CESM_LME_nh_013_085001-200512.nc\n"
     ]
    }
   ],
   "source": [
    "namestart1 = 'sic_SImon_CESM_LME_nh_0'\n",
    "namestart2 = 'siconc_SImon_CESM_LME_nh_0'\n",
    "nameend1 = '_085001-185012.nc'\n",
    "nameend2 = '_185001-200512.nc'\n",
    "nameend = '_085001-200512.nc'\n",
    "\n",
    "datadir = '/home/disk/chaos/mkb22/Documents/SeaIceData/LME/LIMs/'\n",
    "\n",
    "for i in np.arange(0,13,1):\n",
    "    print('working on '+str(i+1))\n",
    "    namein1 = namestart2+str(i+1).zfill(2)+nameend1\n",
    "    namein2 = namestart2+str(i+1).zfill(2)+nameend2\n",
    "    \n",
    "    data1 = xr.open_dataset(datadir+namein1, decode_coords=False, use_cftime=True)\n",
    "    data2 = xr.open_dataset(datadir+namein2, decode_coords=False, use_cftime=True)\n",
    "    \n",
    "    data = xr.concat([data1,data2],dim='time')\n",
    "    data = fixmonth(data)\n",
    "    \n",
    "    nameout = namestart1+str(i+1).zfill(2)+nameend\n",
    "    print('Saving to: '+datadir+nameout)\n",
    "    data.to_netcdf(datadir+nameout)"
   ]
  },
  {
   "cell_type": "code",
   "execution_count": null,
   "metadata": {},
   "outputs": [],
   "source": []
  },
  {
   "cell_type": "code",
   "execution_count": null,
   "metadata": {},
   "outputs": [],
   "source": []
  },
  {
   "cell_type": "code",
   "execution_count": null,
   "metadata": {},
   "outputs": [],
   "source": [
    "filenametas2 = 'tas_sfc_CESM_LME_002_085001-200512.nc'"
   ]
  },
  {
   "cell_type": "code",
   "execution_count": null,
   "metadata": {},
   "outputs": [],
   "source": [
    "dirin = '/home/disk/kalman3/rtardif/LMR/data/model/cesm_lme/'\n",
    "dirout = '/home/disk/chaos/mkb22/Documents/SeaIceData/LME/LIMs/'\n",
    "filename1 = 'siconc_SImon_CESM_LME_nh'\n",
    "filename2 = '_185001-200512.nc'\n",
    "\n",
    "for i in np.arange(0,13,1):\n",
    "    data = xr.open_dataset(dirout+filename1+filename2)\n",
    "    \n",
    "    print('Working on '+str(i+1).zfill(2))\n",
    "    data2 = data.isel(member=i)\n",
    "    data2.to_netcdf(dirout+filename1+'_0'+str(i+1).zfill(2)+filename2)"
   ]
  },
  {
   "cell_type": "code",
   "execution_count": null,
   "metadata": {},
   "outputs": [],
   "source": [
    "for i in np.arange(0,12,1):\n",
    "    print('Working on '+str(i+2).zfill(2))\n",
    "    datatas2 = datatas.isel(member=i)\n",
    "    datatas2.to_netcdf('tos_sfc_Omon_CESM_LMEallforc_0'+str(i+2).zfill(2)+'_085001-200512.nc')"
   ]
  },
  {
   "cell_type": "code",
   "execution_count": null,
   "metadata": {},
   "outputs": [],
   "source": [
    "datatas2  = xr.open_dataset('/home/disk/chaos/mkb22/Documents/SeaIceData/LME/LIMs/tas_sfc_Amon_CESM_LMEallforc_002_085001-200512.nc')\n",
    "datatas2"
   ]
  },
  {
   "cell_type": "code",
   "execution_count": null,
   "metadata": {},
   "outputs": [],
   "source": [
    "datatas1  = xr.open_dataset('/home/disk/chaos/mkb22/Documents/SeaIceData/LME/LIMs/tas_sfc_Amon_CESM_LMEallforc_001_085001-200512.nc')\n",
    "datatas1"
   ]
  },
  {
   "cell_type": "code",
   "execution_count": null,
   "metadata": {},
   "outputs": [],
   "source": [
    "datatas1 = datatas1.rename({'TREFHT':'tas'})\n",
    "datatas1"
   ]
  },
  {
   "cell_type": "code",
   "execution_count": null,
   "metadata": {},
   "outputs": [],
   "source": [
    "datatas1 = datatas1.assign_coords({'member':0})\n",
    "datatas1 = fixmonth(datatas1)"
   ]
  },
  {
   "cell_type": "code",
   "execution_count": null,
   "metadata": {},
   "outputs": [],
   "source": [
    "datatas1.to_netcdf('tas_sfc_Amon_CESM_LMEallforc_001_085001-200512.nc')"
   ]
  },
  {
   "cell_type": "code",
   "execution_count": null,
   "metadata": {},
   "outputs": [],
   "source": []
  },
  {
   "cell_type": "code",
   "execution_count": null,
   "metadata": {},
   "outputs": [],
   "source": [
    "data_tot = xr.concat([datatas1,datatas],dim='member')"
   ]
  },
  {
   "cell_type": "code",
   "execution_count": null,
   "metadata": {},
   "outputs": [],
   "source": [
    "data_tot"
   ]
  },
  {
   "cell_type": "code",
   "execution_count": null,
   "metadata": {},
   "outputs": [],
   "source": []
  },
  {
   "cell_type": "code",
   "execution_count": null,
   "metadata": {},
   "outputs": [],
   "source": []
  },
  {
   "cell_type": "code",
   "execution_count": null,
   "metadata": {},
   "outputs": [],
   "source": [
    "(datatas2.tas.isel(time=0)-datatas1.tas.isel(time=0)).plot()"
   ]
  },
  {
   "cell_type": "code",
   "execution_count": null,
   "metadata": {},
   "outputs": [],
   "source": [
    "datatas.tas.isel(member=0,time=0).plot()"
   ]
  },
  {
   "cell_type": "code",
   "execution_count": null,
   "metadata": {},
   "outputs": [],
   "source": [
    "(datatas.tas.isel(member=0,time=0) - datatrefht.TREFHT.isel(time=0)).plot()"
   ]
  },
  {
   "cell_type": "code",
   "execution_count": null,
   "metadata": {},
   "outputs": [],
   "source": [
    "import numpy as np"
   ]
  },
  {
   "cell_type": "code",
   "execution_count": null,
   "metadata": {},
   "outputs": [],
   "source": [
    "plt.plot(datatas.tas.isel(member=0,lat=0,lon=100).values)\n",
    "plt.plot(datatrefht.TREFHT.isel(lat=0,lon=100).values)"
   ]
  },
  {
   "cell_type": "code",
   "execution_count": null,
   "metadata": {},
   "outputs": [],
   "source": []
  },
  {
   "cell_type": "code",
   "execution_count": null,
   "metadata": {},
   "outputs": [],
   "source": []
  },
  {
   "cell_type": "code",
   "execution_count": null,
   "metadata": {},
   "outputs": [],
   "source": []
  },
  {
   "cell_type": "code",
   "execution_count": null,
   "metadata": {},
   "outputs": [],
   "source": []
  },
  {
   "cell_type": "code",
   "execution_count": 15,
   "metadata": {},
   "outputs": [],
   "source": [
    "def fixmonth(dfile):\n",
    "\n",
    "    \"\"\"Fix CESM months since by default the timestamp is for the first day of\n",
    "    the next month\n",
    "    \n",
    "    author: Andrew Pauling \n",
    "\n",
    "    Parameters\n",
    "    ----------\n",
    "\n",
    "    dfile : xarray dataset\n",
    "            Dataset containing time to fix\n",
    "\n",
    "    Returns\n",
    "    -------\n",
    "\n",
    "    dfile : xarray dataset\n",
    "            Fixed dataset\n",
    "    \"\"\"\n",
    "\n",
    "    mytime = dfile['time'][:].data\n",
    "    for time in range(mytime.size):\n",
    "        if mytime[time].month > 1:\n",
    "            mytime[time] = mytime[time].replace(month=mytime[time].month-1)\n",
    "        elif mytime[time].month == 1:\n",
    "            mytime[time] = mytime[time].replace(month=12)\n",
    "            mytime[time] = mytime[time].replace(year=mytime[time].year-1)\n",
    "\n",
    "    dfile = dfile.assign_coords(time=mytime)\n",
    "\n",
    "    return dfile"
   ]
  },
  {
   "cell_type": "code",
   "execution_count": null,
   "metadata": {},
   "outputs": [],
   "source": []
  },
  {
   "cell_type": "code",
   "execution_count": null,
   "metadata": {},
   "outputs": [],
   "source": []
  },
  {
   "cell_type": "code",
   "execution_count": null,
   "metadata": {},
   "outputs": [],
   "source": []
  },
  {
   "cell_type": "code",
   "execution_count": null,
   "metadata": {},
   "outputs": [],
   "source": []
  },
  {
   "cell_type": "code",
   "execution_count": null,
   "metadata": {},
   "outputs": [],
   "source": []
  }
 ],
 "metadata": {
  "kernelspec": {
   "display_name": "Python 3",
   "language": "python",
   "name": "python3"
  },
  "language_info": {
   "codemirror_mode": {
    "name": "ipython",
    "version": 3
   },
   "file_extension": ".py",
   "mimetype": "text/x-python",
   "name": "python",
   "nbconvert_exporter": "python",
   "pygments_lexer": "ipython3",
   "version": "3.6.6"
  }
 },
 "nbformat": 4,
 "nbformat_minor": 2
}
