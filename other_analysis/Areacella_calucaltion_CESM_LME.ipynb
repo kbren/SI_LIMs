{
 "cells": [
  {
   "cell_type": "markdown",
   "metadata": {},
   "source": [
    "# Calculating areacella for CESM LME: \n",
    "  \n",
    "Katie Brennan  \n",
    "November 2021"
   ]
  },
  {
   "cell_type": "code",
   "execution_count": 1,
   "metadata": {},
   "outputs": [],
   "source": [
    "import xarray as xr\n",
    "import numpy as np\n",
    "\n",
    "import matplotlib.pyplot as plt"
   ]
  },
  {
   "cell_type": "code",
   "execution_count": 2,
   "metadata": {},
   "outputs": [],
   "source": [
    "Re_e = 6378.137*1000 # meters\n",
    "Re_p = 6356.752*1000 #meters"
   ]
  },
  {
   "cell_type": "code",
   "execution_count": 3,
   "metadata": {},
   "outputs": [
    {
     "data": {
      "text/plain": [
       "6378137.0"
      ]
     },
     "execution_count": 3,
     "metadata": {},
     "output_type": "execute_result"
    }
   ],
   "source": [
    "Re_e"
   ]
  },
  {
   "cell_type": "code",
   "execution_count": 3,
   "metadata": {},
   "outputs": [],
   "source": [
    "data_dir = '/home/disk/chaos/mkb22/Documents/SeaIceData/LME/LIMs/'\n",
    "data_name = 'tas_sfc_Amon_CESM_LMEallforc_085101-200512.nc'\n",
    "\n",
    "data = xr.open_dataset(data_dir+data_name)"
   ]
  },
  {
   "cell_type": "code",
   "execution_count": 4,
   "metadata": {},
   "outputs": [
    {
     "data": {
      "text/html": [
       "<div><svg style=\"position: absolute; width: 0; height: 0; overflow: hidden\">\n",
       "<defs>\n",
       "<symbol id=\"icon-database\" viewBox=\"0 0 32 32\">\n",
       "<path d=\"M16 0c-8.837 0-16 2.239-16 5v4c0 2.761 7.163 5 16 5s16-2.239 16-5v-4c0-2.761-7.163-5-16-5z\"></path>\n",
       "<path d=\"M16 17c-8.837 0-16-2.239-16-5v6c0 2.761 7.163 5 16 5s16-2.239 16-5v-6c0 2.761-7.163 5-16 5z\"></path>\n",
       "<path d=\"M16 26c-8.837 0-16-2.239-16-5v6c0 2.761 7.163 5 16 5s16-2.239 16-5v-6c0 2.761-7.163 5-16 5z\"></path>\n",
       "</symbol>\n",
       "<symbol id=\"icon-file-text2\" viewBox=\"0 0 32 32\">\n",
       "<path d=\"M28.681 7.159c-0.694-0.947-1.662-2.053-2.724-3.116s-2.169-2.030-3.116-2.724c-1.612-1.182-2.393-1.319-2.841-1.319h-15.5c-1.378 0-2.5 1.121-2.5 2.5v27c0 1.378 1.122 2.5 2.5 2.5h23c1.378 0 2.5-1.122 2.5-2.5v-19.5c0-0.448-0.137-1.23-1.319-2.841zM24.543 5.457c0.959 0.959 1.712 1.825 2.268 2.543h-4.811v-4.811c0.718 0.556 1.584 1.309 2.543 2.268zM28 29.5c0 0.271-0.229 0.5-0.5 0.5h-23c-0.271 0-0.5-0.229-0.5-0.5v-27c0-0.271 0.229-0.5 0.5-0.5 0 0 15.499-0 15.5 0v7c0 0.552 0.448 1 1 1h7v19.5z\"></path>\n",
       "<path d=\"M23 26h-14c-0.552 0-1-0.448-1-1s0.448-1 1-1h14c0.552 0 1 0.448 1 1s-0.448 1-1 1z\"></path>\n",
       "<path d=\"M23 22h-14c-0.552 0-1-0.448-1-1s0.448-1 1-1h14c0.552 0 1 0.448 1 1s-0.448 1-1 1z\"></path>\n",
       "<path d=\"M23 18h-14c-0.552 0-1-0.448-1-1s0.448-1 1-1h14c0.552 0 1 0.448 1 1s-0.448 1-1 1z\"></path>\n",
       "</symbol>\n",
       "</defs>\n",
       "</svg>\n",
       "<style>/* CSS stylesheet for displaying xarray objects in jupyterlab.\n",
       " *\n",
       " */\n",
       "\n",
       ":root {\n",
       "  --xr-font-color0: var(--jp-content-font-color0, rgba(0, 0, 0, 1));\n",
       "  --xr-font-color2: var(--jp-content-font-color2, rgba(0, 0, 0, 0.54));\n",
       "  --xr-font-color3: var(--jp-content-font-color3, rgba(0, 0, 0, 0.38));\n",
       "  --xr-border-color: var(--jp-border-color2, #e0e0e0);\n",
       "  --xr-disabled-color: var(--jp-layout-color3, #bdbdbd);\n",
       "  --xr-background-color: var(--jp-layout-color0, white);\n",
       "  --xr-background-color-row-even: var(--jp-layout-color1, white);\n",
       "  --xr-background-color-row-odd: var(--jp-layout-color2, #eeeeee);\n",
       "}\n",
       "\n",
       "html[theme=dark],\n",
       "body.vscode-dark {\n",
       "  --xr-font-color0: rgba(255, 255, 255, 1);\n",
       "  --xr-font-color2: rgba(255, 255, 255, 0.54);\n",
       "  --xr-font-color3: rgba(255, 255, 255, 0.38);\n",
       "  --xr-border-color: #1F1F1F;\n",
       "  --xr-disabled-color: #515151;\n",
       "  --xr-background-color: #111111;\n",
       "  --xr-background-color-row-even: #111111;\n",
       "  --xr-background-color-row-odd: #313131;\n",
       "}\n",
       "\n",
       ".xr-wrap {\n",
       "  display: block;\n",
       "  min-width: 300px;\n",
       "  max-width: 700px;\n",
       "}\n",
       "\n",
       ".xr-text-repr-fallback {\n",
       "  /* fallback to plain text repr when CSS is not injected (untrusted notebook) */\n",
       "  display: none;\n",
       "}\n",
       "\n",
       ".xr-header {\n",
       "  padding-top: 6px;\n",
       "  padding-bottom: 6px;\n",
       "  margin-bottom: 4px;\n",
       "  border-bottom: solid 1px var(--xr-border-color);\n",
       "}\n",
       "\n",
       ".xr-header > div,\n",
       ".xr-header > ul {\n",
       "  display: inline;\n",
       "  margin-top: 0;\n",
       "  margin-bottom: 0;\n",
       "}\n",
       "\n",
       ".xr-obj-type,\n",
       ".xr-array-name {\n",
       "  margin-left: 2px;\n",
       "  margin-right: 10px;\n",
       "}\n",
       "\n",
       ".xr-obj-type {\n",
       "  color: var(--xr-font-color2);\n",
       "}\n",
       "\n",
       ".xr-sections {\n",
       "  padding-left: 0 !important;\n",
       "  display: grid;\n",
       "  grid-template-columns: 150px auto auto 1fr 20px 20px;\n",
       "}\n",
       "\n",
       ".xr-section-item {\n",
       "  display: contents;\n",
       "}\n",
       "\n",
       ".xr-section-item input {\n",
       "  display: none;\n",
       "}\n",
       "\n",
       ".xr-section-item input + label {\n",
       "  color: var(--xr-disabled-color);\n",
       "}\n",
       "\n",
       ".xr-section-item input:enabled + label {\n",
       "  cursor: pointer;\n",
       "  color: var(--xr-font-color2);\n",
       "}\n",
       "\n",
       ".xr-section-item input:enabled + label:hover {\n",
       "  color: var(--xr-font-color0);\n",
       "}\n",
       "\n",
       ".xr-section-summary {\n",
       "  grid-column: 1;\n",
       "  color: var(--xr-font-color2);\n",
       "  font-weight: 500;\n",
       "}\n",
       "\n",
       ".xr-section-summary > span {\n",
       "  display: inline-block;\n",
       "  padding-left: 0.5em;\n",
       "}\n",
       "\n",
       ".xr-section-summary-in:disabled + label {\n",
       "  color: var(--xr-font-color2);\n",
       "}\n",
       "\n",
       ".xr-section-summary-in + label:before {\n",
       "  display: inline-block;\n",
       "  content: '►';\n",
       "  font-size: 11px;\n",
       "  width: 15px;\n",
       "  text-align: center;\n",
       "}\n",
       "\n",
       ".xr-section-summary-in:disabled + label:before {\n",
       "  color: var(--xr-disabled-color);\n",
       "}\n",
       "\n",
       ".xr-section-summary-in:checked + label:before {\n",
       "  content: '▼';\n",
       "}\n",
       "\n",
       ".xr-section-summary-in:checked + label > span {\n",
       "  display: none;\n",
       "}\n",
       "\n",
       ".xr-section-summary,\n",
       ".xr-section-inline-details {\n",
       "  padding-top: 4px;\n",
       "  padding-bottom: 4px;\n",
       "}\n",
       "\n",
       ".xr-section-inline-details {\n",
       "  grid-column: 2 / -1;\n",
       "}\n",
       "\n",
       ".xr-section-details {\n",
       "  display: none;\n",
       "  grid-column: 1 / -1;\n",
       "  margin-bottom: 5px;\n",
       "}\n",
       "\n",
       ".xr-section-summary-in:checked ~ .xr-section-details {\n",
       "  display: contents;\n",
       "}\n",
       "\n",
       ".xr-array-wrap {\n",
       "  grid-column: 1 / -1;\n",
       "  display: grid;\n",
       "  grid-template-columns: 20px auto;\n",
       "}\n",
       "\n",
       ".xr-array-wrap > label {\n",
       "  grid-column: 1;\n",
       "  vertical-align: top;\n",
       "}\n",
       "\n",
       ".xr-preview {\n",
       "  color: var(--xr-font-color3);\n",
       "}\n",
       "\n",
       ".xr-array-preview,\n",
       ".xr-array-data {\n",
       "  padding: 0 5px !important;\n",
       "  grid-column: 2;\n",
       "}\n",
       "\n",
       ".xr-array-data,\n",
       ".xr-array-in:checked ~ .xr-array-preview {\n",
       "  display: none;\n",
       "}\n",
       "\n",
       ".xr-array-in:checked ~ .xr-array-data,\n",
       ".xr-array-preview {\n",
       "  display: inline-block;\n",
       "}\n",
       "\n",
       ".xr-dim-list {\n",
       "  display: inline-block !important;\n",
       "  list-style: none;\n",
       "  padding: 0 !important;\n",
       "  margin: 0;\n",
       "}\n",
       "\n",
       ".xr-dim-list li {\n",
       "  display: inline-block;\n",
       "  padding: 0;\n",
       "  margin: 0;\n",
       "}\n",
       "\n",
       ".xr-dim-list:before {\n",
       "  content: '(';\n",
       "}\n",
       "\n",
       ".xr-dim-list:after {\n",
       "  content: ')';\n",
       "}\n",
       "\n",
       ".xr-dim-list li:not(:last-child):after {\n",
       "  content: ',';\n",
       "  padding-right: 5px;\n",
       "}\n",
       "\n",
       ".xr-has-index {\n",
       "  font-weight: bold;\n",
       "}\n",
       "\n",
       ".xr-var-list,\n",
       ".xr-var-item {\n",
       "  display: contents;\n",
       "}\n",
       "\n",
       ".xr-var-item > div,\n",
       ".xr-var-item label,\n",
       ".xr-var-item > .xr-var-name span {\n",
       "  background-color: var(--xr-background-color-row-even);\n",
       "  margin-bottom: 0;\n",
       "}\n",
       "\n",
       ".xr-var-item > .xr-var-name:hover span {\n",
       "  padding-right: 5px;\n",
       "}\n",
       "\n",
       ".xr-var-list > li:nth-child(odd) > div,\n",
       ".xr-var-list > li:nth-child(odd) > label,\n",
       ".xr-var-list > li:nth-child(odd) > .xr-var-name span {\n",
       "  background-color: var(--xr-background-color-row-odd);\n",
       "}\n",
       "\n",
       ".xr-var-name {\n",
       "  grid-column: 1;\n",
       "}\n",
       "\n",
       ".xr-var-dims {\n",
       "  grid-column: 2;\n",
       "}\n",
       "\n",
       ".xr-var-dtype {\n",
       "  grid-column: 3;\n",
       "  text-align: right;\n",
       "  color: var(--xr-font-color2);\n",
       "}\n",
       "\n",
       ".xr-var-preview {\n",
       "  grid-column: 4;\n",
       "}\n",
       "\n",
       ".xr-var-name,\n",
       ".xr-var-dims,\n",
       ".xr-var-dtype,\n",
       ".xr-preview,\n",
       ".xr-attrs dt {\n",
       "  white-space: nowrap;\n",
       "  overflow: hidden;\n",
       "  text-overflow: ellipsis;\n",
       "  padding-right: 10px;\n",
       "}\n",
       "\n",
       ".xr-var-name:hover,\n",
       ".xr-var-dims:hover,\n",
       ".xr-var-dtype:hover,\n",
       ".xr-attrs dt:hover {\n",
       "  overflow: visible;\n",
       "  width: auto;\n",
       "  z-index: 1;\n",
       "}\n",
       "\n",
       ".xr-var-attrs,\n",
       ".xr-var-data {\n",
       "  display: none;\n",
       "  background-color: var(--xr-background-color) !important;\n",
       "  padding-bottom: 5px !important;\n",
       "}\n",
       "\n",
       ".xr-var-attrs-in:checked ~ .xr-var-attrs,\n",
       ".xr-var-data-in:checked ~ .xr-var-data {\n",
       "  display: block;\n",
       "}\n",
       "\n",
       ".xr-var-data > table {\n",
       "  float: right;\n",
       "}\n",
       "\n",
       ".xr-var-name span,\n",
       ".xr-var-data,\n",
       ".xr-attrs {\n",
       "  padding-left: 25px !important;\n",
       "}\n",
       "\n",
       ".xr-attrs,\n",
       ".xr-var-attrs,\n",
       ".xr-var-data {\n",
       "  grid-column: 1 / -1;\n",
       "}\n",
       "\n",
       "dl.xr-attrs {\n",
       "  padding: 0;\n",
       "  margin: 0;\n",
       "  display: grid;\n",
       "  grid-template-columns: 125px auto;\n",
       "}\n",
       "\n",
       ".xr-attrs dt,\n",
       ".xr-attrs dd {\n",
       "  padding: 0;\n",
       "  margin: 0;\n",
       "  float: left;\n",
       "  padding-right: 10px;\n",
       "  width: auto;\n",
       "}\n",
       "\n",
       ".xr-attrs dt {\n",
       "  font-weight: normal;\n",
       "  grid-column: 1;\n",
       "}\n",
       "\n",
       ".xr-attrs dt:hover span {\n",
       "  display: inline-block;\n",
       "  background: var(--xr-background-color);\n",
       "  padding-right: 10px;\n",
       "}\n",
       "\n",
       ".xr-attrs dd {\n",
       "  grid-column: 2;\n",
       "  white-space: pre-wrap;\n",
       "  word-break: break-all;\n",
       "}\n",
       "\n",
       ".xr-icon-database,\n",
       ".xr-icon-file-text2 {\n",
       "  display: inline-block;\n",
       "  vertical-align: middle;\n",
       "  width: 1em;\n",
       "  height: 1.5em !important;\n",
       "  stroke-width: 0;\n",
       "  stroke: currentColor;\n",
       "  fill: currentColor;\n",
       "}\n",
       "</style><pre class='xr-text-repr-fallback'>&lt;xarray.Dataset&gt;\n",
       "Dimensions:    (lat: 96, lon: 144, member: 12, nbnd: 2, time: 13860)\n",
       "Coordinates:\n",
       "  * time       (time) object 0851-01-17 00:00:00 ... 2005-12-17 00:00:00\n",
       "  * lat        (lat) float64 -90.0 -88.11 -86.21 -84.32 ... 86.21 88.11 90.0\n",
       "  * lon        (lon) float64 0.0 2.5 5.0 7.5 10.0 ... 350.0 352.5 355.0 357.5\n",
       "  * member     (member) int32 1 2 3 4 5 6 7 8 9 10 11 12\n",
       "Dimensions without coordinates: nbnd\n",
       "Data variables:\n",
       "    time_bnds  (time, nbnd) object 0851-01-01 00:00:00 ... 1006-01-01 00:00:00\n",
       "    tas        (member, time, lat, lon) float32 ...\n",
       "Attributes:\n",
       "    Conventions:               CF-1.0\n",
       "    source:                    CAM\n",
       "    case:                      b.e11.BLMTRC5CN.f19_g16.002\n",
       "    title:                     UNSET\n",
       "    logname:                   mai\n",
       "    host:                      ys0137\n",
       "    Version:                   $Name$\n",
       "    revision_Id:               $Id$\n",
       "    initial_file:              b.e11.B1850C5CN.f19_g16.0850cntl.001.cam.i.085...\n",
       "    topography_file:           /glade/p/cesmdata/cseg/inputdata/atm/cam/topo/...\n",
       "    nco_openmp_thread_number:  1\n",
       "    history:                   Fri Oct  2 15:20:52 2020: ncecat -u member /ho...\n",
       "    NCO:                       &quot;4.6.3&quot;</pre><div class='xr-wrap' hidden><div class='xr-header'><div class='xr-obj-type'>xarray.Dataset</div></div><ul class='xr-sections'><li class='xr-section-item'><input id='section-18ab8993-a900-4ddf-b37d-4374ca57f86f' class='xr-section-summary-in' type='checkbox' disabled ><label for='section-18ab8993-a900-4ddf-b37d-4374ca57f86f' class='xr-section-summary'  title='Expand/collapse section'>Dimensions:</label><div class='xr-section-inline-details'><ul class='xr-dim-list'><li><span class='xr-has-index'>lat</span>: 96</li><li><span class='xr-has-index'>lon</span>: 144</li><li><span class='xr-has-index'>member</span>: 12</li><li><span>nbnd</span>: 2</li><li><span class='xr-has-index'>time</span>: 13860</li></ul></div><div class='xr-section-details'></div></li><li class='xr-section-item'><input id='section-b08c2cf6-80df-46ff-8ce4-ddc652ec576f' class='xr-section-summary-in' type='checkbox'  checked><label for='section-b08c2cf6-80df-46ff-8ce4-ddc652ec576f' class='xr-section-summary' >Coordinates: <span>(4)</span></label><div class='xr-section-inline-details'></div><div class='xr-section-details'><ul class='xr-var-list'><li class='xr-var-item'><div class='xr-var-name'><span class='xr-has-index'>time</span></div><div class='xr-var-dims'>(time)</div><div class='xr-var-dtype'>object</div><div class='xr-var-preview xr-preview'>0851-01-17 00:00:00 ... 2005-12-...</div><input id='attrs-10842b37-cbf8-43f2-8843-27573f4ac8fb' class='xr-var-attrs-in' type='checkbox' ><label for='attrs-10842b37-cbf8-43f2-8843-27573f4ac8fb' title='Show/Hide attributes'><svg class='icon xr-icon-file-text2'><use xlink:href='#icon-file-text2'></use></svg></label><input id='data-ed6621b1-7493-4d2b-ba03-7c026c113876' class='xr-var-data-in' type='checkbox'><label for='data-ed6621b1-7493-4d2b-ba03-7c026c113876' title='Show/Hide data repr'><svg class='icon xr-icon-database'><use xlink:href='#icon-database'></use></svg></label><div class='xr-var-attrs'><dl class='xr-attrs'><dt><span>bounds :</span></dt><dd>time_bnds</dd><dt><span>long_name :</span></dt><dd>time</dd></dl></div><div class='xr-var-data'><pre>array([cftime._cftime.DatetimeNoLeap(851, 1, 17, 0, 0, 0, 0, 1, 17),\n",
       "       cftime._cftime.DatetimeNoLeap(851, 2, 14, 0, 0, 0, 0, 1, 45),\n",
       "       cftime._cftime.DatetimeNoLeap(851, 3, 17, 0, 0, 0, 0, 4, 76), ...,\n",
       "       cftime._cftime.DatetimeNoLeap(2005, 10, 17, 0, 0, 0, 0, 0, 290),\n",
       "       cftime._cftime.DatetimeNoLeap(2005, 11, 16, 0, 0, 0, 0, 2, 320),\n",
       "       cftime._cftime.DatetimeNoLeap(2005, 12, 17, 0, 0, 0, 0, 5, 351)],\n",
       "      dtype=object)</pre></div></li><li class='xr-var-item'><div class='xr-var-name'><span class='xr-has-index'>lat</span></div><div class='xr-var-dims'>(lat)</div><div class='xr-var-dtype'>float64</div><div class='xr-var-preview xr-preview'>-90.0 -88.11 -86.21 ... 88.11 90.0</div><input id='attrs-4890839a-635d-4ef2-96c5-23e3d04a1e8f' class='xr-var-attrs-in' type='checkbox' ><label for='attrs-4890839a-635d-4ef2-96c5-23e3d04a1e8f' title='Show/Hide attributes'><svg class='icon xr-icon-file-text2'><use xlink:href='#icon-file-text2'></use></svg></label><input id='data-e6c6db2d-3648-4a67-9879-7994d224c4a4' class='xr-var-data-in' type='checkbox'><label for='data-e6c6db2d-3648-4a67-9879-7994d224c4a4' title='Show/Hide data repr'><svg class='icon xr-icon-database'><use xlink:href='#icon-database'></use></svg></label><div class='xr-var-attrs'><dl class='xr-attrs'><dt><span>long_name :</span></dt><dd>latitude</dd><dt><span>units :</span></dt><dd>degrees_north</dd></dl></div><div class='xr-var-data'><pre>array([-90.      , -88.105263, -86.210526, -84.315789, -82.421053, -80.526316,\n",
       "       -78.631579, -76.736842, -74.842105, -72.947368, -71.052632, -69.157895,\n",
       "       -67.263158, -65.368421, -63.473684, -61.578947, -59.684211, -57.789474,\n",
       "       -55.894737, -54.      , -52.105263, -50.210526, -48.315789, -46.421053,\n",
       "       -44.526316, -42.631579, -40.736842, -38.842105, -36.947368, -35.052632,\n",
       "       -33.157895, -31.263158, -29.368421, -27.473684, -25.578947, -23.684211,\n",
       "       -21.789474, -19.894737, -18.      , -16.105263, -14.210526, -12.315789,\n",
       "       -10.421053,  -8.526316,  -6.631579,  -4.736842,  -2.842105,  -0.947368,\n",
       "         0.947368,   2.842105,   4.736842,   6.631579,   8.526316,  10.421053,\n",
       "        12.315789,  14.210526,  16.105263,  18.      ,  19.894737,  21.789474,\n",
       "        23.684211,  25.578947,  27.473684,  29.368421,  31.263158,  33.157895,\n",
       "        35.052632,  36.947368,  38.842105,  40.736842,  42.631579,  44.526316,\n",
       "        46.421053,  48.315789,  50.210526,  52.105263,  54.      ,  55.894737,\n",
       "        57.789474,  59.684211,  61.578947,  63.473684,  65.368421,  67.263158,\n",
       "        69.157895,  71.052632,  72.947368,  74.842105,  76.736842,  78.631579,\n",
       "        80.526316,  82.421053,  84.315789,  86.210526,  88.105263,  90.      ])</pre></div></li><li class='xr-var-item'><div class='xr-var-name'><span class='xr-has-index'>lon</span></div><div class='xr-var-dims'>(lon)</div><div class='xr-var-dtype'>float64</div><div class='xr-var-preview xr-preview'>0.0 2.5 5.0 ... 352.5 355.0 357.5</div><input id='attrs-52d85c46-e195-44e0-b2da-935c7953d34d' class='xr-var-attrs-in' type='checkbox' ><label for='attrs-52d85c46-e195-44e0-b2da-935c7953d34d' title='Show/Hide attributes'><svg class='icon xr-icon-file-text2'><use xlink:href='#icon-file-text2'></use></svg></label><input id='data-a0c793b2-c5ca-4a35-be1f-9fc1ffd87058' class='xr-var-data-in' type='checkbox'><label for='data-a0c793b2-c5ca-4a35-be1f-9fc1ffd87058' title='Show/Hide data repr'><svg class='icon xr-icon-database'><use xlink:href='#icon-database'></use></svg></label><div class='xr-var-attrs'><dl class='xr-attrs'><dt><span>long_name :</span></dt><dd>longitude</dd><dt><span>units :</span></dt><dd>degrees_east</dd></dl></div><div class='xr-var-data'><pre>array([  0. ,   2.5,   5. ,   7.5,  10. ,  12.5,  15. ,  17.5,  20. ,  22.5,\n",
       "        25. ,  27.5,  30. ,  32.5,  35. ,  37.5,  40. ,  42.5,  45. ,  47.5,\n",
       "        50. ,  52.5,  55. ,  57.5,  60. ,  62.5,  65. ,  67.5,  70. ,  72.5,\n",
       "        75. ,  77.5,  80. ,  82.5,  85. ,  87.5,  90. ,  92.5,  95. ,  97.5,\n",
       "       100. , 102.5, 105. , 107.5, 110. , 112.5, 115. , 117.5, 120. , 122.5,\n",
       "       125. , 127.5, 130. , 132.5, 135. , 137.5, 140. , 142.5, 145. , 147.5,\n",
       "       150. , 152.5, 155. , 157.5, 160. , 162.5, 165. , 167.5, 170. , 172.5,\n",
       "       175. , 177.5, 180. , 182.5, 185. , 187.5, 190. , 192.5, 195. , 197.5,\n",
       "       200. , 202.5, 205. , 207.5, 210. , 212.5, 215. , 217.5, 220. , 222.5,\n",
       "       225. , 227.5, 230. , 232.5, 235. , 237.5, 240. , 242.5, 245. , 247.5,\n",
       "       250. , 252.5, 255. , 257.5, 260. , 262.5, 265. , 267.5, 270. , 272.5,\n",
       "       275. , 277.5, 280. , 282.5, 285. , 287.5, 290. , 292.5, 295. , 297.5,\n",
       "       300. , 302.5, 305. , 307.5, 310. , 312.5, 315. , 317.5, 320. , 322.5,\n",
       "       325. , 327.5, 330. , 332.5, 335. , 337.5, 340. , 342.5, 345. , 347.5,\n",
       "       350. , 352.5, 355. , 357.5])</pre></div></li><li class='xr-var-item'><div class='xr-var-name'><span class='xr-has-index'>member</span></div><div class='xr-var-dims'>(member)</div><div class='xr-var-dtype'>int32</div><div class='xr-var-preview xr-preview'>1 2 3 4 5 6 7 8 9 10 11 12</div><input id='attrs-6b821b7b-e436-440d-8ae7-5c4bfd172350' class='xr-var-attrs-in' type='checkbox' disabled><label for='attrs-6b821b7b-e436-440d-8ae7-5c4bfd172350' title='Show/Hide attributes'><svg class='icon xr-icon-file-text2'><use xlink:href='#icon-file-text2'></use></svg></label><input id='data-bf72a84f-0275-4e6c-81aa-b12ba21dccfa' class='xr-var-data-in' type='checkbox'><label for='data-bf72a84f-0275-4e6c-81aa-b12ba21dccfa' title='Show/Hide data repr'><svg class='icon xr-icon-database'><use xlink:href='#icon-database'></use></svg></label><div class='xr-var-attrs'><dl class='xr-attrs'></dl></div><div class='xr-var-data'><pre>array([ 1,  2,  3,  4,  5,  6,  7,  8,  9, 10, 11, 12], dtype=int32)</pre></div></li></ul></div></li><li class='xr-section-item'><input id='section-a76cc375-1da2-4ba6-bd0e-9ddf3f91f548' class='xr-section-summary-in' type='checkbox'  checked><label for='section-a76cc375-1da2-4ba6-bd0e-9ddf3f91f548' class='xr-section-summary' >Data variables: <span>(2)</span></label><div class='xr-section-inline-details'></div><div class='xr-section-details'><ul class='xr-var-list'><li class='xr-var-item'><div class='xr-var-name'><span>time_bnds</span></div><div class='xr-var-dims'>(time, nbnd)</div><div class='xr-var-dtype'>object</div><div class='xr-var-preview xr-preview'>...</div><input id='attrs-31f30daa-842a-4fd6-8e60-ed5189e1c5ed' class='xr-var-attrs-in' type='checkbox' ><label for='attrs-31f30daa-842a-4fd6-8e60-ed5189e1c5ed' title='Show/Hide attributes'><svg class='icon xr-icon-file-text2'><use xlink:href='#icon-file-text2'></use></svg></label><input id='data-385a8461-327a-4286-820f-0eeb6f74cdcc' class='xr-var-data-in' type='checkbox'><label for='data-385a8461-327a-4286-820f-0eeb6f74cdcc' title='Show/Hide data repr'><svg class='icon xr-icon-database'><use xlink:href='#icon-database'></use></svg></label><div class='xr-var-attrs'><dl class='xr-attrs'><dt><span>long_name :</span></dt><dd>time interval endpoints</dd></dl></div><div class='xr-var-data'><pre>array([[cftime._cftime.DatetimeNoLeap(851, 1, 1, 0, 0, 0, 0, 6, 1),\n",
       "        cftime._cftime.DatetimeNoLeap(851, 2, 1, 0, 0, 0, 0, 2, 32)],\n",
       "       [cftime._cftime.DatetimeNoLeap(851, 2, 1, 0, 0, 0, 0, 2, 32),\n",
       "        cftime._cftime.DatetimeNoLeap(851, 3, 1, 0, 0, 0, 0, 2, 60)],\n",
       "       [cftime._cftime.DatetimeNoLeap(851, 3, 1, 0, 0, 0, 0, 2, 60),\n",
       "        cftime._cftime.DatetimeNoLeap(851, 4, 1, 0, 0, 0, 0, 5, 91)],\n",
       "       ...,\n",
       "       [cftime._cftime.DatetimeNoLeap(1005, 10, 1, 0, 0, 0, 0, 6, 274),\n",
       "        cftime._cftime.DatetimeNoLeap(1005, 11, 1, 0, 0, 0, 0, 2, 305)],\n",
       "       [cftime._cftime.DatetimeNoLeap(1005, 11, 1, 0, 0, 0, 0, 2, 305),\n",
       "        cftime._cftime.DatetimeNoLeap(1005, 12, 1, 0, 0, 0, 0, 4, 335)],\n",
       "       [cftime._cftime.DatetimeNoLeap(1005, 12, 1, 0, 0, 0, 0, 4, 335),\n",
       "        cftime._cftime.DatetimeNoLeap(1006, 1, 1, 0, 0, 0, 0, 0, 1)]],\n",
       "      dtype=object)</pre></div></li><li class='xr-var-item'><div class='xr-var-name'><span>tas</span></div><div class='xr-var-dims'>(member, time, lat, lon)</div><div class='xr-var-dtype'>float32</div><div class='xr-var-preview xr-preview'>...</div><input id='attrs-27c4d379-a3aa-42d8-a75b-5880f4d37190' class='xr-var-attrs-in' type='checkbox' ><label for='attrs-27c4d379-a3aa-42d8-a75b-5880f4d37190' title='Show/Hide attributes'><svg class='icon xr-icon-file-text2'><use xlink:href='#icon-file-text2'></use></svg></label><input id='data-c61351e0-5ed0-46b5-90d6-278468f74bbe' class='xr-var-data-in' type='checkbox'><label for='data-c61351e0-5ed0-46b5-90d6-278468f74bbe' title='Show/Hide data repr'><svg class='icon xr-icon-database'><use xlink:href='#icon-database'></use></svg></label><div class='xr-var-attrs'><dl class='xr-attrs'><dt><span>units :</span></dt><dd>K</dd><dt><span>long_name :</span></dt><dd>Reference height temperature</dd><dt><span>cell_methods :</span></dt><dd>time: mean</dd></dl></div><div class='xr-var-data'><pre>[2299207680 values with dtype=float32]</pre></div></li></ul></div></li><li class='xr-section-item'><input id='section-85f23dcd-d244-4df3-adc9-02c498d0cbcf' class='xr-section-summary-in' type='checkbox'  ><label for='section-85f23dcd-d244-4df3-adc9-02c498d0cbcf' class='xr-section-summary' >Attributes: <span>(13)</span></label><div class='xr-section-inline-details'></div><div class='xr-section-details'><dl class='xr-attrs'><dt><span>Conventions :</span></dt><dd>CF-1.0</dd><dt><span>source :</span></dt><dd>CAM</dd><dt><span>case :</span></dt><dd>b.e11.BLMTRC5CN.f19_g16.002</dd><dt><span>title :</span></dt><dd>UNSET</dd><dt><span>logname :</span></dt><dd>mai</dd><dt><span>host :</span></dt><dd>ys0137</dd><dt><span>Version :</span></dt><dd>$Name$</dd><dt><span>revision_Id :</span></dt><dd>$Id$</dd><dt><span>initial_file :</span></dt><dd>b.e11.B1850C5CN.f19_g16.0850cntl.001.cam.i.0850-01-01-00000.nc</dd><dt><span>topography_file :</span></dt><dd>/glade/p/cesmdata/cseg/inputdata/atm/cam/topo/consistent-topo-fv1.9x2.5_c130424.nc</dd><dt><span>nco_openmp_thread_number :</span></dt><dd>1</dd><dt><span>history :</span></dt><dd>Fri Oct  2 15:20:52 2020: ncecat -u member /home/disk/bjerknes2/rtardif/LMR/priors/LME/atm/TREFHT/tas_sfc_Amon_CESM_LME_002_085001-200512.nc /home/disk/bjerknes2/rtardif/LMR/priors/LME/atm/TREFHT/tas_sfc_Amon_CESM_LME_003_085001-200512.nc /home/disk/bjerknes2/rtardif/LMR/priors/LME/atm/TREFHT/tas_sfc_Amon_CESM_LME_004_085001-200512.nc /home/disk/bjerknes2/rtardif/LMR/priors/LME/atm/TREFHT/tas_sfc_Amon_CESM_LME_005_085001-200512.nc /home/disk/bjerknes2/rtardif/LMR/priors/LME/atm/TREFHT/tas_sfc_Amon_CESM_LME_006_085001-200512.nc /home/disk/bjerknes2/rtardif/LMR/priors/LME/atm/TREFHT/tas_sfc_Amon_CESM_LME_007_085001-200512.nc /home/disk/bjerknes2/rtardif/LMR/priors/LME/atm/TREFHT/tas_sfc_Amon_CESM_LME_008_085001-200512.nc /home/disk/bjerknes2/rtardif/LMR/priors/LME/atm/TREFHT/tas_sfc_Amon_CESM_LME_009_085001-200512.nc /home/disk/bjerknes2/rtardif/LMR/priors/LME/atm/TREFHT/tas_sfc_Amon_CESM_LME_010_085001-200512.nc /home/disk/bjerknes2/rtardif/LMR/priors/LME/atm/TREFHT/tas_sfc_Amon_CESM_LME_011_085001-200512.nc /home/disk/bjerknes2/rtardif/LMR/priors/LME/atm/TREFHT/tas_sfc_Amon_CESM_LME_012_085001-200512.nc /home/disk/bjerknes2/rtardif/LMR/priors/LME/atm/TREFHT/tas_sfc_Amon_CESM_LME_013_085001-200512.nc /home/disk/bjerknes2/rtardif/LMR/priors/LME/atm/tas_sfc_Amon_CESM_LMEallforc_085001-200512.nc\n",
       "Fri Oct  2 15:12:35 2020: ncrename -O -v TREFHT,tas /home/disk/bjerknes2/rtardif/LMR/priors/LME/atm/TREFHT/tas_sfc_Amon_CESM_LME_002_085001-200512.nc\n",
       "Fri Oct  2 15:12:19 2020: ncap2 -s time=time-15.0 tmp.nc /home/disk/bjerknes2/rtardif/LMR/priors/LME/atm/TREFHT/tas_sfc_Amon_CESM_LME_002_085001-200512.nc\n",
       "Fri Oct  2 15:11:58 2020: ncks -v TREFHT /home/disk/bjerknes2/rtardif/LMR/priors/LME/atm/TREFHT/b.e11.BLMTRC5CN.f19_g16.002.cam.h0.TREFHT.085001-200512.nc tmp.nc\n",
       "Fri Aug  2 08:14:31 2019: ncrcat /home/disk/bjerknes2/rtardif/LMR/priors/LME/atm/TREFHT/orig/b.e11.BLMTRC5CN.f19_g16.002.cam.h0.TREFHT.085001-184912.nc /home/disk/bjerknes2/rtardif/LMR/priors/LME/atm/TREFHT/orig/b.e11.BLMTRC5CN.f19_g16.002.cam.h0.TREFHT.185001-200512.nc /home/disk/bjerknes2/rtardif/LMR/priors/LME/atm/TREFHT/b.e11.BLMTRC5CN.f19_g16.002.cam.h0.TREFHT.085001-200512.nc\n",
       "Tue Jan 28 12:46:59 2014: /glade/apps/opt/nco/4.3.4/gnu/nco-4.3.4/bin/ncks -4 -L 1 CAT.b.e11.BLMTRC5CN.f19_g16.002.cam.h0.TREFHT.085001-184912.nc b.e11.BLMTRC5CN.f19_g16.002.cam.h0.TREFHT.085001-184912.nc\n",
       "Mon Jan 27 21:31:07 2014: /glade/apps/opt/nco/4.3.4/gnu/nco-4.3.4/bin/ncrcat -O b.e11.BLMTRC5CN.f19_g16.002.cam.h0.TREFHT.0850.nc b.e11.BLMTRC5CN.f19_g16.002.cam.h0.TREFHT.0851.nc b.e11.BLMTRC5CN.f19_g16.002.cam.h0.TREFHT.0852.nc b.e11.BLMTRC5CN.f19_g16.002.cam.h0.TREFHT.0853.nc b.e11.BLMTRC5CN.f19_g16.002.cam.h0.TREFHT.0854.nc b.e11.BLMTRC5CN.f19_g16.002.cam.h0.TREFHT.0855.nc b.e11.BLMTRC5CN.f19_g16.002.cam.h0.TREFHT.0856.nc b.e11.BLMTRC5CN.f19_g16.002.cam.h0.TREFHT.0857.nc b.e11.BLMTRC5CN.f19_g16.002.cam.h0.TREFHT.0858.nc b.e11.BLMTRC5CN.f19_g16.002.cam.h0.TREFHT.0859.nc b.e11.BLMTRC5CN.f19_g16.002.cam.h0.TREFHT.0860.nc b.e11.BLMTRC5CN.f19_g16.002.cam.h0.TREFHT.0861.nc b.e11.BLMTRC5CN.f19_g16.002.cam.h0.TREFHT.0862.nc b.e11.BLMTRC5CN.f19_g16.002.cam.h0.TREFHT.0863.nc b.e11.BLMTRC5CN.f19_g16.002.cam.h0.TREFHT.0864.nc b.e11.BLMTRC5CN.f19_g16.002.cam.h0.TREFHT.0865.nc b.e11.BLMTRC5CN.f19_g16.002.cam.h0.TREFHT.0866.nc b.e11.BLMTRC5CN.f19_g16.002.cam.h0.TREFHT.0867.nc b.e11.BLMTRC5CN.f19_g16.002.cam.h0.TREFHT.0868.nc b.e11.BLMTRC5CN.f19_g16.002.cam.h0.TREFHT.0869.nc b.e11.BLMTRC5CN.f19_g16.002.cam.h0.TREFHT.0870.nc b.e11.BLMTRC5CN.f19_g16.002.cam.h0.TREFHT.0871.nc b.e11.BLMTRC5CN.f19_g16.002.cam.h0.TREFHT.0872.nc b.e11.BLMTRC5CN.f19_g16.002.cam.h0.TREFHT.0873.nc b.e11.BLMTRC5CN.f19_g16.002.cam.h0.TREFHT.0874.nc b.e11.BLMTRC5CN.f19_g16.002.cam.h0.TREFHT.0875.nc b.e11.BLMTRC5CN.f19_g16.002.cam.h0.TREFHT.0876.nc b.e11.BLMTRC5CN.f19_g16.002.cam.h0.TREFHT.0877.nc b.e11.BLMTRC5CN.f19_g16.002.cam.h0.TREFHT.0878.nc b.e11.BLMTRC5CN.f19_g16.002.cam.h0.TREFHT.0879.nc b.e11.BLMTRC5CN.f19_g16.002.cam.h0.TREFHT.0880.nc b.e11.BLMTRC5CN.f19_g16.002.cam.h0.TREFHT.0881.nc b.e11.BLMTRC5CN.f19_g16.002.cam.h0.TREFHT.0882.nc b.e11.BLMTRC5CN.f19_g16.002.cam.h0.TREFHT.0883.nc b.e11.BLMTRC5CN.f19_g16.002.cam.h0.TREFHT.0884.nc b.e11.BLMTRC5CN.f19_g16.002.cam.h0.TREFHT.0885.nc b.e11.BLMTRC5CN.f19_g16.002.cam.h0.TREFHT.0886.nc b.e11.BLMTRC5CN.f19_g16.002.cam.h0.TREFHT.0887.nc b.e11.BLMTRC5CN.f19_g16.002.cam.h0.TREFHT.0888.nc b.e11.BLMTRC5CN.f19_g16.002.cam.h0.TREFHT.0889.nc b.e11.BLMTRC5CN.f19_g16.002.cam.h0.TREFHT.0890.nc b.e11.BLMTRC5CN.f19_g16.002.cam.h0.TREFHT.0891.nc b.e11.BLMTRC5CN.f19_g16.002.cam.h0.TREFHT.0892.nc b.e11.BLMTRC5CN.f19_g16.002.cam.h0.TREFHT.0893.nc b.e11.BLMTRC5CN.f19_g16.002.cam.h0.TREFHT.0894.nc b.e11.BLMTRC5CN.f19_g16.002.cam.h0.TREFHT.0895.nc b.e11.BLMTRC5CN.f19_g16.002.cam.h0.TREFHT.0896.nc b.e11.BLMTRC5CN.f19_g16.002.cam.h0.TREFHT.0897.nc b.e11.BLMTRC5CN.f19_g16.002.cam.h0.TREFHT.0898.nc b.e11.BLMTRC5CN.f19_g16.002.cam.h0.TREFHT.0899.nc b.e11.BLMTRC5CN.f19_g16.002.cam.h0.TREFHT.0900.nc b.e11.BLMTRC5CN.f19_g16.002.cam.h0.TREFHT.0901.nc b.e11.BLMTRC5CN.f19_g16.002.cam.h0.TREFHT.0902.nc b.e11.BLMTRC5CN.f19_g16.002.cam.h0.TREFHT.0903.nc b.e11.BLMTRC5CN.f19_g16.002.cam.h0.TREFHT.0904.nc b.e11.BLMTRC5CN.f19_g16.002.cam.h0.TREFHT.0905.nc b.e11.BLMTRC5CN.f19_g16.002.cam.h0.TREFHT.0906.nc b.e11.BLMTRC5CN.f19_g16.002.cam.h0.TREFHT.0907.nc b.e11.BLMTRC5CN.f19_g16.002.cam.h0.TREFHT.0908.nc b.e11.BLMTRC5CN.f19_g16.002.cam.h0.TREFHT.0909.nc b.e11.BLMTRC5CN.f19_g16.002.cam.h0.TREFHT.0910.nc b.e11.BLMTRC5CN.f19_g16.002.cam.h0.TREFHT.0911.nc b.e11.BLMTRC5CN.f19_g16.002.cam.h0.TREFHT.0912.nc b.e11.BLMTRC5CN.f19_g16.002.cam.h0.TREFHT.0913.nc b.e11.BLMTRC5CN.f19_g16.002.cam.h0.TREFHT.0914.nc b.e11.BLMTRC5CN.f19_g16.002.cam.h0.TREFHT.0915.nc b.e11.BLMTRC5CN.f19_g16.002.cam.h0.TREFHT.0916.nc b.e11.BLMTRC5CN.f19_g16.002.cam.h0.TREFHT.0917.nc b.e11.BLMTRC5CN.f19_g16.002.cam.h0.TREFHT.0918.nc b.e11.BLMTRC5CN.f19_g16.002.cam.h0.TREFHT.0919.nc b.e11.BLMTRC5CN.f19_g16.002.cam.h0.TREFHT.0920.nc b.e11.BLMTRC5CN.f19_g16.002.cam.h0.TREFHT.0921.nc b.e11.BLMTRC5CN.f19_g16.002.cam.h0.TREFHT.0922.nc b.e11.BLMTRC5CN.f19_g16.002.cam.h0.TREFHT.0923.nc b.e11.BLMTRC5CN.f19_g16.002.cam.h0.TREFHT.0924.nc b.e11.BLMTRC5CN.f19_g16.002.cam.h0.TREFHT.0925.nc b.e11.BLMTRC5CN.f19_g16.002.cam.h0.TREFHT.0926.nc b.e11.BLMTRC5CN.f19_g16.002.cam.h0.TREFHT.0927.nc b.e11.BLMTRC5CN.f19_g16.002.cam.h0.TREFHT.0928.nc b.e11.BLMTRC5CN.f19_g16.002.cam.h0.TREFHT.0929.nc b.e11.BLMTRC5CN.f19_g16.002.cam.h0.TREFHT.0930.nc b.e11.BLMTRC5CN.f19_g16.002.cam.h0.TREFHT.0931.nc b.e11.BLMTRC5CN.f19_g16.002.cam.h0.TREFHT.0932.nc b.e11.BLMTRC5CN.f19_g16.002.cam.h0.TREFHT.0933.nc b.e11.BLMTRC5CN.f19_g16.002.cam.h0.TREFHT.0934.nc b.e11.BLMTRC5CN.f19_g16.002.cam.h0.TREFHT.0935.nc b.e11.BLMTRC5CN.f19_g16.002.cam.h0.TREFHT.0936.nc b.e11.BLMTRC5CN.f19_g16.002.cam.h0.TREFHT.0937.nc b.e11.BLMTRC5CN.f19_g16.002.cam.h0.TREFHT.0938.nc b.e11.BLMTRC5CN.f19_g16.002.cam.h0.TREFHT.0939.nc b.e11.BLMTRC5CN.f19_g16.002.cam.h0.TREFHT.0940.nc b.e11.BLMTRC5CN.f19_g16.002.cam.h0.TREFHT.0941.nc b.e11.BLMTRC5CN.f19_g16.002.cam.h0.TREFHT.0942.nc b.e11.BLMTRC5CN.f19_g16.002.cam.h0.TREFHT.0943.nc b.e11.BLMTRC5CN.f19_g16.002.cam.h0.TREFHT.0944.nc b.e11.BLMTRC5CN.f19_g16.002.cam.h0.TREFHT.0945.nc b.e11.BLMTRC5CN.f19_g16.002.cam.h0.TREFHT.0946.nc b.e11.BLMTRC5CN.f19_g16.002.cam.h0.TREFHT.0947.nc b.e11.BLMTRC5CN.f19_g16.002.cam.h0.TREFHT.0948.nc b.e11.BLMTRC5CN.f19_g16.002.cam.h0.TREFHT.0949.nc b.e11.BLMTRC5CN.f19_g16.002.cam.h0.TREFHT.0950.nc b.e11.BLMTRC5CN.f19_g16.002.cam.h0.TREFHT.0951.nc b.e11.BLMTRC5CN.f19_g16.002.cam.h0.TREFHT.0952.nc b.e11.BLMTRC5CN.f19_g16.002.cam.h0.TREFHT.0953.nc b.e11.BLMTRC5CN.f19_g16.002.cam.h0.TREFHT.0954.nc b.e11.BLMTRC5CN.f19_g16.002.cam.h0.TREFHT.0955.nc b.e11.BLMTRC5CN.f19_g16.002.cam.h0.TREFHT.0956.nc b.e11.BLMTRC5CN.f19_g16.002.cam.h0.TREFHT.0957.nc b.e11.BLMTRC5CN.f19_g16.002.cam.h0.TREFHT.0958.nc b.e11.BLMTRC5CN.f19_g16.002.cam.h0.TREFHT.0959.nc b.e11.BLMTRC5CN.f19_g16.002.cam.h0.TREFHT.0960.nc b.e11.BLMTRC5CN.f19_g16.002.cam.h0.TREFHT.0961.nc b.e11.BLMTRC5CN.f19_g16.002.cam.h0.TREFHT.0962.nc b.e11.BLMTRC5CN.f19_g16.002.cam.h0.TREFHT.0963.nc b.e11.BLMTRC5CN.f19_g16.002.cam.h0.TREFHT.0964.nc b.e11.BLMTRC5CN.f19_g16.002.cam.h0.TREFHT.0965.nc b.e11.BLMTRC5CN.f19_g16.002.cam.h0.TREFHT.0966.nc b.e11.BLMTRC5CN.f19_g16.002.cam.h0.TREFHT.0967.nc b.e11.BLMTRC5CN.f19_g16.002.cam.h0.TREFHT.0968.nc b.e11.BLMTRC5CN.f19_g16.002.cam.h0.TREFHT.0969.nc b.e11.BLMTRC5CN.f19_g16.002.cam.h0.TREFHT.0970.nc b.e11.BLMTRC5CN.f19_g16.002.cam.h0.TREFHT.0971.nc b.e11.BLMTRC5CN.f19_g16.002.cam.h0.TREFHT.0972.nc b.e11.BLMTRC5CN.f19_g16.002.cam.h0.TREFHT.0973.nc b.e11.BLMTRC5CN.f19_g16.002.cam.h0.TREFHT.0974.nc b.e11.BLMTRC5CN.f19_g16.002.cam.h0.TREFHT.0975.nc b.e11.BLMTRC5CN.f19_g16.002.cam.h0.TREFHT.0976.nc b.e11.BLMTRC5CN.f19_g16.002.cam.h0.TREFHT.0977.nc b.e11.BLMTRC5CN.f19_g16.002.cam.h0.TREFHT.0978.nc b.e11.BLMTRC5CN.f19_g16.002.cam.h0.TREFHT.0979.nc b.e11.BLMTRC5CN.f19_g16.002.cam.h0.TREFHT.0980.nc b.e11.BLMTRC5CN.f19_g16.002.cam.h0.TREFHT.0981.nc b.e11.BLMTRC5CN.f19_g16.002.cam.h0.TREFHT.0982.nc b.e11.BLMTRC5CN.f19_g16.002.cam.h0.TREFHT.0983.nc b.e11.BLMTRC5CN.f19_g16.002.cam.h0.TREFHT.0984.nc b.e11.BLMTRC5CN.f19_g16.002.cam.h0.TREFHT.0985.nc b.e11.BLMTRC5CN.f19_g16.002.cam.h0.TREFHT.0986.nc b.e11.BLMTRC5CN.f19_g16.002.cam.h0.TREFHT.0987.nc b.e11.BLMTRC5CN.f19_g16.002.cam.h0.TREFHT.0988.nc b.e11.BLMTRC5CN.f19_g16.002.cam.h0.TREFHT.0989.nc b.e11.BLMTRC5CN.f19_g16.002.cam.h0.TREFHT.0990.nc b.e11.BLMTRC5CN.f19_g16.002.cam.h0.TREFHT.0991.nc b.e11.BLMTRC5CN.f19_g16.002.cam.h0.TREFHT.0992.nc b.e11.BLMTRC5CN.f19_g16.002.cam.h0.TREFHT.0993.nc b.e11.BLMTRC5CN.f19_g16.002.cam.h0.TREFHT.0994.nc b.e11.BLMTRC5CN.f19_g16.002.cam.h0.TREFHT.0995.nc b.e11.BLMTRC5CN.f19_g16.002.cam.h0.TREFHT.0996.nc b.e11.BLMTRC5CN.f19_g16.002.cam.h0.TREFHT.0997.nc b.e11.BLMTRC5CN.f19_g16.002.cam.h0.TREFHT.0998.nc b.e11.BLMTRC5CN.f19_g16.002.cam.h0.TREFHT.0999.nc b.e11.BLMTRC5CN.f19_g16.002.cam.h0.TREFHT.1000.nc b.e11.BLMTRC5CN.f19_g16.002.cam.h0.TREFHT.1001.nc b.e11.BLMTRC5CN.f19_g16.002.cam.h0.TREFHT.1002.nc b.e11.BLMTRC5CN.f19_g16.002.cam.h0.TREFHT.1003.nc b.e11.BLMTRC5CN.f19_g16.002.cam.h0.TREFHT.1004.nc b.e11.BLMTRC5CN.f19_g16.002.cam.h0.TREFHT.1005.nc b.e11.BLMTRC5CN.f19_g16.002.cam.h0.TREFHT.1006.nc b.e11.BLMTRC5CN.f19_g16.002.cam.h0.TREFHT.1007.nc b.e11.BLMTRC5CN.f19_g16.002.cam.h0.TREFHT.1008.nc b.e11.BLMTRC5CN.f19_g16.002.cam.h0.TREFHT.1009.nc b.e11.BLMTRC5CN.f19_g16.002.cam.h0.TREFHT.1010.nc b.e11.BLMTRC5CN.f19_g16.002.cam.h0.TREFHT.1011.nc b.e11.BLMTRC5CN.f19_g16.002.cam.h0.TREFHT.1012.nc b.e11.BLMTRC5CN.f19_g16.002.cam.h0.TREFHT.1013.nc b.e11.BLMTRC5CN.f19_g16.002.cam.h0.TREFHT.1014.nc b.e11.BLMTRC5CN.f19_g16.002.cam.h0.TREFHT.1015.nc b.e11.BLMTRC5CN.f19_g16.002.cam.h0.TREFHT.1016.nc b.e11.BLMTRC5CN.f19_g16.002.cam.h0.TREFHT.1017.nc b.e11.BLMTRC5CN.f19_g16.002.cam.h0.TREFHT.1018.nc b.e11.BLMTRC5CN.f19_g16.002.cam.h0.TREFHT.1019.nc b.e11.BLMTRC5CN.f19_g16.002.cam.h0.TREFHT.1020.nc b.e11.BLMTRC5CN.f19_g16.002.cam.h0.TREFHT.1021.nc b.e11.BLMTRC5CN.f19_g16.002.cam.h0.TREFHT.1022.nc b.e11.BLMTRC5CN.f19_g16.002.cam.h0.TREFHT.1023.nc b.e11.BLMTRC5CN.f19_g16.002.cam.h0.TREFHT.1024.nc b.e11.BLMTRC5CN.f19_g16.002.cam.h0.TREFHT.1025.nc b.e11.BLMTRC5CN.f19_g16.002.cam.h0.TREFHT.1026.nc b.e11.BLMTRC5CN.f19_g16.002.cam.h0.TREFHT.1027.nc b.e11.BLMTRC5CN.f19_g16.002.cam.h0.TREFHT.1028.nc b.e11.BLMTRC5CN.f19_g16.002.cam.h0.TREFHT.1029.nc b.e11.BLMTRC5CN.f19_g16.002.cam.h0.TREFHT.1030.nc b.e11.BLMTRC5CN.f19_g16.002.cam.h0.TREFHT.1031.nc b.e11.BLMTRC5CN.f19_g16.002.cam.h0.TREFHT.1032.nc b.e11.BLMTRC5CN.f19_g16.002.cam.h0.TREFHT.1033.nc b.e11.BLMTRC5CN.f19_g16.002.cam.h0.TREFHT.1034.nc b.e11.BLMTRC5CN.f19_g16.002.cam.h0.TREFHT.1035.nc b.e11.BLMTRC5CN.f19_g16.002.cam.h0.TREFHT.1036.nc b.e11.BLMTRC5CN.f19_g16.002.cam.h0.TREFHT.1037.nc b.e11.BLMTRC5CN.f19_g16.002.cam.h0.TREFHT.1038.nc b.e11.BLMTRC5CN.f19_g16.002.cam.h0.TREFHT.1039.nc b.e11.BLMTRC5CN.f19_g16.002.cam.h0.TREFHT.1040.nc b.e11.BLMTRC5CN.f19_g16.002.cam.h0.TREFHT.1041.nc b.e11.BLMTRC5CN.f19_g16.002.cam.h0.TREFHT.1042.nc b.e11.BLMTRC5CN.f19_g16.002.cam.h0.TREFHT.1043.nc b.e11.BLMTRC5CN.f19_g16.002.cam.h0.TREFHT.1044.nc b.e11.BLMTRC5CN.f19_g16.002.cam.h0.TREFHT.1045.nc b.e11.BLMTRC5CN.f19_g16.002.cam.h0.TREFHT.1046.nc b.e11.BLMTRC5CN.f19_g16.002.cam.h0.TREFHT.1047.nc b.e11.BLMTRC5CN.f19_g16.002.cam.h0.TREFHT.1048.nc b.e11.BLMTRC5CN.f19_g16.002.cam.h0.TREFHT.1049.nc b.e11.BLMTRC5CN.f19_g16.002.cam.h0.TREFHT.1050.nc b.e11.BLMTRC5CN.f19_g16.002.cam.h0.TREFHT.1051.nc b.e11.BLMTRC5CN.f19_g16.002.cam.h0.TREFHT.1052.nc b.e11.BLMTRC5CN.f19_g16.002.cam.h0.TREFHT.1053.nc b.e11.BLMTRC5CN.f19_g16.002.cam.h0.TREFHT.1054.nc b.e11.BLMTRC5CN.f19_g16.002.cam.h0.TREFHT.1055.nc b.e11.BLMTRC5CN.f19_g16.002.cam.h0.TREFHT.1056.nc b.e11.BLMTRC5CN.f19_g16.002.cam.h0.TREFHT.1057.nc b.e11.BLMTRC5CN.f19_g16.002.cam.h0.TREFHT.1058.nc b.e11.BLMTRC5CN.f19_g16.002.cam.h0.TREFHT.1059.nc b.e11.BLMTRC5CN.f19_g16.002.cam.h0.TREFHT.1060.nc b.e11.BLMTRC5CN.f19_g16.002.cam.h0.TREFHT.1061.nc b.e11.BLMTRC5CN.f19_g16.002.cam.h0.TREFHT.1062.nc b.e11.BLMTRC5CN.f19_g16.002.cam.h0.TREFHT.1063.nc b.e11.BLMTRC5CN.f19_g16.002.cam.h0.TREFHT.1064.nc b.e11.BLMTRC5CN.f19_g16.002.cam.h0.TREFHT.1065.nc b.e11.BLMTRC5CN.f19_g16.002.cam.h0.TREFHT.1066.nc b.e11.BLMTRC5CN.f19_g16.002.cam.h0.TREFHT.1067.nc b.e11.BLMTRC5CN.f19_g16.002.cam.h0.TREFHT.1068.nc b.e11.BLMTRC5CN.f19_g16.002.cam.h0.TREFHT.1069.nc b.e11.BLMTRC5CN.f19_g16.002.cam.h0.TREFHT.1070.nc b.e11.BLMTRC5CN.f19_g16.002.cam.h0.TREFHT.1071.nc b.e11.BLMTRC5CN.f19_g16.002.cam.h0.TREFHT.1072.nc b.e11.BLMTRC5CN.f19_g16.002.cam.h0.TREFHT.1073.nc b.e11.BLMTRC5CN.f19_g16.002.cam.h0.TREFHT.1074.nc b.e11.BLMTRC5CN.f19_g16.002.cam.h0.TREFHT.1075.nc b.e11.BLMTRC5CN.f19_g16.002.cam.h0.TREFHT.1076.nc b.e11.BLMTRC5CN.f19_g16.002.cam.h0.TREFHT.1077.nc b.e11.BLMTRC5CN.f19_g16.002.cam.h0.TREFHT.1078.nc b.e11.BLMTRC5CN.f19_g16.002.cam.h0.TREFHT.1079.nc b.e11.BLMTRC5CN.f19_g16.002.cam.h0.TREFHT.1080.nc b.e11.BLMTRC5CN.f19_g16.002.cam.h0.TREFHT.1081.nc b.e11.BLMTRC5CN.f19_g16.002.cam.h0.TREFHT.1082.nc b.e11.BLMTRC5CN.f19_g16.002.cam.h0.TREFHT.1083.nc b.e11.BLMTRC5CN.f19_g16.002.cam.h0.TREFHT.1084.nc b.e11.BLMTRC5CN.f19_g16.002.cam.h0.TREFHT.1085.nc b.e11.BLMTRC5CN.f19_g16.002.cam.h0.TREFHT.1086.nc b.e11.BLMTRC5CN.f19_g16.002.cam.h0.TREFHT.1087.nc b.e11.BLMTRC5CN.f19_g16.002.cam.h0.TREFHT.1088.nc b.e11.BLMTRC5CN.f19_g16.002.cam.h0.TREFHT.1089.nc b.e11.BLMTRC5CN.f19_g16.002.cam.h0.TREFHT.1090.nc b.e11.BLMTRC5CN.f19_g16.002.cam.h0.TREFHT.1091.nc b.e11.BLMTRC5CN.f19_g16.002.cam.h0.TREFHT.1092.nc b.e11.BLMTRC5CN.f19_g16.002.cam.h0.TREFHT.1093.nc b.e11.BLMTRC5CN.f19_g16.002.cam.h0.TREFHT.1094.nc b.e11.BLMTRC5CN.f19_g16.002.cam.h0.TREFHT.1095.nc b.e11.BLMTRC5CN.f19_g16.002.cam.h0.TREFHT.1096.nc b.e11.BLMTRC5CN.f19_g16.002.cam.h0.TREFHT.1097.nc b.e11.BLMTRC5CN.f19_g16.002.cam.h0.TREFHT.1098.nc b.e11.BLMTRC5CN.f19_g16.002.cam.h0.TREFHT.1099.nc b.e11.BLMTRC5CN.f19_g16.002.cam.h0.TREFHT.1100.nc b.e11.BLMTRC5CN.f19_g16.002.cam.h0.TREFHT.1101.nc b.e11.BLMTRC5CN.f19_g16.002.cam.h0.TREFHT.1102.nc b.e11.BLMTRC5CN.f19_g16.002.cam.h0.TREFHT.1103.nc b.e11.BLMTRC5CN.f19_g16.002.cam.h0.TREFHT.1104.nc b.e11.BLMTRC5CN.f19_g16.002.cam.h0.TREFHT.1105.nc b.e11.BLMTRC5CN.f19_g16.002.cam.h0.TREFHT.1106.nc b.e11.BLMTRC5CN.f19_g16.002.cam.h0.TREFHT.1107.nc b.e11.BLMTRC5CN.f19_g16.002.cam.h0.TREFHT.1108.nc b.e11.BLMTRC5CN.f19_g16.002.cam.h0.TREFHT.1109.nc b.e11.BLMTRC5CN.f19_g16.002.cam.h0.TREFHT.1110.nc b.e11.BLMTRC5CN.f19_g16.002.cam.h0.TREFHT.1111.nc b.e11.BLMTRC5CN.f19_g16.002.cam.h0.TREFHT.1112.nc b.e11.BLMTRC5CN.f19_g16.002.cam.h0.TREFHT.1113.nc b.e11.BLMTRC5CN.f19_g16.002.cam.h0.TREFHT.1114.nc b.e11.BLMTRC5CN.f19_g16.002.cam.h0.TREFHT.1115.nc b.e11.BLMTRC5CN.f19_g16.002.cam.h0.TREFHT.1116.nc b.e11.BLMTRC5CN.f19_g16.002.cam.h0.TREFHT.1117.nc b.e11.BLMTRC5CN.f19_g16.002.cam.h0.TREFHT.1118.nc b.e11.BLMTRC5CN.f19_g16.002.cam.h0.TREFHT.1119.nc b.e11.BLMTRC5CN.f19_g16.002.cam.h0.TREFHT.1120.nc b.e11.BLMTRC5CN.f19_g16.002.cam.h0.TREFHT.1121.nc b.e11.BLMTRC5CN.f19_g16.002.cam.h0.TREFHT.1122.nc b.e11.BLMTRC5CN.f19_g16.002.cam.h0.TREFHT.1123.nc b.e11.BLMTRC5CN.f19_g16.002.cam.h0.TREFHT.1124.nc b.e11.BLMTRC5CN.f19_g16.002.cam.h0.TREFHT.1125.nc b.e11.BLMTRC5CN.f19_g16.002.cam.h0.TREFHT.1126.nc b.e11.BLMTRC5CN.f19_g16.002.cam.h0.TREFHT.1127.nc b.e11.BLMTRC5CN.f19_g16.002.cam.h0.TREFHT.1128.nc b.e11.BLMTRC5CN.f19_g16.002.cam.h0.TREFHT.1129.nc b.e11.BLMTRC5CN.f19_g16.002.cam.h0.TREFHT.1130.nc b.e11.BLMTRC5CN.f19_g16.002.cam.h0.TREFHT.1131.nc b.e11.BLMTRC5CN.f19_g16.002.cam.h0.TREFHT.1132.nc b.e11.BLMTRC5CN.f19_g16.002.cam.h0.TREFHT.1133.nc b.e11.BLMTRC5CN.f19_g16.002.cam.h0.TREFHT.1134.nc b.e11.BLMTRC5CN.f19_g16.002.cam.h0.TREFHT.1135.nc b.e11.BLMTRC5CN.f19_g16.002.cam.h0.TREFHT.1136.nc b.e11.BLMTRC5CN.f19_g16.002.cam.h0.TREFHT.1137.nc b.e11.BLMTRC5CN.f19_g16.002.cam.h0.TREFHT.1138.nc b.e11.BLMTRC5CN.f19_g16.002.cam.h0.TREFHT.1139.nc b.e11.BLMTRC5CN.f19_g16.002.cam.h0.TREFHT.1140.nc b.e11.BLMTRC5CN.f19_g16.002.cam.h0.TREFHT.1141.nc b.e11.BLMTRC5CN.f19_g16.002.cam.h0.TREFHT.1142.nc b.e11.BLMTRC5CN.f19_g16.002.cam.h0.TREFHT.1143.nc b.e11.BLMTRC5CN.f19_g16.002.cam.h0.TREFHT.1144.nc b.e11.BLMTRC5CN.f19_g16.002.cam.h0.TREFHT.1145.nc b.e11.BLMTRC5CN.f19_g16.002.cam.h0.TREFHT.1146.nc b.e11.BLMTRC5CN.f19_g16.002.cam.h0.TREFHT.1147.nc b.e11.BLMTRC5CN.f19_g16.002.cam.h0.TREFHT.1148.nc b.e11.BLMTRC5CN.f19_g16.002.cam.h0.TREFHT.1149.nc b.e11.BLMTRC5CN.f19_g16.002.cam.h0.TREFHT.1150.nc b.e11.BLMTRC5CN.f19_g16.002.cam.h0.TREFHT.1151.nc b.e11.BLMTRC5CN.f19_g16.002.cam.h0.TREFHT.1152.nc b.e11.BLMTRC5CN.f19_g16.002.cam.h0.TREFHT.1153.nc b.e11.BLMTRC5CN.f19_g16.002.cam.h0.TREFHT.1154.nc b.e11.BLMTRC5CN.f19_g16.002.cam.h0.TREFHT.1155.nc b.e11.BLMTRC5CN.f19_g16.002.cam.h0.TREFHT.1156.nc b.e11.BLMTRC5CN.f19_g16.002.cam.h0.TREFHT.1157.nc b.e11.BLMTRC5CN.f19_g16.002.cam.h0.TREFHT.1158.nc b.e11.BLMTRC5CN.f19_g16.002.cam.h0.TREFHT.1159.nc b.e11.BLMTRC5CN.f19_g16.002.cam.h0.TREFHT.1160.nc b.e11.BLMTRC5CN.f19_g16.002.cam.h0.TREFHT.1161.nc b.e11.BLMTRC5CN.f19_g16.002.cam.h0.TREFHT.1162.nc b.e11.BLMTRC5CN.f19_g16.002.cam.h0.TREFHT.1163.nc b.e11.BLMTRC5CN.f19_g16.002.cam.h0.TREFHT.1164.nc b.e11.BLMTRC5CN.f19_g16.002.cam.h0.TREFHT.1165.nc b.e11.BLMTRC5CN.f19_g16.002.cam.h0.TREFHT.1166.nc b.e11.BLMTRC5CN.f19_g16.002.cam.h0.TREFHT.1167.nc b.e11.BLMTRC5CN.f19_g16.002.cam.h0.TREFHT.1168.nc b.e11.BLMTRC5CN.f19_g16.002.cam.h0.TREFHT.1169.nc b.e11.BLMTRC5CN.f19_g16.002.cam.h0.TREFHT.1170.nc b.e11.BLMTRC5CN.f19_g16.002.cam.h0.TREFHT.1171.nc b.e11.BLMTRC5CN.f19_g16.002.cam.h0.TREFHT.1172.nc b.e11.BLMTRC5CN.f19_g16.002.cam.h0.TREFHT.1173.nc b.e11.BLMTRC5CN.f19_g16.002.cam.h0.TREFHT.1174.nc b.e11.BLMTRC5CN.f19_g16.002.cam.h0.TREFHT.1175.nc b.e11.BLMTRC5CN.f19_g16.002.cam.h0.TREFHT.1176.nc b.e11.BLMTRC5CN.f19_g16.002.cam.h0.TREFHT.1177.nc b.e11.BLMTRC5CN.f19_g16.002.cam.h0.TREFHT.1178.nc b.e11.BLMTRC5CN.f19_g16.002.cam.h0.TREFHT.1179.nc b.e11.BLMTRC5CN.f19_g16.002.cam.h0.TREFHT.1180.nc b.e11.BLMTRC5CN.f19_g16.002.cam.h0.TREFHT.1181.nc b.e11.BLMTRC5CN.f19_g16.002.cam.h0.TREFHT.1182.nc b.e11.BLMTRC5CN.f19_g16.002.cam.h0.TREFHT.1183.nc b.e11.BLMTRC5CN.f19_g16.002.cam.h0.TREFHT.1184.nc b.e11.BLMTRC5CN.f19_g16.002.cam.h0.TREFHT.1185.nc b.e11.BLMTRC5CN.f19_g16.002.cam.h0.TREFHT.1186.nc b.e11.BLMTRC5CN.f19_g16.002.cam.h0.TREFHT.1187.nc b.e11.BLMTRC5CN.f19_g16.002.cam.h0.TREFHT.1188.nc b.e11.BLMTRC5CN.f19_g16.002.cam.h0.TREFHT.1189.nc b.e11.BLMTRC5CN.f19_g16.002.cam.h0.TREFHT.1190.nc b.e11.BLMTRC5CN.f19_g16.002.cam.h0.TREFHT.1191.nc b.e11.BLMTRC5CN.f19_g16.002.cam.h0.TREFHT.1192.nc b.e11.BLMTRC5CN.f19_g16.002.cam.h0.TREFHT.1193.nc b.e11.BLMTRC5CN.f19_g16.002.cam.h0.TREFHT.1194.nc b.e11.BLMTRC5CN.f19_g16.002.cam.h0.TREFHT.1195.nc b.e11.BLMTRC5CN.f19_g16.002.cam.h0.TREFHT.1196.nc b.e11.BLMTRC5CN.f19_g16.002.cam.h0.TREFHT.1197.nc b.e11.BLMTRC5CN.f19_g16.002.cam.h0.TREFHT.1198.nc b.e11.BLMTRC5CN.f19_g16.002.cam.h0.TREFHT.1199.nc b.e11.BLMTRC5CN.f19_g16.002.cam.h0.TREFHT.1200.nc b.e11.BLMTRC5CN.f19_g16.002.cam.h0.TREFHT.1201.nc b.e11.BLMTRC5CN.f19_g16.002.cam.h0.TREFHT.1202.nc b.e11.BLMTRC5CN.f19_g16.002.cam.h0.TREFHT.1203.nc b.e11.BLMTRC5CN.f19_g16.002.cam.h0.TREFHT.1204.nc b.e11.BLMTRC5CN.f19_g16.002.cam.h0.TREFHT.1205.nc b.e11.BLMTRC5CN.f19_g16.002.cam.h0.TREFHT.1206.nc b.e11.BLMTRC5CN.f19_g16.002.cam.h0.TREFHT.1207.nc b.e11.BLMTRC5CN.f19_g16.002.cam.h0.TREFHT.1208.nc b.e11.BLMTRC5CN.f19_g16.002.cam.h0.TREFHT.1209.nc b.e11.BLMTRC5CN.f19_g16.002.cam.h0.TREFHT.1210.nc b.e11.BLMTRC5CN.f19_g16.002.cam.h0.TREFHT.1211.nc b.e11.BLMTRC5CN.f19_g16.002.cam.h0.TREFHT.1212.nc b.e11.BLMTRC5CN.f19_g16.002.cam.h0.TREFHT.1213.nc b.e11.BLMTRC5CN.f19_g16.002.cam.h0.TREFHT.1214.nc b.e11.BLMTRC5CN.f19_g16.002.cam.h0.TREFHT.1215.nc b.e11.BLMTRC5CN.f19_g16.002.cam.h0.TREFHT.1216.nc b.e11.BLMTRC5CN.f19_g16.002.cam.h0.TREFHT.1217.nc b.e11.BLMTRC5CN.f19_g16.002.cam.h0.TREFHT.1218.nc b.e11.BLMTRC5CN.f19_g16.002.cam.h0.TREFHT.1219.nc b.e11.BLMTRC5CN.f19_g16.002.cam.h0.TREFHT.1220.nc b.e11.BLMTRC5CN.f19_g16.002.cam.h0.TREFHT.1221.nc b.e11.BLMTRC5CN.f19_g16.002.cam.h0.TREFHT.1222.nc b.e11.BLMTRC5CN.f19_g16.002.cam.h0.TREFHT.1223.nc b.e11.BLMTRC5CN.f19_g16.002.cam.h0.TREFHT.1224.nc b.e11.BLMTRC5CN.f19_g16.002.cam.h0.TREFHT.1225.nc b.e11.BLMTRC5CN.f19_g16.002.cam.h0.TREFHT.1226.nc b.e11.BLMTRC5CN.f19_g16.002.cam.h0.TREFHT.1227.nc b.e11.BLMTRC5CN.f19_g16.002.cam.h0.TREFHT.1228.nc b.e11.BLMTRC5CN.f19_g16.002.cam.h0.TREFHT.1229.nc b.e11.BLMTRC5CN.f19_g16.002.cam.h0.TREFHT.1230.nc b.e11.BLMTRC5CN.f19_g16.002.cam.h0.TREFHT.1231.nc b.e11.BLMTRC5CN.f19_g16.002.cam.h0.TREFHT.1232.nc b.e11.BLMTRC5CN.f19_g16.002.cam.h0.TREFHT.1233.nc b.e11.BLMTRC5CN.f19_g16.002.cam.h0.TREFHT.1234.nc b.e11.BLMTRC5CN.f19_g16.002.cam.h0.TREFHT.1235.nc b.e11.BLMTRC5CN.f19_g16.002.cam.h0.TREFHT.1236.nc b.e11.BLMTRC5CN.f19_g16.002.cam.h0.TREFHT.1237.nc b.e11.BLMTRC5CN.f19_g16.002.cam.h0.TREFHT.1238.nc b.e11.BLMTRC5CN.f19_g16.002.cam.h0.TREFHT.1239.nc b.e11.BLMTRC5CN.f19_g16.002.cam.h0.TREFHT.1240.nc b.e11.BLMTRC5CN.f19_g16.002.cam.h0.TREFHT.1241.nc b.e11.BLMTRC5CN.f19_g16.002.cam.h0.TREFHT.1242.nc b.e11.BLMTRC5CN.f19_g16.002.cam.h0.TREFHT.1243.nc b.e11.BLMTRC5CN.f19_g16.002.cam.h0.TREFHT.1244.nc b.e11.BLMTRC5CN.f19_g16.002.cam.h0.TREFHT.1245.nc b.e11.BLMTRC5CN.f19_g16.002.cam.h0.TREFHT.1246.nc b.e11.BLMTRC5CN.f19_g16.002.cam.h0.TREFHT.1247.nc b.e11.BLMTRC5CN.f19_g16.002.cam.h0.TREFHT.1248.nc b.e11.BLMTRC5CN.f19_g16.002.cam.h0.TREFHT.1249.nc b.e11.BLMTRC5CN.f19_g16.002.cam.h0.TREFHT.1250.nc b.e11.BLMTRC5CN.f19_g16.002.cam.h0.TREFHT.1251.nc b.e11.BLMTRC5CN.f19_g16.002.cam.h0.TREFHT.1252.nc b.e11.BLMTRC5CN.f19_g16.002.cam.h0.TREFHT.1253.nc b.e11.BLMTRC5CN.f19_g16.002.cam.h0.TREFHT.1254.nc b.e11.BLMTRC5CN.f19_g16.002.cam.h0.TREFHT.1255.nc b.e11.BLMTRC5CN.f19_g16.002.cam.h0.TREFHT.1256.nc b.e11.BLMTRC5CN.f19_g16.002.cam.h0.TREFHT.1257.nc b.e11.BLMTRC5CN.f19_g16.002.cam.h0.TREFHT.1258.nc b.e11.BLMTRC5CN.f19_g16.002.cam.h0.TREFHT.1259.nc b.e11.BLMTRC5CN.f19_g16.002.cam.h0.TREFHT.1260.nc b.e11.BLMTRC5CN.f19_g16.002.cam.h0.TREFHT.1261.nc b.e11.BLMTRC5CN.f19_g16.002.cam.h0.TREFHT.1262.nc b.e11.BLMTRC5CN.f19_g16.002.cam.h0.TREFHT.1263.nc b.e11.BLMTRC5CN.f19_g16.002.cam.h0.TREFHT.1264.nc b.e11.BLMTRC5CN.f19_g16.002.cam.h0.TREFHT.1265.nc b.e11.BLMTRC5CN.f19_g16.002.cam.h0.TREFHT.1266.nc b.e11.BLMTRC5CN.f19_g16.002.cam.h0.TREFHT.1267.nc b.e11.BLMTRC5CN.f19_g16.002.cam.h0.TREFHT.1268.nc b.e11.BLMTRC5CN.f19_g16.002.cam.h0.TREFHT.1269.nc b.e11.BLMTRC5CN.f19_g16.002.cam.h0.TREFHT.1270.nc b.e11.BLMTRC5CN.f19_g16.002.cam.h0.TREFHT.1271.nc b.e11.BLMTRC5CN.f19_g16.002.cam.h0.TREFHT.1272.nc b.e11.BLMTRC5CN.f19_g16.002.cam.h0.TREFHT.1273.nc b.e11.BLMTRC5CN.f19_g16.002.cam.h0.TREFHT.1274.nc b.e11.BLMTRC5CN.f19_g16.002.cam.h0.TREFHT.1275.nc b.e11.BLMTRC5CN.f19_g16.002.cam.h0.TREFHT.1276.nc b.e11.BLMTRC5CN.f19_g16.002.cam.h0.TREFHT.1277.nc b.e11.BLMTRC5CN.f19_g16.002.cam.h0.TREFHT.1278.nc b.e11.BLMTRC5CN.f19_g16.002.cam.h0.TREFHT.1279.nc b.e11.BLMTRC5CN.f19_g16.002.cam.h0.TREFHT.1280.nc b.e11.BLMTRC5CN.f19_g16.002.cam.h0.TREFHT.1281.nc b.e11.BLMTRC5CN.f19_g16.002.cam.h0.TREFHT.1282.nc b.e11.BLMTRC5CN.f19_g16.002.cam.h0.TREFHT.1283.nc b.e11.BLMTRC5CN.f19_g16.002.cam.h0.TREFHT.1284.nc b.e11.BLMTRC5CN.f19_g16.002.cam.h0.TREFHT.1285.nc b.e11.BLMTRC5CN.f19_g16.002.cam.h0.TREFHT.1286.nc b.e11.BLMTRC5CN.f19_g16.002.cam.h0.TREFHT.1287.nc b.e11.BLMTRC5CN.f19_g16.002.cam.h0.TREFHT.1288.nc b.e11.BLMTRC5CN.f19_g16.002.cam.h0.TREFHT.1289.nc b.e11.BLMTRC5CN.f19_g16.002.cam.h0.TREFHT.1290.nc b.e11.BLMTRC5CN.f19_g16.002.cam.h0.TREFHT.1291.nc b.e11.BLMTRC5CN.f19_g16.002.cam.h0.TREFHT.1292.nc b.e11.BLMTRC5CN.f19_g16.002.cam.h0.TREFHT.1293.nc b.e11.BLMTRC5CN.f19_g16.002.cam.h0.TREFHT.1294.nc b.e11.BLMTRC5CN.f19_g16.002.cam.h0.TREFHT.1295.nc b.e11.BLMTRC5CN.f19_g16.002.cam.h0.TREFHT.1296.nc b.e11.BLMTRC5CN.f19_g16.002.cam.h0.TREFHT.1297.nc b.e11.BLMTRC5CN.f19_g16.002.cam.h0.TREFHT.1298.nc b.e11.BLMTRC5CN.f19_g16.002.cam.h0.TREFHT.1299.nc b.e11.BLMTRC5CN.f19_g16.002.cam.h0.TREFHT.1300.nc b.e11.BLMTRC5CN.f19_g16.002.cam.h0.TREFHT.1301.nc b.e11.BLMTRC5CN.f19_g16.002.cam.h0.TREFHT.1302.nc b.e11.BLMTRC5CN.f19_g16.002.cam.h0.TREFHT.1303.nc b.e11.BLMTRC5CN.f19_g16.002.cam.h0.TREFHT.1304.nc b.e11.BLMTRC5CN.f19_g16.002.cam.h0.TREFHT.1305.nc b.e11.BLMTRC5CN.f19_g16.002.cam.h0.TREFHT.1306.nc b.e11.BLMTRC5CN.f19_g16.002.cam.h0.TREFHT.1307.nc b.e11.BLMTRC5CN.f19_g16.002.cam.h0.TREFHT.1308.nc b.e11.BLMTRC5CN.f19_g16.002.cam.h0.TREFHT.1309.nc b.e11.BLMTRC5CN.f19_g16.002.cam.h0.TREFHT.1310.nc b.e11.BLMTRC5CN.f19_g16.002.cam.h0.TREFHT.1311.nc b.e11.BLMTRC5CN.f19_g16.002.cam.h0.TREFHT.1312.nc b.e11.BLMTRC5CN.f19_g16.002.cam.h0.TREFHT.1313.nc b.e11.BLMTRC5CN.f19_g16.002.cam.h0.TREFHT.1314.nc b.e11.BLMTRC5CN.f19_g16.002.cam.h0.TREFHT.1315.nc b.e11.BLMTRC5CN.f19_g16.002.cam.h0.TREFHT.1316.nc b.e11.BLMTRC5CN.f19_g16.002.cam.h0.TREFHT.1317.nc b.e11.BLMTRC5CN.f19_g16.002.cam.h0.TREFHT.1318.nc b.e11.BLMTRC5CN.f19_g16.002.cam.h0.TREFHT.1319.nc b.e11.BLMTRC5CN.f19_g16.002.cam.h0.TREFHT.1320.nc b.e11.BLMTRC5CN.f19_g16.002.cam.h0.TREFHT.1321.nc b.e11.BLMTRC5CN.f19_g16.002.cam.h0.TREFHT.1322.nc b.e11.BLMTRC5CN.f19_g16.002.cam.h0.TREFHT.1323.nc b.e11.BLMTRC5CN.f19_g16.002.cam.h0.TREFHT.1324.nc b.e11.BLMTRC5CN.f19_g16.002.cam.h0.TREFHT.1325.nc b.e11.BLMTRC5CN.f19_g16.002.cam.h0.TREFHT.1326.nc b.e11.BLMTRC5CN.f19_g16.002.cam.h0.TREFHT.1327.nc b.e11.BLMTRC5CN.f19_g16.002.cam.h0.TREFHT.1328.nc b.e11.BLMTRC5CN.f19_g16.002.cam.h0.TREFHT.1329.nc b.e11.BLMTRC5CN.f19_g16.002.cam.h0.TREFHT.1330.nc b.e11.BLMTRC5CN.f19_g16.002.cam.h0.TREFHT.1331.nc b.e11.BLMTRC5CN.f19_g16.002.cam.h0.TREFHT.1332.nc b.e11.BLMTRC5CN.f19_g16.002.cam.h0.TREFHT.1333.nc b.e11.BLMTRC5CN.f19_g16.002.cam.h0.TREFHT.1334.nc b.e11.BLMTRC5CN.f19_g16.002.cam.h0.TREFHT.1335.nc b.e11.BLMTRC5CN.f19_g16.002.cam.h0.TREFHT.1336.nc b.e11.BLMTRC5CN.f19_g16.002.cam.h0.TREFHT.1337.nc b.e11.BLMTRC5CN.f19_g16.002.cam.h0.TREFHT.1338.nc b.e11.BLMTRC5CN.f19_g16.002.cam.h0.TREFHT.1339.nc b.e11.BLMTRC5CN.f19_g16.002.cam.h0.TREFHT.1340.nc b.e11.BLMTRC5CN.f19_g16.002.cam.h0.TREFHT.1341.nc b.e11.BLMTRC5CN.f19_g16.002.cam.h0.TREFHT.1342.nc b.e11.BLMTRC5CN.f19_g16.002.cam.h0.TREFHT.1343.nc b.e11.BLMTRC5CN.f19_g16.002.cam.h0.TREFHT.1344.nc b.e11.BLMTRC5CN.f19_g16.002.cam.h0.TREFHT.1345.nc b.e11.BLMTRC5CN.f19_g16.002.cam.h0.TREFHT.1346.nc b.e11.BLMTRC5CN.f19_g16.002.cam.h0.TREFHT.1347.nc b.e11.BLMTRC5CN.f19_g16.002.cam.h0.TREFHT.1348.nc b.e11.BLMTRC5CN.f19_g16.002.cam.h0.TREFHT.1349.nc b.e11.BLMTRC5CN.f19_g16.002.cam.h0.TREFHT.1350.nc b.e11.BLMTRC5CN.f19_g16.002.cam.h0.TREFHT.1351.nc b.e11.BLMTRC5CN.f19_g16.002.cam.h0.TREFHT.1352.nc b.e11.BLMTRC5CN.f19_g16.002.cam.h0.TREFHT.1353.nc b.e11.BLMTRC5CN.f19_g16.002.cam.h0.TREFHT.1354.nc b.e11.BLMTRC5CN.f19_g16.002.cam.h0.TREFHT.1355.nc b.e11.BLMTRC5CN.f19_g16.002.cam.h0.TREFHT.1356.nc b.e11.BLMTRC5CN.f19_g16.002.cam.h0.TREFHT.1357.nc b.e11.BLMTRC5CN.f19_g16.002.cam.h0.TREFHT.1358.nc b.e11.BLMTRC5CN.f19_g16.002.cam.h0.TREFHT.1359.nc b.e11.BLMTRC5CN.f19_g16.002.cam.h0.TREFHT.1360.nc b.e11.BLMTRC5CN.f19_g16.002.cam.h0.TREFHT.1361.nc b.e11.BLMTRC5CN.f19_g16.002.cam.h0.TREFHT.1362.nc b.e11.BLMTRC5CN.f19_g16.002.cam.h0.TREFHT.1363.nc b.e11.BLMTRC5CN.f19_g16.002.cam.h0.TREFHT.1364.nc b.e11.BLMTRC5CN.f19_g16.002.cam.h0.TREFHT.1365.nc b.e11.BLMTRC5CN.f19_g16.002.cam.h0.TREFHT.1366.nc b.e11.BLMTRC5CN.f19_g16.002.cam.h0.TREFHT.1367.nc b.e11.BLMTRC5CN.f19_g16.002.cam.h0.TREFHT.1368.nc b.e11.BLMTRC5CN.f19_g16.002.cam.h0.TREFHT.1369.nc b.e11.BLMTRC5CN.f19_g16.002.cam.h0.TREFHT.1370.nc b.e11.BLMTRC5CN.f19_g16.002.cam.h0.TREFHT.1371.nc b.e11.BLMTRC5CN.f19_g16.002.cam.h0.TREFHT.1372.nc b.e11.BLMTRC5CN.f19_g16.002.cam.h0.TREFHT.1373.nc b.e11.BLMTRC5CN.f19_g16.002.cam.h0.TREFHT.1374.nc b.e11.BLMTRC5CN.f19_g16.002.cam.h0.TREFHT.1375.nc b.e11.BLMTRC5CN.f19_g16.002.cam.h0.TREFHT.1376.nc b.e11.BLMTRC5CN.f19_g16.002.cam.h0.TREFHT.1377.nc b.e11.BLMTRC5CN.f19_g16.002.cam.h0.TREFHT.1378.nc b.e11.BLMTRC5CN.f19_g16.002.cam.h0.TREFHT.1379.nc b.e11.BLMTRC5CN.f19_g16.002.cam.h0.TREFHT.1380.nc b.e11.BLMTRC5CN.f19_g16.002.cam.h0.TREFHT.1381.nc b.e11.BLMTRC5CN.f19_g16.002.cam.h0.TREFHT.1382.nc b.e11.BLMTRC5CN.f19_g16.002.cam.h0.TREFHT.1383.nc b.e11.BLMTRC5CN.f19_g16.002.cam.h0.TREFHT.1384.nc b.e11.BLMTRC5CN.f19_g16.002.cam.h0.TREFHT.1385.nc b.e11.BLMTRC5CN.f19_g16.002.cam.h0.TREFHT.1386.nc b.e11.BLMTRC5CN.f19_g16.002.cam.h0.TREFHT.1387.nc b.e11.BLMTRC5CN.f19_g16.002.cam.h0.TREFHT.1388.nc b.e11.BLMTRC5CN.f19_g16.002.cam.h0.TREFHT.1389.nc b.e11.BLMTRC5CN.f19_g16.002.cam.h0.TREFHT.1390.nc b.e11.BLMTRC5CN.f19_g16.002.cam.h0.TREFHT.1391.nc b.e11.BLMTRC5CN.f19_g16.002.cam.h0.TREFHT.1392.nc b.e11.BLMTRC5CN.f19_g16.002.cam.h0.TREFHT.1393.nc b.e11.BLMTRC5CN.f19_g16.002.cam.h0.TREFHT.1394.nc b.e11.BLMTRC5CN.f19_g16.002.cam.h0.TREFHT.1395.nc b.e11.BLMTRC5CN.f19_g16.002.cam.h0.TREFHT.1396.nc b.e11.BLMTRC5CN.f19_g16.002.cam.h0.TREFHT.1397.nc b.e11.BLMTRC5CN.f19_g16.002.cam.h0.TREFHT.1398.nc b.e11.BLMTRC5CN.f19_g16.002.cam.h0.TREFHT.1399.nc b.e11.BLMTRC5CN.f19_g16.002.cam.h0.TREFHT.1400.nc b.e11.BLMTRC5CN.f19_g16.002.cam.h0.TREFHT.1401.nc b.e11.BLMTRC5CN.f19_g16.002.cam.h0.TREFHT.1402.nc b.e11.BLMTRC5CN.f19_g16.002.cam.h0.TREFHT.1403.nc b.e11.BLMTRC5CN.f19_g16.002.cam.h0.TREFHT.1404.nc b.e11.BLMTRC5CN.f19_g16.002.cam.h0.TREFHT.1405.nc b.e11.BLMTRC5CN.f19_g16.002.cam.h0.TREFHT.1406.nc b.e11.BLMTRC5CN.f19_g16.002.cam.h0.TREFHT.1407.nc b.e11.BLMTRC5CN.f19_g16.002.cam.h0.TREFHT.1408.nc b.e11.BLMTRC5CN.f19_g16.002.cam.h0.TREFHT.1409.nc b.e11.BLMTRC5CN.f19_g16.002.cam.h0.TREFHT.1410.nc b.e11.BLMTRC5CN.f19_g16.002.cam.h0.TREFHT.1411.nc b.e11.BLMTRC5CN.f19_g16.002.cam.h0.TREFHT.1412.nc b.e11.BLMTRC5CN.f19_g16.002.cam.h0.TREFHT.1413.nc b.e11.BLMTRC5CN.f19_g16.002.cam.h0.TREFHT.1414.nc b.e11.BLMTRC5CN.f19_g16.002.cam.h0.TREFHT.1415.nc b.e11.BLMTRC5CN.f19_g16.002.cam.h0.TREFHT.1416.nc b.e11.BLMTRC5CN.f19_g16.002.cam.h0.TREFHT.1417.nc b.e11.BLMTRC5CN.f19_g16.002.cam.h0.TREFHT.1418.nc b.e11.BLMTRC5CN.f19_g16.002.cam.h0.TREFHT.1419.nc b.e11.BLMTRC5CN.f19_g16.002.cam.h0.TREFHT.1420.nc b.e11.BLMTRC5CN.f19_g16.002.cam.h0.TREFHT.1421.nc b.e11.BLMTRC5CN.f19_g16.002.cam.h0.TREFHT.1422.nc b.e11.BLMTRC5CN.f19_g16.002.cam.h0.TREFHT.1423.nc b.e11.BLMTRC5CN.f19_g16.002.cam.h0.TREFHT.1424.nc b.e11.BLMTRC5CN.f19_g16.002.cam.h0.TREFHT.1425.nc b.e11.BLMTRC5CN.f19_g16.002.cam.h0.TREFHT.1426.nc b.e11.BLMTRC5CN.f19_g16.002.cam.h0.TREFHT.1427.nc b.e11.BLMTRC5CN.f19_g16.002.cam.h0.TREFHT.1428.nc b.e11.BLMTRC5CN.f19_g16.002.cam.h0.TREFHT.1429.nc b.e11.BLMTRC5CN.f19_g16.002.cam.h0.TREFHT.1430.nc b.e11.BLMTRC5CN.f19_g16.002.cam.h0.TREFHT.1431.nc b.e11.BLMTRC5CN.f19_g16.002.cam.h0.TREFHT.1432.nc b.e11.BLMTRC5CN.f19_g16.002.cam.h0.TREFHT.1433.nc b.e11.BLMTRC5CN.f19_g16.002.cam.h0.TREFHT.1434.nc b.e11.BLMTRC5CN.f19_g16.002.cam.h0.TREFHT.1435.nc b.e11.BLMTRC5CN.f19_g16.002.cam.h0.TREFHT.1436.nc b.e11.BLMTRC5CN.f19_g16.002.cam.h0.TREFHT.1437.nc b.e11.BLMTRC5CN.f19_g16.002.cam.h0.TREFHT.1438.nc b.e11.BLMTRC5CN.f19_g16.002.cam.h0.TREFHT.1439.nc b.e11.BLMTRC5CN.f19_g16.002.cam.h0.TREFHT.1440.nc b.e11.BLMTRC5CN.f19_g16.002.cam.h0.TREFHT.1441.nc b.e11.BLMTRC5CN.f19_g16.002.cam.h0.TREFHT.1442.nc b.e11.BLMTRC5CN.f19_g16.002.cam.h0.TREFHT.1443.nc b.e11.BLMTRC5CN.f19_g16.002.cam.h0.TREFHT.1444.nc b.e11.BLMTRC5CN.f19_g16.002.cam.h0.TREFHT.1445.nc b.e11.BLMTRC5CN.f19_g16.002.cam.h0.TREFHT.1446.nc b.e11.BLMTRC5CN.f19_g16.002.cam.h0.TREFHT.1447.nc b.e11.BLMTRC5CN.f19_g16.002.cam.h0.TREFHT.1448.nc b.e11.BLMTRC5CN.f19_g16.002.cam.h0.TREFHT.1449.nc b.e11.BLMTRC5CN.f19_g16.002.cam.h0.TREFHT.1450.nc b.e11.BLMTRC5CN.f19_g16.002.cam.h0.TREFHT.1451.nc b.e11.BLMTRC5CN.f19_g16.002.cam.h0.TREFHT.1452.nc b.e11.BLMTRC5CN.f19_g16.002.cam.h0.TREFHT.1453.nc b.e11.BLMTRC5CN.f19_g16.002.cam.h0.TREFHT.1454.nc b.e11.BLMTRC5CN.f19_g16.002.cam.h0.TREFHT.1455.nc b.e11.BLMTRC5CN.f19_g16.002.cam.h0.TREFHT.1456.nc b.e11.BLMTRC5CN.f19_g16.002.cam.h0.TREFHT.1457.nc b.e11.BLMTRC5CN.f19_g16.002.cam.h0.TREFHT.1458.nc b.e11.BLMTRC5CN.f19_g16.002.cam.h0.TREFHT.1459.nc b.e11.BLMTRC5CN.f19_g16.002.cam.h0.TREFHT.1460.nc b.e11.BLMTRC5CN.f19_g16.002.cam.h0.TREFHT.1461.nc b.e11.BLMTRC5CN.f19_g16.002.cam.h0.TREFHT.1462.nc b.e11.BLMTRC5CN.f19_g16.002.cam.h0.TREFHT.1463.nc b.e11.BLMTRC5CN.f19_g16.002.cam.h0.TREFHT.1464.nc b.e11.BLMTRC5CN.f19_g16.002.cam.h0.TREFHT.1465.nc b.e11.BLMTRC5CN.f19_g16.002.cam.h0.TREFHT.1466.nc b.e11.BLMTRC5CN.f19_g16.002.cam.h0.TREFHT.1467.nc b.e11.BLMTRC5CN.f19_g16.002.cam.h0.TREFHT.1468.nc b.e11.BLMTRC5CN.f19_g16.002.cam.h0.TREFHT.1469.nc b.e11.BLMTRC5CN.f19_g16.002.cam.h0.TREFHT.1470.nc b.e11.BLMTRC5CN.f19_g16.002.cam.h0.TREFHT.1471.nc b.e11.BLMTRC5CN.f19_g16.002.cam.h0.TREFHT.1472.nc b.e11.BLMTRC5CN.f19_g16.002.cam.h0.TREFHT.1473.nc b.e11.BLMTRC5CN.f19_g16.002.cam.h0.TREFHT.1474.nc b.e11.BLMTRC5CN.f19_g16.002.cam.h0.TREFHT.1475.nc b.e11.BLMTRC5CN.f19_g16.002.cam.h0.TREFHT.1476.nc b.e11.BLMTRC5CN.f19_g16.002.cam.h0.TREFHT.1477.nc b.e11.BLMTRC5CN.f19_g16.002.cam.h0.TREFHT.1478.nc b.e11.BLMTRC5CN.f19_g16.002.cam.h0.TREFHT.1479.nc b.e11.BLMTRC5CN.f19_g16.002.cam.h0.TREFHT.1480.nc b.e11.BLMTRC5CN.f19_g16.002.cam.h0.TREFHT.1481.nc b.e11.BLMTRC5CN.f19_g16.002.cam.h0.TREFHT.1482.nc b.e11.BLMTRC5CN.f19_g16.002.cam.h0.TREFHT.1483.nc b.e11.BLMTRC5CN.f19_g16.002.cam.h0.TREFHT.1484.nc b.e11.BLMTRC5CN.f19_g16.002.cam.h0.TREFHT.1485.nc b.e11.BLMTRC5CN.f19_g16.002.cam.h0.TREFHT.1486.nc b.e11.BLMTRC5CN.f19_g16.002.cam.h0.TREFHT.1487.nc b.e11.BLMTRC5CN.f19_g16.002.cam.h0.TREFHT.1488.nc b.e11.BLMTRC5CN.f19_g16.002.cam.h0.TREFHT.1489.nc b.e11.BLMTRC5CN.f19_g16.002.cam.h0.TREFHT.1490.nc b.e11.BLMTRC5CN.f19_g16.002.cam.h0.TREFHT.1491.nc b.e11.BLMTRC5CN.f19_g16.002.cam.h0.TREFHT.1492.nc b.e11.BLMTRC5CN.f19_g16.002.cam.h0.TREFHT.1493.nc b.e11.BLMTRC5CN.f19_g16.002.cam.h0.TREFHT.1494.nc b.e11.BLMTRC5CN.f19_g16.002.cam.h0.TREFHT.1495.nc b.e11.BLMTRC5CN.f19_g16.002.cam.h0.TREFHT.1496.nc b.e11.BLMTRC5CN.f19_g16.002.cam.h0.TREFHT.1497.nc b.e11.BLMTRC5CN.f19_g16.002.cam.h0.TREFHT.1498.nc b.e11.BLMTRC5CN.f19_g16.002.cam.h0.TREFHT.1499.nc b.e11.BLMTRC5CN.f19_g16.002.cam.h0.TREFHT.1500.nc b.e11.BLMTRC5CN.f19_g16.002.cam.h0.TREFHT.1501.nc b.e11.BLMTRC5CN.f19_g16.002.cam.h0.TREFHT.1502.nc b.e11.BLMTRC5CN.f19_g16.002.cam.h0.TREFHT.1503.nc b.e11.BLMTRC5CN.f19_g16.002.cam.h0.TREFHT.1504.nc b.e11.BLMTRC5CN.f19_g16.002.cam.h0.TREFHT.1505.nc b.e11.BLMTRC5CN.f19_g16.002.cam.h0.TREFHT.1506.nc b.e11.BLMTRC5CN.f19_g16.002.cam.h0.TREFHT.1507.nc b.e11.BLMTRC5CN.f19_g16.002.cam.h0.TREFHT.1508.nc b.e11.BLMTRC5CN.f19_g16.002.cam.h0.TREFHT.1509.nc b.e11.BLMTRC5CN.f19_g16.002.cam.h0.TREFHT.1510.nc b.e11.BLMTRC5CN.f19_g16.002.cam.h0.TREFHT.1511.nc b.e11.BLMTRC5CN.f19_g16.002.cam.h0.TREFHT.1512.nc b.e11.BLMTRC5CN.f19_g16.002.cam.h0.TREFHT.1513.nc b.e11.BLMTRC5CN.f19_g16.002.cam.h0.TREFHT.1514.nc b.e11.BLMTRC5CN.f19_g16.002.cam.h0.TREFHT.1515.nc b.e11.BLMTRC5CN.f19_g16.002.cam.h0.TREFHT.1516.nc b.e11.BLMTRC5CN.f19_g16.002.cam.h0.TREFHT.1517.nc b.e11.BLMTRC5CN.f19_g16.002.cam.h0.TREFHT.1518.nc b.e11.BLMTRC5CN.f19_g16.002.cam.h0.TREFHT.1519.nc b.e11.BLMTRC5CN.f19_g16.002.cam.h0.TREFHT.1520.nc b.e11.BLMTRC5CN.f19_g16.002.cam.h0.TREFHT.1521.nc b.e11.BLMTRC5CN.f19_g16.002.cam.h0.TREFHT.1522.nc b.e11.BLMTRC5CN.f19_g16.002.cam.h0.TREFHT.1523.nc b.e11.BLMTRC5CN.f19_g16.002.cam.h0.TREFHT.1524.nc b.e11.BLMTRC5CN.f19_g16.002.cam.h0.TREFHT.1525.nc b.e11.BLMTRC5CN.f19_g16.002.cam.h0.TREFHT.1526.nc b.e11.BLMTRC5CN.f19_g16.002.cam.h0.TREFHT.1527.nc b.e11.BLMTRC5CN.f19_g16.002.cam.h0.TREFHT.1528.nc b.e11.BLMTRC5CN.f19_g16.002.cam.h0.TREFHT.1529.nc b.e11.BLMTRC5CN.f19_g16.002.cam.h0.TREFHT.1530.nc b.e11.BLMTRC5CN.f19_g16.002.cam.h0.TREFHT.1531.nc b.e11.BLMTRC5CN.f19_g16.002.cam.h0.TREFHT.1532.nc b.e11.BLMTRC5CN.f19_g16.002.cam.h0.TREFHT.1533.nc b.e11.BLMTRC5CN.f19_g16.002.cam.h0.TREFHT.1534.nc b.e11.BLMTRC5CN.f19_g16.002.cam.h0.TREFHT.1535.nc b.e11.BLMTRC5CN.f19_g16.002.cam.h0.TREFHT.1536.nc b.e11.BLMTRC5CN.f19_g16.002.cam.h0.TREFHT.1537.nc b.e11.BLMTRC5CN.f19_g16.002.cam.h0.TREFHT.1538.nc b.e11.BLMTRC5CN.f19_g16.002.cam.h0.TREFHT.1539.nc b.e11.BLMTRC5CN.f19_g16.002.cam.h0.TREFHT.1540.nc b.e11.BLMTRC5CN.f19_g16.002.cam.h0.TREFHT.1541.nc b.e11.BLMTRC5CN.f19_g16.002.cam.h0.TREFHT.1542.nc b.e11.BLMTRC5CN.f19_g16.002.cam.h0.TREFHT.1543.nc b.e11.BLMTRC5CN.f19_g16.002.cam.h0.TREFHT.1544.nc b.e11.BLMTRC5CN.f19_g16.002.cam.h0.TREFHT.1545.nc b.e11.BLMTRC5CN.f19_g16.002.cam.h0.TREFHT.1546.nc b.e11.BLMTRC5CN.f19_g16.002.cam.h0.TREFHT.1547.nc b.e11.BLMTRC5CN.f19_g16.002.cam.h0.TREFHT.1548.nc b.e11.BLMTRC5CN.f19_g16.002.cam.h0.TREFHT.1549.nc b.e11.BLMTRC5CN.f19_g16.002.cam.h0.TREFHT.1550.nc b.e11.BLMTRC5CN.f19_g16.002.cam.h0.TREFHT.1551.nc b.e11.BLMTRC5CN.f19_g16.002.cam.h0.TREFHT.1552.nc b.e11.BLMTRC5CN.f19_g16.002.cam.h0.TREFHT.1553.nc b.e11.BLMTRC5CN.f19_g16.002.cam.h0.TREFHT.1554.nc b.e11.BLMTRC5CN.f19_g16.002.cam.h0.TREFHT.1555.nc b.e11.BLMTRC5CN.f19_g16.002.cam.h0.TREFHT.1556.nc b.e11.BLMTRC5CN.f19_g16.002.cam.h0.TREFHT.1557.nc b.e11.BLMTRC5CN.f19_g16.002.cam.h0.TREFHT.1558.nc b.e11.BLMTRC5CN.f19_g16.002.cam.h0.TREFHT.1559.nc b.e11.BLMTRC5CN.f19_g16.002.cam.h0.TREFHT.1560.nc b.e11.BLMTRC5CN.f19_g16.002.cam.h0.TREFHT.1561.nc b.e11.BLMTRC5CN.f19_g16.002.cam.h0.TREFHT.1562.nc b.e11.BLMTRC5CN.f19_g16.002.cam.h0.TREFHT.1563.nc b.e11.BLMTRC5CN.f19_g16.002.cam.h0.TREFHT.1564.nc b.e11.BLMTRC5CN.f19_g16.002.cam.h0.TREFHT.1565.nc b.e11.BLMTRC5CN.f19_g16.002.cam.h0.TREFHT.1566.nc b.e11.BLMTRC5CN.f19_g16.002.cam.h0.TREFHT.1567.nc b.e11.BLMTRC5CN.f19_g16.002.cam.h0.TREFHT.1568.nc b.e11.BLMTRC5CN.f19_g16.002.cam.h0.TREFHT.1569.nc b.e11.BLMTRC5CN.f19_g16.002.cam.h0.TREFHT.1570.nc b.e11.BLMTRC5CN.f19_g16.002.cam.h0.TREFHT.1571.nc b.e11.BLMTRC5CN.f19_g16.002.cam.h0.TREFHT.1572.nc b.e11.BLMTRC5CN.f19_g16.002.cam.h0.TREFHT.1573.nc b.e11.BLMTRC5CN.f19_g16.002.cam.h0.TREFHT.1574.nc b.e11.BLMTRC5CN.f19_g16.002.cam.h0.TREFHT.1575.nc b.e11.BLMTRC5CN.f19_g16.002.cam.h0.TREFHT.1576.nc b.e11.BLMTRC5CN.f19_g16.002.cam.h0.TREFHT.1577.nc b.e11.BLMTRC5CN.f19_g16.002.cam.h0.TREFHT.1578.nc b.e11.BLMTRC5CN.f19_g16.002.cam.h0.TREFHT.1579.nc b.e11.BLMTRC5CN.f19_g16.002.cam.h0.TREFHT.1580.nc b.e11.BLMTRC5CN.f19_g16.002.cam.h0.TREFHT.1581.nc b.e11.BLMTRC5CN.f19_g16.002.cam.h0.TREFHT.1582.nc b.e11.BLMTRC5CN.f19_g16.002.cam.h0.TREFHT.1583.nc b.e11.BLMTRC5CN.f19_g16.002.cam.h0.TREFHT.1584.nc b.e11.BLMTRC5CN.f19_g16.002.cam.h0.TREFHT.1585.nc b.e11.BLMTRC5CN.f19_g16.002.cam.h0.TREFHT.1586.nc b.e11.BLMTRC5CN.f19_g16.002.cam.h0.TREFHT.1587.nc b.e11.BLMTRC5CN.f19_g16.002.cam.h0.TREFHT.1588.nc b.e11.BLMTRC5CN.f19_g16.002.cam.h0.TREFHT.1589.nc b.e11.BLMTRC5CN.f19_g16.002.cam.h0.TREFHT.1590.nc b.e11.BLMTRC5CN.f19_g16.002.cam.h0.TREFHT.1591.nc b.e11.BLMTRC5CN.f19_g16.002.cam.h0.TREFHT.1592.nc b.e11.BLMTRC5CN.f19_g16.002.cam.h0.TREFHT.1593.nc b.e11.BLMTRC5CN.f19_g16.002.cam.h0.TREFHT.1594.nc b.e11.BLMTRC5CN.f19_g16.002.cam.h0.TREFHT.1595.nc b.e11.BLMTRC5CN.f19_g16.002.cam.h0.TREFHT.1596.nc b.e11.BLMTRC5CN.f19_g16.002.cam.h0.TREFHT.1597.nc b.e11.BLMTRC5CN.f19_g16.002.cam.h0.TREFHT.1598.nc b.e11.BLMTRC5CN.f19_g16.002.cam.h0.TREFHT.1599.nc b.e11.BLMTRC5CN.f19_g16.002.cam.h0.TREFHT.1600.nc b.e11.BLMTRC5CN.f19_g16.002.cam.h0.TREFHT.1601.nc b.e11.BLMTRC5CN.f19_g16.002.cam.h0.TREFHT.1602.nc b.e11.BLMTRC5CN.f19_g16.002.cam.h0.TREFHT.1603.nc b.e11.BLMTRC5CN.f19_g16.002.cam.h0.TREFHT.1604.nc b.e11.BLMTRC5CN.f19_g16.002.cam.h0.TREFHT.1605.nc b.e11.BLMTRC5CN.f19_g16.002.cam.h0.TREFHT.1606.nc b.e11.BLMTRC5CN.f19_g16.002.cam.h0.TREFHT.1607.nc b.e11.BLMTRC5CN.f19_g16.002.cam.h0.TREFHT.1608.nc b.e11.BLMTRC5CN.f19_g16.002.cam.h0.TREFHT.1609.nc b.e11.BLMTRC5CN.f19_g16.002.cam.h0.TREFHT.1610.nc b.e11.BLMTRC5CN.f19_g16.002.cam.h0.TREFHT.1611.nc b.e11.BLMTRC5CN.f19_g16.002.cam.h0.TREFHT.1612.nc b.e11.BLMTRC5CN.f19_g16.002.cam.h0.TREFHT.1613.nc b.e11.BLMTRC5CN.f19_g16.002.cam.h0.TREFHT.1614.nc b.e11.BLMTRC5CN.f19_g16.002.cam.h0.TREFHT.1615.nc b.e11.BLMTRC5CN.f19_g16.002.cam.h0.TREFHT.1616.nc b.e11.BLMTRC5CN.f19_g16.002.cam.h0.TREFHT.1617.nc b.e11.BLMTRC5CN.f19_g16.002.cam.h0.TREFHT.1618.nc b.e11.BLMTRC5CN.f19_g16.002.cam.h0.TREFHT.1619.nc b.e11.BLMTRC5CN.f19_g16.002.cam.h0.TREFHT.1620.nc b.e11.BLMTRC5CN.f19_g16.002.cam.h0.TREFHT.1621.nc b.e11.BLMTRC5CN.f19_g16.002.cam.h0.TREFHT.1622.nc b.e11.BLMTRC5CN.f19_g16.002.cam.h0.TREFHT.1623.nc b.e11.BLMTRC5CN.f19_g16.002.cam.h0.TREFHT.1624.nc b.e11.BLMTRC5CN.f19_g16.002.cam.h0.TREFHT.1625.nc b.e11.BLMTRC5CN.f19_g16.002.cam.h0.TREFHT.1626.nc b.e11.BLMTRC5CN.f19_g16.002.cam.h0.TREFHT.1627.nc b.e11.BLMTRC5CN.f19_g16.002.cam.h0.TREFHT.1628.nc b.e11.BLMTRC5CN.f19_g16.002.cam.h0.TREFHT.1629.nc b.e11.BLMTRC5CN.f19_g16.002.cam.h0.TREFHT.1630.nc b.e11.BLMTRC5CN.f19_g16.002.cam.h0.TREFHT.1631.nc b.e11.BLMTRC5CN.f19_g16.002.cam.h0.TREFHT.1632.nc b.e11.BLMTRC5CN.f19_g16.002.cam.h0.TREFHT.1633.nc b.e11.BLMTRC5CN.f19_g16.002.cam.h0.TREFHT.1634.nc b.e11.BLMTRC5CN.f19_g16.002.cam.h0.TREFHT.1635.nc b.e11.BLMTRC5CN.f19_g16.002.cam.h0.TREFHT.1636.nc b.e11.BLMTRC5CN.f19_g16.002.cam.h0.TREFHT.1637.nc b.e11.BLMTRC5CN.f19_g16.002.cam.h0.TREFHT.1638.nc b.e11.BLMTRC5CN.f19_g16.002.cam.h0.TREFHT.1639.nc b.e11.BLMTRC5CN.f19_g16.002.cam.h0.TREFHT.1640.nc b.e11.BLMTRC5CN.f19_g16.002.cam.h0.TREFHT.1641.nc b.e11.BLMTRC5CN.f19_g16.002.cam.h0.TREFHT.1642.nc b.e11.BLMTRC5CN.f19_g16.002.cam.h0.TREFHT.1643.nc b.e11.BLMTRC5CN.f19_g16.002.cam.h0.TREFHT.1644.nc b.e11.BLMTRC5CN.f19_g16.002.cam.h0.TREFHT.1645.nc b.e11.BLMTRC5CN.f19_g16.002.cam.h0.TREFHT.1646.nc b.e11.BLMTRC5CN.f19_g16.002.cam.h0.TREFHT.1647.nc b.e11.BLMTRC5CN.f19_g16.002.cam.h0.TREFHT.1648.nc b.e11.BLMTRC5CN.f19_g16.002.cam.h0.TREFHT.1649.nc b.e11.BLMTRC5CN.f19_g16.002.cam.h0.TREFHT.1650.nc b.e11.BLMTRC5CN.f19_g16.002.cam.h0.TREFHT.1651.nc b.e11.BLMTRC5CN.f19_g16.002.cam.h0.TREFHT.1652.nc b.e11.BLMTRC5CN.f19_g16.002.cam.h0.TREFHT.1653.nc b.e11.BLMTRC5CN.f19_g16.002.cam.h0.TREFHT.1654.nc b.e11.BLMTRC5CN.f19_g16.002.cam.h0.TREFHT.1655.nc b.e11.BLMTRC5CN.f19_g16.002.cam.h0.TREFHT.1656.nc b.e11.BLMTRC5CN.f19_g16.002.cam.h0.TREFHT.1657.nc b.e11.BLMTRC5CN.f19_g16.002.cam.h0.TREFHT.1658.nc b.e11.BLMTRC5CN.f19_g16.002.cam.h0.TREFHT.1659.nc b.e11.BLMTRC5CN.f19_g16.002.cam.h0.TREFHT.1660.nc b.e11.BLMTRC5CN.f19_g16.002.cam.h0.TREFHT.1661.nc b.e11.BLMTRC5CN.f19_g16.002.cam.h0.TREFHT.1662.nc b.e11.BLMTRC5CN.f19_g16.002.cam.h0.TREFHT.1663.nc b.e11.BLMTRC5CN.f19_g16.002.cam.h0.TREFHT.1664.nc b.e11.BLMTRC5CN.f19_g16.002.cam.h0.TREFHT.1665.nc b.e11.BLMTRC5CN.f19_g16.002.cam.h0.TREFHT.1666.nc b.e11.BLMTRC5CN.f19_g16.002.cam.h0.TREFHT.1667.nc b.e11.BLMTRC5CN.f19_g16.002.cam.h0.TREFHT.1668.nc b.e11.BLMTRC5CN.f19_g16.002.cam.h0.TREFHT.1669.nc b.e11.BLMTRC5CN.f19_g16.002.cam.h0.TREFHT.1670.nc b.e11.BLMTRC5CN.f19_g16.002.cam.h0.TREFHT.1671.nc b.e11.BLMTRC5CN.f19_g16.002.cam.h0.TREFHT.1672.nc b.e11.BLMTRC5CN.f19_g16.002.cam.h0.TREFHT.1673.nc b.e11.BLMTRC5CN.f19_g16.002.cam.h0.TREFHT.1674.nc b.e11.BLMTRC5CN.f19_g16.002.cam.h0.TREFHT.1675.nc b.e11.BLMTRC5CN.f19_g16.002.cam.h0.TREFHT.1676.nc b.e11.BLMTRC5CN.f19_g16.002.cam.h0.TREFHT.1677.nc b.e11.BLMTRC5CN.f19_g16.002.cam.h0.TREFHT.1678.nc b.e11.BLMTRC5CN.f19_g16.002.cam.h0.TREFHT.1679.nc b.e11.BLMTRC5CN.f19_g16.002.cam.h0.TREFHT.1680.nc b.e11.BLMTRC5CN.f19_g16.002.cam.h0.TREFHT.1681.nc b.e11.BLMTRC5CN.f19_g16.002.cam.h0.TREFHT.1682.nc b.e11.BLMTRC5CN.f19_g16.002.cam.h0.TREFHT.1683.nc b.e11.BLMTRC5CN.f19_g16.002.cam.h0.TREFHT.1684.nc b.e11.BLMTRC5CN.f19_g16.002.cam.h0.TREFHT.1685.nc b.e11.BLMTRC5CN.f19_g16.002.cam.h0.TREFHT.1686.nc b.e11.BLMTRC5CN.f19_g16.002.cam.h0.TREFHT.1687.nc b.e11.BLMTRC5CN.f19_g16.002.cam.h0.TREFHT.1688.nc b.e11.BLMTRC5CN.f19_g16.002.cam.h0.TREFHT.1689.nc b.e11.BLMTRC5CN.f19_g16.002.cam.h0.TREFHT.1690.nc b.e11.BLMTRC5CN.f19_g16.002.cam.h0.TREFHT.1691.nc b.e11.BLMTRC5CN.f19_g16.002.cam.h0.TREFHT.1692.nc b.e11.BLMTRC5CN.f19_g16.002.cam.h0.TREFHT.1693.nc b.e11.BLMTRC5CN.f19_g16.002.cam.h0.TREFHT.1694.nc b.e11.BLMTRC5CN.f19_g16.002.cam.h0.TREFHT.1695.nc b.e11.BLMTRC5CN.f19_g16.002.cam.h0.TREFHT.1696.nc b.e11.BLMTRC5CN.f19_g16.002.cam.h0.TREFHT.1697.nc b.e11.BLMTRC5CN.f19_g16.002.cam.h0.TREFHT.1698.nc b.e11.BLMTRC5CN.f19_g16.002.cam.h0.TREFHT.1699.nc b.e11.BLMTRC5CN.f19_g16.002.cam.h0.TREFHT.1700.nc b.e11.BLMTRC5CN.f19_g16.002.cam.h0.TREFHT.1701.nc b.e11.BLMTRC5CN.f19_g16.002.cam.h0.TREFHT.1702.nc b.e11.BLMTRC5CN.f19_g16.002.cam.h0.TREFHT.1703.nc b.e11.BLMTRC5CN.f19_g16.002.cam.h0.TREFHT.1704.nc b.e11.BLMTRC5CN.f19_g16.002.cam.h0.TREFHT.1705.nc b.e11.BLMTRC5CN.f19_g16.002.cam.h0.TREFHT.1706.nc b.e11.BLMTRC5CN.f19_g16.002.cam.h0.TREFHT.1707.nc b.e11.BLMTRC5CN.f19_g16.002.cam.h0.TREFHT.1708.nc b.e11.BLMTRC5CN.f19_g16.002.cam.h0.TREFHT.1709.nc b.e11.BLMTRC5CN.f19_g16.002.cam.h0.TREFHT.1710.nc b.e11.BLMTRC5CN.f19_g16.002.cam.h0.TREFHT.1711.nc b.e11.BLMTRC5CN.f19_g16.002.cam.h0.TREFHT.1712.nc b.e11.BLMTRC5CN.f19_g16.002.cam.h0.TREFHT.1713.nc b.e11.BLMTRC5CN.f19_g16.002.cam.h0.TREFHT.1714.nc b.e11.BLMTRC5CN.f19_g16.002.cam.h0.TREFHT.1715.nc b.e11.BLMTRC5CN.f19_g16.002.cam.h0.TREFHT.1716.nc b.e11.BLMTRC5CN.f19_g16.002.cam.h0.TREFHT.1717.nc b.e11.BLMTRC5CN.f19_g16.002.cam.h0.TREFHT.1718.nc b.e11.BLMTRC5CN.f19_g16.002.cam.h0.TREFHT.1719.nc b.e11.BLMTRC5CN.f19_g16.002.cam.h0.TREFHT.1720.nc b.e11.BLMTRC5CN.f19_g16.002.cam.h0.TREFHT.1721.nc b.e11.BLMTRC5CN.f19_g16.002.cam.h0.TREFHT.1722.nc b.e11.BLMTRC5CN.f19_g16.002.cam.h0.TREFHT.1723.nc b.e11.BLMTRC5CN.f19_g16.002.cam.h0.TREFHT.1724.nc b.e11.BLMTRC5CN.f19_g16.002.cam.h0.TREFHT.1725.nc b.e11.BLMTRC5CN.f19_g16.002.cam.h0.TREFHT.1726.nc b.e11.BLMTRC5CN.f19_g16.002.cam.h0.TREFHT.1727.nc b.e11.BLMTRC5CN.f19_g16.002.cam.h0.TREFHT.1728.nc b.e11.BLMTRC5CN.f19_g16.002.cam.h0.TREFHT.1729.nc b.e11.BLMTRC5CN.f19_g16.002.cam.h0.TREFHT.1730.nc b.e11.BLMTRC5CN.f19_g16.002.cam.h0.TREFHT.1731.nc b.e11.BLMTRC5CN.f19_g16.002.cam.h0.TREFHT.1732.nc b.e11.BLMTRC5CN.f19_g16.002.cam.h0.TREFHT.1733.nc b.e11.BLMTRC5CN.f19_g16.002.cam.h0.TREFHT.1734.nc b.e11.BLMTRC5CN.f19_g16.002.cam.h0.TREFHT.1735.nc b.e11.BLMTRC5CN.f19_g16.002.cam.h0.TREFHT.1736.nc b.e11.BLMTRC5CN.f19_g16.002.cam.h0.TREFHT.1737.nc b.e11.BLMTRC5CN.f19_g16.002.cam.h0.TREFHT.1738.nc b.e11.BLMTRC5CN.f19_g16.002.cam.h0.TREFHT.1739.nc b.e11.BLMTRC5CN.f19_g16.002.cam.h0.TREFHT.1740.nc b.e11.BLMTRC5CN.f19_g16.002.cam.h0.TREFHT.1741.nc b.e11.BLMTRC5CN.f19_g16.002.cam.h0.TREFHT.1742.nc b.e11.BLMTRC5CN.f19_g16.002.cam.h0.TREFHT.1743.nc b.e11.BLMTRC5CN.f19_g16.002.cam.h0.TREFHT.1744.nc b.e11.BLMTRC5CN.f19_g16.002.cam.h0.TREFHT.1745.nc b.e11.BLMTRC5CN.f19_g16.002.cam.h0.TREFHT.1746.nc b.e11.BLMTRC5CN.f19_g16.002.cam.h0.TREFHT.1747.nc b.e11.BLMTRC5CN.f19_g16.002.cam.h0.TREFHT.1748.nc b.e11.BLMTRC5CN.f19_g16.002.cam.h0.TREFHT.1749.nc b.e11.BLMTRC5CN.f19_g16.002.cam.h0.TREFHT.1750.nc b.e11.BLMTRC5CN.f19_g16.002.cam.h0.TREFHT.1751.nc b.e11.BLMTRC5CN.f19_g16.002.cam.h0.TREFHT.1752.nc b.e11.BLMTRC5CN.f19_g16.002.cam.h0.TREFHT.1753.nc b.e11.BLMTRC5CN.f19_g16.002.cam.h0.TREFHT.1754.nc b.e11.BLMTRC5CN.f19_g16.002.cam.h0.TREFHT.1755.nc b.e11.BLMTRC5CN.f19_g16.002.cam.h0.TREFHT.1756.nc b.e11.BLMTRC5CN.f19_g16.002.cam.h0.TREFHT.1757.nc b.e11.BLMTRC5CN.f19_g16.002.cam.h0.TREFHT.1758.nc b.e11.BLMTRC5CN.f19_g16.002.cam.h0.TREFHT.1759.nc b.e11.BLMTRC5CN.f19_g16.002.cam.h0.TREFHT.1760.nc b.e11.BLMTRC5CN.f19_g16.002.cam.h0.TREFHT.1761.nc b.e11.BLMTRC5CN.f19_g16.002.cam.h0.TREFHT.1762.nc b.e11.BLMTRC5CN.f19_g16.002.cam.h0.TREFHT.1763.nc b.e11.BLMTRC5CN.f19_g16.002.cam.h0.TREFHT.1764.nc b.e11.BLMTRC5CN.f19_g16.002.cam.h0.TREFHT.1765.nc b.e11.BLMTRC5CN.f19_g16.002.cam.h0.TREFHT.1766.nc b.e11.BLMTRC5CN.f19_g16.002.cam.h0.TREFHT.1767.nc b.e11.BLMTRC5CN.f19_g16.002.cam.h0.TREFHT.1768.nc b.e11.BLMTRC5CN.f19_g16.002.cam.h0.TREFHT.1769.nc b.e11.BLMTRC5CN.f19_g16.002.cam.h0.TREFHT.1770.nc b.e11.BLMTRC5CN.f19_g16.002.cam.h0.TREFHT.1771.nc b.e11.BLMTRC5CN.f19_g16.002.cam.h0.TREFHT.1772.nc b.e11.BLMTRC5CN.f19_g16.002.cam.h0.TREFHT.1773.nc b.e11.BLMTRC5CN.f19_g16.002.cam.h0.TREFHT.1774.nc b.e11.BLMTRC5CN.f19_g16.002.cam.h0.TREFHT.1775.nc b.e11.BLMTRC5CN.f19_g16.002.cam.h0.TREFHT.1776.nc b.e11.BLMTRC5CN.f19_g16.002.cam.h0.TREFHT.1777.nc b.e11.BLMTRC5CN.f19_g16.002.cam.h0.TREFHT.1778.nc b.e11.BLMTRC5CN.f19_g16.002.cam.h0.TREFHT.1779.nc b.e11.BLMTRC5CN.f19_g16.002.cam.h0.TREFHT.1780.nc b.e11.BLMTRC5CN.f19_g16.002.cam.h0.TREFHT.1781.nc b.e11.BLMTRC5CN.f19_g16.002.cam.h0.TREFHT.1782.nc b.e11.BLMTRC5CN.f19_g16.002.cam.h0.TREFHT.1783.nc b.e11.BLMTRC5CN.f19_g16.002.cam.h0.TREFHT.1784.nc b.e11.BLMTRC5CN.f19_g16.002.cam.h0.TREFHT.1785.nc b.e11.BLMTRC5CN.f19_g16.002.cam.h0.TREFHT.1786.nc b.e11.BLMTRC5CN.f19_g16.002.cam.h0.TREFHT.1787.nc b.e11.BLMTRC5CN.f19_g16.002.cam.h0.TREFHT.1788.nc b.e11.BLMTRC5CN.f19_g16.002.cam.h0.TREFHT.1789.nc b.e11.BLMTRC5CN.f19_g16.002.cam.h0.TREFHT.1790.nc b.e11.BLMTRC5CN.f19_g16.002.cam.h0.TREFHT.1791.nc b.e11.BLMTRC5CN.f19_g16.002.cam.h0.TREFHT.1792.nc b.e11.BLMTRC5CN.f19_g16.002.cam.h0.TREFHT.1793.nc b.e11.BLMTRC5CN.f19_g16.002.cam.h0.TREFHT.1794.nc b.e11.BLMTRC5CN.f19_g16.002.cam.h0.TREFHT.1795.nc b.e11.BLMTRC5CN.f19_g16.002.cam.h0.TREFHT.1796.nc b.e11.BLMTRC5CN.f19_g16.002.cam.h0.TREFHT.1797.nc b.e11.BLMTRC5CN.f19_g16.002.cam.h0.TREFHT.1798.nc b.e11.BLMTRC5CN.f19_g16.002.cam.h0.TREFHT.1799.nc b.e11.BLMTRC5CN.f19_g16.002.cam.h0.TREFHT.1800.nc b.e11.BLMTRC5CN.f19_g16.002.cam.h0.TREFHT.1801.nc b.e11.BLMTRC5CN.f19_g16.002.cam.h0.TREFHT.1802.nc b.e11.BLMTRC5CN.f19_g16.002.cam.h0.TREFHT.1803.nc b.e11.BLMTRC5CN.f19_g16.002.cam.h0.TREFHT.1804.nc b.e11.BLMTRC5CN.f19_g16.002.cam.h0.TREFHT.1805.nc b.e11.BLMTRC5CN.f19_g16.002.cam.h0.TREFHT.1806.nc b.e11.BLMTRC5CN.f19_g16.002.cam.h0.TREFHT.1807.nc b.e11.BLMTRC5CN.f19_g16.002.cam.h0.TREFHT.1808.nc b.e11.BLMTRC5CN.f19_g16.002.cam.h0.TREFHT.1809.nc b.e11.BLMTRC5CN.f19_g16.002.cam.h0.TREFHT.1810.nc b.e11.BLMTRC5CN.f19_g16.002.cam.h0.TREFHT.1811.nc b.e11.BLMTRC5CN.f19_g16.002.cam.h0.TREFHT.1812.nc b.e11.BLMTRC5CN.f19_g16.002.cam.h0.TREFHT.1813.nc b.e11.BLMTRC5CN.f19_g16.002.cam.h0.TREFHT.1814.nc b.e11.BLMTRC5CN.f19_g16.002.cam.h0.TREFHT.1815.nc b.e11.BLMTRC5CN.f19_g16.002.cam.h0.TREFHT.1816.nc b.e11.BLMTRC5CN.f19_g16.002.cam.h0.TREFHT.1817.nc b.e11.BLMTRC5CN.f19_g16.002.cam.h0.TREFHT.1818.nc b.e11.BLMTRC5CN.f19_g16.002.cam.h0.TREFHT.1819.nc b.e11.BLMTRC5CN.f19_g16.002.cam.h0.TREFHT.1820.nc b.e11.BLMTRC5CN.f19_g16.002.cam.h0.TREFHT.1821.nc b.e11.BLMTRC5CN.f19_g16.002.cam.h0.TREFHT.1822.nc b.e11.BLMTRC5CN.f19_g16.002.cam.h0.TREFHT.1823.nc b.e11.BLMTRC5CN.f19_g16.002.cam.h0.TREFHT.1824.nc b.e11.BLMTRC5CN.f19_g16.002.cam.h0.TREFHT.1825.nc b.e11.BLMTRC5CN.f19_g16.002.cam.h0.TREFHT.1826.nc b.e11.BLMTRC5CN.f19_g16.002.cam.h0.TREFHT.1827.nc b.e11.BLMTRC5CN.f19_g16.002.cam.h0.TREFHT.1828.nc b.e11.BLMTRC5CN.f19_g16.002.cam.h0.TREFHT.1829.nc b.e11.BLMTRC5CN.f19_g16.002.cam.h0.TREFHT.1830.nc b.e11.BLMTRC5CN.f19_g16.002.cam.h0.TREFHT.1831.nc b.e11.BLMTRC5CN.f19_g16.002.cam.h0.TREFHT.1832.nc b.e11.BLMTRC5CN.f19_g16.002.cam.h0.TREFHT.1833.nc b.e11.BLMTRC5CN.f19_g16.002.cam.h0.TREFHT.1834.nc b.e11.BLMTRC5CN.f19_g16.002.cam.h0.TREFHT.1835.nc b.e11.BLMTRC5CN.f19_g16.002.cam.h0.TREFHT.1836.nc b.e11.BLMTRC5CN.f19_g16.002.cam.h0.TREFHT.1837.nc b.e11.BLMTRC5CN.f19_g16.002.cam.h0.TREFHT.1838.nc b.e11.BLMTRC5CN.f19_g16.002.cam.h0.TREFHT.1839.nc b.e11.BLMTRC5CN.f19_g16.002.cam.h0.TREFHT.1840.nc b.e11.BLMTRC5CN.f19_g16.002.cam.h0.TREFHT.1841.nc b.e11.BLMTRC5CN.f19_g16.002.cam.h0.TREFHT.1842.nc b.e11.BLMTRC5CN.f19_g16.002.cam.h0.TREFHT.1843.nc b.e11.BLMTRC5CN.f19_g16.002.cam.h0.TREFHT.1844.nc b.e11.BLMTRC5CN.f19_g16.002.cam.h0.TREFHT.1845.nc b.e11.BLMTRC5CN.f19_g16.002.cam.h0.TREFHT.1846.nc b.e11.BLMTRC5CN.f19_g16.002.cam.h0.TREFHT.1847.nc b.e11.BLMTRC5CN.f19_g16.002.cam.h0.TREFHT.1848.nc b.e11.BLMTRC5CN.f19_g16.002.cam.h0.TREFHT.1849.nc CAT.b.e11.BLMTRC5CN.f19_g16.002.cam.h0.TREFHT.085001-184912.nc\n",
       "Mon Jan 27 13:35:18 2014: /glade/apps/opt/nco/4.3.4/gnu/nco-4.3.4/bin/ncks -O -v ch4vmr,co2vmr,date,date_written,datesec,f11vmr,f12vmr,n2ovmr,ndcur,nscur,nsteph,sol_tsi,time,time_bnds,time_written,gw,hyai,hyam,hybi,hybm,ilev,lat,lev,lon,nlon,slat,slon,w_stag,wnummax,P0,mdt,nbdate,nbsec,ndbase,nsbase,ntrk,ntrm,ntrn,TREFHT b.e11.BLMTRC5CN.f19_g16.002.cam.h0.0850.nc TREFHT.d/b.e11.BLMTRC5CN.f19_g16.002.cam.h0.TREFHT.0850.nc\n",
       "Mon Jan 27 13:34:29 2014: /glade/apps/opt/nco/4.3.4/gnu/nco-4.3.4/bin/ncrcat -O b.e11.BLMTRC5CN.f19_g16.002.cam.h0.0850-01.nc b.e11.BLMTRC5CN.f19_g16.002.cam.h0.0850-02.nc b.e11.BLMTRC5CN.f19_g16.002.cam.h0.0850-03.nc b.e11.BLMTRC5CN.f19_g16.002.cam.h0.0850-04.nc b.e11.BLMTRC5CN.f19_g16.002.cam.h0.0850-05.nc b.e11.BLMTRC5CN.f19_g16.002.cam.h0.0850-06.nc b.e11.BLMTRC5CN.f19_g16.002.cam.h0.0850-07.nc b.e11.BLMTRC5CN.f19_g16.002.cam.h0.0850-08.nc b.e11.BLMTRC5CN.f19_g16.002.cam.h0.0850-09.nc b.e11.BLMTRC5CN.f19_g16.002.cam.h0.0850-10.nc b.e11.BLMTRC5CN.f19_g16.002.cam.h0.0850-11.nc b.e11.BLMTRC5CN.f19_g16.002.cam.h0.0850-12.nc b.e11.BLMTRC5CN.f19_g16.002.cam.h0.0850.nc\n",
       "Mon Jan 27 13:34:18 2014: /glade/apps/opt/nco/4.3.4/gnu/nco-4.3.4/bin/ncks -4 b.e11.BLMTRC5CN.f19_g16.002.cam.h0.0850-01.nc b.e11.BLMTRC5CN.f19_g16.002.cam.h0.0850-01.nc4</dd><dt><span>NCO :</span></dt><dd>&quot;4.6.3&quot;</dd></dl></div></li></ul></div></div>"
      ],
      "text/plain": [
       "<xarray.Dataset>\n",
       "Dimensions:    (lat: 96, lon: 144, member: 12, nbnd: 2, time: 13860)\n",
       "Coordinates:\n",
       "  * time       (time) object 0851-01-17 00:00:00 ... 2005-12-17 00:00:00\n",
       "  * lat        (lat) float64 -90.0 -88.11 -86.21 -84.32 ... 86.21 88.11 90.0\n",
       "  * lon        (lon) float64 0.0 2.5 5.0 7.5 10.0 ... 350.0 352.5 355.0 357.5\n",
       "  * member     (member) int32 1 2 3 4 5 6 7 8 9 10 11 12\n",
       "Dimensions without coordinates: nbnd\n",
       "Data variables:\n",
       "    time_bnds  (time, nbnd) object ...\n",
       "    tas        (member, time, lat, lon) float32 ...\n",
       "Attributes:\n",
       "    Conventions:               CF-1.0\n",
       "    source:                    CAM\n",
       "    case:                      b.e11.BLMTRC5CN.f19_g16.002\n",
       "    title:                     UNSET\n",
       "    logname:                   mai\n",
       "    host:                      ys0137\n",
       "    Version:                   $Name$\n",
       "    revision_Id:               $Id$\n",
       "    initial_file:              b.e11.B1850C5CN.f19_g16.0850cntl.001.cam.i.085...\n",
       "    topography_file:           /glade/p/cesmdata/cseg/inputdata/atm/cam/topo/...\n",
       "    nco_openmp_thread_number:  1\n",
       "    history:                   Fri Oct  2 15:20:52 2020: ncecat -u member /ho...\n",
       "    NCO:                       \"4.6.3\""
      ]
     },
     "execution_count": 4,
     "metadata": {},
     "output_type": "execute_result"
    }
   ],
   "source": [
    "data"
   ]
  },
  {
   "cell_type": "code",
   "execution_count": 10,
   "metadata": {},
   "outputs": [],
   "source": [
    "lats = data.lat.values\n",
    "lons = data.lon.values"
   ]
  },
  {
   "cell_type": "markdown",
   "metadata": {},
   "source": [
    "## Method 1: \n",
    "\n",
    "Calculate area of grid cell at the equator and then use cos(lat) to estimate the rest. "
   ]
  },
  {
   "cell_type": "code",
   "execution_count": 94,
   "metadata": {},
   "outputs": [],
   "source": [
    "Aearth = 4*np.pi*Re_e**2\n",
    "\n",
    "Cd = lons.shape[0]*np.sum(np.cos(np.deg2rad(lats)))\n",
    "\n",
    "C = Aearth/Cd  # equator grid cell area\n",
    "\n",
    "Agrid = C*np.cos(np.deg2rad(lats))[:,np.newaxis]*np.ones((lats.shape[0],lons.shape[0]))\n",
    "\n",
    "Agrid_member = Agrid[np.newaxis,:,:]*np.ones((12,lats.shape[0],lons.shape[0]))"
   ]
  },
  {
   "cell_type": "code",
   "execution_count": 95,
   "metadata": {},
   "outputs": [
    {
     "data": {
      "text/plain": [
       "<matplotlib.colorbar.Colorbar at 0x7f92b43d1198>"
      ]
     },
     "execution_count": 95,
     "metadata": {},
     "output_type": "execute_result"
    },
    {
     "data": {
      "image/png": "[encoded data removed]",
      "text/plain": [
       "<Figure size 432x288 with 2 Axes>"
      ]
     },
     "metadata": {
      "needs_background": "light"
     },
     "output_type": "display_data"
    }
   ],
   "source": [
    "plt.pcolormesh(Agrid)\n",
    "plt.colorbar()"
   ]
  },
  {
   "cell_type": "code",
   "execution_count": 113,
   "metadata": {},
   "outputs": [],
   "source": [
    "da = xr.DataArray(data=Agrid_member,\n",
    "                  dims=[\"member\",\"nlat\",\"nlon\"],\n",
    "                      coords=dict(lon=([\"nlon\"], lons),\n",
    "                                  lat=([\"nlat\"], lats),\n",
    "                                  member=([\"member\"],np.arange(0,12,1))),\n",
    "                      attrs=dict(description=\"estimated grid cell area\",\n",
    "                                 units=\"m^2\"),\n",
    "                 name='areacella')"
   ]
  },
  {
   "cell_type": "code",
   "execution_count": 118,
   "metadata": {},
   "outputs": [],
   "source": [
    "ds = xr.Dataset({\"areacella\": da})"
   ]
  },
  {
   "cell_type": "code",
   "execution_count": 120,
   "metadata": {},
   "outputs": [],
   "source": [
    "ds.to_netcdf(data_dir+'areacella_CESM_LME_global.nc')"
   ]
  },
  {
   "cell_type": "markdown",
   "metadata": {},
   "source": [
    "## Method 2: \n",
    "\n",
    "Following https://www.pmel.noaa.gov/maillists/tmap/ferret_users/fu_2004/msg00023.html\n",
    "  \n",
    "However ends up with one less latitude value than original because starts and ends at 90/-90, but used difference to calculate area of each latitude band. "
   ]
  },
  {
   "cell_type": "code",
   "execution_count": 59,
   "metadata": {},
   "outputs": [],
   "source": [
    "Area_per_lat = 2*np.pi*Re_e**2*(1-np.sin(np.deg2rad(lats)))\n",
    "Area_lat_bands = Area_per_lat[:-1]-Area_per_lat[1:]\n",
    "\n",
    "Area_grid_cell = Area_lat_bands[:,np.newaxis]*np.ones((95,144))*(2.5/360)"
   ]
  },
  {
   "cell_type": "code",
   "execution_count": 63,
   "metadata": {},
   "outputs": [
    {
     "data": {
      "text/plain": [
       "<matplotlib.colorbar.Colorbar at 0x7f92b4667c18>"
      ]
     },
     "execution_count": 63,
     "metadata": {},
     "output_type": "execute_result"
    },
    {
     "data": {
      "image/png": "[encoded data removed]",
      "text/plain": [
       "<Figure size 432x288 with 2 Axes>"
      ]
     },
     "metadata": {
      "needs_background": "light"
     },
     "output_type": "display_data"
    }
   ],
   "source": [
    "plt.pcolormesh(Area_grid_cell)\n",
    "plt.colorbar()"
   ]
  },
  {
   "cell_type": "markdown",
   "metadata": {},
   "source": [
    "# For Large Ensemble: "
   ]
  },
  {
   "cell_type": "code",
   "execution_count": 4,
   "metadata": {},
   "outputs": [],
   "source": [
    "data_dir = '/home/disk/chaos/mkb22/Documents/SeaIceData/CESM_LE/'\n",
    "data_name = 'tas_CESM_LE_002_200601-210012.nc'\n",
    "\n",
    "data = xr.open_dataset(data_dir+data_name)"
   ]
  },
  {
   "cell_type": "code",
   "execution_count": 5,
   "metadata": {},
   "outputs": [],
   "source": [
    "lats = data.lat.values\n",
    "lons = data.lon.values"
   ]
  },
  {
   "cell_type": "code",
   "execution_count": 6,
   "metadata": {},
   "outputs": [],
   "source": [
    "Aearth = 4*np.pi*Re_e**2\n",
    "\n",
    "Cd = lons.shape[0]*np.sum(np.cos(np.deg2rad(lats)))\n",
    "\n",
    "C = Aearth/Cd  # equator grid cell area\n",
    "\n",
    "Agrid = C*np.cos(np.deg2rad(lats))[:,np.newaxis]*np.ones((lats.shape[0],lons.shape[0]))\n",
    "\n",
    "Agrid_member = Agrid[np.newaxis,:,:]*np.ones((12,lats.shape[0],lons.shape[0]))"
   ]
  },
  {
   "cell_type": "code",
   "execution_count": 7,
   "metadata": {},
   "outputs": [
    {
     "data": {
      "text/plain": [
       "<matplotlib.colorbar.Colorbar at 0x7f860a59ce48>"
      ]
     },
     "execution_count": 7,
     "metadata": {},
     "output_type": "execute_result"
    },
    {
     "data": {
      "image/png": "[encoded data removed]",
      "text/plain": [
       "<Figure size 432x288 with 2 Axes>"
      ]
     },
     "metadata": {
      "needs_background": "light"
     },
     "output_type": "display_data"
    }
   ],
   "source": [
    "plt.pcolormesh(Agrid)\n",
    "plt.colorbar()"
   ]
  },
  {
   "cell_type": "code",
   "execution_count": 8,
   "metadata": {},
   "outputs": [],
   "source": [
    "da = xr.DataArray(data=Agrid_member,\n",
    "                  dims=[\"member\",\"nlat\",\"nlon\"],\n",
    "                      coords=dict(lon=([\"nlon\"], lons),\n",
    "                                  lat=([\"nlat\"], lats),\n",
    "                                  member=([\"member\"],np.arange(0,12,1))),\n",
    "                      attrs=dict(description=\"estimated grid cell area\",\n",
    "                                 units=\"m^2\"),\n",
    "                 name='areacella')"
   ]
  },
  {
   "cell_type": "code",
   "execution_count": 9,
   "metadata": {},
   "outputs": [],
   "source": [
    "ds = xr.Dataset({\"areacella\": da})"
   ]
  },
  {
   "cell_type": "code",
   "execution_count": 10,
   "metadata": {},
   "outputs": [],
   "source": [
    "ds.to_netcdf(data_dir+'areacella_CESM_LE_global.nc')"
   ]
  },
  {
   "cell_type": "code",
   "execution_count": null,
   "metadata": {},
   "outputs": [],
   "source": []
  }
 ],
 "metadata": {
  "kernelspec": {
   "display_name": "Python 3",
   "language": "python",
   "name": "python3"
  },
  "language_info": {
   "codemirror_mode": {
    "name": "ipython",
    "version": 3
   },
   "file_extension": ".py",
   "mimetype": "text/x-python",
   "name": "python",
   "nbconvert_exporter": "python",
   "pygments_lexer": "ipython3",
   "version": "3.6.6"
  }
 },
 "nbformat": 4,
 "nbformat_minor": 2
}
