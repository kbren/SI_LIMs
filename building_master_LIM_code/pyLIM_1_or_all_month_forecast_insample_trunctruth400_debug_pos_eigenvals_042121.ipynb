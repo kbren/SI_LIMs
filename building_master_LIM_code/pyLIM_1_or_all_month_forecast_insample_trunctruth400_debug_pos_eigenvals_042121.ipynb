{
 "cells": [
  {
   "cell_type": "markdown",
   "metadata": {},
   "source": [
    "# LIM forecasting: multivariate separate sic each month\n",
    "\n",
    "Katie Brennan  \n",
    "started March 2021  \n",
    "  \n",
    "#### Goals: \n",
    "* Debug why eigenvalues are positive..."
   ]
  },
  {
   "cell_type": "code",
   "execution_count": 1,
   "metadata": {},
   "outputs": [],
   "source": [
    "import sys,os\n",
    "import xarray as xr\n",
    "import numpy as np\n",
    "import scipy as spy\n",
    "import pickle \n",
    "\n",
    "import matplotlib\n",
    "import matplotlib.pyplot as plt\n",
    "import cartopy.crs as ccrs\n",
    "import cartopy.feature as cfeature\n",
    "from cartopy.util import add_cyclic_point\n",
    "from collections import OrderedDict \n",
    "\n",
    "import time as timestamp "
   ]
  },
  {
   "cell_type": "code",
   "execution_count": 2,
   "metadata": {},
   "outputs": [],
   "source": [
    "sys.path.append(\"/home/disk/p/mkb22/Documents/si_analysis_kb/LIMs/SI_LIMs/\")\n",
    "import LIM_utils as lim\n",
    "\n",
    "import LIM_utils_kb as limkb\n",
    "import LIM_stats_kb as statskb\n",
    "import LIM_plot_kb as plotkb\n",
    "import LIM_building as limbuild"
   ]
  },
  {
   "cell_type": "code",
   "execution_count": 76,
   "metadata": {},
   "outputs": [
    {
     "data": {
      "text/plain": [
       "<module 'LIM_building' from '/home/disk/p/mkb22/Documents/si_analysis_kb/LIMs/SI_LIMs/LIM_building.py'>"
      ]
     },
     "execution_count": 76,
     "metadata": {},
     "output_type": "execute_result"
    }
   ],
   "source": [
    "import importlib\n",
    "importlib.reload(limkb)\n",
    "importlib.reload(statskb)\n",
    "importlib.reload(limbuild)"
   ]
  },
  {
   "cell_type": "code",
   "execution_count": 4,
   "metadata": {},
   "outputs": [],
   "source": [
    "arc_proj = dict(projection=ccrs.Stereographic(central_latitude=90,\n",
    "                                              central_longitude=-45,\n",
    "                                              true_scale_latitude=0.1))\n",
    "proj = dict(projection=ccrs.Robinson(central_longitude=0.),zorder=1)"
   ]
  },
  {
   "cell_type": "code",
   "execution_count": 5,
   "metadata": {},
   "outputs": [],
   "source": [
    "valid_stats_allmo = {}"
   ]
  },
  {
   "cell_type": "code",
   "execution_count": 124,
   "metadata": {},
   "outputs": [],
   "source": [
    "# number of EOFs to retain for the LIM state vector\n",
    "ntrunc = 400 # EOF truncation for individual fields (reduced-state space)\n",
    "nmodes = 30 # number of coupled EOFs for LIM state space (truncated-state space)\n",
    "#nmodes = 25\n",
    "nmodes_sic = 30\n",
    "#modes_sic = 20\n",
    "\n",
    "mo='all'\n",
    "#mo=1\n",
    "\n",
    "# forecast lead time in months that defines the LIM training\n",
    "tau = 1\n",
    "\n",
    "# training data defined by the first ntrain times\n",
    "# fraction of years used in training\n",
    "# ensures that start year of both train and validation data is january \n",
    "ntrain = 0.6\n",
    "\n",
    "# variables to include in the LIM (note \"vars\" is a Python command)\n",
    "#limvars = ['tas','zg']\n",
    "#limvars = ['tas','rlut','zg']\n",
    "#limvars = ['sic']\n",
    "#limvars = ['tas','sic']\n",
    "#limvars = ['tas','sic','zg','psl','pr','tos']\n",
    "#limvars = ['tas','psl','tos','sit','sic']\n",
    "# limvars = ['tas','tos','psl','sit','sic']\n",
    "# limvars_nosic = ['tas','tos','psl','sit']\n",
    "limvars = ['tas']\n",
    "limvars_nosic = ['tas','tos']\n",
    "nvars = len(limvars)\n",
    "\n",
    "# specify the model source \n",
    "train_dsource = 'mpi_lm_kb'\n",
    "#train_dsource = 'ccsm4_lm_kb'\n",
    "valid_dsource = 'mpi_lm_kb'\n",
    "#valid_dsource = 'ccsm4_lm_kb'\n",
    "\n",
    "sic_separate = False\n",
    "Insamp = True"
   ]
  },
  {
   "cell_type": "code",
   "execution_count": 7,
   "metadata": {},
   "outputs": [],
   "source": [
    "from datetime import date\n",
    "\n",
    "today = date.today()\n",
    "\n",
    "#Year-month-day\n",
    "today_date = today.strftime(\"%Y%m%d\")"
   ]
  },
  {
   "cell_type": "code",
   "execution_count": 8,
   "metadata": {},
   "outputs": [],
   "source": [
    "import warnings\n",
    "warnings.filterwarnings(\"ignore\")"
   ]
  },
  {
   "cell_type": "code",
   "execution_count": 9,
   "metadata": {},
   "outputs": [],
   "source": [
    "pi = np.pi\n",
    "\n",
    "# fill continents if plotting SST; otherwise no\n",
    "# if var_to_extract == 'tos':\n",
    "#     noland = True\n",
    "# else:\n",
    "#     noland = False\n",
    "\n",
    "infile_20cr_tas = '/home/disk/kalman3/rtardif/LMR/data/model/20cr/tas_sfc_Amon_20CR_185101-201112.nc'\n",
    "\n",
    "fdic_train = limkb.build_training_dic(train_dsource)\n",
    "fdic_valid = limkb.build_training_dic(valid_dsource)\n",
    "\n",
    "full_names, areawt_name, month_names = limbuild.load_full_names()\n",
    "areacell, areacell_dict = limbuild.load_areacell_dict(fdic_train, remove_climo=False, \n",
    "                                                      detrend=False, verbose=False )"
   ]
  },
  {
   "cell_type": "code",
   "execution_count": null,
   "metadata": {},
   "outputs": [],
   "source": [
    "def load_training_valid_data_full(limvars, fdic_train, mo, areacell, ntrain, areawt_name, \n",
    "                                  ntrunc,nmodes_sic, sic_separate=False,\n",
    "                                  remove_climo=True, detrend=True, wt=True, verbose=True): \n",
    "\n",
    "    var_dict = {}\n",
    "    v = {}\n",
    "    tot_var = {}\n",
    "    tot_var_eig = {}\n",
    "    W_all = {}\n",
    "    E3 = {}\n",
    "    Ptrunc = {}\n",
    "    Ptrunc_valid = {}\n",
    "    standard_factor = {}\n",
    "\n",
    "    for k, var in enumerate(limvars): \n",
    "\n",
    "        X_var, v = limkb.load_data(var, var_dict, fdic_train, remove_climo=True, \n",
    "                                   detrend=True, verbose=True)\n",
    "        var_dict[var] = v[var]\n",
    "        \n",
    "        if mo is 'all':\n",
    "            X_t = X_var\n",
    "            ntime = X_t.shape[1]\n",
    "            nyears_train = int(ntime*ntrain)\n",
    "            nyears_valid = ntime - nyears_train\n",
    "\n",
    "            X_train = X_t[:,0:nyears_train]\n",
    "            X_train_2d = X_train\n",
    "            X_valid = X_t[:,nyears_train:]\n",
    "        else: \n",
    "            tsamp = X_var.shape[1]\n",
    "            nyears_train = int((tsamp*ntrain)/12)\n",
    "            nyears_valid = int((tsamp*(1-ntrain))/12)\n",
    "\n",
    "            X_t = np.reshape(X_var,(X_var.shape[0],int(tsamp/12),12))\n",
    "\n",
    "            X_train = X_t[:,0:nyears_train,mo:mo+2]\n",
    "            X_train_2d = np.reshape(X_train,(X_train.shape[0],nyears_train*2))\n",
    "            X_valid = X_t[:,nyears_train:,mo]\n",
    "\n",
    "        acell = areacell[areawt_name[var]]\n",
    "        if len(acell.shape)>1:\n",
    "            acell_1d = np.reshape(acell,(acell.shape[0]*acell.shape[1]))\n",
    "        else: \n",
    "            acell_1d = acell\n",
    "            \n",
    "        [Ptrunc[var], E3[var], tot_var[var],\n",
    "         tot_var_eig[var], W_all[var], \n",
    "         standard_factor[var]] = limkb.step1_compress_individual_var(X_train_2d, var, ntrunc, nmodes_sic, \n",
    "                                                                     var_dict, areawt=acell_1d,\n",
    "                                                                     wt=wt, sic_separate=sic_separate)\n",
    "        \n",
    "        Ptrunc_valid[var] = limkb.step1_projection_validation_var(X_valid, E3[var], standard_factor[var], \n",
    "                                                                  W_all[var])\n",
    "\n",
    "        del X_var\n",
    "    \n",
    "    return Ptrunc, Ptrunc_valid, E3, tot_var, tot_var_eig, W_all, standard_factor, nyears_train, var_dict"
   ]
  },
  {
   "cell_type": "markdown",
   "metadata": {},
   "source": [
    "## Build L from scratch: "
   ]
  },
  {
   "cell_type": "code",
   "execution_count": 125,
   "metadata": {},
   "outputs": [
    {
     "name": "stdout",
     "output_type": "stream",
     "text": [
      "fraction in first 400 tas EOFs = 93.61727429083982\n"
     ]
    }
   ],
   "source": [
    "# wt=True\n",
    "# var_dict = {}\n",
    "# v = {}\n",
    "# tot_var = {}\n",
    "# tot_var_eig = {}\n",
    "# W_all = {}\n",
    "# E3 = {}\n",
    "# Ptrunc = {}\n",
    "# Ptrunc_valid = {}\n",
    "# standard_factor = {}\n",
    "\n",
    "# for k, var in enumerate(limvars): \n",
    "\n",
    "#     X_var, v = limkb.load_data(var, var_dict, fdic_train, remove_climo=True, \n",
    "#                                detrend=True, verbose=True)\n",
    "#     var_dict[var] = v[var]\n",
    "\n",
    "#     if mo is 'all':\n",
    "#         X_t = X_var\n",
    "#         ntime = X_t.shape[1]\n",
    "#         nyears_train = int(ntime*ntrain)\n",
    "#         nyears_valid = ntime - nyears_train\n",
    "\n",
    "#         X_train = X_t[:,0:nyears_train]\n",
    "#         X_valid = X_t[:,nyears_train:]\n",
    "        \n",
    "#         print('detrending training data...')\n",
    "#         var_nans_mask = np.where(np.isnan(X_train),np.nan,1)\n",
    "#         Y = np.where(np.isnan(X_train),0,X_train)\n",
    "#         print(Y.shape)\n",
    "#         X = np.arange(0,nyears_train,1)\n",
    "#         [train_dt,_,_] = statskb.multi_linear_detrend(X,Y,axis=1,remove_mn=False)\n",
    "#         X_train_dt = train_dt*var_nans_mask\n",
    "        \n",
    "#         X_train_2d = X_train_dt\n",
    "#     else: \n",
    "#         tsamp = X_var.shape[1]\n",
    "#         nyears_train = int((tsamp*ntrain)/12)\n",
    "#         nyears_valid = int((tsamp*(1-ntrain))/12)\n",
    "\n",
    "#         X_t = np.reshape(X_var,(X_var.shape[0],int(tsamp/12),12))\n",
    "\n",
    "#         X_train = X_t[:,0:nyears_train,mo:mo+2]\n",
    "#         x_train_2d = np.reshape(X_train,(X_train.shape[0],nyears_train*2))\n",
    "#         X_valid = X_t[:,nyears_train:,mo]\n",
    "        \n",
    "#         print('detrending training data...')\n",
    "#         X_train_dt = np.zeros_like(x_train_2d)\n",
    "#         for m in range(2):\n",
    "#             var_nans_mask = np.where(np.isnan(x_train_2d[:,:,m]),np.nan,1)\n",
    "#             Y = np.where(np.isnan(X_train),0,x_train_2d[:,:,m])\n",
    "#             print(Y.shape)\n",
    "#             X = np.arange(0,nyears_train,1)\n",
    "#             [train_dt,_,_] = statskb.multi_linear_detrend(X,Y,axis=1,remove_mn=False)\n",
    "#             X_train_dt[:,:,m] = train_dt*var_nans_mask\n",
    "            \n",
    "#         X_train_2d = X_train_dt    \n",
    "\n",
    "#     acell = areacell[areawt_name[var]]\n",
    "#     if len(acell.shape)>1:\n",
    "#         acell_1d = np.reshape(acell,(acell.shape[0]*acell.shape[1]))\n",
    "#     else: \n",
    "#         acell_1d = acell\n",
    "\n",
    "[Ptrunc[var], E3[var], tot_var[var],\n",
    " tot_var_eig[var], W_all[var], \n",
    " standard_factor[var]] = limkb.step1_compress_individual_var(X_train_2d[:,0:4000], var, ntrunc, nmodes_sic, \n",
    "                                                             var_dict, areawt=acell_1d,\n",
    "                                                             wt=wt, sic_separate=sic_separate)\n",
    "\n",
    "Ptrunc_valid[var] = limkb.step1_projection_validation_var(X_valid, E3[var], standard_factor[var], \n",
    "                                                          W_all[var])"
   ]
  },
  {
   "cell_type": "code",
   "execution_count": 126,
   "metadata": {},
   "outputs": [
    {
     "data": {
      "text/plain": [
       "[<matplotlib.lines.Line2D at 0x7fb020c2dd30>]"
      ]
     },
     "execution_count": 126,
     "metadata": {},
     "output_type": "execute_result"
    },
    {
     "data": {
      "image/png": "[encoded data removed]",
      "text/plain": [
       "<Figure size 432x288 with 1 Axes>"
      ]
     },
     "metadata": {
      "needs_background": "light"
     },
     "output_type": "display_data"
    }
   ],
   "source": [
    "neof = 3\n",
    "plt.plot(Ptrunc['tas'][neof,:])"
   ]
  },
  {
   "cell_type": "code",
   "execution_count": 18,
   "metadata": {},
   "outputs": [],
   "source": [
    "from scipy.stats import linregress\n",
    "\n",
    "slope = np.zeros((18432))\n",
    "slope2 = np.zeros((18432))\n",
    "\n",
    "for i in range(18432):\n",
    "    [slope[i],_] = statskb.calc_linear_fit(np.arange(0,12000,1),X_var[i,:])\n",
    "    [slope2[i],_,_,_,_] = linregress(np.arange(0,12000,1),X_var[i,:])"
   ]
  },
  {
   "cell_type": "code",
   "execution_count": 21,
   "metadata": {},
   "outputs": [
    {
     "data": {
      "text/plain": [
       "[<matplotlib.lines.Line2D at 0x7fb0230fc518>]"
      ]
     },
     "execution_count": 21,
     "metadata": {},
     "output_type": "execute_result"
    },
    {
     "data": {
      "image/png": "[encoded data removed]",
      "text/plain": [
       "<Figure size 432x288 with 1 Axes>"
      ]
     },
     "metadata": {
      "needs_background": "light"
     },
     "output_type": "display_data"
    }
   ],
   "source": [
    "plt.plot(slope)\n",
    "plt.plot(slope2)"
   ]
  },
  {
   "cell_type": "code",
   "execution_count": 33,
   "metadata": {},
   "outputs": [
    {
     "data": {
      "text/plain": [
       "(18432, 7200)"
      ]
     },
     "execution_count": 33,
     "metadata": {},
     "output_type": "execute_result"
    }
   ],
   "source": [
    "X_train_2d.shape"
   ]
  },
  {
   "cell_type": "code",
   "execution_count": 34,
   "metadata": {},
   "outputs": [],
   "source": [
    "slope_train = np.zeros((18432))\n",
    "slope_train2 = np.zeros((18432))\n",
    "\n",
    "for i in range(18432):\n",
    "    [slope_train[i],_] = statskb.calc_linear_fit(np.arange(0,7200,1),X_train_2d[i,:])\n",
    "    [slope_train2[i],_,_,_,_] = linregress(np.arange(0,7200,1),X_train_2d[i,:])"
   ]
  },
  {
   "cell_type": "code",
   "execution_count": 35,
   "metadata": {},
   "outputs": [
    {
     "data": {
      "text/plain": [
       "[<matplotlib.lines.Line2D at 0x7faff6fdef28>]"
      ]
     },
     "execution_count": 35,
     "metadata": {},
     "output_type": "execute_result"
    },
    {
     "data": {
      "image/png": "[encoded data removed]",
      "text/plain": [
       "<Figure size 432x288 with 1 Axes>"
      ]
     },
     "metadata": {
      "needs_background": "light"
     },
     "output_type": "display_data"
    }
   ],
   "source": [
    "plt.plot(slope_train)\n",
    "plt.plot(slope_train2)"
   ]
  },
  {
   "cell_type": "code",
   "execution_count": 50,
   "metadata": {},
   "outputs": [
    {
     "data": {
      "text/plain": [
       "[<matplotlib.lines.Line2D at 0x7fb01bc89048>]"
      ]
     },
     "execution_count": 50,
     "metadata": {},
     "output_type": "execute_result"
    },
    {
     "data": {
      "image/png": "[encoded data removed]",
      "text/plain": [
       "<Figure size 432x288 with 1 Axes>"
      ]
     },
     "metadata": {
      "needs_background": "light"
     },
     "output_type": "display_data"
    }
   ],
   "source": [
    "plt.plot(X_train_2d[1070,:])"
   ]
  },
  {
   "cell_type": "code",
   "execution_count": 54,
   "metadata": {},
   "outputs": [
    {
     "name": "stdout",
     "output_type": "stream",
     "text": [
      "working on tas\n"
     ]
    }
   ],
   "source": [
    "var_dict = limbuild.get_var_incices(limvars, var_dict)"
   ]
  },
  {
   "cell_type": "code",
   "execution_count": null,
   "metadata": {},
   "outputs": [],
   "source": [
    "Ptrun"
   ]
  },
  {
   "cell_type": "code",
   "execution_count": 128,
   "metadata": {},
   "outputs": [
    {
     "name": "stdout",
     "output_type": "stream",
     "text": [
      "Loading truncated tas\n",
      "working on tas\n"
     ]
    }
   ],
   "source": [
    "## Start with full training data: \n",
    "# [Ptrunc, Ptrunc_valid, E3, tot_var, \n",
    "#  tot_var_eig, W_all,standard_factor, nyears_train, \n",
    "#  var_dict] = limbuild.load_training_valid_data_full(limvars, fdic_train, mo, areacell, ntrain, \n",
    "#                                                     areawt_name, ntrunc, nmodes_sic, \n",
    "#                                                     sic_separate=sic_separate,\n",
    "#                                                     remove_climo=True,detrend=True, \n",
    "#                                                     wt=True, verbose=True)\n",
    "\n",
    "## Start with truncated training data: \n",
    "mod_folder = 'truncated_model_data/'\n",
    "mod_filename = '_ANNUAL_ntrunc30_mpi_lm_kb_20210420.pkl'\n",
    "mod_sic_filename = '_ntrunc30_mpi_lm_kb_20210420.pkl'\n",
    "\n",
    "[Ptrunc, Ptrunc_valid, E3, tot_var, \n",
    " tot_var_eig, W_all, standard_factor, \n",
    " nyears_train, var_dict] = limbuild.load_training_data_truncated(limvars, mod_folder, mod_sic_filename, \n",
    "                                                                 mod_filename, mo, ntrain)\n",
    "\n",
    "var_dict = limbuild.get_var_incices(limvars, var_dict)"
   ]
  },
  {
   "cell_type": "code",
   "execution_count": 129,
   "metadata": {},
   "outputs": [
    {
     "data": {
      "text/plain": [
       "(30, 600)"
      ]
     },
     "execution_count": 129,
     "metadata": {},
     "output_type": "execute_result"
    }
   ],
   "source": [
    "Ptrunc['tas'].shape"
   ]
  },
  {
   "cell_type": "code",
   "execution_count": 151,
   "metadata": {},
   "outputs": [
    {
     "data": {
      "text/plain": [
       "[<matplotlib.lines.Line2D at 0x7fb02075d6d8>]"
      ]
     },
     "execution_count": 151,
     "metadata": {},
     "output_type": "execute_result"
    },
    {
     "data": {
      "image/png": "[encoded data removed]",
      "text/plain": [
       "<Figure size 432x288 with 1 Axes>"
      ]
     },
     "metadata": {
      "needs_background": "light"
     },
     "output_type": "display_data"
    }
   ],
   "source": [
    "neof=0\n",
    "plt.plot(Ptrunc['tas'][neof,:])"
   ]
  },
  {
   "cell_type": "code",
   "execution_count": 53,
   "metadata": {},
   "outputs": [
    {
     "name": "stdout",
     "output_type": "stream",
     "text": [
      "18432\n",
      "Fraction in first 30 multivariate EOFs = 61.636672946437926\n",
      "Shape of E: (18432, 30)\n"
     ]
    }
   ],
   "source": [
    "ndof_all = limkb.count_ndof_all(limvars, E3, sic_separate=sic_separate)\n",
    "\n",
    "# [Ptrunc_all, E3_all, \n",
    "# Ptrunc_sic,E_sic] = limkb.stack_variable_eofs(limvars, ndof_all, ntrunc, Ptrunc, E3, \n",
    "#                                               var_dict, sic_separate=sic_separate)\n",
    "\n",
    "# [P_train, Fvar, E] = limkb.step2_multivariate_compress(Ptrunc_all,nmodes, E3_all, Ptrunc_sic, \n",
    "#                                                        sic_separate=sic_separate, Trunc_truth=False)\n",
    "\n",
    "[Ptrunc_all, E3_all] = limkb.stack_variable_eofs(limvars, ndof_all, ntrunc, Ptrunc, E3, \n",
    "                                                 var_dict, sic_separate=sic_separate)\n",
    "\n",
    "[P_train, Fvar, E] = limkb.step2_multivariate_compress(Ptrunc_all,nmodes, E3_all, 0, \n",
    "                                                       sic_separate=sic_separate, Trunc_truth=False)"
   ]
  },
  {
   "cell_type": "code",
   "execution_count": 55,
   "metadata": {},
   "outputs": [
    {
     "name": "stdout",
     "output_type": "stream",
     "text": [
      "18432\n"
     ]
    },
    {
     "ename": "ValueError",
     "evalue": "not enough values to unpack (expected 4, got 2)",
     "output_type": "error",
     "traceback": [
      "\u001b[0;31m---------------------------------------------------------------------------\u001b[0m",
      "\u001b[0;31mValueError\u001b[0m                                Traceback (most recent call last)",
      "\u001b[0;32m<ipython-input-55-6622a5452666>\u001b[0m in \u001b[0;36m<module>\u001b[0;34m()\u001b[0m\n\u001b[1;32m      3\u001b[0m [Ptrunc_all_valid, E3_all_valid,\n\u001b[1;32m      4\u001b[0m  \u001b[0mPtrunc_sic_valid\u001b[0m\u001b[0;34m,\u001b[0m \u001b[0mE_sic_valid\u001b[0m\u001b[0;34m]\u001b[0m \u001b[0;34m=\u001b[0m \u001b[0mlimkb\u001b[0m\u001b[0;34m.\u001b[0m\u001b[0mstack_variable_eofs\u001b[0m\u001b[0;34m(\u001b[0m\u001b[0mlimvars\u001b[0m\u001b[0;34m,\u001b[0m \u001b[0mndof_all_valid\u001b[0m\u001b[0;34m,\u001b[0m \u001b[0mntrunc\u001b[0m\u001b[0;34m,\u001b[0m \u001b[0mPtrunc_valid\u001b[0m\u001b[0;34m,\u001b[0m\u001b[0;34m\u001b[0m\u001b[0m\n\u001b[0;32m----> 5\u001b[0;31m                                                             E3, var_dict, sic_separate=sic_separate)\n\u001b[0m\u001b[1;32m      6\u001b[0m \u001b[0;34m\u001b[0m\u001b[0m\n\u001b[1;32m      7\u001b[0m [P_train_valid, Fvar_valid, \n",
      "\u001b[0;31mValueError\u001b[0m: not enough values to unpack (expected 4, got 2)"
     ]
    }
   ],
   "source": [
    "ndof_all_valid = limkb.count_ndof_all(limvars, E3, sic_separate=sic_separate)\n",
    "\n",
    "[Ptrunc_all_valid, E3_all_valid,\n",
    " Ptrunc_sic_valid, E_sic_valid] = limkb.stack_variable_eofs(limvars, ndof_all_valid, ntrunc, Ptrunc_valid,\n",
    "                                                            E3, var_dict, sic_separate=sic_separate)\n",
    "\n",
    "[P_train_valid, Fvar_valid, \n",
    " E_valid] = limkb.step2_multivariate_compress(Ptrunc_all_valid,nmodes, E3_all_valid, Ptrunc_sic_valid,\n",
    "                                              sic_separate=sic_separate, Trunc_truth=False)"
   ]
  },
  {
   "cell_type": "code",
   "execution_count": 56,
   "metadata": {},
   "outputs": [
    {
     "ename": "SyntaxError",
     "evalue": "invalid syntax (<ipython-input-56-5d9077d807e7>, line 1)",
     "output_type": "error",
     "traceback": [
      "\u001b[0;36m  File \u001b[0;32m\"<ipython-input-56-5d9077d807e7>\"\u001b[0;36m, line \u001b[0;32m1\u001b[0m\n\u001b[0;31m    neof =\u001b[0m\n\u001b[0m           ^\u001b[0m\n\u001b[0;31mSyntaxError\u001b[0m\u001b[0;31m:\u001b[0m invalid syntax\n"
     ]
    }
   ],
   "source": [
    "neof = 0\n",
    "plt.plot(P_train_3d[neof,:,0])\n",
    "plt.plot(P_train_3d[neof,:,1])"
   ]
  },
  {
   "cell_type": "code",
   "execution_count": 127,
   "metadata": {},
   "outputs": [
    {
     "data": {
      "text/plain": [
       "(400, 4000)"
      ]
     },
     "execution_count": 127,
     "metadata": {},
     "output_type": "execute_result"
    }
   ],
   "source": [
    "Ptrunc['tas'].shape"
   ]
  },
  {
   "cell_type": "code",
   "execution_count": 137,
   "metadata": {},
   "outputs": [
    {
     "data": {
      "text/plain": [
       "[<matplotlib.lines.Line2D at 0x7fb020a277f0>]"
      ]
     },
     "execution_count": 137,
     "metadata": {},
     "output_type": "execute_result"
    },
    {
     "data": {
      "image/png": "[encoded data removed]",
      "text/plain": [
       "<Figure size 432x288 with 1 Axes>"
      ]
     },
     "metadata": {
      "needs_background": "light"
     },
     "output_type": "display_data"
    }
   ],
   "source": [
    "neof =0\n",
    "plt.plot(Ptrunc['tas'][neof,:])"
   ]
  },
  {
   "cell_type": "code",
   "execution_count": 143,
   "metadata": {},
   "outputs": [
    {
     "name": "stdout",
     "output_type": "stream",
     "text": [
      "Using all months...\n",
      "Training LIM with tau = 1\n"
     ]
    }
   ],
   "source": [
    "nmo = int(P_train.shape[1]/nyears_train)\n",
    "#P_train_3d = np.reshape(P_train, (P_train.shape[0],nyears_train,nmo))\n",
    "\n",
    "if mo is 'all':\n",
    "    print('Using all months...')\n",
    "    LIMd2, G2 = lim.LIM_train(tau,Ptrunc['tas'])\n",
    "    print('Training LIM with tau = '+str(tau))\n",
    "else: \n",
    "    print('Using months '+str(mo)+' and '+str(mo+1))\n",
    "    LIMd2, G2 = lim.LIM_train_flex(tau,P_train_3d[:,:,0], P_train_3d[:,:,1])\n",
    "    print('Training LIM with tau = '+str(tau))"
   ]
  },
  {
   "cell_type": "code",
   "execution_count": 144,
   "metadata": {},
   "outputs": [
    {
     "data": {
      "text/plain": [
       "((30, 30), (30, 600))"
      ]
     },
     "execution_count": 144,
     "metadata": {},
     "output_type": "execute_result"
    }
   ],
   "source": [
    "G2.shape, Ptrunc['tas'].shape"
   ]
  },
  {
   "cell_type": "code",
   "execution_count": 145,
   "metadata": {},
   "outputs": [
    {
     "data": {
      "text/plain": [
       "<matplotlib.colorbar.Colorbar at 0x7fb020b3b978>"
      ]
     },
     "execution_count": 145,
     "metadata": {},
     "output_type": "execute_result"
    },
    {
     "data": {
      "image/png": "[encoded data removed]",
      "text/plain": [
       "<Figure size 432x288 with 2 Axes>"
      ]
     },
     "metadata": {
      "needs_background": "light"
     },
     "output_type": "display_data"
    }
   ],
   "source": [
    "plt.pcolormesh(G2)\n",
    "plt.colorbar()"
   ]
  },
  {
   "cell_type": "code",
   "execution_count": 146,
   "metadata": {},
   "outputs": [
    {
     "data": {
      "text/plain": [
       "(30, 30)"
      ]
     },
     "execution_count": 146,
     "metadata": {},
     "output_type": "execute_result"
    }
   ],
   "source": [
    "G2.shape"
   ]
  },
  {
   "cell_type": "code",
   "execution_count": 166,
   "metadata": {},
   "outputs": [
    {
     "data": {
      "text/plain": [
       "array([ 0.8974005 +0.j        ,  0.26124549+0.42262452j,\n",
       "        0.26124549-0.42262452j,  0.72322626+0.j        ,\n",
       "        0.17823551+0.35354689j,  0.17823551-0.35354689j,\n",
       "        0.61646755+0.j        ,  0.53620637+0.14917171j,\n",
       "        0.53620637-0.14917171j,  0.53854578+0.01164876j,\n",
       "        0.53854578-0.01164876j,  0.29996543+0.19328875j,\n",
       "        0.29996543-0.19328875j, -0.03289145+0.09066106j,\n",
       "       -0.03289145-0.09066106j, -0.03812812+0.j        ,\n",
       "        0.35928571+0.j        ,  0.07170651+0.14638688j,\n",
       "        0.07170651-0.14638688j,  0.13123787+0.14464649j,\n",
       "        0.13123787-0.14464649j,  0.28095952+0.10664788j,\n",
       "        0.28095952-0.10664788j,  0.04358194+0.j        ,\n",
       "        0.08444114+0.04364159j,  0.08444114-0.04364159j,\n",
       "        0.28425808+0.j        ,  0.19802761+0.06098995j,\n",
       "        0.19802761-0.06098995j,  0.20065726+0.j        ])"
      ]
     },
     "execution_count": 166,
     "metadata": {},
     "output_type": "execute_result"
    }
   ],
   "source": [
    "LIMd2['val']"
   ]
  },
  {
   "cell_type": "code",
   "execution_count": 159,
   "metadata": {},
   "outputs": [],
   "source": [
    "nt = Ptrunc['tas'].shape[1]\n",
    "C_0 = np.matmul(Ptrunc['tas'],Ptrunc['tas'].T)/(nt-1)\n",
    "C_1 = np.matmul(Ptrunc['tas'][:,tau:],Ptrunc['tas'][:,:-tau].T)/(nt-1)"
   ]
  },
  {
   "cell_type": "code",
   "execution_count": 165,
   "metadata": {},
   "outputs": [
    {
     "data": {
      "text/plain": [
       "array([1., 1., 1., 1., 1., 1., 1., 1., 1., 1., 1., 1., 1., 1., 1., 1., 1.,\n",
       "       1., 1., 1., 1., 1., 1., 1., 1., 1., 1., 1., 1., 1.])"
      ]
     },
     "execution_count": 165,
     "metadata": {},
     "output_type": "execute_result"
    }
   ],
   "source": [
    "np.diag(np.matmul(np.linalg.inv(C_0), C_0))"
   ]
  },
  {
   "cell_type": "code",
   "execution_count": 168,
   "metadata": {},
   "outputs": [],
   "source": [
    "G = np.matmul(C_1, np.linalg.inv(C_0))\n",
    "val,vec = np.linalg.eig(G)"
   ]
  },
  {
   "cell_type": "code",
   "execution_count": 169,
   "metadata": {},
   "outputs": [
    {
     "data": {
      "text/plain": [
       "array([ 0.8974005 +0.j        ,  0.26124549+0.42262452j,\n",
       "        0.26124549-0.42262452j,  0.72322626+0.j        ,\n",
       "        0.17823551+0.35354689j,  0.17823551-0.35354689j,\n",
       "        0.61646755+0.j        ,  0.53620637+0.14917171j,\n",
       "        0.53620637-0.14917171j,  0.53854578+0.01164876j,\n",
       "        0.53854578-0.01164876j,  0.29996543+0.19328875j,\n",
       "        0.29996543-0.19328875j, -0.03289145+0.09066106j,\n",
       "       -0.03289145-0.09066106j, -0.03812812+0.j        ,\n",
       "        0.35928571+0.j        ,  0.07170651+0.14638688j,\n",
       "        0.07170651-0.14638688j,  0.13123787+0.14464649j,\n",
       "        0.13123787-0.14464649j,  0.28095952+0.10664788j,\n",
       "        0.28095952-0.10664788j,  0.04358194+0.j        ,\n",
       "        0.08444114+0.04364159j,  0.08444114-0.04364159j,\n",
       "        0.28425808+0.j        ,  0.19802761+0.06098995j,\n",
       "        0.19802761-0.06098995j,  0.20065726+0.j        ])"
      ]
     },
     "execution_count": 169,
     "metadata": {},
     "output_type": "execute_result"
    }
   ],
   "source": [
    "val"
   ]
  },
  {
   "cell_type": "code",
   "execution_count": 170,
   "metadata": {},
   "outputs": [
    {
     "data": {
      "text/plain": [
       "array([-0.10825302+0.j        , -0.69946555+1.01713777j,\n",
       "       -0.69946555-1.01713777j, -0.32403315+0.j        ,\n",
       "       -0.92650911+1.10384585j, -0.92650911-1.10384585j,\n",
       "       -0.48374959+0.j        , -0.58596345+0.27133723j,\n",
       "       -0.58596345-0.27133723j, -0.61864889+0.02162666j,\n",
       "       -0.61864889-0.02162666j, -1.03044807+0.57240727j,\n",
       "       -1.03044807-0.57240727j, -2.33880192+1.9188247j ,\n",
       "       -2.33880192-1.9188247j , -3.26680331+3.14159265j,\n",
       "       -1.02363736+0.j        , -1.81396851+1.11530772j,\n",
       "       -1.81396851-1.11530772j, -1.63316737+0.83396228j,\n",
       "       -1.63316737-0.83396228j, -1.20224235+0.36278389j,\n",
       "       -1.20224235-0.36278389j, -3.13311241+0.j        ,\n",
       "       -2.35333048+0.4770196j , -2.35333048-0.4770196j ,\n",
       "       -1.25787273+0.j        , -1.57403738+0.29876822j,\n",
       "       -1.57403738-0.29876822j, -1.60615701+0.j        ])"
      ]
     },
     "execution_count": 170,
     "metadata": {},
     "output_type": "execute_result"
    }
   ],
   "source": [
    "lam_L = np.log(val)/tau\n",
    "lam_L"
   ]
  },
  {
   "cell_type": "markdown",
   "metadata": {},
   "source": [
    "## Run Forecast: "
   ]
  },
  {
   "cell_type": "code",
   "execution_count": 75,
   "metadata": {},
   "outputs": [
    {
     "name": "stdout",
     "output_type": "stream",
     "text": [
      "t= 0\n",
      "t= 1\n",
      "t= 2\n",
      "t= 3\n",
      "t= 4\n",
      "t= 5\n",
      "t= 6\n",
      "t= 7\n",
      "t= 8\n",
      "t= 9\n",
      "t= 10\n",
      "t= 11\n"
     ]
    }
   ],
   "source": [
    "# LIM forecasts for a range of monthly values (can specify a list of arbitrary values too)\n",
    "lags = [0,1,2,3,4,5,6,7,8,9,10,11]\n",
    "#lags = [0,1,2,3]\n",
    "ntims = len(lags)\n",
    "\n",
    "if mo == 'all':\n",
    "    if Insamp==True: \n",
    "        LIM_fcast = limkb.LIM_forecast_Gt(LIMd2,P_train[:,0:nyears_train],lags)\n",
    "    else: \n",
    "        LIM_fcast = limkb.LIM_forecast_Gt(LIMd2,P_train_valid,lags)\n",
    "else: \n",
    "    if Insamp==True: \n",
    "        P_train_2d = np.reshape(P_train, (P_train.shape[0],int(P_train.shape[1]/2),2))\n",
    "        LIM_fcast = limkb.LIM_forecast_Gt(LIMd2,P_train_2d[:,:,0],lags)\n",
    "    else: \n",
    "        LIM_fcast = limkb.LIM_forecast_Gt(LIMd2,P_train_valid,lags)\n",
    "    \n",
    "#LIM_fcast = LIM_forecast_Gt(LIMd2,P_train_valid,lags)"
   ]
  },
  {
   "cell_type": "code",
   "execution_count": 76,
   "metadata": {},
   "outputs": [
    {
     "data": {
      "text/plain": [
       "(80, 1200)"
      ]
     },
     "execution_count": 76,
     "metadata": {},
     "output_type": "execute_result"
    }
   ],
   "source": [
    "P_train.shape"
   ]
  },
  {
   "cell_type": "code",
   "execution_count": 60,
   "metadata": {},
   "outputs": [
    {
     "data": {
      "text/plain": [
       "(80, 80)"
      ]
     },
     "execution_count": 60,
     "metadata": {},
     "output_type": "execute_result"
    }
   ],
   "source": [
    "LIMd2['Gt'].shape"
   ]
  },
  {
   "cell_type": "code",
   "execution_count": 37,
   "metadata": {},
   "outputs": [
    {
     "data": {
      "text/plain": [
       "[<matplotlib.lines.Line2D at 0x7f685c689a20>]"
      ]
     },
     "execution_count": 37,
     "metadata": {},
     "output_type": "execute_result"
    },
    {
     "data": {
      "image/png": "[encoded data removed]",
      "text/plain": [
       "<Figure size 432x288 with 1 Axes>"
      ]
     },
     "metadata": {
      "needs_background": "light"
     },
     "output_type": "display_data"
    }
   ],
   "source": [
    "plt.plot(P_train_3d[0,:,0])\n",
    "plt.plot(P_train_3d[0,:,1])"
   ]
  },
  {
   "cell_type": "code",
   "execution_count": 64,
   "metadata": {},
   "outputs": [
    {
     "data": {
      "text/plain": [
       "(80,)"
      ]
     },
     "execution_count": 64,
     "metadata": {},
     "output_type": "execute_result"
    }
   ],
   "source": [
    "LIMd2['val'].shape"
   ]
  },
  {
   "cell_type": "code",
   "execution_count": 63,
   "metadata": {},
   "outputs": [
    {
     "data": {
      "text/plain": [
       "array([ 1.55616476+0.418015j  ,  1.55616476-0.418015j  ,\n",
       "        1.30543633+0.j        , -0.02420255+0.04304071j,\n",
       "       -0.02420255-0.04304071j,  0.01984478+0.05715776j,\n",
       "        0.01984478-0.05715776j,  0.07094526+0.18078936j,\n",
       "        0.07094526-0.18078936j,  0.40640662+0.43927785j,\n",
       "        0.40640662-0.43927785j,  0.30148503+0.38389938j,\n",
       "        0.30148503-0.38389938j,  1.10462766+0.02983589j,\n",
       "        1.10462766-0.02983589j,  0.09573102+0.j        ,\n",
       "        0.95173147+0.23109305j,  0.95173147-0.23109305j,\n",
       "        0.12812785+0.02974782j,  0.12812785-0.02974782j,\n",
       "        0.55928788+0.41345567j,  0.55928788-0.41345567j,\n",
       "        0.18186836+0.20038016j,  0.18186836-0.20038016j,\n",
       "        0.19614504+0.19830596j,  0.19614504-0.19830596j,\n",
       "        0.69892572+0.40241308j,  0.69892572-0.40241308j,\n",
       "        1.00831279+0.j        ,  0.90313933+0.26942869j,\n",
       "        0.90313933-0.26942869j,  0.76925319+0.34550288j,\n",
       "        0.76925319-0.34550288j,  0.23675712+0.14393115j,\n",
       "        0.23675712-0.14393115j,  0.8915765 +0.18216832j,\n",
       "        0.8915765 -0.18216832j,  0.26903033+0.j        ,\n",
       "        0.99214724+0.j        ,  0.95491024+0.08694053j,\n",
       "        0.95491024-0.08694053j,  0.97163136+0.02832644j,\n",
       "        0.97163136-0.02832644j,  0.45615238+0.27442751j,\n",
       "        0.45615238-0.27442751j,  0.88027034+0.15947067j,\n",
       "        0.88027034-0.15947067j,  0.71020771+0.2332891j ,\n",
       "        0.71020771-0.2332891j ,  0.88248075+0.03889865j,\n",
       "        0.88248075-0.03889865j,  0.32979724+0.j        ,\n",
       "        0.39063028+0.13560063j,  0.39063028-0.13560063j,\n",
       "        0.76042836+0.12337387j,  0.76042836-0.12337387j,\n",
       "        0.85615477+0.j        ,  0.60246269+0.22453046j,\n",
       "        0.60246269-0.22453046j,  0.8172006 +0.05014265j,\n",
       "        0.8172006 -0.05014265j,  0.45609559+0.14517033j,\n",
       "        0.45609559-0.14517033j,  0.72082228+0.16036921j,\n",
       "        0.72082228-0.16036921j,  0.3965049 +0.07118805j,\n",
       "        0.3965049 -0.07118805j,  0.63301985+0.19283396j,\n",
       "        0.63301985-0.19283396j,  0.57291337+0.17011687j,\n",
       "        0.57291337-0.17011687j,  0.72918215+0.j        ,\n",
       "        0.59282778+0.07475973j,  0.59282778-0.07475973j,\n",
       "        0.61661475+0.04628929j,  0.61661475-0.04628929j,\n",
       "        0.45589751+0.j        ,  0.69248085+0.01659187j,\n",
       "        0.69248085-0.01659187j,  0.52171248+0.j        ])"
      ]
     },
     "execution_count": 63,
     "metadata": {},
     "output_type": "execute_result"
    }
   ],
   "source": [
    "LIMd2['val']"
   ]
  },
  {
   "cell_type": "markdown",
   "metadata": {},
   "source": [
    "## Decompress forecast and validate:"
   ]
  },
  {
   "cell_type": "code",
   "execution_count": 171,
   "metadata": {},
   "outputs": [
    {
     "ename": "NameError",
     "evalue": "name 'lags' is not defined",
     "output_type": "error",
     "traceback": [
      "\u001b[0;31m---------------------------------------------------------------------------\u001b[0m",
      "\u001b[0;31mNameError\u001b[0m                                 Traceback (most recent call last)",
      "\u001b[0;32m<ipython-input-171-7ac8e7bbbb0e>\u001b[0m in \u001b[0;36m<module>\u001b[0;34m()\u001b[0m\n\u001b[0;32m----> 1\u001b[0;31m \u001b[0mx_forecast_dcomp\u001b[0m \u001b[0;34m=\u001b[0m \u001b[0mnp\u001b[0m\u001b[0;34m.\u001b[0m\u001b[0mzeros\u001b[0m\u001b[0;34m(\u001b[0m\u001b[0;34m(\u001b[0m\u001b[0mlen\u001b[0m\u001b[0;34m(\u001b[0m\u001b[0mlags\u001b[0m\u001b[0;34m)\u001b[0m\u001b[0;34m,\u001b[0m\u001b[0mE\u001b[0m\u001b[0;34m.\u001b[0m\u001b[0mshape\u001b[0m\u001b[0;34m[\u001b[0m\u001b[0;36m0\u001b[0m\u001b[0;34m]\u001b[0m\u001b[0;34m+\u001b[0m\u001b[0mE_sic\u001b[0m\u001b[0;34m.\u001b[0m\u001b[0mshape\u001b[0m\u001b[0;34m[\u001b[0m\u001b[0;36m0\u001b[0m\u001b[0;34m]\u001b[0m\u001b[0;34m,\u001b[0m\u001b[0mLIM_fcast\u001b[0m\u001b[0;34m[\u001b[0m\u001b[0;34m'x_forecast'\u001b[0m\u001b[0;34m]\u001b[0m\u001b[0;34m.\u001b[0m\u001b[0mshape\u001b[0m\u001b[0;34m[\u001b[0m\u001b[0;36m2\u001b[0m\u001b[0;34m]\u001b[0m\u001b[0;34m)\u001b[0m\u001b[0;34m)\u001b[0m\u001b[0;34m\u001b[0m\u001b[0m\n\u001b[0m\u001b[1;32m      2\u001b[0m \u001b[0;34m\u001b[0m\u001b[0m\n\u001b[1;32m      3\u001b[0m \u001b[0;32mfor\u001b[0m \u001b[0mi\u001b[0m\u001b[0;34m,\u001b[0m\u001b[0mlag\u001b[0m \u001b[0;32min\u001b[0m \u001b[0menumerate\u001b[0m\u001b[0;34m(\u001b[0m\u001b[0mlags\u001b[0m\u001b[0;34m)\u001b[0m\u001b[0;34m:\u001b[0m\u001b[0;34m\u001b[0m\u001b[0m\n\u001b[1;32m      4\u001b[0m     \u001b[0mprint\u001b[0m\u001b[0;34m(\u001b[0m\u001b[0;34m'Lag '\u001b[0m\u001b[0;34m+\u001b[0m \u001b[0mstr\u001b[0m\u001b[0;34m(\u001b[0m\u001b[0mlag\u001b[0m\u001b[0;34m)\u001b[0m\u001b[0;34m)\u001b[0m\u001b[0;34m\u001b[0m\u001b[0m\n\u001b[1;32m      5\u001b[0m     x_forecast_dcomp[i,:,:] = limkb.decompress_eof_separate_sic(LIM_fcast['x_forecast'][i,:,:],\n",
      "\u001b[0;31mNameError\u001b[0m: name 'lags' is not defined"
     ]
    }
   ],
   "source": [
    "x_forecast_dcomp = np.zeros((len(lags),E.shape[0]+E_sic.shape[0],LIM_fcast['x_forecast'].shape[2]))\n",
    "\n",
    "for i,lag in enumerate(lags):\n",
    "    print('Lag '+ str(lag))\n",
    "    x_forecast_dcomp[i,:,:] = limkb.decompress_eof_separate_sic(LIM_fcast['x_forecast'][i,:,:],\n",
    "                                                                nmodes,nmodes_sic,E,\n",
    "                                                                E_sic,limvars,var_dict,\n",
    "                                                                W_all,Weights=True,\n",
    "                                                                sic_separate=sic_separate)"
   ]
  },
  {
   "cell_type": "code",
   "execution_count": null,
   "metadata": {},
   "outputs": [],
   "source": [
    "gm_tas = np.zeros((12,600))\n",
    "\n",
    "for l in lags:\n",
    "    gm_tas[l,:] = statskb.global_mean(x_forecast_dcomp[l,var_dict['tas']['var_inds'],:],areacell[areawt_name['tas']])"
   ]
  },
  {
   "cell_type": "code",
   "execution_count": null,
   "metadata": {},
   "outputs": [],
   "source": [
    "plt.plot(gm_tas[11,:])\n",
    "plt.plot(gm_tas[1,:])\n",
    "plt.plot(gm_tas[0,:])"
   ]
  },
  {
   "cell_type": "code",
   "execution_count": null,
   "metadata": {},
   "outputs": [],
   "source": [
    "lags_test = [0,1, 2, 3, 4, 5, 6, 7, 8, 9, 10, 11]\n",
    "validvars = ['tas']\n",
    "v = {}\n",
    "validation_stats_test = {}\n",
    "\n",
    "for k, var in enumerate(validvars):\n",
    "    X_var, _ = limkb.load_data(var, v, fdic_train, remove_climo=True, detrend=True, verbose=True)\n",
    "    \n",
    "    corr_tot = np.zeros((len(lags)))\n",
    "    ce_tot = np.zeros((len(lags)))\n",
    "    gm_var_ratio = np.zeros((len(lags)))\n",
    "    valid_stats_test = {}\n",
    "\n",
    "    for i,lag in enumerate(lags_test):\n",
    "        print('Lag '+str(lag))\n",
    "        [truth_anom, forecast_anom] = limbuild.gather_truth_forecast(lag,var,mo,X_var,x_forecast_dcomp,\n",
    "                                                                     var_dict,ntrain,insamp=Insamp)\n",
    "        print('Truth_anom shape: '+str(truth_anom.shape))\n",
    "        print('Forecast_anom shape: '+str(forecast_anom.shape))\n",
    "        \n",
    "        if lag == 0: \n",
    "            truth_error_var = np.nanvar(truth_anom,axis=1,ddof=1)\n",
    "#            truth_error_var = np.where(truth_var<1,0,truth_var)\n",
    "#            gm_truth_var = statskb.global_mean(truth_error_var,areacell[areawt_name[var]])           \n",
    "        \n",
    "        error_var = np.nanvar(truth_anom-forecast_anom,axis=1,ddof=1)\n",
    "        ratio = error_var/truth_error_var\n",
    "        \n",
    "        area_shape = areacell[areawt_name[var]].shape\n",
    "        gm_var_ratio[i] = statskb.global_mean(ratio[np.isfinite(ratio)],\n",
    "                                              np.reshape(areacell[areawt_name[var]],(area_shape[0]*area_shape[1]))[np.isfinite(ratio)])\n",
    "\n",
    "#         truth_error_var = np.nanvar(truth_anom,axis=1,ddof=1)\n",
    "#         error_var = np.nanvar(truth_anom-forecast_anom,axis=1,ddof=1)\n",
    "        \n",
    "#         area_shape = areacell[areawt_name[var]].shape\n",
    "#         gm_truth_var = statskb.global_mean(truth_error_var[truth_error_var>0],\n",
    "#                                            np.reshape(areacell[areawt_name[var]],(area_shape[0]*area_shape[1]))[truth_error_var>0])\n",
    "#         gm_error_var = statskb.global_mean(error_var[truth_error_var>0],\n",
    "#                                            np.reshape(areacell[areawt_name[var]],(area_shape[0]*area_shape[1]))[truth_error_var>0])\n",
    "\n",
    "#         gm_var_ratio[i]=gm_error_var/gm_truth_var\n",
    "#         print(gm_error_var)\n",
    "#         print(gm_truth_var)\n",
    "        \n",
    "    valid_stats_test['gm_var_ratio'] = gm_var_ratio\n",
    "    validation_stats_test[var] = valid_stats_test"
   ]
  },
  {
   "cell_type": "code",
   "execution_count": null,
   "metadata": {},
   "outputs": [],
   "source": [
    "np.reshape(areacell[areawt_name[var]],(area_shape[0]*area_shape[1])).shape"
   ]
  },
  {
   "cell_type": "code",
   "execution_count": null,
   "metadata": {},
   "outputs": [],
   "source": [
    "testing = x_forecast_dcomp[lag,var_dict[var]['var_inds'],:]"
   ]
  },
  {
   "cell_type": "code",
   "execution_count": null,
   "metadata": {},
   "outputs": [],
   "source": [
    "plt.plot(error_var)\n",
    "plt.plot(truth_error_var)\n",
    "#plt.xlim(24800,24850)"
   ]
  },
  {
   "cell_type": "code",
   "execution_count": null,
   "metadata": {},
   "outputs": [],
   "source": [
    "#plt.pcolormesh(np.reshape(testing[:,yr], (220,256)))\n",
    "plt.pcolormesh(np.reshape(error_var, (96,192)))\n",
    "plt.colorbar()"
   ]
  },
  {
   "cell_type": "code",
   "execution_count": null,
   "metadata": {},
   "outputs": [],
   "source": [
    "#plt.pcolormesh(np.reshape(testing[:,yr], (220,256)))\n",
    "plt.pcolormesh(np.reshape(truth_error_var, (96,192)))\n",
    "plt.colorbar()"
   ]
  },
  {
   "cell_type": "code",
   "execution_count": null,
   "metadata": {},
   "outputs": [],
   "source": [
    "plt.plot(truth_anom[24820,:])\n",
    "#plt.plot(testing[24820,:])\n",
    "plt.plot(forecast_anom[24820,:])\n",
    "plt.xlim(0,10)"
   ]
  },
  {
   "cell_type": "code",
   "execution_count": null,
   "metadata": {},
   "outputs": [],
   "source": [
    "yr =400\n",
    "#plt.pcolormesh(np.reshape(testing[:,yr], (220,256)))\n",
    "plt.pcolormesh(np.reshape(forecast_anom[:,yr], (96,192)))\n",
    "plt.colorbar()"
   ]
  },
  {
   "cell_type": "code",
   "execution_count": null,
   "metadata": {},
   "outputs": [],
   "source": [
    "# forecast_anom_c = np.where(forecast_anom>100,100,forecast_anom)\n",
    "# forecast_anom_cut = np.where(forecast_anom<-100,-100,forecast_anom_c)\n",
    "plt.pcolormesh(np.reshape(forecast_anom_cut[:,yr], (96,192)))\n",
    "plt.colorbar()"
   ]
  },
  {
   "cell_type": "code",
   "execution_count": null,
   "metadata": {},
   "outputs": [],
   "source": [
    "yr =0\n",
    "#plt.pcolormesh(np.reshape(testing[:,yr], (220,256)))\n",
    "plt.pcolormesh(np.reshape(truth_anom[:,yr], (220,256)))\n",
    "plt.colorbar()"
   ]
  },
  {
   "cell_type": "code",
   "execution_count": null,
   "metadata": {},
   "outputs": [],
   "source": [
    "fig,axs = plt.subplots(2,2,figsize=(15,9))\n",
    "#fig,axs= plt.subplots(2, 2)\n",
    "\n",
    "ax = axs.flatten()\n",
    "\n",
    "for i,var in enumerate(limvars):\n",
    "    ax[i].plot(validation_stats_test[var]['gm_var_ratio'])\n",
    "\n",
    "#    ax[i].set_ylim(0,1)\n",
    "    ax[i].set_xlim(0,11)\n",
    "    ax[i].set_xticks([0,1,2,3,4,5,6,7,8,9,10,11])\n",
    "    ax[i].grid(axis='both')\n",
    "    ax[i].set_ylabel('GM ratio: \\nerror variance to true variance (1 lag only)', fontsize=14)\n",
    "    ax[i].set_title(var, fontsize=16)\n",
    "if mo == 'all':\n",
    "    plt.suptitle('All months', fontsize=16)\n",
    "else: \n",
    "    plt.suptitle(month_names[mo], fontsize=16)\n",
    "    \n",
    "ax[2].set_xlabel('lead time (months)', fontsize=14)\n",
    "ax[3].set_xlabel('lead time (months)', fontsize=14)"
   ]
  },
  {
   "cell_type": "code",
   "execution_count": null,
   "metadata": {},
   "outputs": [],
   "source": [
    "validation_stats_test[var]['gm_var_ratio']"
   ]
  },
  {
   "cell_type": "code",
   "execution_count": null,
   "metadata": {},
   "outputs": [],
   "source": [
    "latvals = np.reshape(var_dict['sic']['lat'],var_dict['sic']['lat'].shape[0]*var_dict['sic']['lat'].shape[1])\n",
    "latvals.shape"
   ]
  },
  {
   "cell_type": "code",
   "execution_count": null,
   "metadata": {},
   "outputs": [],
   "source": [
    "plt.plot(truth_var)\n",
    "plt.plot(truth_error_var)"
   ]
  },
  {
   "cell_type": "code",
   "execution_count": null,
   "metadata": {},
   "outputs": [],
   "source": [
    "truth_error_var[24588], error_var[24588], error_var[24588]/truth_error_var[24588]"
   ]
  },
  {
   "cell_type": "code",
   "execution_count": null,
   "metadata": {},
   "outputs": [],
   "source": [
    "plt.plot(truth_anom[24588,:])\n",
    "plt.plot(forecast_anom[24588,:])"
   ]
  },
  {
   "cell_type": "code",
   "execution_count": null,
   "metadata": {},
   "outputs": [],
   "source": [
    "plt.plot(truth_anom[6270,:])\n",
    "plt.plot(forecast_anom[6270,:])"
   ]
  },
  {
   "cell_type": "code",
   "execution_count": null,
   "metadata": {},
   "outputs": [],
   "source": []
  },
  {
   "cell_type": "code",
   "execution_count": null,
   "metadata": {},
   "outputs": [],
   "source": []
  },
  {
   "cell_type": "code",
   "execution_count": null,
   "metadata": {},
   "outputs": [],
   "source": [
    "plt.plot(error_var)\n",
    "plt.plot(truth_error_var)"
   ]
  },
  {
   "cell_type": "markdown",
   "metadata": {},
   "source": [
    "#### Validate all variables: "
   ]
  },
  {
   "cell_type": "code",
   "execution_count": null,
   "metadata": {
    "scrolled": true
   },
   "outputs": [],
   "source": [
    "validvars = ['tas','tos','sic']\n",
    "v = {}\n",
    "validation_stats = {}\n",
    "\n",
    "for k, var in enumerate(validvars):\n",
    "    X_var, _ = limkb.load_data(var, v, fdic_train, remove_climo=True, detrend=True, verbose=True)\n",
    "    \n",
    "    corr_tot = np.zeros((len(lags)))\n",
    "    ce_tot = np.zeros((len(lags)))\n",
    "    gm_var_ratio = np.zeros((len(lags)))\n",
    "    valid_stats = {}\n",
    "\n",
    "    for i,lag in enumerate(lags):\n",
    "        print('Lag '+str(lag))\n",
    "        [truth_anom, forecast_anom] = limbuild.gather_truth_forecast(lag,var,mo,X_var,x_forecast_dcomp,\n",
    "                                                                     var_dict,ntrain,insamp=Insamp)\n",
    "        print('Truth_anom shape: '+str(truth_anom.shape))\n",
    "        print('Forecast_anom shape: '+str(forecast_anom.shape))\n",
    "\n",
    "        [corr_tot[i], ce_tot[i], gm_var_ratio[i], tot_var_forecast, \n",
    "         tot_var_truth] = limbuild.calc_validataion_stats(var, truth_anom, forecast_anom, var_dict,\n",
    "                                                             areacell,areacell_dict,\n",
    "                                                             areawt_name,month_names,iplot=True)\n",
    "        \n",
    "    valid_stats['corr_tot'] = corr_tot\n",
    "    valid_stats['ce_tot'] = ce_tot\n",
    "    valid_stats['gm_var_ratio'] = gm_var_ratio\n",
    "    \n",
    "    validation_stats[var] = valid_stats\n",
    "    \n",
    "valid_stats_allmo[mo] = validation_stats"
   ]
  },
  {
   "cell_type": "markdown",
   "metadata": {},
   "source": [
    "#### Validate SIC: "
   ]
  },
  {
   "cell_type": "code",
   "execution_count": null,
   "metadata": {},
   "outputs": [],
   "source": [
    "# validvars = ['sic']\n",
    "# v = {}\n",
    "# validation_stats = {}\n",
    "\n",
    "# for k, var in enumerate(validvars):\n",
    "#     X_var, _ = limkb.load_data(var, v, fdic_train, remove_climo=True, detrend=True, verbose=True)\n",
    "    \n",
    "#     corr_tot = np.zeros((len(lags)))\n",
    "#     ce_tot = np.zeros((len(lags)))\n",
    "#     gm_var_ratio = np.zeros((len(lags)))\n",
    "#     valid_stats = {}\n",
    "\n",
    "#     for i,lag in enumerate(lags):\n",
    "#         print('Lag '+str(lag))\n",
    "#         [truth_anom, forecast_anom] = limbuild.gather_truth_forecast(lag,var,mo,X_var,x_forecast_dcomp,\n",
    "#                                                                      var_dict,ntrain,insamp=Insamp)\n",
    "#         print(truth_anom.shape)\n",
    "#         print(forecast_anom.shape)\n",
    "\n",
    "#         [corr_tot[i], ce_tot[i], gm_var_ratio[i], tot_nh_sic_forecast, \n",
    "#          tot_nh_sic_truth] = limbuild.calc_validataion_stats(var, truth_anom, forecast_anom, var_dict,\n",
    "#                                                              areacell,areacell_dict,\n",
    "#                                                              areawt_name,month_names,iplot=True)\n",
    "        \n",
    "#     valid_stats['corr_tot'] = corr_tot\n",
    "#     valid_stats['ce_tot'] = ce_tot\n",
    "#     valid_stats['gm_var_ratio'] = gm_var_ratio\n",
    "    \n",
    "#     validation_stats[var] = valid_stats\n",
    "    \n",
    "# valid_stats_allmo[mo] = validation_stats"
   ]
  },
  {
   "cell_type": "code",
   "execution_count": null,
   "metadata": {},
   "outputs": [],
   "source": [
    "# valid_stats['corr_tot'] = corr_tot\n",
    "# valid_stats['ce_tot'] = ce_tot\n",
    "# valid_stats['gm_var_ratio'] = gm_var_ratio\n",
    "\n",
    "# validation_stats[var] = valid_stats\n",
    "\n",
    "# valid_stats_allmo[mo] = validation_stats"
   ]
  },
  {
   "cell_type": "markdown",
   "metadata": {},
   "source": [
    "### All limvar plots: "
   ]
  },
  {
   "cell_type": "code",
   "execution_count": null,
   "metadata": {},
   "outputs": [],
   "source": [
    "fig,axs = plt.subplots(2,2,figsize=(15,9))\n",
    "#fig,axs= plt.subplots(2, 2)\n",
    "\n",
    "ax = axs.flatten()\n",
    "\n",
    "for i,var in enumerate(limvars):\n",
    "    ax[i].plot(validation_stats[var]['corr_tot']**2, label='Correlation')\n",
    "    ax[i].plot(validation_stats[var]['ce_tot'],label='CE')\n",
    "\n",
    "    ax[i].set_ylim(0,1)\n",
    "    ax[i].set_xlim(0,11)\n",
    "    ax[i].set_xticks([0,1,2,3,4,5,6,7,8,9,10,11])\n",
    "    ax[i].grid(axis='both')\n",
    "    ax[i].set_title(var, fontsize=14)\n",
    "if mo == 'all':\n",
    "    plt.suptitle('All months', fontsize=16)\n",
    "else: \n",
    "    plt.suptitle(month_names[mo], fontsize=16)\n",
    "ax[0].legend(loc='upper right')\n",
    "ax[2].set_xlabel('lead time (months)', fontsize=14)\n",
    "ax[3].set_xlabel('lead time (months)', fontsize=14)"
   ]
  },
  {
   "cell_type": "code",
   "execution_count": null,
   "metadata": {},
   "outputs": [],
   "source": [
    "fig,axs = plt.subplots(2,2,figsize=(15,9))\n",
    "#fig,axs= plt.subplots(2, 2)\n",
    "\n",
    "ax = axs.flatten()\n",
    "\n",
    "for i,var in enumerate(limvars):\n",
    "    ax[i].plot(validation_stats[var]['gm_var_ratio'])\n",
    "\n",
    "#    ax[i].set_ylim(0,1)\n",
    "    ax[i].set_xlim(0,11)\n",
    "    ax[i].set_xticks([0,1,2,3,4,5,6,7,8,9,10,11])\n",
    "    ax[i].grid(axis='both')\n",
    "    ax[i].set_ylabel('GM ratio: \\nerror variance to true variance', fontsize=14)\n",
    "    ax[i].set_title(var, fontsize=16)\n",
    "if mo == 'all':\n",
    "    plt.suptitle('All months', fontsize=16)\n",
    "else: \n",
    "    plt.suptitle(month_names[mo], fontsize=16)\n",
    "    \n",
    "ax[2].set_xlabel('lead time (months)', fontsize=14)\n",
    "ax[3].set_xlabel('lead time (months)', fontsize=14)"
   ]
  },
  {
   "cell_type": "code",
   "execution_count": null,
   "metadata": {},
   "outputs": [],
   "source": [
    "fig,axs = plt.subplots(2,2,figsize=(15,9))\n",
    "#fig,axs= plt.subplots(2, 2)\n",
    "\n",
    "ax = axs.flatten()\n",
    "\n",
    "for i,var in enumerate(limvars):\n",
    "    ax[i].plot(validation_stats_test[var]['gm_var_ratio'])\n",
    "\n",
    "#    ax[i].set_ylim(0,1)\n",
    "    ax[i].set_xlim(0,11)\n",
    "    ax[i].set_xticks([0,1,2,3,4,5,6,7,8,9,10,11])\n",
    "    ax[i].grid(axis='both')\n",
    "    ax[i].set_ylabel('GM ratio: \\nerror variance to true variance (1 lag only)', fontsize=14)\n",
    "    ax[i].set_title(var, fontsize=16)\n",
    "if mo == 'all':\n",
    "    plt.suptitle('All months', fontsize=16)\n",
    "else: \n",
    "    plt.suptitle(month_names[mo], fontsize=16)\n",
    "    \n",
    "ax[2].set_xlabel('lead time (months)', fontsize=14)\n",
    "ax[3].set_xlabel('lead time (months)', fontsize=14)"
   ]
  },
  {
   "cell_type": "markdown",
   "metadata": {},
   "source": [
    "### Validation plots: "
   ]
  },
  {
   "cell_type": "code",
   "execution_count": null,
   "metadata": {},
   "outputs": [],
   "source": [
    "plt.plot(valid_stats['corr_tot']**2, label='Correlation')\n",
    "plt.plot(valid_stats['ce_tot'],label='CE')\n",
    "#plt.axhline(0,linestyle='--', color='k')\n",
    "plt.ylim(0,1)\n",
    "plt.xlim(0,4)\n",
    "plt.xticks([0,1,2,3])\n",
    "plt.grid(axis='both')\n",
    "plt.xlabel('lead time (months)')\n",
    "if mo == 'all':\n",
    "    plt.title('All months')\n",
    "else: \n",
    "    plt.title(month_names[mo])\n",
    "plt.legend(loc='lower right')"
   ]
  },
  {
   "cell_type": "code",
   "execution_count": null,
   "metadata": {},
   "outputs": [],
   "source": [
    "valid_stats['corr_tot']**2"
   ]
  },
  {
   "cell_type": "code",
   "execution_count": null,
   "metadata": {},
   "outputs": [],
   "source": [
    "plt.plot(valid_stats['gm_var_ratio'])\n",
    "plt.axhline(1,linestyle='--', color='k')\n",
    "plt.xticks([0,1,2,3])\n",
    "plt.ylim(0,1.1)\n",
    "plt.xlabel('lead time (months)')\n",
    "if mo == 'all':\n",
    "    plt.title('All months')\n",
    "else: \n",
    "    plt.title(month_names[mo])\n",
    "plt.ylabel('GM ratio: error variance to true variance')"
   ]
  },
  {
   "cell_type": "code",
   "execution_count": null,
   "metadata": {},
   "outputs": [],
   "source": [
    "\n",
    "plt.plot(tot_nh_sic_forecast*1e-6, label='forecast')\n",
    "plt.plot((tot_nh_sic_truth-np.mean(tot_nh_sic_truth,axis=0))*1e-6, label='truth')\n",
    "#plt.plot(tot_nh_sic_forecast[3:]*1e-6, label='forecast')\n",
    "plt.xlim(0,50)\n",
    "#plt.ylim(-20,20)\n",
    "plt.legend()"
   ]
  },
  {
   "cell_type": "markdown",
   "metadata": {},
   "source": [
    "## All months: "
   ]
  },
  {
   "cell_type": "code",
   "execution_count": null,
   "metadata": {},
   "outputs": [],
   "source": [
    "corr_plot = np.zeros((12))\n",
    "ce_plot = np.zeros((12))\n",
    "gm_var_ratio = np.zeros((12))\n",
    "\n",
    "for m in range(12):\n",
    "    corr_plot[m] = valid_stats_allmo[m]['sic']['corr_tot'][1]**2\n",
    "    ce_plot[m] = valid_stats_allmo[m]['sic']['ce_tot'][1]\n",
    "    gm_var_ratio[m] = valid_stats_allmo[m]['sic']['gm_var_ratio'][1]"
   ]
  },
  {
   "cell_type": "code",
   "execution_count": null,
   "metadata": {},
   "outputs": [],
   "source": [
    "fig = plt.figure(figsize=(10,6))\n",
    "plt.plot(corr_plot[:-1], label='Correlation')\n",
    "plt.plot(ce_plot[:-1],label='CE')\n",
    "#plt.axhline(0,linestyle='--', color='k')\n",
    "plt.ylim(0,1)\n",
    "#plt.xlim(0,4)\n",
    "plt.grid(axis='both')\n",
    "plt.xticks(np.arange(0,12,1),month_names, rotation='vertical', fontsize=14)\n",
    "plt.yticks(fontsize=14)\n",
    "plt.xlabel('lead time (months)', fontsize=14)\n",
    "plt.title('All months separate LIM: 1 month lag', fontsize=16)\n",
    "plt.legend(loc='lower left', fontsize=14)"
   ]
  },
  {
   "cell_type": "code",
   "execution_count": null,
   "metadata": {},
   "outputs": [],
   "source": [
    "fig = plt.figure(figsize=(10,6))\n",
    "plt.plot(gm_var_ratio[:-1])\n",
    "#plt.axhline(0,linestyle='--', color='k')\n",
    "plt.ylim(0,1)\n",
    "#plt.xlim(0,4)\n",
    "plt.grid(axis='both')\n",
    "plt.xticks(np.arange(0,12,1),month_names, rotation='vertical', fontsize=14)\n",
    "plt.yticks(fontsize=14)\n",
    "plt.xlabel('lead time (months)', fontsize=14)\n",
    "plt.ylabel('(GM error variance)/(GM variance of truth)', fontsize=14)\n",
    "plt.title('All months separate LIM: 1 month lag', fontsize=16)\n",
    "plt.legend(loc='lower left', fontsize=14)"
   ]
  },
  {
   "cell_type": "code",
   "execution_count": null,
   "metadata": {},
   "outputs": [],
   "source": [
    "plt.plot(x_var_dt[1061,:])\n",
    "plt.plot(x_var[1061,:])"
   ]
  },
  {
   "cell_type": "code",
   "execution_count": null,
   "metadata": {},
   "outputs": [],
   "source": [
    "error_sic_2d = np.reshape(error_var, (var_dict['sic']['lat'].shape))\n",
    "plt.pcolormesh(error_sic_2d)\n",
    "plt.colorbar()\n",
    "plt.title('Error Variance: SIC')"
   ]
  },
  {
   "cell_type": "code",
   "execution_count": null,
   "metadata": {},
   "outputs": [],
   "source": [
    "error_sic_2d = np.reshape(truth_error_var, (var_dict['sic']['lat'].shape))\n",
    "plt.pcolormesh(error_sic_2d)\n",
    "plt.colorbar()\n",
    "plt.title('Truth Variance: SIC')"
   ]
  }
 ],
 "metadata": {
  "anaconda-cloud": {},
  "kernelspec": {
   "display_name": "Python 3",
   "language": "python",
   "name": "python3"
  },
  "language_info": {
   "codemirror_mode": {
    "name": "ipython",
    "version": 3
   },
   "file_extension": ".py",
   "mimetype": "text/x-python",
   "name": "python",
   "nbconvert_exporter": "python",
   "pygments_lexer": "ipython3",
   "version": "3.6.6"
  }
 },
 "nbformat": 4,
 "nbformat_minor": 2
}
