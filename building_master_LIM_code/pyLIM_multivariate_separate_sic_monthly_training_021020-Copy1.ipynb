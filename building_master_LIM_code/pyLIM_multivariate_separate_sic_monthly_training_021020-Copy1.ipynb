{
 "cells": [
  {
   "cell_type": "markdown",
   "metadata": {},
   "source": [
    "# LIM forecasting: multivariate separate sic each month\n",
    "\n",
    "Katie Brennan  \n",
    "started November 2020  \n",
    "  \n",
    "#### Goals: \n",
    "* Build a LIM based on SIC \n",
    "* Build a LIM based on both SIC and SIT \n",
    "* Compare performance"
   ]
  },
  {
   "cell_type": "code",
   "execution_count": 1,
   "metadata": {
    "collapsed": true
   },
   "outputs": [],
   "source": [
    "import sys,os\n",
    "#sys.path.append(\"/Users/hakim/gitwork/LMR_python3\")\n",
    "sys.path.append(\"/home/disk/kalman2/mkb22/pyLMR/\")\n",
    "import LMR_utils"
   ]
  },
  {
   "cell_type": "code",
   "execution_count": 2,
   "metadata": {
    "collapsed": true
   },
   "outputs": [],
   "source": [
    "# number of EOFs to retain for the LIM state vector\n",
    "ntrunc = 400 # EOF truncation for individual fields (reduced-state space)\n",
    "nmodes = 30 # number of coupled EOFs for LIM state space (truncated-state space)\n",
    "#nmodes = 25\n",
    "nmodes_sic = 30\n",
    "#modes_sic = 20\n",
    "\n",
    "# forecast lead time in months that defines the LIM training\n",
    "tau = 1\n",
    "\n",
    "# training data defined by the first ntrain times\n",
    "# fraction of years used in training\n",
    "# ensures that start year of both train and validation data is january \n",
    "ntrain = 0.60\n",
    "\n",
    "# variables to include in the LIM (note \"vars\" is a Python command)\n",
    "#limvars = ['tas','zg']\n",
    "#limvars = ['tas','rlut','zg']\n",
    "#limvars = ['sic']\n",
    "#limvars = ['tas','sic']\n",
    "#limvars = ['tas','sic','zg','psl','pr','tos']\n",
    "#limvars = ['tas','psl','tos','sit','sic']\n",
    "limvars = ['tas','psl','sit','sic']\n",
    "nvars = len(limvars)\n",
    "\n",
    "# specify the model source \n",
    "train_dsource = 'mpi_lm'\n",
    "#train_dsource = 'ccsm4_lm'\n",
    "valid_dsource = 'mpi_lm'\n",
    "\n",
    "sic_separate = True"
   ]
  },
  {
   "cell_type": "code",
   "execution_count": 3,
   "metadata": {},
   "outputs": [
    {
     "data": {
      "text/plain": [
       "'tas_psl_sit_sic'"
      ]
     },
     "execution_count": 3,
     "metadata": {},
     "output_type": "execute_result"
    }
   ],
   "source": [
    "'_'.join(limvars)"
   ]
  },
  {
   "cell_type": "code",
   "execution_count": 4,
   "metadata": {
    "collapsed": true
   },
   "outputs": [],
   "source": [
    "full_names = {'tas':'Surface air temperature',\n",
    "              'psl':'Sea level Pressure',\n",
    "              'sic':'Sea ice concentration', \n",
    "              'sit':'Sea ice thickness',\n",
    "              'tos':'Sea surface temperature',\n",
    "              'zg': '500hPa geopotential height'}"
   ]
  },
  {
   "cell_type": "code",
   "execution_count": 5,
   "metadata": {
    "collapsed": true
   },
   "outputs": [],
   "source": [
    "import numpy as np\n",
    "import matplotlib\n",
    "import matplotlib.pyplot as plt\n",
    "import cartopy.crs as ccrs\n",
    "import cartopy.feature\n",
    "from cartopy.util import add_cyclic_point\n",
    "from collections import OrderedDict \n",
    "\n",
    "import scipy as spy"
   ]
  },
  {
   "cell_type": "code",
   "execution_count": 6,
   "metadata": {
    "collapsed": true
   },
   "outputs": [],
   "source": [
    "arc_proj = dict(projection=ccrs.Stereographic(central_latitude=90,\n",
    "                                              central_longitude=-45,\n",
    "                                              true_scale_latitude=0.1))\n",
    "proj = dict(projection=ccrs.Robinson(central_longitude=0.),zorder=1)"
   ]
  },
  {
   "cell_type": "code",
   "execution_count": 7,
   "metadata": {
    "collapsed": true
   },
   "outputs": [],
   "source": [
    "sys.path.append(\"/home/disk/p/mkb22/Documents/si_analysis_kb/LIMs/SI_LIMs/\")\n",
    "import LIM_utils as lim"
   ]
  },
  {
   "cell_type": "code",
   "execution_count": 8,
   "metadata": {},
   "outputs": [
    {
     "data": {
      "text/plain": [
       "<module 'LIM_utils' from '/home/disk/p/mkb22/Documents/si_analysis_kb/LIMs/SI_LIMs/LIM_utils.py'>"
      ]
     },
     "execution_count": 8,
     "metadata": {},
     "output_type": "execute_result"
    }
   ],
   "source": [
    "import importlib\n",
    "importlib.reload(lim)"
   ]
  },
  {
   "cell_type": "code",
   "execution_count": 9,
   "metadata": {
    "collapsed": true
   },
   "outputs": [],
   "source": [
    "from datetime import date\n",
    "\n",
    "today = date.today()\n",
    "\n",
    "#Year-month-day\n",
    "today_date = today.strftime(\"%Y%m%d\")"
   ]
  },
  {
   "cell_type": "code",
   "execution_count": 10,
   "metadata": {
    "collapsed": true
   },
   "outputs": [],
   "source": [
    "import time as timestamp # avoids conflict with local naming!"
   ]
  },
  {
   "cell_type": "code",
   "execution_count": 11,
   "metadata": {
    "collapsed": true
   },
   "outputs": [],
   "source": [
    "pi = np.pi\n",
    "\n",
    "# fill continents if plotting SST; otherwise no\n",
    "# if var_to_extract == 'tos':\n",
    "#     noland = True\n",
    "# else:\n",
    "#     noland = False\n",
    "\n",
    "infile_20cr_tas = '/home/disk/kalman3/rtardif/LMR/data/model/20cr/tas_sfc_Amon_20CR_185101-201112.nc'\n",
    "\n",
    "fdic_ccsm4 = lim.build_training_dic(train_dsource)\n",
    "fdic_mpi = lim.build_training_dic(valid_dsource)"
   ]
  },
  {
   "cell_type": "code",
   "execution_count": 12,
   "metadata": {
    "collapsed": true
   },
   "outputs": [],
   "source": [
    "#----------- end of function definitions --------------"
   ]
  },
  {
   "cell_type": "code",
   "execution_count": 13,
   "metadata": {
    "scrolled": true
   },
   "outputs": [
    {
     "name": "stdout",
     "output_type": "stream",
     "text": [
      "Loading tas\n",
      "fetching  tas  from  /home/disk/kalman3/rtardif/LMR/data/model/mpi-esm-p_last_millenium/tas_sfc_Amon_MPI-ESM-P_past1000_085001-185012.nc\n",
      "-----------------------------------------------------\n",
      "completed in 16.578728437423706 seconds\n",
      "-----------------------------------------------------\n",
      "(12000, 96, 192)\n",
      "indlat= 0  indlon= 1\n",
      "('lat', 'lon')\n",
      "skipping regridding...\n",
      "Removing climo from:\n",
      "month = 0\n",
      "month = 1\n",
      "month = 2\n",
      "month = 3\n",
      "month = 4\n",
      "month = 5\n",
      "month = 6\n",
      "month = 7\n",
      "month = 8\n",
      "month = 9\n",
      "month = 10\n",
      "month = 11\n",
      "Loading psl\n",
      "fetching  psl  from  /home/disk/kalman3/rtardif/LMR/data/model/mpi-esm-p_last_millenium/psl_sfc_Amon_MPI-ESM-P_past1000_085001-185012.nc\n",
      "-----------------------------------------------------\n",
      "completed in 14.441513061523438 seconds\n",
      "-----------------------------------------------------\n",
      "(12000, 96, 192)\n",
      "indlat= 0  indlon= 1\n",
      "('lat', 'lon')\n",
      "skipping regridding...\n",
      "Removing climo from:\n",
      "month = 0\n",
      "month = 1\n",
      "month = 2\n",
      "month = 3\n",
      "month = 4\n",
      "month = 5\n",
      "month = 6\n",
      "month = 7\n",
      "month = 8\n",
      "month = 9\n",
      "month = 10\n",
      "month = 11\n",
      "Loading sit\n",
      "fetching  sit  from  /home/disk/kalman3/rtardif/LMR/data/model/mpi-esm-p_last_millenium/sit_sfc_OImon_MPI-ESM-P_past1000_085001-185012.nc\n",
      "-----------------------------------------------------\n",
      "completed in 36.90082287788391 seconds\n",
      "-----------------------------------------------------\n",
      "(12000, 220, 256)\n",
      "indlat= 0  indlon= 1\n",
      "('lat', 'lon')\n",
      "skipping regridding...\n",
      "Removing climo from:\n",
      "month = 0\n",
      "month = 1\n",
      "month = 2\n",
      "month = 3\n",
      "month = 4\n",
      "month = 5\n",
      "month = 6\n",
      "month = 7\n",
      "month = 8\n",
      "month = 9\n",
      "month = 10\n",
      "month = 11\n",
      "Loading sic\n",
      "fetching  sic  from  /home/disk/kalman3/rtardif/LMR/data/model/mpi-esm-p_last_millenium/sic_sfc_OImon_MPI-ESM-P_past1000_085001-185012.nc\n",
      "-----------------------------------------------------\n",
      "completed in 35.708953857421875 seconds\n",
      "-----------------------------------------------------\n",
      "(12000, 220, 256)\n",
      "indlat= 0  indlon= 1\n",
      "('lat', 'lon')\n",
      "skipping regridding...\n",
      "Removing climo from:\n",
      "month = 0\n",
      "month = 1\n",
      "month = 2\n",
      "month = 3\n",
      "month = 4\n",
      "month = 5\n",
      "month = 6\n",
      "month = 7\n",
      "month = 8\n",
      "month = 9\n",
      "month = 10\n",
      "month = 11\n"
     ]
    }
   ],
   "source": [
    "#\n",
    "# load training data...\n",
    "var_dict = {}\n",
    "#\n",
    "for k, var in enumerate(limvars): \n",
    "    print('Loading '+var)\n",
    "    data_in,lat_2d,lon_2d, time_yrs = lim.get_data(var,fdic_mpi[var], 45, 72, regrid=False)\n",
    "    ntime = data_in.shape[0]\n",
    "    nlat = data_in.shape[1]\n",
    "    nlon = data_in.shape[2]\n",
    "    ndof = nlat*nlon\n",
    "    X_var = np.moveaxis(np.reshape(data_in,[ntime,ndof]),0,-1) \n",
    "    \n",
    "    # save location indices for each variable\n",
    "    d = {}\n",
    "#    var_inds = np.arange(0,ndof)\n",
    "#    fields[limvars[k]] = var_inds\n",
    "    d['varind'] = k\n",
    "    d['lat'] = lat_2d\n",
    "    d['lon'] = lon_2d\n",
    "    d['var_ndof'] = ndof\n",
    "    var_dict[var] = d\n",
    "    \n",
    "#     if k == 0: \n",
    "#         X_all = np.zeros((nvars,nlat*nlon,ntime))\n",
    "#     X_all[k,:,:] = X_var\n",
    "\n",
    "    if k == 0: \n",
    "        X_all = X_var\n",
    "    else: \n",
    "        X_all = np.concatenate((X_all,X_var),axis=0)"
   ]
  },
  {
   "cell_type": "code",
   "execution_count": 14,
   "metadata": {
    "collapsed": true
   },
   "outputs": [],
   "source": [
    "start=0\n",
    "for k,var in enumerate(limvars):\n",
    "    nvar = var_dict[var]['varind']\n",
    "    var_dof = var_dict[var]['var_ndof']\n",
    "    \n",
    "    var_dict[var]['var_inds'] = np.arange(start,start+var_dof)\n",
    "    start = start + var_dof"
   ]
  },
  {
   "cell_type": "code",
   "execution_count": 15,
   "metadata": {
    "collapsed": true
   },
   "outputs": [],
   "source": [
    "#\n",
    "# load different validation data...\n",
    "#\n",
    "# for k, var in enumerate(limvars): \n",
    "#     print('Loading '+var)\n",
    "#     [data_in_mpi,lat_2d_mpi,\n",
    "#      lon_2d_mpi, time_yrs_mpi] = lim.get_data(var,fdic_mpi[var], 45, 72)\n",
    "#     ntime_mpi = data_in_mpi.shape[0]\n",
    "#     nlat_mpi = data_in_mpi.shape[1]\n",
    "#     nlon_mpi = data_in_mpi.shape[2]\n",
    "#     X_var_mpi = np.moveaxis(np.reshape(data_in_mpi,[ntime_mpi,nlat_mpi*nlon_mpi]),0,-1) \n",
    "#     if k == 0: \n",
    "#         X_all_mpi = np.zeros((nvars,nlat_mpi*nlon_mpi,ntime_mpi))\n",
    "#     X_all_mpi[k,:,:] = X_var_mpi"
   ]
  },
  {
   "cell_type": "code",
   "execution_count": 16,
   "metadata": {
    "collapsed": true
   },
   "outputs": [],
   "source": [
    "# combine fields in the row space into a full state vector\n",
    "# if nvars > 1:\n",
    "#     for k in range(nvars-1):\n",
    "#         if k == 0:\n",
    "#             X = np.concatenate((X_all[0],X_all[1]),axis=0)\n",
    "# #            X_mpi = np.concatenate((X_all_mpi[0],X_all_mpi[1]),axis=0)\n",
    "#         else:\n",
    "#             X = np.concatenate((X,X_all[k+1]),axis=0)\n",
    "# #            X_mpi = np.concatenate((X_mpi,X_all_mpi[k+1]),axis=0)\n",
    "# else:\n",
    "#     X = np.squeeze(np.copy(X_all))\n",
    "# #    X_mpi = np.squeeze(np.copy(X_all_mpi))\n",
    "    \n",
    "# print(X.shape)\n",
    "# #print(X_mpi.shape)"
   ]
  },
  {
   "cell_type": "code",
   "execution_count": 15,
   "metadata": {},
   "outputs": [
    {
     "name": "stdout",
     "output_type": "stream",
     "text": [
      "training data shape:  (149504, 600)\n",
      "validation data shape:  (149504, 400)\n",
      "truth data shape:  (149504, 400)\n"
     ]
    }
   ],
   "source": [
    "# prepare the data to train and test the LIM. \n",
    "# separate data into training the validation sets \n",
    "mo = 1\n",
    "tsamp = X_all.shape[1]\n",
    "nyears_train = int((tsamp*ntrain)/12)\n",
    "#nyears_valid = int(X_all_mpi.shape[2]/12)\n",
    "nyears_valid = int((tsamp*(1-ntrain))/12)\n",
    "\n",
    "X_t = np.reshape(X_all,(X_all.shape[0],int(tsamp/12),12))\n",
    "X_train = X_t[:,0:nyears_train,mo]\n",
    "X_train2 = X_t[:,0:nyears_train,mo+1]\n",
    "X_valid = X_t[:,nyears_train:,mo]\n",
    "truth = X_t[:,nyears_train:,mo+1]\n",
    "\n",
    "yrs_mo = np.reshape(time_yrs,(int(tsamp/12),12))\n",
    "\n",
    "yrs_train = yrs_mo[0:nyears_train,mo]\n",
    "yrs_valid = yrs_mo[nyears_train:,mo+1]\n",
    "\n",
    "# X_train = np.reshape(X_t,(X_all.shape[0],X_all.shape[1],nyears_train*2))\n",
    "# X_valid = np.reshape(X_all_mpi,(X_all_mpi.shape[0],X_all_mpi.shape[1],\n",
    "#                                 nyears_valid,12))[:,:,:,mo]\n",
    "# truth = np.reshape(X_mpi,(X_mpi.shape[0],nyears_valid,12))[:,:,mo+1]\n",
    "\n",
    "# yrs_train = np.reshape(time_yrs,(nyears_train,12))\n",
    "# yrs_valid = np.reshape(time_yrs_mpi,(nyears_valid,12))\n",
    "\n",
    "print('training data shape: ',X_train.shape)\n",
    "print('validation data shape: ',X_valid.shape)\n",
    "print('truth data shape: ',truth.shape)"
   ]
  },
  {
   "cell_type": "code",
   "execution_count": 323,
   "metadata": {},
   "outputs": [
    {
     "data": {
      "text/plain": [
       "30"
      ]
     },
     "execution_count": 323,
     "metadata": {},
     "output_type": "execute_result"
    }
   ],
   "source": [
    "nmodes_sic"
   ]
  },
  {
   "cell_type": "code",
   "execution_count": 16,
   "metadata": {
    "collapsed": true
   },
   "outputs": [],
   "source": [
    "# SINGLE VARIABLE EOF DECOMPOSITION:\n",
    "ndof = var_dict['sic']['var_ndof']\n",
    "tmp = np.sqrt(np.cos(np.deg2rad(var_dict['sic']['lat'])))\n",
    "W = np.reshape(tmp,[ndof,1])\n",
    "\n",
    "x_test = X_train[var_dict['sic']['var_inds']]\n",
    "inp = W*np.nan_to_num(x_test)\n",
    "nt = inp.shape[1]\n",
    "\n",
    "u,s,v = np.linalg.svd(inp,full_matrices=False)\n",
    "\n",
    "eofs_out = u[:,:nmodes_sic]\n",
    "svals_out = s[:nmodes_sic]\n",
    "pcs_out = v[:nmodes_sic]\n",
    "\n",
    "eig_vals = (svals_out**2)/nt\n",
    "total_var = np.nanvar(x_test,ddof=1,axis=1).sum()\n",
    "var_expl_by_mode = eig_vals/total_var\n",
    "var_expl_by_retained = var_expl_by_mode.sum()\n",
    "\n",
    "# compress original field:\n",
    "P_test = np.matmul(eofs_out.T,W*np.nan_to_num(x_test))\n",
    "#standard_factor = np.sqrt(total_var)\n",
    "standard_factor = np.sqrt(np.sum(np.nanvar(P_test,axis=1)))\n",
    "#standard_factor = np.sqrt((np.nanvar(P_test,axis=1)))\n",
    "\n",
    "P_trunc = P_test/standard_factor\n",
    "\n",
    "# Decompress original field: \n",
    "x_trunc = np.matmul(eofs_out*standard_factor, P_trunc)"
   ]
  },
  {
   "cell_type": "code",
   "execution_count": 17,
   "metadata": {},
   "outputs": [
    {
     "data": {
      "text/plain": [
       "0.9578540899981961"
      ]
     },
     "execution_count": 17,
     "metadata": {},
     "output_type": "execute_result"
    }
   ],
   "source": [
    "np.corrcoef(x_test[0,:],x_trunc[0,:])[0,1]**2"
   ]
  },
  {
   "cell_type": "code",
   "execution_count": 18,
   "metadata": {},
   "outputs": [
    {
     "ename": "NameError",
     "evalue": "name 'ii' is not defined",
     "output_type": "error",
     "traceback": [
      "\u001b[0;31m---------------------------------------------------------------------------\u001b[0m",
      "\u001b[0;31mNameError\u001b[0m                                 Traceback (most recent call last)",
      "\u001b[0;32m<ipython-input-18-950e50daed99>\u001b[0m in \u001b[0;36m<module>\u001b[0;34m()\u001b[0m\n\u001b[1;32m      1\u001b[0m \u001b[0;31m#plt.plot((x_trunc/W)[:,0], label='truncated ')\u001b[0m\u001b[0;34m\u001b[0m\u001b[0;34m\u001b[0m\u001b[0m\n\u001b[1;32m      2\u001b[0m \u001b[0;31m#plt.plot((x_test)[:,0], label='original')\u001b[0m\u001b[0;34m\u001b[0m\u001b[0;34m\u001b[0m\u001b[0m\n\u001b[0;32m----> 3\u001b[0;31m \u001b[0mplt\u001b[0m\u001b[0;34m.\u001b[0m\u001b[0mplot\u001b[0m\u001b[0;34m(\u001b[0m\u001b[0;34m(\u001b[0m\u001b[0mx_trunc\u001b[0m\u001b[0;34m/\u001b[0m\u001b[0mW\u001b[0m\u001b[0;34m)\u001b[0m\u001b[0;34m[\u001b[0m\u001b[0mii\u001b[0m\u001b[0;34m,\u001b[0m\u001b[0;34m:\u001b[0m\u001b[0;34m]\u001b[0m\u001b[0;34m,\u001b[0m \u001b[0mlabel\u001b[0m\u001b[0;34m=\u001b[0m\u001b[0;34m'truncated '\u001b[0m\u001b[0;34m)\u001b[0m\u001b[0;34m\u001b[0m\u001b[0m\n\u001b[0m\u001b[1;32m      4\u001b[0m \u001b[0mplt\u001b[0m\u001b[0;34m.\u001b[0m\u001b[0mplot\u001b[0m\u001b[0;34m(\u001b[0m\u001b[0;34m(\u001b[0m\u001b[0mx_test\u001b[0m\u001b[0;34m)\u001b[0m\u001b[0;34m[\u001b[0m\u001b[0mii\u001b[0m\u001b[0;34m,\u001b[0m\u001b[0;34m:\u001b[0m\u001b[0;34m]\u001b[0m\u001b[0;34m,\u001b[0m \u001b[0mlabel\u001b[0m\u001b[0;34m=\u001b[0m\u001b[0;34m'original'\u001b[0m\u001b[0;34m)\u001b[0m\u001b[0;34m\u001b[0m\u001b[0m\n\u001b[1;32m      5\u001b[0m \u001b[0mplt\u001b[0m\u001b[0;34m.\u001b[0m\u001b[0mlegend\u001b[0m\u001b[0;34m(\u001b[0m\u001b[0;34m)\u001b[0m\u001b[0;34m\u001b[0m\u001b[0m\n",
      "\u001b[0;31mNameError\u001b[0m: name 'ii' is not defined"
     ]
    }
   ],
   "source": [
    "ii=50\n",
    "#plt.plot((x_trunc/W)[:,0], label='truncated ')\n",
    "#plt.plot((x_test)[:,0], label='original')\n",
    "plt.plot((x_trunc/W)[ii,:], label='truncated ')\n",
    "plt.plot((x_test)[ii,:], label='original')\n",
    "plt.legend()"
   ]
  },
  {
   "cell_type": "code",
   "execution_count": 332,
   "metadata": {},
   "outputs": [
    {
     "data": {
      "text/plain": [
       "0.9470384246810135"
      ]
     },
     "execution_count": 332,
     "metadata": {},
     "output_type": "execute_result"
    }
   ],
   "source": [
    "np.var((x_trunc/W)[ii,:])/np.var((x_test)[ii,:])"
   ]
  },
  {
   "cell_type": "code",
   "execution_count": 16,
   "metadata": {
    "collapsed": true
   },
   "outputs": [],
   "source": [
    "ndof = var_dict['tas']['var_ndof']\n",
    "tmp = np.sqrt(np.cos(np.deg2rad(var_dict['tas']['lat'])))\n",
    "W = np.reshape(tmp,[ndof,1])\n",
    "\n",
    "x_test = X_train[var_dict['tas']['var_inds']]\n",
    "inp = W*(x_test)\n",
    "nt = inp.shape[1]"
   ]
  },
  {
   "cell_type": "code",
   "execution_count": 17,
   "metadata": {},
   "outputs": [
    {
     "ename": "NameError",
     "evalue": "name 'u' is not defined",
     "output_type": "error",
     "traceback": [
      "\u001b[0;31m---------------------------------------------------------------------------\u001b[0m",
      "\u001b[0;31mNameError\u001b[0m                                 Traceback (most recent call last)",
      "\u001b[0;32m<ipython-input-17-07aaff3cc3fa>\u001b[0m in \u001b[0;36m<module>\u001b[0;34m()\u001b[0m\n\u001b[0;32m----> 1\u001b[0;31m \u001b[0mu\u001b[0m\u001b[0;34m.\u001b[0m\u001b[0mshape\u001b[0m\u001b[0;34m\u001b[0m\u001b[0m\n\u001b[0m",
      "\u001b[0;31mNameError\u001b[0m: name 'u' is not defined"
     ]
    }
   ],
   "source": [
    "u.shape"
   ]
  },
  {
   "cell_type": "code",
   "execution_count": 18,
   "metadata": {},
   "outputs": [
    {
     "data": {
      "text/plain": [
       "[<matplotlib.lines.Line2D at 0x7fbdd551bfd0>]"
      ]
     },
     "execution_count": 18,
     "metadata": {},
     "output_type": "execute_result"
    },
    {
     "data": {
      "image/png": "[encoded data removed]",
      "text/plain": [
       "<Figure size 432x288 with 1 Axes>"
      ]
     },
     "metadata": {
      "needs_background": "light"
     },
     "output_type": "display_data"
    }
   ],
   "source": [
    "plt.plot(inp[:,0])"
   ]
  },
  {
   "cell_type": "code",
   "execution_count": 116,
   "metadata": {
    "collapsed": true
   },
   "outputs": [],
   "source": [
    "u,s,v = np.linalg.svd(inp,full_matrices=False)"
   ]
  },
  {
   "cell_type": "code",
   "execution_count": 147,
   "metadata": {},
   "outputs": [
    {
     "data": {
      "text/plain": [
       "0.9998820080042898"
      ]
     },
     "execution_count": 147,
     "metadata": {},
     "output_type": "execute_result"
    }
   ],
   "source": [
    "np.sum(s[:ntrunc]*s[:ntrunc])/np.sum(s*s)"
   ]
  },
  {
   "cell_type": "code",
   "execution_count": 145,
   "metadata": {},
   "outputs": [
    {
     "data": {
      "text/plain": [
       "0.6616841025495992"
      ]
     },
     "execution_count": 145,
     "metadata": {},
     "output_type": "execute_result"
    }
   ],
   "source": [
    "inp.shape\n",
    "eig_vals = (s[:ntrunc]**2)/inp.shape[1]\n",
    "total_var = x_test.var(ddof=1,axis=1).sum()\n",
    "var_expl_by_retained = (eig_vals/total_var).sum()\n",
    "var_expl_by_retained "
   ]
  },
  {
   "cell_type": "code",
   "execution_count": 139,
   "metadata": {},
   "outputs": [
    {
     "data": {
      "text/plain": [
       "(21853.775, 8676177.453999732, 14460.295756666223)"
      ]
     },
     "execution_count": 139,
     "metadata": {},
     "output_type": "execute_result"
    }
   ],
   "source": [
    "total_var , (s[:ntrunc]**2).sum(), eig_vals.sum()"
   ]
  },
  {
   "cell_type": "code",
   "execution_count": 21,
   "metadata": {
    "collapsed": true
   },
   "outputs": [],
   "source": [
    "# compress original field:\n",
    "P_test = np.matmul(u.T,(W*x_test))\n",
    "\n",
    "# Decompress original field: \n",
    "x_trunc = np.matmul(u, P_test)"
   ]
  },
  {
   "cell_type": "code",
   "execution_count": 184,
   "metadata": {},
   "outputs": [
    {
     "data": {
      "text/plain": [
       "[<matplotlib.lines.Line2D at 0x7fbdc9ba18d0>]"
      ]
     },
     "execution_count": 184,
     "metadata": {},
     "output_type": "execute_result"
    },
    {
     "data": {
      "image/png": "[encoded data removed]",
      "text/plain": [
       "<Figure size 432x288 with 1 Axes>"
      ]
     },
     "metadata": {
      "needs_background": "light"
     },
     "output_type": "display_data"
    }
   ],
   "source": [
    "plt.plot((x_trunc/W)[0,:])\n",
    "plt.plot(x_test[0,:])"
   ]
  },
  {
   "cell_type": "code",
   "execution_count": 225,
   "metadata": {},
   "outputs": [
    {
     "data": {
      "text/plain": [
       "[<matplotlib.lines.Line2D at 0x7f896f1264e0>]"
      ]
     },
     "execution_count": 225,
     "metadata": {},
     "output_type": "execute_result"
    },
    {
     "data": {
      "image/png": "[encoded data removed]",
      "text/plain": [
       "<Figure size 432x288 with 1 Axes>"
      ]
     },
     "metadata": {
      "needs_background": "light"
     },
     "output_type": "display_data"
    }
   ],
   "source": [
    "plt.plot((x_trunc/W)[:,0])\n",
    "plt.plot(x_test[:,0])"
   ]
  },
  {
   "cell_type": "code",
   "execution_count": null,
   "metadata": {
    "collapsed": true
   },
   "outputs": [],
   "source": []
  },
  {
   "cell_type": "code",
   "execution_count": null,
   "metadata": {
    "collapsed": true
   },
   "outputs": [],
   "source": []
  },
  {
   "cell_type": "code",
   "execution_count": 53,
   "metadata": {
    "collapsed": true
   },
   "outputs": [],
   "source": [
    "def compress_individual_vars(X_train, limvars, ntrunc, nmodes_sic, var_dict, \n",
    "                             X_allshape, X_sicshape, sic_separate=False): \n",
    "    \n",
    "    nvars = len(limvars)\n",
    "    \n",
    "    if sic_separate is True: \n",
    "        E3 = np.zeros([X_allshape-X_sicshape,ntrunc*(nvars-1)])\n",
    "    else:  \n",
    "        E3 = np.zeros([X_allshape,ntrunc*(nvars)])\n",
    "    n=0\n",
    "    W_all = np.zeros((X_allshape))\n",
    "\n",
    "    for k,var in enumerate(limvars):\n",
    "        print('decomposing...',var)\n",
    "        # weight matrix for equal-area covariance normalization\n",
    "        ndof = var_dict[var]['var_ndof']\n",
    "        u,s,v,W = eof_decomp_1var(X_train[var_dict[var]['var_inds'],:],var_dict[var]['lat'],\n",
    "                                  ndof,sic_separate=sic_separate)\n",
    "        W_all[var_dict[var]['var_inds']] = np.squeeze(W)\n",
    "        \n",
    "        fvar = 100*s*s/np.sum(s*s)\n",
    "        if (sic_separate is True) & (var is 'sic'):\n",
    "            print('fraction in first '+str(nmodes_sic)+ ' '+limvars[k]+' EOFs = ',np.sum(fvar[:nmodes_sic]))\n",
    "        else: \n",
    "            print('fraction in first '+str(ntrunc)+ ' '+limvars[k]+' EOFs = ',np.sum(fvar[:ntrunc]))\n",
    "\n",
    "        # projection\n",
    "        P_var = np.matmul(u[:,:ntrunc].T,np.nan_to_num(X_train[var_dict[var]['var_inds'],:]))\n",
    "        standard_factor = np.sqrt(np.sum(np.nanvar(P_var,axis=1)))\n",
    "\n",
    "        if k == 0:\n",
    "            Ptrunc = P_var/standard_factor\n",
    "\n",
    "            # reverse operator from EOFs to grid point space\n",
    "            E3[var_dict[var]['var_inds'],k*ntrunc:(k+1)*ntrunc] = u[:,:ntrunc]*standard_factor\n",
    "            n=n+1\n",
    "        elif (sic_separate is True) & (var is 'sic'):\n",
    "            print('...separately')\n",
    "            Ptrunc_sic = np.matmul(u[:,:nmodes_sic].T,\n",
    "                                   np.nan_to_num(X_train[var_dict[var]['var_inds'],:]))/standard_factor\n",
    "            E_sic = u[:,:nmodes_sic]*standard_factor\n",
    "        else:\n",
    "            Ptrunc = np.concatenate((Ptrunc,P_var/standard_factor),axis=0)\n",
    "\n",
    "            # reverse operator from EOFs to grid point space\n",
    "            E3[var_dict[var]['var_inds'],n*ntrunc:(n+1)*ntrunc] = u[:,:ntrunc]*standard_factor\n",
    "            n=n+1\n",
    "    if sic_separate is True: \n",
    "        return Ptrunc, E3, Ptrunc_sic, E_sic, W_all, standard_factor\n",
    "    else: \n",
    "        return Ptrunc, E3, W_all, standard_factor\n"
   ]
  },
  {
   "cell_type": "code",
   "execution_count": 152,
   "metadata": {
    "collapsed": true
   },
   "outputs": [],
   "source": [
    "def eof_decomp_1var(X,lat,ndof,ntime,ntrunc,sic_separate=False, Weight=True): \n",
    "    \"\"\"\n",
    "    INPUTS: \n",
    "    X = (ndof, ntime)\n",
    "    late\n",
    "    \"\"\"\n",
    "    \n",
    "    if Weight is True: \n",
    "        tmp = np.sqrt(np.cos(np.deg2rad(lat)))\n",
    "        W = np.reshape(tmp,[ndof,1])\n",
    "        inp = W*np.nan_to_num(X)\n",
    "        \n",
    "    else: \n",
    "        inp = np.nan_to_num(X)\n",
    "\n",
    "    u,s,v = np.linalg.svd(inp,full_matrices=False)\n",
    "\n",
    "    eofs_out = u[:,:ntrunc]\n",
    "    svals_out = s[:ntrunc]\n",
    "    pcs_out = v[:ntrunc]\n",
    "\n",
    "    eig_vals = (svals_out**2)\n",
    "    total_var = np.nanvar(X,ddof=1,axis=1).sum()\n",
    "    var_expl_by_retained = 100*np.sum(eig_vals)/np.sum(s*s)\n",
    "    \n",
    "    return eofs_out, svals_out, pcs_out, total_var, var_expl_by_retained, W"
   ]
  },
  {
   "cell_type": "code",
   "execution_count": 333,
   "metadata": {
    "collapsed": true
   },
   "outputs": [],
   "source": [
    "def compress_individual_vars2(X_train, limvars, ntrunc, nmodes_sic, var_dict, \n",
    "                              X_allshape, X_sicshape, sic_separate=False): \n",
    "    \n",
    "    nvars = len(limvars)\n",
    "    W_all = {}\n",
    "    standard_factor = {}\n",
    "    \n",
    "    if sic_separate is True: \n",
    "        E3 = np.zeros([X_allshape-X_sicshape,ntrunc*(nvars-1)])\n",
    "    else:  \n",
    "        E3 = np.zeros([X_allshape,ntrunc*(nvars)])\n",
    "    n=0\n",
    "\n",
    "    for k,var in enumerate(limvars):\n",
    "        print('decomposing...',var)\n",
    "        # weight matrix for equal-area covariance normalization\n",
    "        ndof = var_dict[var]['var_ndof']\n",
    "        ntime = X_train.shape[1]\n",
    "        LAT = var_dict['tas']['lat']\n",
    "        \n",
    "        if (sic_separate is True) & (var is 'sic'):\n",
    "            trunc = nmodes_sic\n",
    "        else: \n",
    "            trunc = ntrunc\n",
    "        \n",
    "        [eofs_out, svals_out, pcs_out, \n",
    "         total_var, var_expl_by_retained, W] = eof_decomp_1var(X_train[var_dict[var]['var_inds'],:],\n",
    "                                                               var_dict[var]['lat'],ndof,ntime,trunc,\n",
    "                                                               sic_separate=False,Weight=True)\n",
    "        W_all[var] = np.squeeze(W)\n",
    "        \n",
    "        if (sic_separate is True) & (var is 'sic'):\n",
    "            print('fraction in first '+str(nmodes_sic)+ ' '+limvars[k]+' EOFs = '+str(var_expl_by_retained))\n",
    "        else: \n",
    "            print('fraction in first '+str(ntrunc)+ ' '+limvars[k]+' EOFs = '+str(var_expl_by_retained))\n",
    "\n",
    "\n",
    "        if k == 0:\n",
    "            # projection\n",
    "            P_var = np.matmul(eofs_out.T,W*np.nan_to_num(X_train[var_dict[var]['var_inds'],:]))\n",
    "            standard_factor[var] = np.sqrt(np.sum(np.nanvar(P_var,axis=1)))\n",
    "            \n",
    "            Ptrunc = P_var/standard_factor[var]\n",
    "\n",
    "            # reverse operator from EOFs to grid point space\n",
    "            E3[var_dict[var]['var_inds'],k*ntrunc:(k+1)*ntrunc] = eofs_out*standard_factor[var]\n",
    "            n=n+1\n",
    "        elif (sic_separate is True) & (var is 'sic'):\n",
    "            print('...separately')\n",
    "            Pvar_sic = np.matmul(eofs_out.T,W*np.nan_to_num(X_train[var_dict[var]['var_inds'],:]))\n",
    "            standard_factor[var] = np.sqrt(np.sum(np.nanvar(Pvar_sic,axis=1)))\n",
    "            \n",
    "            Ptrunc_sic = Pvar_sic/standard_factor[var]\n",
    "            E_sic = eofs_out*standard_factor[var]\n",
    "        else:\n",
    "            # projection\n",
    "            P_var = np.matmul(eofs_out.T,W*np.nan_to_num(X_train[var_dict[var]['var_inds'],:]))\n",
    "            standard_factor[var] = np.sqrt(np.sum(np.nanvar(P_var,axis=1)))\n",
    "            \n",
    "            Ptrunc = np.concatenate((Ptrunc,P_var/standard_factor[var]),axis=0)\n",
    "\n",
    "            # reverse operator from EOFs to grid point space\n",
    "            E3[var_dict[var]['var_inds'],n*ntrunc:(n+1)*ntrunc] = eofs_out*standard_factor[var]\n",
    "            n=n+1\n",
    "    if sic_separate is True: \n",
    "        return Ptrunc, E3, Ptrunc_sic, E_sic, W_all, standard_factor\n",
    "    else: \n",
    "        return Ptrunc, E3, W_all, standard_factor"
   ]
  },
  {
   "cell_type": "code",
   "execution_count": 150,
   "metadata": {
    "collapsed": true
   },
   "outputs": [],
   "source": [
    "standard_factor = {}\n",
    "\n",
    "ndof = var_dict['tas']['var_ndof']\n",
    "ntime = X_train.shape[1]\n",
    "LAT = var_dict['tas']['lat']\n",
    "\n",
    "[eofs_out, svals_out, pcs_out, \n",
    " total_var, var_expl_by_retained, W] = eof_decomp_1var(X_train[var_dict['tas']['var_inds'],:],LAT,ndof,ntime,\n",
    "                                                       ntrunc,sic_separate=False, Weight=True)\n",
    "\n",
    "# compress original field:\n",
    "P_test = np.matmul(eofs_out.T,W*np.nan_to_num(x_test))\n",
    "#standard_factor = np.sqrt(total_var)\n",
    "standard_factor['tas'] = np.sqrt(np.sum(np.nanvar(P_test,axis=1)))\n",
    "#standard_factor = np.sqrt((np.nanvar(P_test,axis=1)))\n",
    "\n",
    "P_trunc = P_test/standard_factor['tas']"
   ]
  },
  {
   "cell_type": "code",
   "execution_count": 97,
   "metadata": {
    "collapsed": true
   },
   "outputs": [],
   "source": [
    "# Decompress original field: \n",
    "x_trunc = np.matmul(eofs_out, P_trunc)*standard_factor"
   ]
  },
  {
   "cell_type": "code",
   "execution_count": 98,
   "metadata": {},
   "outputs": [
    {
     "data": {
      "text/plain": [
       "<matplotlib.legend.Legend at 0x7fbdca69c978>"
      ]
     },
     "execution_count": 98,
     "metadata": {},
     "output_type": "execute_result"
    },
    {
     "data": {
      "image/png": "[encoded data removed]",
      "text/plain": [
       "<Figure size 432x288 with 1 Axes>"
      ]
     },
     "metadata": {
      "needs_background": "light"
     },
     "output_type": "display_data"
    }
   ],
   "source": [
    "plt.plot((x_trunc/W)[:,0], label='truncated ')\n",
    "plt.plot((x_test)[:,0], label='original')\n",
    "plt.legend()"
   ]
  },
  {
   "cell_type": "code",
   "execution_count": 338,
   "metadata": {},
   "outputs": [
    {
     "name": "stdout",
     "output_type": "stream",
     "text": [
      "decomposing... tas\n",
      "fraction in first 400 tas EOFs = 99.98820080042898\n",
      "decomposing... psl\n",
      "fraction in first 400 psl EOFs = 99.83906784475552\n",
      "decomposing... sit\n",
      "fraction in first 400 sit EOFs = 99.99999282817843\n",
      "decomposing... sic\n",
      "fraction in first 30 sic EOFs = 96.1434382480135\n",
      "...separately\n",
      "Fraction in first 30 multivariate EOFs =  94.51726448650527\n",
      "Shape of E: (93184, 30)\n"
     ]
    }
   ],
   "source": [
    "# PH approach: coupled-EOFs in truncated EOF space. \n",
    "\n",
    "# weight matrix for equal-area covariance normalization\n",
    "# tmp = np.sqrt(np.cos(np.radians(lat_2d)))\n",
    "# W = np.reshape(tmp,[nlat*nlon,1])\n",
    "# # note W*X = X*W\n",
    "\n",
    "[Ptrunc, E3, Ptrunc_sic, \n",
    " E_sic, W_train, sf_train] = compress_individual_vars2(X_train, limvars, ntrunc, nmodes_sic, var_dict, \n",
    "                                                      X_all.shape[0], var_dict['sic']['var_ndof'], \n",
    "                                                      sic_separate=sic_separate)\n",
    "    \n",
    "# truncate the coupled covariance matrix\n",
    "U,S,V = np.linalg.svd(Ptrunc,full_matrices=False)\n",
    "Etrunc = U[:,0:nmodes]\n",
    "\n",
    "Fvar = 100*S*S/np.sum(S*S)\n",
    "print('Fraction in first '+str(nmodes)+ ' multivariate EOFs = ',np.sum(Fvar[:nmodes]))\n",
    "\n",
    "P = np.matmul(Etrunc.T,Ptrunc)\n",
    "# reverse operator from *truncated* EOF space to full grid point space\n",
    "E = np.matmul(E3,Etrunc)\n",
    "print('Shape of E: '+ str(E.shape))\n",
    "\n",
    "if sic_separate is True: \n",
    "    P_train = np.concatenate((P,Ptrunc_sic),axis=0)\n",
    "#    E_train = np.concatenate((E,E_sic),axis=1)\n",
    "else: \n",
    "    P_train = P"
   ]
  },
  {
   "cell_type": "code",
   "execution_count": 341,
   "metadata": {
    "collapsed": true
   },
   "outputs": [],
   "source": [
    "x_train_dcomp = decompress_eof_separate_sic2(P_train,nmodes,nmodes_sic,E,E_sic,\n",
    "                                             limvars,var_dict,W_train,Weights=True)"
   ]
  },
  {
   "cell_type": "code",
   "execution_count": 345,
   "metadata": {},
   "outputs": [
    {
     "data": {
      "text/plain": [
       "<matplotlib.legend.Legend at 0x7fbdacbac9e8>"
      ]
     },
     "execution_count": 345,
     "metadata": {},
     "output_type": "execute_result"
    },
    {
     "data": {
      "image/png": "[encoded data removed]",
      "text/plain": [
       "<Figure size 432x288 with 1 Axes>"
      ]
     },
     "metadata": {
      "needs_background": "light"
     },
     "output_type": "display_data"
    }
   ],
   "source": [
    "ii=10\n",
    "var = 'sic'\n",
    "x_decomp = x_train_dcomp[var_dict[var]['var_inds']]\n",
    "\n",
    "plt.plot(x_decomp[:,ii], label='truncated')\n",
    "#plt.plot((sic_train_dcomp)[ii,:], label='truncated')\n",
    "plt.plot((X_train[var_dict[var]['var_inds']])[:,ii], label='original')\n",
    "#plt.plot((x_trunc/W)[:,0], label='truncated2 ')\n",
    "#plt.xlim(0,200)\n",
    "plt.legend()"
   ]
  },
  {
   "cell_type": "code",
   "execution_count": 317,
   "metadata": {},
   "outputs": [
    {
     "name": "stdout",
     "output_type": "stream",
     "text": [
      "fraction in first 30 sic EOFs = 96.1434382480135\n",
      "...separately\n"
     ]
    }
   ],
   "source": [
    "var = 'sic'\n",
    "\n",
    "[eofs_out, svals_out, pcs_out, \n",
    " total_var, var_expl_by_retained, W] = eof_decomp_1var(X_train[var_dict[var]['var_inds'],:],\n",
    "                                                       var_dict[var]['lat'],X_train[var_dict[var]['var_inds'],:].shape[0],\n",
    "                                                       ntime,nmodes_sic,\n",
    "                                                       sic_separate=False,Weight=True)\n",
    "W_all_sic = np.squeeze(W)\n",
    "\n",
    "if (sic_separate is True) & (var is 'sic'):\n",
    "    print('fraction in first '+str(nmodes_sic)+ ' '+limvars[k]+' EOFs = '+str(var_expl_by_retained))\n",
    "else: \n",
    "    print('fraction in first '+str(ntrunc)+ ' '+limvars[k]+' EOFs = '+str(var_expl_by_retained))\n",
    "\n",
    "# projection\n",
    "P_var = np.matmul(eofs_out.T,W*np.nan_to_num(X_train[var_dict[var]['var_inds'],:]))\n",
    "standard_factor_sic = np.sqrt(np.sum(np.nanvar(P_var,axis=1)))\n",
    "\n",
    "if k == 0:\n",
    "    Ptrunc = P_var/standard_factor[var]\n",
    "\n",
    "    # reverse operator from EOFs to grid point space\n",
    "    E3[var_dict[var]['var_inds'],k*ntrunc:(k+1)*ntrunc] = eofs_out*standard_factor[var]\n",
    "    n=n+1\n",
    "elif (sic_separate is True) & (var is 'sic'):\n",
    "    print('...separately')\n",
    "    Pvar_sic = np.matmul(eofs_out.T,W_all_sic[:,np.newaxis]*np.nan_to_num(X_train[var_dict[var]['var_inds'],:]))\n",
    "    standard_factor_sic = np.sqrt(np.sum(np.nanvar(Pvar_sic,axis=1)))\n",
    "    \n",
    "    Ptrunc_sic = Pvar_sic/standard_factor_sic\n",
    "    E_sic = eofs_out*standard_factor_sic\n",
    "else:\n",
    "    Ptrunc = np.concatenate((Ptrunc,P_var/standard_factor[var]),axis=0)\n",
    "\n",
    "    # reverse operator from EOFs to grid point space\n",
    "    E3[var_dict[var]['var_inds'],n*ntrunc:(n+1)*ntrunc] = eofs_out*standard_factor[var]\n",
    "    n=n+1\n"
   ]
  },
  {
   "cell_type": "code",
   "execution_count": 311,
   "metadata": {},
   "outputs": [
    {
     "data": {
      "text/plain": [
       "[<matplotlib.lines.Line2D at 0x7fbdbd6c8630>]"
      ]
     },
     "execution_count": 311,
     "metadata": {},
     "output_type": "execute_result"
    },
    {
     "data": {
      "image/png": "[encoded data removed]",
      "text/plain": [
       "<Figure size 432x288 with 1 Axes>"
      ]
     },
     "metadata": {
      "needs_background": "light"
     },
     "output_type": "display_data"
    }
   ],
   "source": [
    "ii=450\n",
    "#plt.plot((X_train[var_dict['sic']['var_inds']])[:,ii]-(X_train[var_dict['sic']['var_inds']])[:,ii+10])\n",
    "#plt.plot((X_train[var_dict['sic']['var_inds']])[:,ii+10])\n",
    "plt.plot((X_train[var_dict['sic']['var_inds']])[ii,:])\n",
    "#plt.xlim(0,100)"
   ]
  },
  {
   "cell_type": "code",
   "execution_count": 376,
   "metadata": {},
   "outputs": [
    {
     "data": {
      "text/plain": [
       "<matplotlib.legend.Legend at 0x7fbd83b43ac8>"
      ]
     },
     "execution_count": 376,
     "metadata": {},
     "output_type": "execute_result"
    },
    {
     "data": {
      "image/png": "[encoded data removed]",
      "text/plain": [
       "<Figure size 432x288 with 1 Axes>"
      ]
     },
     "metadata": {
      "needs_background": "light"
     },
     "output_type": "display_data"
    }
   ],
   "source": [
    "ii=14\n",
    "sic_train_dcomp = np.matmul(E_sic, Ptrunc_sic)\n",
    "\n",
    "plt.plot((sic_train_dcomp/W_all_sic[:,np.newaxis])[:,ii], label='truncated')\n",
    "#plt.plot((sic_train_dcomp)[ii,:], label='truncated')\n",
    "plt.plot((X_train[var_dict['sic']['var_inds']])[:,ii], label='original')\n",
    "#plt.plot((x_trunc/W)[:,0], label='truncated2 ')\n",
    "#plt.xlim(0,200)\n",
    "plt.legend()"
   ]
  },
  {
   "cell_type": "code",
   "execution_count": 380,
   "metadata": {},
   "outputs": [
    {
     "data": {
      "text/plain": [
       "(220, 256)"
      ]
     },
     "execution_count": 380,
     "metadata": {},
     "output_type": "execute_result"
    }
   ],
   "source": [
    "var_dict['sic']['lat'].shape"
   ]
  },
  {
   "cell_type": "code",
   "execution_count": 383,
   "metadata": {
    "collapsed": true
   },
   "outputs": [],
   "source": [
    "test_plot = np.reshape((X_train[var_dict['sic']['var_inds']])[:,ii],\n",
    "                       (var_dict['sic']['lat'].shape[0],var_dict['sic']['lat'].shape[1]))\n",
    "\n",
    "fig,ax = plt.subplots(2,len(limvars), figsize=(10,5),proj=arc_proj)\n",
    "lim.sub_arctic_plot(ax,fig,test_plot,var_dict['sic']['lat'],var_dict['sic']['lon'],maxv=-1,\n",
    "                    minv=-1,colorbar=True,extent=True,cmap='bwr'):"
   ]
  },
  {
   "cell_type": "markdown",
   "metadata": {},
   "source": [
    "### MAKE SURE: the decompression code is doing what's done below. "
   ]
  },
  {
   "cell_type": "code",
   "execution_count": 337,
   "metadata": {
    "collapsed": true
   },
   "outputs": [],
   "source": [
    "def decompress_eof_separate_sic2(P_train,nmodes,nmodes_sic,E,E_sic,\n",
    "                                 limvars,var_dict,W_all,Weights=True):\n",
    "    x_multivar = P_train[0:nmodes,:]\n",
    "    x_sic = P_train[-nmodes_sic:,:]\n",
    "\n",
    "    x_train_multi_dcomp = np.matmul(E,x_multivar)\n",
    "    x_train_sic_dcomp = np.matmul(E_sic,x_sic)\n",
    "    x_train_dcomp = np.concatenate((x_train_multi_dcomp,x_train_sic_dcomp),axis=0)\n",
    "    \n",
    "    if Weights is True: \n",
    "        X_train_dcomp = unweight_decompressed_vars(x_train_dcomp, limvars, var_dict, W_all)\n",
    "    else: \n",
    "        X_train_dcomp = x_train_dcomp\n",
    "    \n",
    "    return X_train_dcomp"
   ]
  },
  {
   "cell_type": "code",
   "execution_count": 334,
   "metadata": {
    "collapsed": true
   },
   "outputs": [],
   "source": [
    "def unweight_decompressed_vars(x_train_dcomp, limvars, var_dict, W_all):\n",
    "    X_out = np.zeros_like(x_train_dcomp)\n",
    "    \n",
    "    for var in (limvars):\n",
    "        inds = var_dict[var]['var_inds']\n",
    "        X_out[inds,:] = x_train_dcomp[inds,:]/W_all[var][:,np.newaxis]\n",
    "        \n",
    "    return X_out"
   ]
  },
  {
   "cell_type": "code",
   "execution_count": null,
   "metadata": {
    "collapsed": true
   },
   "outputs": [],
   "source": [
    "plt.plot()"
   ]
  },
  {
   "cell_type": "code",
   "execution_count": null,
   "metadata": {
    "collapsed": true
   },
   "outputs": [],
   "source": []
  },
  {
   "cell_type": "code",
   "execution_count": 269,
   "metadata": {},
   "outputs": [
    {
     "data": {
      "text/plain": [
       "<matplotlib.legend.Legend at 0x7fbdc8d339e8>"
      ]
     },
     "execution_count": 269,
     "metadata": {},
     "output_type": "execute_result"
    },
    {
     "data": {
      "image/png": "[encoded data removed]",
      "text/plain": [
       "<Figure size 432x288 with 1 Axes>"
      ]
     },
     "metadata": {
      "needs_background": "light"
     },
     "output_type": "display_data"
    }
   ],
   "source": [
    "ii = 100\n",
    "x_train_dcomp = np.matmul(E, P_train[0:nmodes,:])\n",
    "sic_train_dcomp = np.matmul(E_sic, P_train[-nmodes_sic:,:])\n",
    "#plt.plot((x_train_dcomp[var_dict['tas']['var_inds']]/W_train['tas'][:,np.newaxis])[:,0])\n",
    "#\n",
    "#plt.plot((X_train[var_dict['sic']['var_inds']])[ii,:], label='original')\n",
    "#plt.plot((x_train_dcomp[var_dict['sic']['var_inds']]/W_train['sit'][:,np.newaxis])[100,:], label='truncated')\n",
    "plt.plot((sic_train_dcomp/W_train['sic'][:,np.newaxis])[ii,:], label='truncated')\n",
    "plt.plot((X_train[var_dict['sic']['var_inds']])[ii,:], label='original')\n",
    "\n",
    "#plt.xlim(100,200)\n",
    "plt.legend()"
   ]
  },
  {
   "cell_type": "code",
   "execution_count": 258,
   "metadata": {},
   "outputs": [
    {
     "data": {
      "text/plain": [
       "(array([18432, 18433, 18434, ..., 36861, 36862, 36863]), (149504, 600))"
      ]
     },
     "execution_count": 258,
     "metadata": {},
     "output_type": "execute_result"
    }
   ],
   "source": [
    "var_dict['psl']['var_inds'], X_train.shape"
   ]
  },
  {
   "cell_type": "code",
   "execution_count": 267,
   "metadata": {},
   "outputs": [
    {
     "data": {
      "text/plain": [
       "0.9182591191724186"
      ]
     },
     "execution_count": 267,
     "metadata": {},
     "output_type": "execute_result"
    }
   ],
   "source": [
    "((x_train_dcomp[var_dict['sit']['var_inds']]/W_train['sit'][:,np.newaxis])[100,:]).var()/X_train[var_dict['sit']['var_inds']][100,:].var()"
   ]
  },
  {
   "cell_type": "code",
   "execution_count": 193,
   "metadata": {
    "collapsed": true
   },
   "outputs": [],
   "source": [
    "# PH approach: coupled-EOFs in truncated EOF space. \n",
    "\n",
    "# weight matrix for equal-area covariance normalization\n",
    "# tmp = np.sqrt(np.cos(np.radians(lat_2d)))\n",
    "# W = np.reshape(tmp,[nlat*nlon,1])\n",
    "# # note W*X = X*W\n",
    "\n",
    "# [Ptrunc, E3, Ptrunc_sic, \n",
    "#  E_sic, W_train, sf_train] = compress_individual_vars(X_train, limvars, ntrunc, nmodes_sic, var_dict, \n",
    "#                                           X_all.shape[0], var_dict['sic']['var_ndof'], \n",
    "#                                           sic_separate=sic_separate)\n",
    "    \n",
    "# # truncate the coupled covariance matrix\n",
    "# U,S,V = np.linalg.svd(Ptrunc,full_matrices=False)\n",
    "# Etrunc = U[:,0:nmodes]\n",
    "\n",
    "# Fvar = 100*S*S/np.sum(S*S)\n",
    "# print('Fraction in first '+str(nmodes)+ ' multivariate EOFs = ',np.sum(Fvar[:nmodes]))\n",
    "\n",
    "# P = np.matmul(Etrunc.T,Ptrunc)\n",
    "# # reverse operator from *truncated* EOF space to full grid point space\n",
    "# E = np.matmul(E3,Etrunc)\n",
    "# print('Shape of E: '+ str(E.shape))\n",
    "\n",
    "# if sic_separate is True: \n",
    "#     P_train = np.concatenate((P,Ptrunc_sic),axis=0)\n",
    "# #    E_train = np.concatenate((E,E_sic),axis=1)\n",
    "# else: \n",
    "#     P_train = P"
   ]
  },
  {
   "cell_type": "code",
   "execution_count": 192,
   "metadata": {},
   "outputs": [
    {
     "name": "stdout",
     "output_type": "stream",
     "text": [
      "decomposing... tas\n",
      "fraction in first 400 tas EOFs = 99.98828108065526\n",
      "decomposing... psl\n",
      "fraction in first 400 psl EOFs = 99.83936248821973\n",
      "decomposing... sit\n",
      "fraction in first 400 sit EOFs = 100.00000714329492\n",
      "decomposing... sic\n",
      "fraction in first 30 sic EOFs = 96.07956577573918\n",
      "...separately\n",
      "Fraction in first 30 multivariate EOFs =  94.51726448650527\n",
      "Shape of E: (93184, 30)\n"
     ]
    }
   ],
   "source": [
    "[Ptrunc2, E3_2, Ptrunc_sic2, \n",
    " E_sic2, W_train2, sf_train2] = compress_individual_vars2(X_train2, limvars, ntrunc, nmodes_sic, var_dict, \n",
    "                                                          X_all.shape[0], var_dict['sic']['var_ndof'], \n",
    "                                                          sic_separate=sic_separate)\n",
    "    \n",
    "# truncate the coupled covariance matrix\n",
    "U2,S2,V2 = np.linalg.svd(Ptrunc,full_matrices=False)\n",
    "Etrunc2 = U[:,0:nmodes]\n",
    "\n",
    "Fvar2 = 100*S*S/np.sum(S*S)\n",
    "print('Fraction in first '+str(nmodes)+ ' multivariate EOFs = ',np.sum(Fvar[:nmodes]))\n",
    "\n",
    "P2 = np.matmul(Etrunc.T,Ptrunc)\n",
    "# reverse operator from *truncated* EOF space to full grid point space\n",
    "E2 = np.matmul(E3,Etrunc)\n",
    "print('Shape of E: '+ str(E.shape))\n",
    "\n",
    "if sic_separate is True: \n",
    "    P_train2 = np.concatenate((P,Ptrunc_sic),axis=0)\n",
    "#    E_train = np.concatenate((E,E_sic),axis=1)\n",
    "else: \n",
    "    P_train2 = P2"
   ]
  },
  {
   "cell_type": "code",
   "execution_count": 194,
   "metadata": {},
   "outputs": [
    {
     "name": "stdout",
     "output_type": "stream",
     "text": [
      "decomposing... tas\n",
      "fraction in first 400 tas EOFs = 100.0\n",
      "decomposing... psl\n",
      "fraction in first 400 psl EOFs = 100.0\n",
      "decomposing... sit\n",
      "fraction in first 400 sit EOFs = 100.0\n",
      "decomposing... sic\n",
      "fraction in first 30 sic EOFs = 94.63438272439363\n",
      "...separately\n",
      "Fraction in first 30 multivariate EOFs =  88.59531831560814\n",
      "Shape of E_valid: (93184, 30)\n"
     ]
    }
   ],
   "source": [
    "[Ptrunc_valid, E3_valid, Ptrunc_sic_valid, \n",
    " E_sic_valid, W_valid, sf_valid] = compress_individual_vars2(X_valid, limvars, ntrunc, nmodes_sic, var_dict, \n",
    "                                                             X_all.shape[0], var_dict['sic']['var_ndof'], \n",
    "                                                             sic_separate=sic_separate)\n",
    "    \n",
    "# truncate the coupled covariance matrix\n",
    "U,S,V = np.linalg.svd(Ptrunc_valid,full_matrices=False)\n",
    "Etrunc_valid = U[:,0:nmodes]\n",
    "P_valid = np.matmul(Etrunc_valid.T,Ptrunc_valid)\n",
    "\n",
    "Fvar = 100*S*S/np.sum(S*S)\n",
    "print('Fraction in first '+str(nmodes)+ ' multivariate EOFs = ',np.sum(Fvar[:nmodes]))\n",
    "\n",
    "# reverse operator from *truncated* EOF space to full grid point space\n",
    "E_valid = np.matmul(E3_valid,Etrunc_valid)\n",
    "print('Shape of E_valid: '+ str(E_valid.shape))\n",
    "\n",
    "if sic_separate is True: \n",
    "    P_valid = np.concatenate((P_valid,Ptrunc_sic_valid),axis=0)\n",
    "#    E_train = np.concatenate((E,E_sic),axis=1)\n",
    "else: \n",
    "    P_valid = P_valid"
   ]
  },
  {
   "cell_type": "code",
   "execution_count": 195,
   "metadata": {},
   "outputs": [
    {
     "name": "stdout",
     "output_type": "stream",
     "text": [
      "training data shape:  (60, 600)\n",
      "validation data shape:  (60, 400)\n"
     ]
    }
   ],
   "source": [
    "# prepare the data to train and test the LIM. \n",
    "# separate data into training the validation sets \n",
    "tsamp = X_all.shape[1]\n",
    "nyears = tsamp/12\n",
    "ntrain_yrs = int(np.floor((tsamp/12)*ntrain)*12)\n",
    "train_inds = np.arange(0,ntrain_yrs)\n",
    "valid_inds = np.arange(ntrain_yrs,tsamp,1)\n",
    "\n",
    "x_train = P_train\n",
    "x_train2 = P_train2\n",
    "x_valid = P_valid\n",
    "\n",
    "# if sic_separate is True: \n",
    "#     nonsic = X_valid[:var_dict['sic']['var_inds'][0],:]\n",
    "#     x_valid_nonsic = np.matmul(E_valid.T,np.nan_to_num(nonsic))\n",
    "#     x_valid_sic = np.matmul(E_sic_valid.T,np.nan_to_num(X_valid[var_dict['sic']['var_inds'],:]))\n",
    "#     x_valid = np.concatenate((x_valid_nonsic,x_valid_sic),axis=0)\n",
    "# else: \n",
    "#     x_valid =  np.matmul(E_valid.T,np.nan_to_num(X_valid))\n",
    "\n",
    "print('training data shape: ',x_train.shape)\n",
    "print('validation data shape: ',x_valid.shape)"
   ]
  },
  {
   "cell_type": "code",
   "execution_count": 196,
   "metadata": {
    "collapsed": true
   },
   "outputs": [],
   "source": [
    "# climo standardized variance for error normalization \n",
    "#  in training and validation (1=no skill)\n",
    "# EOF space only\n",
    "if sic_separate is True: \n",
    "    E_x_train = lim.decompress_eof_separate_sic(x_train,nmodes,nmodes_sic,E,E_sic)\n",
    "    E_x_valid = lim.decompress_eof_separate_sic(x_valid,nmodes,nmodes_sic,E_valid,E_sic_valid)\n",
    "\n",
    "else: \n",
    "    E_x_train = np.matmul(E,x_train)\n",
    "    E_x_valid = np.matmul(E_valid,x_valid)\n",
    "\n",
    "E_x_train[np.isclose(E_x_train,0,atol=10e-10)] = np.nan\n",
    "E_x_valid[np.isclose(E_x_valid,0,atol=10e-10)] = np.nan\n",
    "    \n",
    "nyrs_train = int(E_x_train.shape[1]/12)\n",
    "nyrs_valid = int(E_x_valid.shape[1]/12)\n",
    "nlalo = E_x_train.shape[0]\n",
    "\n",
    "# train_var_mon = np.nanvar(np.reshape(E_x_train,(nlalo,nyrs_train,12)),\n",
    "#                        axis=1,ddof=1)\n",
    "# valid_var_mon = np.nanvar(np.reshape(E_x_valid,(nlalo,nyrs_valid,12)),\n",
    "#                        axis=1,ddof=1)\n",
    "train_var = np.nanvar(E_x_train,axis=1,ddof=1)\n",
    "valid_var = np.nanvar(E_x_valid,axis=1,ddof=1)\n",
    "\n",
    "# FULL FIELD versions of the variance \n",
    "train_var_full = np.nanvar(X_train,axis=1,ddof=1)\n",
    "valid_var_full = np.nanvar(X_valid,axis=1,ddof=1)\n",
    "\n",
    "# valid_var_mon_full = np.var(np.reshape(X_mpi,(nvars*ndof,nyrs_valid,12)),\n",
    "#                             axis=1,ddof=1)"
   ]
  },
  {
   "cell_type": "code",
   "execution_count": 197,
   "metadata": {},
   "outputs": [
    {
     "ename": "TypeError",
     "evalue": "unhashable type: 'slice'",
     "output_type": "error",
     "traceback": [
      "\u001b[0;31m---------------------------------------------------------------------------\u001b[0m",
      "\u001b[0;31mTypeError\u001b[0m                                 Traceback (most recent call last)",
      "\u001b[0;32m<ipython-input-197-d85b57c97221>\u001b[0m in \u001b[0;36m<module>\u001b[0;34m()\u001b[0m\n\u001b[0;32m----> 1\u001b[0;31m \u001b[0;34m(\u001b[0m\u001b[0mE_x_train\u001b[0m\u001b[0;34m/\u001b[0m\u001b[0mW_train\u001b[0m\u001b[0;34m[\u001b[0m\u001b[0;34m:\u001b[0m\u001b[0;34m,\u001b[0m\u001b[0mnp\u001b[0m\u001b[0;34m.\u001b[0m\u001b[0mnewaxis\u001b[0m\u001b[0;34m]\u001b[0m\u001b[0;34m)\u001b[0m\u001b[0;34m.\u001b[0m\u001b[0mshape\u001b[0m\u001b[0;34m\u001b[0m\u001b[0m\n\u001b[0m",
      "\u001b[0;31mTypeError\u001b[0m: unhashable type: 'slice'"
     ]
    }
   ],
   "source": [
    "(E_x_train/W_train[:,np.newaxis]).shape"
   ]
  },
  {
   "cell_type": "code",
   "execution_count": 198,
   "metadata": {},
   "outputs": [
    {
     "ename": "TypeError",
     "evalue": "unhashable type: 'slice'",
     "output_type": "error",
     "traceback": [
      "\u001b[0;31m---------------------------------------------------------------------------\u001b[0m",
      "\u001b[0;31mTypeError\u001b[0m                                 Traceback (most recent call last)",
      "\u001b[0;32m<ipython-input-198-c225c606e299>\u001b[0m in \u001b[0;36m<module>\u001b[0;34m()\u001b[0m\n\u001b[1;32m      1\u001b[0m \u001b[0mpt\u001b[0m \u001b[0;34m=\u001b[0m \u001b[0;36m0\u001b[0m\u001b[0;34m\u001b[0m\u001b[0m\n\u001b[1;32m      2\u001b[0m \u001b[0mplt\u001b[0m\u001b[0;34m.\u001b[0m\u001b[0mplot\u001b[0m\u001b[0;34m(\u001b[0m\u001b[0mX_train\u001b[0m\u001b[0;34m[\u001b[0m\u001b[0mpt\u001b[0m\u001b[0;34m,\u001b[0m\u001b[0;34m:\u001b[0m\u001b[0;34m]\u001b[0m\u001b[0;34m,\u001b[0m \u001b[0mlabel\u001b[0m \u001b[0;34m=\u001b[0m \u001b[0;34m'X - original'\u001b[0m\u001b[0;34m)\u001b[0m\u001b[0;34m\u001b[0m\u001b[0m\n\u001b[0;32m----> 3\u001b[0;31m \u001b[0mplt\u001b[0m\u001b[0;34m.\u001b[0m\u001b[0mplot\u001b[0m\u001b[0;34m(\u001b[0m\u001b[0;34m(\u001b[0m\u001b[0mE_x_train\u001b[0m\u001b[0;34m/\u001b[0m\u001b[0mW_train\u001b[0m\u001b[0;34m[\u001b[0m\u001b[0;34m:\u001b[0m\u001b[0;34m,\u001b[0m\u001b[0mnp\u001b[0m\u001b[0;34m.\u001b[0m\u001b[0mnewaxis\u001b[0m\u001b[0;34m]\u001b[0m\u001b[0;34m)\u001b[0m\u001b[0;34m[\u001b[0m\u001b[0mpt\u001b[0m\u001b[0;34m,\u001b[0m\u001b[0;34m:\u001b[0m\u001b[0;34m]\u001b[0m\u001b[0;34m,\u001b[0m \u001b[0mlabel\u001b[0m\u001b[0;34m=\u001b[0m\u001b[0;34m'X - truncated'\u001b[0m\u001b[0;34m)\u001b[0m\u001b[0;34m\u001b[0m\u001b[0m\n\u001b[0m\u001b[1;32m      4\u001b[0m \u001b[0;31m#plt.plot(E_x_train[pt,:]/(W_all[pt]), label='X - truncated, unweighted')\u001b[0m\u001b[0;34m\u001b[0m\u001b[0;34m\u001b[0m\u001b[0m\n\u001b[1;32m      5\u001b[0m \u001b[0mplt\u001b[0m\u001b[0;34m.\u001b[0m\u001b[0mlegend\u001b[0m\u001b[0;34m(\u001b[0m\u001b[0;34m)\u001b[0m\u001b[0;34m\u001b[0m\u001b[0m\n",
      "\u001b[0;31mTypeError\u001b[0m: unhashable type: 'slice'"
     ]
    },
    {
     "data": {
      "image/png": "[encoded data removed]",
      "text/plain": [
       "<Figure size 432x288 with 1 Axes>"
      ]
     },
     "metadata": {
      "needs_background": "light"
     },
     "output_type": "display_data"
    }
   ],
   "source": [
    "pt = 0\n",
    "plt.plot(X_train[pt,:], label = 'X - original')\n",
    "plt.plot((E_x_train/W_train[:,np.newaxis])[pt,:], label='X - truncated')\n",
    "#plt.plot(E_x_train[pt,:]/(W_all[pt]), label='X - truncated, unweighted')\n",
    "plt.legend()\n",
    "#plt.xlim(0,200)"
   ]
  },
  {
   "cell_type": "code",
   "execution_count": 199,
   "metadata": {},
   "outputs": [
    {
     "data": {
      "text/plain": [
       "<matplotlib.legend.Legend at 0x7faa08099f98>"
      ]
     },
     "execution_count": 199,
     "metadata": {},
     "output_type": "execute_result"
    },
    {
     "data": {
      "image/png": "[encoded data removed]",
      "text/plain": [
       "<Figure size 432x288 with 1 Axes>"
      ]
     },
     "metadata": {
      "needs_background": "light"
     },
     "output_type": "display_data"
    }
   ],
   "source": [
    "pt = 100000\n",
    "plt.plot(X_valid[pt,:], label = 'X - original')\n",
    "plt.plot(E_x_valid[pt,:], label='X - truncated')\n",
    "#plt.xlim(0,50)\n",
    "plt.legend()"
   ]
  },
  {
   "cell_type": "code",
   "execution_count": 137,
   "metadata": {
    "collapsed": true
   },
   "outputs": [],
   "source": [
    "# # valid_variance_eof = lim.calc_gm_polar_variance(valid_var,valid_var_mon,\n",
    "# #                                                 fields,lat_2d[:,0],lon_2d[0,:])\n",
    "# valid_variance_full = lim.calc_gm_polar_variance(valid_var_full,valid_var_mon_full,\n",
    "#                                                  fields,lat_2d[:,0],lon_2d[0,:])\n",
    "\n",
    "# for v,var in enumerate(limvars):\n",
    "#     print(var)\n",
    "# #    valid_variance_eof[var+'_lalo'] = np.reshape(valid_var[fields[var]],[nlat,nlon])\n",
    "#     valid_variance_full[var+'_lalo'] = np.reshape(valid_var_full[fields[var]],[nlat,nlon])\n",
    "# #    valid_variance_eof[var+'_mon_lalo'] = np.reshape(valid_var_mon[fields[var]],\n",
    "# #                                                     [nlat,nlon,12])\n",
    "# #     valid_variance_full[var+'_mon_lalo'] = np.reshape(valid_var_mon_full[fields[var]],\n",
    "# #                                                       [nlat,nlon,12])"
   ]
  },
  {
   "cell_type": "code",
   "execution_count": 49,
   "metadata": {},
   "outputs": [
    {
     "name": "stdout",
     "output_type": "stream",
     "text": [
      "Training LIM with tau = 1\n"
     ]
    }
   ],
   "source": [
    "# train the LIM\n",
    "LIMd, G = lim.LIM_train(tau,x_train)\n",
    "print('Training LIM with tau = '+str(tau))"
   ]
  },
  {
   "cell_type": "code",
   "execution_count": 202,
   "metadata": {
    "collapsed": true
   },
   "outputs": [],
   "source": [
    "#x_train_mon = np.reshape(x_train,(x_train.shape[0],1001,2))"
   ]
  },
  {
   "cell_type": "code",
   "execution_count": 204,
   "metadata": {},
   "outputs": [
    {
     "data": {
      "text/plain": [
       "(30, 600)"
      ]
     },
     "execution_count": 204,
     "metadata": {},
     "output_type": "execute_result"
    }
   ],
   "source": [
    "x_train.shape"
   ]
  },
  {
   "cell_type": "code",
   "execution_count": 51,
   "metadata": {
    "collapsed": true
   },
   "outputs": [],
   "source": [
    "LIMd2, G2 = lim.LIM_train_flex(tau,x_train, x_train2)"
   ]
  },
  {
   "cell_type": "code",
   "execution_count": 52,
   "metadata": {},
   "outputs": [
    {
     "name": "stdout",
     "output_type": "stream",
     "text": [
      "t= 1\n"
     ]
    },
    {
     "ename": "ValueError",
     "evalue": "could not broadcast input array from shape (149504) into shape (225280)",
     "output_type": "error",
     "traceback": [
      "\u001b[0;31m---------------------------------------------------------------------------\u001b[0m",
      "\u001b[0;31mValueError\u001b[0m                                Traceback (most recent call last)",
      "\u001b[0;32m<ipython-input-52-20878c51e74d>\u001b[0m in \u001b[0;36m<module>\u001b[0;34m()\u001b[0m\n\u001b[1;32m     13\u001b[0m LIMfd_valid = lim.LIM_forecast_test(G,x_valid,lags,E_valid,truth,yrs_valid,len(limvars),ndof,\n\u001b[1;32m     14\u001b[0m                                     \u001b[0mnmodes\u001b[0m\u001b[0;34m=\u001b[0m\u001b[0mnmodes\u001b[0m\u001b[0;34m,\u001b[0m\u001b[0mnmodes_sic\u001b[0m\u001b[0;34m=\u001b[0m\u001b[0mnmodes_sic\u001b[0m\u001b[0;34m,\u001b[0m\u001b[0mE_sic\u001b[0m\u001b[0;34m=\u001b[0m\u001b[0mE_sic_valid\u001b[0m\u001b[0;34m,\u001b[0m\u001b[0;34m\u001b[0m\u001b[0m\n\u001b[0;32m---> 15\u001b[0;31m                                     sic_separate=sic_separate)\n\u001b[0m",
      "\u001b[0;32m~/Documents/si_analysis_kb/LIMs/SI_LIMs/LIM_utils.py\u001b[0m in \u001b[0;36mLIM_forecast_test\u001b[0;34m(G, x, lags, E, truth, yrs_valid, nvar, nlalo, nmodes, nmodes_sic, E_sic, sic_separate)\u001b[0m\n\u001b[1;32m    361\u001b[0m \u001b[0;34m\u001b[0m\u001b[0m\n\u001b[1;32m    362\u001b[0m         \u001b[0;31m# error variance as a function of space and forecast lead time ~(ndof,ntims)\u001b[0m\u001b[0;34m\u001b[0m\u001b[0;34m\u001b[0m\u001b[0m\n\u001b[0;32m--> 363\u001b[0;31m         \u001b[0merror\u001b[0m\u001b[0;34m[\u001b[0m\u001b[0;34m:\u001b[0m\u001b[0;34m,\u001b[0m\u001b[0mk\u001b[0m\u001b[0;34m]\u001b[0m \u001b[0;34m=\u001b[0m \u001b[0mnp\u001b[0m\u001b[0;34m.\u001b[0m\u001b[0mvar\u001b[0m\u001b[0;34m(\u001b[0m\u001b[0mX_predict\u001b[0m \u001b[0;34m-\u001b[0m \u001b[0mX_truth\u001b[0m\u001b[0;34m,\u001b[0m\u001b[0maxis\u001b[0m\u001b[0;34m=\u001b[0m\u001b[0;36m1\u001b[0m\u001b[0;34m,\u001b[0m\u001b[0mddof\u001b[0m\u001b[0;34m=\u001b[0m\u001b[0;36m1\u001b[0m\u001b[0;34m)\u001b[0m\u001b[0;34m\u001b[0m\u001b[0m\n\u001b[0m\u001b[1;32m    364\u001b[0m \u001b[0;34m\u001b[0m\u001b[0m\n\u001b[1;32m    365\u001b[0m     \u001b[0;31m# return the LIM forecast error dictionary\u001b[0m\u001b[0;34m\u001b[0m\u001b[0;34m\u001b[0m\u001b[0m\n",
      "\u001b[0;31mValueError\u001b[0m: could not broadcast input array from shape (149504) into shape (225280)"
     ]
    }
   ],
   "source": [
    "# LIM forecasts for a range of monthly values (can specify a list of arbitrary values too)\n",
    "lags = [1]\n",
    "#lags = [0,3,6,12]\n",
    "ntims = len(lags)\n",
    "\n",
    "# training data\n",
    "#truth = np.real(np.matmul(E,x_train))\n",
    "#truth = X[:,train_inds]\n",
    "#LIMfd_train = LIM_utils.LIM_forecast(LIMd,x_train,lags,E,truth)\n",
    "\n",
    "# validation data\n",
    "#truth = np.real(np.matmul(E,x_valid))\n",
    "LIMfd_valid = lim.LIM_forecast_test(G,x_valid,lags,E_valid,truth,yrs_valid,len(limvars),ndof,\n",
    "                                    nmodes=nmodes,nmodes_sic=nmodes_sic,E_sic=E_sic_valid,\n",
    "                                    sic_separate=sic_separate)"
   ]
  },
  {
   "cell_type": "code",
   "execution_count": 141,
   "metadata": {},
   "outputs": [
    {
     "name": "stdout",
     "output_type": "stream",
     "text": [
      "working on tas\n",
      "working on psl\n",
      "working on tos\n",
      "working on sit\n",
      "working on sic\n"
     ]
    }
   ],
   "source": [
    "truth_state = {}\n",
    "nlat = lat_2d[:,0].shape[0]\n",
    "nlon = lon_2d[0,:].shape[0]\n",
    "\n",
    "for v,var in enumerate(limvars):\n",
    "    print('working on '+str(var))\n",
    "    if sic_separate is True: \n",
    "        Truth = lim.decompress_eof(truth,E,E_sic=E_sic,\n",
    "                                   nmodes=nmodes,nmodes_sic=nmodes_sic,\n",
    "                                   sic_separate=sic_separate)\n",
    "    else: \n",
    "        Truth = np.matmul(E,truth)\n",
    "#            print(Truth.shape)\n",
    "    truth_3d = np.reshape(Truth[fields[var],:].T,[Truth.shape[1],nlat,nlon])\n",
    "    truth_gm,_,_ = LMR_utils.global_hemispheric_means(truth_3d[1:,:,:],lat_2d[:,0])\n",
    "    truth_pm = lim.polar_regional_means(truth_3d[1:,:,:],lat_2d[:,0],lon_2d[0,:])\n",
    "\n",
    "    truth_state[var+'_gm_mo_'+str(mo)] = truth_gm\n",
    "    truth_state[var+'_pm_mo_'+str(mo)] = truth_pm\n",
    "    truth_state[var+'_full_mo_'+str(mo)] = truth_3d"
   ]
  },
  {
   "cell_type": "code",
   "execution_count": 142,
   "metadata": {},
   "outputs": [
    {
     "data": {
      "text/plain": [
       "(1, 120, 1000)"
      ]
     },
     "execution_count": 142,
     "metadata": {},
     "output_type": "execute_result"
    }
   ],
   "source": [
    "LIMfd_valid['x_forecast'].shape"
   ]
  },
  {
   "cell_type": "code",
   "execution_count": 143,
   "metadata": {},
   "outputs": [
    {
     "name": "stdout",
     "output_type": "stream",
     "text": [
      "working on tas\n",
      "working on psl\n",
      "working on tos\n",
      "working on sit\n",
      "working on sic\n"
     ]
    }
   ],
   "source": [
    "forecast = {}\n",
    "\n",
    "for v,var in enumerate(limvars):\n",
    "    print('working on '+str(var))\n",
    "    if sic_separate is True: \n",
    "        fcast = lim.decompress_eof(LIMfd_valid['x_forecast'][0,:,:],E,E_sic=E_sic,\n",
    "                                      nmodes=nmodes,nmodes_sic=nmodes_sic,\n",
    "                                      sic_separate=sic_separate)\n",
    "    else: \n",
    "        fcast = np.matmul(E,LIMfd_valid['x_forecast'][0,:,:])\n",
    "#            print(Truth.shape)\n",
    "    forecast_3d = np.reshape(fcast[fields[var],:].T,[fcast.shape[1],nlat,nlon])\n",
    "    forecast_gm,_,_ = LMR_utils.global_hemispheric_means(forecast_3d[1:,:,:],lat_2d[:,0])\n",
    "    forecast_pm = lim.polar_regional_means(forecast_3d[1:,:,:],lat_2d[:,0],lon_2d[0,:])\n",
    "\n",
    "    forecast[var+'_gm_mo_'+str(mo)] = forecast_gm\n",
    "    forecast[var+'_pm_mo_'+str(mo)] = forecast_pm\n",
    "    forecast[var+'_full_mo_'+str(mo)] = forecast_3d"
   ]
  },
  {
   "cell_type": "code",
   "execution_count": 144,
   "metadata": {},
   "outputs": [
    {
     "name": "stdout",
     "output_type": "stream",
     "text": [
      "working on tas\n",
      "working on psl\n",
      "working on tos\n",
      "working on sit\n",
      "working on sic\n"
     ]
    }
   ],
   "source": [
    "ce = {}\n",
    "corr = {}\n",
    "\n",
    "for n,var in enumerate(limvars):\n",
    "    print('working on '+str(var))\n",
    "    ce_pm_lag = np.zeros((2))\n",
    "    corr_pm_lag = np.zeros((2))\n",
    "\n",
    "    ce_gm = LMR_utils.coefficient_efficiency(truth_state[var+'_gm_mo_'+str(mo)],\n",
    "                                                    forecast[var+'_gm_mo_'+str(mo)])\n",
    "    corr_gm = np.corrcoef(truth_state[var+'_gm_mo_'+str(mo)],\n",
    "                                 forecast[var+'_gm_mo_'+str(mo)])[0,1]\n",
    "\n",
    "    for n in range(2):\n",
    "        ce_pm_lag[n] = LMR_utils.coefficient_efficiency(truth_state[var+'_pm_mo_'+str(mo)][n,:],\n",
    "                                                          forecast[var+'_pm_mo_'+str(mo)][n,:])\n",
    "        corr_pm_lag[n] = np.corrcoef(truth_state[var+'_pm_mo_'+str(mo)][n,:],\n",
    "                                       forecast[var+'_pm_mo_'+str(mo)][n,:])[0,1]\n",
    "\n",
    "    ce[var+'_gm_mo_'+str(mo)] = ce_gm\n",
    "    ce[var+'_pm_mo_'+str(mo)] = ce_pm_lag\n",
    "    corr[var+'_gm_mo_'+str(mo)] = corr_gm\n",
    "    corr[var+'_pm_mo_'+str(mo)] = corr_pm_lag"
   ]
  },
  {
   "cell_type": "code",
   "execution_count": 148,
   "metadata": {},
   "outputs": [
    {
     "data": {
      "text/plain": [
       "[<matplotlib.lines.Line2D at 0x7f31fc63e0f0>]"
      ]
     },
     "execution_count": 148,
     "metadata": {},
     "output_type": "execute_result"
    },
    {
     "data": {
      "image/png": "[encoded data removed]",
      "text/plain": [
       "<Figure size 432x288 with 1 Axes>"
      ]
     },
     "metadata": {
      "needs_background": "light"
     },
     "output_type": "display_data"
    }
   ],
   "source": [
    "plt.plot(forecast['tas_gm_mo_'+str(mo)])\n",
    "plt.plot(truth_state['tas_gm_mo_'+str(mo)])"
   ]
  },
  {
   "cell_type": "code",
   "execution_count": 145,
   "metadata": {},
   "outputs": [
    {
     "name": "stdout",
     "output_type": "stream",
     "text": [
      "tas\n",
      "GM CE = -403.25880941645715 GM Corr = -0.024220206464738832\n",
      "psl\n",
      "GM CE = -741.4342540101476 GM Corr = -0.055287853100057884\n",
      "tos\n",
      "GM CE = -264.07100597064516 GM Corr = -0.03161414428771794\n",
      "sit\n",
      "GM CE = -342.94229872323535 GM Corr = -0.04336836101191847\n",
      "sic\n",
      "GM CE = -17.072935880843577 GM Corr = -0.019626058348466802\n"
     ]
    }
   ],
   "source": [
    "for var in limvars: \n",
    "    print(var)\n",
    "    print('GM CE = '+str(ce[var+'_gm_mo_'+str(mo)])+' GM Corr = '+ str(corr[var+'_gm_mo_'+str(mo)]))"
   ]
  },
  {
   "cell_type": "code",
   "execution_count": 38,
   "metadata": {},
   "outputs": [
    {
     "name": "stdout",
     "output_type": "stream",
     "text": [
      "working on tas\n",
      "working on psl\n",
      "working on tos\n",
      "working on sic\n"
     ]
    }
   ],
   "source": [
    "ce_ar1, corr_ar1= lim.calc_ce_corr_ar_lags(X_valid,X_train,lags,limvars,\n",
    "                                           lat_2d[:,0],lon_2d[0,:])"
   ]
  },
  {
   "cell_type": "code",
   "execution_count": 39,
   "metadata": {},
   "outputs": [
    {
     "name": "stdout",
     "output_type": "stream",
     "text": [
      "working on tas\n",
      "working on psl\n",
      "working on tos\n"
     ]
    },
    {
     "name": "stderr",
     "output_type": "stream",
     "text": [
      "/home/disk/p/mkb22/Documents/si_analysis_kb/LIMs/SI_LIMs/LIM_utils.py:797: RuntimeWarning: invalid value encountered in true_divide\n",
      "  lac = cov / std\n"
     ]
    },
    {
     "name": "stdout",
     "output_type": "stream",
     "text": [
      "working on sic\n"
     ]
    }
   ],
   "source": [
    "ce_ar1_valid, corr_ar1_valid = lim.calc_ce_corr_ar_lags(X_valid,X_valid,lags,\n",
    "                                                        limvars,lat_2d[:,0], lon_2d[0,:])"
   ]
  },
  {
   "cell_type": "code",
   "execution_count": null,
   "metadata": {
    "collapsed": true
   },
   "outputs": [],
   "source": [
    "X_valid.shape"
   ]
  },
  {
   "cell_type": "code",
   "execution_count": null,
   "metadata": {
    "collapsed": true
   },
   "outputs": [],
   "source": [
    "Xv.shape"
   ]
  },
  {
   "cell_type": "code",
   "execution_count": 112,
   "metadata": {},
   "outputs": [
    {
     "name": "stderr",
     "output_type": "stream",
     "text": [
      "/home/disk/p/mkb22/Documents/si_analysis_kb/LIMs/SI_LIMs/LIM_utils.py:793: RuntimeWarning: invalid value encountered in true_divide\n",
      "  lac = cov / std\n"
     ]
    }
   ],
   "source": [
    "v = 3\n",
    "var = 'tos'\n",
    "Xt = X_valid\n",
    "Xv = X_valid\n",
    "lat = lat_2d[:,0]\n",
    "lon = lon_2d[0,:]\n",
    "l = np.arange(1,2,1)\n",
    "\n",
    "ar1_gm = np.zeros((len(l),Xv.shape[2]))\n",
    "ar1_pm = np.zeros((len(l),2,Xv.shape[2]))\n",
    "ce_pm = np.zeros((len(l),2))\n",
    "corr_pm = np.zeros((len(l),2))\n",
    "\n",
    "for i,lag in enumerate(l):\n",
    "    ar1_forecast, ar1_factor = lim.red_noise_forecast_ar1(Xt[v,:].T,Xv[v,:].T,lead=lag)\n",
    "    ar1_forecast_3d = np.reshape(ar1_forecast,(ar1_forecast.shape[0],nlat,nlon))\n",
    "    X_valid_3d = np.reshape(Xv[v,:].T,(Xv.shape[2],nlat,nlon))\n",
    "    ar1_gm[i,lag:],_,_ = LMR_utils.global_hemispheric_means(ar1_forecast_3d,lat)\n",
    "    ar1_pm[i,:,lag:] = lim.polar_regional_means(ar1_forecast_3d,lat,lon)\n",
    "\n",
    "    true_gm,_,_ = LMR_utils.global_hemispheric_means(X_valid_3d,lat)\n",
    "    true_pm = lim.polar_regional_means(X_valid_3d,lat,lon)\n",
    "\n",
    "    ce_gm = LMR_utils.coefficient_efficiency(true_gm[lag:],ar1_gm[i,lag:])\n",
    "    corr_gm = np.corrcoef(true_gm[lag:],ar1_gm[i,lag:])[0,1]\n",
    "    for n in range(2):\n",
    "        ce_pm[i,n] = LMR_utils.coefficient_efficiency(true_pm[n,lag:],ar1_pm[i,n,lag:])\n",
    "        corr_pm[i,n] = np.corrcoef(true_pm[n,lag:],ar1_pm[i,n,lag:])[0,1]"
   ]
  },
  {
   "cell_type": "code",
   "execution_count": 122,
   "metadata": {},
   "outputs": [
    {
     "data": {
      "text/plain": [
       "(-0.00033366700033366306, (12000, 3240))"
      ]
     },
     "execution_count": 122,
     "metadata": {},
     "output_type": "execute_result"
    }
   ],
   "source": [
    "np.nanmin(ar1_factor), Xv[v,:].T.shape"
   ]
  },
  {
   "cell_type": "code",
   "execution_count": 125,
   "metadata": {},
   "outputs": [
    {
     "data": {
      "text/plain": [
       "(11999, 3240)"
      ]
     },
     "execution_count": 125,
     "metadata": {},
     "output_type": "execute_result"
    }
   ],
   "source": [
    "ar1_forecast.shape"
   ]
  },
  {
   "cell_type": "code",
   "execution_count": 106,
   "metadata": {},
   "outputs": [
    {
     "data": {
      "text/plain": [
       "0.9848644683160668"
      ]
     },
     "execution_count": 106,
     "metadata": {},
     "output_type": "execute_result"
    }
   ],
   "source": [
    "corr_gm"
   ]
  },
  {
   "cell_type": "code",
   "execution_count": 110,
   "metadata": {},
   "outputs": [
    {
     "data": {
      "text/plain": [
       "0.9848644683160668"
      ]
     },
     "execution_count": 110,
     "metadata": {},
     "output_type": "execute_result"
    }
   ],
   "source": [
    "np.corrcoef(true_gm[1:],ar1_gm[0,1:])[0,1]"
   ]
  },
  {
   "cell_type": "code",
   "execution_count": 108,
   "metadata": {},
   "outputs": [
    {
     "data": {
      "text/plain": [
       "<matplotlib.legend.Legend at 0x7efd8cbcab38>"
      ]
     },
     "execution_count": 108,
     "metadata": {},
     "output_type": "execute_result"
    },
    {
     "data": {
      "image/png": "[encoded data removed]",
      "text/plain": [
       "<Figure size 432x288 with 1 Axes>"
      ]
     },
     "metadata": {
      "needs_background": "light"
     },
     "output_type": "display_data"
    }
   ],
   "source": [
    "plt.plot(true_gm[1:], label='True')\n",
    "plt.plot(ar1_gm[0,2:], label='AR1')\n",
    "plt.xlim(0,100)\n",
    "plt.legend()"
   ]
  },
  {
   "cell_type": "code",
   "execution_count": null,
   "metadata": {
    "collapsed": true
   },
   "outputs": [],
   "source": []
  },
  {
   "cell_type": "markdown",
   "metadata": {},
   "source": [
    "#### check in eof space: "
   ]
  },
  {
   "cell_type": "code",
   "execution_count": null,
   "metadata": {
    "collapsed": true
   },
   "outputs": [],
   "source": [
    "truth_eof = np.matmul(E_sic,x_valid_sic)\n",
    "truth_eof_gm,_,_ = LMR_utils.global_hemispheric_means(np.reshape(truth_eof.T,(7212,45,72)), lat_2d[:,0])"
   ]
  },
  {
   "cell_type": "code",
   "execution_count": null,
   "metadata": {
    "collapsed": true
   },
   "outputs": [],
   "source": [
    "truth_state['sic_gm'].shape"
   ]
  },
  {
   "cell_type": "code",
   "execution_count": null,
   "metadata": {
    "collapsed": true
   },
   "outputs": [],
   "source": [
    "plt.plot(truth_state['sic_gm'][0,:],label='truth')\n",
    "plt.plot(forecast['sic_gm'][0,:],label='forecast')\n",
    "plt.plot(truth_eof_gm,label='truth eof')\n",
    "plt.legend()\n",
    "plt.title('GM SIC')"
   ]
  },
  {
   "cell_type": "code",
   "execution_count": null,
   "metadata": {
    "collapsed": true
   },
   "outputs": [],
   "source": [
    "k=0\n",
    "ce_test = LMR_utils.coefficient_efficiency(truth_eof_gm,forecast[var+'_gm'][k,k:])\n",
    "corr_test = np.corrcoef(truth_eof_gm,forecast[var+'_gm'][k,k:])[0,1]\n",
    "corr_test, ce_test"
   ]
  },
  {
   "cell_type": "code",
   "execution_count": 148,
   "metadata": {},
   "outputs": [
    {
     "data": {
      "text/plain": [
       "array([0.        , 0.98486447, 0.96391541, 0.93804171, 0.90800665,\n",
       "       0.87682375, 0.84661718, 0.81847671, 0.79224612, 0.76764925,\n",
       "       0.74339473, 0.71778917, 0.69008076])"
      ]
     },
     "execution_count": 148,
     "metadata": {},
     "output_type": "execute_result"
    }
   ],
   "source": [
    "corr_ar1_valid['tos_gm']"
   ]
  },
  {
   "cell_type": "markdown",
   "metadata": {},
   "source": [
    "### Plotting: "
   ]
  },
  {
   "cell_type": "code",
   "execution_count": 48,
   "metadata": {},
   "outputs": [
    {
     "data": {
      "image/png": "[encoded data removed]",
      "text/plain": [
       "<Figure size 1440x360 with 8 Axes>"
      ]
     },
     "metadata": {
      "needs_background": "light"
     },
     "output_type": "display_data"
    }
   ],
   "source": [
    "color_list = ['tomato','dodgerblue','m','c','orange','k']\n",
    "\n",
    "fig,ax = plt.subplots(2,len(limvars), figsize=(20,5),sharex=True, sharey=True)\n",
    "ax = ax.flatten()\n",
    "\n",
    "for n,var in enumerate(limvars): \n",
    "    ax[n].plot(lags,ce[var+'_gm'],color=color_list[1],\n",
    "             linestyle='-',linewidth=2.5)\n",
    "    ax[n].plot(lags,corr[var+'_gm'],color=color_list[0],\n",
    "             linestyle='-',linewidth=2.5)\n",
    "    ax[n+len(limvars)].plot(lags,ce[var+'_pm'][:,0],color=color_list[1],\n",
    "             linestyle='-', label='CE',linewidth=2.5)\n",
    "    ax[n+len(limvars)].plot(lags,corr[var+'_pm'][:,0],color=color_list[0],\n",
    "             linestyle='-', label='Corr',linewidth=2.5)\n",
    "    \n",
    "for n,var in enumerate(limvars): \n",
    "    ax[n].plot(lags[1:],ce_ar1[var+'_gm'][1:],color=color_list[1],\n",
    "             linestyle='--',alpha=0.6, linewidth=2.5)\n",
    "    ax[n].plot(lags[1:],corr_ar1[var+'_gm'][1:],color=color_list[0],\n",
    "             linestyle='--',alpha=0.6, linewidth=2.5)\n",
    "    ax[n+len(limvars)].plot(lags[1:],ce_ar1[var+'_pm'][1:,0],color=color_list[1],\n",
    "             linestyle='--',alpha=0.6, linewidth=2.5, label='AR(1) CE')\n",
    "    ax[n+len(limvars)].plot(lags[1:],corr_ar1[var+'_pm'][1:,0],color=color_list[0],\n",
    "             linestyle='--',alpha=0.6, linewidth=2.5, label='AR(1) Corr')\n",
    "\n",
    "ax[0].set_ylabel('Global mean', fontsize=14)\n",
    "ax[len(limvars)].set_ylabel('Arctic mean', fontsize=14)\n",
    "\n",
    "for n in np.arange(len(limvars),len(limvars)*2,1):\n",
    "    ax[n].set_xlabel('Forecast lead time (months)', fontsize=14)\n",
    "    ax[n].set_xticks(np.arange(0,13,1))\n",
    "\n",
    "for n,var in enumerate(limvars):\n",
    "    ax[n].set_title(full_names[var], fontsize=14)\n",
    "\n",
    "for n in range(2*len(limvars)):\n",
    "    ax[n].grid(which='both')\n",
    "    ax[n].set_xlim(0,12)\n",
    "    ax[n].set_ylim(-0.10,1.1)\n",
    "plt.xlabel('Forecast lead time (months)', fontsize=14)\n",
    "\n",
    "ax[7].legend(loc='upper right', fontsize=14)\n",
    "#ax[-1].legend(bbox_to_anchor=([1,1,0,0]), fontsize=14)\n",
    "plt.tight_layout()\n",
    "\n",
    "#fig.set_title('LIM performance')\n",
    "\n",
    "save_dir = '/home/disk/p/mkb22/Documents/si_analysis_kb/LIMs/SI_LIMs/results/CCSM4_training_MPI_valid/'\n",
    "save_name = ('ce_corr_lags_lim_'+str(train_dsource)+'_'+'_'.join(limvars)+'_valid_'+\n",
    "             str(valid_dsource)+'_tau_'+str(tau)+'_'+today_date+'.png')\n",
    "plt.savefig((save_dir+save_name),dpi=300)"
   ]
  },
  {
   "cell_type": "code",
   "execution_count": 49,
   "metadata": {},
   "outputs": [
    {
     "data": {
      "image/png": "[encoded data removed]",
      "text/plain": [
       "<Figure size 648x360 with 4 Axes>"
      ]
     },
     "metadata": {
      "needs_background": "light"
     },
     "output_type": "display_data"
    }
   ],
   "source": [
    "color_list = ['tomato','dodgerblue','m','c','orange','k']\n",
    "varplot = ['tas','sic']\n",
    "\n",
    "fig,ax = plt.subplots(2,len(varplot), figsize=(9,5),sharex=True, sharey=True)\n",
    "ax = ax.flatten()\n",
    "\n",
    "for n,var in enumerate(varplot): \n",
    "    ax[n].plot(lags,ce[var+'_gm'],color=color_list[1],\n",
    "             linestyle='-',linewidth=2.5)\n",
    "    ax[n].plot(lags,corr[var+'_gm'],color=color_list[0],\n",
    "             linestyle='-',linewidth=2.5)\n",
    "    ax[n+len(varplot)].plot(lags,ce[var+'_pm'][:,0],color=color_list[1],\n",
    "             linestyle='-', label='CE',linewidth=2.5)\n",
    "    ax[n+len(varplot)].plot(lags,corr[var+'_pm'][:,0],color=color_list[0],\n",
    "             linestyle='-', label='Corr',linewidth=2.5)\n",
    "    \n",
    "for n,var in enumerate(varplot): \n",
    "    ax[n].plot(lags[1:],ce_ar1[var+'_gm'][1:],color=color_list[1],\n",
    "             linestyle='--',alpha=0.6, linewidth=2.5)\n",
    "    ax[n].plot(lags[1:],corr_ar1[var+'_gm'][1:],color=color_list[0],\n",
    "             linestyle='--',alpha=0.6, linewidth=2.5)\n",
    "    ax[n+len(varplot)].plot(lags[1:],ce_ar1[var+'_pm'][1:,0],color=color_list[1],\n",
    "             linestyle='--',alpha=0.6, linewidth=2.5, label='AR(1) CE')\n",
    "    ax[n+len(varplot)].plot(lags[1:],corr_ar1[var+'_pm'][1:,0],color=color_list[0],\n",
    "             linestyle='--',alpha=0.6, linewidth=2.5, label='AR(1) Corr')\n",
    "\n",
    "ax[0].set_ylabel('Global mean', fontsize=14)\n",
    "ax[len(varplot)].set_ylabel('Arctic mean', fontsize=14)\n",
    "\n",
    "for n in np.arange(len(varplot),len(varplot)*2,1):\n",
    "    ax[n].set_xlabel('Forecast lead time (months)', fontsize=14)\n",
    "    ax[n].set_xticks(np.arange(0,13,1))\n",
    "\n",
    "for n,var in enumerate(varplot):\n",
    "    ax[n].set_title(full_names[var], fontsize=14)\n",
    "\n",
    "for n in range(2*len(varplot)):\n",
    "    ax[n].grid(which='both')\n",
    "    ax[n].set_xlim(0,12)\n",
    "    ax[n].set_ylim(-0.10,1.1)\n",
    "plt.xlabel('Forecast lead time (months)', fontsize=14)\n",
    "\n",
    "ax[-1].legend(bbox_to_anchor=([1,1,0,0]), fontsize=14)\n",
    "plt.tight_layout()"
   ]
  },
  {
   "cell_type": "code",
   "execution_count": null,
   "metadata": {
    "collapsed": true
   },
   "outputs": [],
   "source": [
    "len(limvars)"
   ]
  },
  {
   "cell_type": "markdown",
   "metadata": {},
   "source": [
    "## Monthly performance: "
   ]
  },
  {
   "cell_type": "code",
   "execution_count": 50,
   "metadata": {
    "collapsed": true
   },
   "outputs": [],
   "source": [
    "ce_monthly = {}\n",
    "corr_monthly = {}\n",
    "l = 1\n",
    "\n",
    "for n,var in enumerate(limvars): \n",
    "    ce_pm_mon = np.zeros((12,2))\n",
    "    corr_pm_mon = np.zeros((12,2))\n",
    "    ce_gm_mon = np.zeros((12))\n",
    "    corr_gm_mon = np.zeros((12))\n",
    "    \n",
    "    truth_state_mon_gm = np.reshape(truth_state[0][var+'_gm'][1,12:],(nyrs_valid-1,12))\n",
    "    forecast_mon_gm = np.reshape(forecast[0][var+'_gm'][1,12:],(nyrs_valid-1,12))\n",
    "    truth_state_mon_pm = np.reshape(truth_state[0][var+'_pm'][1,:,12:],(2,nyrs_valid-1,12))\n",
    "    forecast_mon_pm = np.reshape(forecast[0][var+'_pm'][1,:,12:],(2,nyrs_valid-1,12))\n",
    "\n",
    "    for mon in range(12):\n",
    "        ce_gm_mon[mon] = LMR_utils.coefficient_efficiency(truth_state_mon_gm[:,mon],\n",
    "                                                          forecast_mon_gm[:,mon])\n",
    "        corr_gm_mon[mon] = np.corrcoef(truth_state_mon_gm[:,mon],\n",
    "                                     forecast_mon_gm[:,mon])[0,1]\n",
    "\n",
    "        for m in range(2):\n",
    "            ce_pm_mon[mon,m] = LMR_utils.coefficient_efficiency(truth_state_mon_pm[m,:,mon],\n",
    "                                                              forecast_mon_pm[m,:,mon])\n",
    "            corr_pm_mon[mon,m] = np.corrcoef(truth_state_mon_pm[m,:,mon],\n",
    "                                           forecast_mon_pm[m,:,mon])[0,1]\n",
    "\n",
    "    ce_monthly[var+'_pm'] = ce_pm_mon\n",
    "    corr_monthly[var+'_pm'] = corr_pm_mon\n",
    "    ce_monthly[var+'_gm'] = ce_gm_mon\n",
    "    corr_monthly[var+'_gm'] = corr_gm_mon"
   ]
  },
  {
   "cell_type": "code",
   "execution_count": 55,
   "metadata": {
    "collapsed": true
   },
   "outputs": [],
   "source": [
    "ce_mon_ar1, corr_mon_ar1 = lim.calc_ce_corr_ar_mon(X_valid,X_train,1,\n",
    "                                                   limvars,lat_2d[:,0],lon_2d[0,:])"
   ]
  },
  {
   "cell_type": "code",
   "execution_count": 58,
   "metadata": {},
   "outputs": [
    {
     "name": "stdout",
     "output_type": "stream",
     "text": [
      "tas\n",
      "psl\n",
      "tos\n",
      "sic\n"
     ]
    },
    {
     "data": {
      "image/png": "[encoded data removed]",
      "text/plain": [
       "<Figure size 1440x360 with 8 Axes>"
      ]
     },
     "metadata": {
      "needs_background": "light"
     },
     "output_type": "display_data"
    }
   ],
   "source": [
    "mlabels = ['Jan','Feb','Mar','Apr','May','June','July','Aug','Sept','Oct','Nov','Dec']\n",
    "\n",
    "fig,ax = plt.subplots(2,len(limvars), figsize=(20,5),sharex=True, sharey=True)\n",
    "ax = ax.flatten()\n",
    "\n",
    "for n,var in enumerate(limvars): \n",
    "    print(var)\n",
    "    ax[n].plot(np.arange(1,13,1),ce_monthly[var+'_gm'],color=color_list[1],\n",
    "             linestyle='-', label='CE', linewidth=2.5)\n",
    "    ax[n].plot(np.arange(1,13,1),corr_monthly[var+'_gm'],color=color_list[0],\n",
    "             linestyle='-', label='Correlation', linewidth=2.5)\n",
    "    ax[n+len(limvars)].plot(np.arange(1,13,1),ce_monthly[var+'_pm'][:,0],color=color_list[1],\n",
    "             linestyle='-', linewidth=2.5)\n",
    "    ax[n+len(limvars)].plot(np.arange(1,13,1),corr_monthly[var+'_pm'][:,0],color=color_list[0],\n",
    "             linestyle='-', linewidth=2.5)\n",
    "    \n",
    "for n,var in enumerate(limvars): \n",
    "    ax[n].plot(np.arange(1,13,1),ce_mon_ar1[var+'_gm'],color=color_list[1],\n",
    "             linestyle='--',alpha=0.6, linewidth=2.5)\n",
    "    ax[n].plot(np.arange(1,13,1),corr_mon_ar1[var+'_gm'],color=color_list[0],\n",
    "             linestyle='--',alpha=0.6, linewidth=2.5)\n",
    "    ax[n+len(limvars)].plot(np.arange(1,13,1),ce_mon_ar1[var+'_pm'][:,0],color=color_list[1],\n",
    "             linestyle='--',alpha=0.6, linewidth=2.5, label='AR(1) CE')\n",
    "    ax[n+len(limvars)].plot(np.arange(1,13,1),corr_mon_ar1[var+'_pm'][:,0],color=color_list[0],\n",
    "             linestyle='--',alpha=0.6, linewidth=2.5, label='AR(1) Corr')\n",
    "\n",
    "ax[0].set_ylabel('Global mean', fontsize=14)\n",
    "ax[len(limvars)].set_ylabel('Arctic mean', fontsize=14)\n",
    "\n",
    "for n in np.arange(len(limvars),len(limvars)*2,1):\n",
    "    ax[n].set_xlabel('Predicted month', fontsize=14)\n",
    "    ax[n].set_xticks(np.arange(1,13,1))\n",
    "    ax[n].set_xticklabels(mlabels, rotation=90)\n",
    "\n",
    "for n,var in enumerate(limvars):\n",
    "    ax[n].set_title(full_names[var], fontsize=14)\n",
    "\n",
    "for n in range(2*len(limvars)):\n",
    "    ax[n].grid(which='both')\n",
    "    ax[n].set_xlim(1,12)\n",
    "    ax[n].set_ylim(-0.10,1.1)\n",
    "\n",
    "ax[0].legend(loc='lower left')\n",
    "plt.tight_layout()\n",
    "\n",
    "save_name = ('ce_corr_mon_lim_'+str(train_dsource)+'_'+'_'.join(limvars)+'_valid_'+\n",
    "             str(valid_dsource)+'_tau_'+str(tau)+'_'+today_date+'.png')\n",
    "plt.savefig((save_dir+save_name),dpi=300)"
   ]
  },
  {
   "cell_type": "code",
   "execution_count": 59,
   "metadata": {},
   "outputs": [
    {
     "name": "stdout",
     "output_type": "stream",
     "text": [
      "tas\n",
      "sic\n"
     ]
    },
    {
     "data": {
      "image/png": "[encoded data removed]",
      "text/plain": [
       "<Figure size 648x360 with 4 Axes>"
      ]
     },
     "metadata": {
      "needs_background": "light"
     },
     "output_type": "display_data"
    }
   ],
   "source": [
    "mlabels = ['Jan','Feb','Mar','Apr','May','June','July','Aug','Sept','Oct','Nov','Dec']\n",
    "\n",
    "fig,ax = plt.subplots(2,len(varplot), figsize=(9,5),sharex=True, sharey=True)\n",
    "ax = ax.flatten()\n",
    "\n",
    "for n,var in enumerate(varplot): \n",
    "    print(var)\n",
    "    ax[n].plot(np.arange(1,13,1),ce_monthly[var+'_gm'],color=color_list[1],\n",
    "             linestyle='-', label='CE', linewidth=2.5)\n",
    "    ax[n].plot(np.arange(1,13,1),corr_monthly[var+'_gm'],color=color_list[0],\n",
    "             linestyle='-', label='Correlation', linewidth=2.5)\n",
    "    ax[n+len(varplot)].plot(np.arange(1,13,1),ce_monthly[var+'_pm'][:,0],color=color_list[1],\n",
    "             linestyle='-', linewidth=2.5)\n",
    "    ax[n+len(varplot)].plot(np.arange(1,13,1),corr_monthly[var+'_pm'][:,0],color=color_list[0],\n",
    "             linestyle='-', linewidth=2.5)\n",
    "    \n",
    "for n,var in enumerate(varplot): \n",
    "    ax[n].plot(np.arange(1,13,1),ce_mon_ar1[var+'_gm'],color=color_list[1],\n",
    "             linestyle='--',alpha=0.6, linewidth=2.5)\n",
    "    ax[n].plot(np.arange(1,13,1),corr_mon_ar1[var+'_gm'],color=color_list[0],\n",
    "             linestyle='--',alpha=0.6, linewidth=2.5)\n",
    "    ax[n+len(varplot)].plot(np.arange(1,13,1),ce_mon_ar1[var+'_pm'][:,0],color=color_list[1],\n",
    "             linestyle='--',alpha=0.6, linewidth=2.5, label='AR(1) CE')\n",
    "    ax[n+len(varplot)].plot(np.arange(1,13,1),corr_mon_ar1[var+'_pm'][:,0],color=color_list[0],\n",
    "             linestyle='--',alpha=0.6, linewidth=2.5, label='AR(1) Corr')\n",
    "\n",
    "ax[0].set_ylabel('Global mean', fontsize=14)\n",
    "ax[len(varplot)].set_ylabel('Arctic mean', fontsize=14)\n",
    "\n",
    "for n in np.arange(len(varplot),len(varplot)*2,1):\n",
    "    ax[n].set_xlabel('Predicted month', fontsize=14)\n",
    "    ax[n].set_xticks(np.arange(1,13,1))\n",
    "    ax[n].set_xticklabels(mlabels, rotation=90)\n",
    "\n",
    "for n,var in enumerate(varplot):\n",
    "    ax[n].set_title(full_names[var], fontsize=14)\n",
    "\n",
    "for n in range(2*len(varplot)):\n",
    "    ax[n].grid(which='both')\n",
    "    ax[n].set_xlim(1,12)\n",
    "    ax[n].set_ylim(-0.10,1.1)\n",
    "\n",
    "ax[0].legend(loc='lower left')\n",
    "plt.tight_layout()"
   ]
  },
  {
   "cell_type": "code",
   "execution_count": null,
   "metadata": {
    "collapsed": true
   },
   "outputs": [],
   "source": [
    "truth.shape"
   ]
  },
  {
   "cell_type": "markdown",
   "metadata": {},
   "source": [
    "#### Spatial Plots: "
   ]
  },
  {
   "cell_type": "code",
   "execution_count": null,
   "metadata": {
    "collapsed": true
   },
   "outputs": [],
   "source": [
    "var = 'sic'\n",
    "lag = 1\n",
    "\n",
    "ce_lalo = np.zeros((nlat*nlon))\n",
    "corr_lalo = np.zeros((nlat*nlon))\n",
    "\n",
    "truth_full = np.nan_to_num(np.reshape(truth_state[0][var+'_full'],\n",
    "                                      (truth_state[0][var+'_full'].shape[0],nlat*nlon)))\n",
    "forecast_full = np.nan_to_num(np.reshape(forecast[0][var+'_full'],\n",
    "                                         (forecast[0][var+'_full'].shape[0],nlat*nlon)))\n",
    "\n",
    "for s in range(nlat*nlon):\n",
    "    ce_lalo[s] = LMR_utils.coefficient_efficiency(truth_full[lag:,s],\n",
    "                                                  forecast_full[lag:,s])\n",
    "    corr_lalo[s] = np.corrcoef(truth_full[lag:,s],\n",
    "                               forecast_full[lag:,s])[0,1]\n",
    "\n",
    "ce_2d = np.reshape(ce_lalo,(nlat,nlon))                           \n",
    "corr_2d = np.reshape(corr_lalo,(nlat,nlon))  "
   ]
  },
  {
   "cell_type": "code",
   "execution_count": null,
   "metadata": {
    "collapsed": true
   },
   "outputs": [],
   "source": [
    "fig,ax = plt.subplots(1,2, figsize=(10,4), subplot_kw = arc_proj)\n",
    "ax = ax.flatten()\n",
    "\n",
    "lim.sub_arctic_plot(ax[0],fig,corr_2d,lat_2d,lon_2d, minv=-0.2, \n",
    "                    maxv=0.2,cmap='bwr')\n",
    "lim.sub_arctic_plot(ax[1],fig,ce_2d,lat_2d,lon_2d, minv=-0.2, \n",
    "                    maxv=0.2,cmap='bwr')\n",
    "\n",
    "ax[0].set_title('Correlation')\n",
    "ax[1].set_title('CE')\n",
    "\n",
    "plt.tight_layout()"
   ]
  },
  {
   "cell_type": "code",
   "execution_count": null,
   "metadata": {
    "collapsed": true
   },
   "outputs": [],
   "source": []
  },
  {
   "cell_type": "code",
   "execution_count": null,
   "metadata": {
    "collapsed": true
   },
   "outputs": [],
   "source": [
    "np.nanmin(corr_2d)"
   ]
  },
  {
   "cell_type": "code",
   "execution_count": null,
   "metadata": {
    "collapsed": true
   },
   "outputs": [],
   "source": []
  },
  {
   "cell_type": "code",
   "execution_count": null,
   "metadata": {
    "collapsed": true
   },
   "outputs": [],
   "source": []
  },
  {
   "cell_type": "code",
   "execution_count": null,
   "metadata": {
    "collapsed": true
   },
   "outputs": [],
   "source": [
    "for v,var in enumerate(limvars):\n",
    "    forecast_3d = np.moveaxis(np.reshape(LIMfd_valid['x_forecast'][0,fields[var],:],[nlat,nlon,12]),-1,0)\n",
    "    var_rmse_rs = np.moveaxis(np.reshape(rmse[fields[var],:],[nlat,nlon,12]),-1,0)\n",
    "    var_rmse_rs2 = np.reshape(rmse[fields[var],:].T, [12,nlat,nlon])\n",
    "    var_error_rs2 = np.reshape(error_mon[fields[var],:].T, [12,nlat,nlon])\n",
    "    rmse_lalo[var] = np.reshape(rmse[fields[var],:].T, [12,nlat,nlon])\n",
    "    \n",
    "    evar_mon_gm[var],_,_ = LMR_utils.global_hemispheric_means(var_error_rs,lat_2d[:,0])\n",
    "    rmse_mon_gm[var],_,_ = LMR_utils.global_hemispheric_means(var_rmse_rs,lat_2d[:,0])\n",
    "    rmse_mon_pm[var] = lim.polar_regional_means(var_rmse_rs2,lat_2d[:,0],lon_2d[0,:])\n",
    "    evar_mon_pm[var] = lim.polar_regional_means(var_error_rs2,lat_2d[:,0],lon_2d[0,:])"
   ]
  },
  {
   "cell_type": "code",
   "execution_count": null,
   "metadata": {
    "collapsed": true
   },
   "outputs": [],
   "source": [
    "[error_all_mon, \n",
    " error_mon, rmse,\n",
    "time_ermon] = lim.calc_forecast_error_by_mon(LIMfd_valid['x_forecast'],1, \n",
    "                                             truth,E,LIMfd_valid['time_forecast'],\n",
    "                                             len(limvars),ndof,\n",
    "                                             E_sic,nmodes,sic_separate=sic_separate)\n",
    "[error_all_mon_eof, \n",
    " error_mon_eof, rmse_eof, \n",
    " time_ermon2] = lim.calc_forecast_error_by_mon(LIMfd_valid['x_forecast'],1, \n",
    "                                               truth, E,LIMfd_valid['time_forecast'],\n",
    "                                               len(limvars),ndof,\n",
    "                                               E_sic,nmodes,sic_separate=sic_separate)\n",
    "rmse2 = np.mean(error_all_mon**2,axis=2)\n",
    "\n",
    "evar_mon_gm = {}\n",
    "rmse_mon_gm = {}\n",
    "evar_mon_pm = {}\n",
    "rmse_mon_pm = {}\n",
    "rmse_lalo = {}\n",
    "\n",
    "for v,var in enumerate(limvars):\n",
    "    var_error_rs = np.moveaxis(np.reshape(error_mon[fields[var],:],[nlat,nlon,12]),-1,0)\n",
    "    var_rmse_rs = np.moveaxis(np.reshape(rmse[fields[var],:],[nlat,nlon,12]),-1,0)\n",
    "    var_rmse_rs2 = np.reshape(rmse[fields[var],:].T, [12,nlat,nlon])\n",
    "    var_error_rs2 = np.reshape(error_mon[fields[var],:].T, [12,nlat,nlon])\n",
    "    rmse_lalo[var] = np.reshape(rmse[fields[var],:].T, [12,nlat,nlon])\n",
    "    \n",
    "    evar_mon_gm[var],_,_ = LMR_utils.global_hemispheric_means(var_error_rs,lat_2d[:,0])\n",
    "    rmse_mon_gm[var],_,_ = LMR_utils.global_hemispheric_means(var_rmse_rs,lat_2d[:,0])\n",
    "    rmse_mon_pm[var] = lim.polar_regional_means(var_rmse_rs2,lat_2d[:,0],lon_2d[0,:])\n",
    "    evar_mon_pm[var] = lim.polar_regional_means(var_error_rs2,lat_2d[:,0],lon_2d[0,:])"
   ]
  },
  {
   "cell_type": "code",
   "execution_count": null,
   "metadata": {
    "collapsed": true
   },
   "outputs": [],
   "source": [
    "# compute errors in both the EOF space and full grid point space\n",
    "err,err_gm = lim.LIM_forecast_error(LIMfd_valid,truth,E,lags,fields,lat_2d,\n",
    "                                    E_sic,nmodes,sic_separate=sic_separate)\n",
    "\n",
    "# err_eofs,err_gm_eofs = lim.LIM_forecast_error(LIMfd_valid,np.real(np.matmul(E,x_valid)),\n",
    "#                                               E,lags,fields,lat_2d,E_sic,nmodes,\n",
    "#                                               sic_separate=sic_separate)"
   ]
  },
  {
   "cell_type": "code",
   "execution_count": null,
   "metadata": {
    "collapsed": true
   },
   "outputs": [],
   "source": [
    "LIMfd_valid['x_forecast'].shape, truth.shape"
   ]
  },
  {
   "cell_type": "code",
   "execution_count": null,
   "metadata": {
    "collapsed": true
   },
   "outputs": [],
   "source": [
    "color_list = ['crimson','b','m','c','orange','k']\n",
    "\n",
    "for n,var in enumerate(limvars): \n",
    "    plt.plot(lags,err_gm[n,:]/valid_variance_full[var+'_gm'],\n",
    "             color=color_list[n],linestyle='-',label=var+' valid')\n",
    "#     plt.plot(lags,err_gm_eofs[n,:]/valid_variance_eof[var+'_gm'],\n",
    "#              color=color_list[n],linestyle='--',label=list(fields.keys())[n]+' valid eofs')\n",
    "\n",
    "plt.plot([lags[0],lags[-1]],[1,1],'k--')\n",
    "plt.xlabel('lead time (months)')\n",
    "plt.ylabel('total error variance')\n",
    "#plt.ylim(0,1)\n",
    "plt.legend()\n",
    "plt.title('LIM normalized global error variance')"
   ]
  },
  {
   "cell_type": "code",
   "execution_count": null,
   "metadata": {
    "collapsed": true
   },
   "outputs": [],
   "source": [
    "valid_variance_full.keys()"
   ]
  },
  {
   "cell_type": "code",
   "execution_count": null,
   "metadata": {
    "collapsed": true
   },
   "outputs": [],
   "source": [
    "evar_mon_pm['sic'].shape"
   ]
  },
  {
   "cell_type": "code",
   "execution_count": null,
   "metadata": {
    "collapsed": true
   },
   "outputs": [],
   "source": [
    "mlabels = ['Jan','Feb','Mar','Apr','May','June','July','Aug','Sept','Oct','Nov','Dec']\n",
    "\n",
    "plt.plot(range(12),evar_mon_gm['tas']/valid_variance_full['tas_gm'],\n",
    "         color='crimson',linestyle='-',label='tas GM')\n",
    "plt.plot(range(12),evar_mon_pm['sic'][0,:]/valid_variance_full['sic_polarm_mon'][0,:],\n",
    "         color='b',label='sic Arctic (60N)')\n",
    "    \n",
    "plt.axhline(1,0,12,color='k',linestyle='--')    \n",
    "plt.xticks(range(12),mlabels)\n",
    "plt.xlabel('forecasted month')\n",
    "plt.ylabel('total error variance')\n",
    "#plt.ylim(0,1)\n",
    "plt.legend()\n",
    "plt.title('LIM normalized error variance')"
   ]
  },
  {
   "cell_type": "code",
   "execution_count": null,
   "metadata": {
    "collapsed": true,
    "scrolled": true
   },
   "outputs": [],
   "source": [
    "#color_list = ['crimson','b']\n",
    "mlabels = ['Jan','Feb','Mar','Apr','May','June','July','Aug','Sept','Oct','Nov','Dec']\n",
    "\n",
    "plt.plot(range(12),rmse_mon_gm['tas']/np.sqrt(valid_variance_full['tas_gm_mon']),\n",
    "         color='crimson',linestyle='-',label='tas GM')\n",
    "plt.plot(range(12),rmse_mon_pm['sic'][0,:]/np.sqrt(valid_variance_full['sic_polarm_mon'][0,:]),\n",
    "         color='b',label='sic Arctic (60N)')\n",
    "plt.plot(range(12),rmse_mon_pm['sic'][1,:]/np.sqrt(valid_variance_full['sic_polarm_mon'][1,:]),\n",
    "         color='b',linestyle='--',label='sic Antarctic (60N)')\n",
    "    \n",
    "plt.axhline(1,0,12,color='k',linestyle='--')    \n",
    "plt.xticks(range(12),mlabels)\n",
    "plt.xlabel('forecasted month')\n",
    "plt.ylabel('Normalized RMSE')\n",
    "#plt.ylim(0.7,1.01)\n",
    "plt.legend()\n",
    "plt.title('LIM performance by month')"
   ]
  },
  {
   "cell_type": "code",
   "execution_count": null,
   "metadata": {
    "collapsed": true
   },
   "outputs": [],
   "source": [
    "fig,ax = plt.subplots(4,3, figsize=(8,9), subplot_kw = arc_proj)\n",
    "ax = ax.flatten()\n",
    "\n",
    "for m in range(12):\n",
    "    lim.sub_arctic_plot(ax[m],fig,rmse_lalo['sic'][m,:,:]/np.sqrt(valid_variance_full['sic_mon_lalo'][:,:,m]),\n",
    "                        lat_2d,lon_2d, minv=0.5, maxv=1,cmap='YlGnBu')\n",
    "    ax[m].set_title(mlabels[m])\n",
    "\n",
    "plt.tight_layout()\n",
    "\n",
    "# plt.savefig((save_dir+var_to_extract+'/'+var_to_extract+\n",
    "#              '_error_arctic_spatial_plots_randtime_eof'+str(nmodes)+'_tau'+\n",
    "#              str(tau)+'_'+today_date+'.png'),dpi=300)"
   ]
  },
  {
   "cell_type": "code",
   "execution_count": null,
   "metadata": {
    "collapsed": true
   },
   "outputs": [],
   "source": [
    "sic_rmse.shape"
   ]
  },
  {
   "cell_type": "code",
   "execution_count": null,
   "metadata": {
    "collapsed": true
   },
   "outputs": [],
   "source": [
    "# plot the coupled EOFs\n",
    "mode = 0\n",
    "lim.plot_map_vector(E[var_dict['var1']['var_inds'],mode],lat_2d,lon_2d)\n",
    "plt.title(list(fields.keys())[0]+' EOF '+str(mode+1))\n",
    "plt.show()\n",
    "lim.plot_map_vector(E[var_dict['var2']['var_inds'],mode],lat_2d,lon_2d)\n",
    "plt.title(list(fields.keys())[1]+' EOF '+str(mode+1))"
   ]
  },
  {
   "cell_type": "code",
   "execution_count": null,
   "metadata": {
    "collapsed": true
   },
   "outputs": [],
   "source": [
    "LIMd['vec'].shape"
   ]
  },
  {
   "cell_type": "code",
   "execution_count": null,
   "metadata": {
    "collapsed": true
   },
   "outputs": [],
   "source": []
  },
  {
   "cell_type": "code",
   "execution_count": null,
   "metadata": {
    "collapsed": true
   },
   "outputs": [],
   "source": []
  },
  {
   "cell_type": "code",
   "execution_count": null,
   "metadata": {
    "collapsed": true
   },
   "outputs": [],
   "source": []
  },
  {
   "cell_type": "code",
   "execution_count": null,
   "metadata": {
    "collapsed": true
   },
   "outputs": [],
   "source": []
  },
  {
   "cell_type": "code",
   "execution_count": null,
   "metadata": {
    "collapsed": true
   },
   "outputs": [],
   "source": []
  },
  {
   "cell_type": "code",
   "execution_count": null,
   "metadata": {
    "collapsed": true
   },
   "outputs": [],
   "source": []
  },
  {
   "cell_type": "code",
   "execution_count": null,
   "metadata": {
    "collapsed": true
   },
   "outputs": [],
   "source": []
  },
  {
   "cell_type": "code",
   "execution_count": null,
   "metadata": {
    "collapsed": true
   },
   "outputs": [],
   "source": []
  },
  {
   "cell_type": "code",
   "execution_count": null,
   "metadata": {
    "collapsed": true
   },
   "outputs": [],
   "source": []
  },
  {
   "cell_type": "code",
   "execution_count": null,
   "metadata": {
    "collapsed": true
   },
   "outputs": [],
   "source": []
  },
  {
   "cell_type": "code",
   "execution_count": null,
   "metadata": {
    "collapsed": true
   },
   "outputs": [],
   "source": [
    "fields"
   ]
  },
  {
   "cell_type": "code",
   "execution_count": null,
   "metadata": {
    "collapsed": true
   },
   "outputs": [],
   "source": [
    "var1_inds"
   ]
  },
  {
   "cell_type": "code",
   "execution_count": null,
   "metadata": {
    "collapsed": true
   },
   "outputs": [],
   "source": [
    "# reshape (nx,ntime)\n",
    "X = np.moveaxis(np.reshape(data_in_sic,[ntime,nlat*nlon]),0,-1) \n",
    "print('Original shape: '+str(data_in_sic.shape))\n",
    "print('Shape of X: '+str(X.shape))"
   ]
  },
  {
   "cell_type": "code",
   "execution_count": null,
   "metadata": {
    "collapsed": true
   },
   "outputs": [],
   "source": [
    "X_nonan = np.where(np.isnan(X.data),0,X.data)\n",
    "X_nonan_arctic = X_nonan\n",
    "X_nonan_arctic[np.where(lat_2d.reshape(nlat*nlon)<0),:] = 0"
   ]
  },
  {
   "cell_type": "code",
   "execution_count": null,
   "metadata": {
    "collapsed": true
   },
   "outputs": [],
   "source": [
    "plot_map_vector(X_nonan_arctic[:,800].data,lat_2d,lon_2d)"
   ]
  },
  {
   "cell_type": "code",
   "execution_count": null,
   "metadata": {
    "collapsed": true
   },
   "outputs": [],
   "source": [
    "X_nonan_arctic_mon = np.reshape(X_nonan_arctic,(3240,1001,12))\n",
    "X_arctic_FMA = X_nonan_arctic_mon[:,:,1:4].reshape(3240,3003) \n",
    "X_arctic_ASO = X_nonan_arctic_mon[:,:,7:10].reshape(3240,3003) \n",
    "\n",
    "X_arctic_FMA_anom = X_arctic_FMA - np.nanmean(X_arctic_FMA,axis=1)[:,np.newaxis]\n",
    "X_arctic_ASO_anom = X_arctic_FMA - np.nanmean(X_arctic_ASO,axis=1)[:,np.newaxis]"
   ]
  },
  {
   "cell_type": "code",
   "execution_count": null,
   "metadata": {
    "collapsed": true
   },
   "outputs": [],
   "source": [
    "var.shape, W.shape, X_check.shape"
   ]
  },
  {
   "cell_type": "code",
   "execution_count": null,
   "metadata": {
    "collapsed": true
   },
   "outputs": [],
   "source": [
    "var = X_nonan_arctic_mon[:,:,2] - np.nanmean(X_nonan_arctic_mon[:,:,2],axis=1)[:,np.newaxis]\n",
    "u,s,v,W = calc_eof(var, lat_2d)\n",
    "\n",
    "# check SVD\n",
    "print('checking svd (success for True response)...')\n",
    "X_check = np.matmul(np.matmul(u,np.diag(s)),v)\n",
    "print(np.allclose(X_check,W*var))"
   ]
  },
  {
   "cell_type": "code",
   "execution_count": null,
   "metadata": {
    "collapsed": true
   },
   "outputs": [],
   "source": [
    "plot_eigenvalues(s,var_to_extract)"
   ]
  },
  {
   "cell_type": "code",
   "execution_count": null,
   "metadata": {
    "collapsed": true
   },
   "outputs": [],
   "source": [
    "plot_map_vector(-u[:,0],lat_2d,lon_2d)"
   ]
  },
  {
   "cell_type": "code",
   "execution_count": null,
   "metadata": {
    "collapsed": true
   },
   "outputs": [],
   "source": [
    "# project data onto a subset of the EOF basis\n",
    "\n",
    "# EOF basis\n",
    "if var_to_extract == 'tos':\n",
    "    E = u[:,1:nmodes+1]\n",
    "else:\n",
    "    E = u[:,0:nmodes]\n",
    "\n",
    "# project---this doesn't work for tos? masked array/nan issue I don't understand\n",
    "#P = np.matmul(E.T,X)\n",
    "\n",
    "# alternative from SVD results. recall v is v.T in numpy. \n",
    "# NOTE: this is the projection with W weighting, which is not the same as projecting unweighted data\n",
    "\n",
    "# 7/13/2020: projection of unweighted data; tos doesn't work with this approach\n",
    "if var_to_extract == 'tos':\n",
    "    #P_w = np.matmul(np.diag(s[1:nmodes+1]),v[1:nmodes+1,:])\n",
    "    P = np.matmul(np.diag(s[1:nmodes+1]),v[1:nmodes+1,:])\n",
    "else:\n",
    "    #P_w = np.matmul(np.diag(s[0:nmodes]),v[0:nmodes,:])\n",
    "    P = np.matmul(E.T,var)"
   ]
  },
  {
   "cell_type": "code",
   "execution_count": null,
   "metadata": {
    "collapsed": true
   },
   "outputs": [],
   "source": [
    "# reconstruct from the limited projection, and compare with the original (error)\n",
    "check = np.matmul(E,P)\n",
    "print(np.max(check))\n",
    "print(check.shape)\n",
    "\n",
    "# pick a random time to plot\n",
    "itim = 21\n",
    "\n",
    "plot_map_vector(var[:,itim],lat_2d,lon_2d,maxv=3)\n",
    "plt.title('Original')\n",
    "plt.show()\n",
    "plot_map_vector(check[:,itim],lat_2d,lon_2d,maxv=3)\n",
    "plt.title('Limited EOF projection')\n",
    "plt.show()"
   ]
  },
  {
   "cell_type": "code",
   "execution_count": null,
   "metadata": {
    "collapsed": true
   },
   "outputs": [],
   "source": [
    "# make sure P has zero mean first !!!\n",
    "Pzero = np.max(np.abs(np.mean(P,axis=1)))\n",
    "if Pzero > 1e-6:\n",
    "    print('warning!!! the projected state does not have zero-mean in the time domain '\n",
    "         )"
   ]
  },
  {
   "cell_type": "code",
   "execution_count": null,
   "metadata": {
    "collapsed": true
   },
   "outputs": [],
   "source": [
    "ntrain = 500"
   ]
  },
  {
   "cell_type": "code",
   "execution_count": null,
   "metadata": {
    "collapsed": true
   },
   "outputs": [],
   "source": [
    "# prepare the data to train and test the LIM. separate data into training the validation sets \n",
    "tsamp = P.shape[1]\n",
    "\n",
    "train_inds = np.arange(0,ntrain)\n",
    "valid_inds = np.arange(ntrain,tsamp,1)\n",
    "x_train = P[:,train_inds]\n",
    "x_valid = P[:,valid_inds]\n",
    "print('training data shape: ',x_train.shape)\n",
    "print('validation data shape: ',x_valid.shape)"
   ]
  },
  {
   "cell_type": "code",
   "execution_count": null,
   "metadata": {
    "collapsed": true
   },
   "outputs": [],
   "source": [
    "# climo standardized variance for error normalization in training and validation (1=no skill)\n",
    "train_var = np.var(np.matmul(E,x_train),axis=1,ddof=1)\n",
    "valid_var = np.var(np.matmul(E,x_valid),axis=1,ddof=1)"
   ]
  },
  {
   "cell_type": "code",
   "execution_count": null,
   "metadata": {
    "collapsed": true
   },
   "outputs": [],
   "source": [
    "nt = x_train.shape[1]\n",
    "C_1 = np.matmul(x_train[:,tau:],x_train[:,:-tau].T)/(nt-1)\n",
    "tau"
   ]
  },
  {
   "cell_type": "code",
   "execution_count": null,
   "metadata": {
    "collapsed": true
   },
   "outputs": [],
   "source": [
    "C1_phys_space = np.matmul(C_1,E.T)\n",
    "\n",
    "plot_map_vector(C1_phys_space[0,:],lat_2d,lon_2d,maxv=3)\n",
    "plt.title('lagged_covariance')\n",
    "plt.show()"
   ]
  },
  {
   "cell_type": "code",
   "execution_count": null,
   "metadata": {
    "collapsed": true
   },
   "outputs": [],
   "source": [
    "tau = 1"
   ]
  },
  {
   "cell_type": "code",
   "execution_count": null,
   "metadata": {
    "collapsed": true
   },
   "outputs": [],
   "source": [
    "# train the LIM\n",
    "LIMd = LIM_train(tau,x_train)"
   ]
  },
  {
   "cell_type": "code",
   "execution_count": null,
   "metadata": {
    "collapsed": true
   },
   "outputs": [],
   "source": [
    "lags"
   ]
  },
  {
   "cell_type": "code",
   "execution_count": null,
   "metadata": {
    "collapsed": true
   },
   "outputs": [],
   "source": [
    "# LIM forecasts for a range of monthly values (can specify a list of arbitrary values too)\n",
    "lags = np.arange(4)\n",
    "#lags = [0,3,6,12]\n",
    "ntims = len(lags)\n",
    "\n",
    "# training data\n",
    "LIMfd_train = LIM_forecast(LIMd,x_train,lags,E)\n",
    "\n",
    "# validation data\n",
    "LIMfd_valid = LIM_forecast(LIMd,x_valid,lags,E)"
   ]
  },
  {
   "cell_type": "code",
   "execution_count": null,
   "metadata": {
    "collapsed": true
   },
   "outputs": [],
   "source": [
    "LIMfd_train.keys()"
   ]
  },
  {
   "cell_type": "code",
   "execution_count": null,
   "metadata": {
    "collapsed": true
   },
   "outputs": [],
   "source": [
    "# proper area-weighted global-mean values, including climo variance\n",
    "LIMfd_train_error_3d = np.reshape(LIMfd_train['error'],[nlat,nlon,ntims])\n",
    "LIMfd_valid_error_3d = np.reshape(LIMfd_valid['error'],[nlat,nlon,ntims])\n",
    "\n",
    "[train_gm_err,\n",
    " train_nh_err,\n",
    " train_sh_err] = LMR_utils.global_hemispheric_means(np.moveaxis(LIMfd_train_error_3d,-1,0),lat_2d[:,0])\n",
    "[train_gm_var,\n",
    " train_nh_var,\n",
    " train_sh_var] = LMR_utils.global_hemispheric_means(np.reshape(train_var[:,None],[nlat,nlon]),lat_2d[:,0])\n",
    "[valid_gm_err,\n",
    " valid_nh_err,\n",
    " valid_sh_err] = LMR_utils.global_hemispheric_means(np.moveaxis(LIMfd_valid_error_3d,-1,0),lat_2d[:,0])\n",
    "[valid_gm_var,\n",
    " valid_nh_var,\n",
    " valid_sh_var] = LMR_utils.global_hemispheric_means(np.reshape(valid_var[:,None],[nlat,nlon]),lat_2d[:,0])\n"
   ]
  },
  {
   "cell_type": "code",
   "execution_count": null,
   "metadata": {
    "collapsed": true
   },
   "outputs": [],
   "source": [
    "# plot global-mean normalized error variance\n",
    "plt.plot(lags,train_nh_err/train_nh_var,'b-',label='train')\n",
    "plt.plot(lags,valid_nh_err/valid_nh_var,'r-',label='valid')\n",
    "plt.plot([lags[0],lags[-1]],[1,1],'k--')\n",
    "plt.xlabel('lead time (months)')\n",
    "plt.ylabel('total error variance')\n",
    "plt.legend()\n",
    "plt.title('LIM normalized global error variance')\n",
    "#plt.savefig('LIM_error_growth_1_6_12months',dpi=300)"
   ]
  },
  {
   "cell_type": "code",
   "execution_count": null,
   "metadata": {
    "collapsed": true
   },
   "outputs": [],
   "source": [
    "# plot maps of select forecasts and errors for a chosen lag in months (and time, itime)\n",
    "ilag = 1\n",
    "plot_map_vector(LIMfd_train['error'][:,ilag]/train_var,lat_2d,lon_2d,cmap='PuOr_r')\n",
    "plt.title('Error')\n",
    "plt.show()\n",
    "itime = 1\n",
    "plot_map_vector(np.matmul(E,LIMfd_train['x_forecast'][ilag,:,itime]),lat_2d,lon_2d,minv=-4,maxv=4 )\n",
    "plt.title('Forecast state')\n",
    "plt.show()\n",
    "plot_map_vector(X_nonan_arctic[:,itime],lat_2d,lon_2d,minv=-4,maxv=4)\n",
    "plt.title('True state')\n",
    "plt.show()\n",
    "plot_map_vector(X_nonan_arctic[:,itime] -np.matmul(E,LIMfd_train['x_forecast'][ilag,:,itime]),lat_2d,lon_2d)\n",
    "plt.title('True - Forecast state')\n",
    "plt.show()"
   ]
  },
  {
   "cell_type": "code",
   "execution_count": null,
   "metadata": {
    "collapsed": true
   },
   "outputs": [],
   "source": [
    "forecast_state_train = np.matmul(E,LIMfd_train['x_forecast']) \n",
    "true_state_train = X_arctic_FMA[:,train_inds]\n",
    "true_state_train.shape, forecast_state_train.shape"
   ]
  },
  {
   "cell_type": "code",
   "execution_count": null,
   "metadata": {
    "collapsed": true
   },
   "outputs": [],
   "source": [
    "initialt = 1\n",
    "plt.plot(np.arange(0,13,1),true_state_train[3200,initialt:initialt+13], label='truth')\n",
    "plt.plot(np.arange(0,13,1),forecast_state_train[:,3200,initialt], label='forecast')\n",
    "plt.legend()\n",
    "\n",
    "r = np.zeros(4000-12)\n",
    "\n",
    "for it in range(4000-12):\n",
    "    r[it] = np.corrcoef(true_state_train[3000,it:it+13],forecast_state_train[:,3000,it])[0,1]"
   ]
  },
  {
   "cell_type": "code",
   "execution_count": null,
   "metadata": {
    "collapsed": true
   },
   "outputs": [],
   "source": [
    "plt.plot(r)\n",
    "#plt.xlim(3900,4000)\n",
    "r.mean()"
   ]
  },
  {
   "cell_type": "code",
   "execution_count": null,
   "metadata": {
    "collapsed": true
   },
   "outputs": [],
   "source": []
  },
  {
   "cell_type": "code",
   "execution_count": null,
   "metadata": {
    "collapsed": true
   },
   "outputs": [],
   "source": [
    "LIMfd_train.keys(), x_valid.shape, E.shape, lags"
   ]
  },
  {
   "cell_type": "code",
   "execution_count": null,
   "metadata": {
    "collapsed": true
   },
   "outputs": [],
   "source": [
    "LIMfd_train['x_truth_phys_space'].shape,LIMfd_train['x_forecast_phys_space'].shape, LIMfd_train['error'].shape, LIMfd_train['x_forecast'].shape"
   ]
  },
  {
   "cell_type": "code",
   "execution_count": null,
   "metadata": {
    "collapsed": true
   },
   "outputs": [],
   "source": [
    "# proper area-weighted global-mean values, including climo variance\n",
    "LIMfd_train_truth_3d = np.reshape(LIMfd_train['x_truth_phys_space'],[nlat,nlon,3988])\n",
    "LIMfd_train_forecast_3d = np.reshape(LIMfd_train['x_forecast_phys_space'],[nlat,nlon,3988])\n",
    "LIMfd_valid_truth_3d = np.reshape(LIMfd_valid['x_truth_phys_space'],[nlat,nlon,3988])\n",
    "LIMfd_valid_forecast_3d = np.reshape(LIMfd_valid['x_forecast_phys_space'],[nlat,nlon,3988])\n",
    "\n",
    "[train_truth_gm,\n",
    " train_truth_nh,_] = LMR_utils.global_hemispheric_means(LIMfd_train_truth_3d,lat_2d[:,0])\n",
    "[train_forecast_gm,\n",
    " train_forecast_nh,_] = LMR_utils.global_hemispheric_means(LIMfd_train_forecast_3d,lat_2d[:,0])\n",
    "[valid_truth_gm,\n",
    " valid_truth_nh,_] = LMR_utils.global_hemispheric_means(LIMfd_valid_truth_3d,lat_2d[:,0])\n",
    "[valid_forecast_gm,\n",
    " valid_forecast_nh,_] = LMR_utils.global_hemispheric_means(LIMfd_valid_forecast_3d,lat_2d[:,0])\n",
    "\n"
   ]
  },
  {
   "cell_type": "code",
   "execution_count": null,
   "metadata": {
    "collapsed": true
   },
   "outputs": [],
   "source": []
  },
  {
   "cell_type": "code",
   "execution_count": null,
   "metadata": {
    "collapsed": true
   },
   "outputs": [],
   "source": []
  },
  {
   "cell_type": "code",
   "execution_count": null,
   "metadata": {
    "collapsed": true
   },
   "outputs": [],
   "source": []
  },
  {
   "cell_type": "code",
   "execution_count": null,
   "metadata": {
    "collapsed": true
   },
   "outputs": [],
   "source": []
  },
  {
   "cell_type": "markdown",
   "metadata": {},
   "source": [
    "## Independent validation: "
   ]
  },
  {
   "cell_type": "code",
   "execution_count": null,
   "metadata": {
    "collapsed": true
   },
   "outputs": [],
   "source": [
    "# load 20cr data for independent validation...\n",
    "data_20cr,_,_ = get_data(var_to_extract,infile_20cr_tas, 45, 72)\n",
    "ntime_20cr = data_20cr.shape[0]"
   ]
  },
  {
   "cell_type": "code",
   "execution_count": null,
   "metadata": {
    "collapsed": true
   },
   "outputs": [],
   "source": [
    "# back to (nx,ntime)\n",
    "X_20cr = np.moveaxis(np.reshape(data_20cr,[ntime_20cr,nlat*nlon]),0,-1) \n",
    "\n",
    "# test the LIM on 20CR monthly data projected on the same basis\n",
    "P_20cr = np.matmul(E.T,X_20cr)\n",
    "\n",
    "# climo standardized variance\n",
    "valid_var_20cr = np.var(np.matmul(E,P_20cr),axis=1,ddof=1)"
   ]
  },
  {
   "cell_type": "code",
   "execution_count": null,
   "metadata": {
    "collapsed": true
   },
   "outputs": [],
   "source": [
    "# CCSM LIM forecasts on 20cr states\n",
    "LIMfd_20cr = LIM_forecast(LIMd,P_20cr,lags,E)"
   ]
  },
  {
   "cell_type": "code",
   "execution_count": null,
   "metadata": {
    "collapsed": true
   },
   "outputs": [],
   "source": [
    "# proper area-weighted global-mean values\n",
    "valid_gm_err_20cr,_,_ = LMR_utils.global_hemispheric_means(np.moveaxis(np.reshape(LIMfd_20cr['error'],[nlat,nlon,ntims]),-1,0),lat_2d[:,0])\n",
    "valid_gm_var_20cr,_,_ = LMR_utils.global_hemispheric_means(np.reshape(valid_var_20cr[:,None],[nlat,nlon]),lat_2d[:,0])\n"
   ]
  },
  {
   "cell_type": "code",
   "execution_count": null,
   "metadata": {
    "collapsed": true
   },
   "outputs": [],
   "source": [
    "plt.plot(lags,valid_gm_err/valid_gm_var,'k-',label='ccsm')\n",
    "plt.plot(lags,valid_gm_err_20cr/valid_gm_var_20cr,'r-',label='20cr')\n",
    "plt.plot([lags[0],lags[-1]],[1,1],'k--')\n",
    "plt.xlabel('lead time (months)')\n",
    "plt.ylabel('total error variance')\n",
    "plt.legend()\n",
    "plt.title('LIM normalized global error variance')\n",
    "#plt.savefig('LIM_forecast_error_ccsm_20cr_6mo',dpi=300)"
   ]
  },
  {
   "cell_type": "code",
   "execution_count": null,
   "metadata": {
    "collapsed": true
   },
   "outputs": [],
   "source": []
  },
  {
   "cell_type": "code",
   "execution_count": null,
   "metadata": {
    "collapsed": true
   },
   "outputs": [],
   "source": []
  },
  {
   "cell_type": "code",
   "execution_count": null,
   "metadata": {
    "collapsed": true
   },
   "outputs": [],
   "source": []
  },
  {
   "cell_type": "code",
   "execution_count": null,
   "metadata": {
    "collapsed": true
   },
   "outputs": [],
   "source": []
  },
  {
   "cell_type": "code",
   "execution_count": null,
   "metadata": {
    "collapsed": true
   },
   "outputs": [],
   "source": []
  }
 ],
 "metadata": {
  "anaconda-cloud": {},
  "kernelspec": {
   "display_name": "Python 3",
   "language": "python",
   "name": "python3"
  },
  "language_info": {
   "codemirror_mode": {
    "name": "ipython",
    "version": 3
   },
   "file_extension": ".py",
   "mimetype": "text/x-python",
   "name": "python",
   "nbconvert_exporter": "python",
   "pygments_lexer": "ipython3",
   "version": "3.6.6"
  }
 },
 "nbformat": 4,
 "nbformat_minor": 2
}
