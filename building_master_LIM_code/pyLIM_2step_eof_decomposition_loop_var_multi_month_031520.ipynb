{
 "cells": [
  {
   "cell_type": "markdown",
   "metadata": {},
   "source": [
    "# LIM forecasting: multivariate separate sic each month\n",
    "\n",
    "Katie Brennan  \n",
    "started March 2021  \n",
    "  \n",
    "#### Goals: \n",
    "* Build a LIM based on SIC \n",
    "* Build a LIM based on both SIC and SIT \n",
    "* Compare performance"
   ]
  },
  {
   "cell_type": "code",
   "execution_count": 1,
   "metadata": {},
   "outputs": [],
   "source": [
    "import sys,os\n",
    "import xarray as xr\n",
    "import numpy as np\n",
    "import scipy as spy\n",
    "\n",
    "import matplotlib\n",
    "import matplotlib.pyplot as plt\n",
    "import cartopy.crs as ccrs\n",
    "import cartopy.feature as cfeature\n",
    "from cartopy.util import add_cyclic_point\n",
    "from collections import OrderedDict \n",
    "\n",
    "import time as timestamp "
   ]
  },
  {
   "cell_type": "code",
   "execution_count": 2,
   "metadata": {},
   "outputs": [],
   "source": [
    "sys.path.append(\"/home/disk/p/mkb22/Documents/si_analysis_kb/LIMs/SI_LIMs/\")\n",
    "import LIM_utils as lim\n",
    "\n",
    "import LIM_utils_kb as limkb"
   ]
  },
  {
   "cell_type": "code",
   "execution_count": 3,
   "metadata": {},
   "outputs": [],
   "source": [
    "sys.path.append(\"/home/disk/kalman2/mkb22/pyLMR/\")\n",
    "import LMR_utils"
   ]
  },
  {
   "cell_type": "code",
   "execution_count": 4,
   "metadata": {},
   "outputs": [
    {
     "data": {
      "text/plain": [
       "<module 'LIM_utils_kb' from '/home/disk/p/mkb22/Documents/si_analysis_kb/LIMs/SI_LIMs/LIM_utils_kb.py'>"
      ]
     },
     "execution_count": 4,
     "metadata": {},
     "output_type": "execute_result"
    }
   ],
   "source": [
    "import importlib\n",
    "importlib.reload(limkb)"
   ]
  },
  {
   "cell_type": "code",
   "execution_count": 5,
   "metadata": {},
   "outputs": [],
   "source": [
    "arc_proj = dict(projection=ccrs.Stereographic(central_latitude=90,\n",
    "                                              central_longitude=-45,\n",
    "                                              true_scale_latitude=0.1))\n",
    "proj = dict(projection=ccrs.Robinson(central_longitude=0.),zorder=1)"
   ]
  },
  {
   "cell_type": "code",
   "execution_count": 6,
   "metadata": {},
   "outputs": [],
   "source": [
    "# number of EOFs to retain for the LIM state vector\n",
    "ntrunc = 400 # EOF truncation for individual fields (reduced-state space)\n",
    "nmodes = 60 # number of coupled EOFs for LIM state space (truncated-state space)\n",
    "#nmodes = 25\n",
    "nmodes_sic = 50\n",
    "#modes_sic = 20\n",
    "\n",
    "# forecast lead time in months that defines the LIM training\n",
    "tau = 1\n",
    "\n",
    "# training data defined by the first ntrain times\n",
    "# fraction of years used in training\n",
    "# ensures that start year of both train and validation data is january \n",
    "ntrain = 0.60\n",
    "\n",
    "# variables to include in the LIM (note \"vars\" is a Python command)\n",
    "#limvars = ['tas','zg']\n",
    "#limvars = ['tas','rlut','zg']\n",
    "#limvars = ['sic']\n",
    "#limvars = ['tas','sic']\n",
    "#limvars = ['tas','sic','zg','psl','pr','tos']\n",
    "#limvars = ['tas','psl','tos','sit','sic']\n",
    "limvars = ['tas','tos','psl','sit','sic']\n",
    "limvars_nosic = ['tas','tos','psl','sit']\n",
    "nvars = len(limvars)\n",
    "\n",
    "# specify the model source \n",
    "train_dsource = 'mpi_lm_kb'\n",
    "#train_dsource = 'ccsm4_lm'\n",
    "valid_dsource = 'mpi_lm_kb'\n",
    "\n",
    "sic_separate = True"
   ]
  },
  {
   "cell_type": "code",
   "execution_count": 7,
   "metadata": {},
   "outputs": [],
   "source": [
    "full_names = {'tas':'Surface air temperature',\n",
    "              'psl':'Sea level Pressure',\n",
    "              'sic':'Sea ice concentration', \n",
    "              'sit':'Sea ice thickness',\n",
    "              'tos':'Sea surface temperature',\n",
    "              'zg': '500hPa geopotential height'}\n",
    "\n",
    "areawt_name = {'tas':'areacella',\n",
    "               'psl':'areacella',\n",
    "               'sic':'areacello', \n",
    "               'sit':'areacello',\n",
    "               'tos':'areacello',\n",
    "               'zg': 'areacella'}\n",
    "\n",
    "month_names = ['January','Februrary','March','April','May','June','July','August',\n",
    "               'September','October','November','December']"
   ]
  },
  {
   "cell_type": "code",
   "execution_count": 8,
   "metadata": {},
   "outputs": [],
   "source": [
    "from datetime import date\n",
    "\n",
    "today = date.today()\n",
    "\n",
    "#Year-month-day\n",
    "today_date = today.strftime(\"%Y%m%d\")"
   ]
  },
  {
   "cell_type": "code",
   "execution_count": 9,
   "metadata": {},
   "outputs": [],
   "source": [
    "import warnings\n",
    "warnings.filterwarnings(\"ignore\")"
   ]
  },
  {
   "cell_type": "code",
   "execution_count": 10,
   "metadata": {},
   "outputs": [],
   "source": [
    "def sub_arctic_plot(ax,fig,pdat,lat,lon,maxv=-1,\n",
    "                    minv=-1,colorbar=True,extent=True,cmap='bwr'):\n",
    "    nlat = lat.shape[0]\n",
    "    nlon = lon.shape[1]\n",
    "                    \n",
    "    if maxv == -1:\n",
    "        maxv = np.nanmax(pdat)\n",
    "    if minv == -1:\n",
    "        minv = -maxv                \n",
    "           \n",
    "#    pdat_wrap, lon_wrap = add_cyclic_point(pdat,coord=lon[0,:], axis=1)\n",
    "#    new_lon2d, new_lat2d = np.meshgrid(lon_wrap, lat)\n",
    "                    \n",
    "    if extent is True: \n",
    "        ax.set_extent([-150, 140, 50, 90], crs=ccrs.PlateCarree())\n",
    "    ax.gridlines(linestyle='--')\n",
    "    ax.add_feature(cfeature.LAND, facecolor=(1, 1, 1))\n",
    "    cs = ax.pcolormesh(lon, lat, pdat, \n",
    "                       vmin=minv, vmax=maxv, cmap=cmap, \n",
    "                       transform=ccrs.PlateCarree())\n",
    "    ax.coastlines(resolution='110m', linewidth=0.5)\n",
    "    if colorbar is True:\n",
    "        plt.colorbar(cs, ax=ax)\n",
    "        \n",
    "    return "
   ]
  },
  {
   "cell_type": "code",
   "execution_count": 11,
   "metadata": {},
   "outputs": [],
   "source": [
    "def load_data(var, var_dict, fdic, remove_climo=True, detrend=True, verbose=True): \n",
    "    \"\"\"\n",
    "    INPUTS:\n",
    "    =========\n",
    "    limvars:   list of strings with variable names \n",
    "    fdic:   dictionary of variables names, location and filenames \n",
    "            (results from build_training_dic())\n",
    "    remove_climo: True/False whether anomalies are returned or not\n",
    "    detrend:  True/False whether detrended data is returned or not \n",
    "    verbose:  True/False whether print statements or not\n",
    "    \n",
    "    OUTPUTS: \n",
    "    ==========\n",
    "    X_all:    concatenated array of all variables in limvars, \n",
    "              stacked along 1D spatial dimension\n",
    "    var_dict: dictionary with variables as keys, contains index location in X_all, \n",
    "              lat values, lon values, and 1D spatial dimension (number of DOF) \n",
    "              for each variable. \n",
    "    \"\"\"\n",
    "\n",
    "    begin_time = timestamp.time()\n",
    "    if verbose is True: \n",
    "        print('Loading '+var)\n",
    "\n",
    "    data_in = xr.open_dataset(fdic[var])\n",
    "\n",
    "    if var is 'zg':\n",
    "        data_in = data_in.sel(plev=5e4)    \n",
    "    vardims = list(data_in[var].dims)\n",
    "    \n",
    "    if len(vardims)<=2:\n",
    "        nlat = data_in[vardims[0]].shape[0]\n",
    "        nlon = data_in[vardims[1]].shape[0]\n",
    "        ndof = nlat*nlon\n",
    "    elif len(vardims)>=3:\n",
    "        ntime = data_in[vardims[0]].shape[0]\n",
    "        nlat = data_in[vardims[1]].shape[0]\n",
    "        nlon = data_in[vardims[2]].shape[0]\n",
    "        ndof = nlat*nlon\n",
    "\n",
    "    if remove_climo is True: \n",
    "        climo = data_in[var].groupby('time.month').mean(dim='time')\n",
    "        x_var_anom = data_in[var].groupby('time.month')- climo\n",
    "\n",
    "        x_var = x_var_anom.values\n",
    "    else: \n",
    "        x_var = data_in[var].values\n",
    "\n",
    "    if detrend is True: \n",
    "        var_nans_mask = np.where(np.isnan(x_var),np.nan,1)\n",
    "        var_dt = spy.signal.detrend(np.where(np.isnan(x_var),0,x_var),axis=0)\n",
    "        x_var_dt = var_dt*var_nans_mask\n",
    "    else: \n",
    "        x_var_dt = x_var\n",
    "\n",
    "    if len(vardims)<=2:\n",
    "        X_var = np.reshape(x_var_dt,[ndof]) \n",
    "    else: \n",
    "        X_var = np.moveaxis(np.reshape(x_var_dt,[ntime,ndof]),0,-1) \n",
    "\n",
    "    # save location indices for each variable\n",
    "    d = {}\n",
    "#    d['varind'] = k\n",
    "    \n",
    "    if len(vardims)<=2:\n",
    "        d['lat'] = data_in.lat.values\n",
    "        d['lon'] = data_in.lon.values\n",
    "        if var == 'areacello':\n",
    "            d['units'] = data_in.areacello.units\n",
    "        elif var == 'areacella':\n",
    "            d['units'] = data_in.areacella.units\n",
    "    elif len(vardims)>=3:\n",
    "        d['lat'] = data_in.lat.values\n",
    "        d['lon'] = data_in.lon.values\n",
    "        d['time'] = data_in.time.values\n",
    "        \n",
    "    d['var_ndof'] = ndof\n",
    "    var_dict[var] = d\n",
    "\n",
    "    elapsed_time = timestamp.time() - begin_time\n",
    "    if verbose is True: \n",
    "        print('-----------------------------------------------------')\n",
    "        print('completed in ' + str(elapsed_time) + ' seconds')\n",
    "        print('-----------------------------------------------------')\n",
    "            \n",
    "    return X_var, var_dict"
   ]
  },
  {
   "cell_type": "code",
   "execution_count": 12,
   "metadata": {},
   "outputs": [],
   "source": [
    "def step1_compress_individual_vars(X_train, limvars, ntrunc, nmodes_sic, var_dict, \n",
    "                                   X_allshape, X_sicshape, wt, sic_separate=False): \n",
    "    \n",
    "    nvars = len(limvars)\n",
    "    W_all = {}\n",
    "    standard_factor = {}\n",
    "    tot_var = {}\n",
    "    tot_var_eig = {}\n",
    "    \n",
    "    if sic_separate is True: \n",
    "        E3 = np.zeros([X_allshape-X_sicshape,ntrunc*(nvars-1)])\n",
    "    else:  \n",
    "        E3 = np.zeros([X_allshape,ntrunc*(nvars)])\n",
    "    n=0\n",
    "\n",
    "    for k,var in enumerate(limvars):\n",
    "        print('decomposing...',var)\n",
    "        # weight matrix for equal-area covariance normalization\n",
    "        ndof = var_dict[var]['var_ndof']\n",
    "        ntime = X_train.shape[1]\n",
    "        LAT = var_dict[var]['lat']\n",
    "        if len(LAT.shape)<2:\n",
    "            nlon = var_dict[var]['lon'].shape[0]\n",
    "            nlat = var_dict[var]['lat'].shape[0]\n",
    "            lat = LAT[:,np.newaxis]*np.ones((nlat,nlon))\n",
    "        else: \n",
    "            lat = LAT\n",
    "            \n",
    "        if (sic_separate is True) & (var is 'sic'):\n",
    "            trunc = nmodes_sic\n",
    "        else: \n",
    "            trunc = ntrunc\n",
    "        \n",
    "        [eofs_out, svals_out, pcs_out, \n",
    "         total_var, total_var_eig, \n",
    "         var_expl_by_retained, W] = eof_decomp_1var(X_train[var_dict[var]['var_inds'],:],\n",
    "                                                    lat,ndof,ntime,trunc,Weight=wt)\n",
    "        tot_var[var] = total_var\n",
    "        tot_var_eig[var] = total_var_eig\n",
    "        W_all[var] = np.squeeze(W)\n",
    "        \n",
    "        if (sic_separate is True) & (var is 'sic'):\n",
    "            print('fraction in first '+str(nmodes_sic)+ ' '+limvars[k]+' EOFs = '+str(var_expl_by_retained))\n",
    "        else: \n",
    "            print('fraction in first '+str(ntrunc)+ ' '+limvars[k]+' EOFs = '+str(var_expl_by_retained))\n",
    "\n",
    "\n",
    "        if k == 0:\n",
    "            # projection\n",
    "            P_var = np.matmul(eofs_out.T,W*np.nan_to_num(X_train[var_dict[var]['var_inds'],:]))\n",
    "            standard_factor[var] = np.sqrt(np.sum(svals_out*svals_out)/(ntime-1))\n",
    "            \n",
    "            Ptrunc = P_var/standard_factor[var]\n",
    "\n",
    "            # reverse operator from EOFs to grid point space\n",
    "            E3[var_dict[var]['var_inds'],k*ntrunc:(k+1)*ntrunc] = eofs_out*standard_factor[var]\n",
    "            n=n+1\n",
    "        elif (sic_separate is True) & (var is 'sic'):\n",
    "            print('...separately')\n",
    "            Pvar_sic = np.matmul(eofs_out.T,W*np.nan_to_num(X_train[var_dict[var]['var_inds'],:]))\n",
    "            standard_factor[var] = np.sqrt(np.sum(svals_out*svals_out)/(ntime-1))\n",
    "            \n",
    "            Ptrunc_sic = Pvar_sic/standard_factor[var]\n",
    "            E_sic = eofs_out*standard_factor[var]\n",
    "        else:\n",
    "            # projection\n",
    "            P_var = np.matmul(eofs_out.T,W*np.nan_to_num(X_train[var_dict[var]['var_inds'],:]))\n",
    "            standard_factor[var] = np.sqrt(np.sum(svals_out*svals_out)/(ntime-1))\n",
    "            \n",
    "            Ptrunc = np.concatenate((Ptrunc,P_var/standard_factor[var]),axis=0)\n",
    "\n",
    "            # reverse operator from EOFs to grid point space\n",
    "            E3[var_dict[var]['var_inds'],n*ntrunc:(n+1)*ntrunc] = eofs_out*standard_factor[var]\n",
    "            n=n+1\n",
    "    if sic_separate is True: \n",
    "        return Ptrunc, E3, Ptrunc_sic, E_sic, W_all, standard_factor, tot_var, tot_var_eig\n",
    "    else: \n",
    "        return Ptrunc, E3, W_all, standard_factor, tot_var, tot_var_eig"
   ]
  },
  {
   "cell_type": "code",
   "execution_count": 13,
   "metadata": {},
   "outputs": [],
   "source": [
    "def step1_compress_individual_var(X_train, ntrunc, nmodes_sic, var_dict,n, areawt=0,\n",
    "                                  wt=True, sic_separate=False): \n",
    "    \"\"\"\n",
    "    \"\"\"\n",
    "    if (sic_separate is True) & (var is 'sic'):\n",
    "            trunc = nmodes_sic\n",
    "    else: \n",
    "        trunc = ntrunc\n",
    "        \n",
    "    if len(var_dict[var]['lat'].shape)<2:\n",
    "        nlon = var_dict[var]['lon'].shape[0]\n",
    "        nlat = var_dict[var]['lat'].shape[0]\n",
    "        lat = var_dict[var]['lat'][:,np.newaxis]*np.ones((nlat,nlon))\n",
    "    else: \n",
    "        lat = var_dict[var]['lat']\n",
    "\n",
    "    [eofs_out, svals_out, pcs_out, \n",
    "     total_var, total_var_eig, \n",
    "     var_expl_by_retained, W] = eof_decomp_1var(X_train,lat,var_dict[var]['var_ndof'],\n",
    "                                                X_train.shape[1],trunc,areawt=areawt,Weight=wt)\n",
    "    \n",
    "    tot_var[var] = total_var\n",
    "    tot_var_eig[var] = total_var_eig\n",
    "    W_all[var] = np.squeeze(W)\n",
    "    ntime = X_train.shape[1]\n",
    "    \n",
    "    if k == 0:\n",
    "        print('fraction in first '+str(ntrunc)+ ' '+limvars[k]+' EOFs = '+str(var_expl_by_retained))\n",
    "                                                                              \n",
    "        # projection\n",
    "        P_var = np.matmul(eofs_out.T,W*np.nan_to_num(X_train))\n",
    "        standard_factor[var] = np.sqrt(np.sum(svals_out*svals_out)/(ntime-1))\n",
    "\n",
    "        Ptrunc[var] = P_var/standard_factor[var]\n",
    "\n",
    "        # reverse operator from EOFs to grid point space\n",
    "        E3[var] = eofs_out*standard_factor[var]\n",
    "        n=n+1\n",
    "\n",
    "    elif (sic_separate is True) & (var is 'sic'):\n",
    "        print('fraction in first '+str(nmodes_sic)+ ' '+limvars[k]+' EOFs = '+str(var_expl_by_retained))\n",
    "        print('...separately')\n",
    "\n",
    "        Pvar_sic = np.matmul(eofs_out.T,W*np.nan_to_num(X_train))\n",
    "        standard_factor[var] = np.sqrt(np.sum(svals_out*svals_out)/(ntime-1))\n",
    "\n",
    "        Ptrunc['sic'] = Pvar_sic/standard_factor[var]\n",
    "        E3['sic'] = eofs_out*standard_factor[var]\n",
    "\n",
    "    else:\n",
    "        print('fraction in first '+str(ntrunc)+ ' '+limvars[k]+' EOFs = '+str(var_expl_by_retained))\n",
    "\n",
    "        # projection\n",
    "        P_var = np.matmul(eofs_out.T,W*np.nan_to_num(X_train))\n",
    "        standard_factor[var] = np.sqrt(np.sum(svals_out*svals_out)/(ntime-1))\n",
    "\n",
    "        Ptrunc[var] = P_var/standard_factor[var]\n",
    "\n",
    "        # reverse operator from EOFs to grid point space\n",
    "        E3[var] = eofs_out*standard_factor[var]\n",
    "        n=n+1\n",
    "        \n",
    "    return Ptrunc, E3, tot_var, tot_var_eig, W_all"
   ]
  },
  {
   "cell_type": "code",
   "execution_count": 14,
   "metadata": {},
   "outputs": [],
   "source": [
    "def count_ndof_all(limvars, E3, sic_separate=False): \n",
    "    #Count total degrees of freedom: \n",
    "    if sic_separate is True: \n",
    "        limvars_nosic = [l for l in limvars if l not in 'sic']\n",
    "        for v,var in enumerate(limvars_nosic):\n",
    "            if v == 0: \n",
    "                ndof_all = E3[var].shape[0]\n",
    "            else: \n",
    "                ndof_all = ndof_all+E3[var].shape[0]\n",
    "    else: \n",
    "        for v,var in enumerate(limvars):\n",
    "            if v == 0: \n",
    "                ndof_all = E3[var].shape[0]\n",
    "            else: \n",
    "                ndof_all = ndof_all+E3[var].shape[0]\n",
    "            print(ndof_all)\n",
    "            \n",
    "    return ndof_all"
   ]
  },
  {
   "cell_type": "code",
   "execution_count": 58,
   "metadata": {},
   "outputs": [],
   "source": [
    "def stack_variable_eofs(limvars, ndof_all, ntrunc, Ptrunc, E3, \n",
    "                        var_dict,nmonths=1,sic_separate=False, \n",
    "                        verbose=False): \n",
    "    start = 0\n",
    "    if sic_separate is True: \n",
    "        limvars_nosic = [l for l in limvars if l not in 'sic']\n",
    "        nvars = len(limvars_nosic)\n",
    "        E3_all = np.zeros([ndof_all,int(ntrunc*(nvars)),nmonths])\n",
    "        if nmonths == 1: \n",
    "            E_all = np.squeeze(E3_all)\n",
    "\n",
    "        for v,var in enumerate(limvars_nosic):\n",
    "            if v == 0: \n",
    "                Ptrunc_all = Ptrunc[var]\n",
    "            else: \n",
    "                Ptrunc_all = np.concatenate((Ptrunc_all,Ptrunc[var]),axis=0)\n",
    "            E3_all[var_dict[var]['var_inds'],int(v*ntrunc):int((v+1)*ntrunc)] = E3[var]\n",
    "            \n",
    "            if verbose is True: \n",
    "                print(E3_all[18430:18435,0])\n",
    "                print('start: '+str(start)+' end: '+str(start+var_dict[var]['var_ndof'])+' '+str(v*ntrunc))\n",
    "#            start = start+var_dict[var]['var_ndof']\n",
    "\n",
    "        Ptrunc_sic = Ptrunc['sic']\n",
    "        E_sic = E3['sic']\n",
    "    else: \n",
    "        nvars = len(limvars)\n",
    "        E3_all = np.zeros([ndof_all,int(ntrunc*(nvars))])\n",
    "\n",
    "        for v,var in enumerate(limvars):\n",
    "            if v == 0: \n",
    "                Ptrunc_all = Ptrunc[var]\n",
    "            else: \n",
    "                Ptrunc_all = np.concatenate((Ptrunc_all,Ptrunc[var]),axis=0)\n",
    "            E3_all[var_dict[var]['var_inds'],int(v*ntrunc):int((v+1)*ntrunc)] = E3[var]\n",
    "            \n",
    "            if verbose is True:\n",
    "                print(E3_all[18430:18435,0])\n",
    "                print('start: '+str(start)+' end: '+str(start+var_dict[var]['var_ndof'])+' '+str(v*ntrunc))\n",
    "#            start = start+var_dict[var]['var_ndof']\n",
    "            \n",
    "    if sic_separate == True:     \n",
    "        return Ptrunc_all, E3_all, Ptrunc_sic, E_sic\n",
    "    else: \n",
    "        return Ptrunc_all, E3_all"
   ]
  },
  {
   "cell_type": "code",
   "execution_count": 42,
   "metadata": {},
   "outputs": [],
   "source": [
    "def eof_decomp_1var(X,lat,ndof,ntime,ntrunc,areawt=0,Weight=True): \n",
    "    \"\"\"\n",
    "    INPUTS: \n",
    "    ========\n",
    "    X = (ndof, ntime)\n",
    "    lat = latitude values \n",
    "    ndof = integer value (nlat x nlon)\n",
    "    ntime = integer value (number of timesteps)\n",
    "    ntrunc = integer value (number of single variable eof modes to retain)\n",
    "    Weights = True/False, indicates whether to weight by cos(latitude) or not\n",
    "    \n",
    "    OUTPUTS: \n",
    "    =========\n",
    "    eofs_out\n",
    "    svals_out\n",
    "    pcs_out\n",
    "    total_var\n",
    "    tot_var_eig\n",
    "    var_expl_by_retained\n",
    "    W\n",
    "    \"\"\"\n",
    "    \n",
    "    if Weight is True: \n",
    "        if len(areawt.shape)<=1:\n",
    "            W = areawt[:,np.newaxis]\n",
    "        else: \n",
    "            W = areawt\n",
    "        inp = W*np.nan_to_num(X)\n",
    "        \n",
    "    else: \n",
    "        inp = np.nan_to_num(X)\n",
    "\n",
    "    u,s,v = np.linalg.svd(inp,full_matrices=False)\n",
    "\n",
    "    eofs_out = u[:,:ntrunc]\n",
    "    svals_out = s[:ntrunc]\n",
    "    pcs_out = v[:ntrunc]\n",
    "\n",
    "    eig_vals = (svals_out**2)\n",
    "    total_var = np.nansum(np.nanvar(X,ddof=1,axis=1))\n",
    "    tot_var_eig = np.sum(s*s)\n",
    "    var_expl_by_retained = 100*np.sum(eig_vals)/tot_var_eig\n",
    "    \n",
    "    if Weight is True: \n",
    "        return eofs_out, svals_out, pcs_out, total_var, tot_var_eig, var_expl_by_retained, W\n",
    "    else: \n",
    "        return eofs_out, svals_out, pcs_out, total_var, tot_var_eig, var_expl_by_retained"
   ]
  },
  {
   "cell_type": "code",
   "execution_count": 17,
   "metadata": {},
   "outputs": [],
   "source": [
    "def decompress_eof_separate_sic2(P_train,nmodes,nmodes_sic,E,E_sic,\n",
    "                                 limvars,var_dict,W_all,Weights=True,\n",
    "                                 sic_separate=False):\n",
    "    if sic_separate is True: \n",
    "        x_multivar = P_train[0:nmodes,:]\n",
    "        x_sic = P_train[-nmodes_sic:,:]\n",
    "\n",
    "        x_train_multi_dcomp = np.matmul(E,x_multivar)\n",
    "        x_train_sic_dcomp = np.matmul(E_sic,x_sic)\n",
    "        x_train_dcomp = np.concatenate((x_train_multi_dcomp,x_train_sic_dcomp),axis=0)\n",
    "    else: \n",
    "        x_multivar = P_train\n",
    "\n",
    "        x_train_dcomp = np.matmul(E,x_multivar)\n",
    "\n",
    "    if Weights is True: \n",
    "        X_train_dcomp = unweight_decompressed_vars(x_train_dcomp, limvars, var_dict, W_all)\n",
    "    else: \n",
    "        X_train_dcomp = x_train_dcomp\n",
    "    \n",
    "    return X_train_dcomp"
   ]
  },
  {
   "cell_type": "code",
   "execution_count": 18,
   "metadata": {},
   "outputs": [],
   "source": [
    "def unweight_decompressed_vars(x_train_dcomp, limvars, var_dict, W_all):\n",
    "    \"\"\"\n",
    "    INPUTS: \n",
    "    ========\n",
    "    x_train_dcomp\n",
    "    limvars\n",
    "    var_dict\n",
    "    W_all\n",
    "    \n",
    "    OUTPUTS: \n",
    "    ========\n",
    "    X_out \n",
    "    \"\"\"\n",
    "    X_out = np.zeros_like(x_train_dcomp)\n",
    "    \n",
    "    start=0\n",
    "    for var in (limvars):\n",
    "        inds_end = var_dict[var]['var_ndof']\n",
    "        X_out[start:start+inds_end,:] = x_train_dcomp[start:start+inds_end,:]/W_all[var][:,np.newaxis]\n",
    "        start = start+inds_end\n",
    "        \n",
    "    return X_out"
   ]
  },
  {
   "cell_type": "markdown",
   "metadata": {},
   "source": [
    "## Check Decomposition: "
   ]
  },
  {
   "cell_type": "code",
   "execution_count": 19,
   "metadata": {
    "collapsed": true
   },
   "outputs": [],
   "source": [
    "pi = np.pi\n",
    "\n",
    "# fill continents if plotting SST; otherwise no\n",
    "# if var_to_extract == 'tos':\n",
    "#     noland = True\n",
    "# else:\n",
    "#     noland = False\n",
    "\n",
    "infile_20cr_tas = '/home/disk/kalman3/rtardif/LMR/data/model/20cr/tas_sfc_Amon_20CR_185101-201112.nc'\n",
    "\n",
    "fdic_ccsm4 = limkb.build_training_dic(train_dsource)\n",
    "fdic_mpi = limkb.build_training_dic(valid_dsource)"
   ]
  },
  {
   "cell_type": "code",
   "execution_count": 20,
   "metadata": {},
   "outputs": [],
   "source": [
    "areacell = {}\n",
    "areacella_dict = {}\n",
    "areacell['areacella'], areacella_dict = load_data('areacella', areacella_dict, fdic_ccsm4, \n",
    "                                remove_climo=False, detrend=False, verbose=False)\n",
    "\n",
    "areacello_dict = {}\n",
    "areacell['areacello'], areacello_dict = load_data('areacello', areacello_dict, fdic_ccsm4, \n",
    "                                remove_climo=False, detrend=False, verbose=False)\n",
    "\n",
    "areacell_dict = {}\n",
    "areacell_dict['areacello'] = areacello_dict\n",
    "areacell_dict['areacella'] = areacella_dict"
   ]
  },
  {
   "cell_type": "code",
   "execution_count": 20,
   "metadata": {},
   "outputs": [
    {
     "name": "stdout",
     "output_type": "stream",
     "text": [
      "Loading tas\n"
     ]
    },
    {
     "ename": "KeyboardInterrupt",
     "evalue": "",
     "output_type": "error",
     "traceback": [
      "\u001b[0;31m---------------------------------------------------------------------------\u001b[0m",
      "\u001b[0;31mKeyboardInterrupt\u001b[0m                         Traceback (most recent call last)",
      "\u001b[0;32m<ipython-input-20-aba7f32e29a5>\u001b[0m in \u001b[0;36m<module>\u001b[0;34m()\u001b[0m\n\u001b[1;32m     15\u001b[0m \u001b[0;34m\u001b[0m\u001b[0m\n\u001b[1;32m     16\u001b[0m \u001b[0;32mfor\u001b[0m \u001b[0mk\u001b[0m\u001b[0;34m,\u001b[0m \u001b[0mvar\u001b[0m \u001b[0;32min\u001b[0m \u001b[0menumerate\u001b[0m\u001b[0;34m(\u001b[0m\u001b[0;34m[\u001b[0m\u001b[0;34m'tas'\u001b[0m\u001b[0;34m,\u001b[0m\u001b[0;34m'sic'\u001b[0m\u001b[0;34m]\u001b[0m\u001b[0;34m)\u001b[0m\u001b[0;34m:\u001b[0m\u001b[0;34m\u001b[0m\u001b[0m\n\u001b[0;32m---> 17\u001b[0;31m     \u001b[0mX_var\u001b[0m\u001b[0;34m,\u001b[0m \u001b[0mvar_dict\u001b[0m \u001b[0;34m=\u001b[0m \u001b[0mload_data\u001b[0m\u001b[0;34m(\u001b[0m\u001b[0mvar\u001b[0m\u001b[0;34m,\u001b[0m \u001b[0mvar_dict\u001b[0m\u001b[0;34m,\u001b[0m \u001b[0mfdic_ccsm4\u001b[0m\u001b[0;34m,\u001b[0m \u001b[0mremove_climo\u001b[0m\u001b[0;34m=\u001b[0m\u001b[0;32mTrue\u001b[0m\u001b[0;34m,\u001b[0m \u001b[0mdetrend\u001b[0m\u001b[0;34m=\u001b[0m\u001b[0;32mTrue\u001b[0m\u001b[0;34m,\u001b[0m \u001b[0mverbose\u001b[0m\u001b[0;34m=\u001b[0m\u001b[0;32mTrue\u001b[0m\u001b[0;34m)\u001b[0m\u001b[0;34m\u001b[0m\u001b[0m\n\u001b[0m\u001b[1;32m     18\u001b[0m \u001b[0;34m\u001b[0m\u001b[0m\n\u001b[1;32m     19\u001b[0m     \u001b[0mmo\u001b[0m \u001b[0;34m=\u001b[0m \u001b[0;36m1\u001b[0m\u001b[0;34m\u001b[0m\u001b[0m\n",
      "\u001b[0;32m<ipython-input-10-705c6cb7687a>\u001b[0m in \u001b[0;36mload_data\u001b[0;34m(var, var_dict, fdic, remove_climo, detrend, verbose)\u001b[0m\n\u001b[1;32m     49\u001b[0m     \u001b[0;32mif\u001b[0m \u001b[0mdetrend\u001b[0m \u001b[0;32mis\u001b[0m \u001b[0;32mTrue\u001b[0m\u001b[0;34m:\u001b[0m\u001b[0;34m\u001b[0m\u001b[0m\n\u001b[1;32m     50\u001b[0m         \u001b[0mvar_nans_mask\u001b[0m \u001b[0;34m=\u001b[0m \u001b[0mnp\u001b[0m\u001b[0;34m.\u001b[0m\u001b[0mwhere\u001b[0m\u001b[0;34m(\u001b[0m\u001b[0mnp\u001b[0m\u001b[0;34m.\u001b[0m\u001b[0misnan\u001b[0m\u001b[0;34m(\u001b[0m\u001b[0mx_var\u001b[0m\u001b[0;34m)\u001b[0m\u001b[0;34m,\u001b[0m\u001b[0mnp\u001b[0m\u001b[0;34m.\u001b[0m\u001b[0mnan\u001b[0m\u001b[0;34m,\u001b[0m\u001b[0;36m1\u001b[0m\u001b[0;34m)\u001b[0m\u001b[0;34m\u001b[0m\u001b[0m\n\u001b[0;32m---> 51\u001b[0;31m         \u001b[0mvar_dt\u001b[0m \u001b[0;34m=\u001b[0m \u001b[0mspy\u001b[0m\u001b[0;34m.\u001b[0m\u001b[0msignal\u001b[0m\u001b[0;34m.\u001b[0m\u001b[0mdetrend\u001b[0m\u001b[0;34m(\u001b[0m\u001b[0mnp\u001b[0m\u001b[0;34m.\u001b[0m\u001b[0mwhere\u001b[0m\u001b[0;34m(\u001b[0m\u001b[0mnp\u001b[0m\u001b[0;34m.\u001b[0m\u001b[0misnan\u001b[0m\u001b[0;34m(\u001b[0m\u001b[0mx_var\u001b[0m\u001b[0;34m)\u001b[0m\u001b[0;34m,\u001b[0m\u001b[0;36m0\u001b[0m\u001b[0;34m,\u001b[0m\u001b[0mx_var\u001b[0m\u001b[0;34m)\u001b[0m\u001b[0;34m,\u001b[0m\u001b[0maxis\u001b[0m\u001b[0;34m=\u001b[0m\u001b[0;36m0\u001b[0m\u001b[0;34m)\u001b[0m\u001b[0;34m\u001b[0m\u001b[0m\n\u001b[0m\u001b[1;32m     52\u001b[0m         \u001b[0mx_var_dt\u001b[0m \u001b[0;34m=\u001b[0m \u001b[0mvar_dt\u001b[0m\u001b[0;34m*\u001b[0m\u001b[0mvar_nans_mask\u001b[0m\u001b[0;34m\u001b[0m\u001b[0m\n\u001b[1;32m     53\u001b[0m     \u001b[0;32melse\u001b[0m\u001b[0;34m:\u001b[0m\u001b[0;34m\u001b[0m\u001b[0m\n",
      "\u001b[0;32m/home/disk/chaos/mkb22/anaconda2/envs/lmr_py3_xarray/lib/python3.6/site-packages/scipy/signal/signaltools.py\u001b[0m in \u001b[0;36mdetrend\u001b[0;34m(data, axis, type, bp)\u001b[0m\n\u001b[1;32m   2533\u001b[0m             \u001b[0mA\u001b[0m\u001b[0;34m[\u001b[0m\u001b[0;34m:\u001b[0m\u001b[0;34m,\u001b[0m \u001b[0;36m0\u001b[0m\u001b[0;34m]\u001b[0m \u001b[0;34m=\u001b[0m \u001b[0mcast\u001b[0m\u001b[0;34m[\u001b[0m\u001b[0mdtype\u001b[0m\u001b[0;34m]\u001b[0m\u001b[0;34m(\u001b[0m\u001b[0marange\u001b[0m\u001b[0;34m(\u001b[0m\u001b[0;36m1\u001b[0m\u001b[0;34m,\u001b[0m \u001b[0mNpts\u001b[0m \u001b[0;34m+\u001b[0m \u001b[0;36m1\u001b[0m\u001b[0;34m)\u001b[0m \u001b[0;34m*\u001b[0m \u001b[0;36m1.0\u001b[0m \u001b[0;34m/\u001b[0m \u001b[0mNpts\u001b[0m\u001b[0;34m)\u001b[0m\u001b[0;34m\u001b[0m\u001b[0m\n\u001b[1;32m   2534\u001b[0m             \u001b[0msl\u001b[0m \u001b[0;34m=\u001b[0m \u001b[0mslice\u001b[0m\u001b[0;34m(\u001b[0m\u001b[0mbp\u001b[0m\u001b[0;34m[\u001b[0m\u001b[0mm\u001b[0m\u001b[0;34m]\u001b[0m\u001b[0;34m,\u001b[0m \u001b[0mbp\u001b[0m\u001b[0;34m[\u001b[0m\u001b[0mm\u001b[0m \u001b[0;34m+\u001b[0m \u001b[0;36m1\u001b[0m\u001b[0;34m]\u001b[0m\u001b[0;34m)\u001b[0m\u001b[0;34m\u001b[0m\u001b[0m\n\u001b[0;32m-> 2535\u001b[0;31m             \u001b[0mcoef\u001b[0m\u001b[0;34m,\u001b[0m \u001b[0mresids\u001b[0m\u001b[0;34m,\u001b[0m \u001b[0mrank\u001b[0m\u001b[0;34m,\u001b[0m \u001b[0ms\u001b[0m \u001b[0;34m=\u001b[0m \u001b[0mlinalg\u001b[0m\u001b[0;34m.\u001b[0m\u001b[0mlstsq\u001b[0m\u001b[0;34m(\u001b[0m\u001b[0mA\u001b[0m\u001b[0;34m,\u001b[0m \u001b[0mnewdata\u001b[0m\u001b[0;34m[\u001b[0m\u001b[0msl\u001b[0m\u001b[0;34m]\u001b[0m\u001b[0;34m)\u001b[0m\u001b[0;34m\u001b[0m\u001b[0m\n\u001b[0m\u001b[1;32m   2536\u001b[0m             \u001b[0mnewdata\u001b[0m\u001b[0;34m[\u001b[0m\u001b[0msl\u001b[0m\u001b[0;34m]\u001b[0m \u001b[0;34m=\u001b[0m \u001b[0mnewdata\u001b[0m\u001b[0;34m[\u001b[0m\u001b[0msl\u001b[0m\u001b[0;34m]\u001b[0m \u001b[0;34m-\u001b[0m \u001b[0mdot\u001b[0m\u001b[0;34m(\u001b[0m\u001b[0mA\u001b[0m\u001b[0;34m,\u001b[0m \u001b[0mcoef\u001b[0m\u001b[0;34m)\u001b[0m\u001b[0;34m\u001b[0m\u001b[0m\n\u001b[1;32m   2537\u001b[0m         \u001b[0;31m# Put data back in original shape.\u001b[0m\u001b[0;34m\u001b[0m\u001b[0;34m\u001b[0m\u001b[0m\n",
      "\u001b[0;32m/home/disk/chaos/mkb22/anaconda2/envs/lmr_py3_xarray/lib/python3.6/site-packages/scipy/linalg/basic.py\u001b[0m in \u001b[0;36mlstsq\u001b[0;34m(a, b, cond, overwrite_a, overwrite_b, check_finite, lapack_driver)\u001b[0m\n\u001b[1;32m   1233\u001b[0m \u001b[0;34m\u001b[0m\u001b[0m\n\u001b[1;32m   1234\u001b[0m                 x, s, rank, info = lapack_func(a1, b1, lwork,\n\u001b[0;32m-> 1235\u001b[0;31m                                                iwork, cond, False, False)\n\u001b[0m\u001b[1;32m   1236\u001b[0m             \u001b[0;32melse\u001b[0m\u001b[0;34m:\u001b[0m  \u001b[0;31m# complex data\u001b[0m\u001b[0;34m\u001b[0m\u001b[0m\n\u001b[1;32m   1237\u001b[0m                 lwork, rwork, iwork = _compute_lwork(lapack_lwork, m, n,\n",
      "\u001b[0;31mKeyboardInterrupt\u001b[0m: "
     ]
    }
   ],
   "source": [
    "wt=True\n",
    "var_dict = {}\n",
    "tot_var = {}\n",
    "tot_var_eig = {}\n",
    "W_all = {}\n",
    "standard_factor = {}\n",
    "E3 = {}\n",
    "Ptrunc = {}\n",
    "\n",
    "# if sic_separate is True: \n",
    "#         E3 = np.zeros([X_allshape-X_sicshape,ntrunc*(nvars-1)])\n",
    "# else:  \n",
    "#     E3 = np.zeros([X_allshape,ntrunc*(nvars)])\n",
    "n=0\n",
    "\n",
    "for k, var in enumerate(['tas','sic']): \n",
    "    X_var, var_dict = load_data(var, var_dict, fdic_ccsm4, remove_climo=True, detrend=True, verbose=True)\n",
    "    \n",
    "    mo = 1\n",
    "    tsamp = X_var.shape[1]\n",
    "    nyears_train = int((tsamp*ntrain)/12)\n",
    "    #nyears_valid = int(X_all_mpi.shape[2]/12)\n",
    "    nyears_valid = int((tsamp*(1-ntrain))/12)\n",
    "\n",
    "    X_t = np.reshape(X_var,(X_var.shape[0],int(tsamp/12),12))\n",
    "    X_train = X_t[:,0:nyears_train,mo]\n",
    "    X_train2 = X_t[:,0:nyears_train,mo+1]\n",
    "    X_valid = X_t[:,nyears_train:,mo]\n",
    "#    truth = X_t[:,nyears_train:,mo+1]\n",
    "    ntime = X_train.shape[1]\n",
    "     \n",
    "    [Ptrunc, E3, tot_var,\n",
    "    tot_var_eig, W_all] = step1_compress_individual_var(X_train, ntrunc, nmodes_sic, var_dict, n, \n",
    "                                                        areawt=areacell[areawt_name[var]],\n",
    "                                                        wt=wt, sic_separate=sic_separate)\n",
    "\n",
    "    del X_var"
   ]
  },
  {
   "cell_type": "code",
   "execution_count": null,
   "metadata": {
    "collapsed": true
   },
   "outputs": [],
   "source": []
  },
  {
   "cell_type": "code",
   "execution_count": 203,
   "metadata": {},
   "outputs": [
    {
     "name": "stdout",
     "output_type": "stream",
     "text": [
      "Fraction in first 60 multivariate EOFs = 83.17044246833852\n",
      "Shape of E: (18432, 60)\n"
     ]
    }
   ],
   "source": [
    "ndof_all = count_ndof_all(['tas','sic'], E3, sic_separate=sic_separate)\n",
    "\n",
    "[Ptrunc_all, E3_all, \n",
    "Ptrunc_sic, E_sic] = stack_variable_eofs(['tas','sic'], ndof_all, ntrunc, Ptrunc, E3, \n",
    "                                        var_dict, sic_separate=sic_separate)\n",
    "\n",
    "[P_train, Fvar, E] = limkb.step2_multivariate_compress(Ptrunc_all,nmodes, E3_all, Ptrunc_sic, \n",
    "                                                       sic_separate=sic_separate)"
   ]
  },
  {
   "cell_type": "code",
   "execution_count": 204,
   "metadata": {
    "collapsed": true
   },
   "outputs": [],
   "source": [
    "x_train_dcomp = decompress_eof_separate_sic2(P_train,nmodes,nmodes_sic,E,E_sic,\n",
    "                                             ['tas','sic'],var_dict,W_all,Weights=True,\n",
    "                                             sic_separate=sic_separate)"
   ]
  },
  {
   "cell_type": "code",
   "execution_count": 205,
   "metadata": {},
   "outputs": [
    {
     "name": "stdout",
     "output_type": "stream",
     "text": [
      "Loading sic\n",
      "-----------------------------------------------------\n",
      "completed in 94.50121188163757 seconds\n",
      "-----------------------------------------------------\n"
     ]
    }
   ],
   "source": [
    "x_sic_decomp = x_train_dcomp[18432:,]\n",
    "\n",
    "v = {}\n",
    "X_sic,_ = load_data('sic', v, fdic_ccsm4, remove_climo=True, detrend=True, verbose=True)"
   ]
  },
  {
   "cell_type": "code",
   "execution_count": 206,
   "metadata": {
    "collapsed": true
   },
   "outputs": [],
   "source": [
    "mo = 1\n",
    "tsamp = X_sic.shape[1]\n",
    "nyears_train = int((tsamp*ntrain)/12)\n",
    "#nyears_valid = int(X_all_mpi.shape[2]/12)\n",
    "nyears_valid = int((tsamp*(1-ntrain))/12)\n",
    "\n",
    "X_t = np.reshape(X_sic,(X_sic.shape[0],int(tsamp/12),12))\n",
    "X_sic = X_t[:,0:nyears_train,mo]"
   ]
  },
  {
   "cell_type": "code",
   "execution_count": 212,
   "metadata": {},
   "outputs": [
    {
     "data": {
      "text/plain": [
       "<matplotlib.legend.Legend at 0x7fbd446fb198>"
      ]
     },
     "execution_count": 212,
     "metadata": {},
     "output_type": "execute_result"
    },
    {
     "data": {
      "image/png": "[encoded data removed]",
      "text/plain": [
       "<Figure size 432x288 with 1 Axes>"
      ]
     },
     "metadata": {
      "needs_background": "light"
     },
     "output_type": "display_data"
    }
   ],
   "source": [
    "ii=10080\n",
    "ii=6080\n",
    "\n",
    "plt.plot(X_sic[ii,:], label='original')\n",
    "plt.plot(x_sic_decomp[ii,:], label='truncated')\n",
    "\n",
    "#plt.xlim(0,100)\n",
    "# plt.ylim(-20,30)\n",
    "plt.ylabel('Temperature (K)')\n",
    "plt.xlabel('timestep')\n",
    "plt.legend()"
   ]
  },
  {
   "cell_type": "code",
   "execution_count": 211,
   "metadata": {},
   "outputs": [
    {
     "data": {
      "text/plain": [
       "<matplotlib.legend.Legend at 0x7fbd4470c240>"
      ]
     },
     "execution_count": 211,
     "metadata": {},
     "output_type": "execute_result"
    },
    {
     "data": {
      "image/png": "[encoded data removed]",
      "text/plain": [
       "<Figure size 432x288 with 1 Axes>"
      ]
     },
     "metadata": {
      "needs_background": "light"
     },
     "output_type": "display_data"
    }
   ],
   "source": [
    "ii=100\n",
    "\n",
    "plt.plot(X_sic[:,ii], label='original')\n",
    "plt.plot(x_sic_decomp[:,ii], label='truncated')\n",
    "\n",
    "#plt.xlim(0,100)\n",
    "# plt.ylim(-20,30)\n",
    "plt.ylabel('Temperature (K)')\n",
    "plt.xlabel('timestep')\n",
    "plt.legend()"
   ]
  },
  {
   "cell_type": "markdown",
   "metadata": {},
   "source": [
    "## Load and preprocess data: "
   ]
  },
  {
   "cell_type": "code",
   "execution_count": 22,
   "metadata": {},
   "outputs": [],
   "source": [
    "pi = np.pi\n",
    "\n",
    "# fill continents if plotting SST; otherwise no\n",
    "# if var_to_extract == 'tos':\n",
    "#     noland = True\n",
    "# else:\n",
    "#     noland = False\n",
    "\n",
    "infile_20cr_tas = '/home/disk/kalman3/rtardif/LMR/data/model/20cr/tas_sfc_Amon_20CR_185101-201112.nc'\n",
    "\n",
    "fdic_ccsm4 = limkb.build_training_dic(train_dsource)\n",
    "fdic_mpi = limkb.build_training_dic(valid_dsource)"
   ]
  },
  {
   "cell_type": "code",
   "execution_count": 23,
   "metadata": {},
   "outputs": [],
   "source": [
    "areacell = {}\n",
    "areacella_dict = {}\n",
    "areacell['areacella'], areacella_dict = load_data('areacella', areacella_dict, fdic_ccsm4, \n",
    "                                                  remove_climo=False, detrend=False, verbose=False)\n",
    "\n",
    "areacello_dict = {}\n",
    "areacell['areacello'], areacello_dict = load_data('areacello', areacello_dict, fdic_ccsm4, \n",
    "                                                  remove_climo=False, detrend=False, verbose=False)\n",
    "\n",
    "areacell_dict = {}\n",
    "areacell_dict['areacello'] = areacello_dict\n",
    "areacell_dict['areacella'] = areacella_dict"
   ]
  },
  {
   "cell_type": "code",
   "execution_count": 21,
   "metadata": {},
   "outputs": [
    {
     "name": "stdout",
     "output_type": "stream",
     "text": [
      "Loading tas\n",
      "-----------------------------------------------------\n",
      "completed in 22.275814056396484 seconds\n",
      "-----------------------------------------------------\n",
      "fraction in first 400 tas EOFs = 98.65591533463811\n",
      "fraction in first 400 tas EOFs = 98.54226870664989\n",
      "fraction in first 400 tas EOFs = 100.0\n",
      "Loading tos\n",
      "-----------------------------------------------------\n",
      "completed in 58.743412256240845 seconds\n",
      "-----------------------------------------------------\n",
      "fraction in first 400 tos EOFs = 97.28004605750843\n",
      "fraction in first 400 tos EOFs = 97.2581661806435\n",
      "fraction in first 400 tos EOFs = 100.0\n",
      "Loading psl\n",
      "-----------------------------------------------------\n",
      "completed in 22.692524909973145 seconds\n",
      "-----------------------------------------------------\n",
      "fraction in first 400 psl EOFs = 99.88987833765083\n",
      "fraction in first 400 psl EOFs = 99.87421232328735\n",
      "fraction in first 400 psl EOFs = 100.0\n",
      "Loading sit\n",
      "-----------------------------------------------------\n",
      "completed in 48.854525327682495 seconds\n",
      "-----------------------------------------------------\n",
      "fraction in first 400 sit EOFs = 99.76133782835406\n",
      "fraction in first 400 sit EOFs = 99.78050541552186\n",
      "fraction in first 400 sit EOFs = 100.0\n",
      "Loading sic\n",
      "-----------------------------------------------------\n",
      "completed in 53.88830018043518 seconds\n",
      "-----------------------------------------------------\n",
      "fraction in first 50 sic EOFs = 89.86320503915805\n",
      "...separately\n",
      "fraction in first 50 sic EOFs = 90.16346671061257\n",
      "...separately\n",
      "fraction in first 50 sic EOFs = 89.73027725521601\n",
      "...separately\n"
     ]
    }
   ],
   "source": [
    "# load training data...\n",
    "mo = 1\n",
    "\n",
    "wt=True\n",
    "var_dict = {}\n",
    "tot_var = {}\n",
    "tot_var_eig = {}\n",
    "W_all = {}\n",
    "standard_factor = {}\n",
    "E3 = {}\n",
    "Ptrunc = {}\n",
    "\n",
    "n=0\n",
    "\n",
    "for k, var in enumerate(limvars): \n",
    "    X_var, var_dict = load_data(var, var_dict, fdic_ccsm4, remove_climo=True, detrend=True, verbose=True)\n",
    "    \n",
    "    tsamp = X_var.shape[1]\n",
    "    nyears_train = int((tsamp*ntrain)/12)\n",
    "    #nyears_valid = int(X_all_mpi.shape[2]/12)\n",
    "    nyears_valid = int((tsamp*(1-ntrain))/12)\n",
    "\n",
    "    X_t = np.reshape(X_var,(X_var.shape[0],int(tsamp/12),12))\n",
    "    X_train = X_t[:,0:nyears_train,mo]\n",
    "    X_train2 = X_t[:,0:nyears_train,mo+1]\n",
    "#    truth = X_t[:,nyears_train:,mo+1]\n",
    "    ntime = X_train.shape[1]\n",
    "     \n",
    "    [Ptrunc, E3, tot_var,\n",
    "    tot_var_eig, W_all] = step1_compress_individual_var(X_train, ntrunc, nmodes_sic, var_dict, n, \n",
    "                                                        areawt=areacell[areawt_name[var]],\n",
    "                                                        wt=wt, sic_separate=sic_separate)\n",
    "    [Ptrunc2, E3_2, tot_var2,\n",
    "    tot_var_eig2, W_all2] = step1_compress_individual_var(X_train2, ntrunc, nmodes_sic, var_dict, n, \n",
    "                                                          areawt=areacell[areawt_name[var]],\n",
    "                                                          wt=wt, sic_separate=sic_separate)\n",
    "    for m in range(12):\n",
    "        X_valid = X_t[:,nyears_train:,m]\n",
    "        [Ptrunc_valid, E3_valid, tot_var_valid,\n",
    "        tot_var_eig_valid, W_all_valid] = step1_compress_individual_var(X_valid, ntrunc, nmodes_sic, var_dict, n, \n",
    "                                                                        areawt=areacell[areawt_name[var]],\n",
    "                                                                        wt=wt, sic_separate=sic_separate)\n",
    "        Ptrunc_valid_var[:,:,m] = Ptrunc_valid[var]\n",
    "        E3_valid_var[:,:,m] = E3_valid[var]\n",
    "        \n",
    "    del X_var"
   ]
  },
  {
   "cell_type": "code",
   "execution_count": 24,
   "metadata": {},
   "outputs": [
    {
     "name": "stdout",
     "output_type": "stream",
     "text": [
      "Loading tas\n",
      "-----------------------------------------------------\n",
      "completed in 22.809163808822632 seconds\n",
      "-----------------------------------------------------\n",
      "fraction in first 400 tas EOFs = 100.0\n",
      "fraction in first 400 tas EOFs = 100.0\n",
      "fraction in first 400 tas EOFs = 100.0\n",
      "fraction in first 400 tas EOFs = 99.99999999999999\n",
      "fraction in first 400 tas EOFs = 100.0\n",
      "fraction in first 400 tas EOFs = 100.0\n",
      "fraction in first 400 tas EOFs = 100.0\n",
      "fraction in first 400 tas EOFs = 100.0\n",
      "fraction in first 400 tas EOFs = 99.99999999999999\n",
      "fraction in first 400 tas EOFs = 99.99999999999999\n",
      "fraction in first 400 tas EOFs = 100.0\n",
      "fraction in first 400 tas EOFs = 100.0\n",
      "Loading tos\n",
      "-----------------------------------------------------\n",
      "completed in 58.683374643325806 seconds\n",
      "-----------------------------------------------------\n",
      "fraction in first 400 tos EOFs = 100.0\n",
      "fraction in first 400 tos EOFs = 100.0\n",
      "fraction in first 400 tos EOFs = 100.0\n",
      "fraction in first 400 tos EOFs = 100.0\n",
      "fraction in first 400 tos EOFs = 100.0\n",
      "fraction in first 400 tos EOFs = 100.0\n",
      "fraction in first 400 tos EOFs = 100.0\n",
      "fraction in first 400 tos EOFs = 100.0\n",
      "fraction in first 400 tos EOFs = 100.00000000000001\n",
      "fraction in first 400 tos EOFs = 100.0\n",
      "fraction in first 400 tos EOFs = 100.0\n",
      "fraction in first 400 tos EOFs = 100.0\n",
      "Loading psl\n",
      "-----------------------------------------------------\n",
      "completed in 34.30675458908081 seconds\n",
      "-----------------------------------------------------\n",
      "fraction in first 400 psl EOFs = 100.0\n",
      "fraction in first 400 psl EOFs = 100.0\n",
      "fraction in first 400 psl EOFs = 100.0\n",
      "fraction in first 400 psl EOFs = 100.0\n",
      "fraction in first 400 psl EOFs = 100.00000000000001\n",
      "fraction in first 400 psl EOFs = 99.99999999999999\n",
      "fraction in first 400 psl EOFs = 100.0\n",
      "fraction in first 400 psl EOFs = 100.0\n",
      "fraction in first 400 psl EOFs = 100.0\n",
      "fraction in first 400 psl EOFs = 99.99999999999999\n",
      "fraction in first 400 psl EOFs = 100.00000000000001\n",
      "fraction in first 400 psl EOFs = 100.0\n",
      "Loading sit\n",
      "-----------------------------------------------------\n",
      "completed in 88.69927525520325 seconds\n",
      "-----------------------------------------------------\n",
      "fraction in first 400 sit EOFs = 100.0\n",
      "fraction in first 400 sit EOFs = 100.0\n",
      "fraction in first 400 sit EOFs = 100.0\n",
      "fraction in first 400 sit EOFs = 100.0\n",
      "fraction in first 400 sit EOFs = 100.0\n",
      "fraction in first 400 sit EOFs = 100.0\n",
      "fraction in first 400 sit EOFs = 100.0\n",
      "fraction in first 400 sit EOFs = 100.0\n",
      "fraction in first 400 sit EOFs = 100.00000000000001\n",
      "fraction in first 400 sit EOFs = 100.0\n",
      "fraction in first 400 sit EOFs = 100.0\n",
      "fraction in first 400 sit EOFs = 100.00000000000001\n",
      "Loading sic\n",
      "-----------------------------------------------------\n",
      "completed in 89.1871280670166 seconds\n",
      "-----------------------------------------------------\n",
      "fraction in first 50 sic EOFs = 88.31200609607569\n",
      "...separately\n",
      "fraction in first 50 sic EOFs = 89.73027725521601\n",
      "...separately\n",
      "fraction in first 50 sic EOFs = 90.0709044776731\n",
      "...separately\n",
      "fraction in first 50 sic EOFs = 88.9475647839354\n",
      "...separately\n",
      "fraction in first 50 sic EOFs = 86.58715389874118\n",
      "...separately\n",
      "fraction in first 50 sic EOFs = 83.46917453734379\n",
      "...separately\n",
      "fraction in first 50 sic EOFs = 84.94926302445029\n",
      "...separately\n",
      "fraction in first 50 sic EOFs = 85.56302193692507\n",
      "...separately\n",
      "fraction in first 50 sic EOFs = 85.7075727854484\n",
      "...separately\n",
      "fraction in first 50 sic EOFs = 87.0919978448768\n",
      "...separately\n",
      "fraction in first 50 sic EOFs = 86.06880288513264\n",
      "...separately\n",
      "fraction in first 50 sic EOFs = 85.19777943326451\n",
      "...separately\n"
     ]
    }
   ],
   "source": [
    "# Step 1 of truncation: all months for validation data...\n",
    "mo = 1\n",
    "\n",
    "wt=True\n",
    "var_dict = {}\n",
    "tot_var = {}\n",
    "tot_var_eig = {}\n",
    "W_all = {}\n",
    "standard_factor = {}\n",
    "E3 = {}\n",
    "Ptrunc = {}\n",
    "\n",
    "Ptrunc_valid_allmo = {}\n",
    "E3_valid_allmo = {}\n",
    "W_all_valid_allmo = {}\n",
    "\n",
    "n=0\n",
    "\n",
    "for k, var in enumerate(limvars): \n",
    "    X_var, var_dict = load_data(var, var_dict, fdic_ccsm4, remove_climo=True, detrend=True, verbose=True)\n",
    "    \n",
    "    tsamp = X_var.shape[1]\n",
    "    nyears_train = int((tsamp*ntrain)/12)\n",
    "    #nyears_valid = int(X_all_mpi.shape[2]/12)\n",
    "    nyears_valid = int((tsamp*(1-ntrain))/12)\n",
    "    X_t = np.reshape(X_var,(X_var.shape[0],int(tsamp/12),12))\n",
    "    \n",
    "    for m in range(12):\n",
    "        X_valid = X_t[:,nyears_train:,m]\n",
    "        \n",
    "        [Ptrunc_valid, E3_valid, tot_var_valid,\n",
    "        tot_var_eig_valid, W_all_valid] = step1_compress_individual_var(X_valid, ntrunc, nmodes_sic, var_dict, n, \n",
    "                                                                        areawt=areacell[areawt_name[var]],\n",
    "                                                                        wt=wt, sic_separate=sic_separate)\n",
    "        if m ==0:\n",
    "            Ptrunc_valid_var = np.zeros((Ptrunc_valid[var].shape[0],Ptrunc_valid[var].shape[1],12))\n",
    "            E3_valid_var = np.zeros((E3_valid[var].shape[0],E3_valid[var].shape[1],12))\n",
    "            W_all_valid_var = np.zeros((W_all_valid[var].shape[0],12))\n",
    "            \n",
    "        Ptrunc_valid_var[:,:,m] = Ptrunc_valid[var]\n",
    "        E3_valid_var[:,:,m] = E3_valid[var]\n",
    "        W_all_valid_var[:,m] = W_all_valid[var]\n",
    "        \n",
    "    Ptrunc_valid_allmo[var] = Ptrunc_valid_var\n",
    "    E3_valid_allmo[var] = E3_valid_var\n",
    "    W_all_valid_allmo[var] = W_all_valid_var\n",
    "        \n",
    "    del X_var"
   ]
  },
  {
   "cell_type": "code",
   "execution_count": 70,
   "metadata": {},
   "outputs": [],
   "source": [
    "# Step 2 of truncation: all months for validation data...\n",
    "ndof_all_valid = count_ndof_all(limvars, E3_valid, sic_separate=sic_separate)\n",
    "\n",
    "[Ptrunc_all_valid_allmo, E3_all_valid_allmo,\n",
    " Ptrunc_sic_valid_allmo, \n",
    " E_sic_valid_allmo] = stack_variable_eofs(limvars,ndof_all_valid, ntrunc, \n",
    "                                          Ptrunc_valid_allmo, E3_valid_allmo, var_dict, \n",
    "                                          nmonths=12, sic_separate=sic_separate)\n",
    "\n",
    "P_train_valid_allmo = {}\n",
    "Fvar_valid_allmo = {}\n",
    "E_valid_allmo = {}\n",
    "\n",
    "for m in range(12):\n",
    "    print('Working on month: '+str(m))\n",
    "    [P_train_valid_allmo[m], Fvar_valid_allmo[m], \n",
    "     E_valid_allmo[m]] = limkb.step2_multivariate_compress(Ptrunc_all_valid_allmo[:,:,m],nmodes, \n",
    "                                                           E3_all_valid_allmo[:,:,m], \n",
    "                                                           Ptrunc_sic_valid_allmo[:,:,m],\n",
    "                                                           sic_separate=sic_separate)"
   ]
  },
  {
   "cell_type": "code",
   "execution_count": 33,
   "metadata": {},
   "outputs": [],
   "source": [
    "# # Save truncated validation data: \n",
    "# P_save = {}\n",
    "# P_save['Ptrain_valid_allmo'] = P_train_valid_allmo\n",
    "# P_save['Fvar_valid_allmo'] = Fvar_valid_allmo\n",
    "# P_save['E_valid_allmo'] = E_valid_allmo\n",
    "\n",
    "# var_nms = [l+'_' for l in limvars]\n",
    "# savename = 'P_train_valid_allmo_'+ ''.join(var_nms)+ 'ntrunc'+str(ntrunc)+'_nmodes'+str(nmodes)+'_nmodessic'+str(nmodes_sic)+'031521.pkl'\n",
    "# pickle.dump(P_save, open(savename, \"wb\" ) )"
   ]
  },
  {
   "cell_type": "code",
   "execution_count": 68,
   "metadata": {},
   "outputs": [
    {
     "data": {
      "text/plain": [
       "((110, 400), 77.07284151195552, (149504, 60))"
      ]
     },
     "execution_count": 68,
     "metadata": {},
     "output_type": "execute_result"
    }
   ],
   "source": [
    "# Open truncated validation data: \n",
    "var_nms = [l+'_' for l in limvars]\n",
    "savename = 'P_train_valid_allmo_'+ ''.join(var_nms)+ 'ntrunc'+str(ntrunc)+'_nmodes'+str(nmodes)+'_nmodessic'+str(nmodes_sic)+'031521.pkl'\n",
    "\n",
    "P_save = pickle.load(open(savename, \"rb\" ) )\n",
    "\n",
    "P_train_valid_allmo = P_save['Ptrain_valid_allmo']\n",
    "Fvar_valid_allmo = P_save['Fvar_valid_allmo']\n",
    "E_valid_allmo = P_save['E_valid_allmo'] "
   ]
  },
  {
   "cell_type": "code",
   "execution_count": 23,
   "metadata": {},
   "outputs": [
    {
     "name": "stdout",
     "output_type": "stream",
     "text": [
      "working on tas\n",
      "working on tos\n",
      "working on psl\n",
      "working on sit\n",
      "working on sic\n"
     ]
    }
   ],
   "source": [
    "# Get indices for each variable:\n",
    "start = 0\n",
    "for k, var in enumerate(limvars): \n",
    "    print('working on '+var)\n",
    "    inds = var_dict[var]['var_ndof']\n",
    "    var_inds = np.arange(start,start+inds,1)\n",
    "    start = inds+start\n",
    "    \n",
    "    var_dict[var]['var_inds'] = var_inds"
   ]
  },
  {
   "cell_type": "code",
   "execution_count": 24,
   "metadata": {},
   "outputs": [
    {
     "name": "stdout",
     "output_type": "stream",
     "text": [
      "Fraction in first 60 multivariate EOFs = 76.1634493538856\n",
      "Shape of E: (149504, 60)\n"
     ]
    }
   ],
   "source": [
    "ndof_all = count_ndof_all(limvars, E3, sic_separate=sic_separate)\n",
    "\n",
    "[Ptrunc_all, E3_all, \n",
    "Ptrunc_sic, E_sic] = stack_variable_eofs(limvars, ndof_all, ntrunc, Ptrunc, E3, \n",
    "                                         var_dict, sic_separate=sic_separate)\n",
    "\n",
    "[P_train, Fvar, E] = limkb.step2_multivariate_compress(Ptrunc_all,nmodes, E3_all, Ptrunc_sic, \n",
    "                                                       sic_separate=sic_separate)"
   ]
  },
  {
   "cell_type": "code",
   "execution_count": 25,
   "metadata": {},
   "outputs": [
    {
     "name": "stdout",
     "output_type": "stream",
     "text": [
      "Fraction in first 60 multivariate EOFs = 76.1634493538856\n",
      "Shape of E: (149504, 60)\n"
     ]
    }
   ],
   "source": [
    "ndof_all2 = count_ndof_all(limvars, E3_2, sic_separate=sic_separate)\n",
    "\n",
    "[Ptrunc_all2, E3_all2,\n",
    " Ptrunc_sic2, E_sic2] = stack_variable_eofs(limvars, ndof_all2, ntrunc, Ptrunc2, E3_2, \n",
    "                                           var_dict, sic_separate=sic_separate)\n",
    "\n",
    "[P_train2, Fvar2, E_2] = limkb.step2_multivariate_compress(Ptrunc_all2,nmodes, E3_all2, Ptrunc_sic2, \n",
    "                                                           sic_separate=sic_separate)"
   ]
  },
  {
   "cell_type": "code",
   "execution_count": 26,
   "metadata": {},
   "outputs": [
    {
     "data": {
      "text/plain": [
       "(56320, 50)"
      ]
     },
     "execution_count": 26,
     "metadata": {},
     "output_type": "execute_result"
    }
   ],
   "source": [
    "E3_valid['sic'].shape"
   ]
  },
  {
   "cell_type": "code",
   "execution_count": 26,
   "metadata": {},
   "outputs": [
    {
     "name": "stdout",
     "output_type": "stream",
     "text": [
      "Fraction in first 60 multivariate EOFs = 76.1634493538856\n",
      "Shape of E: (149504, 60)\n"
     ]
    }
   ],
   "source": [
    "ndof_all_valid = count_ndof_all(limvars, E3_valid, sic_separate=sic_separate)\n",
    "\n",
    "[Ptrunc_all_valid, E3_all_valid,\n",
    " Ptrunc_sic_valid, E_sic_valid] = stack_variable_eofs(limvars, ndof_all_valid, ntrunc, Ptrunc_valid, E3_valid, \n",
    "                                                      var_dict, sic_separate=sic_separate)\n",
    "\n",
    "[P_train_valid, Fvar_valid, \n",
    " E_valid] = limkb.step2_multivariate_compress(Ptrunc_all_valid,nmodes, E3_all_valid, Ptrunc_sic_valid,\n",
    "                                              sic_separate=sic_separate)"
   ]
  },
  {
   "cell_type": "code",
   "execution_count": 26,
   "metadata": {
    "collapsed": true
   },
   "outputs": [],
   "source": [
    "# # train the LIM\n",
    "# LIMd, G = lim.LIM_train(tau,P_train)\n",
    "# print('Training LIM with tau = '+str(tau))"
   ]
  },
  {
   "cell_type": "code",
   "execution_count": 27,
   "metadata": {},
   "outputs": [
    {
     "name": "stdout",
     "output_type": "stream",
     "text": [
      "Training LIM with tau = 1\n"
     ]
    }
   ],
   "source": [
    "LIMd2, G2 = lim.LIM_train_flex(tau,P_train, P_train2)\n",
    "print('Training LIM with tau = '+str(tau))"
   ]
  },
  {
   "cell_type": "code",
   "execution_count": 22,
   "metadata": {},
   "outputs": [],
   "source": [
    "# import pickle \n",
    "\n",
    "# LIM_save = {}\n",
    "# LIM_save['LIMd2'] = LIMd2\n",
    "# LIM_save['var_dict'] = var_dict\n",
    "# LIM_save['P_train_valid'] = P_train_valid\n",
    "# LIM_save['P_train2'] = P_train2\n",
    "# LIM_save['P_train'] = P_train\n",
    "# LIM_save['E'] = E\n",
    "# LIM_save['E_sic'] = E_sic\n",
    "# LIM_save['W_all'] = W_all\n",
    "# LIM_save['W_all2'] = W_all2\n",
    "# LIM_save['W_all_valid'] = W_all_valid\n",
    "\n",
    "# var_nms = [l+'_' for l in limvars]\n",
    "# savename = 'L_'+ ''.join(var_nms)+ 'ntrunc'+str(ntrunc)+'_nmodes'+str(nmodes)+'_nmodessic'+str(nmodes_sic)+'031021.pkl'\n",
    "# pickle.dump(LIM_save, open(savename, \"wb\" ) )"
   ]
  },
  {
   "cell_type": "code",
   "execution_count": 414,
   "metadata": {},
   "outputs": [],
   "source": [
    "import pickle \n",
    "\n",
    "var_nms = [l+'_' for l in limvars]\n",
    "savename = 'L_mo'+str(mo)+'_'+''.join(var_nms)+ 'ntrunc'+str(ntrunc)+'_nmodes'+str(nmodes)+'_nmodessic'+str(nmodes_sic)+'031021.pkl'\n",
    "\n",
    "LIM_save = pickle.load(open(savename, \"rb\" ) )\n",
    "\n",
    "LIMd2 = LIM_save['LIMd2']\n",
    "var_dict = LIM_save['var_dict']\n",
    "P_train_valid = LIM_save['P_train_valid'] \n",
    "P_train2 = LIM_save['P_train2'] \n",
    "P_train = LIM_save['P_train']\n",
    "E = LIM_save['E'] \n",
    "E_sic = LIM_save['E_sic'] \n",
    "W_all = LIM_save['W_all'] \n",
    "W_all2 = LIM_save['W_all2'] \n",
    "W_all_valid = LIM_save['W_all_valid']"
   ]
  },
  {
   "cell_type": "code",
   "execution_count": 415,
   "metadata": {},
   "outputs": [],
   "source": [
    "# Open truncated validation data: \n",
    "var_nms = [l+'_' for l in limvars]\n",
    "savename = 'P_train_valid_allmo_'+ ''.join(var_nms)+ 'ntrunc'+str(ntrunc)+'_nmodes'+str(nmodes)+'_nmodessic'+str(nmodes_sic)+'031521.pkl'\n",
    "\n",
    "P_save = pickle.load(open(savename, \"rb\" ) )\n",
    "\n",
    "P_train_valid_allmo = P_save['Ptrain_valid_allmo']\n",
    "Fvar_valid_allmo = P_save['Fvar_valid_allmo']\n",
    "E_valid_allmo = P_save['E_valid_allmo'] "
   ]
  },
  {
   "cell_type": "code",
   "execution_count": 430,
   "metadata": {},
   "outputs": [],
   "source": [
    "# Check that validation truncation is working: \n",
    "z = 0\n",
    "x_dcomp_test0 = decompress_eof_separate_sic2(P_train_valid_allmo[z],\n",
    "                                            nmodes,nmodes_sic,E_valid_allmo[z],E_sic,limvars,var_dict,\n",
    "                                            W_all_valid,sic_separate=sic_separate)"
   ]
  },
  {
   "cell_type": "code",
   "execution_count": 431,
   "metadata": {},
   "outputs": [
    {
     "data": {
      "text/plain": [
       "((56320, 400), (56320, 400))"
      ]
     },
     "execution_count": 431,
     "metadata": {},
     "output_type": "execute_result"
    }
   ],
   "source": [
    "sic_dcomp_test.shape, X_t[:,nyears_train:,mo].shape"
   ]
  },
  {
   "cell_type": "code",
   "execution_count": 432,
   "metadata": {},
   "outputs": [
    {
     "ename": "NameError",
     "evalue": "name 'sic_dcomp_test0' is not defined",
     "output_type": "error",
     "traceback": [
      "\u001b[0;31m---------------------------------------------------------------------------\u001b[0m",
      "\u001b[0;31mNameError\u001b[0m                                 Traceback (most recent call last)",
      "\u001b[0;32m<ipython-input-432-a6b31f29987e>\u001b[0m in \u001b[0;36m<module>\u001b[0;34m()\u001b[0m\n\u001b[1;32m      3\u001b[0m \u001b[0;34m\u001b[0m\u001b[0m\n\u001b[1;32m      4\u001b[0m \u001b[0mplt\u001b[0m\u001b[0;34m.\u001b[0m\u001b[0mplot\u001b[0m\u001b[0;34m(\u001b[0m\u001b[0mX_t\u001b[0m\u001b[0;34m[\u001b[0m\u001b[0mii\u001b[0m\u001b[0;34m,\u001b[0m\u001b[0mnyears_train\u001b[0m\u001b[0;34m:\u001b[0m\u001b[0;34m,\u001b[0m\u001b[0;36m0\u001b[0m\u001b[0;34m]\u001b[0m\u001b[0;34m)\u001b[0m\u001b[0;34m\u001b[0m\u001b[0m\n\u001b[0;32m----> 5\u001b[0;31m \u001b[0mplt\u001b[0m\u001b[0;34m.\u001b[0m\u001b[0mplot\u001b[0m\u001b[0;34m(\u001b[0m\u001b[0msic_dcomp_test0\u001b[0m\u001b[0;34m[\u001b[0m\u001b[0mii\u001b[0m\u001b[0;34m,\u001b[0m\u001b[0;34m:\u001b[0m\u001b[0;34m]\u001b[0m\u001b[0;34m)\u001b[0m\u001b[0;34m\u001b[0m\u001b[0m\n\u001b[0m",
      "\u001b[0;31mNameError\u001b[0m: name 'sic_dcomp_test0' is not defined"
     ]
    },
    {
     "data": {
      "image/png": "[encoded data removed]",
      "text/plain": [
       "<Figure size 432x288 with 1 Axes>"
      ]
     },
     "metadata": {
      "needs_background": "light"
     },
     "output_type": "display_data"
    }
   ],
   "source": [
    "ii=10080\n",
    "#sic_dcomp_test = x_dcomp_test[var_dict['sic']['var_inds'],:]\n",
    "\n",
    "plt.plot(X_t[ii,nyears_train:,0])\n",
    "plt.plot(sic_dcomp_test0[ii,:])"
   ]
  },
  {
   "cell_type": "code",
   "execution_count": 406,
   "metadata": {},
   "outputs": [
    {
     "name": "stdout",
     "output_type": "stream",
     "text": [
      "Loading sic\n",
      "-----------------------------------------------------\n",
      "completed in 215.31062841415405 seconds\n",
      "-----------------------------------------------------\n"
     ]
    }
   ],
   "source": [
    "var_dumb = {}\n",
    "\n",
    "X_var, var_dict = load_data('sic', var_dumb, fdic_ccsm4, remove_climo=True, detrend=True, verbose=True)\n",
    "    \n",
    "tsamp = X_var.shape[1]\n",
    "nyears_train = int((tsamp*ntrain)/12)\n",
    "#nyears_valid = int(X_all_mpi.shape[2]/12)\n",
    "nyears_valid = int((tsamp*(1-ntrain))/12)\n",
    "X_t = np.reshape(X_var,(X_var.shape[0],int(tsamp/12),12))"
   ]
  },
  {
   "cell_type": "code",
   "execution_count": 408,
   "metadata": {},
   "outputs": [
    {
     "data": {
      "text/plain": [
       "(56320, 400, 12)"
      ]
     },
     "execution_count": 408,
     "metadata": {},
     "output_type": "execute_result"
    }
   ],
   "source": [
    "X_t[:,nyears_train:,:]"
   ]
  },
  {
   "cell_type": "code",
   "execution_count": null,
   "metadata": {},
   "outputs": [],
   "source": [
    "X_valid = X_t[:,nyears_train:,m]"
   ]
  },
  {
   "cell_type": "code",
   "execution_count": null,
   "metadata": {},
   "outputs": [],
   "source": []
  },
  {
   "cell_type": "code",
   "execution_count": 336,
   "metadata": {},
   "outputs": [
    {
     "name": "stdout",
     "output_type": "stream",
     "text": [
      "t= 0\n",
      "t= 1\n",
      "t= 2\n",
      "t= 3\n",
      "t= 4\n",
      "t= 5\n",
      "t= 6\n",
      "t= 7\n",
      "t= 8\n",
      "t= 9\n",
      "t= 10\n",
      "t= 11\n"
     ]
    }
   ],
   "source": [
    "# There is a bug with this forecast function function: It uses the eigenvectors and values to calculate Gt, \n",
    "#                                              but it's giving the same value for all lags in the forecast\n",
    "\n",
    "# LIM forecasts for a range of monthly values (can specify a list of arbitrary values too)\n",
    "lags = [0,1,2,3,4,5,6,7,8,9,10,11]\n",
    "#lags = [1]\n",
    "#lags = [0,3,6,12]\n",
    "ntims = len(lags)\n",
    "\n",
    "LIM_fcast_og = LIM_forecast(LIMd2,P_train_valid_allmo[mo],lags)"
   ]
  },
  {
   "cell_type": "code",
   "execution_count": 338,
   "metadata": {},
   "outputs": [
    {
     "name": "stdout",
     "output_type": "stream",
     "text": [
      "t= 0\n",
      "t= 1\n",
      "t= 2\n",
      "t= 3\n",
      "t= 4\n",
      "t= 5\n",
      "t= 6\n",
      "t= 7\n",
      "t= 8\n",
      "t= 9\n",
      "t= 10\n",
      "t= 11\n"
     ]
    }
   ],
   "source": [
    "# LIM forecasts for a range of monthly values (can specify a list of arbitrary values too)\n",
    "lags = [0,1,2,3,4,5,6,7,8,9,10,11]\n",
    "#lags = [1]\n",
    "#lags = [0,3,6,12]\n",
    "ntims = len(lags)\n",
    "\n",
    "LIM_fcast = LIM_forecast_Gt(LIMd2,P_train_valid_allmo[mo],lags)"
   ]
  },
  {
   "cell_type": "code",
   "execution_count": 365,
   "metadata": {},
   "outputs": [
    {
     "data": {
      "text/plain": [
       "1"
      ]
     },
     "execution_count": 365,
     "metadata": {},
     "output_type": "execute_result"
    }
   ],
   "source": [
    "mo"
   ]
  },
  {
   "cell_type": "code",
   "execution_count": 367,
   "metadata": {},
   "outputs": [
    {
     "data": {
      "text/plain": [
       "(array([[ 6.48172883e-01,  2.55986887e-01, -7.45586812e-01, ...,\n",
       "         -2.77224422e-01,  4.96801148e-01,  4.93449219e-01],\n",
       "        [-6.59494312e-01, -4.76147539e-02, -1.41936029e-01, ...,\n",
       "         -2.07259875e-01, -1.58964581e-01, -2.64143658e-01],\n",
       "        [ 4.34652584e-01,  2.25980510e-01, -7.50136374e-02, ...,\n",
       "         -7.36575767e-01,  9.13504077e-01, -7.74387640e-01],\n",
       "        ...,\n",
       "        [ 5.25806083e-02, -8.74064408e-03,  4.88480976e-02, ...,\n",
       "          8.97422222e-02,  3.74157433e-02,  6.23959895e-02],\n",
       "        [-8.12461154e-04,  5.65803902e-03, -5.98884578e-02, ...,\n",
       "          1.96494502e-02,  5.24057021e-02, -5.88202449e-02],\n",
       "        [ 1.11785541e-01,  4.20413190e-02,  3.00872310e-02, ...,\n",
       "         -6.21748942e-03,  1.48516619e-03,  4.73437877e-02]]), (110, 400))"
      ]
     },
     "execution_count": 367,
     "metadata": {},
     "output_type": "execute_result"
    }
   ],
   "source": [
    "P_train_valid_allmo[0], P_train_valid_allmo[1].shape"
   ]
  },
  {
   "cell_type": "code",
   "execution_count": 360,
   "metadata": {},
   "outputs": [
    {
     "ename": "NameError",
     "evalue": "name 'x' is not defined",
     "output_type": "error",
     "traceback": [
      "\u001b[0;31m---------------------------------------------------------------------------\u001b[0m",
      "\u001b[0;31mNameError\u001b[0m                                 Traceback (most recent call last)",
      "\u001b[0;32m<ipython-input-360-e2d9c8dc636e>\u001b[0m in \u001b[0;36m<module>\u001b[0;34m()\u001b[0m\n\u001b[0;32m----> 1\u001b[0;31m \u001b[0mnp\u001b[0m\u001b[0;34m.\u001b[0m\u001b[0mmatmul\u001b[0m\u001b[0;34m(\u001b[0m\u001b[0mGt\u001b[0m\u001b[0;34m,\u001b[0m\u001b[0mx\u001b[0m\u001b[0;34m[\u001b[0m\u001b[0;34m:\u001b[0m\u001b[0;34m,\u001b[0m\u001b[0;34m:\u001b[0m\u001b[0;34m-\u001b[0m\u001b[0mt\u001b[0m\u001b[0;34m]\u001b[0m\u001b[0;34m)\u001b[0m\u001b[0;34m,\u001b[0m \u001b[0mP_train_valid_allmo\u001b[0m\u001b[0;34m[\u001b[0m\u001b[0;36m0\u001b[0m\u001b[0;34m]\u001b[0m\u001b[0;34m\u001b[0m\u001b[0m\n\u001b[0m",
      "\u001b[0;31mNameError\u001b[0m: name 'x' is not defined"
     ]
    }
   ],
   "source": [
    "np.matmul(Gt,x[:,:-t]), P_train_valid_allmo[0]"
   ]
  },
  {
   "cell_type": "code",
   "execution_count": 359,
   "metadata": {},
   "outputs": [
    {
     "data": {
      "text/plain": [
       "(array([[ 1.00000000e+00, -8.46906717e-16,  5.64396926e-15, ...,\n",
       "         -7.77828217e-16,  1.72579016e-15, -9.50325463e-16],\n",
       "        [ 4.52088575e-16,  1.00000000e+00,  5.60895745e-16, ...,\n",
       "         -3.61181566e-16, -1.19357812e-15,  7.34658227e-16],\n",
       "        [-1.28391061e-15, -1.68903031e-15,  1.00000000e+00, ...,\n",
       "         -1.15294295e-15,  6.34465729e-17,  3.61826962e-16],\n",
       "        ...,\n",
       "        [ 1.89691556e-17, -3.71571079e-17, -1.04629255e-17, ...,\n",
       "          1.00000000e+00, -2.91026073e-17,  2.22749596e-17],\n",
       "        [-1.63744404e-17, -7.91812703e-17, -1.74346650e-17, ...,\n",
       "          1.79356061e-17,  1.00000000e+00, -3.05765191e-18],\n",
       "        [-8.62744336e-17,  6.66077550e-18, -3.56840204e-17, ...,\n",
       "         -3.95015514e-17, -1.50500280e-17,  1.00000000e+00]]),\n",
       " array([[ 1.00000000e+00, -1.69381343e-15,  1.12879385e-14, ...,\n",
       "         -1.55565643e-15,  3.45158031e-15, -1.90065093e-15],\n",
       "        [ 9.04177151e-16,  1.00000000e+00,  1.12179149e-15, ...,\n",
       "         -7.22363132e-16, -2.38715624e-15,  1.46931645e-15],\n",
       "        [-2.56782123e-15, -3.37806063e-15,  1.00000000e+00, ...,\n",
       "         -2.30588590e-15,  1.26893146e-16,  7.23653923e-16],\n",
       "        ...,\n",
       "        [ 3.79383111e-17, -7.43142159e-17, -2.09258510e-17, ...,\n",
       "          1.00000000e+00, -5.82052146e-17,  4.45499193e-17],\n",
       "        [-3.27488807e-17, -1.58362541e-16, -3.48693300e-17, ...,\n",
       "          3.58712122e-17,  1.00000000e+00, -6.11530381e-18],\n",
       "        [-1.72548867e-16,  1.33215510e-17, -7.13680407e-17, ...,\n",
       "         -7.90031028e-17, -3.01000559e-17,  1.00000000e+00]]),\n",
       " array([[ 1.00000000e+00, -2.54072015e-15,  1.69319078e-14, ...,\n",
       "         -2.33348465e-15,  5.17737047e-15, -2.85097639e-15],\n",
       "        [ 1.35626573e-15,  1.00000000e+00,  1.68268724e-15, ...,\n",
       "         -1.08354470e-15, -3.58073435e-15,  2.20397468e-15],\n",
       "        [-3.85173184e-15, -5.06709094e-15,  1.00000000e+00, ...,\n",
       "         -3.45882885e-15,  1.90339719e-16,  1.08548088e-15],\n",
       "        ...,\n",
       "        [ 5.69074667e-17, -1.11471324e-16, -3.13887765e-17, ...,\n",
       "          1.00000000e+00, -8.73078218e-17,  6.68248789e-17],\n",
       "        [-4.91233211e-17, -2.37543811e-16, -5.23039951e-17, ...,\n",
       "          5.38068184e-17,  1.00000000e+00, -9.17295572e-18],\n",
       "        [-2.58823301e-16,  1.99823265e-17, -1.07052061e-16, ...,\n",
       "         -1.18504654e-16, -4.51500839e-17,  1.00000000e+00]]))"
      ]
     },
     "execution_count": 359,
     "metadata": {},
     "output_type": "execute_result"
    }
   ],
   "source": [
    "np.linalg.matrix_power(LIMd2['G'],1), np.linalg.matrix_power(LIMd2['G'],2), np.linalg.matrix_power(LIMd2['G'],3)"
   ]
  },
  {
   "cell_type": "code",
   "execution_count": 350,
   "metadata": {},
   "outputs": [
    {
     "data": {
      "text/plain": [
       "(12, 110, 400)"
      ]
     },
     "execution_count": 350,
     "metadata": {},
     "output_type": "execute_result"
    }
   ],
   "source": [
    "LIM_fcast['x_forecast'].shape"
   ]
  },
  {
   "cell_type": "code",
   "execution_count": 351,
   "metadata": {},
   "outputs": [
    {
     "data": {
      "text/plain": [
       "<matplotlib.legend.Legend at 0x7f2b1cdafe48>"
      ]
     },
     "execution_count": 351,
     "metadata": {},
     "output_type": "execute_result"
    },
    {
     "data": {
      "image/png": "[encoded data removed]",
      "text/plain": [
       "<Figure size 432x288 with 1 Axes>"
      ]
     },
     "metadata": {
      "needs_background": "light"
     },
     "output_type": "display_data"
    }
   ],
   "source": [
    "plt.plot(np.arange(0,400,1),LIM_fcast['x_forecast'][0,0,:], label='leadtime: 0')\n",
    "plt.plot(LIM_fcast_og['x_forecast'][1,0,:], label='leadtime: 1')\n",
    "plt.plot(LIM_fcast_og['x_forecast'][2,0,:], label='leadtime: 2')\n",
    "plt.plot(LIM_fcast['x_forecast'][3,0,:], label='leadtime: 3')\n",
    "# plt.plot(LIM_fcast['x_forecast'][4,0,:])\n",
    "#plt.plot(LIM_fcast['x_forecast'][10,0,:])\n",
    "plt.xlim(0,20)\n",
    "plt.xticks(np.arange(0,400,5))\n",
    "plt.xlim(0,20)\n",
    "plt.xlabel('time')\n",
    "plt.xlabel('time')\n",
    "plt.legend()"
   ]
  },
  {
   "cell_type": "code",
   "execution_count": 32,
   "metadata": {},
   "outputs": [],
   "source": [
    "# x_forecast_dcomp = decompress_eof_separate_sic2(LIM_fcast[1]['x_forecast'],nmodes,nmodes_sic,E,E_sic,\n",
    "#                                                 limvars,var_dict,W_all,Weights=True,\n",
    "#                                                 sic_separate=sic_separate)"
   ]
  },
  {
   "cell_type": "code",
   "execution_count": 342,
   "metadata": {},
   "outputs": [
    {
     "data": {
      "text/plain": [
       "(0, 20)"
      ]
     },
     "execution_count": 342,
     "metadata": {},
     "output_type": "execute_result"
    },
    {
     "data": {
      "image/png": "[encoded data removed]",
      "text/plain": [
       "<Figure size 432x288 with 1 Axes>"
      ]
     },
     "metadata": {
      "needs_background": "light"
     },
     "output_type": "display_data"
    }
   ],
   "source": [
    "#plt.plot(LIM_fcast['x_forecast'][0,0,:])\n",
    "plt.plot(LIM_fcast['x_forecast'][1,0,:])\n",
    "plt.plot(LIM_fcast['x_forecast'][2,0,:])\n",
    "# plt.plot(LIM_fcast['x_forecast'][3,0,:])\n",
    "# plt.plot(LIM_fcast['x_forecast'][4,0,:])\n",
    "plt.plot(LIM_fcast['x_forecast'][10,0,:])\n",
    "plt.xlim(0,20)"
   ]
  },
  {
   "cell_type": "code",
   "execution_count": 377,
   "metadata": {},
   "outputs": [
    {
     "data": {
      "text/plain": [
       "(149504, 60)"
      ]
     },
     "execution_count": 377,
     "metadata": {},
     "output_type": "execute_result"
    }
   ],
   "source": [
    "E_valid_allmo[i].shape"
   ]
  },
  {
   "cell_type": "code",
   "execution_count": 381,
   "metadata": {},
   "outputs": [
    {
     "name": "stdout",
     "output_type": "stream",
     "text": [
      "Lag 0\n",
      "Lag 1\n",
      "Lag 2\n",
      "Lag 3\n",
      "Lag 4\n",
      "Lag 5\n",
      "Lag 6\n",
      "Lag 7\n",
      "Lag 8\n",
      "Lag 9\n",
      "Lag 10\n",
      "Lag 11\n"
     ]
    }
   ],
   "source": [
    "x_forecast_dcomp = np.zeros((LIM_fcast['x_forecast'].shape[0],E.shape[0]+E_sic.shape[0],\n",
    "                             LIM_fcast['x_forecast'].shape[2]))\n",
    "\n",
    "for i,lag in enumerate(lags):\n",
    "    print('Lag '+ str(lag))\n",
    "    x_forecast_dcomp[i,:,:] = decompress_eof_separate_sic2(LIM_fcast['x_forecast'][i,:,:],\n",
    "                                                           nmodes,nmodes_sic,E_valid_allmo[mo],\n",
    "                                                           E_sic,limvars,var_dict,\n",
    "                                                           W_all_valid,sic_separate=sic_separate)\n",
    "    \n",
    "#units = areacell_dict[areawt_name[var]][areawt_name[var]]['units']                                                           W_all,Weights=True,sic_separate=sic_separate)"
   ]
  },
  {
   "cell_type": "code",
   "execution_count": 384,
   "metadata": {},
   "outputs": [
    {
     "data": {
      "text/plain": [
       "(0, 100)"
      ]
     },
     "execution_count": 384,
     "metadata": {},
     "output_type": "execute_result"
    },
    {
     "data": {
      "image/png": "[encoded data removed]",
      "text/plain": [
       "<Figure size 432x288 with 1 Axes>"
      ]
     },
     "metadata": {
      "needs_background": "light"
     },
     "output_type": "display_data"
    }
   ],
   "source": [
    "x_test = x_forecast_dcomp[0,var_dict['sic']['var_inds'],:]\n",
    "x_test1 = x_forecast_dcomp[1,var_dict['sic']['var_inds'],:]\n",
    "x_test2 = x_forecast_dcomp[5,var_dict['sic']['var_inds'],:]\n",
    "\n",
    "#plt.plot(np.arange(0,400,1),x_test[10,:])\n",
    "plt.plot(np.arange(1,400,1),x_test1[0,1:])\n",
    "plt.plot(np.arange(5,400,1),x_test1[0,5:])\n",
    "plt.xlim(0,100)"
   ]
  },
  {
   "cell_type": "code",
   "execution_count": 386,
   "metadata": {},
   "outputs": [
    {
     "data": {
      "image/png": "[encoded data removed]",
      "text/plain": [
       "<Figure size 864x360 with 4 Axes>"
      ]
     },
     "metadata": {
      "needs_background": "light"
     },
     "output_type": "display_data"
    }
   ],
   "source": [
    "x_reshape = np.reshape(x_forecast_dcomp[1,var_dict[var]['var_inds'],:], (220,256,400))\n",
    "x_reshape2 = np.reshape(x_forecast_dcomp[5,var_dict[var]['var_inds'],:], (220,256,400))\n",
    "\n",
    "fig,ax = plt.subplots(1,2,figsize=(12,5), subplot_kw=arc_proj )\n",
    "ax = ax.flatten()\n",
    "\n",
    "sub_arctic_plot(ax[0],fig,x_reshape[:,:,20],var_dict[var]['lat'],var_dict[var]['lon'],\n",
    "                maxv=80,minv=-80,cmap='bwr')\n",
    "sub_arctic_plot(ax[1],fig,x_reshape2[:,:,20],var_dict[var]['lat'],var_dict[var]['lon'],\n",
    "                maxv=80,minv=-80,cmap='bwr')\n"
   ]
  },
  {
   "cell_type": "code",
   "execution_count": 397,
   "metadata": {},
   "outputs": [
    {
     "data": {
      "text/plain": [
       "(array([-262171.27792294, -240874.18522135, -359316.88306582]),\n",
       " array([-240874.18522134, -359316.88306581, -254902.43346733]))"
      ]
     },
     "execution_count": 397,
     "metadata": {},
     "output_type": "execute_result"
    }
   ],
   "source": [
    "totsi_test = calc_tot_si(x_forecast_dcomp[2,var_dict['sic']['var_inds'],:], areacell[areawt_name[var]], units, var_dict[var]['lat'], cutoff=0.0)\n",
    "totsi_test2 = calc_tot_si(x_forecast_dcomp[1,var_dict['sic']['var_inds'],:], areacell[areawt_name[var]], units, var_dict[var]['lat'], cutoff=0.0)\n",
    "\n",
    "totsi_test[20:23], totsi_test2[20:23]"
   ]
  },
  {
   "cell_type": "code",
   "execution_count": 388,
   "metadata": {},
   "outputs": [],
   "source": [
    "i = 0\n",
    "var = 'sic'\n",
    "tot_nh_sic_forecast_test = np.zeros((12,400))\n",
    "\n",
    "units = areacell_dict[areawt_name[var]][areawt_name[var]]['units']\n",
    "\n",
    "for m in range(12):\n",
    "    x_forecast = x_forecast_dcomp[m,var_dict[var]['var_inds'],:]\n",
    "\n",
    "    tot_nh_sic_forecast_test[m,:] = calc_tot_si(x_forecast, areacell[areawt_name[var]], \n",
    "                                                units, var_dict[var]['lat'], cutoff=0.0)"
   ]
  },
  {
   "cell_type": "code",
   "execution_count": 389,
   "metadata": {},
   "outputs": [
    {
     "data": {
      "text/plain": [
       "<matplotlib.legend.Legend at 0x7f2b0f69b898>"
      ]
     },
     "execution_count": 389,
     "metadata": {},
     "output_type": "execute_result"
    },
    {
     "data": {
      "image/png": "[encoded data removed]",
      "text/plain": [
       "<Figure size 432x288 with 1 Axes>"
      ]
     },
     "metadata": {
      "needs_background": "light"
     },
     "output_type": "display_data"
    }
   ],
   "source": [
    "plt.plot(np.arange(0,400,1),tot_nh_sic_forecast_test[0, :]*1e-6, label= 'lag 0')\n",
    "plt.plot(np.arange(0,400,1),tot_nh_sic_forecast_test[1, :]*1e-6, label= 'lag 1')\n",
    "plt.plot(np.arange(0,400,1),tot_nh_sic_forecast_test[11, :]*1e-6, label= 'lag 11')\n",
    "plt.xlim(0,40)\n",
    "plt.legend()"
   ]
  },
  {
   "cell_type": "code",
   "execution_count": 80,
   "metadata": {},
   "outputs": [
    {
     "name": "stdout",
     "output_type": "stream",
     "text": [
      "Loading sic\n",
      "-----------------------------------------------------\n",
      "completed in 29.356225967407227 seconds\n",
      "-----------------------------------------------------\n",
      "Lag 0\n",
      "Lag 1\n",
      "Lag 2\n",
      "Lag 3\n",
      "Lag 4\n",
      "Lag 5\n",
      "Lag 6\n",
      "Lag 7\n",
      "Lag 8\n",
      "Lag 9\n",
      "Lag 10\n",
      "Lag 11\n"
     ]
    }
   ],
   "source": [
    "validvars = ['sic']\n",
    "v = {}\n",
    "validation_stats = {}\n",
    "valid_stats = {}\n",
    "corr_tot = np.zeros((len(lags)))\n",
    "ce_tot = np.zeros((len(lags)))\n",
    "gm_var_ratio = np.zeros((len(lags)))\n",
    "\n",
    "for k, var in enumerate(validvars): \n",
    "    X_var, _ = load_data(var, v, fdic_ccsm4, remove_climo=True, detrend=True, verbose=True)\n",
    "    mo = 1\n",
    "    for i,lag in enumerate(lags):\n",
    "        print('Lag '+str(lag))\n",
    "        \n",
    "        tsamp = X_var.shape[1]\n",
    "        nyears_train = int((tsamp*ntrain)/12)\n",
    "        nyears_valid = int((tsamp*(1-ntrain))/12)\n",
    "\n",
    "        X_t = np.reshape(X_var,(X_var.shape[0],int(tsamp/12),12))\n",
    "        \n",
    "        step = mo+lag\n",
    "        if step>11:\n",
    "            step = step-12\n",
    "            start_yr = nyears_train+1\n",
    "        else: \n",
    "            start_yr = nyears_train\n",
    "            \n",
    "        x_truth = X_t[:,start_yr:,step]\n",
    "\n",
    "        x_forecast = x_forecast_dcomp[i,var_dict[var]['var_inds'],:]\n",
    "\n",
    "        units = areacell_dict[areawt_name[var]][areawt_name[var]]['units']\n",
    "        tot_nh_sic_forecast = calc_tot_si(x_forecast, areacell[areawt_name[var]], \n",
    "                                          units, var_dict[var]['lat'], cutoff=0.0)\n",
    "        tot_nh_sic_truth = calc_tot_si(x_truth, areacell[areawt_name[var]], \n",
    "                                       units, var_dict[var]['lat'],cutoff=0.0)\n",
    "\n",
    "        corr_tot[i] = np.corrcoef(tot_nh_sic_truth,tot_nh_sic_forecast)[0,1]\n",
    "        ce_tot[i] = LMR_utils.coefficient_efficiency(tot_nh_sic_truth,tot_nh_sic_forecast)\n",
    "\n",
    "        error_var = np.nanvar(x_forecast - x_truth,axis=1,ddof=1)\n",
    "        gm_error_var = global_mean(error_var,areacell[areawt_name[var]])\n",
    "\n",
    "        truth_error_var = np.nanvar(x_truth,axis=1,ddof=1)\n",
    "        gm_truth_var = global_mean(truth_error_var,areacell[areawt_name[var]])\n",
    "        \n",
    "        gm_var_ratio[i]=gm_error_var/gm_truth_var\n",
    "        \n",
    "        valid_stats['gm_var_ratio'] = gm_var_ratio\n",
    "        valid_stats['corr_tot'] = corr_tot\n",
    "        valid_stats['ce_tot'] = ce_tot\n",
    "        \n",
    "    validation_stats[var] = valid_stats"
   ]
  },
  {
   "cell_type": "code",
   "execution_count": 79,
   "metadata": {},
   "outputs": [
    {
     "data": {
      "text/plain": [
       "0.886756258791682"
      ]
     },
     "execution_count": 79,
     "metadata": {},
     "output_type": "execute_result"
    }
   ],
   "source": [
    "test = np.corrcoef(tot_nh_sic_truth,tot_nh_sic_forecast)[0,1]\n",
    "test"
   ]
  },
  {
   "cell_type": "code",
   "execution_count": 108,
   "metadata": {},
   "outputs": [
    {
     "name": "stdout",
     "output_type": "stream",
     "text": [
      "Loading sic\n",
      "-----------------------------------------------------\n",
      "completed in 86.63140058517456 seconds\n",
      "-----------------------------------------------------\n"
     ]
    }
   ],
   "source": [
    "# validvars = ['sic']\n",
    "# v = {}\n",
    "\n",
    "# for k, var in enumerate(validvars): \n",
    "#     X_var, _ = load_data(var, v, fdic_ccsm4, remove_climo=True, detrend=True, verbose=True)\n",
    "    \n",
    "#     mo = 1\n",
    "#     tsamp = X_var.shape[1]\n",
    "#     nyears_train = int((tsamp*ntrain)/12)\n",
    "#     nyears_valid = int((tsamp*(1-ntrain))/12)\n",
    "\n",
    "#     X_t = np.reshape(X_var,(X_var.shape[0],int(tsamp/12),12))\n",
    "#     x_truth = X_t[:,nyears_train:,mo+1]\n",
    "    \n",
    "#     x_forecast = x_forecast_dcomp[var_dict[var]['var_inds'],:]\n",
    "    \n",
    "#     units = areacell_dict[areawt_name[var]][areawt_name[var]]['units']\n",
    "#     tot_nh_sic_forecast = calc_tot_si(x_forecast, areacell[areawt_name[var]], \n",
    "#                                       units, var_dict[var]['lat'], cutoff=0.0)\n",
    "#     tot_nh_sic_truth = calc_tot_si(x_truth, areacell[areawt_name[var]], \n",
    "#                                    units, var_dict[var]['lat'],cutoff=0.0)\n",
    "    \n",
    "#     corr_tot_sic = np.corrcoef(tot_nh_sic_truth,tot_nh_sic_forecast)[0,1]\n",
    "#     ce_tot_sic = LMR_utils.coefficient_efficiency(tot_nh_sic_truth,tot_nh_sic_forecast)\n",
    "    \n",
    "#     error_var = np.nanvar(x_forecast - x_truth,axis=1,ddof=1)\n",
    "#     gm_error_var = global_mean(error_var,areacell[areawt_name[var]])\n",
    "    \n",
    "#     truth_error_var = np.nanvar(x_truth,axis=1,ddof=1)\n",
    "#     gm_truth_var = global_mean(truth_error_var,areacell[areawt_name[var]])"
   ]
  },
  {
   "cell_type": "code",
   "execution_count": 64,
   "metadata": {},
   "outputs": [
    {
     "data": {
      "text/plain": [
       "((12,), (12, 400), (12, 400))"
      ]
     },
     "execution_count": 64,
     "metadata": {},
     "output_type": "execute_result"
    }
   ],
   "source": [
    "validation_stats['sic']['gm_var_ratio'].shape, validation_stats['sic']['corr_tot'].shape, validation_stats['sic']['ce_tot'].shape"
   ]
  },
  {
   "cell_type": "code",
   "execution_count": 81,
   "metadata": {},
   "outputs": [
    {
     "data": {
      "text/plain": [
       "<matplotlib.lines.Line2D at 0x7fcba2366390>"
      ]
     },
     "execution_count": 81,
     "metadata": {},
     "output_type": "execute_result"
    },
    {
     "data": {
      "image/png": "[encoded data removed]",
      "text/plain": [
       "<Figure size 432x288 with 1 Axes>"
      ]
     },
     "metadata": {
      "needs_background": "light"
     },
     "output_type": "display_data"
    }
   ],
   "source": [
    "plt.plot(validation_stats['sic']['gm_var_ratio'])\n",
    "plt.axhline(1,linestyle='--', color='k')"
   ]
  },
  {
   "cell_type": "code",
   "execution_count": 90,
   "metadata": {},
   "outputs": [
    {
     "data": {
      "text/plain": [
       "Text(0.5,1,'Februrary')"
      ]
     },
     "execution_count": 90,
     "metadata": {},
     "output_type": "execute_result"
    },
    {
     "data": {
      "image/png": "[encoded data removed]",
      "text/plain": [
       "<Figure size 432x288 with 1 Axes>"
      ]
     },
     "metadata": {
      "needs_background": "light"
     },
     "output_type": "display_data"
    }
   ],
   "source": [
    "plt.plot(validation_stats['sic']['corr_tot']**2, label='Correlation')\n",
    "plt.plot(validation_stats['sic']['ce_tot'],label='CE')\n",
    "#plt.axhline(0,linestyle='--', color='k')\n",
    "plt.ylim(0,1)\n",
    "plt.xlim(1,12)\n",
    "plt.grid(axis='both')\n",
    "plt.xlabel('lead time (months)')\n",
    "plt.title(month_names[mo])"
   ]
  },
  {
   "cell_type": "code",
   "execution_count": 73,
   "metadata": {},
   "outputs": [
    {
     "data": {
      "text/plain": [
       "(12, 400)"
      ]
     },
     "execution_count": 73,
     "metadata": {},
     "output_type": "execute_result"
    }
   ],
   "source": [
    "validation_stats['sic']['corr_tot'].shape"
   ]
  },
  {
   "cell_type": "code",
   "execution_count": 51,
   "metadata": {},
   "outputs": [
    {
     "data": {
      "text/plain": [
       "dict_keys(['gm_var_ratio', 'corr_tot', 'ce_tot'])"
      ]
     },
     "execution_count": 51,
     "metadata": {},
     "output_type": "execute_result"
    }
   ],
   "source": [
    "validation_stats['sic'].keys()"
   ]
  },
  {
   "cell_type": "code",
   "execution_count": 57,
   "metadata": {},
   "outputs": [
    {
     "data": {
      "text/plain": [
       "(12, 400)"
      ]
     },
     "execution_count": 57,
     "metadata": {},
     "output_type": "execute_result"
    }
   ],
   "source": [
    "validation_stats['sic']['corr_tot'].shape"
   ]
  },
  {
   "cell_type": "code",
   "execution_count": null,
   "metadata": {
    "collapsed": true
   },
   "outputs": [],
   "source": [
    "LIMd['G']**t"
   ]
  },
  {
   "cell_type": "code",
   "execution_count": null,
   "metadata": {
    "collapsed": true
   },
   "outputs": [],
   "source": []
  },
  {
   "cell_type": "code",
   "execution_count": null,
   "metadata": {
    "collapsed": true
   },
   "outputs": [],
   "source": []
  },
  {
   "cell_type": "code",
   "execution_count": null,
   "metadata": {
    "collapsed": true
   },
   "outputs": [],
   "source": []
  },
  {
   "cell_type": "code",
   "execution_count": 81,
   "metadata": {},
   "outputs": [],
   "source": [
    "def arctic_mean(var, areacell, cutoff=0.0): \n",
    "    tot_nh_var = var*areacell\n",
    "    if len(lat.shape)<=1:\n",
    "        lat_inds = np.where(var_dict[var]['lat']>cutoff)\n",
    "        tot_nh_var = np.nansum(np.nansum(tot_nh_var[:,lat_inds,:],axis=1),axis=1)\n",
    "    \n",
    "        wt_sum = np.nansum(np.nansum(cellarea[lat_inds,:],axis=0),axis=0)\n",
    "    else:\n",
    "        lat_inds = np.where(var_dict[var]['lat']>cutoff)\n",
    "        tot_nh_var = np.nansum(np.nansum(tot_nh_var[:,lat_inds],axis=1),axis=1)\n",
    "    \n",
    "        wt_sum = np.nansum(np.nansum(cellarea[lat_inds],axis=0),axis=0)\n",
    "    \n",
    "    var_mn = tot_nh_var/wt_sum\n",
    "    \n",
    "    return var_mn"
   ]
  },
  {
   "cell_type": "code",
   "execution_count": 82,
   "metadata": {},
   "outputs": [],
   "source": [
    "def global_mean(var, areacell): \n",
    "    \"\"\"Assumes var is dimensions (nlat*nlon,time)\n",
    "    \"\"\"\n",
    "    \n",
    "    tot_nh_var = var*areacell\n",
    "    \n",
    "    tot_var = np.nansum(tot_nh_var,axis=0)\n",
    "    wt_sum = np.nansum(areacell,axis=0)\n",
    "    \n",
    "    var_mn = tot_var/wt_sum\n",
    "    \n",
    "    return var_mn"
   ]
  },
  {
   "cell_type": "code",
   "execution_count": 387,
   "metadata": {},
   "outputs": [],
   "source": [
    "def calc_tot_si(var, areacell, units, lat, cutoff=0.0): \n",
    "    if units == 'm2':\n",
    "        cellarea = (areacell*1e-6)[:,np.newaxis]\n",
    "    else: \n",
    "        cellarea = areacell[:,np.newaxis]\n",
    "        \n",
    "    if var.max()>2:\n",
    "        Var = var/100.0\n",
    "    else: \n",
    "        Var = var\n",
    "        \n",
    "    nh_var = Var*cellarea\n",
    "    \n",
    "    if len(lat.shape)<=1:\n",
    "        lat_inds = np.where(lat>cutoff)\n",
    "        tot_nh_var = np.nansum(nh_var[lat_inds,:].squeeze(),axis=0)\n",
    "    else:\n",
    "        lat_1d = np.reshape(lat,(var.shape[0]))\n",
    "        lat_inds = np.where(lat_1d>cutoff)\n",
    "        tot_nh_var = np.nansum(nh_var[lat_inds,:].squeeze(),axis=0)\n",
    "    \n",
    "    return tot_nh_var\n",
    "    "
   ]
  },
  {
   "cell_type": "code",
   "execution_count": 84,
   "metadata": {},
   "outputs": [],
   "source": [
    "def calc_gm_polar_variance(valid_var,valid_var_mon,fields,lat,lon):\n",
    "    valid_variance = {}\n",
    "    gm_mon = np.zeros((12))\n",
    "    polar_mon = np.zeros((2,12))\n",
    "    nlat = lat.shape[0]\n",
    "    nlon = lon.shape[0]\n",
    "\n",
    "    for v in fields.keys():\n",
    "        print(v)\n",
    "        var = np.reshape(valid_var[fields[v]],[nlat,nlon])\n",
    "        var_mon = np.reshape(valid_var_mon[fields[v],:].T,[12,nlat,nlon])\n",
    "\n",
    "        gm,_,_ = LMR_utils.global_hemispheric_means(var,lat)\n",
    "        polar = polar_regional_means(var,lat,lon)\n",
    "        polar_mon = polar_regional_means(var_mon,lat,lon)\n",
    "        for m in range(12):\n",
    "            gm_mon[m],_,_ = LMR_utils.global_hemispheric_means(var_mon[m,:,:],lat)\n",
    "\n",
    "        valid_variance[v+'_gm'] = gm\n",
    "        valid_variance[v+'_gm_mon'] = gm_mon\n",
    "        valid_variance[v+'_polarm'] = polar\n",
    "        valid_variance[v+'_polarm_mon'] = polar_mon\n",
    "        \n",
    "    return valid_variance"
   ]
  },
  {
   "cell_type": "code",
   "execution_count": 335,
   "metadata": {},
   "outputs": [],
   "source": [
    "def LIM_forecast(LIMd,x,lags):\n",
    "    \"\"\"\n",
    "    # There is a bug with this forecast function function: It uses the eigenvectors and \n",
    "    #        values to calculate Gt, but it's giving the same value for all lags in the forecast\n",
    "    \n",
    "    deterministic forecasting experiments for states in x and time lags in lags.\n",
    "\n",
    "    Inputs:\n",
    "    * LIMd: a dictionary with LIM attributes\n",
    "    * x: a state-time matrix for initial conditions and verification ~(ndof,ntims)\n",
    "    * lags: list of time lags for deterministic forecasts\n",
    "    * E: the linear map from the coordinates of the LIM to physical (lat,lon) coordinates ~(nx*ny,ndof)\n",
    "    \n",
    "    Outputs (in a dictionary):\n",
    "    *'error' - error variance as a function of space and forecast lead time (ndof,ntims)\n",
    "    *'x_forecast' - the forecast states (nlags,ndof,ntims)\n",
    "    *'x_truth_phys_space' - true state in physical space (nlat*nlon,*ntims)\n",
    "    *'x_forecast_phys_space' - forecast state in physical space (nlat*nlon,*ntims)\n",
    "    \"\"\"\n",
    "    \n",
    "    ndof = x.shape[0]\n",
    "    ntims = x.shape[1]\n",
    "    nlags = len(lags)\n",
    "    nx = E.shape[0]\n",
    "    LIMfd = {}\n",
    "    \n",
    "    error = np.zeros([nx,nlags])\n",
    "    x_predict_save = np.zeros([nlags,ndof,ntims])\n",
    "    \n",
    "    for k,t in enumerate(lags):\n",
    "        print('t=',t)\n",
    "        # make the propagator for this lead time\n",
    " #       Gt = np.matmul(np.matmul(LIMd['vec'],np.diag(np.exp(LIMd['lam']*t))),LIMd['veci'])\n",
    "        Gt = np.matmul(np.matmul(LIMd['vec'],np.diag(np.exp(LIMd['lam']*t))),LIMd['veci'])\n",
    "        \n",
    "        # forecast\n",
    "        if t == 0:\n",
    "            # need to handle this time separately, or the matrix dimension is off\n",
    "            x_predict = np.matmul(Gt,x)\n",
    "            x_predict_save[k,:,:] = x_predict\n",
    "        else:\n",
    "            x_predict = np.matmul(Gt,x[:,:-t])\n",
    "            x_predict_save[k,:,t:] = x_predict\n",
    "\n",
    "        # physical-space fields for forecast and truth for this forecast lead time ~(ndof,ntims)\n",
    "#        X_predict = np.real(np.matmul(E,x_predict))\n",
    "        #X_truth = np.real(np.matmul(E,x[:,t:]))\n",
    "#         X_truth = truth[:,t:]\n",
    "        \n",
    "#         # error variance as a function of space and forecast lead time ~(ndof,ntims)\n",
    "#         error[:,k] = np.var(X_predict - X_truth,axis=1,ddof=1)\n",
    "    \n",
    "        # return the LIM forecast error dictionary\n",
    "#         LIMfd['error'] = error\n",
    "        Ld = {}\n",
    "        Ld['Gt'] = Gt\n",
    "        LIMfd[t] = Ld\n",
    "    \n",
    "    LIMfd['x_forecast'] = np.squeeze(x_predict_save)    \n",
    "        \n",
    "    return LIMfd"
   ]
  },
  {
   "cell_type": "code",
   "execution_count": 334,
   "metadata": {},
   "outputs": [],
   "source": [
    "def LIM_forecast_Gt(LIMd,x,lags):\n",
    "    \"\"\"\n",
    "    deterministic forecasting experiments for states in x and time lags in lags.\n",
    "\n",
    "    Inputs:\n",
    "    * LIMd: a dictionary with LIM attributes\n",
    "    * x: a state-time matrix for initial conditions and verification ~(ndof,ntims)\n",
    "    * lags: list of time lags for deterministic forecasts\n",
    "    * E: the linear map from the coordinates of the LIM to physical (lat,lon) coordinates ~(nx*ny,ndof)\n",
    "    \n",
    "    Outputs (in a dictionary):\n",
    "    *'error' - error variance as a function of space and forecast lead time (ndof,ntims)\n",
    "    *'x_forecast' - the forecast states (nlags,ndof,ntims)\n",
    "    *'x_truth_phys_space' - true state in physical space (nlat*nlon,*ntims)\n",
    "    *'x_forecast_phys_space' - forecast state in physical space (nlat*nlon,*ntims)\n",
    "    \"\"\"\n",
    "    \n",
    "    ndof = x.shape[0]\n",
    "    ntims = x.shape[1]\n",
    "    nlags = len(lags)\n",
    "    nx = E.shape[0]\n",
    "    LIMfd = {}\n",
    "    \n",
    "    error = np.zeros([nx,nlags])\n",
    "    x_predict_save = np.zeros([nlags,ndof,ntims])\n",
    "    \n",
    "    for k,t in enumerate(lags):\n",
    "        print('t=',t)\n",
    "        # make the propagator for this lead time\n",
    " #       Gt = np.matmul(np.matmul(LIMd['vec'],np.diag(np.exp(LIMd['lam']*t))),LIMd['veci'])\n",
    "        Gt = np.linalg.matrix_power(LIMd['G'],t)\n",
    "        # forecast\n",
    "        if t == 0:\n",
    "            # need to handle this time separately, or the matrix dimension is off\n",
    "            x_predict = np.matmul(Gt,x)\n",
    "            x_predict_save[k,:,:] = x_predict\n",
    "        else:\n",
    "            x_predict = np.matmul(Gt,x[:,:-t])\n",
    "            x_predict_save[k,:,t:] = x_predict\n",
    "\n",
    "        Ld = {}\n",
    "        Ld['Gt'] = Gt\n",
    "        LIMfd[t] = Ld\n",
    "    \n",
    "    LIMfd['x_forecast'] = np.squeeze(x_predict_save)    \n",
    "        \n",
    "    return LIMfd"
   ]
  },
  {
   "cell_type": "code",
   "execution_count": null,
   "metadata": {
    "collapsed": true
   },
   "outputs": [],
   "source": []
  },
  {
   "cell_type": "code",
   "execution_count": null,
   "metadata": {
    "collapsed": true
   },
   "outputs": [],
   "source": []
  },
  {
   "cell_type": "code",
   "execution_count": null,
   "metadata": {
    "collapsed": true
   },
   "outputs": [],
   "source": []
  },
  {
   "cell_type": "code",
   "execution_count": null,
   "metadata": {
    "collapsed": true
   },
   "outputs": [],
   "source": []
  },
  {
   "cell_type": "code",
   "execution_count": null,
   "metadata": {
    "collapsed": true
   },
   "outputs": [],
   "source": []
  },
  {
   "cell_type": "code",
   "execution_count": null,
   "metadata": {
    "collapsed": true
   },
   "outputs": [],
   "source": [
    "yrs_mo = np.reshape(var_dict[var]['time'],(int(tsamp/12),12))\n",
    "\n",
    "yrs_train = yrs_mo[0:nyears_train,mo]\n",
    "yrs_valid = yrs_mo[nyears_train:,mo+1]"
   ]
  },
  {
   "cell_type": "markdown",
   "metadata": {},
   "source": [
    "## EOF decomposition: "
   ]
  },
  {
   "cell_type": "code",
   "execution_count": null,
   "metadata": {
    "collapsed": true
   },
   "outputs": [],
   "source": [
    "[Ptrunc, E3, Ptrunc_sic, E_sic,\n",
    " W_train, sf_train,\n",
    " tot_var, tot_var_eig] = limkb.step1_compress_individual_vars(X_train, limvars, ntrunc, \n",
    "                                                              nmodes_sic, var_dict,X_all.shape[0],\n",
    "                                                              var_dict['sic']['var_ndof'], \n",
    "                                                              wt=True,sic_separate=sic_separate)\n",
    "\n",
    "\n",
    "[P_train, Fvar, E] = limkb.step2_multivariate_compress(Ptrunc,nmodes, E3, Ptrunc_sic, \n",
    "                                                       sic_separate=sic_separate)"
   ]
  },
  {
   "cell_type": "code",
   "execution_count": null,
   "metadata": {
    "collapsed": true
   },
   "outputs": [],
   "source": [
    "[Ptrunc2, E3_2, Ptrunc_sic2, \n",
    " E_sic2, W_train2, sf_train2] = limkb.compress_individual_vars2(X_train2, limvars, ntrunc, nmodes_sic, var_dict, \n",
    "                                                                X_all.shape[0], var_dict['sic']['var_ndof'], \n",
    "                                                                sic_separate=sic_separate)\n",
    "    \n",
    "[P_train2, Fvar2, E2] = limkb.step2_multivariate_compress(Ptrunc2,nmodes, E3_2, \n",
    "                                                          Ptrunc_sic2, sic_separate=sic_separate)"
   ]
  },
  {
   "cell_type": "code",
   "execution_count": null,
   "metadata": {
    "collapsed": true
   },
   "outputs": [],
   "source": [
    "[Ptrunc_valid, E3_valid, Ptrunc_sic_valid, \n",
    " E_sic_valid, W_valid, sf_valid] = limkb.compress_individual_vars2(X_valid, limvars, ntrunc, nmodes_sic, \n",
    "                                                                   var_dict,X_all.shape[0], \n",
    "                                                                   var_dict['sic']['var_ndof'], \n",
    "                                                                   sic_separate=sic_separate)\n",
    "\n",
    "[P_valid, Fvar_valid, E_valid] = limkb.step2_multivariate_compress(Ptrunc_vlaid,nmodes, E3_valid, \n",
    "                                                                   Ptrunc_sic_valid, sic_separate=sic_separate)"
   ]
  },
  {
   "cell_type": "code",
   "execution_count": 195,
   "metadata": {},
   "outputs": [
    {
     "name": "stdout",
     "output_type": "stream",
     "text": [
      "training data shape:  (60, 600)\n",
      "validation data shape:  (60, 400)\n"
     ]
    }
   ],
   "source": [
    "# prepare the data to train and test the LIM. \n",
    "# separate data into training the validation sets \n",
    "tsamp = X_all.shape[1]\n",
    "nyears = tsamp/12\n",
    "ntrain_yrs = int(np.floor((tsamp/12)*ntrain)*12)\n",
    "train_inds = np.arange(0,ntrain_yrs)\n",
    "valid_inds = np.arange(ntrain_yrs,tsamp,1)\n",
    "\n",
    "x_train = P_train\n",
    "x_train2 = P_train2\n",
    "x_valid = P_valid\n",
    "\n",
    "print('training data shape: ',x_train.shape)\n",
    "print('validation data shape: ',x_valid.shape)"
   ]
  },
  {
   "cell_type": "code",
   "execution_count": null,
   "metadata": {
    "collapsed": true
   },
   "outputs": [],
   "source": [
    "# x_train_dcomp = decompress_eof_separate_sic2(P_train,nmodes,nmodes_sic,E,E_sic,\n",
    "#                                              limvars,var_dict,W_train,Weights=True,\n",
    "#                                              sic_separate=sic_separate)"
   ]
  },
  {
   "cell_type": "code",
   "execution_count": 196,
   "metadata": {
    "collapsed": true
   },
   "outputs": [],
   "source": [
    "# # climo standardized variance for error normalization \n",
    "# #  in training and validation (1=no skill)\n",
    "# # EOF space only\n",
    "# if sic_separate is True: \n",
    "#     E_x_train = lim.decompress_eof_separate_sic(x_train,nmodes,nmodes_sic,E,E_sic)\n",
    "#     E_x_valid = lim.decompress_eof_separate_sic(x_valid,nmodes,nmodes_sic,E_valid,E_sic_valid)\n",
    "\n",
    "# else: \n",
    "#     E_x_train = np.matmul(E,x_train)\n",
    "#     E_x_valid = np.matmul(E_valid,x_valid)\n",
    "\n",
    "# E_x_train[np.isclose(E_x_train,0,atol=10e-10)] = np.nan\n",
    "# E_x_valid[np.isclose(E_x_valid,0,atol=10e-10)] = np.nan\n",
    "    \n",
    "# nyrs_train = int(E_x_train.shape[1]/12)\n",
    "# nyrs_valid = int(E_x_valid.shape[1]/12)\n",
    "# nlalo = E_x_train.shape[0]\n",
    "\n",
    "# # train_var_mon = np.nanvar(np.reshape(E_x_train,(nlalo,nyrs_train,12)),\n",
    "# #                        axis=1,ddof=1)\n",
    "# # valid_var_mon = np.nanvar(np.reshape(E_x_valid,(nlalo,nyrs_valid,12)),\n",
    "# #                        axis=1,ddof=1)\n",
    "# train_var = np.nanvar(E_x_train,axis=1,ddof=1)\n",
    "# valid_var = np.nanvar(E_x_valid,axis=1,ddof=1)\n",
    "\n",
    "# # FULL FIELD versions of the variance \n",
    "# train_var_full = np.nanvar(X_train,axis=1,ddof=1)\n",
    "# valid_var_full = np.nanvar(X_valid,axis=1,ddof=1)\n",
    "\n",
    "# # valid_var_mon_full = np.var(np.reshape(X_mpi,(nvars*ndof,nyrs_valid,12)),\n",
    "# #                             axis=1,ddof=1)"
   ]
  },
  {
   "cell_type": "code",
   "execution_count": 49,
   "metadata": {},
   "outputs": [
    {
     "name": "stdout",
     "output_type": "stream",
     "text": [
      "Training LIM with tau = 1\n"
     ]
    }
   ],
   "source": [
    "# train the LIM\n",
    "LIMd, G = lim.LIM_train(tau,x_train)\n",
    "print('Training LIM with tau = '+str(tau))"
   ]
  },
  {
   "cell_type": "code",
   "execution_count": 51,
   "metadata": {
    "collapsed": true
   },
   "outputs": [],
   "source": [
    "LIMd2, G2 = lim.LIM_train_flex(tau,x_train, x_train2)"
   ]
  },
  {
   "cell_type": "code",
   "execution_count": 52,
   "metadata": {},
   "outputs": [
    {
     "name": "stdout",
     "output_type": "stream",
     "text": [
      "t= 1\n"
     ]
    },
    {
     "ename": "ValueError",
     "evalue": "could not broadcast input array from shape (149504) into shape (225280)",
     "output_type": "error",
     "traceback": [
      "\u001b[0;31m---------------------------------------------------------------------------\u001b[0m",
      "\u001b[0;31mValueError\u001b[0m                                Traceback (most recent call last)",
      "\u001b[0;32m<ipython-input-52-20878c51e74d>\u001b[0m in \u001b[0;36m<module>\u001b[0;34m()\u001b[0m\n\u001b[1;32m     13\u001b[0m LIMfd_valid = lim.LIM_forecast_test(G,x_valid,lags,E_valid,truth,yrs_valid,len(limvars),ndof,\n\u001b[1;32m     14\u001b[0m                                     \u001b[0mnmodes\u001b[0m\u001b[0;34m=\u001b[0m\u001b[0mnmodes\u001b[0m\u001b[0;34m,\u001b[0m\u001b[0mnmodes_sic\u001b[0m\u001b[0;34m=\u001b[0m\u001b[0mnmodes_sic\u001b[0m\u001b[0;34m,\u001b[0m\u001b[0mE_sic\u001b[0m\u001b[0;34m=\u001b[0m\u001b[0mE_sic_valid\u001b[0m\u001b[0;34m,\u001b[0m\u001b[0;34m\u001b[0m\u001b[0m\n\u001b[0;32m---> 15\u001b[0;31m                                     sic_separate=sic_separate)\n\u001b[0m",
      "\u001b[0;32m~/Documents/si_analysis_kb/LIMs/SI_LIMs/LIM_utils.py\u001b[0m in \u001b[0;36mLIM_forecast_test\u001b[0;34m(G, x, lags, E, truth, yrs_valid, nvar, nlalo, nmodes, nmodes_sic, E_sic, sic_separate)\u001b[0m\n\u001b[1;32m    361\u001b[0m \u001b[0;34m\u001b[0m\u001b[0m\n\u001b[1;32m    362\u001b[0m         \u001b[0;31m# error variance as a function of space and forecast lead time ~(ndof,ntims)\u001b[0m\u001b[0;34m\u001b[0m\u001b[0;34m\u001b[0m\u001b[0m\n\u001b[0;32m--> 363\u001b[0;31m         \u001b[0merror\u001b[0m\u001b[0;34m[\u001b[0m\u001b[0;34m:\u001b[0m\u001b[0;34m,\u001b[0m\u001b[0mk\u001b[0m\u001b[0;34m]\u001b[0m \u001b[0;34m=\u001b[0m \u001b[0mnp\u001b[0m\u001b[0;34m.\u001b[0m\u001b[0mvar\u001b[0m\u001b[0;34m(\u001b[0m\u001b[0mX_predict\u001b[0m \u001b[0;34m-\u001b[0m \u001b[0mX_truth\u001b[0m\u001b[0;34m,\u001b[0m\u001b[0maxis\u001b[0m\u001b[0;34m=\u001b[0m\u001b[0;36m1\u001b[0m\u001b[0;34m,\u001b[0m\u001b[0mddof\u001b[0m\u001b[0;34m=\u001b[0m\u001b[0;36m1\u001b[0m\u001b[0;34m)\u001b[0m\u001b[0;34m\u001b[0m\u001b[0m\n\u001b[0m\u001b[1;32m    364\u001b[0m \u001b[0;34m\u001b[0m\u001b[0m\n\u001b[1;32m    365\u001b[0m     \u001b[0;31m# return the LIM forecast error dictionary\u001b[0m\u001b[0;34m\u001b[0m\u001b[0;34m\u001b[0m\u001b[0m\n",
      "\u001b[0;31mValueError\u001b[0m: could not broadcast input array from shape (149504) into shape (225280)"
     ]
    }
   ],
   "source": [
    "# LIM forecasts for a range of monthly values (can specify a list of arbitrary values too)\n",
    "lags = [1]\n",
    "#lags = [0,3,6,12]\n",
    "ntims = len(lags)\n",
    "\n",
    "# training data\n",
    "#truth = np.real(np.matmul(E,x_train))\n",
    "#truth = X[:,train_inds]\n",
    "#LIMfd_train = LIM_utils.LIM_forecast(LIMd,x_train,lags,E,truth)\n",
    "\n",
    "# validation data\n",
    "#truth = np.real(np.matmul(E,x_valid))\n",
    "LIMfd_valid = lim.LIM_forecast_test(G,x_valid,lags,E_valid,truth,yrs_valid,len(limvars),ndof,\n",
    "                                    nmodes=nmodes,nmodes_sic=nmodes_sic,E_sic=E_sic_valid,\n",
    "                                    sic_separate=sic_separate)"
   ]
  },
  {
   "cell_type": "code",
   "execution_count": 141,
   "metadata": {},
   "outputs": [
    {
     "name": "stdout",
     "output_type": "stream",
     "text": [
      "working on tas\n",
      "working on psl\n",
      "working on tos\n",
      "working on sit\n",
      "working on sic\n"
     ]
    }
   ],
   "source": [
    "truth_state = {}\n",
    "nlat = lat_2d[:,0].shape[0]\n",
    "nlon = lon_2d[0,:].shape[0]\n",
    "\n",
    "for v,var in enumerate(limvars):\n",
    "    print('working on '+str(var))\n",
    "    if sic_separate is True: \n",
    "        Truth = lim.decompress_eof(truth,E,E_sic=E_sic,\n",
    "                                   nmodes=nmodes,nmodes_sic=nmodes_sic,\n",
    "                                   sic_separate=sic_separate)\n",
    "    else: \n",
    "        Truth = np.matmul(E,truth)\n",
    "#            print(Truth.shape)\n",
    "    truth_3d = np.reshape(Truth[fields[var],:].T,[Truth.shape[1],nlat,nlon])\n",
    "    truth_gm,_,_ = LMR_utils.global_hemispheric_means(truth_3d[1:,:,:],lat_2d[:,0])\n",
    "    truth_pm = lim.polar_regional_means(truth_3d[1:,:,:],lat_2d[:,0],lon_2d[0,:])\n",
    "\n",
    "    truth_state[var+'_gm_mo_'+str(mo)] = truth_gm\n",
    "    truth_state[var+'_pm_mo_'+str(mo)] = truth_pm\n",
    "    truth_state[var+'_full_mo_'+str(mo)] = truth_3d"
   ]
  },
  {
   "cell_type": "code",
   "execution_count": 142,
   "metadata": {},
   "outputs": [
    {
     "data": {
      "text/plain": [
       "(1, 120, 1000)"
      ]
     },
     "execution_count": 142,
     "metadata": {},
     "output_type": "execute_result"
    }
   ],
   "source": [
    "LIMfd_valid['x_forecast'].shape"
   ]
  },
  {
   "cell_type": "code",
   "execution_count": 143,
   "metadata": {},
   "outputs": [
    {
     "name": "stdout",
     "output_type": "stream",
     "text": [
      "working on tas\n",
      "working on psl\n",
      "working on tos\n",
      "working on sit\n",
      "working on sic\n"
     ]
    }
   ],
   "source": [
    "forecast = {}\n",
    "\n",
    "for v,var in enumerate(limvars):\n",
    "    print('working on '+str(var))\n",
    "    if sic_separate is True: \n",
    "        fcast = lim.decompress_eof(LIMfd_valid['x_forecast'][0,:,:],E,E_sic=E_sic,\n",
    "                                      nmodes=nmodes,nmodes_sic=nmodes_sic,\n",
    "                                      sic_separate=sic_separate)\n",
    "    else: \n",
    "        fcast = np.matmul(E,LIMfd_valid['x_forecast'][0,:,:])\n",
    "#            print(Truth.shape)\n",
    "    forecast_3d = np.reshape(fcast[fields[var],:].T,[fcast.shape[1],nlat,nlon])\n",
    "    forecast_gm,_,_ = LMR_utils.global_hemispheric_means(forecast_3d[1:,:,:],lat_2d[:,0])\n",
    "    forecast_pm = lim.polar_regional_means(forecast_3d[1:,:,:],lat_2d[:,0],lon_2d[0,:])\n",
    "\n",
    "    forecast[var+'_gm_mo_'+str(mo)] = forecast_gm\n",
    "    forecast[var+'_pm_mo_'+str(mo)] = forecast_pm\n",
    "    forecast[var+'_full_mo_'+str(mo)] = forecast_3d"
   ]
  },
  {
   "cell_type": "code",
   "execution_count": 144,
   "metadata": {},
   "outputs": [
    {
     "name": "stdout",
     "output_type": "stream",
     "text": [
      "working on tas\n",
      "working on psl\n",
      "working on tos\n",
      "working on sit\n",
      "working on sic\n"
     ]
    }
   ],
   "source": [
    "ce = {}\n",
    "corr = {}\n",
    "\n",
    "for n,var in enumerate(limvars):\n",
    "    print('working on '+str(var))\n",
    "    ce_pm_lag = np.zeros((2))\n",
    "    corr_pm_lag = np.zeros((2))\n",
    "\n",
    "    ce_gm = LMR_utils.coefficient_efficiency(truth_state[var+'_gm_mo_'+str(mo)],\n",
    "                                                    forecast[var+'_gm_mo_'+str(mo)])\n",
    "    corr_gm = np.corrcoef(truth_state[var+'_gm_mo_'+str(mo)],\n",
    "                                 forecast[var+'_gm_mo_'+str(mo)])[0,1]\n",
    "\n",
    "    for n in range(2):\n",
    "        ce_pm_lag[n] = LMR_utils.coefficient_efficiency(truth_state[var+'_pm_mo_'+str(mo)][n,:],\n",
    "                                                          forecast[var+'_pm_mo_'+str(mo)][n,:])\n",
    "        corr_pm_lag[n] = np.corrcoef(truth_state[var+'_pm_mo_'+str(mo)][n,:],\n",
    "                                       forecast[var+'_pm_mo_'+str(mo)][n,:])[0,1]\n",
    "\n",
    "    ce[var+'_gm_mo_'+str(mo)] = ce_gm\n",
    "    ce[var+'_pm_mo_'+str(mo)] = ce_pm_lag\n",
    "    corr[var+'_gm_mo_'+str(mo)] = corr_gm\n",
    "    corr[var+'_pm_mo_'+str(mo)] = corr_pm_lag"
   ]
  },
  {
   "cell_type": "code",
   "execution_count": 148,
   "metadata": {},
   "outputs": [
    {
     "data": {
      "text/plain": [
       "[<matplotlib.lines.Line2D at 0x7f31fc63e0f0>]"
      ]
     },
     "execution_count": 148,
     "metadata": {},
     "output_type": "execute_result"
    },
    {
     "data": {
      "image/png": "[encoded data removed]",
      "text/plain": [
       "<Figure size 432x288 with 1 Axes>"
      ]
     },
     "metadata": {
      "needs_background": "light"
     },
     "output_type": "display_data"
    }
   ],
   "source": [
    "plt.plot(forecast['tas_gm_mo_'+str(mo)])\n",
    "plt.plot(truth_state['tas_gm_mo_'+str(mo)])"
   ]
  },
  {
   "cell_type": "code",
   "execution_count": 145,
   "metadata": {},
   "outputs": [
    {
     "name": "stdout",
     "output_type": "stream",
     "text": [
      "tas\n",
      "GM CE = -403.25880941645715 GM Corr = -0.024220206464738832\n",
      "psl\n",
      "GM CE = -741.4342540101476 GM Corr = -0.055287853100057884\n",
      "tos\n",
      "GM CE = -264.07100597064516 GM Corr = -0.03161414428771794\n",
      "sit\n",
      "GM CE = -342.94229872323535 GM Corr = -0.04336836101191847\n",
      "sic\n",
      "GM CE = -17.072935880843577 GM Corr = -0.019626058348466802\n"
     ]
    }
   ],
   "source": [
    "for var in limvars: \n",
    "    print(var)\n",
    "    print('GM CE = '+str(ce[var+'_gm_mo_'+str(mo)])+' GM Corr = '+ str(corr[var+'_gm_mo_'+str(mo)]))"
   ]
  },
  {
   "cell_type": "code",
   "execution_count": 38,
   "metadata": {},
   "outputs": [
    {
     "name": "stdout",
     "output_type": "stream",
     "text": [
      "working on tas\n",
      "working on psl\n",
      "working on tos\n",
      "working on sic\n"
     ]
    }
   ],
   "source": [
    "ce_ar1, corr_ar1= lim.calc_ce_corr_ar_lags(X_valid,X_train,lags,limvars,\n",
    "                                           lat_2d[:,0],lon_2d[0,:])"
   ]
  },
  {
   "cell_type": "code",
   "execution_count": 39,
   "metadata": {},
   "outputs": [
    {
     "name": "stdout",
     "output_type": "stream",
     "text": [
      "working on tas\n",
      "working on psl\n",
      "working on tos\n"
     ]
    },
    {
     "name": "stderr",
     "output_type": "stream",
     "text": [
      "/home/disk/p/mkb22/Documents/si_analysis_kb/LIMs/SI_LIMs/LIM_utils.py:797: RuntimeWarning: invalid value encountered in true_divide\n",
      "  lac = cov / std\n"
     ]
    },
    {
     "name": "stdout",
     "output_type": "stream",
     "text": [
      "working on sic\n"
     ]
    }
   ],
   "source": [
    "ce_ar1_valid, corr_ar1_valid = lim.calc_ce_corr_ar_lags(X_valid,X_valid,lags,\n",
    "                                                        limvars,lat_2d[:,0], lon_2d[0,:])"
   ]
  },
  {
   "cell_type": "code",
   "execution_count": null,
   "metadata": {
    "collapsed": true
   },
   "outputs": [],
   "source": [
    "X_valid.shape"
   ]
  },
  {
   "cell_type": "code",
   "execution_count": null,
   "metadata": {
    "collapsed": true
   },
   "outputs": [],
   "source": [
    "Xv.shape"
   ]
  },
  {
   "cell_type": "code",
   "execution_count": 112,
   "metadata": {},
   "outputs": [
    {
     "name": "stderr",
     "output_type": "stream",
     "text": [
      "/home/disk/p/mkb22/Documents/si_analysis_kb/LIMs/SI_LIMs/LIM_utils.py:793: RuntimeWarning: invalid value encountered in true_divide\n",
      "  lac = cov / std\n"
     ]
    }
   ],
   "source": [
    "v = 3\n",
    "var = 'tos'\n",
    "Xt = X_valid\n",
    "Xv = X_valid\n",
    "lat = lat_2d[:,0]\n",
    "lon = lon_2d[0,:]\n",
    "l = np.arange(1,2,1)\n",
    "\n",
    "ar1_gm = np.zeros((len(l),Xv.shape[2]))\n",
    "ar1_pm = np.zeros((len(l),2,Xv.shape[2]))\n",
    "ce_pm = np.zeros((len(l),2))\n",
    "corr_pm = np.zeros((len(l),2))\n",
    "\n",
    "for i,lag in enumerate(l):\n",
    "    ar1_forecast, ar1_factor = lim.red_noise_forecast_ar1(Xt[v,:].T,Xv[v,:].T,lead=lag)\n",
    "    ar1_forecast_3d = np.reshape(ar1_forecast,(ar1_forecast.shape[0],nlat,nlon))\n",
    "    X_valid_3d = np.reshape(Xv[v,:].T,(Xv.shape[2],nlat,nlon))\n",
    "    ar1_gm[i,lag:],_,_ = LMR_utils.global_hemispheric_means(ar1_forecast_3d,lat)\n",
    "    ar1_pm[i,:,lag:] = lim.polar_regional_means(ar1_forecast_3d,lat,lon)\n",
    "\n",
    "    true_gm,_,_ = LMR_utils.global_hemispheric_means(X_valid_3d,lat)\n",
    "    true_pm = lim.polar_regional_means(X_valid_3d,lat,lon)\n",
    "\n",
    "    ce_gm = LMR_utils.coefficient_efficiency(true_gm[lag:],ar1_gm[i,lag:])\n",
    "    corr_gm = np.corrcoef(true_gm[lag:],ar1_gm[i,lag:])[0,1]\n",
    "    for n in range(2):\n",
    "        ce_pm[i,n] = LMR_utils.coefficient_efficiency(true_pm[n,lag:],ar1_pm[i,n,lag:])\n",
    "        corr_pm[i,n] = np.corrcoef(true_pm[n,lag:],ar1_pm[i,n,lag:])[0,1]"
   ]
  },
  {
   "cell_type": "code",
   "execution_count": 122,
   "metadata": {},
   "outputs": [
    {
     "data": {
      "text/plain": [
       "(-0.00033366700033366306, (12000, 3240))"
      ]
     },
     "execution_count": 122,
     "metadata": {},
     "output_type": "execute_result"
    }
   ],
   "source": [
    "np.nanmin(ar1_factor), Xv[v,:].T.shape"
   ]
  },
  {
   "cell_type": "code",
   "execution_count": 125,
   "metadata": {},
   "outputs": [
    {
     "data": {
      "text/plain": [
       "(11999, 3240)"
      ]
     },
     "execution_count": 125,
     "metadata": {},
     "output_type": "execute_result"
    }
   ],
   "source": [
    "ar1_forecast.shape"
   ]
  },
  {
   "cell_type": "code",
   "execution_count": 106,
   "metadata": {},
   "outputs": [
    {
     "data": {
      "text/plain": [
       "0.9848644683160668"
      ]
     },
     "execution_count": 106,
     "metadata": {},
     "output_type": "execute_result"
    }
   ],
   "source": [
    "corr_gm"
   ]
  },
  {
   "cell_type": "code",
   "execution_count": 110,
   "metadata": {},
   "outputs": [
    {
     "data": {
      "text/plain": [
       "0.9848644683160668"
      ]
     },
     "execution_count": 110,
     "metadata": {},
     "output_type": "execute_result"
    }
   ],
   "source": [
    "np.corrcoef(true_gm[1:],ar1_gm[0,1:])[0,1]"
   ]
  },
  {
   "cell_type": "code",
   "execution_count": 108,
   "metadata": {},
   "outputs": [
    {
     "data": {
      "text/plain": [
       "<matplotlib.legend.Legend at 0x7efd8cbcab38>"
      ]
     },
     "execution_count": 108,
     "metadata": {},
     "output_type": "execute_result"
    },
    {
     "data": {
      "image/png": "[encoded data removed]",
      "text/plain": [
       "<Figure size 432x288 with 1 Axes>"
      ]
     },
     "metadata": {
      "needs_background": "light"
     },
     "output_type": "display_data"
    }
   ],
   "source": [
    "plt.plot(true_gm[1:], label='True')\n",
    "plt.plot(ar1_gm[0,2:], label='AR1')\n",
    "plt.xlim(0,100)\n",
    "plt.legend()"
   ]
  },
  {
   "cell_type": "code",
   "execution_count": null,
   "metadata": {
    "collapsed": true
   },
   "outputs": [],
   "source": []
  },
  {
   "cell_type": "markdown",
   "metadata": {},
   "source": [
    "#### check in eof space: "
   ]
  },
  {
   "cell_type": "code",
   "execution_count": null,
   "metadata": {
    "collapsed": true
   },
   "outputs": [],
   "source": [
    "truth_eof = np.matmul(E_sic,x_valid_sic)\n",
    "truth_eof_gm,_,_ = LMR_utils.global_hemispheric_means(np.reshape(truth_eof.T,(7212,45,72)), lat_2d[:,0])"
   ]
  },
  {
   "cell_type": "code",
   "execution_count": null,
   "metadata": {
    "collapsed": true
   },
   "outputs": [],
   "source": [
    "truth_state['sic_gm'].shape"
   ]
  },
  {
   "cell_type": "code",
   "execution_count": null,
   "metadata": {
    "collapsed": true
   },
   "outputs": [],
   "source": [
    "plt.plot(truth_state['sic_gm'][0,:],label='truth')\n",
    "plt.plot(forecast['sic_gm'][0,:],label='forecast')\n",
    "plt.plot(truth_eof_gm,label='truth eof')\n",
    "plt.legend()\n",
    "plt.title('GM SIC')"
   ]
  },
  {
   "cell_type": "code",
   "execution_count": null,
   "metadata": {
    "collapsed": true
   },
   "outputs": [],
   "source": [
    "k=0\n",
    "ce_test = LMR_utils.coefficient_efficiency(truth_eof_gm,forecast[var+'_gm'][k,k:])\n",
    "corr_test = np.corrcoef(truth_eof_gm,forecast[var+'_gm'][k,k:])[0,1]\n",
    "corr_test, ce_test"
   ]
  },
  {
   "cell_type": "code",
   "execution_count": 148,
   "metadata": {},
   "outputs": [
    {
     "data": {
      "text/plain": [
       "array([0.        , 0.98486447, 0.96391541, 0.93804171, 0.90800665,\n",
       "       0.87682375, 0.84661718, 0.81847671, 0.79224612, 0.76764925,\n",
       "       0.74339473, 0.71778917, 0.69008076])"
      ]
     },
     "execution_count": 148,
     "metadata": {},
     "output_type": "execute_result"
    }
   ],
   "source": [
    "corr_ar1_valid['tos_gm']"
   ]
  },
  {
   "cell_type": "code",
   "execution_count": null,
   "metadata": {
    "collapsed": true
   },
   "outputs": [],
   "source": []
  },
  {
   "cell_type": "code",
   "execution_count": null,
   "metadata": {
    "collapsed": true
   },
   "outputs": [],
   "source": []
  },
  {
   "cell_type": "code",
   "execution_count": null,
   "metadata": {
    "collapsed": true
   },
   "outputs": [],
   "source": []
  },
  {
   "cell_type": "code",
   "execution_count": null,
   "metadata": {
    "collapsed": true
   },
   "outputs": [],
   "source": []
  },
  {
   "cell_type": "code",
   "execution_count": null,
   "metadata": {
    "collapsed": true
   },
   "outputs": [],
   "source": [
    "# load training data...\n",
    "wt=True\n",
    "var_dict = {}\n",
    "tot_var = {}\n",
    "tot_var_eig = {}\n",
    "W_all = {}\n",
    "standard_factor = {}\n",
    "E3 = {}\n",
    "Ptrunc = {}\n",
    "\n",
    "# if sic_separate is True: \n",
    "#         E3 = np.zeros([X_allshape-X_sicshape,ntrunc*(nvars-1)])\n",
    "# else:  \n",
    "#     E3 = np.zeros([X_allshape,ntrunc*(nvars)])\n",
    "n=0\n",
    "\n",
    "for k, var in enumerate(limvars): \n",
    "    X_var, var_dict = load_data(var, var_dict, fdic_ccsm4, remove_climo=True, detrend=True, verbose=True)\n",
    "    \n",
    "    mo = 1\n",
    "    tsamp = X_var.shape[1]\n",
    "    nyears_train = int((tsamp*ntrain)/12)\n",
    "    #nyears_valid = int(X_all_mpi.shape[2]/12)\n",
    "    nyears_valid = int((tsamp*(1-ntrain))/12)\n",
    "\n",
    "    X_t = np.reshape(X_var,(X_var.shape[0],int(tsamp/12),12))\n",
    "    X_train = X_t[:,0:nyears_train,mo]\n",
    "    X_train2 = X_t[:,0:nyears_train,mo+1]\n",
    "    X_valid = X_t[:,nyears_train:,mo]\n",
    "    truth = X_t[:,nyears_train:,mo+1]\n",
    "    ntime = X_train.shape[1]\n",
    "     \n",
    "    if (sic_separate is True) & (var is 'sic'):\n",
    "            trunc = nmodes_sic\n",
    "    else: \n",
    "        trunc = ntrunc\n",
    "        \n",
    "    if len(var_dict[var]['lat'].shape)<2:\n",
    "        nlon = var_dict[var]['lon'].shape[0]\n",
    "        nlat = var_dict[var]['lat'].shape[0]\n",
    "        lat = var_dict[var]['lat'][:,np.newaxis]*np.ones((nlat,nlon))\n",
    "    else: \n",
    "        lat = var_dict[var]['lat']\n",
    "\n",
    "    [eofs_out, svals_out, pcs_out, \n",
    "     total_var, total_var_eig, \n",
    "     var_expl_by_retained, W] = limkb.eof_decomp_1var(X_train,lat,var_dict[var]['var_ndof'],\n",
    "                                                      X_train.shape[1],trunc,Weight=wt)\n",
    "    \n",
    "    tot_var[var] = total_var\n",
    "    tot_var_eig[var] = total_var_eig\n",
    "    W_all[var] = np.squeeze(W)\n",
    "    \n",
    "    if k == 0:\n",
    "        print('fraction in first '+str(ntrunc)+ ' '+limvars[k]+' EOFs = '+str(var_expl_by_retained))\n",
    "                                                                              \n",
    "        # projection\n",
    "        P_var = np.matmul(eofs_out.T,W*np.nan_to_num(X_train))\n",
    "        standard_factor[var] = np.sqrt(np.sum(svals_out*svals_out)/(ntime-1))\n",
    "\n",
    "        Ptrunc[var] = P_var/standard_factor[var]\n",
    "\n",
    "        # reverse operator from EOFs to grid point space\n",
    "        E3[var] = eofs_out*standard_factor[var]\n",
    "        n=n+1\n",
    "\n",
    "    elif (sic_separate is True) & (var is 'sic'):\n",
    "        print('fraction in first '+str(nmodes_sic)+ ' '+limvars[k]+' EOFs = '+str(var_expl_by_retained))\n",
    "        print('...separately')\n",
    "\n",
    "        Pvar_sic = np.matmul(eofs_out.T,W*np.nan_to_num(X_train))\n",
    "        standard_factor[var] = np.sqrt(np.sum(svals_out*svals_out)/(ntime-1))\n",
    "\n",
    "        Ptrunc['sic'] = Pvar_sic/standard_factor[var]\n",
    "        E['sic'] = eofs_out*standard_factor[var]\n",
    "\n",
    "    else:\n",
    "        print('fraction in first '+str(ntrunc)+ ' '+limvars[k]+' EOFs = '+str(var_expl_by_retained))\n",
    "\n",
    "        # projection\n",
    "        P_var = np.matmul(eofs_out.T,W*np.nan_to_num(X_train))\n",
    "        standard_factor[var] = np.sqrt(np.sum(svals_out*svals_out)/(ntime-1))\n",
    "\n",
    "        Ptrunc[var] = P_var/standard_factor[var]\n",
    "\n",
    "        # reverse operator from EOFs to grid point space\n",
    "        E3[var] = eofs_out*standard_factor[var]\n",
    "        n=n+1\n",
    "\n",
    "#             # projection\n",
    "#             P_var = np.matmul(eofs_out.T,W*np.nan_to_num(X_train[var_dict[var]['var_inds'],:]))\n",
    "#             standard_factor[var] = np.sqrt(np.sum(svals_out*svals_out)/(ntime-1))\n",
    "            \n",
    "#             Ptrunc = np.concatenate((Ptrunc,P_var/standard_factor[var]),axis=0)\n",
    "\n",
    "#             # reverse operator from EOFs to grid point space\n",
    "#             E3[var_dict[var]['var_inds'],n*ntrunc:(n+1)*ntrunc] = eofs_out*standard_factor[var]\n",
    "#             n=n+1\n",
    "\n",
    "    del X_var\n",
    "    \n",
    "# if k == 0: \n",
    "#     X_all = X_var\n",
    "# else: \n",
    "#     X_all = np.concatenate((X_all,X_var),axis=0)"
   ]
  }
 ],
 "metadata": {
  "anaconda-cloud": {},
  "kernelspec": {
   "display_name": "Python 3",
   "language": "python",
   "name": "python3"
  },
  "language_info": {
   "codemirror_mode": {
    "name": "ipython",
    "version": 3
   },
   "file_extension": ".py",
   "mimetype": "text/x-python",
   "name": "python",
   "nbconvert_exporter": "python",
   "pygments_lexer": "ipython3",
   "version": "3.6.6"
  }
 },
 "nbformat": 4,
 "nbformat_minor": 2
}
