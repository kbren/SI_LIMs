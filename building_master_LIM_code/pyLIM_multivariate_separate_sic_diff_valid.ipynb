{
 "cells": [
  {
   "cell_type": "markdown",
   "metadata": {},
   "source": [
    "# LIM forecasting: multivariate separate sic\n",
    "\n",
    "Katie Brennan  \n",
    "started March 31, 2020  \n",
    "  \n",
    "#### Goals: \n",
    "* Build a LIM based on SIC \n",
    "* Build a LIM based on both SIC and SIT \n",
    "* Compare performance"
   ]
  },
  {
   "cell_type": "code",
   "execution_count": 5,
   "metadata": {},
   "outputs": [],
   "source": [
    "import sys,os\n",
    "#sys.path.append(\"/Users/hakim/gitwork/LMR_python3\")\n",
    "sys.path.append(\"/home/disk/kalman2/mkb22/pyLMR/\")\n",
    "import LMR_utils"
   ]
  },
  {
   "cell_type": "code",
   "execution_count": 6,
   "metadata": {},
   "outputs": [],
   "source": [
    "# number of EOFs to retain for the LIM state vector\n",
    "ntrunc = 400 # EOF truncation for individual fields (reduced-state space)\n",
    "nmodes = 60 # number of coupled EOFs for LIM state space (truncated-state space)\n",
    "nmodes_sic = 100\n",
    "\n",
    "# forecast lead time in months that defines the LIM training\n",
    "tau = 1\n",
    "\n",
    "# training data defined by the first ntrain times\n",
    "# fraction of years used in training\n",
    "# ensures that start year of both train and validation data is january \n",
    "ntrain = 0.4\n",
    "\n",
    "# variables to include in the LIM (note \"vars\" is a Python command)\n",
    "#limvars = ['tas','zg']\n",
    "#limvars = ['tas','rlut','zg']\n",
    "#limvars = ['sic']\n",
    "#limvars = ['tas','sic']\n",
    "#limvars = ['tas','sic','zg','psl','pr','tos']\n",
    "limvars = ['tas','psl','tos','sic']\n",
    "nvars = len(limvars)\n",
    "\n",
    "# specify the model source \n",
    "train_dsource = 'ccsm4_lm'\n",
    "valid_dsource = 'mpi_lm'\n",
    "\n",
    "# select 2 variables for analysis and plotting\n",
    "var_dict = {}\n",
    "\n",
    "sic_separate = True"
   ]
  },
  {
   "cell_type": "code",
   "execution_count": 7,
   "metadata": {},
   "outputs": [
    {
     "data": {
      "text/plain": [
       "'tas_psl_tos_sic'"
      ]
     },
     "execution_count": 7,
     "metadata": {},
     "output_type": "execute_result"
    }
   ],
   "source": [
    "'_'.join(limvars)"
   ]
  },
  {
   "cell_type": "code",
   "execution_count": 8,
   "metadata": {},
   "outputs": [],
   "source": [
    "full_names = {'tas':'Surface air temperature',\n",
    "              'psl':'Sea level Pressure',\n",
    "              'sic':'Sea ice concentration', \n",
    "              'tos':'Sea surface temperature',\n",
    "              'zg': '500hPa geopotential height'}"
   ]
  },
  {
   "cell_type": "code",
   "execution_count": 9,
   "metadata": {},
   "outputs": [],
   "source": [
    "import numpy as np\n",
    "import matplotlib\n",
    "import matplotlib.pyplot as plt\n",
    "import cartopy.crs as ccrs\n",
    "import cartopy.feature\n",
    "from cartopy.util import add_cyclic_point\n",
    "from collections import OrderedDict "
   ]
  },
  {
   "cell_type": "code",
   "execution_count": 10,
   "metadata": {},
   "outputs": [],
   "source": [
    "arc_proj = dict(projection=ccrs.Stereographic(central_latitude=90,\n",
    "                                              central_longitude=-45,\n",
    "                                              true_scale_latitude=0.1))\n",
    "proj = dict(projection=ccrs.Robinson(central_longitude=0.),zorder=1)"
   ]
  },
  {
   "cell_type": "code",
   "execution_count": 11,
   "metadata": {},
   "outputs": [],
   "source": [
    "sys.path.append(\"/home/disk/p/mkb22/Documents/si_analysis_kb/LIMs/SI_LIMs/\")\n",
    "import LIM_utils as lim"
   ]
  },
  {
   "cell_type": "code",
   "execution_count": 12,
   "metadata": {},
   "outputs": [
    {
     "data": {
      "text/plain": [
       "<module 'LIM_utils' from '/home/disk/p/mkb22/Documents/si_analysis_kb/LIMs/SI_LIMs/LIM_utils.py'>"
      ]
     },
     "execution_count": 12,
     "metadata": {},
     "output_type": "execute_result"
    }
   ],
   "source": [
    "import importlib\n",
    "importlib.reload(lim)"
   ]
  },
  {
   "cell_type": "code",
   "execution_count": 44,
   "metadata": {},
   "outputs": [],
   "source": [
    "from datetime import date\n",
    "\n",
    "today = date.today()\n",
    "\n",
    "#Year-month-day\n",
    "today_date = today.strftime(\"%Y%m%d\")"
   ]
  },
  {
   "cell_type": "code",
   "execution_count": 13,
   "metadata": {},
   "outputs": [],
   "source": [
    "import time as timestamp # avoids conflict with local naming!"
   ]
  },
  {
   "cell_type": "code",
   "execution_count": 14,
   "metadata": {},
   "outputs": [],
   "source": [
    "pi = np.pi\n",
    "\n",
    "# fill continents if plotting SST; otherwise no\n",
    "# if var_to_extract == 'tos':\n",
    "#     noland = True\n",
    "# else:\n",
    "#     noland = False\n",
    "\n",
    "infile_20cr_tas = '/home/disk/kalman3/rtardif/LMR/data/model/20cr/tas_sfc_Amon_20CR_185101-201112.nc'\n",
    "\n",
    "fdic_ccsm4 = lim.build_training_dic(train_dsource)\n",
    "fdic_mpi = lim.build_training_dic(valid_dsource)"
   ]
  },
  {
   "cell_type": "code",
   "execution_count": 15,
   "metadata": {},
   "outputs": [],
   "source": [
    "#----------- end of function definitions --------------"
   ]
  },
  {
   "cell_type": "code",
   "execution_count": 16,
   "metadata": {},
   "outputs": [
    {
     "name": "stdout",
     "output_type": "stream",
     "text": [
      "Loading tas\n",
      "fetching  tas  from  /home/disk/kalman3/rtardif/LMR/data/model/ccsm4_last_millenium/tas_sfc_Amon_CCSM4_past1000_085001-185012.nc\n",
      "-----------------------------------------------------\n",
      "completed in 22.777576684951782 seconds\n",
      "-----------------------------------------------------\n",
      "(12012, 192, 288)\n",
      "indlat= 0  indlon= 1\n",
      "('lat', 'lon')\n",
      "nlat: 192\n",
      "nlon: 288\n",
      "(55296, 12012)\n",
      "Mask detected.  Adding mask to src ESMF grid\n",
      "-----------------------------------------------------\n",
      "completed in 2.2161178588867188 seconds\n",
      "-----------------------------------------------------\n",
      "Working on:\n",
      "month = 0\n",
      "month = 1\n",
      "month = 2\n",
      "month = 3\n",
      "month = 4\n",
      "month = 5\n",
      "month = 6\n",
      "month = 7\n",
      "month = 8\n",
      "month = 9\n",
      "month = 10\n",
      "month = 11\n",
      "Loading psl\n",
      "fetching  psl  from  /home/disk/kalman3/rtardif/LMR/data/model/ccsm4_last_millenium/psl_sfc_Amon_CCSM4_past1000_085001-185012.nc\n",
      "-----------------------------------------------------\n",
      "completed in 22.7883141040802 seconds\n",
      "-----------------------------------------------------\n",
      "(12012, 192, 288)\n",
      "indlat= 0  indlon= 1\n",
      "('lat', 'lon')\n",
      "nlat: 192\n",
      "nlon: 288\n",
      "(55296, 12012)\n",
      "Mask detected.  Adding mask to src ESMF grid\n",
      "-----------------------------------------------------\n",
      "completed in 2.098745107650757 seconds\n",
      "-----------------------------------------------------\n",
      "Working on:\n",
      "month = 0\n",
      "month = 1\n",
      "month = 2\n",
      "month = 3\n",
      "month = 4\n",
      "month = 5\n",
      "month = 6\n",
      "month = 7\n",
      "month = 8\n",
      "month = 9\n",
      "month = 10\n",
      "month = 11\n",
      "Loading tos\n",
      "fetching  tos  from  /home/disk/kalman3/rtardif/LMR/data/model/ccsm4_last_millenium/tos_sfc_Omon_CCSM4_past1000_085001-185012.nc\n",
      "-----------------------------------------------------\n",
      "completed in 52.95463180541992 seconds\n",
      "-----------------------------------------------------\n",
      "(12012, 384, 320)\n",
      "indlat= 0  indlon= 1\n",
      "('lat', 'lon')\n",
      "nlat: 384\n",
      "nlon: 320\n",
      "(122880, 12012)\n",
      "Mask detected.  Adding mask to src ESMF grid\n",
      "-----------------------------------------------------\n",
      "completed in 3.0563857555389404 seconds\n",
      "-----------------------------------------------------\n",
      "Working on:\n",
      "month = 0\n",
      "month = 1\n",
      "month = 2\n",
      "month = 3\n",
      "month = 4\n",
      "month = 5\n",
      "month = 6\n",
      "month = 7\n",
      "month = 8\n",
      "month = 9\n",
      "month = 10\n",
      "month = 11\n",
      "Loading sic\n",
      "fetching  sic  from  /home/disk/kalman3/rtardif/LMR/data/model/ccsm4_last_millenium/sic_sfc_OImon_CCSM4_past1000_085001-185012.nc\n",
      "-----------------------------------------------------\n",
      "completed in 26.148264408111572 seconds\n",
      "-----------------------------------------------------\n",
      "(12012, 180, 360)\n",
      "indlat= 0  indlon= 1\n",
      "('lat', 'lon')\n",
      "nlat: 180\n",
      "nlon: 360\n",
      "(64800, 12012)\n",
      "Mask detected.  Adding mask to src ESMF grid\n",
      "-----------------------------------------------------\n",
      "completed in 2.2739923000335693 seconds\n",
      "-----------------------------------------------------\n",
      "Working on:\n",
      "month = 0\n",
      "month = 1\n",
      "month = 2\n",
      "month = 3\n",
      "month = 4\n",
      "month = 5\n",
      "month = 6\n",
      "month = 7\n",
      "month = 8\n",
      "month = 9\n",
      "month = 10\n",
      "month = 11\n"
     ]
    }
   ],
   "source": [
    "#\n",
    "# load training data...\n",
    "#\n",
    "for k, var in enumerate(limvars): \n",
    "    print('Loading '+var)\n",
    "    data_in,lat_2d,lon_2d, time_yrs = lim.get_data(var,fdic_ccsm4[var], 45, 72)\n",
    "    ntime = data_in.shape[0]\n",
    "    nlat = data_in.shape[1]\n",
    "    nlon = data_in.shape[2]\n",
    "    X_var = np.moveaxis(np.reshape(data_in,[ntime,nlat*nlon]),0,-1) \n",
    "    if k == 0: \n",
    "        X_all = np.zeros((nvars,nlat*nlon,ntime))\n",
    "    X_all[k,:,:] = X_var"
   ]
  },
  {
   "cell_type": "code",
   "execution_count": 17,
   "metadata": {},
   "outputs": [
    {
     "name": "stdout",
     "output_type": "stream",
     "text": [
      "Loading tas\n",
      "fetching  tas  from  /home/disk/kalman3/rtardif/LMR/data/model/mpi-esm-p_last_millenium/tas_sfc_Amon_MPI-ESM-P_past1000_085001-185012.nc\n",
      "-----------------------------------------------------\n",
      "completed in 17.31151008605957 seconds\n",
      "-----------------------------------------------------\n",
      "(12000, 96, 192)\n",
      "indlat= 0  indlon= 1\n",
      "('lat', 'lon')\n",
      "nlat: 96\n",
      "nlon: 192\n",
      "(18432, 12000)\n",
      "Mask detected.  Adding mask to src ESMF grid\n",
      "-----------------------------------------------------\n",
      "completed in 1.5815787315368652 seconds\n",
      "-----------------------------------------------------\n",
      "Working on:\n",
      "month = 0\n",
      "month = 1\n",
      "month = 2\n",
      "month = 3\n",
      "month = 4\n",
      "month = 5\n",
      "month = 6\n",
      "month = 7\n",
      "month = 8\n",
      "month = 9\n",
      "month = 10\n",
      "month = 11\n",
      "Loading psl\n",
      "fetching  psl  from  /home/disk/kalman3/rtardif/LMR/data/model/mpi-esm-p_last_millenium/psl_sfc_Amon_MPI-ESM-P_past1000_085001-185012.nc\n",
      "-----------------------------------------------------\n",
      "completed in 14.485893726348877 seconds\n",
      "-----------------------------------------------------\n",
      "(12000, 96, 192)\n",
      "indlat= 0  indlon= 1\n",
      "('lat', 'lon')\n",
      "nlat: 96\n",
      "nlon: 192\n",
      "(18432, 12000)\n",
      "Mask detected.  Adding mask to src ESMF grid\n",
      "-----------------------------------------------------\n",
      "completed in 1.5796635150909424 seconds\n",
      "-----------------------------------------------------\n",
      "Working on:\n",
      "month = 0\n",
      "month = 1\n",
      "month = 2\n",
      "month = 3\n",
      "month = 4\n",
      "month = 5\n",
      "month = 6\n",
      "month = 7\n",
      "month = 8\n",
      "month = 9\n",
      "month = 10\n",
      "month = 11\n",
      "Loading tos\n",
      "fetching  tos  from  /home/disk/kalman3/rtardif/LMR/data/model/mpi-esm-p_last_millenium/tos_sfc_Omon_MPI-ESM-P_past1000_085001-185012.nc\n",
      "-----------------------------------------------------\n",
      "completed in 35.35064363479614 seconds\n",
      "-----------------------------------------------------\n",
      "(12000, 220, 256)\n",
      "indlat= 0  indlon= 1\n",
      "('lat', 'lon')\n",
      "nlat: 220\n",
      "nlon: 256\n",
      "(56320, 12000)\n",
      "Mask detected.  Adding mask to src ESMF grid\n",
      "-----------------------------------------------------\n",
      "completed in 2.1845028400421143 seconds\n",
      "-----------------------------------------------------\n",
      "Working on:\n",
      "month = 0\n",
      "month = 1\n",
      "month = 2\n",
      "month = 3\n",
      "month = 4\n",
      "month = 5\n",
      "month = 6\n",
      "month = 7\n",
      "month = 8\n",
      "month = 9\n",
      "month = 10\n",
      "month = 11\n",
      "Loading sic\n",
      "fetching  sic  from  /home/disk/kalman3/rtardif/LMR/data/model/mpi-esm-p_last_millenium/sic_sfc_OImon_MPI-ESM-P_past1000_085001-185012.nc\n",
      "-----------------------------------------------------\n",
      "completed in 34.4873948097229 seconds\n",
      "-----------------------------------------------------\n",
      "(12000, 220, 256)\n",
      "indlat= 0  indlon= 1\n",
      "('lat', 'lon')\n",
      "nlat: 220\n",
      "nlon: 256\n",
      "(56320, 12000)\n",
      "Mask detected.  Adding mask to src ESMF grid\n",
      "-----------------------------------------------------\n",
      "completed in 3.293806314468384 seconds\n",
      "-----------------------------------------------------\n",
      "Working on:\n",
      "month = 0\n",
      "month = 1\n",
      "month = 2\n",
      "month = 3\n",
      "month = 4\n",
      "month = 5\n",
      "month = 6\n",
      "month = 7\n",
      "month = 8\n",
      "month = 9\n",
      "month = 10\n",
      "month = 11\n"
     ]
    }
   ],
   "source": [
    "#\n",
    "# load validation data...\n",
    "#\n",
    "for k, var in enumerate(limvars): \n",
    "    print('Loading '+var)\n",
    "    [data_in_mpi,lat_2d_mpi,\n",
    "     lon_2d_mpi, time_yrs_mpi] = lim.get_data(var,fdic_mpi[var], 45, 72)\n",
    "    ntime_mpi = data_in_mpi.shape[0]\n",
    "    nlat_mpi = data_in_mpi.shape[1]\n",
    "    nlon_mpi = data_in_mpi.shape[2]\n",
    "    X_var_mpi = np.moveaxis(np.reshape(data_in_mpi,[ntime_mpi,nlat_mpi*nlon_mpi]),0,-1) \n",
    "    if k == 0: \n",
    "        X_all_mpi = np.zeros((nvars,nlat_mpi*nlon_mpi,ntime_mpi))\n",
    "    X_all_mpi[k,:,:] = X_var_mpi"
   ]
  },
  {
   "cell_type": "code",
   "execution_count": 18,
   "metadata": {},
   "outputs": [
    {
     "name": "stdout",
     "output_type": "stream",
     "text": [
      "(12960, 12012)\n",
      "(12960, 12000)\n"
     ]
    }
   ],
   "source": [
    "# combine fields in the row space into a full state vector\n",
    "if nvars > 1:\n",
    "    for k in range(nvars-1):\n",
    "        if k == 0:\n",
    "            X = np.concatenate((X_all[0],X_all[1]),axis=0)\n",
    "            X_mpi = np.concatenate((X_all_mpi[0],X_all_mpi[1]),axis=0)\n",
    "        else:\n",
    "            X = np.concatenate((X,X_all[k+1]),axis=0)\n",
    "            X_mpi = np.concatenate((X_mpi,X_all_mpi[k+1]),axis=0)\n",
    "else:\n",
    "    X = np.squeeze(np.copy(X_all))\n",
    "    X_mpi = np.squeeze(np.copy(X_all_mpi))\n",
    "    \n",
    "print(X.shape)\n",
    "print(X_mpi.shape)"
   ]
  },
  {
   "cell_type": "code",
   "execution_count": 19,
   "metadata": {},
   "outputs": [
    {
     "name": "stdout",
     "output_type": "stream",
     "text": [
      "odict_keys(['tas', 'psl', 'tos', 'sic'])\n",
      "{'tas': {'varind': 0, 'var_inds': array([   0,    1,    2, ..., 3237, 3238, 3239])}, 'psl': {'varind': 1, 'var_inds': array([3240, 3241, 3242, ..., 6477, 6478, 6479])}, 'tos': {'varind': 2, 'var_inds': array([6480, 6481, 6482, ..., 9717, 9718, 9719])}, 'sic': {'varind': 3, 'var_inds': array([ 9720,  9721,  9722, ..., 12957, 12958, 12959])}}\n"
     ]
    }
   ],
   "source": [
    "# set location indices for each variable\n",
    "ndof = X_all[0,:].shape[0]\n",
    "\n",
    "# dictionary with the field info\n",
    "fields = OrderedDict()\n",
    "for k,var in enumerate(limvars):\n",
    "    d = {}\n",
    "    var_inds = np.arange(k*ndof,(k+1)*ndof)\n",
    "    fields[limvars[k]] = var_inds\n",
    "    d['varind'] = k\n",
    "    d['var_inds'] = var_inds\n",
    "    var_dict[var] = d\n",
    "        \n",
    "print(fields.keys())\n",
    "print(var_dict)"
   ]
  },
  {
   "cell_type": "code",
   "execution_count": 20,
   "metadata": {},
   "outputs": [
    {
     "data": {
      "text/plain": [
       "(12960, 12000)"
      ]
     },
     "execution_count": 20,
     "metadata": {},
     "output_type": "execute_result"
    }
   ],
   "source": [
    "X_mpi.shape"
   ]
  },
  {
   "cell_type": "code",
   "execution_count": 21,
   "metadata": {},
   "outputs": [
    {
     "name": "stdout",
     "output_type": "stream",
     "text": [
      "training data shape:  (4, 3240, 12012)\n",
      "validation data shape:  (4, 3240, 12000)\n"
     ]
    }
   ],
   "source": [
    "# prepare the data to train and test the LIM. \n",
    "# separate data into training the validation sets \n",
    "tsamp = X.shape[1]\n",
    "nyears = tsamp/12\n",
    "ntrain_yrs = int(np.floor((tsamp/12)*ntrain)*12)\n",
    "train_inds = np.arange(0,ntrain_yrs)\n",
    "valid_inds = np.arange(ntrain_yrs,tsamp,1)\n",
    "\n",
    "X_train = X_all\n",
    "X_valid = X_all_mpi\n",
    "truth = X_mpi\n",
    "yrs_train = time_yrs\n",
    "yrs_valid = time_yrs_mpi\n",
    "\n",
    "print('training data shape: ',X_train.shape)\n",
    "print('validation data shape: ',X_valid.shape)"
   ]
  },
  {
   "cell_type": "code",
   "execution_count": 22,
   "metadata": {},
   "outputs": [
    {
     "name": "stdout",
     "output_type": "stream",
     "text": [
      "decomposing... tas\n",
      "fraction in first 400 tas EOFs =  94.31516300089059\n",
      "decomposing... psl\n",
      "fraction in first 400 psl EOFs =  99.13064936810353\n",
      "decomposing... tos\n",
      "fraction in first 400 tos EOFs =  95.40624414577455\n",
      "decomposing... sic\n",
      "fraction in first 100 sic EOFs =  76.51237738823411\n",
      "...separately\n",
      "(9720, 60)\n"
     ]
    }
   ],
   "source": [
    "# PH approach: coupled-EOFs in truncated EOF space. \n",
    "\n",
    "# weight matrix for equal-area covariance normalization\n",
    "tmp = np.sqrt(np.cos(np.radians(lat_2d)))\n",
    "W = np.reshape(tmp,[nlat*nlon,1])\n",
    "# note W*X = X*W\n",
    "\n",
    "if sic_separate is True: \n",
    "    E3 = np.zeros([ndof*(nvars-1),ntrunc*(nvars-1)])\n",
    "else:  \n",
    "    E3 = np.zeros([ndof*(nvars),ntrunc*(nvars)])\n",
    "n=0\n",
    "for k,var in enumerate(limvars):\n",
    "    print('decomposing...',var)\n",
    "    u,s,v = np.linalg.svd(W*np.nan_to_num(X_train[k,:,:]),full_matrices=False)\n",
    "    fvar = 100*s*s/np.sum(s*s)\n",
    "    if (sic_separate is True) & (var is 'sic'):\n",
    "        print('fraction in first '+str(nmodes_sic)+ ' '+limvars[k]+' EOFs = ',np.sum(fvar[:nmodes_sic]))\n",
    "    else: \n",
    "        print('fraction in first '+str(ntrunc)+ ' '+limvars[k]+' EOFs = ',np.sum(fvar[:ntrunc]))\n",
    "\n",
    "    # projection\n",
    "    P_var = np.matmul(u[:,:ntrunc].T,np.nan_to_num(X_train[k,:,:]))\n",
    "    standard_factor = np.sqrt(np.sum(np.nanvar(P_var,axis=1)))\n",
    "\n",
    "    if k == 0:\n",
    "        Ptrunc = P_var/standard_factor\n",
    "        \n",
    "        # reverse operator from EOFs to grid point space\n",
    "        E3[k*ndof:(k+1)*ndof,k*ntrunc:(k+1)*ntrunc] = u[:,:ntrunc]\n",
    "        n=n+1\n",
    "    elif (sic_separate is True) & (var is 'sic'):\n",
    "        print('...separately')\n",
    "        Ptrunc_sic = np.matmul(u[:,:nmodes_sic].T,np.nan_to_num(X_train[k,:,:]))/standard_factor\n",
    "        E_sic = u[:,:nmodes_sic]\n",
    "    else:\n",
    "        Ptrunc = np.concatenate((Ptrunc,P_var/standard_factor),axis=0)\n",
    "      \n",
    "        # reverse operator from EOFs to grid point space\n",
    "        E3[n*ndof:(n+1)*ndof,n*ntrunc:(n+1)*ntrunc] = u[:,:ntrunc]\n",
    "        n=n+1\n",
    "    \n",
    "# truncate the coupled covariance matrix\n",
    "U,S,V = np.linalg.svd(Ptrunc,full_matrices=False)\n",
    "Etrunc = U[:,0:nmodes]\n",
    "P = np.matmul(Etrunc.T,Ptrunc)\n",
    "# reverse operator from *truncated* EOF space to full grid point space\n",
    "E = np.matmul(E3,Etrunc)\n",
    "print(E.shape)\n",
    "\n",
    "if sic_separate is True: \n",
    "    P_train = np.concatenate((P,Ptrunc_sic),axis=0)\n",
    "#    E_train = np.concatenate((E,E_sic),axis=1)\n",
    "else: \n",
    "    P_train = P"
   ]
  },
  {
   "cell_type": "code",
   "execution_count": 23,
   "metadata": {},
   "outputs": [
    {
     "name": "stdout",
     "output_type": "stream",
     "text": [
      "decomposing... tas\n",
      "fraction in first 400 tas EOFs =  91.44854905785232\n",
      "decomposing... psl\n",
      "fraction in first 400 psl EOFs =  99.15147042146509\n",
      "decomposing... tos\n",
      "fraction in first 400 tos EOFs =  87.10759284521824\n",
      "decomposing... sic\n",
      "fraction in first 100 sic EOFs =  77.47684543011425\n",
      "...separately\n",
      "(9720, 60)\n"
     ]
    }
   ],
   "source": [
    "# weight matrix for equal-area covariance normalization\n",
    "tmp = np.sqrt(np.cos(np.radians(lat_2d)))\n",
    "W = np.reshape(tmp,[nlat*nlon,1])\n",
    "# note W*X = X*W\n",
    "\n",
    "if sic_separate is True: \n",
    "    E3_valid = np.zeros([ndof*(nvars-1),ntrunc*(nvars-1)])\n",
    "else:  \n",
    "    E3_valid = np.zeros([ndof*(nvars),ntrunc*(nvars)])\n",
    "n=0\n",
    "for k,var in enumerate(limvars):\n",
    "    print('decomposing...',var)\n",
    "    u,s,v = np.linalg.svd(W*np.nan_to_num(X_valid[k,:,:]),full_matrices=False)\n",
    "    fvar = 100*s*s/np.sum(s*s)\n",
    "    if (sic_separate is True) & (var is 'sic'):\n",
    "        print('fraction in first '+str(nmodes_sic)+ ' '+limvars[k]+' EOFs = ',np.sum(fvar[:nmodes_sic]))\n",
    "    else: \n",
    "        print('fraction in first '+str(ntrunc)+ ' '+limvars[k]+' EOFs = ',np.sum(fvar[:ntrunc]))\n",
    "        \n",
    "    # projection\n",
    "    P_var_valid = np.matmul(u[:,:ntrunc].T,np.nan_to_num(X_valid[k,:,:]))\n",
    "    standard_factor = np.sqrt(np.sum(np.nanvar(P_var,axis=1)))\n",
    "\n",
    "    if k == 0:\n",
    "        Ptrunc_valid = P_var_valid/standard_factor\n",
    "        \n",
    "        # reverse operator from EOFs to grid point space\n",
    "        E3_valid[k*ndof:(k+1)*ndof,k*ntrunc:(k+1)*ntrunc] = u[:,:ntrunc]\n",
    "        n=n+1\n",
    "    elif (sic_separate is True) & (var is 'sic'):\n",
    "        print('...separately')\n",
    "        Ptrunc_sic_valid = np.matmul(u[:,:nmodes_sic].T,np.nan_to_num(X_valid[k,:,:]))/standard_factor\n",
    "        E_sic_valid = u[:,:nmodes_sic]\n",
    "    else:\n",
    "        Ptrunc_valid = np.concatenate((Ptrunc_valid,P_var_valid/standard_factor),axis=0)\n",
    "      \n",
    "        # reverse operator from EOFs to grid point space\n",
    "        E3_valid[n*ndof:(n+1)*ndof,n*ntrunc:(n+1)*ntrunc] = u[:,:ntrunc]\n",
    "        n=n+1\n",
    "    \n",
    "# truncate the coupled covariance matrix\n",
    "U,S,V = np.linalg.svd(Ptrunc_valid,full_matrices=False)\n",
    "Etrunc_valid = U[:,0:nmodes]\n",
    "P_valid = np.matmul(Etrunc_valid.T,Ptrunc_valid)\n",
    "# reverse operator from *truncated* EOF space to full grid point space\n",
    "E_valid = np.matmul(E3_valid,Etrunc_valid)\n",
    "print(E_valid.shape)\n",
    "\n",
    "if sic_separate is True: \n",
    "    P_train_valid = np.concatenate((P_valid,Ptrunc_sic_valid),axis=0)\n",
    "#    E_train = np.concatenate((E,E_sic),axis=1)\n",
    "else: \n",
    "    P_train_valid = P_valid"
   ]
  },
  {
   "cell_type": "code",
   "execution_count": 24,
   "metadata": {},
   "outputs": [
    {
     "data": {
      "text/plain": [
       "(4, 3240, 12000)"
      ]
     },
     "execution_count": 24,
     "metadata": {},
     "output_type": "execute_result"
    }
   ],
   "source": [
    "X_valid.shape"
   ]
  },
  {
   "cell_type": "code",
   "execution_count": 25,
   "metadata": {},
   "outputs": [
    {
     "name": "stdout",
     "output_type": "stream",
     "text": [
      "training data shape:  (160, 12012)\n",
      "validation data shape:  (160, 12000)\n"
     ]
    }
   ],
   "source": [
    "# prepare the data to train and test the LIM. \n",
    "# separate data into training the validation sets \n",
    "tsamp = X.shape[1]\n",
    "nyears = tsamp/12\n",
    "ntrain_yrs = int(np.floor((tsamp/12)*ntrain)*12)\n",
    "train_inds = np.arange(0,ntrain_yrs)\n",
    "valid_inds = np.arange(ntrain_yrs,tsamp,1)\n",
    "\n",
    "x_train = P_train\n",
    "\n",
    "if sic_separate is True: \n",
    "    nonsic = np.reshape(X_valid[:-1,:,:],((len(limvars)-1)*ndof,X_valid.shape[2]))\n",
    "    x_valid_nonsic = np.matmul(E_valid.T,np.nan_to_num(nonsic))\n",
    "    x_valid_sic = np.matmul(E_sic_valid.T,np.nan_to_num(X_valid[-1,:,:]))\n",
    "    x_valid = np.concatenate((x_valid_nonsic,x_valid_sic),axis=0)\n",
    "else: \n",
    "    X_valid_rs = np.reshape(X_valid,(len(limvars)*ndof,X_valid.shape[2]))\n",
    "    x_valid =  np.matmul(E_valid.T,np.nan_to_num(X_valid_rs))\n",
    "\n",
    "print('training data shape: ',x_train.shape)\n",
    "print('validation data shape: ',x_valid.shape)"
   ]
  },
  {
   "cell_type": "code",
   "execution_count": 26,
   "metadata": {},
   "outputs": [
    {
     "name": "stderr",
     "output_type": "stream",
     "text": [
      "/home/disk/chaos/mkb22/anaconda2/envs/lmr_py3_xarray_test/lib/python3.6/site-packages/ipykernel_launcher.py:20: RuntimeWarning: Degrees of freedom <= 0 for slice.\n",
      "/home/disk/chaos/mkb22/anaconda2/envs/lmr_py3_xarray_test/lib/python3.6/site-packages/ipykernel_launcher.py:22: RuntimeWarning: Degrees of freedom <= 0 for slice.\n",
      "/home/disk/chaos/mkb22/anaconda2/envs/lmr_py3_xarray_test/lib/python3.6/site-packages/ipykernel_launcher.py:23: RuntimeWarning: Degrees of freedom <= 0 for slice.\n",
      "/home/disk/chaos/mkb22/anaconda2/envs/lmr_py3_xarray_test/lib/python3.6/site-packages/ipykernel_launcher.py:24: RuntimeWarning: Degrees of freedom <= 0 for slice.\n",
      "/home/disk/chaos/mkb22/anaconda2/envs/lmr_py3_xarray_test/lib/python3.6/site-packages/ipykernel_launcher.py:27: RuntimeWarning: Degrees of freedom <= 0 for slice.\n",
      "/home/disk/chaos/mkb22/anaconda2/envs/lmr_py3_xarray_test/lib/python3.6/site-packages/ipykernel_launcher.py:28: RuntimeWarning: Degrees of freedom <= 0 for slice.\n"
     ]
    }
   ],
   "source": [
    "# climo standardized variance for error normalization \n",
    "#  in training and validation (1=no skill)\n",
    "# EOF space only\n",
    "if sic_separate is True: \n",
    "    E_x_train = lim.decompress_eof_separate_sic(x_train,nmodes,nmodes_sic,E,E_sic)\n",
    "    E_x_valid = lim.decompress_eof_separate_sic(x_valid,nmodes,nmodes_sic,E_valid,E_sic_valid)\n",
    "\n",
    "else: \n",
    "    E_x_train = np.matmul(E,x_train)\n",
    "    E_x_valid = np.matmul(E_mpi,x_valid)\n",
    "\n",
    "E_x_train[np.isclose(E_x_train,0,atol=10e-10)] = np.nan\n",
    "E_x_valid[np.isclose(E_x_valid,0,atol=10e-10)] = np.nan\n",
    "    \n",
    "nyrs_train = int(E_x_train.shape[1]/12)\n",
    "nyrs_valid = int(E_x_valid.shape[1]/12)\n",
    "nlalo = E_x_train.shape[0]\n",
    "\n",
    "train_var_mon = np.nanvar(np.reshape(E_x_train,(nlalo,nyrs_train,12)),\n",
    "                       axis=1,ddof=1)\n",
    "valid_var_mon = np.nanvar(np.reshape(E_x_valid,(nlalo,nyrs_valid,12)),\n",
    "                       axis=1,ddof=1)\n",
    "train_var = np.nanvar(E_x_train,axis=1,ddof=1)\n",
    "valid_var = np.nanvar(E_x_valid,axis=1,ddof=1)\n",
    "\n",
    "# FULL FIELD versions of the variance \n",
    "train_var_full = np.nanvar(X,axis=1,ddof=1)\n",
    "valid_var_full = np.nanvar(X_mpi,axis=1,ddof=1)\n",
    "\n",
    "valid_var_mon_full = np.var(np.reshape(X_mpi,(nvars*ndof,nyrs_valid,12)),\n",
    "                            axis=1,ddof=1)"
   ]
  },
  {
   "cell_type": "code",
   "execution_count": 27,
   "metadata": {},
   "outputs": [
    {
     "data": {
      "text/plain": [
       "((12960, 12000), (12960, 12000), 6480)"
      ]
     },
     "execution_count": 27,
     "metadata": {},
     "output_type": "execute_result"
    }
   ],
   "source": [
    "truth.shape, E_x_valid.shape, ndof*2"
   ]
  },
  {
   "cell_type": "code",
   "execution_count": 28,
   "metadata": {},
   "outputs": [
    {
     "data": {
      "text/plain": [
       "[<matplotlib.lines.Line2D at 0x7f8a52778128>]"
      ]
     },
     "execution_count": 28,
     "metadata": {},
     "output_type": "execute_result"
    },
    {
     "data": {
      "image/png": "[encoded data removed]",
      "text/plain": [
       "<Figure size 432x288 with 1 Axes>"
      ]
     },
     "metadata": {
      "needs_background": "light"
     },
     "output_type": "display_data"
    }
   ],
   "source": [
    "plt.plot(truth[9702,:])\n",
    "plt.plot(E_x_valid[9702,:])"
   ]
  },
  {
   "cell_type": "code",
   "execution_count": 29,
   "metadata": {},
   "outputs": [
    {
     "name": "stdout",
     "output_type": "stream",
     "text": [
      "tas\n",
      "psl\n",
      "tos\n",
      "sic\n",
      "tas\n",
      "psl\n",
      "tos\n",
      "sic\n"
     ]
    }
   ],
   "source": [
    "# valid_variance_eof = lim.calc_gm_polar_variance(valid_var,valid_var_mon,\n",
    "#                                                 fields,lat_2d[:,0],lon_2d[0,:])\n",
    "valid_variance_full = lim.calc_gm_polar_variance(valid_var_full,valid_var_mon_full,\n",
    "                                                 fields,lat_2d[:,0],lon_2d[0,:])\n",
    "\n",
    "for v,var in enumerate(limvars):\n",
    "    print(var)\n",
    "#    valid_variance_eof[var+'_lalo'] = np.reshape(valid_var[fields[var]],[nlat,nlon])\n",
    "    valid_variance_full[var+'_lalo'] = np.reshape(valid_var_full[fields[var]],[nlat,nlon])\n",
    "#    valid_variance_eof[var+'_mon_lalo'] = np.reshape(valid_var_mon[fields[var]],\n",
    "#                                                     [nlat,nlon,12])\n",
    "    valid_variance_full[var+'_mon_lalo'] = np.reshape(valid_var_mon_full[fields[var]],\n",
    "                                                      [nlat,nlon,12])"
   ]
  },
  {
   "cell_type": "code",
   "execution_count": 30,
   "metadata": {},
   "outputs": [],
   "source": [
    "# climo mean and covariance in EOF space sampled over all times\n",
    "Pm = np.mean(P,axis=1,keepdims=True)\n",
    "tmp = P - Pm\n",
    "Cc = np.matmul(tmp,tmp.T)/(tmp.shape[1]-1)"
   ]
  },
  {
   "cell_type": "code",
   "execution_count": 31,
   "metadata": {},
   "outputs": [
    {
     "name": "stdout",
     "output_type": "stream",
     "text": [
      "Training LIM with tau = 1\n"
     ]
    }
   ],
   "source": [
    "# train the LIM\n",
    "LIMd, G = lim.LIM_train(tau,x_train)\n",
    "print('Training LIM with tau = '+str(tau))"
   ]
  },
  {
   "cell_type": "code",
   "execution_count": 32,
   "metadata": {},
   "outputs": [
    {
     "name": "stdout",
     "output_type": "stream",
     "text": [
      "t= 0\n",
      "t= 1\n",
      "t= 2\n",
      "t= 3\n",
      "t= 4\n",
      "t= 5\n",
      "t= 6\n"
     ]
    }
   ],
   "source": [
    "# LIM forecasts for a range of monthly values (can specify a list of arbitrary values too)\n",
    "lags = np.arange(7)\n",
    "#lags = [0,3,6,12]\n",
    "ntims = len(lags)\n",
    "\n",
    "# training data\n",
    "#truth = np.real(np.matmul(E,x_train))\n",
    "#truth = X[:,train_inds]\n",
    "#LIMfd_train = LIM_utils.LIM_forecast(LIMd,x_train,lags,E,truth)\n",
    "\n",
    "# validation data\n",
    "#truth = np.real(np.matmul(E,x_valid))\n",
    "LIMfd_valid = lim.LIM_forecast_test(G,x_valid,lags,E_valid,truth,yrs_valid,len(limvars),ndof,\n",
    "                                    nmodes=nmodes,nmodes_sic=nmodes_sic,E_sic=E_sic_valid,\n",
    "                                    sic_separate=sic_separate)"
   ]
  },
  {
   "cell_type": "code",
   "execution_count": 33,
   "metadata": {},
   "outputs": [
    {
     "name": "stdout",
     "output_type": "stream",
     "text": [
      "working on tas\n",
      "working on psl\n",
      "working on tos\n",
      "working on sic\n"
     ]
    }
   ],
   "source": [
    "truth_state = lim.calc_lags_gm_pm(truth, lat_2d[:,0], lon_2d[0,:], fields, \n",
    "                                  truth.shape[1],lags, limvars)"
   ]
  },
  {
   "cell_type": "code",
   "execution_count": 34,
   "metadata": {},
   "outputs": [
    {
     "name": "stdout",
     "output_type": "stream",
     "text": [
      "working on tas\n",
      "working on psl\n",
      "working on tos\n",
      "working on sic\n"
     ]
    }
   ],
   "source": [
    "forecast= lim.calc_lags_gm_pm(LIMfd_valid['x_forecast'], lat_2d[:,0], lon_2d[0,:], \n",
    "                              fields, truth.shape[1], lags, limvars, \n",
    "                              decompress=True, E=E_valid, E_sic=E_sic_valid,\n",
    "                              Nmodes=nmodes,Nmodes_sic=nmodes_sic,sic_separate=sic_separate)"
   ]
  },
  {
   "cell_type": "code",
   "execution_count": 35,
   "metadata": {},
   "outputs": [
    {
     "data": {
      "text/plain": [
       "(7, 160, 12000)"
      ]
     },
     "execution_count": 35,
     "metadata": {},
     "output_type": "execute_result"
    }
   ],
   "source": [
    "LIMfd_valid['x_forecast'].shape"
   ]
  },
  {
   "cell_type": "code",
   "execution_count": 36,
   "metadata": {},
   "outputs": [
    {
     "name": "stdout",
     "output_type": "stream",
     "text": [
      "working on tas\n",
      "working on psl\n",
      "working on tos\n",
      "working on sic\n"
     ]
    }
   ],
   "source": [
    "ce, corr = lim.calc_ce_corr_lags_gm_pm(truth_state[0],forecast[0],limvars,lags)"
   ]
  },
  {
   "cell_type": "code",
   "execution_count": 38,
   "metadata": {},
   "outputs": [
    {
     "name": "stdout",
     "output_type": "stream",
     "text": [
      "working on tas\n",
      "working on psl\n",
      "working on tos\n",
      "working on sic\n"
     ]
    }
   ],
   "source": [
    "ce_ar1, corr_ar1= lim.calc_ce_corr_ar_lags(X_valid,X_train,lags,limvars,\n",
    "                                           lat_2d[:,0],lon_2d[0,:])"
   ]
  },
  {
   "cell_type": "code",
   "execution_count": 39,
   "metadata": {},
   "outputs": [
    {
     "name": "stdout",
     "output_type": "stream",
     "text": [
      "working on tas\n",
      "working on psl\n",
      "working on tos\n"
     ]
    },
    {
     "name": "stderr",
     "output_type": "stream",
     "text": [
      "/home/disk/p/mkb22/Documents/si_analysis_kb/LIMs/SI_LIMs/LIM_utils.py:797: RuntimeWarning: invalid value encountered in true_divide\n",
      "  lac = cov / std\n"
     ]
    },
    {
     "name": "stdout",
     "output_type": "stream",
     "text": [
      "working on sic\n"
     ]
    }
   ],
   "source": [
    "ce_ar1_valid, corr_ar1_valid = lim.calc_ce_corr_ar_lags(X_valid,X_valid,lags,\n",
    "                                                        limvars,lat_2d[:,0], lon_2d[0,:])"
   ]
  },
  {
   "cell_type": "code",
   "execution_count": null,
   "metadata": {},
   "outputs": [],
   "source": [
    "X_valid.shape"
   ]
  },
  {
   "cell_type": "code",
   "execution_count": null,
   "metadata": {},
   "outputs": [],
   "source": [
    "Xv.shape"
   ]
  },
  {
   "cell_type": "code",
   "execution_count": 112,
   "metadata": {},
   "outputs": [
    {
     "name": "stderr",
     "output_type": "stream",
     "text": [
      "/home/disk/p/mkb22/Documents/si_analysis_kb/LIMs/SI_LIMs/LIM_utils.py:793: RuntimeWarning: invalid value encountered in true_divide\n",
      "  lac = cov / std\n"
     ]
    }
   ],
   "source": [
    "v = 3\n",
    "var = 'tos'\n",
    "Xt = X_valid\n",
    "Xv = X_valid\n",
    "lat = lat_2d[:,0]\n",
    "lon = lon_2d[0,:]\n",
    "l = np.arange(1,2,1)\n",
    "\n",
    "ar1_gm = np.zeros((len(l),Xv.shape[2]))\n",
    "ar1_pm = np.zeros((len(l),2,Xv.shape[2]))\n",
    "ce_pm = np.zeros((len(l),2))\n",
    "corr_pm = np.zeros((len(l),2))\n",
    "\n",
    "for i,lag in enumerate(l):\n",
    "    ar1_forecast, ar1_factor = lim.red_noise_forecast_ar1(Xt[v,:].T,Xv[v,:].T,lead=lag)\n",
    "    ar1_forecast_3d = np.reshape(ar1_forecast,(ar1_forecast.shape[0],nlat,nlon))\n",
    "    X_valid_3d = np.reshape(Xv[v,:].T,(Xv.shape[2],nlat,nlon))\n",
    "    ar1_gm[i,lag:],_,_ = LMR_utils.global_hemispheric_means(ar1_forecast_3d,lat)\n",
    "    ar1_pm[i,:,lag:] = lim.polar_regional_means(ar1_forecast_3d,lat,lon)\n",
    "\n",
    "    true_gm,_,_ = LMR_utils.global_hemispheric_means(X_valid_3d,lat)\n",
    "    true_pm = lim.polar_regional_means(X_valid_3d,lat,lon)\n",
    "\n",
    "    ce_gm = LMR_utils.coefficient_efficiency(true_gm[lag:],ar1_gm[i,lag:])\n",
    "    corr_gm = np.corrcoef(true_gm[lag:],ar1_gm[i,lag:])[0,1]\n",
    "    for n in range(2):\n",
    "        ce_pm[i,n] = LMR_utils.coefficient_efficiency(true_pm[n,lag:],ar1_pm[i,n,lag:])\n",
    "        corr_pm[i,n] = np.corrcoef(true_pm[n,lag:],ar1_pm[i,n,lag:])[0,1]"
   ]
  },
  {
   "cell_type": "code",
   "execution_count": 122,
   "metadata": {},
   "outputs": [
    {
     "data": {
      "text/plain": [
       "(-0.00033366700033366306, (12000, 3240))"
      ]
     },
     "execution_count": 122,
     "metadata": {},
     "output_type": "execute_result"
    }
   ],
   "source": [
    "np.nanmin(ar1_factor), Xv[v,:].T.shape"
   ]
  },
  {
   "cell_type": "code",
   "execution_count": 125,
   "metadata": {},
   "outputs": [
    {
     "data": {
      "text/plain": [
       "(11999, 3240)"
      ]
     },
     "execution_count": 125,
     "metadata": {},
     "output_type": "execute_result"
    }
   ],
   "source": [
    "ar1_forecast.shape"
   ]
  },
  {
   "cell_type": "code",
   "execution_count": 106,
   "metadata": {},
   "outputs": [
    {
     "data": {
      "text/plain": [
       "0.9848644683160668"
      ]
     },
     "execution_count": 106,
     "metadata": {},
     "output_type": "execute_result"
    }
   ],
   "source": [
    "corr_gm"
   ]
  },
  {
   "cell_type": "code",
   "execution_count": 110,
   "metadata": {},
   "outputs": [
    {
     "data": {
      "text/plain": [
       "0.9848644683160668"
      ]
     },
     "execution_count": 110,
     "metadata": {},
     "output_type": "execute_result"
    }
   ],
   "source": [
    "np.corrcoef(true_gm[1:],ar1_gm[0,1:])[0,1]"
   ]
  },
  {
   "cell_type": "code",
   "execution_count": 108,
   "metadata": {},
   "outputs": [
    {
     "data": {
      "text/plain": [
       "<matplotlib.legend.Legend at 0x7efd8cbcab38>"
      ]
     },
     "execution_count": 108,
     "metadata": {},
     "output_type": "execute_result"
    },
    {
     "data": {
      "image/png": "[encoded data removed]",
      "text/plain": [
       "<Figure size 432x288 with 1 Axes>"
      ]
     },
     "metadata": {
      "needs_background": "light"
     },
     "output_type": "display_data"
    }
   ],
   "source": [
    "plt.plot(true_gm[1:], label='True')\n",
    "plt.plot(ar1_gm[0,2:], label='AR1')\n",
    "plt.xlim(0,100)\n",
    "plt.legend()"
   ]
  },
  {
   "cell_type": "code",
   "execution_count": null,
   "metadata": {},
   "outputs": [],
   "source": []
  },
  {
   "cell_type": "markdown",
   "metadata": {},
   "source": [
    "#### check in eof space: "
   ]
  },
  {
   "cell_type": "code",
   "execution_count": null,
   "metadata": {},
   "outputs": [],
   "source": [
    "truth_eof = np.matmul(E_sic,x_valid_sic)\n",
    "truth_eof_gm,_,_ = LMR_utils.global_hemispheric_means(np.reshape(truth_eof.T,(7212,45,72)), lat_2d[:,0])"
   ]
  },
  {
   "cell_type": "code",
   "execution_count": null,
   "metadata": {},
   "outputs": [],
   "source": [
    "truth_state['sic_gm'].shape"
   ]
  },
  {
   "cell_type": "code",
   "execution_count": null,
   "metadata": {},
   "outputs": [],
   "source": [
    "plt.plot(truth_state['sic_gm'][0,:],label='truth')\n",
    "plt.plot(forecast['sic_gm'][0,:],label='forecast')\n",
    "plt.plot(truth_eof_gm,label='truth eof')\n",
    "plt.legend()\n",
    "plt.title('GM SIC')"
   ]
  },
  {
   "cell_type": "code",
   "execution_count": null,
   "metadata": {},
   "outputs": [],
   "source": [
    "k=0\n",
    "ce_test = LMR_utils.coefficient_efficiency(truth_eof_gm,forecast[var+'_gm'][k,k:])\n",
    "corr_test = np.corrcoef(truth_eof_gm,forecast[var+'_gm'][k,k:])[0,1]\n",
    "corr_test, ce_test"
   ]
  },
  {
   "cell_type": "code",
   "execution_count": 148,
   "metadata": {},
   "outputs": [
    {
     "data": {
      "text/plain": [
       "array([0.        , 0.98486447, 0.96391541, 0.93804171, 0.90800665,\n",
       "       0.87682375, 0.84661718, 0.81847671, 0.79224612, 0.76764925,\n",
       "       0.74339473, 0.71778917, 0.69008076])"
      ]
     },
     "execution_count": 148,
     "metadata": {},
     "output_type": "execute_result"
    }
   ],
   "source": [
    "corr_ar1_valid['tos_gm']"
   ]
  },
  {
   "cell_type": "markdown",
   "metadata": {},
   "source": [
    "### Plotting: "
   ]
  },
  {
   "cell_type": "code",
   "execution_count": 48,
   "metadata": {},
   "outputs": [
    {
     "data": {
      "image/png": "[encoded data removed]",
      "text/plain": [
       "<Figure size 1440x360 with 8 Axes>"
      ]
     },
     "metadata": {
      "needs_background": "light"
     },
     "output_type": "display_data"
    }
   ],
   "source": [
    "color_list = ['tomato','dodgerblue','m','c','orange','k']\n",
    "\n",
    "fig,ax = plt.subplots(2,len(limvars), figsize=(20,5),sharex=True, sharey=True)\n",
    "ax = ax.flatten()\n",
    "\n",
    "for n,var in enumerate(limvars): \n",
    "    ax[n].plot(lags,ce[var+'_gm'],color=color_list[1],\n",
    "             linestyle='-',linewidth=2.5)\n",
    "    ax[n].plot(lags,corr[var+'_gm'],color=color_list[0],\n",
    "             linestyle='-',linewidth=2.5)\n",
    "    ax[n+len(limvars)].plot(lags,ce[var+'_pm'][:,0],color=color_list[1],\n",
    "             linestyle='-', label='CE',linewidth=2.5)\n",
    "    ax[n+len(limvars)].plot(lags,corr[var+'_pm'][:,0],color=color_list[0],\n",
    "             linestyle='-', label='Corr',linewidth=2.5)\n",
    "    \n",
    "for n,var in enumerate(limvars): \n",
    "    ax[n].plot(lags[1:],ce_ar1[var+'_gm'][1:],color=color_list[1],\n",
    "             linestyle='--',alpha=0.6, linewidth=2.5)\n",
    "    ax[n].plot(lags[1:],corr_ar1[var+'_gm'][1:],color=color_list[0],\n",
    "             linestyle='--',alpha=0.6, linewidth=2.5)\n",
    "    ax[n+len(limvars)].plot(lags[1:],ce_ar1[var+'_pm'][1:,0],color=color_list[1],\n",
    "             linestyle='--',alpha=0.6, linewidth=2.5, label='AR(1) CE')\n",
    "    ax[n+len(limvars)].plot(lags[1:],corr_ar1[var+'_pm'][1:,0],color=color_list[0],\n",
    "             linestyle='--',alpha=0.6, linewidth=2.5, label='AR(1) Corr')\n",
    "\n",
    "ax[0].set_ylabel('Global mean', fontsize=14)\n",
    "ax[len(limvars)].set_ylabel('Arctic mean', fontsize=14)\n",
    "\n",
    "for n in np.arange(len(limvars),len(limvars)*2,1):\n",
    "    ax[n].set_xlabel('Forecast lead time (months)', fontsize=14)\n",
    "    ax[n].set_xticks(np.arange(0,13,1))\n",
    "\n",
    "for n,var in enumerate(limvars):\n",
    "    ax[n].set_title(full_names[var], fontsize=14)\n",
    "\n",
    "for n in range(2*len(limvars)):\n",
    "    ax[n].grid(which='both')\n",
    "    ax[n].set_xlim(0,12)\n",
    "    ax[n].set_ylim(-0.10,1.1)\n",
    "plt.xlabel('Forecast lead time (months)', fontsize=14)\n",
    "\n",
    "ax[7].legend(loc='upper right', fontsize=14)\n",
    "#ax[-1].legend(bbox_to_anchor=([1,1,0,0]), fontsize=14)\n",
    "plt.tight_layout()\n",
    "\n",
    "#fig.set_title('LIM performance')\n",
    "\n",
    "save_dir = '/home/disk/p/mkb22/Documents/si_analysis_kb/LIMs/SI_LIMs/results/CCSM4_training_MPI_valid/'\n",
    "save_name = ('ce_corr_lags_lim_'+str(train_dsource)+'_'+'_'.join(limvars)+'_valid_'+\n",
    "             str(valid_dsource)+'_tau_'+str(tau)+'_'+today_date+'.png')\n",
    "plt.savefig((save_dir+save_name),dpi=300)"
   ]
  },
  {
   "cell_type": "code",
   "execution_count": 49,
   "metadata": {},
   "outputs": [
    {
     "data": {
      "image/png": "[encoded data removed]",
      "text/plain": [
       "<Figure size 648x360 with 4 Axes>"
      ]
     },
     "metadata": {
      "needs_background": "light"
     },
     "output_type": "display_data"
    }
   ],
   "source": [
    "color_list = ['tomato','dodgerblue','m','c','orange','k']\n",
    "varplot = ['tas','sic']\n",
    "\n",
    "fig,ax = plt.subplots(2,len(varplot), figsize=(9,5),sharex=True, sharey=True)\n",
    "ax = ax.flatten()\n",
    "\n",
    "for n,var in enumerate(varplot): \n",
    "    ax[n].plot(lags,ce[var+'_gm'],color=color_list[1],\n",
    "             linestyle='-',linewidth=2.5)\n",
    "    ax[n].plot(lags,corr[var+'_gm'],color=color_list[0],\n",
    "             linestyle='-',linewidth=2.5)\n",
    "    ax[n+len(varplot)].plot(lags,ce[var+'_pm'][:,0],color=color_list[1],\n",
    "             linestyle='-', label='CE',linewidth=2.5)\n",
    "    ax[n+len(varplot)].plot(lags,corr[var+'_pm'][:,0],color=color_list[0],\n",
    "             linestyle='-', label='Corr',linewidth=2.5)\n",
    "    \n",
    "for n,var in enumerate(varplot): \n",
    "    ax[n].plot(lags[1:],ce_ar1[var+'_gm'][1:],color=color_list[1],\n",
    "             linestyle='--',alpha=0.6, linewidth=2.5)\n",
    "    ax[n].plot(lags[1:],corr_ar1[var+'_gm'][1:],color=color_list[0],\n",
    "             linestyle='--',alpha=0.6, linewidth=2.5)\n",
    "    ax[n+len(varplot)].plot(lags[1:],ce_ar1[var+'_pm'][1:,0],color=color_list[1],\n",
    "             linestyle='--',alpha=0.6, linewidth=2.5, label='AR(1) CE')\n",
    "    ax[n+len(varplot)].plot(lags[1:],corr_ar1[var+'_pm'][1:,0],color=color_list[0],\n",
    "             linestyle='--',alpha=0.6, linewidth=2.5, label='AR(1) Corr')\n",
    "\n",
    "ax[0].set_ylabel('Global mean', fontsize=14)\n",
    "ax[len(varplot)].set_ylabel('Arctic mean', fontsize=14)\n",
    "\n",
    "for n in np.arange(len(varplot),len(varplot)*2,1):\n",
    "    ax[n].set_xlabel('Forecast lead time (months)', fontsize=14)\n",
    "    ax[n].set_xticks(np.arange(0,13,1))\n",
    "\n",
    "for n,var in enumerate(varplot):\n",
    "    ax[n].set_title(full_names[var], fontsize=14)\n",
    "\n",
    "for n in range(2*len(varplot)):\n",
    "    ax[n].grid(which='both')\n",
    "    ax[n].set_xlim(0,12)\n",
    "    ax[n].set_ylim(-0.10,1.1)\n",
    "plt.xlabel('Forecast lead time (months)', fontsize=14)\n",
    "\n",
    "ax[-1].legend(bbox_to_anchor=([1,1,0,0]), fontsize=14)\n",
    "plt.tight_layout()"
   ]
  },
  {
   "cell_type": "code",
   "execution_count": null,
   "metadata": {},
   "outputs": [],
   "source": [
    "len(limvars)"
   ]
  },
  {
   "cell_type": "markdown",
   "metadata": {},
   "source": [
    "## Monthly performance: "
   ]
  },
  {
   "cell_type": "code",
   "execution_count": 50,
   "metadata": {},
   "outputs": [],
   "source": [
    "ce_monthly = {}\n",
    "corr_monthly = {}\n",
    "l = 1\n",
    "\n",
    "for n,var in enumerate(limvars): \n",
    "    ce_pm_mon = np.zeros((12,2))\n",
    "    corr_pm_mon = np.zeros((12,2))\n",
    "    ce_gm_mon = np.zeros((12))\n",
    "    corr_gm_mon = np.zeros((12))\n",
    "    \n",
    "    truth_state_mon_gm = np.reshape(truth_state[0][var+'_gm'][1,12:],(nyrs_valid-1,12))\n",
    "    forecast_mon_gm = np.reshape(forecast[0][var+'_gm'][1,12:],(nyrs_valid-1,12))\n",
    "    truth_state_mon_pm = np.reshape(truth_state[0][var+'_pm'][1,:,12:],(2,nyrs_valid-1,12))\n",
    "    forecast_mon_pm = np.reshape(forecast[0][var+'_pm'][1,:,12:],(2,nyrs_valid-1,12))\n",
    "\n",
    "    for mon in range(12):\n",
    "        ce_gm_mon[mon] = LMR_utils.coefficient_efficiency(truth_state_mon_gm[:,mon],\n",
    "                                                          forecast_mon_gm[:,mon])\n",
    "        corr_gm_mon[mon] = np.corrcoef(truth_state_mon_gm[:,mon],\n",
    "                                     forecast_mon_gm[:,mon])[0,1]\n",
    "\n",
    "        for m in range(2):\n",
    "            ce_pm_mon[mon,m] = LMR_utils.coefficient_efficiency(truth_state_mon_pm[m,:,mon],\n",
    "                                                              forecast_mon_pm[m,:,mon])\n",
    "            corr_pm_mon[mon,m] = np.corrcoef(truth_state_mon_pm[m,:,mon],\n",
    "                                           forecast_mon_pm[m,:,mon])[0,1]\n",
    "\n",
    "    ce_monthly[var+'_pm'] = ce_pm_mon\n",
    "    corr_monthly[var+'_pm'] = corr_pm_mon\n",
    "    ce_monthly[var+'_gm'] = ce_gm_mon\n",
    "    corr_monthly[var+'_gm'] = corr_gm_mon"
   ]
  },
  {
   "cell_type": "code",
   "execution_count": 55,
   "metadata": {},
   "outputs": [],
   "source": [
    "ce_mon_ar1, corr_mon_ar1 = lim.calc_ce_corr_ar_mon(X_valid,X_train,1,\n",
    "                                                   limvars,lat_2d[:,0],lon_2d[0,:])"
   ]
  },
  {
   "cell_type": "code",
   "execution_count": 58,
   "metadata": {},
   "outputs": [
    {
     "name": "stdout",
     "output_type": "stream",
     "text": [
      "tas\n",
      "psl\n",
      "tos\n",
      "sic\n"
     ]
    },
    {
     "data": {
      "image/png": "[encoded data removed]",
      "text/plain": [
       "<Figure size 1440x360 with 8 Axes>"
      ]
     },
     "metadata": {
      "needs_background": "light"
     },
     "output_type": "display_data"
    }
   ],
   "source": [
    "mlabels = ['Jan','Feb','Mar','Apr','May','June','July','Aug','Sept','Oct','Nov','Dec']\n",
    "\n",
    "fig,ax = plt.subplots(2,len(limvars), figsize=(20,5),sharex=True, sharey=True)\n",
    "ax = ax.flatten()\n",
    "\n",
    "for n,var in enumerate(limvars): \n",
    "    print(var)\n",
    "    ax[n].plot(np.arange(1,13,1),ce_monthly[var+'_gm'],color=color_list[1],\n",
    "             linestyle='-', label='CE', linewidth=2.5)\n",
    "    ax[n].plot(np.arange(1,13,1),corr_monthly[var+'_gm'],color=color_list[0],\n",
    "             linestyle='-', label='Correlation', linewidth=2.5)\n",
    "    ax[n+len(limvars)].plot(np.arange(1,13,1),ce_monthly[var+'_pm'][:,0],color=color_list[1],\n",
    "             linestyle='-', linewidth=2.5)\n",
    "    ax[n+len(limvars)].plot(np.arange(1,13,1),corr_monthly[var+'_pm'][:,0],color=color_list[0],\n",
    "             linestyle='-', linewidth=2.5)\n",
    "    \n",
    "for n,var in enumerate(limvars): \n",
    "    ax[n].plot(np.arange(1,13,1),ce_mon_ar1[var+'_gm'],color=color_list[1],\n",
    "             linestyle='--',alpha=0.6, linewidth=2.5)\n",
    "    ax[n].plot(np.arange(1,13,1),corr_mon_ar1[var+'_gm'],color=color_list[0],\n",
    "             linestyle='--',alpha=0.6, linewidth=2.5)\n",
    "    ax[n+len(limvars)].plot(np.arange(1,13,1),ce_mon_ar1[var+'_pm'][:,0],color=color_list[1],\n",
    "             linestyle='--',alpha=0.6, linewidth=2.5, label='AR(1) CE')\n",
    "    ax[n+len(limvars)].plot(np.arange(1,13,1),corr_mon_ar1[var+'_pm'][:,0],color=color_list[0],\n",
    "             linestyle='--',alpha=0.6, linewidth=2.5, label='AR(1) Corr')\n",
    "\n",
    "ax[0].set_ylabel('Global mean', fontsize=14)\n",
    "ax[len(limvars)].set_ylabel('Arctic mean', fontsize=14)\n",
    "\n",
    "for n in np.arange(len(limvars),len(limvars)*2,1):\n",
    "    ax[n].set_xlabel('Predicted month', fontsize=14)\n",
    "    ax[n].set_xticks(np.arange(1,13,1))\n",
    "    ax[n].set_xticklabels(mlabels, rotation=90)\n",
    "\n",
    "for n,var in enumerate(limvars):\n",
    "    ax[n].set_title(full_names[var], fontsize=14)\n",
    "\n",
    "for n in range(2*len(limvars)):\n",
    "    ax[n].grid(which='both')\n",
    "    ax[n].set_xlim(1,12)\n",
    "    ax[n].set_ylim(-0.10,1.1)\n",
    "\n",
    "ax[0].legend(loc='lower left')\n",
    "plt.tight_layout()\n",
    "\n",
    "save_name = ('ce_corr_mon_lim_'+str(train_dsource)+'_'+'_'.join(limvars)+'_valid_'+\n",
    "             str(valid_dsource)+'_tau_'+str(tau)+'_'+today_date+'.png')\n",
    "plt.savefig((save_dir+save_name),dpi=300)"
   ]
  },
  {
   "cell_type": "code",
   "execution_count": 59,
   "metadata": {},
   "outputs": [
    {
     "name": "stdout",
     "output_type": "stream",
     "text": [
      "tas\n",
      "sic\n"
     ]
    },
    {
     "data": {
      "image/png": "[encoded data removed]",
      "text/plain": [
       "<Figure size 648x360 with 4 Axes>"
      ]
     },
     "metadata": {
      "needs_background": "light"
     },
     "output_type": "display_data"
    }
   ],
   "source": [
    "mlabels = ['Jan','Feb','Mar','Apr','May','June','July','Aug','Sept','Oct','Nov','Dec']\n",
    "\n",
    "fig,ax = plt.subplots(2,len(varplot), figsize=(9,5),sharex=True, sharey=True)\n",
    "ax = ax.flatten()\n",
    "\n",
    "for n,var in enumerate(varplot): \n",
    "    print(var)\n",
    "    ax[n].plot(np.arange(1,13,1),ce_monthly[var+'_gm'],color=color_list[1],\n",
    "             linestyle='-', label='CE', linewidth=2.5)\n",
    "    ax[n].plot(np.arange(1,13,1),corr_monthly[var+'_gm'],color=color_list[0],\n",
    "             linestyle='-', label='Correlation', linewidth=2.5)\n",
    "    ax[n+len(varplot)].plot(np.arange(1,13,1),ce_monthly[var+'_pm'][:,0],color=color_list[1],\n",
    "             linestyle='-', linewidth=2.5)\n",
    "    ax[n+len(varplot)].plot(np.arange(1,13,1),corr_monthly[var+'_pm'][:,0],color=color_list[0],\n",
    "             linestyle='-', linewidth=2.5)\n",
    "    \n",
    "for n,var in enumerate(varplot): \n",
    "    ax[n].plot(np.arange(1,13,1),ce_mon_ar1[var+'_gm'],color=color_list[1],\n",
    "             linestyle='--',alpha=0.6, linewidth=2.5)\n",
    "    ax[n].plot(np.arange(1,13,1),corr_mon_ar1[var+'_gm'],color=color_list[0],\n",
    "             linestyle='--',alpha=0.6, linewidth=2.5)\n",
    "    ax[n+len(varplot)].plot(np.arange(1,13,1),ce_mon_ar1[var+'_pm'][:,0],color=color_list[1],\n",
    "             linestyle='--',alpha=0.6, linewidth=2.5, label='AR(1) CE')\n",
    "    ax[n+len(varplot)].plot(np.arange(1,13,1),corr_mon_ar1[var+'_pm'][:,0],color=color_list[0],\n",
    "             linestyle='--',alpha=0.6, linewidth=2.5, label='AR(1) Corr')\n",
    "\n",
    "ax[0].set_ylabel('Global mean', fontsize=14)\n",
    "ax[len(varplot)].set_ylabel('Arctic mean', fontsize=14)\n",
    "\n",
    "for n in np.arange(len(varplot),len(varplot)*2,1):\n",
    "    ax[n].set_xlabel('Predicted month', fontsize=14)\n",
    "    ax[n].set_xticks(np.arange(1,13,1))\n",
    "    ax[n].set_xticklabels(mlabels, rotation=90)\n",
    "\n",
    "for n,var in enumerate(varplot):\n",
    "    ax[n].set_title(full_names[var], fontsize=14)\n",
    "\n",
    "for n in range(2*len(varplot)):\n",
    "    ax[n].grid(which='both')\n",
    "    ax[n].set_xlim(1,12)\n",
    "    ax[n].set_ylim(-0.10,1.1)\n",
    "\n",
    "ax[0].legend(loc='lower left')\n",
    "plt.tight_layout()"
   ]
  },
  {
   "cell_type": "code",
   "execution_count": null,
   "metadata": {},
   "outputs": [],
   "source": [
    "truth.shape"
   ]
  },
  {
   "cell_type": "markdown",
   "metadata": {},
   "source": [
    "#### Spatial Plots: "
   ]
  },
  {
   "cell_type": "code",
   "execution_count": null,
   "metadata": {},
   "outputs": [],
   "source": [
    "var = 'sic'\n",
    "lag = 1\n",
    "\n",
    "ce_lalo = np.zeros((nlat*nlon))\n",
    "corr_lalo = np.zeros((nlat*nlon))\n",
    "\n",
    "truth_full = np.nan_to_num(np.reshape(truth_state[0][var+'_full'],\n",
    "                                      (truth_state[0][var+'_full'].shape[0],nlat*nlon)))\n",
    "forecast_full = np.nan_to_num(np.reshape(forecast[0][var+'_full'],\n",
    "                                         (forecast[0][var+'_full'].shape[0],nlat*nlon)))\n",
    "\n",
    "for s in range(nlat*nlon):\n",
    "    ce_lalo[s] = LMR_utils.coefficient_efficiency(truth_full[lag:,s],\n",
    "                                                  forecast_full[lag:,s])\n",
    "    corr_lalo[s] = np.corrcoef(truth_full[lag:,s],\n",
    "                               forecast_full[lag:,s])[0,1]\n",
    "\n",
    "ce_2d = np.reshape(ce_lalo,(nlat,nlon))                           \n",
    "corr_2d = np.reshape(corr_lalo,(nlat,nlon))  "
   ]
  },
  {
   "cell_type": "code",
   "execution_count": null,
   "metadata": {},
   "outputs": [],
   "source": [
    "fig,ax = plt.subplots(1,2, figsize=(10,4), subplot_kw = arc_proj)\n",
    "ax = ax.flatten()\n",
    "\n",
    "lim.sub_arctic_plot(ax[0],fig,corr_2d,lat_2d,lon_2d, minv=-0.2, \n",
    "                    maxv=0.2,cmap='bwr')\n",
    "lim.sub_arctic_plot(ax[1],fig,ce_2d,lat_2d,lon_2d, minv=-0.2, \n",
    "                    maxv=0.2,cmap='bwr')\n",
    "\n",
    "ax[0].set_title('Correlation')\n",
    "ax[1].set_title('CE')\n",
    "\n",
    "plt.tight_layout()"
   ]
  },
  {
   "cell_type": "code",
   "execution_count": null,
   "metadata": {},
   "outputs": [],
   "source": []
  },
  {
   "cell_type": "code",
   "execution_count": null,
   "metadata": {},
   "outputs": [],
   "source": [
    "np.nanmin(corr_2d)"
   ]
  },
  {
   "cell_type": "code",
   "execution_count": null,
   "metadata": {},
   "outputs": [],
   "source": []
  },
  {
   "cell_type": "code",
   "execution_count": null,
   "metadata": {},
   "outputs": [],
   "source": []
  },
  {
   "cell_type": "code",
   "execution_count": null,
   "metadata": {},
   "outputs": [],
   "source": [
    "for v,var in enumerate(limvars):\n",
    "    forecast_3d = np.moveaxis(np.reshape(LIMfd_valid['x_forecast'][0,fields[var],:],[nlat,nlon,12]),-1,0)\n",
    "    var_rmse_rs = np.moveaxis(np.reshape(rmse[fields[var],:],[nlat,nlon,12]),-1,0)\n",
    "    var_rmse_rs2 = np.reshape(rmse[fields[var],:].T, [12,nlat,nlon])\n",
    "    var_error_rs2 = np.reshape(error_mon[fields[var],:].T, [12,nlat,nlon])\n",
    "    rmse_lalo[var] = np.reshape(rmse[fields[var],:].T, [12,nlat,nlon])\n",
    "    \n",
    "    evar_mon_gm[var],_,_ = LMR_utils.global_hemispheric_means(var_error_rs,lat_2d[:,0])\n",
    "    rmse_mon_gm[var],_,_ = LMR_utils.global_hemispheric_means(var_rmse_rs,lat_2d[:,0])\n",
    "    rmse_mon_pm[var] = lim.polar_regional_means(var_rmse_rs2,lat_2d[:,0],lon_2d[0,:])\n",
    "    evar_mon_pm[var] = lim.polar_regional_means(var_error_rs2,lat_2d[:,0],lon_2d[0,:])"
   ]
  },
  {
   "cell_type": "code",
   "execution_count": null,
   "metadata": {},
   "outputs": [],
   "source": [
    "[error_all_mon, \n",
    " error_mon, rmse,\n",
    "time_ermon] = lim.calc_forecast_error_by_mon(LIMfd_valid['x_forecast'],1, \n",
    "                                             truth,E,LIMfd_valid['time_forecast'],\n",
    "                                             len(limvars),ndof,\n",
    "                                             E_sic,nmodes,sic_separate=sic_separate)\n",
    "[error_all_mon_eof, \n",
    " error_mon_eof, rmse_eof, \n",
    " time_ermon2] = lim.calc_forecast_error_by_mon(LIMfd_valid['x_forecast'],1, \n",
    "                                               truth, E,LIMfd_valid['time_forecast'],\n",
    "                                               len(limvars),ndof,\n",
    "                                               E_sic,nmodes,sic_separate=sic_separate)\n",
    "rmse2 = np.mean(error_all_mon**2,axis=2)\n",
    "\n",
    "evar_mon_gm = {}\n",
    "rmse_mon_gm = {}\n",
    "evar_mon_pm = {}\n",
    "rmse_mon_pm = {}\n",
    "rmse_lalo = {}\n",
    "\n",
    "for v,var in enumerate(limvars):\n",
    "    var_error_rs = np.moveaxis(np.reshape(error_mon[fields[var],:],[nlat,nlon,12]),-1,0)\n",
    "    var_rmse_rs = np.moveaxis(np.reshape(rmse[fields[var],:],[nlat,nlon,12]),-1,0)\n",
    "    var_rmse_rs2 = np.reshape(rmse[fields[var],:].T, [12,nlat,nlon])\n",
    "    var_error_rs2 = np.reshape(error_mon[fields[var],:].T, [12,nlat,nlon])\n",
    "    rmse_lalo[var] = np.reshape(rmse[fields[var],:].T, [12,nlat,nlon])\n",
    "    \n",
    "    evar_mon_gm[var],_,_ = LMR_utils.global_hemispheric_means(var_error_rs,lat_2d[:,0])\n",
    "    rmse_mon_gm[var],_,_ = LMR_utils.global_hemispheric_means(var_rmse_rs,lat_2d[:,0])\n",
    "    rmse_mon_pm[var] = lim.polar_regional_means(var_rmse_rs2,lat_2d[:,0],lon_2d[0,:])\n",
    "    evar_mon_pm[var] = lim.polar_regional_means(var_error_rs2,lat_2d[:,0],lon_2d[0,:])"
   ]
  },
  {
   "cell_type": "code",
   "execution_count": null,
   "metadata": {},
   "outputs": [],
   "source": [
    "# compute errors in both the EOF space and full grid point space\n",
    "err,err_gm = lim.LIM_forecast_error(LIMfd_valid,truth,E,lags,fields,lat_2d,\n",
    "                                    E_sic,nmodes,sic_separate=sic_separate)\n",
    "\n",
    "# err_eofs,err_gm_eofs = lim.LIM_forecast_error(LIMfd_valid,np.real(np.matmul(E,x_valid)),\n",
    "#                                               E,lags,fields,lat_2d,E_sic,nmodes,\n",
    "#                                               sic_separate=sic_separate)"
   ]
  },
  {
   "cell_type": "code",
   "execution_count": null,
   "metadata": {},
   "outputs": [],
   "source": [
    "LIMfd_valid['x_forecast'].shape, truth.shape"
   ]
  },
  {
   "cell_type": "code",
   "execution_count": null,
   "metadata": {},
   "outputs": [],
   "source": [
    "color_list = ['crimson','b','m','c','orange','k']\n",
    "\n",
    "for n,var in enumerate(limvars): \n",
    "    plt.plot(lags,err_gm[n,:]/valid_variance_full[var+'_gm'],\n",
    "             color=color_list[n],linestyle='-',label=var+' valid')\n",
    "#     plt.plot(lags,err_gm_eofs[n,:]/valid_variance_eof[var+'_gm'],\n",
    "#              color=color_list[n],linestyle='--',label=list(fields.keys())[n]+' valid eofs')\n",
    "\n",
    "plt.plot([lags[0],lags[-1]],[1,1],'k--')\n",
    "plt.xlabel('lead time (months)')\n",
    "plt.ylabel('total error variance')\n",
    "#plt.ylim(0,1)\n",
    "plt.legend()\n",
    "plt.title('LIM normalized global error variance')"
   ]
  },
  {
   "cell_type": "code",
   "execution_count": null,
   "metadata": {},
   "outputs": [],
   "source": [
    "valid_variance_full.keys()"
   ]
  },
  {
   "cell_type": "code",
   "execution_count": null,
   "metadata": {},
   "outputs": [],
   "source": [
    "evar_mon_pm['sic'].shape"
   ]
  },
  {
   "cell_type": "code",
   "execution_count": null,
   "metadata": {},
   "outputs": [],
   "source": [
    "mlabels = ['Jan','Feb','Mar','Apr','May','June','July','Aug','Sept','Oct','Nov','Dec']\n",
    "\n",
    "plt.plot(range(12),evar_mon_gm['tas']/valid_variance_full['tas_gm'],\n",
    "         color='crimson',linestyle='-',label='tas GM')\n",
    "plt.plot(range(12),evar_mon_pm['sic'][0,:]/valid_variance_full['sic_polarm_mon'][0,:],\n",
    "         color='b',label='sic Arctic (60N)')\n",
    "    \n",
    "plt.axhline(1,0,12,color='k',linestyle='--')    \n",
    "plt.xticks(range(12),mlabels)\n",
    "plt.xlabel('forecasted month')\n",
    "plt.ylabel('total error variance')\n",
    "#plt.ylim(0,1)\n",
    "plt.legend()\n",
    "plt.title('LIM normalized error variance')"
   ]
  },
  {
   "cell_type": "code",
   "execution_count": null,
   "metadata": {
    "scrolled": true
   },
   "outputs": [],
   "source": [
    "#color_list = ['crimson','b']\n",
    "mlabels = ['Jan','Feb','Mar','Apr','May','June','July','Aug','Sept','Oct','Nov','Dec']\n",
    "\n",
    "plt.plot(range(12),rmse_mon_gm['tas']/np.sqrt(valid_variance_full['tas_gm_mon']),\n",
    "         color='crimson',linestyle='-',label='tas GM')\n",
    "plt.plot(range(12),rmse_mon_pm['sic'][0,:]/np.sqrt(valid_variance_full['sic_polarm_mon'][0,:]),\n",
    "         color='b',label='sic Arctic (60N)')\n",
    "plt.plot(range(12),rmse_mon_pm['sic'][1,:]/np.sqrt(valid_variance_full['sic_polarm_mon'][1,:]),\n",
    "         color='b',linestyle='--',label='sic Antarctic (60N)')\n",
    "    \n",
    "plt.axhline(1,0,12,color='k',linestyle='--')    \n",
    "plt.xticks(range(12),mlabels)\n",
    "plt.xlabel('forecasted month')\n",
    "plt.ylabel('Normalized RMSE')\n",
    "#plt.ylim(0.7,1.01)\n",
    "plt.legend()\n",
    "plt.title('LIM performance by month')"
   ]
  },
  {
   "cell_type": "code",
   "execution_count": null,
   "metadata": {},
   "outputs": [],
   "source": [
    "fig,ax = plt.subplots(4,3, figsize=(8,9), subplot_kw = arc_proj)\n",
    "ax = ax.flatten()\n",
    "\n",
    "for m in range(12):\n",
    "    lim.sub_arctic_plot(ax[m],fig,rmse_lalo['sic'][m,:,:]/np.sqrt(valid_variance_full['sic_mon_lalo'][:,:,m]),\n",
    "                        lat_2d,lon_2d, minv=0.5, maxv=1,cmap='YlGnBu')\n",
    "    ax[m].set_title(mlabels[m])\n",
    "\n",
    "plt.tight_layout()\n",
    "\n",
    "# plt.savefig((save_dir+var_to_extract+'/'+var_to_extract+\n",
    "#              '_error_arctic_spatial_plots_randtime_eof'+str(nmodes)+'_tau'+\n",
    "#              str(tau)+'_'+today_date+'.png'),dpi=300)"
   ]
  },
  {
   "cell_type": "code",
   "execution_count": null,
   "metadata": {},
   "outputs": [],
   "source": [
    "sic_rmse.shape"
   ]
  },
  {
   "cell_type": "code",
   "execution_count": null,
   "metadata": {},
   "outputs": [],
   "source": [
    "# plot the coupled EOFs\n",
    "mode = 0\n",
    "lim.plot_map_vector(E[var_dict['var1']['var_inds'],mode],lat_2d,lon_2d)\n",
    "plt.title(list(fields.keys())[0]+' EOF '+str(mode+1))\n",
    "plt.show()\n",
    "lim.plot_map_vector(E[var_dict['var2']['var_inds'],mode],lat_2d,lon_2d)\n",
    "plt.title(list(fields.keys())[1]+' EOF '+str(mode+1))"
   ]
  },
  {
   "cell_type": "code",
   "execution_count": null,
   "metadata": {},
   "outputs": [],
   "source": [
    "LIMd['vec'].shape"
   ]
  },
  {
   "cell_type": "code",
   "execution_count": null,
   "metadata": {},
   "outputs": [],
   "source": []
  },
  {
   "cell_type": "code",
   "execution_count": null,
   "metadata": {},
   "outputs": [],
   "source": []
  },
  {
   "cell_type": "code",
   "execution_count": null,
   "metadata": {},
   "outputs": [],
   "source": []
  },
  {
   "cell_type": "code",
   "execution_count": null,
   "metadata": {},
   "outputs": [],
   "source": []
  },
  {
   "cell_type": "code",
   "execution_count": null,
   "metadata": {},
   "outputs": [],
   "source": []
  },
  {
   "cell_type": "code",
   "execution_count": null,
   "metadata": {},
   "outputs": [],
   "source": []
  },
  {
   "cell_type": "code",
   "execution_count": null,
   "metadata": {},
   "outputs": [],
   "source": []
  },
  {
   "cell_type": "code",
   "execution_count": null,
   "metadata": {},
   "outputs": [],
   "source": []
  },
  {
   "cell_type": "code",
   "execution_count": null,
   "metadata": {},
   "outputs": [],
   "source": []
  },
  {
   "cell_type": "code",
   "execution_count": null,
   "metadata": {},
   "outputs": [],
   "source": []
  },
  {
   "cell_type": "code",
   "execution_count": null,
   "metadata": {},
   "outputs": [],
   "source": [
    "fields"
   ]
  },
  {
   "cell_type": "code",
   "execution_count": null,
   "metadata": {},
   "outputs": [],
   "source": [
    "var1_inds"
   ]
  },
  {
   "cell_type": "code",
   "execution_count": null,
   "metadata": {},
   "outputs": [],
   "source": [
    "# reshape (nx,ntime)\n",
    "X = np.moveaxis(np.reshape(data_in_sic,[ntime,nlat*nlon]),0,-1) \n",
    "print('Original shape: '+str(data_in_sic.shape))\n",
    "print('Shape of X: '+str(X.shape))"
   ]
  },
  {
   "cell_type": "code",
   "execution_count": null,
   "metadata": {},
   "outputs": [],
   "source": [
    "X_nonan = np.where(np.isnan(X.data),0,X.data)\n",
    "X_nonan_arctic = X_nonan\n",
    "X_nonan_arctic[np.where(lat_2d.reshape(nlat*nlon)<0),:] = 0"
   ]
  },
  {
   "cell_type": "code",
   "execution_count": null,
   "metadata": {},
   "outputs": [],
   "source": [
    "plot_map_vector(X_nonan_arctic[:,800].data,lat_2d,lon_2d)"
   ]
  },
  {
   "cell_type": "code",
   "execution_count": null,
   "metadata": {},
   "outputs": [],
   "source": [
    "X_nonan_arctic_mon = np.reshape(X_nonan_arctic,(3240,1001,12))\n",
    "X_arctic_FMA = X_nonan_arctic_mon[:,:,1:4].reshape(3240,3003) \n",
    "X_arctic_ASO = X_nonan_arctic_mon[:,:,7:10].reshape(3240,3003) \n",
    "\n",
    "X_arctic_FMA_anom = X_arctic_FMA - np.nanmean(X_arctic_FMA,axis=1)[:,np.newaxis]\n",
    "X_arctic_ASO_anom = X_arctic_FMA - np.nanmean(X_arctic_ASO,axis=1)[:,np.newaxis]"
   ]
  },
  {
   "cell_type": "code",
   "execution_count": null,
   "metadata": {},
   "outputs": [],
   "source": [
    "var.shape, W.shape, X_check.shape"
   ]
  },
  {
   "cell_type": "code",
   "execution_count": null,
   "metadata": {},
   "outputs": [],
   "source": [
    "var = X_nonan_arctic_mon[:,:,2] - np.nanmean(X_nonan_arctic_mon[:,:,2],axis=1)[:,np.newaxis]\n",
    "u,s,v,W = calc_eof(var, lat_2d)\n",
    "\n",
    "# check SVD\n",
    "print('checking svd (success for True response)...')\n",
    "X_check = np.matmul(np.matmul(u,np.diag(s)),v)\n",
    "print(np.allclose(X_check,W*var))"
   ]
  },
  {
   "cell_type": "code",
   "execution_count": null,
   "metadata": {},
   "outputs": [],
   "source": [
    "plot_eigenvalues(s,var_to_extract)"
   ]
  },
  {
   "cell_type": "code",
   "execution_count": null,
   "metadata": {},
   "outputs": [],
   "source": [
    "plot_map_vector(-u[:,0],lat_2d,lon_2d)"
   ]
  },
  {
   "cell_type": "code",
   "execution_count": null,
   "metadata": {},
   "outputs": [],
   "source": [
    "# project data onto a subset of the EOF basis\n",
    "\n",
    "# EOF basis\n",
    "if var_to_extract == 'tos':\n",
    "    E = u[:,1:nmodes+1]\n",
    "else:\n",
    "    E = u[:,0:nmodes]\n",
    "\n",
    "# project---this doesn't work for tos? masked array/nan issue I don't understand\n",
    "#P = np.matmul(E.T,X)\n",
    "\n",
    "# alternative from SVD results. recall v is v.T in numpy. \n",
    "# NOTE: this is the projection with W weighting, which is not the same as projecting unweighted data\n",
    "\n",
    "# 7/13/2020: projection of unweighted data; tos doesn't work with this approach\n",
    "if var_to_extract == 'tos':\n",
    "    #P_w = np.matmul(np.diag(s[1:nmodes+1]),v[1:nmodes+1,:])\n",
    "    P = np.matmul(np.diag(s[1:nmodes+1]),v[1:nmodes+1,:])\n",
    "else:\n",
    "    #P_w = np.matmul(np.diag(s[0:nmodes]),v[0:nmodes,:])\n",
    "    P = np.matmul(E.T,var)"
   ]
  },
  {
   "cell_type": "code",
   "execution_count": null,
   "metadata": {},
   "outputs": [],
   "source": [
    "# reconstruct from the limited projection, and compare with the original (error)\n",
    "check = np.matmul(E,P)\n",
    "print(np.max(check))\n",
    "print(check.shape)\n",
    "\n",
    "# pick a random time to plot\n",
    "itim = 21\n",
    "\n",
    "plot_map_vector(var[:,itim],lat_2d,lon_2d,maxv=3)\n",
    "plt.title('Original')\n",
    "plt.show()\n",
    "plot_map_vector(check[:,itim],lat_2d,lon_2d,maxv=3)\n",
    "plt.title('Limited EOF projection')\n",
    "plt.show()"
   ]
  },
  {
   "cell_type": "code",
   "execution_count": null,
   "metadata": {},
   "outputs": [],
   "source": [
    "# make sure P has zero mean first !!!\n",
    "Pzero = np.max(np.abs(np.mean(P,axis=1)))\n",
    "if Pzero > 1e-6:\n",
    "    print('warning!!! the projected state does not have zero-mean in the time domain '\n",
    "         )"
   ]
  },
  {
   "cell_type": "code",
   "execution_count": null,
   "metadata": {},
   "outputs": [],
   "source": [
    "ntrain = 500"
   ]
  },
  {
   "cell_type": "code",
   "execution_count": null,
   "metadata": {},
   "outputs": [],
   "source": [
    "# prepare the data to train and test the LIM. separate data into training the validation sets \n",
    "tsamp = P.shape[1]\n",
    "\n",
    "train_inds = np.arange(0,ntrain)\n",
    "valid_inds = np.arange(ntrain,tsamp,1)\n",
    "x_train = P[:,train_inds]\n",
    "x_valid = P[:,valid_inds]\n",
    "print('training data shape: ',x_train.shape)\n",
    "print('validation data shape: ',x_valid.shape)"
   ]
  },
  {
   "cell_type": "code",
   "execution_count": null,
   "metadata": {},
   "outputs": [],
   "source": [
    "# climo standardized variance for error normalization in training and validation (1=no skill)\n",
    "train_var = np.var(np.matmul(E,x_train),axis=1,ddof=1)\n",
    "valid_var = np.var(np.matmul(E,x_valid),axis=1,ddof=1)"
   ]
  },
  {
   "cell_type": "code",
   "execution_count": null,
   "metadata": {},
   "outputs": [],
   "source": [
    "nt = x_train.shape[1]\n",
    "C_1 = np.matmul(x_train[:,tau:],x_train[:,:-tau].T)/(nt-1)\n",
    "tau"
   ]
  },
  {
   "cell_type": "code",
   "execution_count": null,
   "metadata": {},
   "outputs": [],
   "source": [
    "C1_phys_space = np.matmul(C_1,E.T)\n",
    "\n",
    "plot_map_vector(C1_phys_space[0,:],lat_2d,lon_2d,maxv=3)\n",
    "plt.title('lagged_covariance')\n",
    "plt.show()"
   ]
  },
  {
   "cell_type": "code",
   "execution_count": null,
   "metadata": {},
   "outputs": [],
   "source": [
    "tau = 1"
   ]
  },
  {
   "cell_type": "code",
   "execution_count": null,
   "metadata": {},
   "outputs": [],
   "source": [
    "# train the LIM\n",
    "LIMd = LIM_train(tau,x_train)"
   ]
  },
  {
   "cell_type": "code",
   "execution_count": null,
   "metadata": {},
   "outputs": [],
   "source": [
    "lags"
   ]
  },
  {
   "cell_type": "code",
   "execution_count": null,
   "metadata": {},
   "outputs": [],
   "source": [
    "# LIM forecasts for a range of monthly values (can specify a list of arbitrary values too)\n",
    "lags = np.arange(4)\n",
    "#lags = [0,3,6,12]\n",
    "ntims = len(lags)\n",
    "\n",
    "# training data\n",
    "LIMfd_train = LIM_forecast(LIMd,x_train,lags,E)\n",
    "\n",
    "# validation data\n",
    "LIMfd_valid = LIM_forecast(LIMd,x_valid,lags,E)"
   ]
  },
  {
   "cell_type": "code",
   "execution_count": null,
   "metadata": {},
   "outputs": [],
   "source": [
    "LIMfd_train.keys()"
   ]
  },
  {
   "cell_type": "code",
   "execution_count": null,
   "metadata": {},
   "outputs": [],
   "source": [
    "# proper area-weighted global-mean values, including climo variance\n",
    "LIMfd_train_error_3d = np.reshape(LIMfd_train['error'],[nlat,nlon,ntims])\n",
    "LIMfd_valid_error_3d = np.reshape(LIMfd_valid['error'],[nlat,nlon,ntims])\n",
    "\n",
    "[train_gm_err,\n",
    " train_nh_err,\n",
    " train_sh_err] = LMR_utils.global_hemispheric_means(np.moveaxis(LIMfd_train_error_3d,-1,0),lat_2d[:,0])\n",
    "[train_gm_var,\n",
    " train_nh_var,\n",
    " train_sh_var] = LMR_utils.global_hemispheric_means(np.reshape(train_var[:,None],[nlat,nlon]),lat_2d[:,0])\n",
    "[valid_gm_err,\n",
    " valid_nh_err,\n",
    " valid_sh_err] = LMR_utils.global_hemispheric_means(np.moveaxis(LIMfd_valid_error_3d,-1,0),lat_2d[:,0])\n",
    "[valid_gm_var,\n",
    " valid_nh_var,\n",
    " valid_sh_var] = LMR_utils.global_hemispheric_means(np.reshape(valid_var[:,None],[nlat,nlon]),lat_2d[:,0])\n"
   ]
  },
  {
   "cell_type": "code",
   "execution_count": null,
   "metadata": {},
   "outputs": [],
   "source": [
    "# plot global-mean normalized error variance\n",
    "plt.plot(lags,train_nh_err/train_nh_var,'b-',label='train')\n",
    "plt.plot(lags,valid_nh_err/valid_nh_var,'r-',label='valid')\n",
    "plt.plot([lags[0],lags[-1]],[1,1],'k--')\n",
    "plt.xlabel('lead time (months)')\n",
    "plt.ylabel('total error variance')\n",
    "plt.legend()\n",
    "plt.title('LIM normalized global error variance')\n",
    "#plt.savefig('LIM_error_growth_1_6_12months',dpi=300)"
   ]
  },
  {
   "cell_type": "code",
   "execution_count": null,
   "metadata": {},
   "outputs": [],
   "source": [
    "# plot maps of select forecasts and errors for a chosen lag in months (and time, itime)\n",
    "ilag = 1\n",
    "plot_map_vector(LIMfd_train['error'][:,ilag]/train_var,lat_2d,lon_2d,cmap='PuOr_r')\n",
    "plt.title('Error')\n",
    "plt.show()\n",
    "itime = 1\n",
    "plot_map_vector(np.matmul(E,LIMfd_train['x_forecast'][ilag,:,itime]),lat_2d,lon_2d,minv=-4,maxv=4 )\n",
    "plt.title('Forecast state')\n",
    "plt.show()\n",
    "plot_map_vector(X_nonan_arctic[:,itime],lat_2d,lon_2d,minv=-4,maxv=4)\n",
    "plt.title('True state')\n",
    "plt.show()\n",
    "plot_map_vector(X_nonan_arctic[:,itime] -np.matmul(E,LIMfd_train['x_forecast'][ilag,:,itime]),lat_2d,lon_2d)\n",
    "plt.title('True - Forecast state')\n",
    "plt.show()"
   ]
  },
  {
   "cell_type": "code",
   "execution_count": null,
   "metadata": {},
   "outputs": [],
   "source": [
    "forecast_state_train = np.matmul(E,LIMfd_train['x_forecast']) \n",
    "true_state_train = X_arctic_FMA[:,train_inds]\n",
    "true_state_train.shape, forecast_state_train.shape"
   ]
  },
  {
   "cell_type": "code",
   "execution_count": null,
   "metadata": {},
   "outputs": [],
   "source": [
    "initialt = 1\n",
    "plt.plot(np.arange(0,13,1),true_state_train[3200,initialt:initialt+13], label='truth')\n",
    "plt.plot(np.arange(0,13,1),forecast_state_train[:,3200,initialt], label='forecast')\n",
    "plt.legend()\n",
    "\n",
    "r = np.zeros(4000-12)\n",
    "\n",
    "for it in range(4000-12):\n",
    "    r[it] = np.corrcoef(true_state_train[3000,it:it+13],forecast_state_train[:,3000,it])[0,1]"
   ]
  },
  {
   "cell_type": "code",
   "execution_count": null,
   "metadata": {},
   "outputs": [],
   "source": [
    "plt.plot(r)\n",
    "#plt.xlim(3900,4000)\n",
    "r.mean()"
   ]
  },
  {
   "cell_type": "code",
   "execution_count": null,
   "metadata": {},
   "outputs": [],
   "source": []
  },
  {
   "cell_type": "code",
   "execution_count": null,
   "metadata": {},
   "outputs": [],
   "source": [
    "LIMfd_train.keys(), x_valid.shape, E.shape, lags"
   ]
  },
  {
   "cell_type": "code",
   "execution_count": null,
   "metadata": {},
   "outputs": [],
   "source": [
    "LIMfd_train['x_truth_phys_space'].shape,LIMfd_train['x_forecast_phys_space'].shape, LIMfd_train['error'].shape, LIMfd_train['x_forecast'].shape"
   ]
  },
  {
   "cell_type": "code",
   "execution_count": null,
   "metadata": {},
   "outputs": [],
   "source": [
    "# proper area-weighted global-mean values, including climo variance\n",
    "LIMfd_train_truth_3d = np.reshape(LIMfd_train['x_truth_phys_space'],[nlat,nlon,3988])\n",
    "LIMfd_train_forecast_3d = np.reshape(LIMfd_train['x_forecast_phys_space'],[nlat,nlon,3988])\n",
    "LIMfd_valid_truth_3d = np.reshape(LIMfd_valid['x_truth_phys_space'],[nlat,nlon,3988])\n",
    "LIMfd_valid_forecast_3d = np.reshape(LIMfd_valid['x_forecast_phys_space'],[nlat,nlon,3988])\n",
    "\n",
    "[train_truth_gm,\n",
    " train_truth_nh,_] = LMR_utils.global_hemispheric_means(LIMfd_train_truth_3d,lat_2d[:,0])\n",
    "[train_forecast_gm,\n",
    " train_forecast_nh,_] = LMR_utils.global_hemispheric_means(LIMfd_train_forecast_3d,lat_2d[:,0])\n",
    "[valid_truth_gm,\n",
    " valid_truth_nh,_] = LMR_utils.global_hemispheric_means(LIMfd_valid_truth_3d,lat_2d[:,0])\n",
    "[valid_forecast_gm,\n",
    " valid_forecast_nh,_] = LMR_utils.global_hemispheric_means(LIMfd_valid_forecast_3d,lat_2d[:,0])\n",
    "\n"
   ]
  },
  {
   "cell_type": "code",
   "execution_count": null,
   "metadata": {},
   "outputs": [],
   "source": []
  },
  {
   "cell_type": "code",
   "execution_count": null,
   "metadata": {},
   "outputs": [],
   "source": []
  },
  {
   "cell_type": "code",
   "execution_count": null,
   "metadata": {},
   "outputs": [],
   "source": []
  },
  {
   "cell_type": "code",
   "execution_count": null,
   "metadata": {},
   "outputs": [],
   "source": []
  },
  {
   "cell_type": "markdown",
   "metadata": {},
   "source": [
    "## Independent validation: "
   ]
  },
  {
   "cell_type": "code",
   "execution_count": null,
   "metadata": {},
   "outputs": [],
   "source": [
    "# load 20cr data for independent validation...\n",
    "data_20cr,_,_ = get_data(var_to_extract,infile_20cr_tas, 45, 72)\n",
    "ntime_20cr = data_20cr.shape[0]"
   ]
  },
  {
   "cell_type": "code",
   "execution_count": null,
   "metadata": {},
   "outputs": [],
   "source": [
    "# back to (nx,ntime)\n",
    "X_20cr = np.moveaxis(np.reshape(data_20cr,[ntime_20cr,nlat*nlon]),0,-1) \n",
    "\n",
    "# test the LIM on 20CR monthly data projected on the same basis\n",
    "P_20cr = np.matmul(E.T,X_20cr)\n",
    "\n",
    "# climo standardized variance\n",
    "valid_var_20cr = np.var(np.matmul(E,P_20cr),axis=1,ddof=1)"
   ]
  },
  {
   "cell_type": "code",
   "execution_count": null,
   "metadata": {},
   "outputs": [],
   "source": [
    "# CCSM LIM forecasts on 20cr states\n",
    "LIMfd_20cr = LIM_forecast(LIMd,P_20cr,lags,E)"
   ]
  },
  {
   "cell_type": "code",
   "execution_count": null,
   "metadata": {},
   "outputs": [],
   "source": [
    "# proper area-weighted global-mean values\n",
    "valid_gm_err_20cr,_,_ = LMR_utils.global_hemispheric_means(np.moveaxis(np.reshape(LIMfd_20cr['error'],[nlat,nlon,ntims]),-1,0),lat_2d[:,0])\n",
    "valid_gm_var_20cr,_,_ = LMR_utils.global_hemispheric_means(np.reshape(valid_var_20cr[:,None],[nlat,nlon]),lat_2d[:,0])\n"
   ]
  },
  {
   "cell_type": "code",
   "execution_count": null,
   "metadata": {},
   "outputs": [],
   "source": [
    "plt.plot(lags,valid_gm_err/valid_gm_var,'k-',label='ccsm')\n",
    "plt.plot(lags,valid_gm_err_20cr/valid_gm_var_20cr,'r-',label='20cr')\n",
    "plt.plot([lags[0],lags[-1]],[1,1],'k--')\n",
    "plt.xlabel('lead time (months)')\n",
    "plt.ylabel('total error variance')\n",
    "plt.legend()\n",
    "plt.title('LIM normalized global error variance')\n",
    "#plt.savefig('LIM_forecast_error_ccsm_20cr_6mo',dpi=300)"
   ]
  },
  {
   "cell_type": "code",
   "execution_count": null,
   "metadata": {},
   "outputs": [],
   "source": []
  },
  {
   "cell_type": "code",
   "execution_count": null,
   "metadata": {},
   "outputs": [],
   "source": []
  },
  {
   "cell_type": "code",
   "execution_count": null,
   "metadata": {},
   "outputs": [],
   "source": []
  },
  {
   "cell_type": "code",
   "execution_count": null,
   "metadata": {},
   "outputs": [],
   "source": []
  },
  {
   "cell_type": "code",
   "execution_count": null,
   "metadata": {},
   "outputs": [],
   "source": []
  }
 ],
 "metadata": {
  "kernelspec": {
   "display_name": "Python 3",
   "language": "python",
   "name": "python3"
  },
  "language_info": {
   "codemirror_mode": {
    "name": "ipython",
    "version": 3
   },
   "file_extension": ".py",
   "mimetype": "text/x-python",
   "name": "python",
   "nbconvert_exporter": "python",
   "pygments_lexer": "ipython3",
   "version": "3.6.6"
  }
 },
 "nbformat": 4,
 "nbformat_minor": 2
}
