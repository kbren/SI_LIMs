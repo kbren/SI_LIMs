{
 "cells": [
  {
   "cell_type": "code",
   "execution_count": 1,
   "metadata": {},
   "outputs": [],
   "source": [
    "import sys,os\n",
    "import xarray as xr\n",
    "import numpy as np\n",
    "import scipy as spy\n",
    "import pickle "
   ]
  },
  {
   "cell_type": "code",
   "execution_count": 2,
   "metadata": {},
   "outputs": [],
   "source": [
    "import matplotlib\n",
    "import matplotlib.pyplot as plt\n",
    "import cartopy.crs as ccrs\n",
    "import cartopy.feature as cfeature\n",
    "from cartopy.util import add_cyclic_point\n",
    "from collections import OrderedDict "
   ]
  },
  {
   "cell_type": "code",
   "execution_count": 3,
   "metadata": {},
   "outputs": [],
   "source": [
    "import time as timestamp \n",
    "import importlib"
   ]
  },
  {
   "cell_type": "code",
   "execution_count": 4,
   "metadata": {},
   "outputs": [],
   "source": [
    "sys.path.append(\"/home/disk/p/mkb22/Documents/si_analysis_kb/LIMs/SI_LIMs/\")\n",
    "import LIM_utils as lim\n",
    "\n",
    "import LIM_utils_kb as limkb\n",
    "import LIM_stats_kb as statskb\n",
    "import LIM_plot_kb as plotkb\n",
    "import LIM_building as limbuild\n",
    "\n",
    "sys.path.append(\"/home/disk/kalman2/mkb22/pyLMR/\")\n",
    "import LMR_utils"
   ]
  },
  {
   "cell_type": "code",
   "execution_count": 5,
   "metadata": {},
   "outputs": [],
   "source": [
    "#--------------------------------------------------\n",
    "# START USER PARAMETERS\n",
    "#--------------------------------------------------\n",
    "# number of EOFs to retain for the LIM state vector\n",
    "ntrunc = 5 # EOF truncation for individual fields (reduced-state space)\n",
    "nmodes = 15 # number of coupled EOFs for LIM state space (truncated-state space)\n",
    "#nmodes = 20\n",
    "nmodes_sic = 5\n",
    "#modes_sic = 20\n",
    "\n",
    "lat_cutoff = 50\n",
    "\n",
    "mo='all'\n",
    "#mo=0\n",
    "\n",
    "# forecast lead time in months that defines the LIM training\n",
    "tau = 1\n",
    "\n",
    "# training data defined by the first ntrain times\n",
    "# fraction of years used in training\n",
    "# ensures that start year of both train and validation data is january\n",
    "# nyearstrain = 30\n",
    "# ntrain = int(nyearstrain*12)\n",
    "# nvalid = int(38*12)\n",
    "# nyearsvalid = 38-nyearstrain\n",
    "# nvalidtimes = 1872\n",
    "\n",
    "# variables to include in the LIM (note \"vars\" is a Python command)\n",
    "#limvars = ['tas','zg']\n",
    "#limvars = ['tas','rlut','zg']\n",
    "#limvars = ['sic']\n",
    "#limvars = ['tas','sic']\n",
    "#limvars = ['tas','sic','zg','psl','pr','tos']\n",
    "#limvars = ['tas','psl','tos','sit','sic']\n",
    "# limvars = ['tas','tos','psl','sit','sic']\n",
    "# limvars_nosic = ['tas','tos','psl','sit']\n",
    "limvars = ['tas','sic']\n",
    "#limvars = ['sic']\n",
    "limvars_nosic = []\n",
    "nvars = len(limvars)\n",
    "\n",
    "# specify the model source \n",
    "#train_dsource = 'cmip6_mpi_hist'\n",
    "train_dsource = 'cesm_lme'\n",
    "#train_dsource = 'cmip6_mpi_hist_ssp585'\n",
    "#train_dsource ='satellite'\n",
    "#train_dsource = 'mpi_hist_kb'\n",
    "#train_dsource = 'ccsm4_lm_kb'\n",
    "#train_dsource = 'satellite'\n",
    "#train_dsource = 'era5'\n",
    "#valid_dsource = 'era5'\n",
    "#valid_dsource = 'satellite'\n",
    "#valid_dsource = 'mpi_lm_kb'\n",
    "#valid_dsource = 'mpi_lm_kb'\n",
    "#valid_dsource = 'cmip6_mpi_hist'\n",
    "valid_dsource = 'cesm_lme'\n",
    "\n",
    "sic_separate = True\n",
    "Insamp = False\n",
    "\n",
    "# date_of_interest = '20210910'"
   ]
  },
  {
   "cell_type": "code",
   "execution_count": 6,
   "metadata": {},
   "outputs": [],
   "source": [
    "if 'hist_ssp585' in train_dsource: \n",
    "    folder_add = 'hist_ssp585_concatenated/'\n",
    "elif 'hist' in train_dsource: \n",
    "    folder_add = 'historical/'\n",
    "elif 'lm' in train_dsource: \n",
    "    folder_add = 'last_millennium/'\n",
    "elif 'satellite' in train_dsource: \n",
    "    folder_add = 'satellite/'\n",
    "elif 'era5' in train_dsource: \n",
    "    folder_add = 'reanalysis/'\n",
    "elif 'lme' in train_dsource: \n",
    "    folder_add = 'last_millennium/'"
   ]
  },
  {
   "cell_type": "code",
   "execution_count": 21,
   "metadata": {},
   "outputs": [],
   "source": [
    "# Start with truncated training data: \n",
    "#mod_folder = 'truncated_model_data/last_millennium/'\n",
    "#mod_folder = '/home/disk/p/mkb22/Documents/si_analysis_kb/LIMs/SI_LIMs/truncated_model_data/'+folder_add\n",
    "mod_folder = '/home/disk/kalman2/mkb22/SI_LIMs/truncated_data/'+folder_add\n",
    "#save_folder = '/home/disk/p/mkb22/Documents/si_analysis_kb/LIMs/SI_LIMs/sensitivity_testing/neofs/'+folder_add\n",
    "save_folder = '/home/disk/kalman2/mkb22/SI_LIMs/sensitivity_testing/neofs/'+folder_add\n",
    "\n",
    "#mod_filename = '_ntrunc'+str(ntrunc)+'_monthall_'+train_dsource+'_ntrain_1850_2050_20210916.pkl'\n",
    "#mod_filename = '_ntrunc'+str(ntrunc)+'_monthall_'+train_dsource+'_grid05_ntrain_1979_2004_20210914.pkl'\n",
    "#mod_filename = '_ntrunc'+str(ntrunc)+'_monthall_'+train_dsource+'_latcutoff_50_wtTrue_dtTrue_ntrain_1850_2004_20211014.pkl'\n",
    "# mod_filename = ('_ntrunc'+str(ntrunc)+'_monthall_'+train_dsource+'_latcutoff_'+\n",
    "#                 str(lat_cutoff)+'_wtTrue_dtTrue_ntrain_1850_2004_20211014.pkl')\n",
    "mod_filename = ('_ntrunc'+str(ntrunc)+'_002_monthall_'+train_dsource+'_latcutoff_'+\n",
    "                str(lat_cutoff)+'_wtTrue_dtTrue_ntrain_850_1650_20211014.pkl')\n",
    "\n",
    "# mod_sic_filename = ('_ntrunc'+str(nmodes_sic)+'_monthall_'+train_dsource+'_latcutoff_'+\n",
    "#                     str(lat_cutoff)+'_wtTrue_dtTrue_ntrain_1850_2004_20211014.pkl')\n",
    "mod_sic_filename = ('_ntrunc'+str(nmodes_sic)+'_002_monthall_'+train_dsource+'_latcutoff_'+\n",
    "                    str(lat_cutoff)+'_wtTrue_dtTrue_ntrain_850_1650_20211014.pkl')\n",
    "#mod_sic_filename = ('_ntrunc'+str(nmodes_sic)+'_monthall_'+train_dsource+'_'+'ntrain_1850_2004_20210921.pkl')\n",
    "#mod_sic_filename = '_ntrunc'+str(nmodes_sic)+'_monthall_'+train_dsource+'_latcutoff_50_ntrain_1850_2004_20210923.pkl'\n",
    "#mod_sic_filename = '_ntrunc'+str(nmodes_sic)+'_monthall_'+train_dsource+'_latcutoff_50_wtTrue_dtTrue_ntrain_1850_2004_20211014.pkl'\n",
    "\n",
    "#mod_sic_filename = '_ntrunc50_month0_mpi_hist_kb_20210727_ntrain1_standtest.pkl'\n",
    "#mod_sic_filename = '_ntrunc50_mpi_lm_kb_20210507_ntrain0_3_standtest.pkl'\n",
    "#train_dsource = 'cmip6_mpi_hist'"
   ]
  },
  {
   "cell_type": "code",
   "execution_count": 22,
   "metadata": {},
   "outputs": [
    {
     "data": {
      "text/plain": [
       "'_ntrunc5_002_monthall_cesm_lme_latcutoff_50_wtTrue_dtTrue_ntrain_850_1650_20211014.pkl'"
      ]
     },
     "execution_count": 22,
     "metadata": {},
     "output_type": "execute_result"
    }
   ],
   "source": [
    "mod_sic_filename"
   ]
  },
  {
   "cell_type": "code",
   "execution_count": 23,
   "metadata": {},
   "outputs": [],
   "source": [
    "exp_setup = {}\n",
    "exp_setup['mo'] = mo\n",
    "if 'all' in str(mo): \n",
    "    exp_setup['ind_month_trunc'] = False\n",
    "else: \n",
    "    exp_setup['ind_month_trunc'] = True\n",
    "exp_setup['tau'] = tau\n",
    "exp_setup['ntrunc'] = ntrunc \n",
    "exp_setup['nmodes_sic'] = nmodes_sic\n",
    "exp_setup['limvars'] = limvars\n",
    "exp_setup['train_dsource'] = train_dsource\n",
    "exp_setup['valid_dsource'] = valid_dsource \n",
    "exp_setup['sic_separate'] = sic_separate\n",
    "exp_setup['Insamp'] = Insamp\n",
    "exp_setup['mod_folder'] = mod_folder\n",
    "exp_setup['mod_filename'] = mod_filename\n",
    "exp_setup['mod_sic_filename'] = mod_sic_filename\n",
    "exp_setup['lat_cutoff'] = lat_cutoff\n",
    "exp_setup['Weight']=True\n",
    "exp_setup['step2_trunc']=False\n",
    "\n",
    "# era5 settings (out of sample): \n",
    "# exp_setup['nyearsvalid'] = 16\n",
    "# exp_setup['nyearstot'] = 42\n",
    "# exp_setup['nyears_startvalid'] = 26*12\n",
    "\n",
    "# era5 settings (in sample):  \n",
    "# exp_setup['nyearsvalid'] = 26\n",
    "# exp_setup['nyearstot'] = 42\n",
    "# exp_setup['nyears_startvalid'] = 1*12\n",
    "\n",
    "# Satellite settings (out of sample): \n",
    "# exp_setup['nyearsvalid'] = 12\n",
    "# exp_setup['nyearstot'] = 38\n",
    "# exp_setup['nyears_startvalid'] = 26*12\n",
    "\n",
    "# Satellite settings (in sample): \n",
    "# exp_setup['nyearsvalid'] = 25\n",
    "# exp_setup['nyearstot'] = 38\n",
    "# exp_setup['nyears_startvalid'] = 1*12\n",
    "\n",
    "# # Historical settings: \n",
    "# exp_setup['nyearsvalid'] = 10\n",
    "# exp_setup['nyearstot'] = 164\n",
    "# exp_setup['nyears_startvalid'] = 155*12\n",
    "\n",
    "# Historical settings (in sample): \n",
    "# exp_setup['nyearsvalid'] = 10\n",
    "# exp_setup['nyearstot'] = 164\n",
    "# exp_setup['nyears_startvalid'] = 1*12\n",
    "\n",
    "# LME settings (out of sample): \n",
    "exp_setup['nyearsvalid'] =200\n",
    "exp_setup['nyearstrain'] = (1650-850)\n",
    "exp_setup['nyearstot'] = 1155\n",
    "exp_setup['nyears_startvalid'] = 801*12\n",
    "\n",
    "# LME settings (in sample): \n",
    "# exp_setup['nyearsvalid'] = 11\n",
    "# exp_setup['nyearstrain'] = (1350-851)\n",
    "# exp_setup['nyearstot'] = 1155\n",
    "# exp_setup['nyears_startvalid'] = 1*12\n",
    "\n",
    "# LM settings\n",
    "# exp_setup['nyearsvalid'] = 10\n",
    "# exp_setup['nyearstot'] = 1000\n",
    "# exp_setup['nyears_startvalid'] = 900*12\n",
    "exp_setup['ntrain']=((exp_setup['nyearstot']*12)-(exp_setup['nyearsvalid'] *12))/(exp_setup['nyearstot']*12)"
   ]
  },
  {
   "cell_type": "code",
   "execution_count": 24,
   "metadata": {},
   "outputs": [
    {
     "data": {
      "text/plain": [
       "800"
      ]
     },
     "execution_count": 24,
     "metadata": {},
     "output_type": "execute_result"
    }
   ],
   "source": [
    "1650-850"
   ]
  },
  {
   "cell_type": "code",
   "execution_count": 25,
   "metadata": {},
   "outputs": [],
   "source": [
    "month_names = ['Jan','Feb','Mar','Apr','May','June','July','Aug','Sept','Oct','Nov','Dec']"
   ]
  },
  {
   "cell_type": "code",
   "execution_count": 26,
   "metadata": {},
   "outputs": [],
   "source": [
    "import run_forecast_model_data as rf"
   ]
  },
  {
   "cell_type": "code",
   "execution_count": 27,
   "metadata": {},
   "outputs": [
    {
     "data": {
      "text/plain": [
       "<module 'LIM_stats_kb' from '/home/disk/p/mkb22/Documents/si_analysis_kb/LIMs/SI_LIMs/LIM_stats_kb.py'>"
      ]
     },
     "execution_count": 27,
     "metadata": {},
     "output_type": "execute_result"
    }
   ],
   "source": [
    "importlib.reload(rf)\n",
    "importlib.reload(limbuild)\n",
    "importlib.reload(limkb)\n",
    "importlib.reload(statskb)"
   ]
  },
  {
   "cell_type": "code",
   "execution_count": 28,
   "metadata": {},
   "outputs": [],
   "source": [
    "master_save = False"
   ]
  },
  {
   "cell_type": "code",
   "execution_count": 29,
   "metadata": {},
   "outputs": [
    {
     "name": "stdout",
     "output_type": "stream",
     "text": [
      "Loading truncated tas from: /home/disk/kalman2/mkb22/SI_LIMs/truncated_data/last_millennium/tas_ntrunc5_002_monthall_cesm_lme_latcutoff_50_wtTrue_dtTrue_ntrain_850_1650_20211014.pkl\n",
      "Month is all\n",
      "Loading truncated sic from: /home/disk/kalman2/mkb22/SI_LIMs/truncated_data/last_millennium/sic_ntrunc5_002_monthall_cesm_lme_latcutoff_50_wtTrue_dtTrue_ntrain_850_1650_20211014.pkl\n",
      "Month is all\n",
      "working on tas\n",
      "working on sic\n",
      "Multiple variables detected...\n",
      "0, tas\n",
      "Training LIM with tau = 1\n",
      "Number of positive eigenvalues = 0.0\n"
     ]
    }
   ],
   "source": [
    "#--------------------------------------------------\n",
    "### Build L from truncated data: \n",
    "#--------------------------------------------------\n",
    "\n",
    "save_folder = '/home/disk/p/mkb22/Documents/si_analysis_kb/LIMs/SI_LIMs/LIMs_saved/'\n",
    "\n",
    "LIMd = rf.build_L(exp_setup, save_folder, save=master_save)"
   ]
  },
  {
   "cell_type": "code",
   "execution_count": 16,
   "metadata": {},
   "outputs": [
    {
     "name": "stdout",
     "output_type": "stream",
     "text": [
      "Loading truncated tas from: /home/disk/kalman2/mkb22/SI_LIMs/truncated_data/last_millennium/tas_ntrunc5_002_monthall_cesm_lme_latcutoff_50_wtTrue_dtTrue_ntrain_850_1350_20211014.pkl\n",
      "Month is all\n",
      "Loading truncated sic from: /home/disk/kalman2/mkb22/SI_LIMs/truncated_data/last_millennium/sic_ntrunc5_002_monthall_cesm_lme_latcutoff_50_wtTrue_dtTrue_ntrain_850_1350_20211014.pkl\n",
      "Month is all\n",
      "working on tas\n",
      "working on sic\n",
      "Multiple variables detected...\n",
      "0, tas\n"
     ]
    }
   ],
   "source": [
    "full_names, areawt_name, month_names = limbuild.load_full_names()\n",
    "\n",
    "#--------------------------------------------------\n",
    "# BUILD L FROM PRE-TRUNCATED DATA: \n",
    "#--------------------------------------------------\n",
    "\n",
    "[Ptrunc, _, E3, tot_var, \n",
    " tot_var_eig, W_all, standard_factor, \n",
    " nyears_train, var_dict] = limbuild.load_training_data_truncated(exp_setup['limvars'], exp_setup['mod_folder'], \n",
    "                                                                 exp_setup['mod_sic_filename'], \n",
    "                                                                 exp_setup['mod_filename'], \n",
    "                                                                 exp_setup['mo'],exp_setup['nyearstot'], \n",
    "                                                                 exp_setup['nyearstrain'],exp_setup['nyearsvalid'],\n",
    "                                                                 ind_month_trunc=exp_setup['ind_month_trunc'])\n",
    "\n",
    "var_dict = limbuild.get_var_indices(exp_setup['limvars'], var_dict)\n",
    "\n",
    "ndof_all = limkb.count_ndof_all(exp_setup['limvars'], E3, sic_separate=exp_setup['sic_separate'])\n",
    "\n",
    "\n",
    "if len(exp_setup['limvars'])<=1:\n",
    "    print('Only one variable detected...')\n",
    "    Ptrunc_all = []\n",
    "    E3_all = []\n",
    "    Ptrunc_sic = Ptrunc['sic']\n",
    "    E_sic = E3['sic']\n",
    "\n",
    "    P_train = Ptrunc_sic\n",
    "else: \n",
    "    print('Multiple variables detected...')\n",
    "    [Ptrunc_all, E3_all, \n",
    "    Ptrunc_sic,E_sic] = limkb.stack_variable_eofs(exp_setup['limvars'], ndof_all, \n",
    "                                                  exp_setup['ntrunc'], Ptrunc, E3,var_dict,\n",
    "                                                  sic_separate=exp_setup['sic_separate'])\n",
    "\n",
    "    P_train = np.concatenate((Ptrunc_all, Ptrunc_sic),axis=0)"
   ]
  },
  {
   "cell_type": "code",
   "execution_count": 19,
   "metadata": {},
   "outputs": [
    {
     "data": {
      "text/plain": [
       "((10, 6012), (5, 6012))"
      ]
     },
     "execution_count": 19,
     "metadata": {},
     "output_type": "execute_result"
    }
   ],
   "source": [
    "P_train.shape, Ptrunc['tas'].shape"
   ]
  },
  {
   "cell_type": "code",
   "execution_count": 87,
   "metadata": {},
   "outputs": [],
   "source": [
    "nmo = int(P_train.shape[1]/nyears_train)\n",
    "# nmo = 2\n",
    "#P_train_3d = np.reshape(P_train, (P_train.shape[0],nyears_train,nmo))"
   ]
  },
  {
   "cell_type": "code",
   "execution_count": 20,
   "metadata": {},
   "outputs": [
    {
     "data": {
      "text/plain": [
       "501.0"
      ]
     },
     "execution_count": 20,
     "metadata": {},
     "output_type": "execute_result"
    }
   ],
   "source": [
    "6012/12"
   ]
  },
  {
   "cell_type": "code",
   "execution_count": 95,
   "metadata": {},
   "outputs": [
    {
     "data": {
      "text/plain": [
       "9600"
      ]
     },
     "execution_count": 95,
     "metadata": {},
     "output_type": "execute_result"
    }
   ],
   "source": [
    "nyears_train"
   ]
  },
  {
   "cell_type": "code",
   "execution_count": 73,
   "metadata": {},
   "outputs": [],
   "source": [
    "# #--------------------------------------------------\n",
    "# ### Load pre-build L: \n",
    "# #--------------------------------------------------\n",
    "# L_folder = '/home/disk/p/mkb22/Documents/si_analysis_kb/LIMs/SI_LIMs/LIMs_saved/'\n",
    "# L_filename = 'L_'+train_dsource+'_ntrain_1850_2005_tas30_tos30_sit30_sic50_'+date_of_interest+'.pkl'\n",
    "\n",
    "# LIMd = pickle.load(open(L_folder+L_filename, 'rb'))"
   ]
  },
  {
   "cell_type": "markdown",
   "metadata": {},
   "source": [
    "## Run Forecast: "
   ]
  },
  {
   "cell_type": "code",
   "execution_count": 74,
   "metadata": {},
   "outputs": [],
   "source": [
    "lags = [0,1,2,3,4,5,6]\n",
    "\n",
    "if LIMd['npos_eigenvalues'] >0: \n",
    "    adj = True\n",
    "else: \n",
    "    adj = False\n",
    "\n",
    "exp_setup['lags'] = lags\n",
    "exp_setup['adj'] = adj\n",
    "exp_setup['remove_climo'] = True\n",
    "exp_setup['detrend'] = True\n",
    "exp_setup['nyr_train'] = None\n",
    "exp_setup['Insamp'] = Insamp\n",
    "\n",
    "f_folder = '/home/disk/p/mkb22/Documents/si_analysis_kb/LIMs/SI_LIMs/LIMs_saved/'"
   ]
  },
  {
   "cell_type": "code",
   "execution_count": 75,
   "metadata": {
    "scrolled": true
   },
   "outputs": [
    {
     "name": "stdout",
     "output_type": "stream",
     "text": [
      "Validation data: cesm_lme\n",
      "tecut = 1001, tscut = 801.0\n",
      "Loading from tas\n",
      "Loading from a/LME/LIMs/tas_sfc_Amon_CESM_LMEallforc_002_085001-200512.nc\n",
      "time dimension: 1651 - 1850\n",
      "detrending...\n",
      "Working on month...0\n",
      "Working on month...1\n",
      "Working on month...2\n",
      "Working on month...3\n",
      "Working on month...4\n",
      "Working on month...5\n",
      "Working on month...6\n",
      "Working on month...7\n",
      "Working on month...8\n",
      "Working on month...9\n",
      "Working on month...10\n",
      "Working on month...11\n",
      "latitude cutoff detected: 50\n",
      "-----------------------------------------------------\n",
      "completed in 11.067499160766602 seconds\n",
      "-----------------------------------------------------\n",
      "Validation shape: (3168, 2400)\n",
      "time dimension: 1651 - 1850\n",
      "(2400,)\n",
      "tecut = 1001, tscut = 801.0\n",
      "Loading from sic\n",
      "Loading from aIceData/LME/LIMs/sic_SImon_CESM_LME_nh_002_085001-200512.nc\n",
      "time dimension: 1651 - 1850\n",
      "detrending...\n",
      "Working on month...0\n",
      "Found with nans (not in satellite), going to fill with zeros...\n",
      "Working on month...1\n",
      "Found with nans (not in satellite), going to fill with zeros...\n",
      "Working on month...2\n",
      "Found with nans (not in satellite), going to fill with zeros...\n",
      "Working on month...3\n",
      "Found with nans (not in satellite), going to fill with zeros...\n",
      "Working on month...4\n",
      "Found with nans (not in satellite), going to fill with zeros...\n",
      "Working on month...5\n",
      "Found with nans (not in satellite), going to fill with zeros...\n",
      "Working on month...6\n",
      "Found with nans (not in satellite), going to fill with zeros...\n",
      "Working on month...7\n",
      "Found with nans (not in satellite), going to fill with zeros...\n",
      "Working on month...8\n",
      "Found with nans (not in satellite), going to fill with zeros...\n",
      "Working on month...9\n",
      "Found with nans (not in satellite), going to fill with zeros...\n",
      "Working on month...10\n",
      "Found with nans (not in satellite), going to fill with zeros...\n",
      "Working on month...11\n",
      "Found with nans (not in satellite), going to fill with zeros...\n",
      "latitude cutoff detected: 50\n",
      "-----------------------------------------------------\n",
      "completed in 26.634446382522583 seconds\n",
      "-----------------------------------------------------\n",
      "Changing units of sic be a between 0 to 1\n",
      "Validation shape: (25600, 2400)\n",
      "time dimension: 1651 - 1850\n",
      "(2400,)\n",
      "working on tas\n",
      "working on sic\n",
      "Multiple variables detected...\n",
      "0, tas\n",
      "P_train_valid: (10, 2400)\n",
      "Running a forecast!\n",
      "Using all months\n",
      "Performing out of sample forecast\n",
      "Adjust is False...\n",
      "t= 0\n",
      "t= 1\n",
      "t= 2\n",
      "t= 3\n",
      "t= 4\n",
      "t= 5\n",
      "t= 6\n",
      "LIM_fcast: (7, 10, 2400)\n",
      "Decompressing forecasted fields out of eof space.\n",
      "Working on...\n",
      "Lag 0\n",
      "Lag 1\n",
      "Lag 2\n",
      "Lag 3\n",
      "Lag 4\n",
      "Lag 5\n",
      "Lag 6\n"
     ]
    }
   ],
   "source": [
    "forecast = rf.run_forecast(LIMd,exp_setup, f_folder, verbose=True, save=master_save, save_decomp=False)"
   ]
  },
  {
   "cell_type": "code",
   "execution_count": null,
   "metadata": {},
   "outputs": [],
   "source": [
    "# L_folder = '/home/disk/p/mkb22/Documents/si_analysis_kb/LIMs/SI_LIMs/LIMs_saved/'\n",
    "# L_filename = 'Forecast_'+train_dsource+'_ntrain_1850_2005_tas30_tos30_sit30_sic50_'+date_of_interest+'.pkl'\n",
    "\n",
    "# forecast = pickle.load(open(L_folder+L_filename, 'rb'))"
   ]
  },
  {
   "cell_type": "code",
   "execution_count": 46,
   "metadata": {},
   "outputs": [
    {
     "name": "stdout",
     "output_type": "stream",
     "text": [
      "Loading from cuments/SeaIceData/LME/LIMs/areacella_CESM_LME_global_001.nc\n",
      "latitude cutoff detected: 50\n",
      "Loading from 2/Documents/SeaIceData/LME/LIMs/areacello_CESM_LME_nh_001.nc\n",
      "latitude cutoff detected: 50\n",
      "tecut = 1001, tscut = 801.0\n"
     ]
    },
    {
     "ename": "KeyError",
     "evalue": "'remove_climo'",
     "output_type": "error",
     "traceback": [
      "\u001b[0;31m---------------------------------------------------------------------------\u001b[0m",
      "\u001b[0;31mKeyError\u001b[0m                                  Traceback (most recent call last)",
      "\u001b[0;32m<ipython-input-46-3807db2ac03a>\u001b[0m in \u001b[0;36m<module>\u001b[0;34m()\u001b[0m\n\u001b[1;32m      1\u001b[0m forecast_validation = rf.validate_forecast_monthly(forecast, exp_setup['limvars'], 1, exp_setup, LIMd, f_folder, \n\u001b[0;32m----> 2\u001b[0;31m                                                    iplot=True, save=master_save)\n\u001b[0m",
      "\u001b[0;32m~/Documents/si_analysis_kb/LIMs/SI_LIMs/run_forecast_model_data.py\u001b[0m in \u001b[0;36mvalidate_forecast_monthly\u001b[0;34m(forecast, valid_vars, lag, exp_setup, LIMd, f_folder, iplot, save)\u001b[0m\n\u001b[1;32m    314\u001b[0m         \u001b[0mprint\u001b[0m\u001b[0;34m(\u001b[0m\u001b[0;34m'tecut = '\u001b[0m\u001b[0;34m+\u001b[0m\u001b[0mstr\u001b[0m\u001b[0;34m(\u001b[0m\u001b[0mtecut\u001b[0m\u001b[0;34m)\u001b[0m \u001b[0;34m+\u001b[0m\u001b[0;34m', tscut = '\u001b[0m\u001b[0;34m+\u001b[0m\u001b[0mstr\u001b[0m\u001b[0;34m(\u001b[0m\u001b[0mexp_setup\u001b[0m\u001b[0;34m[\u001b[0m\u001b[0;34m'nyears_startvalid'\u001b[0m\u001b[0;34m]\u001b[0m\u001b[0;34m/\u001b[0m\u001b[0;36m12\u001b[0m\u001b[0;34m)\u001b[0m\u001b[0;34m)\u001b[0m\u001b[0;34m\u001b[0m\u001b[0m\n\u001b[1;32m    315\u001b[0m \u001b[0;34m\u001b[0m\u001b[0m\n\u001b[0;32m--> 316\u001b[0;31m         X_var, _ = limkb.load_data(var, v, fdic_valid, remove_climo=exp_setup['remove_climo'], \n\u001b[0m\u001b[1;32m    317\u001b[0m                                    \u001b[0mdetrend\u001b[0m\u001b[0;34m=\u001b[0m\u001b[0mexp_setup\u001b[0m\u001b[0;34m[\u001b[0m\u001b[0;34m'detrend'\u001b[0m\u001b[0;34m]\u001b[0m\u001b[0;34m,\u001b[0m \u001b[0mverbose\u001b[0m\u001b[0;34m=\u001b[0m\u001b[0;32mTrue\u001b[0m\u001b[0;34m,\u001b[0m\u001b[0;34m\u001b[0m\u001b[0m\n\u001b[1;32m    318\u001b[0m                                    \u001b[0mtscut\u001b[0m\u001b[0;34m=\u001b[0m\u001b[0mint\u001b[0m\u001b[0;34m(\u001b[0m\u001b[0mexp_setup\u001b[0m\u001b[0;34m[\u001b[0m\u001b[0;34m'nyears_startvalid'\u001b[0m\u001b[0;34m]\u001b[0m\u001b[0;34m/\u001b[0m\u001b[0;36m12\u001b[0m\u001b[0;34m)\u001b[0m\u001b[0;34m,\u001b[0m \u001b[0mtecut\u001b[0m\u001b[0;34m=\u001b[0m\u001b[0mtecut\u001b[0m\u001b[0;34m,\u001b[0m\u001b[0;34m\u001b[0m\u001b[0m\n",
      "\u001b[0;31mKeyError\u001b[0m: 'remove_climo'"
     ]
    }
   ],
   "source": [
    "forecast_validation = rf.validate_forecast_monthly(forecast, exp_setup['limvars'], 1, exp_setup, LIMd, f_folder, \n",
    "                                                   iplot=True, save=master_save)"
   ]
  },
  {
   "cell_type": "code",
   "execution_count": 34,
   "metadata": {},
   "outputs": [],
   "source": [
    "# L_filename = ('Forecast_validation_'+train_dsource+\n",
    "#               '_ntrain_1850_2005_tas30_tos30_sit30_sic50_'+date_of_interest+'.pkl')\n",
    "\n",
    "# L_filename = ('Forecast_validation_cmip6_mpi_hist_ntrain_1850_2005_validation_mpi_lm_kb'+\n",
    "#               '_0_100_tas30_tos30_sit30_sic50_20210826.pkl')\n",
    "\n",
    "# forecast_validation_monthly = pickle.load(open(L_folder+L_filename, 'rb'))"
   ]
  },
  {
   "cell_type": "code",
   "execution_count": 35,
   "metadata": {
    "scrolled": true
   },
   "outputs": [
    {
     "name": "stdout",
     "output_type": "stream",
     "text": [
      "Loading from mkb22/Documents/SeaIceData/LME/LIMs/areacello_CESM_LME_nh.nc\n",
      "LME detected\n",
      "latitude cutoff detected: 50\n",
      "tecut = 12, tscut = 1.0\n",
      "Loading from sic\n",
      "Loading from eaIceData/LME/LIMs/siconc_SImon_CESM_LME_nh_085001-185012.nc\n",
      "LME detected\n",
      "time dimension: 852 - 862\n",
      "detrending...\n",
      "Working on month...0\n",
      "Found with nans (not in satellite), going to fill with zeros...\n",
      "Working on month...1\n",
      "Found with nans (not in satellite), going to fill with zeros...\n",
      "Working on month...2\n",
      "Found with nans (not in satellite), going to fill with zeros...\n",
      "Working on month...3\n",
      "Found with nans (not in satellite), going to fill with zeros...\n",
      "Working on month...4\n",
      "Found with nans (not in satellite), going to fill with zeros...\n",
      "Working on month...5\n",
      "Found with nans (not in satellite), going to fill with zeros...\n",
      "Working on month...6\n",
      "Found with nans (not in satellite), going to fill with zeros...\n",
      "Working on month...7\n",
      "Found with nans (not in satellite), going to fill with zeros...\n",
      "Working on month...8\n",
      "Found with nans (not in satellite), going to fill with zeros...\n",
      "Working on month...9\n",
      "Found with nans (not in satellite), going to fill with zeros...\n",
      "Working on month...10\n",
      "Found with nans (not in satellite), going to fill with zeros...\n",
      "Working on month...11\n",
      "Found with nans (not in satellite), going to fill with zeros...\n",
      "latitude cutoff detected: 50\n",
      "-----------------------------------------------------\n",
      "completed in 23.413092613220215 seconds\n",
      "-----------------------------------------------------\n",
      "Changing units of sic be a between 0 to 1\n",
      "Lag 0\n",
      "Trained using all months...\n",
      "Truth_anom shape: (25600, 132)\n",
      "Forecast_anom shape: (25600, 132)\n",
      "changing cellarea units from m^2 to km^2\n"
     ]
    },
    {
     "data": {
      "image/png": "[encoded data removed]",
      "text/plain": [
       "<Figure size 432x288 with 1 Axes>"
      ]
     },
     "metadata": {
      "needs_background": "light"
     },
     "output_type": "display_data"
    },
    {
     "name": "stdout",
     "output_type": "stream",
     "text": [
      "Lag 1\n",
      "Trained using all months...\n",
      "Truth_anom shape: (25600, 131)\n",
      "Forecast_anom shape: (25600, 131)\n",
      "changing cellarea units from m^2 to km^2\n"
     ]
    },
    {
     "data": {
      "image/png": "[encoded data removed]",
      "text/plain": [
       "<Figure size 432x288 with 1 Axes>"
      ]
     },
     "metadata": {
      "needs_background": "light"
     },
     "output_type": "display_data"
    },
    {
     "name": "stdout",
     "output_type": "stream",
     "text": [
      "Lag 2\n",
      "Trained using all months...\n",
      "Truth_anom shape: (25600, 130)\n",
      "Forecast_anom shape: (25600, 130)\n",
      "changing cellarea units from m^2 to km^2\n"
     ]
    },
    {
     "data": {
      "image/png": "[encoded data removed]",
      "text/plain": [
       "<Figure size 432x288 with 1 Axes>"
      ]
     },
     "metadata": {
      "needs_background": "light"
     },
     "output_type": "display_data"
    },
    {
     "name": "stdout",
     "output_type": "stream",
     "text": [
      "Lag 3\n",
      "Trained using all months...\n",
      "Truth_anom shape: (25600, 129)\n",
      "Forecast_anom shape: (25600, 129)\n",
      "changing cellarea units from m^2 to km^2\n"
     ]
    },
    {
     "data": {
      "image/png": "[encoded data removed]",
      "text/plain": [
       "<Figure size 432x288 with 1 Axes>"
      ]
     },
     "metadata": {
      "needs_background": "light"
     },
     "output_type": "display_data"
    },
    {
     "name": "stdout",
     "output_type": "stream",
     "text": [
      "Lag 4\n",
      "Trained using all months...\n",
      "Truth_anom shape: (25600, 128)\n",
      "Forecast_anom shape: (25600, 128)\n",
      "changing cellarea units from m^2 to km^2\n"
     ]
    },
    {
     "data": {
      "image/png": "[encoded data removed]",
      "text/plain": [
       "<Figure size 432x288 with 1 Axes>"
      ]
     },
     "metadata": {
      "needs_background": "light"
     },
     "output_type": "display_data"
    },
    {
     "name": "stdout",
     "output_type": "stream",
     "text": [
      "Lag 5\n",
      "Trained using all months...\n",
      "Truth_anom shape: (25600, 127)\n",
      "Forecast_anom shape: (25600, 127)\n",
      "changing cellarea units from m^2 to km^2\n"
     ]
    },
    {
     "data": {
      "image/png": "[encoded data removed]",
      "text/plain": [
       "<Figure size 432x288 with 1 Axes>"
      ]
     },
     "metadata": {
      "needs_background": "light"
     },
     "output_type": "display_data"
    },
    {
     "name": "stdout",
     "output_type": "stream",
     "text": [
      "Lag 6\n",
      "Trained using all months...\n",
      "Truth_anom shape: (25600, 126)\n",
      "Forecast_anom shape: (25600, 126)\n",
      "changing cellarea units from m^2 to km^2\n"
     ]
    },
    {
     "data": {
      "image/png": "[encoded data removed]",
      "text/plain": [
       "<Figure size 432x288 with 1 Axes>"
      ]
     },
     "metadata": {
      "needs_background": "light"
     },
     "output_type": "display_data"
    }
   ],
   "source": [
    "forecast_validation_lags = rf.validate_forecast_lagged(forecast, exp_setup['limvars'], exp_setup, LIMd, \n",
    "                                                       f_folder, iplot=True, save=master_save, \n",
    "                                                       detrend_truth=True)"
   ]
  },
  {
   "cell_type": "code",
   "execution_count": null,
   "metadata": {},
   "outputs": [],
   "source": [
    "# L_filename = ('Forecast_validation_lagged_'+train_dsource+\n",
    "#               '_ntrain_1850_2005_tas30_tos30_sit30_sic50_'+date_of_interest+'.pkl')\n",
    "\n",
    "# L_filename = ('Forecast_validation_lagged_cmip6_mpi_hist_ntrain_1850_2005_validation_mpi_lm_kb'+\n",
    "#               '_0_100_tas30_tos30_sit30_sic50_20210826.pkl')\n",
    "\n",
    "# forecast_validation_lags = pickle.load(open(L_folder+L_filename, 'rb'))"
   ]
  },
  {
   "cell_type": "markdown",
   "metadata": {},
   "source": [
    "### Testing error variance ratio: "
   ]
  },
  {
   "cell_type": "code",
   "execution_count": null,
   "metadata": {},
   "outputs": [],
   "source": [
    "fdic_train = limkb.build_training_dic(exp_setup['train_dsource'])\n",
    "fdic_valid = limkb.build_training_dic(exp_setup['valid_dsource'])\n",
    "\n",
    "areacell, areacell_dict = limbuild.load_areacell_dict(fdic_train, lat_cutoff=exp_setup['lat_cutoff'],\n",
    "                                                      remove_climo=False, detrend=False, verbose=False )\n",
    "full_names, areawt_name, month_names = limbuild.load_full_names()\n",
    "\n",
    "v = {}\n",
    "validation_stats_lags = {}\n",
    "\n",
    "#    nyear_valid = exp_setup['nyearstot'] - exp_setup['nyearsvalid']\n"
   ]
  },
  {
   "cell_type": "code",
   "execution_count": null,
   "metadata": {},
   "outputs": [],
   "source": [
    "var ='sic'\n",
    "\n",
    "tecut = int(exp_setup['nyears_startvalid']/12)+(exp_setup['nyearsvalid'])\n",
    "#        tecut = exp_setup['nyearstot'] - (int(exp_setup['nyears_startvalid']/12)+(exp_setup['nyearsvalid']))\n",
    "if tecut <=0: \n",
    "    tecut = False\n",
    "print('tecut = '+str(tecut) +', tscut = '+str(exp_setup['nyears_startvalid']/12))\n",
    "\n",
    "X_var, _ = limkb.load_data(var, v, fdic_valid, remove_climo=True, detrend=True, verbose=True,\n",
    "                           tscut=int(exp_setup['nyears_startvalid']/12), tecut=tecut, \n",
    "                           lat_cutoff=exp_setup['lat_cutoff'])\n",
    "\n",
    "if var is 'sic':\n",
    "    if np.nanmax(X_var)>1:\n",
    "        print('Changing units of sic be a between 0 to 1')\n",
    "        X_var = X_var/100\n",
    "\n",
    "corr_tot = np.zeros((len(exp_setup['lags'])))\n",
    "ce_tot = np.zeros((len(exp_setup['lags'])))\n",
    "gm_var_ratio = np.zeros((len(exp_setup['lags'])))\n",
    "valid_stats = {}\n"
   ]
  },
  {
   "cell_type": "code",
   "execution_count": null,
   "metadata": {},
   "outputs": [],
   "source": [
    "#for i,lag in enumerate(exp_setup['lags']):\n",
    "lag = 0\n",
    "print('Lag '+str(lag))\n",
    "#             [truth_anom, forecast_anom] = limbuild.gather_truth_forecast2(lag,var,exp_setup['mo'],X_var,\n",
    "#                                                                           forecast['x_forecast_dcomp'],\n",
    "#                                                                           exp_setup['nyearsvalid']*12,\n",
    "#                                                                           LIMd['var_dict'],exp_setup['ntrain'],\n",
    "#                                                                           exp_setup['nyears_startvalid'],\n",
    "#                                                                           insamp=exp_setup['Insamp'])\n",
    "[truth_anom, \n",
    " forecast_anom] = limbuild.gather_truth_forecast_notime(lag,var,exp_setup['mo'],X_var,\n",
    "                                                        forecast['x_forecast_dcomp'],\n",
    "                                                        LIMd['var_dict'],insamp=exp_setup['Insamp'])\n",
    "\n",
    "\n",
    "print('Truth_anom shape: '+str(truth_anom.shape))\n",
    "print('Forecast_anom shape: '+str(forecast_anom.shape))"
   ]
  },
  {
   "cell_type": "code",
   "execution_count": null,
   "metadata": {},
   "outputs": [],
   "source": [
    "X_var.shape"
   ]
  },
  {
   "cell_type": "code",
   "execution_count": null,
   "metadata": {},
   "outputs": [],
   "source": [
    "units = areacell_dict[areawt_name[var]][areawt_name[var]]['units']\n",
    "    \n",
    "#Check cell area units: change all to km^2\n",
    "if 'km' in units:\n",
    "    acell = areacell[areawt_name[var]]\n",
    "else: \n",
    "    print('changing cellarea units from '+\n",
    "          str(areacell_dict[areawt_name[var]][areawt_name[var]]['units'])+' to km^2')\n",
    "    acell = areacell[areawt_name[var]]*(1e-6)\n",
    "    units = 'km^2'"
   ]
  },
  {
   "cell_type": "code",
   "execution_count": null,
   "metadata": {},
   "outputs": [],
   "source": [
    "## New error var calculations: 09/23/21\n",
    "forecast_nan_mask = np.where(np.isclose(np.nanvar(LIMd['E_sic'],axis=1),0,atol=1e-5),np.nan,1)\n",
    "\n",
    "rmse = np.nanmean((truth_anom-forecast_anom)**2,axis=1)\n",
    "gm_rmse = statskb.global_mean(rmse*truth_error_var_mask,acell)\n",
    "gsum_rmse = np.nansum(gm_var_ratio)\n",
    "\n",
    "if lag == 0:\n",
    "    gsum_rmse_lag0 = gsum_rmse\n",
    "    \n",
    "gsum_rmse_ratio = gsum_rmse/gsum_rmse_lag0\n"
   ]
  },
  {
   "cell_type": "code",
   "execution_count": null,
   "metadata": {},
   "outputs": [],
   "source": [
    "rmse.shape"
   ]
  },
  {
   "cell_type": "code",
   "execution_count": null,
   "metadata": {},
   "outputs": [],
   "source": [
    "plt.pcolormesh(np.reshape(rmse*forecast_nan_mask, (360,304)))\n",
    "#plt.plot(188,215,marker='.',color='r')\n",
    "plt.colorbar()\n",
    "# plt.xlim(180,210)\n",
    "# plt.ylim(200,280)"
   ]
  },
  {
   "cell_type": "code",
   "execution_count": null,
   "metadata": {},
   "outputs": [],
   "source": [
    "plt.pcolormesh(np.reshape(truth_error_var, (81, 720)))\n",
    "#plt.plot(188,215,marker='.',color='r')\n",
    "plt.colorbar()\n",
    "# plt.xlim(180,210)\n",
    "# plt.ylim(200,280)"
   ]
  },
  {
   "cell_type": "code",
   "execution_count": null,
   "metadata": {},
   "outputs": [],
   "source": [
    "plt.pcolormesh(np.reshape(error_var, (81, 720)))\n",
    "#plt.plot(188,250,marker='.',color='r')\n",
    "plt.colorbar()\n",
    "# plt.xlim(180,210)\n",
    "# plt.ylim(200,280)"
   ]
  },
  {
   "cell_type": "code",
   "execution_count": null,
   "metadata": {},
   "outputs": [],
   "source": [
    "plt.pcolormesh(np.reshape(gm_var_ratio_masked, (81, 720)),vmin=0, vmax=1.5)\n",
    "plt.plot(450,30,marker='.',color='r')\n",
    "plt.colorbar()\n",
    "# plt.xlim(180,210)\n",
    "# plt.ylim(200,280)"
   ]
  },
  {
   "cell_type": "code",
   "execution_count": null,
   "metadata": {},
   "outputs": [],
   "source": [
    "np.nanmax(gm_var_ratio_masked)"
   ]
  },
  {
   "cell_type": "code",
   "execution_count": null,
   "metadata": {},
   "outputs": [],
   "source": [
    "X_var_train_dt, _ = limkb.load_data(var, v, fdic_train, remove_climo=True, detrend=True, verbose=True,\n",
    "                                 tscut=False, tecut=False, \n",
    "                                 lat_cutoff=exp_setup['lat_cutoff'])"
   ]
  },
  {
   "cell_type": "code",
   "execution_count": null,
   "metadata": {},
   "outputs": [],
   "source": [
    "X_var_train, _ = limkb.load_data(var, v, fdic_train, remove_climo=False, detrend=False, verbose=True,\n",
    "                                 tscut=False, tecut=False, \n",
    "                                 lat_cutoff=exp_setup['lat_cutoff'])"
   ]
  },
  {
   "cell_type": "code",
   "execution_count": null,
   "metadata": {},
   "outputs": [],
   "source": [
    "504/12, forecast_anom.shape, 12*15, 42-16"
   ]
  },
  {
   "cell_type": "code",
   "execution_count": null,
   "metadata": {},
   "outputs": [],
   "source": [
    "fig,axs = plt.subplots(1,1,figsize=(10,6))\n",
    "plt.plot(np.arange(26,26+16,1),np.reshape(forecast_anom, (81,720,16,12))[30,450,:,0], label='forecast')\n",
    "\n",
    "plt.plot(np.reshape(X_var_train_dt, (81,720,42,12))[30,450,:,0], label='training (detrended, \\nclimo removed)')\n",
    "plt.plot(np.reshape(X_var_train, (81,720,42,12))[30,450,:,0], label='training (raw)')\n",
    "plt.legend(fontsize=14)\n",
    "\n",
    "#plt.xlim(300,504)\n",
    "\n",
    "plt.xlabel('timestep', fontsize=14)\n",
    "plt.ylabel('Sea ice concentration (%)', fontsize=14)\n",
    "plt.title('ERA5, January, Lat: 30/81, Lon: 450/720', fontsize=16)"
   ]
  },
  {
   "cell_type": "code",
   "execution_count": null,
   "metadata": {},
   "outputs": [],
   "source": [
    "fig,axs = plt.subplots(1,1,figsize=(10,6))\n",
    "plt.plot(np.arange(504-191,504,1),np.reshape(forecast_anom, (81,720,191))[30,450,:], label='forecast')\n",
    "\n",
    "plt.plot(np.reshape(X_var_train_dt, (81,720,504))[30,450,:], label='training (detrended, \\nclimo removed)')\n",
    "plt.plot(np.reshape(X_var_train, (81,720,504))[30,450,:], label='training (raw)')\n",
    "plt.legend(fontsize=14)\n",
    "\n",
    "#plt.xlim(300,504)\n",
    "\n",
    "plt.xlabel('timestep', fontsize=14)\n",
    "plt.ylabel('Sea ice concentration (%)', fontsize=14)\n",
    "plt.title('ERA5 Lat: 30/81, Lon: 450/720', fontsize=16)"
   ]
  },
  {
   "cell_type": "code",
   "execution_count": null,
   "metadata": {},
   "outputs": [],
   "source": [
    "fig,axs = plt.subplots(1,1,figsize=(10,6))\n",
    "plt.plot(np.reshape(forecast_anom, (360,304,143))[188,215,:], label='forecast')\n",
    "plt.plot(np.reshape(truth_anom, (360,304,143))[188,215,:], label='truth')\n",
    "plt.legend()\n",
    "plt.xlabel('timestep', fontsize=14)\n",
    "plt.ylabel('Sea ice concentration (%)', fontsize=14)\n",
    "plt.title('Lat: 188/360, Lon: 215/304', fontsize=16)"
   ]
  },
  {
   "cell_type": "markdown",
   "metadata": {},
   "source": [
    "## Run AR1 Forecast: "
   ]
  },
  {
   "cell_type": "code",
   "execution_count": null,
   "metadata": {},
   "outputs": [],
   "source": [
    "valid_vars=limvars\n",
    "ar1f_folder = '/home/disk/p/mkb22/Documents/si_analysis_kb/LIMs/SI_LIMs/LIMs_saved/'\n",
    "\n",
    "ar1cast = rf.ar1_forecast_valid_by_month(LIMd['P_train'], forecast['P_train_valid'], LIMd,\n",
    "                                         exp_setup, valid_vars, month_names, ar1f_folder, forecast,\n",
    "                                         lag=None, iplot=True, save=master_save, save_decomp=False)"
   ]
  },
  {
   "cell_type": "code",
   "execution_count": null,
   "metadata": {},
   "outputs": [],
   "source": [
    "# L_folder = '/home/disk/p/mkb22/Documents/si_analysis_kb/LIMs/SI_LIMs/LIMs_saved/'\n",
    "# L_filename = ('AR1_forecast_monthly_'+train_dsource+\n",
    "#               '_ntrain_1850_1999_tas30_tos30_psl30_sit30_sic50_'+date_of_interest+'.pkl')\n",
    "\n",
    "# ar1cast = pickle.load(open(L_folder+L_filename, 'rb'))"
   ]
  },
  {
   "cell_type": "code",
   "execution_count": null,
   "metadata": {
    "scrolled": true
   },
   "outputs": [],
   "source": [
    "ar1f_folder = '/home/disk/p/mkb22/Documents/si_analysis_kb/LIMs/SI_LIMs/LIMs_saved/'\n",
    "\n",
    "ar1cast_lags = rf.ar1_forecast_valid_by_lag(LIMd['P_train'], forecast['P_train_valid'], LIMd, exp_setup, \n",
    "                                            exp_setup['limvars'], month_names, ar1f_folder, forecast,\n",
    "                                            iplot=True, save=master_save, save_decomp=False,\n",
    "                                            detrend_truth=False)"
   ]
  },
  {
   "cell_type": "code",
   "execution_count": null,
   "metadata": {},
   "outputs": [],
   "source": [
    "# L_folder = '/home/disk/p/mkb22/Documents/si_analysis_kb/LIMs/SI_LIMs/LIMs_saved/'\n",
    "# L_filename = ('AR1_forecast_lagged_'+train_dsource+\n",
    "#               '_ntrain_1850_1999_tas30_tos30_psl30_sit30_sic50_'+date_of_interest+'.pkl')\n",
    "\n",
    "# ar1cast_lags = pickle.load(open(L_folder+L_filename, 'rb'))"
   ]
  },
  {
   "cell_type": "code",
   "execution_count": null,
   "metadata": {},
   "outputs": [],
   "source": [
    "str(forecast['var_dict_valid']['sic']['time'][0])[0:4]"
   ]
  },
  {
   "cell_type": "code",
   "execution_count": null,
   "metadata": {},
   "outputs": [],
   "source": [
    "start_yr = str(forecast['var_dict_valid']['sic']['time'][0])[0:4]\n",
    "end_yr = str(forecast['var_dict_valid']['sic']['time'][-1])[0:4]\n",
    "\n",
    "exp_filename = ('Validation_'+exp_setup['train_dsource']+'_ntrain_'+exp_setup['mod_filename'][-22:-13]+\n",
    "                '_validyrs_'+start_yr+'_'+end_yr+'_'+\n",
    "                (str(exp_setup['ntrunc'])+\"_\").join(exp_setup['limvars'])+\n",
    "                str(exp_setup['nmodes_sic'])+'_'+'.pkl')\n",
    "exp_filename"
   ]
  },
  {
   "cell_type": "markdown",
   "metadata": {},
   "source": [
    "## Validation by lag: "
   ]
  },
  {
   "cell_type": "code",
   "execution_count": null,
   "metadata": {},
   "outputs": [],
   "source": [
    "if 'cmip6' in train_dsource: \n",
    "    tcmip='CMIP6'\n",
    "elif 'era' in train_dsource:\n",
    "    tcmip=''\n",
    "elif 'satellite' in train_dsource: \n",
    "    tcmip=''\n",
    "else: \n",
    "    tcmip='CMIP5'\n",
    "\n",
    "var = 'sic'\n",
    "# start_tim = exp_setup['nyears_startvalid']\n",
    "# end_tim = exp_setup['nyears_startvalid']+(exp_setup['nyearsvalid']*12)\n",
    "valid_yrs_str = (str(forecast['var_dict_valid'][var]['time'][0])[:4]+'_'+\n",
    "                 str(forecast['var_dict_valid'][var]['time'][-1])[:4])\n",
    "\n",
    "if 'hist' in train_dsource:\n",
    "    texp = 'Historical'\n",
    "elif 'lm' in train_dsource: \n",
    "    texp = 'LM'\n",
    "elif 'ssp585' in train_dsource: \n",
    "    texp = 'SSP585'\n",
    "elif 'era5' in train_dsource: \n",
    "    texp = 'ERA5'\n",
    "elif 'satellite' in train_dsource: \n",
    "    texp = 'Satellite'\n",
    "    \n",
    "if 'hist' in valid_dsource:\n",
    "    vexp = 'Historical'\n",
    "elif 'lm' in valid_dsource: \n",
    "    vexp = 'LM'\n",
    "elif 'ssp585' in valid_dsource: \n",
    "    vexp = 'SSP585'\n",
    "elif 'era5' in valid_dsource: \n",
    "    vexp = 'ERA5'\n",
    "elif 'satellite' in valid_dsource: \n",
    "    vexp = 'Satellite'\n",
    "    \n",
    "if 'cesm2' in train_dsource:\n",
    "    tmod = 'CESM2'\n",
    "elif 'mpi' in train_dsource: \n",
    "    tmod = 'MPI'\n",
    "elif 'gfdl' in train_dsource: \n",
    "    tmod = 'GFDL'\n",
    "elif 'ccsm4' in train_dsource: \n",
    "    tmod = 'CCSM4'\n",
    "elif 'era5' in train_dsource: \n",
    "    tmod = ''\n",
    "elif 'satellite' in train_dsource: \n",
    "    tmod = ''\n",
    "    \n",
    "if 'cesm2' in valid_dsource:\n",
    "    vmod = 'CESM2'\n",
    "elif 'mpi' in valid_dsource: \n",
    "    vmod = 'MPI'\n",
    "elif 'gfdl' in valid_dsource: \n",
    "    vmod = 'GFDL'\n",
    "elif 'ccsm4' in valid_dsource: \n",
    "    vmod = 'CCSM4'\n",
    "elif 'era5' in valid_dsource: \n",
    "    vmod = ''\n",
    "elif 'satellite' in valid_dsource: \n",
    "    vmod = ''\n",
    "    \n",
    "if exp_setup['Weight'] is True: \n",
    "    wt_addin = ' '\n",
    "else: \n",
    "    wt_addin = '(no area weighting)'\n",
    "    \n",
    "if exp_setup['detrend'] is True: \n",
    "    tr_addin = ' '\n",
    "else: \n",
    "    tr_addin = ' (trended)'"
   ]
  },
  {
   "cell_type": "code",
   "execution_count": null,
   "metadata": {},
   "outputs": [],
   "source": [
    "exp_setup['mod_filename']"
   ]
  },
  {
   "cell_type": "code",
   "execution_count": null,
   "metadata": {
    "scrolled": true
   },
   "outputs": [],
   "source": [
    "fig,axs = plt.subplots(2,2,figsize=(20,10))\n",
    "#fig,axs= plt.subplots(2, 2)\n",
    "\n",
    "ax = axs.flatten()\n",
    "\n",
    "for i,var in enumerate(exp_setup['limvars']):\n",
    "    ax[i].plot(exp_setup['lags'][1:],forecast_validation_lags['validation_stats_lags'][var]['corr_tot'][1:]**2, \n",
    "               label='Correlation',linewidth=4)\n",
    "    ax[i].plot(exp_setup['lags'][1:],ar1cast_lags['validation_stats_ar1_lags'][var]['corr_tot'][:-1]**2, \n",
    "               label='AR(1) Correlation',linewidth=4, \n",
    "               linestyle='--', color='tab:blue',alpha=0.5)\n",
    "\n",
    "    ax[i].plot(exp_setup['lags'][1:],forecast_validation_lags['validation_stats_lags'][var]['ce_tot'][1:],\n",
    "               label='CE',linewidth=3.0)\n",
    "    ax[i].plot(exp_setup['lags'][1:],ar1cast_lags['validation_stats_ar1_lags'][var]['ce_tot'][:-1],\n",
    "               label='AR(1) CE',linewidth=3.0, \n",
    "               linestyle='--', color='tab:orange', alpha=0.5)\n",
    "\n",
    "    ax[i].set_xticks(np.arange(0,11,1))\n",
    "    ax[i].set_xticklabels(np.arange(0,11,1),fontsize=12)\n",
    "    ax[i].set_ylim(0,1)\n",
    "    ax[i].set_xlim(1,6)\n",
    "    ax[i].grid(axis='both')\n",
    "    ax[i].set_title(var, fontsize=14)\n",
    "#    ax[i].text(0.1,0.05, (\"Mean R$^2$ = \"+str(np.round(np.mean(validation_stats[var]['corr_tot']**2),2))),fontsize=14)\n",
    "    \n",
    "if Insamp==True:     \n",
    "    plt.suptitle(('LIM trained on all months \\n Training years: '+str(850)+'-'+str(int(850+ntrain*1000))+\n",
    "                 ', Validation years: Historical'), fontsize=16)\n",
    "else: \n",
    "    plt.suptitle(('LIM trained on all months'+wt_addin+tr_addin+'\\n Training years: '+tcmip+' '+tmod+' '+texp+' '+\n",
    "                  exp_setup['mod_sic_filename'][-22:-13]+', Validation years: '+vmod+' '+vexp+' '+\n",
    "                  valid_yrs_str), fontsize=16)\n",
    "\n",
    "# ax[i].text(0.1,0.05, (\"Training years: \"+str(850)+'-'+str(850+ntrain*1000)),fontsize=14)\n",
    "# ax[i].text(0.1,0.05, (\"Validation years: \"+str(850+ntrain*1000)+'-1850'),fontsize=14)\n",
    "\n",
    "\n",
    "ax[1].legend(loc='upper right', fontsize=14)\n",
    "ax[2].set_xlabel('Lag (months)', fontsize=14)\n",
    "ax[1].set_xlabel('Lag (months)', fontsize=14)\n",
    "ax[3].set_xlabel('Lag (months)', fontsize=14)\n",
    "\n",
    "plt.subplots_adjust(top=0.9)"
   ]
  },
  {
   "cell_type": "code",
   "execution_count": null,
   "metadata": {},
   "outputs": [],
   "source": [
    "exp_setup['mod_filename']"
   ]
  },
  {
   "cell_type": "code",
   "execution_count": null,
   "metadata": {},
   "outputs": [],
   "source": [
    "fig,axs = plt.subplots(1,1,figsize=(10,6))\n",
    "#fig,axs= plt.subplots(2, 2)\n",
    "\n",
    "for i,var in enumerate(['sic']):\n",
    "    axs.plot(exp_setup['lags'][:],forecast_validation_lags['validation_stats_lags'][var]['corr_tot'][:]**2, \n",
    "               label='Correlation',linewidth=4)\n",
    "    axs.plot(exp_setup['lags'][1:],ar1cast_lags['validation_stats_ar1_lags'][var]['corr_tot'][:-1]**2, \n",
    "               label='AR(1) Correlation',linewidth=4, \n",
    "               linestyle='--', color='tab:blue',alpha=0.5)\n",
    "\n",
    "    axs.plot(exp_setup['lags'][:],forecast_validation_lags['validation_stats_lags'][var]['ce_tot'][:],\n",
    "               label='CE',linewidth=3.0)\n",
    "    axs.plot(exp_setup['lags'][1:],ar1cast_lags['validation_stats_ar1_lags'][var]['ce_tot'][:-1],\n",
    "               label='AR(1) CE',linewidth=3.0, \n",
    "               linestyle='--', color='tab:orange', alpha=0.5)\n",
    "\n",
    "    axs.set_xticks(np.arange(0,11,1))\n",
    "    axs.set_xticklabels(np.arange(0,11,1),fontsize=12)\n",
    "    axs.set_ylim(0,1)\n",
    "    axs.set_xlim(0,8)\n",
    "    axs.grid(axis='both')\n",
    "#    ax.set_title(var, fontsize=14)\n",
    "#    ax[i].text(0.1,0.05, (\"Mean R$^2$ = \"+str(np.round(np.mean(validation_stats[var]['corr_tot']**2),2))),fontsize=14)\n",
    "    \n",
    "if Insamp==True:     \n",
    "    plt.suptitle(('LIM trained on all months \\n Training years: '+str(850)+'-'+str(int(850+ntrain*1000))+\n",
    "                 ', Validation years: Historical'), fontsize=16)\n",
    "else: \n",
    "    plt.suptitle(('LIM trained on all months'+wt_addin+tr_addin+'\\n Training years: '+tcmip+' '+tmod+' '+texp+' '+\n",
    "                  exp_setup['mod_sic_filename'][-22:-13]+', \\nValidation years: '+vmod+' '+vexp+' '+\n",
    "                  valid_yrs_str), fontsize=16)\n",
    "\n",
    "# ax[i].text(0.1,0.05, (\"Training years: \"+str(850)+'-'+str(850+ntrain*1000)),fontsize=14)\n",
    "# ax[i].text(0.1,0.05, (\"Validation years: \"+str(850+ntrain*1000)+'-1850'),fontsize=14)\n",
    "\n",
    "\n",
    "axs.legend(loc='upper right', fontsize=14)\n",
    "axs.set_xlabel('Lag (months)', fontsize=14)\n",
    "axs.set_xlabel('Lag (months)', fontsize=14)\n",
    "axs.set_xlabel('Lag (months)', fontsize=14)\n",
    "\n",
    "plt.subplots_adjust(top=0.85)"
   ]
  },
  {
   "cell_type": "code",
   "execution_count": null,
   "metadata": {},
   "outputs": [],
   "source": [
    "forecast_validation_lags['validation_stats_lags'][var]['corr_tot'][:]**2, forecast_validation_lags['validation_stats_lags'][var]['ce_tot'][:]"
   ]
  },
  {
   "cell_type": "code",
   "execution_count": null,
   "metadata": {},
   "outputs": [],
   "source": [
    "forecast_validation_lags['validation_stats_lags'][var]['gm_rmse'][:]"
   ]
  },
  {
   "cell_type": "code",
   "execution_count": null,
   "metadata": {},
   "outputs": [],
   "source": [
    "fig,axs = plt.subplots(1,1,figsize=(10,6))\n",
    "#fig,axs= plt.subplots(2, 2)\n",
    "\n",
    "for i,var in enumerate(exp_setup['limvars']):\n",
    "    axs.plot(exp_setup['lags'][:],forecast_validation_lags['validation_stats_lags'][var]['gm_rmse'][:], \n",
    "               label='LIM',linewidth=3.0, color='purple')\n",
    "    axs.plot(exp_setup['lags'][1:],ar1cast_lags['validation_stats_ar1_lags'][var]['gm_rmse'][:-1], \n",
    "               label='AR(1)',linewidth=3.0, linestyle='--', color='purple',alpha=0.5)\n",
    "\n",
    "    axs.set_xticks(np.arange(0,11,1))\n",
    "    axs.set_xticklabels(np.arange(0,11,1),fontsize=12)\n",
    "    axs.set_ylim(0,0.018)\n",
    "    axs.set_xlim(0,6)\n",
    "    axs.grid(axis='both')\n",
    "#    axs.set_title(var, fontsize=14)\n",
    "    \n",
    "    axs.axhline(1.0, color='k', linewidth=2, label='No skill')\n",
    "    \n",
    "if Insamp==True:     \n",
    "    plt.suptitle(('LIM trained on all months \\n Training years: '+str(850)+'-'+str(int(850+ntrain*1000))+\n",
    "                 ', Validation years: Historical'), fontsize=16)\n",
    "else:     \n",
    "    plt.suptitle(('LIM trained on all months'+wt_addin+tr_addin+'\\n Training years: '+tcmip+' '+tmod+' '+texp+' '+\n",
    "                  exp_setup['mod_filename'][-22:-13]+', \\nValidation years: '+vmod+' '+vexp+' '+\n",
    "                  valid_yrs_str), fontsize=16)\n",
    "\n",
    "# ax[i].text(0.1,0.05, (\"Training years: \"+str(850)+'-'+str(850+ntrain*1000)),fontsize=14)\n",
    "# ax[i].text(0.1,0.05, (\"Validation years: \"+str(850+ntrain*1000)+'-1850'),fontsize=14)\n",
    "\n",
    "\n",
    "axs.legend(loc='lower right', fontsize=14)\n",
    "axs.set_xlabel('Lag (months)', fontsize=14)\n",
    "axs.set_xlabel('Lag (months)', fontsize=14)\n",
    "axs.set_xlabel('Lag (months)', fontsize=14)\n",
    "axs.set_ylabel('Global mean RMSE', fontsize=14)\n",
    "\n",
    "plt.subplots_adjust(top=0.85)"
   ]
  },
  {
   "cell_type": "code",
   "execution_count": null,
   "metadata": {},
   "outputs": [],
   "source": [
    "fig,axs = plt.subplots(1,1,figsize=(10,6))\n",
    "#fig,axs= plt.subplots(2, 2)\n",
    "\n",
    "for i,var in enumerate(exp_setup['limvars']):\n",
    "    axs.plot(exp_setup['lags'][:],forecast_validation_lags['validation_stats_lags'][var]['gsum_rmse'][:], \n",
    "               label='LIM',linewidth=3.0, color='purple')\n",
    "    axs.plot(exp_setup['lags'][1:],ar1cast_lags['validation_stats_ar1_lags'][var]['gsum_rmse'][:-1], \n",
    "               label='AR(1)',linewidth=3.0, linestyle='--', color='purple',alpha=0.5)\n",
    "\n",
    "    axs.set_xticks(np.arange(0,11,1))\n",
    "    axs.set_xticklabels(np.arange(0,11,1),fontsize=12)\n",
    "#    axs.set_ylim(0,1.2)\n",
    "    axs.set_xlim(0,6)\n",
    "    axs.grid(axis='both')\n",
    "#    axs.set_title(var, fontsize=14)\n",
    "    \n",
    "    axs.axhline(1.0, color='k', linewidth=2, label='No skill')\n",
    "    \n",
    "if Insamp==True:     \n",
    "    plt.suptitle(('LIM trained on all months \\n Training years: '+str(850)+'-'+str(int(850+ntrain*1000))+\n",
    "                 ', Validation years: Historical'), fontsize=16)\n",
    "else:     \n",
    "    plt.suptitle(('LIM trained on all months'+wt_addin+tr_addin+'\\n Training years: '+tcmip+' '+tmod+' '+texp+' '+\n",
    "                  exp_setup['mod_filename'][-22:-13]+', \\nValidation years: '+vmod+' '+vexp+' '+\n",
    "                  valid_yrs_str), fontsize=16)\n",
    "\n",
    "# ax[i].text(0.1,0.05, (\"Training years: \"+str(850)+'-'+str(850+ntrain*1000)),fontsize=14)\n",
    "# ax[i].text(0.1,0.05, (\"Validation years: \"+str(850+ntrain*1000)+'-1850'),fontsize=14)\n",
    "\n",
    "\n",
    "axs.legend(loc='lower right', fontsize=14)\n",
    "axs.set_xlabel('Lag (months)', fontsize=14)\n",
    "axs.set_xlabel('Lag (months)', fontsize=14)\n",
    "axs.set_xlabel('Lag (months)', fontsize=14)\n",
    "axs.set_ylabel('Sum of RMSE (50N)', fontsize=14)\n",
    "\n",
    "plt.subplots_adjust(top=0.85)"
   ]
  },
  {
   "cell_type": "code",
   "execution_count": null,
   "metadata": {},
   "outputs": [],
   "source": [
    "fig,axs = plt.subplots(2,2,figsize=(20,10))\n",
    "#fig,axs= plt.subplots(2, 2)\n",
    "\n",
    "ax = axs.flatten()\n",
    "\n",
    "for i,var in enumerate(exp_setup['limvars']):\n",
    "    ax[i].plot(exp_setup['lags'][:],forecast_validation_lags['validation_stats_lags'][var]['gm_var_ratio'][:], \n",
    "               label='LIM',linewidth=3.0, color='purple')\n",
    "    ax[i].plot(exp_setup['lags'][1:],ar1cast_lags['validation_stats_ar1_lags'][var]['gm_var_ratio'][:-1], \n",
    "               label='AR(1)',linewidth=3.0, linestyle='--', color='purple',alpha=0.5)\n",
    "\n",
    "    ax[i].set_xticks(np.arange(0,11,1))\n",
    "    ax[i].set_xticklabels(np.arange(0,11,1),fontsize=12)\n",
    "    ax[i].set_ylim(0,1.1)\n",
    "    ax[i].set_xlim(0,6)\n",
    "    ax[i].grid(axis='both')\n",
    "    ax[i].set_title(var, fontsize=14)\n",
    "    \n",
    "    ax[i].axhline(1.0, color='k', linewidth=2, label='No skill')\n",
    "    \n",
    "if Insamp==True:     \n",
    "    plt.suptitle(('LIM trained on all months \\n Training years: '+str(850)+'-'+str(int(850+ntrain*1000))+\n",
    "                 ', Validation years: Historical'), fontsize=16)\n",
    "else:     \n",
    "    plt.suptitle(('LIM trained on all months \\n Training years: '+tcmip+' '+tmod+' '+texp+' '+\n",
    "                  exp_setup['mod_filename'][-22:-13]+', Validation years: '+vmod+' '+vexp+' '+\n",
    "                  valid_yrs_str), fontsize=16)\n",
    "\n",
    "# ax[i].text(0.1,0.05, (\"Training years: \"+str(850)+'-'+str(850+ntrain*1000)),fontsize=14)\n",
    "# ax[i].text(0.1,0.05, (\"Validation years: \"+str(850+ntrain*1000)+'-1850'),fontsize=14)\n",
    "\n",
    "\n",
    "ax[1].legend(loc='lower right', fontsize=14)\n",
    "ax[2].set_xlabel('Lag (months)', fontsize=14)\n",
    "ax[1].set_xlabel('Lag (months)', fontsize=14)\n",
    "ax[3].set_xlabel('Lag (months)', fontsize=14)\n",
    "\n",
    "plt.subplots_adjust(top=0.9)"
   ]
  },
  {
   "cell_type": "markdown",
   "metadata": {},
   "source": [
    "## Validation by month: "
   ]
  },
  {
   "cell_type": "code",
   "execution_count": null,
   "metadata": {},
   "outputs": [],
   "source": [
    "fig,axs = plt.subplots(2,2,figsize=(20,9))\n",
    "#fig,axs= plt.subplots(2, 2)\n",
    "\n",
    "ax = axs.flatten()\n",
    "\n",
    "for i,var in enumerate(exp_setup['limvars']):\n",
    "    ax[i].plot(forecast_validation['validation_stats'][var]['corr_tot']**2, label='Correlation',linewidth=3.0)\n",
    "    ax[i].plot(ar1cast['validation_stats_ar1'][var]['corr_tot']**2, label='AR(1) Correlation',linewidth=3.0, \n",
    "               linestyle='--', color='tab:blue',alpha=0.5)\n",
    "\n",
    "    ax[i].plot(forecast_validation['validation_stats'][var]['ce_tot'],label='CE',linewidth=3.0)\n",
    "    ax[i].plot(ar1cast['validation_stats_ar1'][var]['ce_tot'],label='AR(1) CE',linewidth=3.0, \n",
    "               linestyle='--', color='tab:orange', alpha=0.5)\n",
    "\n",
    "    ax[i].set_ylim(0,1)\n",
    "#     ax[i].set_xlim(0,10)\n",
    "    ax[i].set_xticks(np.arange(0,11,1))\n",
    "    ax[i].set_xticklabels(month_names,fontsize=12)#, rotation=45)\n",
    "    ax[i].grid(axis='both')\n",
    "    ax[i].set_title(var, fontsize=14)\n",
    "    mn = np.round(np.mean(forecast_validation['validation_stats'][var]['corr_tot']**2),2)\n",
    "    ax[i].text(0.1,0.05, (\"Mean R$^2$ = \"+str(mn)),fontsize=14)\n",
    "\n",
    "if Insamp==True:     \n",
    "#     plt.suptitle(('LIM trained on all months \\n Training years: '+str(850)+'-'+str(int(850+ntrain*1000))+\n",
    "# #                  ', Validation years: Historical'+str(850)+'-'+str(int(850+ntrain*1000))), fontsize=16)\n",
    "    plt.suptitle(('LIM trained on all months \\n Training years: '+str(850)+'-'+str(int(850+ntrain*1000))+\n",
    "                 ', Validation years: Historical'), fontsize=16)\n",
    "\n",
    "else:     \n",
    "#     plt.suptitle(('LIM trained on all months \\n Training years: '+str(850)+'-'+\n",
    "#                   str(int(850+ntrain*1000))+', Validation years: '+\n",
    "#                   str(int(850+ntrain*1000))+'-'+str(int(850+ntrain*1000+nvalidtimes/12))), fontsize=16)\n",
    "    plt.suptitle(('LIM trained on all months \\n Training years: '+tcmip+' '+tmod+' '+texp+' '+\n",
    "                  exp_setup['mod_filename'][-23:-14]+', Validation years: '+vmod+' '+vexp+' '+\n",
    "                  valid_yrs_str), fontsize=16)\n",
    "\n",
    "# ax[i].text(0.1,0.05, (\"Training years: \"+str(850)+'-'+str(850+ntrain*1000)),fontsize=14)\n",
    "# ax[i].text(0.1,0.05, (\"Validation years: \"+str(850+ntrain*1000)+'-1850'),fontsize=14)\n",
    "\n",
    "\n",
    "ax[3].legend(loc='lower right', fontsize=14)\n",
    "ax[2].set_xlabel('Forecasted month', fontsize=14)\n",
    "ax[3].set_xlabel('Forecasted month', fontsize=14)\n",
    "ax[3].set_xlabel('Forecasted month', fontsize=14)\n",
    "\n",
    "plt.subplots_adjust(top=0.9)"
   ]
  },
  {
   "cell_type": "code",
   "execution_count": null,
   "metadata": {},
   "outputs": [],
   "source": [
    "fig,axs = plt.subplots(1,1,figsize=(10,6))\n",
    "#fig,axs= plt.subplots(2, 2)\n",
    "\n",
    "for i,var in enumerate(['sic']):\n",
    "    axs.plot(forecast_validation['validation_stats'][var]['corr_tot']**2, label='Correlation',linewidth=3.0)\n",
    "    axs.plot(ar1cast['validation_stats_ar1'][var]['corr_tot']**2, label='AR(1) Correlation',linewidth=3.0, \n",
    "               linestyle='--', color='tab:blue',alpha=0.5)\n",
    "\n",
    "    axs.plot(forecast_validation['validation_stats'][var]['ce_tot'],label='CE',linewidth=3.0)\n",
    "    axs.plot(ar1cast['validation_stats_ar1'][var]['ce_tot'],label='AR(1) CE',linewidth=3.0, \n",
    "               linestyle='--', color='tab:orange', alpha=0.5)\n",
    "\n",
    "    axs.set_ylim(0,1)\n",
    "#     ax[i].set_xlim(0,10)\n",
    "    axs.set_xticks(np.arange(0,11,1))\n",
    "    axs.set_xticklabels(month_names,fontsize=12, rotation=45)\n",
    "    axs.grid(axis='both')\n",
    "#    ax[i].set_title(var, fontsize=14)\n",
    "    mn = np.round(np.mean(forecast_validation['validation_stats'][var]['corr_tot']**2),2)\n",
    "    axs.text(0.1,0.05, (\"Mean R$^2$ = \"+str(mn)),fontsize=14)\n",
    "\n",
    "if Insamp==True:     \n",
    "#     plt.suptitle(('LIM trained on all months \\n Training years: '+str(850)+'-'+str(int(850+ntrain*1000))+\n",
    "# #                  ', Validation years: Historical'+str(850)+'-'+str(int(850+ntrain*1000))), fontsize=16)\n",
    "    plt.suptitle(('LIM trained on all months \\n Training years: '+str(850)+'-'+str(int(850+ntrain*1000))+\n",
    "                 ', Validation years: Historical'), fontsize=16)\n",
    "\n",
    "else:     \n",
    "#     plt.suptitle(('LIM trained on all months \\n Training years: '+str(850)+'-'+\n",
    "#                   str(int(850+ntrain*1000))+', Validation years: '+\n",
    "#                   str(int(850+ntrain*1000))+'-'+str(int(850+ntrain*1000+nvalidtimes/12))), fontsize=16)\n",
    "    plt.suptitle(('LIM trained on all months \\n Training years: '+tcmip+' '+tmod+' '+texp+' '+\n",
    "                  exp_setup['mod_sic_filename'][-22:-13]+', \\n Validation years: '+vmod+' '+vexp+' '+\n",
    "                  valid_yrs_str), fontsize=16)\n",
    "\n",
    "# ax[i].text(0.1,0.05, (\"Training years: \"+str(850)+'-'+str(850+ntrain*1000)),fontsize=14)\n",
    "# ax[i].text(0.1,0.05, (\"Validation years: \"+str(850+ntrain*1000)+'-1850'),fontsize=14)\n",
    "\n",
    "\n",
    "axs.legend(loc='lower right', fontsize=14)\n",
    "axs.set_xlabel('Forecasted month', fontsize=14)\n",
    "axs.set_xlabel('Forecasted month', fontsize=14)\n",
    "axs.set_xlabel('Forecasted month', fontsize=14)\n",
    "\n",
    "plt.subplots_adjust(top=0.85)"
   ]
  },
  {
   "cell_type": "code",
   "execution_count": null,
   "metadata": {},
   "outputs": [],
   "source": [
    "fig,axs = plt.subplots(2,2,figsize=(20,9))\n",
    "#fig,axs= plt.subplots(2, 2)\n",
    "\n",
    "ax = axs.flatten()\n",
    "\n",
    "for i,var in enumerate(limvars):\n",
    "    ax[i].plot(forecast_validation['validation_stats'][var]['gm_var_ratio'],linewidth=3.0, color='purple')\n",
    "\n",
    "    ax[i].plot(ar1cast['validation_stats_ar1'][var]['gm_var_ratio'],linewidth=3.0, color='purple', \n",
    "               linestyle='--', alpha=0.5)\n",
    "\n",
    "#    ax[i].set_ylim(0,1)\n",
    "    ax[i].set_xlim(0,10)\n",
    "    ax[i].set_ylim(0,1.1)\n",
    "    ax[i].set_xticks(np.arange(0,11,1))\n",
    "    ax[i].set_xticklabels(month_names,fontsize=12)\n",
    "    ax[i].grid(axis='both')\n",
    "    ax[i].set_title(var, fontsize=16)\n",
    "    ax[i].text(0.15,0.05, (\"Mean ratio = \"+str(np.round(np.mean(forecast_validation['validation_stats'][var]['gm_var_ratio']),2))),\n",
    "               fontsize=14)\n",
    "    ax[i].axhline(1.0,color='k',linestyle='--')\n",
    "\n",
    "if Insamp==True:     \n",
    "#     plt.suptitle(('LIM trained on all months \\n Training years: '+str(850)+'-'+str(int(850+ntrain*1000))+\n",
    "#                  ', Validation years: Historical'+str(850)+'-'+str(int(850+ntrain*1000))), fontsize=16)\n",
    "    plt.suptitle(('LIM trained on all months \\n Training years: '+str(850)+'-'+str(int(850+ntrain*1000))+\n",
    "                 ', Validation years: Historical'), fontsize=16)\n",
    "else:     \n",
    "#     plt.suptitle(('LIM trained on all months \\n Training years: '+str(850)+'-'+\n",
    "#                   str(int(850+ntrain*1000))+', Validation years: '+\n",
    "#                   str(int(850+ntrain*1000))+'-'+str(int(850+ntrain*1000+nvalidtimes/12))), fontsize=16)\n",
    "    plt.suptitle(('LIM trained on all months \\n Training years: '+tcmip+' '+tmod+' '+texp+' '+\n",
    "                  exp_setup['mod_filename'][-23:-14]+', Validation years: '+vmod+' '+vexp+' '+\n",
    "                  valid_yrs_str), fontsize=16)\n",
    "    \n",
    "ax[2].set_xlabel('Forecasted month', fontsize=14)\n",
    "ax[1].set_xlabel('Forecasted month', fontsize=14)\n",
    "ax[3].set_xlabel('Forecasted month', fontsize=14)\n",
    "ax[0].set_ylabel('GM ratio: \\nerror variance to true variance', fontsize=14)\n",
    "\n",
    "plt.subplots_adjust(top=0.9)\n",
    "#plt.tight_layout()"
   ]
  },
  {
   "cell_type": "code",
   "execution_count": null,
   "metadata": {},
   "outputs": [],
   "source": [
    "LIMd['var_dict']['sic']['lat'].shape"
   ]
  },
  {
   "cell_type": "code",
   "execution_count": null,
   "metadata": {},
   "outputs": [],
   "source": [
    "LIMd['var_dict']['sic']['var_ndof']/LIMd['var_dict']['sic']['lat'].shape[0]"
   ]
  },
  {
   "cell_type": "code",
   "execution_count": null,
   "metadata": {},
   "outputs": [],
   "source": []
  },
  {
   "cell_type": "code",
   "execution_count": null,
   "metadata": {},
   "outputs": [],
   "source": []
  },
  {
   "cell_type": "code",
   "execution_count": null,
   "metadata": {},
   "outputs": [],
   "source": [
    "import xarray as xr"
   ]
  },
  {
   "cell_type": "code",
   "execution_count": null,
   "metadata": {},
   "outputs": [],
   "source": [
    "dir_LME = '/home/disk/chaos/mkb22/Documents/SeaIceData/LME/'\n",
    "\n",
    "dataset = xr.open_mfdataset(dir_LME+'b.e11.BLMTRC5CN.f19_g16.0*.aice_nh.185001-200512.nc', \n",
    "                            combine='nested', concat_dim='member')"
   ]
  },
  {
   "cell_type": "code",
   "execution_count": null,
   "metadata": {},
   "outputs": [],
   "source": [
    "dataset = dataset.reset_coords('ULAT',drop=True)\n",
    "dataset = dataset.reset_coords('ULON',drop=True)\n",
    "dataset = dataset.drop('ANGLE')\n",
    "dataset = dataset.drop('ANGLET')\n",
    "dataset = dataset.drop('HTN')\n",
    "dataset = dataset.drop('HTE')\n",
    "dataset = dataset.drop('blkmask')\n",
    "dataset = dataset.drop('dxt')\n",
    "dataset = dataset.drop('dxu')\n",
    "dataset = dataset.drop('dyt')\n",
    "dataset = dataset.drop('dyu')\n",
    "dataset = dataset.drop('latt_bounds')\n",
    "dataset = dataset.drop('latu_bounds')\n",
    "dataset = dataset.drop('lont_bounds')\n",
    "dataset = dataset.drop('lonu_bounds')\n",
    "dataset = dataset.drop('uarea')\n",
    "dataset = dataset.drop('time_bounds')"
   ]
  },
  {
   "cell_type": "code",
   "execution_count": null,
   "metadata": {},
   "outputs": [],
   "source": [
    "dataset = dataset.rename({'aice':'sic','TLON': 'lon','TLAT': 'lat', 'nj':'nlat', 'ni':'nlon'})\n"
   ]
  },
  {
   "cell_type": "code",
   "execution_count": null,
   "metadata": {},
   "outputs": [],
   "source": [
    "dataset.to_netcdf(dir_LME+'siconc_SImon_CESM_LME_nh_185001-200512.nc')"
   ]
  },
  {
   "cell_type": "code",
   "execution_count": null,
   "metadata": {},
   "outputs": [],
   "source": [
    "\n",
    "dataset = xr.open_mfdataset(dir_LME+'siconc_SImon_CESM_LME_nh_*.nc')"
   ]
  },
  {
   "cell_type": "code",
   "execution_count": null,
   "metadata": {},
   "outputs": [],
   "source": []
  },
  {
   "cell_type": "code",
   "execution_count": null,
   "metadata": {},
   "outputs": [],
   "source": [
    "dir_LME_rt = '/home/disk/kalman3/rtardif/LMR/data/model/cesm_lme/'\n",
    "dir_LME = '/home/disk/chaos/mkb22/Documents/SeaIceData/LME/LIMs/'"
   ]
  },
  {
   "cell_type": "code",
   "execution_count": null,
   "metadata": {},
   "outputs": [],
   "source": [
    "data = xr.open_dataset(dir_LME+'sic_SImon_CESM_LME_nh_085101-200512.nc')"
   ]
  },
  {
   "cell_type": "code",
   "execution_count": null,
   "metadata": {},
   "outputs": [],
   "source": [
    "data"
   ]
  },
  {
   "cell_type": "code",
   "execution_count": null,
   "metadata": {},
   "outputs": [],
   "source": [
    "data = data.rename({'aice':'sic','TLON': 'lon','TLAT': 'lat', 'nj':'nlat', 'ni':'nlon'})"
   ]
  },
  {
   "cell_type": "code",
   "execution_count": null,
   "metadata": {},
   "outputs": [],
   "source": [
    "data"
   ]
  },
  {
   "cell_type": "code",
   "execution_count": null,
   "metadata": {},
   "outputs": [],
   "source": [
    "data.to_netcdf(dir_LME+'sic_SImon_CESM_LME_nh_085101-200512_rename.nc')"
   ]
  },
  {
   "cell_type": "code",
   "execution_count": null,
   "metadata": {},
   "outputs": [],
   "source": []
  },
  {
   "cell_type": "code",
   "execution_count": null,
   "metadata": {},
   "outputs": [],
   "source": []
  },
  {
   "cell_type": "code",
   "execution_count": null,
   "metadata": {},
   "outputs": [],
   "source": [
    "dataset.to_netcdf(dir_LME+'sic_SImon_CESM_LME_nh_085001-200512_2.nc')"
   ]
  },
  {
   "cell_type": "code",
   "execution_count": null,
   "metadata": {},
   "outputs": [],
   "source": []
  }
 ],
 "metadata": {
  "kernelspec": {
   "display_name": "Python 3",
   "language": "python",
   "name": "python3"
  },
  "language_info": {
   "codemirror_mode": {
    "name": "ipython",
    "version": 3
   },
   "file_extension": ".py",
   "mimetype": "text/x-python",
   "name": "python",
   "nbconvert_exporter": "python",
   "pygments_lexer": "ipython3",
   "version": "3.6.6"
  }
 },
 "nbformat": 4,
 "nbformat_minor": 2
}
