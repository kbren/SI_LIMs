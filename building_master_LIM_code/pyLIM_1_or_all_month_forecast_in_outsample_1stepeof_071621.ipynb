{
 "cells": [
  {
   "cell_type": "markdown",
   "metadata": {},
   "source": [
    "# LIM forecasting: Train on model data - validate out sample model\n",
    "\n",
    "Katie Brennan  \n",
    "started May 2021  \n",
    "  \n",
    "#### Goals: \n",
    "* Build LIM with all months \n",
    "* Train on: combination of historical and LM simulations\n",
    "* Validate on: different model output, satellite data, historical simulations"
   ]
  },
  {
   "cell_type": "code",
   "execution_count": 1,
   "metadata": {},
   "outputs": [],
   "source": [
    "import sys,os\n",
    "import xarray as xr\n",
    "import numpy as np\n",
    "import scipy as spy\n",
    "import pickle \n",
    "\n",
    "import matplotlib\n",
    "import matplotlib.pyplot as plt\n",
    "import cartopy.crs as ccrs\n",
    "import cartopy.feature as cfeature\n",
    "from cartopy.util import add_cyclic_point\n",
    "from collections import OrderedDict \n",
    "\n",
    "import time as timestamp "
   ]
  },
  {
   "cell_type": "code",
   "execution_count": 2,
   "metadata": {},
   "outputs": [],
   "source": [
    "sys.path.append(\"/home/disk/p/mkb22/Documents/si_analysis_kb/LIMs/SI_LIMs/\")\n",
    "import LIM_utils as lim\n",
    "\n",
    "import LIM_utils_kb as limkb\n",
    "import LIM_stats_kb as statskb\n",
    "import LIM_plot_kb as plotkb\n",
    "import LIM_building as limbuild"
   ]
  },
  {
   "cell_type": "code",
   "execution_count": 3,
   "metadata": {},
   "outputs": [
    {
     "data": {
      "text/plain": [
       "<module 'LIM_building' from '/home/disk/p/mkb22/Documents/si_analysis_kb/LIMs/SI_LIMs/LIM_building.py'>"
      ]
     },
     "execution_count": 3,
     "metadata": {},
     "output_type": "execute_result"
    }
   ],
   "source": [
    "import importlib\n",
    "importlib.reload(limkb)\n",
    "importlib.reload(statskb)\n",
    "importlib.reload(limbuild)"
   ]
  },
  {
   "cell_type": "code",
   "execution_count": 4,
   "metadata": {},
   "outputs": [],
   "source": [
    "# %load_ext autoreload\n",
    "# %autoreload 2"
   ]
  },
  {
   "cell_type": "code",
   "execution_count": 5,
   "metadata": {},
   "outputs": [],
   "source": [
    "arc_proj = dict(projection=ccrs.Stereographic(central_latitude=90,\n",
    "                                              central_longitude=-45,\n",
    "                                              true_scale_latitude=0.1))\n",
    "proj = dict(projection=ccrs.Robinson(central_longitude=0.),zorder=1)"
   ]
  },
  {
   "cell_type": "code",
   "execution_count": 6,
   "metadata": {},
   "outputs": [],
   "source": [
    "month_names = ['Jan','Feb','Mar','Apr','May','June','July','Aug','Sept','Oct','Nov','Dec']"
   ]
  },
  {
   "cell_type": "code",
   "execution_count": 7,
   "metadata": {},
   "outputs": [],
   "source": [
    "# number of EOFs to retain for the LIM state vector\n",
    "ntrunc = 30 # EOF truncation for individual fields (reduced-state space)\n",
    "nmodes = 30 # number of coupled EOFs for LIM state space (truncated-state space)\n",
    "# ntrunc = 50\n",
    "# nmodes = 50\n",
    "#nmodes = 25\n",
    "nmodes_sic = 50\n",
    "#modes_sic = 20\n",
    "\n",
    "mo='all'\n",
    "#mo=0\n",
    "\n",
    "# forecast lead time in months that defines the LIM training\n",
    "tau = 1\n",
    "\n",
    "# training data defined by the first ntrain times\n",
    "# fraction of years used in training\n",
    "# ensures that start year of both train and validation data is january \n",
    "ntrain = 1\n",
    "ntraintimes = 1872\n",
    "#nttrain_valid = 1\n",
    "ntrain_valid = 0.3\n",
    "#nvalidtimes = 1872, \n",
    "nvalidtimes = 3600\n",
    "\n",
    "# variables to include in the LIM (note \"vars\" is a Python command)\n",
    "#limvars = ['tas','zg']\n",
    "#limvars = ['tas','rlut','zg']\n",
    "# limvars = ['sic']\n",
    "#limvars = ['tas','sic']\n",
    "#limvars = ['tas','sic','zg','psl','pr','tos']\n",
    "#limvars = ['tas','psl','tos','sit','sic']\n",
    "# limvars = ['tas','tos','psl','sit','sic']\n",
    "# limvars_nosic = ['tas','tos','psl','sit']\n",
    "#limvars = ['tas','tos','psl','sit','sic']\n",
    "limvars = ['tas','tos','sit','sic']\n",
    "limvars_nosic = ['tas','tos','sit']\n",
    "#limvars_nosic = []\n",
    "nvars = len(limvars)\n",
    "\n",
    "# specify the model source \n",
    "train_dsource = 'mpi_hist_kb'\n",
    "#train_dsource = 'mpi_lm_kb'\n",
    "#valid_dsource = 'mpi_hist_kb'\n",
    "valid_dsource = 'mpi_lm_kb'\n",
    "\n",
    "sic_separate = True\n",
    "#sic_separate = False\n",
    "Insamp = False"
   ]
  },
  {
   "cell_type": "code",
   "execution_count": null,
   "metadata": {},
   "outputs": [],
   "source": []
  },
  {
   "cell_type": "code",
   "execution_count": 8,
   "metadata": {},
   "outputs": [],
   "source": [
    "from datetime import date\n",
    "\n",
    "today = date.today()\n",
    "\n",
    "#Year-month-day\n",
    "today_date = today.strftime(\"%Y%m%d\")"
   ]
  },
  {
   "cell_type": "code",
   "execution_count": 9,
   "metadata": {},
   "outputs": [],
   "source": [
    "import warnings\n",
    "warnings.filterwarnings(\"ignore\")"
   ]
  },
  {
   "cell_type": "code",
   "execution_count": 10,
   "metadata": {},
   "outputs": [
    {
     "name": "stdout",
     "output_type": "stream",
     "text": [
      "Loading from lla_fx_MPI-ESM-P_past1000_r0i0p0.nc\n",
      "Loading from llo_fx_MPI-ESM-P_past1000_r0i0p0.nc\n"
     ]
    }
   ],
   "source": [
    "pi = np.pi\n",
    "\n",
    "# fill continents if plotting SST; otherwise no\n",
    "# if var_to_extract == 'tos':\n",
    "#     noland = True\n",
    "# else:\n",
    "#     noland = False\n",
    "\n",
    "infile_20cr_tas = '/home/disk/kalman3/rtardif/LMR/data/model/20cr/tas_sfc_Amon_20CR_185101-201112.nc'\n",
    "\n",
    "fdic_train = limkb.build_training_dic(train_dsource)\n",
    "fdic_valid = limkb.build_training_dic(valid_dsource)\n",
    "\n",
    "full_names, areawt_name, month_names = limbuild.load_full_names()\n",
    "areacell, areacell_dict = limbuild.load_areacell_dict(fdic_train, remove_climo=False, \n",
    "                                                      detrend=False, verbose=False )"
   ]
  },
  {
   "cell_type": "code",
   "execution_count": 11,
   "metadata": {},
   "outputs": [],
   "source": [
    "# wt=True\n",
    "# var_dict = {}\n",
    "\n",
    "\n",
    "# for k, var in enumerate(['tas']): \n",
    "#     X_var, var_dict = limkb.load_data(var, var_dict, fdic_train, remove_climo=True, \n",
    "#                                       detrend=True, verbose=True)\n",
    "    \n",
    "#     #x_var = X_var[70*12:110*12,:,:]\n",
    "    \n",
    "#     tsamp = X_var.shape[1]\n",
    "    \n",
    "#     acell = areacell[areawt_name[var]]\n",
    "#     if len(acell.shape)>1:\n",
    "#         acell_1d = np.reshape(acell,(acell.shape[0]*acell.shape[1]))\n",
    "#     else: \n",
    "#         acell_1d = acell\n",
    "     \n",
    "#     [Ptrunc, E3, tot_var,\n",
    "#      tot_var_eig, W_all, \n",
    "#      standard_factor, vexp] = limkb.step1_compress_individual_var(X_var, var, ntrunc, nmodes_sic, \n",
    "#                                                             var_dict, areawt=acell_1d,\n",
    "#                                                             wt=wt, sic_separate=False)"
   ]
  },
  {
   "cell_type": "code",
   "execution_count": 12,
   "metadata": {},
   "outputs": [],
   "source": [
    "# var = 'tas'\n",
    "# var_dict = {}\n",
    "\n",
    "# X_var, var_dict = limkb.load_data(var, var_dict, fdic_train, remove_climo=True, \n",
    "#                                   detrend=True, verbose=True)"
   ]
  },
  {
   "cell_type": "code",
   "execution_count": 13,
   "metadata": {},
   "outputs": [],
   "source": [
    "# tsamp = X_var.shape[1]\n",
    "    \n",
    "# acell = areacell[areawt_name[var]]\n",
    "# if len(acell.shape)>1:\n",
    "#     acell_1d = np.reshape(acell,(acell.shape[0]*acell.shape[1]))\n",
    "# else: \n",
    "#     acell_1d = acell"
   ]
  },
  {
   "cell_type": "code",
   "execution_count": 14,
   "metadata": {},
   "outputs": [],
   "source": [
    "# trunc = ntrunc\n",
    "# areawt=acell_1d\n",
    "# wt=True\n",
    "\n",
    "# if len(var_dict[var]['lat'].shape)<2:\n",
    "#     nlon = var_dict[var]['lon'].shape[0]\n",
    "#     nlat = var_dict[var]['lat'].shape[0]\n",
    "#     lat = var_dict[var]['lat'][:,np.newaxis]*np.ones((nlat,nlon))\n",
    "# else: \n",
    "#     lat = var_dict[var]['lat']"
   ]
  },
  {
   "cell_type": "code",
   "execution_count": 15,
   "metadata": {},
   "outputs": [],
   "source": [
    "# [eofs_out, svals_out, pcs_out, \n",
    "#  tot_var, tot_var_eig, \n",
    "#  var_expl_by_retained, W] = limkb.eof_decomp_1var(X_var,lat,var_dict[var]['var_ndof'],\n",
    "#                                                 X_var.shape[1],trunc,areawt=areawt,Weight=wt)\n",
    "# W_all = np.squeeze(W)\n",
    "\n",
    "# # Projection\n",
    "# P_var = np.matmul(eofs_out.T,W*np.nan_to_num(X_var))"
   ]
  },
  {
   "cell_type": "code",
   "execution_count": 16,
   "metadata": {},
   "outputs": [],
   "source": [
    "# print('fraction in first '+str(ntrunc)+ ' '+var+' EOFs = '+str(var_expl_by_retained))"
   ]
  },
  {
   "cell_type": "code",
   "execution_count": 17,
   "metadata": {},
   "outputs": [],
   "source": [
    "# ntime = X_var.shape[1]\n",
    "# standard_factor1 = np.sqrt((np.sum(np.var(P_var,axis=1))))\n",
    "# standard_factor2 = (np.sum(np.var(P_var,axis=1)))\n",
    "# standard_factor3 = np.sqrt(np.sum(svals_out*svals_out))/(ntime-1)\n",
    "# Ptrunc1 = P_var/standard_factor1\n",
    "# Ptrunc2 = P_var/standard_factor2\n",
    "# Ptrunc3 = P_var/standard_factor3"
   ]
  },
  {
   "cell_type": "markdown",
   "metadata": {},
   "source": [
    "## Build L from scratch: "
   ]
  },
  {
   "cell_type": "markdown",
   "metadata": {},
   "source": [
    "### Load pre-truncated training data: "
   ]
  },
  {
   "cell_type": "code",
   "execution_count": 18,
   "metadata": {},
   "outputs": [
    {
     "name": "stdout",
     "output_type": "stream",
     "text": [
      "Loading truncated tas\n",
      "Loading truncated tos\n",
      "Loading truncated sit\n",
      "Loading truncated sic\n",
      "working on tas\n",
      "working on tos\n",
      "working on sit\n",
      "working on sic\n"
     ]
    }
   ],
   "source": [
    "## Start with full training data: \n",
    "# [Ptrunc, Ptrunc_valid, E3, tot_var, \n",
    "#  tot_var_eig, W_all,standard_factor, nyears_train, \n",
    "#  var_dict] = limbuild.load_training_valid_data_full(limvars, fdic_train, mo, areacell, ntrain, \n",
    "#                                                     areawt_name, ntrunc, nmodes_sic, \n",
    "#                                                     sic_separate=sic_separate,\n",
    "#                                                     remove_climo=True,detrend=True, \n",
    "#                                                     wt=True, verbose=True)\n",
    "\n",
    "#limvars = ['tas', 'tos','sit','sic']\n",
    "#limvars = ['sic']\n",
    "\n",
    "# Start with truncated training data: \n",
    "#mod_folder = 'truncated_model_data/last_millennium/'\n",
    "mod_folder = 'truncated_model_data/'\n",
    "#mod_filename = '_ntrunc30_mpi_lm_kb_20210503.pkl'\n",
    "#mod_filename = '_ntrunc30_monthall_ccsm4_hist_kb_20210507_ntrain1_standtest.pkl'\n",
    "mod_filename = '_ntrunc30_monthall_mpi_hist_kb_20210507_ntrain1_standtest.pkl'\n",
    "#mod_filename = '_ntrunc30_mpi_lm_kb_20210507_ntrain0_3_standtest.pkl'\n",
    "#mod_sic_filename = '_ntrunc50_mpi_lm_kb_20210406.pkl'\n",
    "#mod_sic_filename = '_ntrunc50_monthall_ccsm4_hist_kb_20210507_ntrain1_standtest.pkl'\n",
    "mod_sic_filename = '_ntrunc50_monthall_mpi_hist_kb_20210507_ntrain1_standtest.pkl'\n",
    "#mod_sic_filename = '_ntrunc50_month0_mpi_hist_kb_20210727_ntrain1_standtest.pkl'\n",
    "#mod_sic_filename = '_ntrunc50_mpi_lm_kb_20210507_ntrain0_3_standtest.pkl'\n",
    "\n",
    "[Ptrunc, _, E3, tot_var, \n",
    " tot_var_eig, W_all, standard_factor, \n",
    " nyears_train, var_dict] = limbuild.load_training_data_truncated(limvars, mod_folder, mod_sic_filename, \n",
    "                                                                 mod_filename, mo,1,ind_month_trunc=True)\n",
    "\n",
    "var_dict = limbuild.get_var_indices(limvars, var_dict)"
   ]
  },
  {
   "cell_type": "code",
   "execution_count": null,
   "metadata": {},
   "outputs": [],
   "source": []
  },
  {
   "cell_type": "code",
   "execution_count": 19,
   "metadata": {},
   "outputs": [
    {
     "data": {
      "text/plain": [
       "((18432,), (56320,), (56320,))"
      ]
     },
     "execution_count": 19,
     "metadata": {},
     "output_type": "execute_result"
    }
   ],
   "source": [
    "W_all['tas'].shape, W_all['tos'].shape, W_all['sic'].shape"
   ]
  },
  {
   "cell_type": "code",
   "execution_count": 20,
   "metadata": {},
   "outputs": [
    {
     "data": {
      "text/plain": [
       "(1.0, 1.0000000000000002)"
      ]
     },
     "execution_count": 20,
     "metadata": {},
     "output_type": "execute_result"
    }
   ],
   "source": [
    " np.sum(np.var(Ptrunc['sic'],axis=1)),np.sum(np.var(Ptrunc['tas'],axis=1)), #np.sum(np.var(Ptrunc['sit'],axis=1))"
   ]
  },
  {
   "cell_type": "code",
   "execution_count": 21,
   "metadata": {},
   "outputs": [
    {
     "name": "stdout",
     "output_type": "stream",
     "text": [
      "Loading truncated sic\n"
     ]
    }
   ],
   "source": [
    "var = 'sic'\n",
    "if var == 'sic': \n",
    "    mod_fname = mod_sic_filename\n",
    "else: \n",
    "    mod_fname = mod_filename\n",
    "\n",
    "[X_var, v, E3[var], standard_factor[var], \n",
    " W_all[var]] = limkb.load_truncated_data(var, mod_folder, mod_fname)"
   ]
  },
  {
   "cell_type": "code",
   "execution_count": null,
   "metadata": {},
   "outputs": [],
   "source": [
    "# ntime = X_var.shape[1]\n",
    "# nyears_train = int((ntime*ntrain)/12)\n",
    "# nyears_valid = int((ntime*(1-ntrain))/12)\n",
    "\n",
    "# X_t = np.reshape(X_var,(X_var.shape[0],int(ntime/12),12))\n",
    "\n",
    "# X_train = X_t[:,0:nyears_train,mo:mo+2]\n",
    "# X_train_2d = np.reshape(X_train,(X_train.shape[0],nyears_train*2))\n",
    "# X_valid = X_t[:,nyears_train:,mo]"
   ]
  },
  {
   "cell_type": "code",
   "execution_count": null,
   "metadata": {},
   "outputs": [],
   "source": [
    "nyears_valid, nyears_train, X_t.shape, X_train.shape, X_train_2d.shape, X_valid.shape"
   ]
  },
  {
   "cell_type": "code",
   "execution_count": null,
   "metadata": {},
   "outputs": [],
   "source": [
    "# plt.plot(Ptrunc['tas'][0,:])\n",
    "# plt.plot(Ptrunc['tos'][0,:])\n",
    "plt.plot(Ptrunc['sic'][0,:])"
   ]
  },
  {
   "cell_type": "code",
   "execution_count": 22,
   "metadata": {},
   "outputs": [
    {
     "name": "stdout",
     "output_type": "stream",
     "text": [
      "0, tas\n",
      "1, tos\n",
      "2, sit\n"
     ]
    }
   ],
   "source": [
    "ndof_all = limkb.count_ndof_all(limvars, E3, sic_separate=sic_separate)\n",
    "\n",
    "[Ptrunc_all, E3_all, \n",
    "Ptrunc_sic,E_sic] = limkb.stack_variable_eofs(limvars, ndof_all, ntrunc, Ptrunc, E3, \n",
    "                                              var_dict, sic_separate=sic_separate)\n",
    "\n",
    "P_train = np.concatenate((Ptrunc_all, Ptrunc_sic),axis=0)\n",
    "\n",
    "\n",
    "# [P_train, Fvar, E] = limkb.step2_multivariate_compress(Ptrunc_all, nmodes, E3_all, Ptrunc_sic, \n",
    "#                                                        sic_separate=sic_separate, Trunc_truth=False)\n",
    "\n",
    "# [Ptrunc_all, E3_all] = limkb.stack_variable_eofs(limvars, ndof_all, ntrunc, Ptrunc, E3, \n",
    "#                                                  var_dict, sic_separate=sic_separate)\n",
    "\n",
    "# [P_train, Fvar, E] = limkb.step2_multivariate_compress(Ptrunc_all,nmodes, E3_all, 0, \n",
    "#                                                        sic_separate=sic_separate, Trunc_truth=False)"
   ]
  },
  {
   "cell_type": "code",
   "execution_count": 23,
   "metadata": {},
   "outputs": [],
   "source": [
    "# P_train = Ptrunc['sic']\n",
    "# nmo = int(P_train.shape[1]/nyears_train)\n",
    "# nmo, nyears_train"
   ]
  },
  {
   "cell_type": "markdown",
   "metadata": {},
   "source": [
    "## Train LIM: "
   ]
  },
  {
   "cell_type": "code",
   "execution_count": 24,
   "metadata": {},
   "outputs": [
    {
     "name": "stdout",
     "output_type": "stream",
     "text": [
      "Training LIM with tau = 1\n"
     ]
    }
   ],
   "source": [
    "nmo = int(P_train.shape[1]/nyears_train)\n",
    "# nmo = 2\n",
    "P_train_3d = np.reshape(P_train, (P_train.shape[0],nyears_train,nmo))\n",
    "\n",
    "if mo is 'all':\n",
    "    LIMd2, G2 = lim.LIM_train(tau,P_train)\n",
    "    print('Training LIM with tau = '+str(tau))\n",
    "else: \n",
    "    LIMd2, G2 = lim.LIM_train_flex(tau,P_train_3d[:,:,0], P_train_3d[:,:,1])\n",
    "    print('Training LIM with tau = '+str(tau))"
   ]
  },
  {
   "cell_type": "code",
   "execution_count": 25,
   "metadata": {},
   "outputs": [],
   "source": [
    "max_eigenval = np.real(LIMd2['lam_L']).max()\n",
    "\n",
    "if max_eigenval >0: \n",
    "    LIMd2['lam_L_adj'] = LIMd2['lam_L'] - (max_eigenval+0.01)\n",
    "else: \n",
    "    LIMd2['lam_L_adj'] = LIMd2['lam_L']"
   ]
  },
  {
   "cell_type": "markdown",
   "metadata": {},
   "source": [
    "#### Any positive eigenvalues in L?"
   ]
  },
  {
   "cell_type": "code",
   "execution_count": 26,
   "metadata": {},
   "outputs": [
    {
     "data": {
      "text/plain": [
       "0.0"
      ]
     },
     "execution_count": 26,
     "metadata": {},
     "output_type": "execute_result"
    }
   ],
   "source": [
    "(LIMd2['lam_L']>0).sum()/(LIMd2['lam_L'].shape[0])"
   ]
  },
  {
   "cell_type": "markdown",
   "metadata": {},
   "source": [
    "## Load and project validation data (when different than training data): "
   ]
  },
  {
   "cell_type": "code",
   "execution_count": 27,
   "metadata": {},
   "outputs": [
    {
     "name": "stdout",
     "output_type": "stream",
     "text": [
      "Validation data: mpi_lm_kb\n",
      "Loading from tas\n",
      "Loading from MPI-ESM-P_past1000_085001-184912.nc\n",
      "removing climotology...\n",
      "detrending...\n",
      "(18432, 12000)\n",
      "(18432, 12000)\n",
      "-----------------------------------------------------\n",
      "completed in 26.629924535751343 seconds\n",
      "-----------------------------------------------------\n",
      "Validation data: mpi_lm_kb\n",
      "Loading from tos\n",
      "Loading from MPI-ESM-P_past1000_085001-184912.nc\n",
      "removing climotology...\n",
      "detrending...\n",
      "(56320, 12000)\n",
      "(56320, 12000)\n",
      "-----------------------------------------------------\n",
      "completed in 75.50167608261108 seconds\n",
      "-----------------------------------------------------\n",
      "Validation data: mpi_lm_kb\n",
      "Loading from sit\n",
      "Loading from MPI-ESM-P_past1000_085001-185012.nc\n",
      "removing climotology...\n",
      "detrending...\n",
      "(56320, 12000)\n",
      "(56320, 12000)\n",
      "-----------------------------------------------------\n",
      "completed in 110.73201608657837 seconds\n",
      "-----------------------------------------------------\n",
      "Validation data: mpi_lm_kb\n",
      "Loading from sic\n",
      "Loading from MPI-ESM-P_past1000_085001-185012.nc\n",
      "removing climotology...\n",
      "detrending...\n",
      "(56320, 12000)\n",
      "(56320, 12000)\n",
      "-----------------------------------------------------\n",
      "completed in 108.32893586158752 seconds\n",
      "-----------------------------------------------------\n"
     ]
    }
   ],
   "source": [
    "Ptrunc_valid = {}\n",
    "var_dict_valid = {}\n",
    "\n",
    "for k, var in enumerate(limvars): \n",
    "    print('Validation data: '+valid_dsource)\n",
    "    X_var, var_dict_valid = limkb.load_data(var, var_dict_valid, fdic_valid, remove_climo=True, \n",
    "                                            detrend=True, verbose=True)\n",
    "        \n",
    "    Ptrunc_valid[var] = limkb.step1_projection_validation_var(X_var[:,0:3600], E3[var], standard_factor[var],\n",
    "                                                              W_all[var])"
   ]
  },
  {
   "cell_type": "code",
   "execution_count": 31,
   "metadata": {},
   "outputs": [
    {
     "data": {
      "text/plain": [
       "((56320, 12000), (56320,), 'sic')"
      ]
     },
     "execution_count": 31,
     "metadata": {},
     "output_type": "execute_result"
    }
   ],
   "source": [
    "X_var.shape, W_all[var].shape, var"
   ]
  },
  {
   "cell_type": "code",
   "execution_count": 32,
   "metadata": {},
   "outputs": [
    {
     "name": "stdout",
     "output_type": "stream",
     "text": [
      "working on tas\n",
      "working on tos\n",
      "working on sit\n",
      "working on sic\n",
      "0, tas\n",
      "1, tos\n",
      "2, sit\n"
     ]
    },
    {
     "data": {
      "text/plain": [
       "(140, 3600)"
      ]
     },
     "execution_count": 32,
     "metadata": {},
     "output_type": "execute_result"
    }
   ],
   "source": [
    "var_dict_valid = limbuild.get_var_indices(limvars, var_dict_valid)\n",
    "ndof_all_valid = limkb.count_ndof_all(limvars, E3, sic_separate=sic_separate)\n",
    "\n",
    "[Ptrunc_all_valid, E3_all_valid,\n",
    " Ptrunc_sic_valid, E_sic_valid] = limkb.stack_variable_eofs(limvars, ndof_all_valid, ntrunc, Ptrunc_valid,\n",
    "                                                            E3, var_dict_valid, sic_separate=sic_separate)\n",
    "# [Ptrunc_all_valid, E3_all_valid] = limkb.stack_variable_eofs(limvars, ndof_all_valid, ntrunc, Ptrunc_valid,\n",
    "#                                                             E3, var_dict_valid, sic_separate=sic_separate)\n",
    "\n",
    "P_train_valid = np.concatenate((Ptrunc_all_valid, Ptrunc_sic_valid),axis=0)\n",
    "P_train_valid.shape\n",
    "\n",
    "# [P_train_valid, Fvar_valid, \n",
    "#  E_valid] = limkb.step2_multivariate_compress(Ptrunc_all_valid,nmodes, E3_all_valid, Ptrunc_sic_valid,\n",
    "#                                               sic_separate=sic_separate, Trunc_truth=False)"
   ]
  },
  {
   "cell_type": "code",
   "execution_count": 33,
   "metadata": {},
   "outputs": [],
   "source": [
    "sic_decomp = np.matmul(E3['sic'],Ptrunc_valid['sic'])\n",
    "sic_dcomp = limkb.unweight_decompressed_vars(sic_decomp, ['sic'], var_dict, W_all)"
   ]
  },
  {
   "cell_type": "markdown",
   "metadata": {},
   "source": [
    "#### Checks: "
   ]
  },
  {
   "cell_type": "code",
   "execution_count": null,
   "metadata": {},
   "outputs": [],
   "source": [
    "var_dict_test ={}\n",
    "X_var,_ = limkb.load_data('sic', var_dict_test, fdic_valid, remove_climo=True, \n",
    "                           detrend=True, verbose=True)"
   ]
  },
  {
   "cell_type": "code",
   "execution_count": null,
   "metadata": {},
   "outputs": [],
   "source": [
    "i = 1070\n",
    "plt.plot(X_var[i,:], label='original')\n",
    "plt.plot(sic_dcomp[i,:], label='decomp')\n",
    "plt.title('SIC')\n",
    "plt.legend()"
   ]
  },
  {
   "cell_type": "code",
   "execution_count": null,
   "metadata": {},
   "outputs": [],
   "source": [
    "tas_decomp = np.matmul(E3['tas'],Ptrunc_valid['tas'])\n",
    "tas_dcomp = limkb.unweight_decompressed_vars(tas_decomp, ['tas'], var_dict, W_all)"
   ]
  },
  {
   "cell_type": "code",
   "execution_count": null,
   "metadata": {},
   "outputs": [],
   "source": [
    "var_dict_test ={}\n",
    "X_var,_ = limkb.load_data('tas', var_dict_test, fdic_valid, remove_climo=True, \n",
    "                           detrend=True, verbose=True)"
   ]
  },
  {
   "cell_type": "code",
   "execution_count": null,
   "metadata": {},
   "outputs": [],
   "source": [
    "i = 1070\n",
    "plt.plot(X_var[i,:], label='original')\n",
    "plt.plot(tas_dcomp[i,:], label='decomp')\n",
    "plt.title('TAS')\n",
    "plt.legend()"
   ]
  },
  {
   "cell_type": "code",
   "execution_count": null,
   "metadata": {},
   "outputs": [],
   "source": [
    "np.sum(np.var(P_train_valid[0:30,:],axis=1)), np.sum(np.var(P_train_valid[30:60,:],axis=1)), np.sum(np.var(P_train_valid[60:,:],axis=1))"
   ]
  },
  {
   "cell_type": "code",
   "execution_count": null,
   "metadata": {},
   "outputs": [],
   "source": [
    "plt.plot(P_train_valid[0,:])\n",
    "plt.plot(P_train_valid[30,:])\n",
    "plt.plot(P_train_valid[60,:])"
   ]
  },
  {
   "cell_type": "markdown",
   "metadata": {},
   "source": [
    "## Run Forecast: "
   ]
  },
  {
   "cell_type": "code",
   "execution_count": 34,
   "metadata": {},
   "outputs": [],
   "source": [
    "#nvalidtimes = 1872, \n",
    "nvalidtimes = 3600"
   ]
  },
  {
   "cell_type": "code",
   "execution_count": 35,
   "metadata": {},
   "outputs": [
    {
     "name": "stdout",
     "output_type": "stream",
     "text": [
      "Using all months\n",
      "Performing out of sample forecast\n",
      "Adjust is True...\n",
      "NO negative eigenvalue found...\n",
      "t= 0\n",
      "t= 1\n",
      "t= 2\n",
      "t= 3\n",
      "t= 4\n"
     ]
    }
   ],
   "source": [
    "# LIM forecasts for a range of monthly values (can specify a list of arbitrary values too)\n",
    "lags = [0,1,2,3,4]\n",
    "#lags = [0,1,2]\n",
    "ntims = len(lags)\n",
    "adj = True\n",
    "\n",
    "nyr_train = nyears_train\n",
    "\n",
    "if mo == 'all':\n",
    "    print('Using all months')\n",
    "    if Insamp==True: \n",
    "        print('Performing in sample forecast')\n",
    "        LIM_fcast = limkb.LIM_forecast(LIMd2,P_train[:,0:nyr_train],lags,adjust=adj)\n",
    "    else: \n",
    "        print('Performing out of sample forecast')\n",
    "        LIM_fcast = limkb.LIM_forecast(LIMd2,P_train_valid[:,0:nvalidtimes],lags,adjust=adj)\n",
    "#        LIM_fcast = limkb.LIM_forecast(LIMd2,P_train_valid[:,0:nvalidtimes],lags,adjust=adj)\n",
    "#        LIM_fcast = limkb.LIM_forecast(LIMd2,P_train_valid[:,70*12:111*12],lags,adjust=adj)\n",
    "else: \n",
    "    print('Using individual months')\n",
    "    if Insamp==True: \n",
    "        print('Performing in sample forecast')\n",
    "        P_train_2d = np.reshape(P_train, (P_train.shape[0],int(P_train.shape[1]/2),2))\n",
    "        LIM_fcast = limkb.LIM_forecast(LIMd2,P_train_2d[:,:,0],lags,adjust=adj)\n",
    "    else: \n",
    "        print('Performing out of sample forecast')\n",
    "#        LIM_fcast = limkb.LIM_forecast(LIMd2,P_train_valid,lags,adjust=adj)\n",
    "        LIM_fcast = limkb.LIM_forecast(LIMd2,P_train_valid,lags,adjust=adj)\n",
    "    \n",
    "#LIM_fcast = LIM_forecast_Gt(LIMd2,P_train_valid,lags)"
   ]
  },
  {
   "cell_type": "code",
   "execution_count": 36,
   "metadata": {},
   "outputs": [
    {
     "ename": "KeyError",
     "evalue": "'lam'",
     "output_type": "error",
     "traceback": [
      "\u001b[0;31m---------------------------------------------------------------------------\u001b[0m",
      "\u001b[0;31mKeyError\u001b[0m                                  Traceback (most recent call last)",
      "\u001b[0;32m<ipython-input-36-c1d858d4844b>\u001b[0m in \u001b[0;36m<module>\u001b[0;34m()\u001b[0m\n\u001b[0;32m----> 1\u001b[0;31m \u001b[0mLIMd2\u001b[0m\u001b[0;34m[\u001b[0m\u001b[0;34m'lam'\u001b[0m\u001b[0;34m]\u001b[0m\u001b[0;34m\u001b[0m\u001b[0m\n\u001b[0m",
      "\u001b[0;31mKeyError\u001b[0m: 'lam'"
     ]
    }
   ],
   "source": [
    "LIMd2['lam']"
   ]
  },
  {
   "cell_type": "code",
   "execution_count": null,
   "metadata": {},
   "outputs": [],
   "source": [
    "t=0\n",
    "Gt = np.matmul(np.matmul(LIMd2['vec'],np.diag(np.exp(LIMd2['lam_L_adj']*t))),LIMd2['veci'])\n",
    "LIMd2['vec'].shape"
   ]
  },
  {
   "cell_type": "code",
   "execution_count": null,
   "metadata": {},
   "outputs": [],
   "source": [
    "LIM_fcast['x_forecast'].shape[2],E3_all.shape[0]+E_sic.shape[0],len(lags)"
   ]
  },
  {
   "cell_type": "markdown",
   "metadata": {},
   "source": [
    "## Decompress forecast and validate:"
   ]
  },
  {
   "cell_type": "code",
   "execution_count": 37,
   "metadata": {},
   "outputs": [
    {
     "name": "stdout",
     "output_type": "stream",
     "text": [
      "Lag 0\n",
      "Lag 1\n",
      "Lag 2\n",
      "Lag 3\n",
      "Lag 4\n"
     ]
    }
   ],
   "source": [
    "x_forecast_dcomp = np.zeros((len(lags),E3_all.shape[0]+E_sic.shape[0],LIM_fcast['x_forecast'].shape[2]))\n",
    "nmodes = E3_all.shape[1]\n",
    "\n",
    "for i,lag in enumerate(lags):\n",
    "    print('Lag '+ str(lag))\n",
    "    x_forecast_dcomp[i,:,:] = limkb.decompress_eof_separate_sic(LIM_fcast['x_forecast'][i,:,:],\n",
    "                                                                nmodes,nmodes_sic,E3_all,\n",
    "                                                                E_sic,limvars,var_dict,\n",
    "                                                                W_all,Weights=True,\n",
    "                                                                sic_separate=sic_separate)"
   ]
  },
  {
   "cell_type": "code",
   "execution_count": null,
   "metadata": {},
   "outputs": [],
   "source": [
    "x_forecast_dcomp.shape, LIM_fcast['x_forecast'].shape, var_dict['tas']['lat'].shape,var_dict['tas']['lon'].shape"
   ]
  },
  {
   "cell_type": "markdown",
   "metadata": {},
   "source": [
    "## AR(1) Forecast: "
   ]
  },
  {
   "cell_type": "code",
   "execution_count": null,
   "metadata": {},
   "outputs": [],
   "source": [
    "nyearsvalid = 300"
   ]
  },
  {
   "cell_type": "code",
   "execution_count": null,
   "metadata": {},
   "outputs": [],
   "source": [
    "forecast, ar1_factor = statskb.red_noise_forecast_ar1(P_train.T, P_train_valid.T, lead=1)"
   ]
  },
  {
   "cell_type": "code",
   "execution_count": null,
   "metadata": {},
   "outputs": [],
   "source": [
    "nmodes = E3_all.shape[1]\n",
    "ar1_forecast_dcomp = np.zeros((E3_all.shape[0]+ E_sic.shape[0],nyearsvalid*12))\n",
    "\n",
    "ar1_forecast_dcomp[:,1:] = limkb.decompress_eof_separate_sic(forecast.T,nmodes,nmodes_sic,E3_all,\n",
    "                                                             E_sic,limvars,var_dict,W_all,Weights=True,\n",
    "                                                             sic_separate=sic_separate)\n",
    "\n",
    "forecast_ar1_mo = np.reshape(ar1_forecast_dcomp, (ar1_forecast_dcomp.shape[0],nyearsvalid,12))"
   ]
  },
  {
   "cell_type": "code",
   "execution_count": null,
   "metadata": {},
   "outputs": [],
   "source": [
    "# validvars = ['tas','sic']\n",
    "validvars = limvars\n",
    "# validvars = ['psl']\n",
    "months=[0,1,2,3,4,5,6,7,8,9,10]\n",
    "lag=None\n",
    "validation_stats_ar1 = {}\n",
    "st=0\n",
    "\n",
    "for k, var in enumerate(validvars):\n",
    "    valid_stats_ar1 = {}\n",
    "    v = {}\n",
    "    X_var, _ = limkb.load_data(var, v, fdic_valid, remove_climo=True, detrend=True, verbose=True)\n",
    "    \n",
    "    corr_tot = np.zeros((len(months)))\n",
    "    ce_tot = np.zeros((len(months)))\n",
    "    gm_var_ratio = np.zeros((len(months)))\n",
    "    \n",
    "    for i,m in enumerate(months):\n",
    "        print('Month '+str(m))\n",
    "        \n",
    "        [truth_anom, forecast_anom] = limbuild.gather_truth_forecast_allmo(lag,var,m,X_var[:,:nyearsvalid*12],\n",
    "                                                                           forecast_ar1_mo[:,:,m],\n",
    "                                                                           var_dict,ntrain_valid,0,insamp=False)\n",
    "        st = st + var_dict[var]['var_ndof']\n",
    "        \n",
    "        print('Truth_anom shape: '+str(truth_anom.shape))\n",
    "        print('Forecast_anom shape: '+str(forecast_anom.shape))\n",
    "\n",
    "#         [corr_tot[i], ce_tot[i], gm_var_ratio[i], tot_var_forecast, \n",
    "#          tot_var_truth] = limbuild.calc_validataion_stats(var, truth_anom[:,70:111], forecast_anom, var_dict,\n",
    "#                                                           areacell,areacell_dict,\n",
    "#                                                           areawt_name,month_names,iplot=True)\n",
    "        [corr_tot[i], ce_tot[i], gm_var_ratio[i], tot_var_forecast, \n",
    "         tot_var_truth] = limbuild.calc_validataion_stats(var, truth_anom, forecast_anom, var_dict,\n",
    "                                                          areacell,areacell_dict,\n",
    "                                                          areawt_name,month_names,iplot=True)\n",
    "        \n",
    "    valid_stats_ar1['corr_tot'] = corr_tot\n",
    "    valid_stats_ar1['ce_tot'] = ce_tot\n",
    "    valid_stats_ar1['gm_var_ratio'] = gm_var_ratio\n",
    "    \n",
    "    validation_stats_ar1[var] = valid_stats_ar1\n",
    "    \n",
    "    del X_var"
   ]
  },
  {
   "cell_type": "code",
   "execution_count": null,
   "metadata": {},
   "outputs": [],
   "source": [
    "corr_plot_ar1 = np.zeros((12))\n",
    "corr_plot_ar1[0] = validation_stats_ar1[var]['corr_tot'][-1]\n",
    "corr_plot_ar1[1:-1] = validation_stats_ar1[var]['corr_tot'][:-1]\n",
    "\n",
    "ce_plot_ar1 = np.zeros((12))\n",
    "ce_plot_ar1[0] = validation_stats_ar1[var]['ce_tot'][-1]\n",
    "ce_plot_ar1[1:-1] = validation_stats_ar1[var]['ce_tot'][:-1]\n",
    "\n",
    "ratio_plot_ar1 = np.zeros((12))\n",
    "ratio_plot_ar1[0] = validation_stats_ar1[var]['gm_var_ratio'][-1]\n",
    "ratio_plot_ar1[1:-1] = validation_stats_ar1[var]['gm_var_ratio'][:-1]"
   ]
  },
  {
   "cell_type": "code",
   "execution_count": null,
   "metadata": {},
   "outputs": [],
   "source": []
  },
  {
   "cell_type": "markdown",
   "metadata": {},
   "source": [
    "### All months: break up my month"
   ]
  },
  {
   "cell_type": "code",
   "execution_count": null,
   "metadata": {},
   "outputs": [],
   "source": [
    "month_names = ['Jan','Feb','Mar','Apr','May','June','July','Aug','Sept','Oct','Nov']"
   ]
  },
  {
   "cell_type": "code",
   "execution_count": null,
   "metadata": {},
   "outputs": [],
   "source": [
    "x_forecast_dcomp_mo = np.reshape(x_forecast_dcomp, (x_forecast_dcomp.shape[0], x_forecast_dcomp.shape[1], \n",
    "                                                    int(x_forecast_dcomp.shape[2]/12),12))\n",
    "\n",
    "x_forecast_dcomp_mo.shape"
   ]
  },
  {
   "cell_type": "code",
   "execution_count": null,
   "metadata": {},
   "outputs": [],
   "source": [
    "#validvars = ['tas','tos','sic']\n",
    "validvars = limvars\n",
    "# validvars = ['psl']\n",
    "months=[0,1,2,3,4,5,6,7,8,9,10]\n",
    "lag=1\n",
    "validation_stats = {}\n",
    "\n",
    "for k, var in enumerate(validvars):\n",
    "    valid_stats = {}\n",
    "    v = {}\n",
    "    X_var, _ = limkb.load_data(var, v, fdic_valid, remove_climo=True, detrend=True, verbose=True)\n",
    "    \n",
    "    corr_tot = np.zeros((len(months)))\n",
    "    ce_tot = np.zeros((len(months)))\n",
    "    gm_var_ratio = np.zeros((len(months)))\n",
    "    \n",
    "    for i,m in enumerate(months):\n",
    "        print('Month '+str(m))\n",
    "        [truth_anom, forecast_anom] = limbuild.gather_truth_forecast_allmo(lag,var,m,X_var,\n",
    "                                                                           x_forecast_dcomp_mo[:,:,:,m],\n",
    "                                                                           var_dict,ntrain_valid,0,insamp=False)\n",
    "        print('Truth_anom shape: '+str(truth_anom.shape))\n",
    "        print('Forecast_anom shape: '+str(forecast_anom.shape))\n",
    "\n",
    "#         [corr_tot[i], ce_tot[i], gm_var_ratio[i], tot_var_forecast, \n",
    "#          tot_var_truth] = limbuild.calc_validataion_stats(var, truth_anom[:,70:111], forecast_anom, var_dict,\n",
    "#                                                           areacell,areacell_dict,\n",
    "#                                                           areawt_name,month_names,iplot=True)\n",
    "        [corr_tot[i], ce_tot[i], gm_var_ratio[i], tot_var_forecast, \n",
    "         tot_var_truth] = limbuild.calc_validataion_stats(var, truth_anom, forecast_anom, var_dict,\n",
    "                                                          areacell,areacell_dict,\n",
    "                                                          areawt_name,month_names,iplot=True)\n",
    "        \n",
    "    valid_stats['corr_tot'] = corr_tot\n",
    "    valid_stats['ce_tot'] = ce_tot\n",
    "    valid_stats['gm_var_ratio'] = gm_var_ratio\n",
    "    \n",
    "    validation_stats[var] = valid_stats\n",
    "    \n",
    "    del X_var"
   ]
  },
  {
   "cell_type": "code",
   "execution_count": null,
   "metadata": {},
   "outputs": [],
   "source": [
    "for i,var in enumerate(validvars):\n",
    "    print(var +': ' + str(np.mean(validation_stats[var]['corr_tot']**2)))"
   ]
  },
  {
   "cell_type": "code",
   "execution_count": null,
   "metadata": {
    "scrolled": true
   },
   "outputs": [],
   "source": [
    "fig,axs = plt.subplots(2,3,figsize=(20,8))\n",
    "#fig,axs= plt.subplots(2, 2)\n",
    "\n",
    "ax = axs.flatten()\n",
    "\n",
    "for i,var in enumerate(['tas','tos','sic','sit']):\n",
    "    ax[i].plot(validation_stats[var]['corr_tot']**2, label='Correlation',linewidth=3.0)\n",
    "    ax[i].plot(validation_stats_ar1[var]['corr_tot']**2, label='AR(1) Correlation',linewidth=3.0, \n",
    "               linestyle='--', color='tab:blue',alpha=0.5)\n",
    "\n",
    "    ax[i].plot(validation_stats[var]['ce_tot'],label='CE',linewidth=3.0)\n",
    "    ax[i].plot(validation_stats_ar1[var]['ce_tot'],label='AR(1) CE',linewidth=3.0, \n",
    "               linestyle='--', color='tab:orange', alpha=0.5)\n",
    "\n",
    "    ax[i].set_ylim(0,1)\n",
    "#     ax[i].set_xlim(0,10)\n",
    "    ax[i].set_xticks(np.arange(0,11,1))\n",
    "    ax[i].set_xticklabels(month_names,fontsize=12)\n",
    "    ax[i].grid(axis='both')\n",
    "    ax[i].set_title(var, fontsize=14)\n",
    "    ax[i].text(0.1,0.05, (\"Mean R$^2$ = \"+str(np.round(np.mean(validation_stats[var]['corr_tot']**2),2))),fontsize=14)\n",
    "\n",
    "if Insamp==True:     \n",
    "#     plt.suptitle(('LIM trained on all months \\n Training years: '+str(850)+'-'+str(int(850+ntrain*1000))+\n",
    "# #                  ', Validation years: Historical'+str(850)+'-'+str(int(850+ntrain*1000))), fontsize=16)\n",
    "    plt.suptitle(('LIM trained on all months \\n Training years: '+str(850)+'-'+str(int(850+ntrain*1000))+\n",
    "                 ', Validation years: Historical'), fontsize=16)\n",
    "\n",
    "else:     \n",
    "#     plt.suptitle(('LIM trained on all months \\n Training years: '+str(850)+'-'+\n",
    "#                   str(int(850+ntrain*1000))+', Validation years: '+\n",
    "#                   str(int(850+ntrain*1000))+'-'+str(int(850+ntrain*1000+nvalidtimes/12))), fontsize=16)\n",
    "    plt.suptitle(('LIM trained on all months \\n Training years: Historical 1850-2005'+\n",
    "                  ', Validation years: LM '+str(850)+'-'+str(int(850+ntrain_valid*1000))), fontsize=16)\n",
    "\n",
    "# ax[i].text(0.1,0.05, (\"Training years: \"+str(850)+'-'+str(850+ntrain*1000)),fontsize=14)\n",
    "# ax[i].text(0.1,0.05, (\"Validation years: \"+str(850+ntrain*1000)+'-1850'),fontsize=14)\n",
    "\n",
    "\n",
    "ax[0].legend(loc='lower right', fontsize=14)\n",
    "ax[2].set_xlabel('Forecasted month', fontsize=14)\n",
    "ax[1].set_xlabel('Forecasted month', fontsize=14)\n",
    "ax[3].set_xlabel('Forecasted month', fontsize=14)\n",
    "\n",
    "plt.subplots_adjust(top=0.8)"
   ]
  },
  {
   "cell_type": "code",
   "execution_count": null,
   "metadata": {},
   "outputs": [],
   "source": [
    "for i,var in enumerate(limvars):\n",
    "    print(var +': ' + str(np.mean(validation_stats[var]['gm_var_ratio'])))"
   ]
  },
  {
   "cell_type": "code",
   "execution_count": null,
   "metadata": {},
   "outputs": [],
   "source": [
    "fig,axs = plt.subplots(2,3,figsize=(20,8))\n",
    "#fig,axs= plt.subplots(2, 2)\n",
    "\n",
    "ax = axs.flatten()\n",
    "\n",
    "for i,var in enumerate(['tas','tos','sic','sit']):\n",
    "    ax[i].plot(validation_stats[var]['gm_var_ratio'],linewidth=3.0, color='purple')\n",
    "\n",
    "    ax[i].plot(validation_stats_ar1[var]['gm_var_ratio'],linewidth=3.0, color='purple', \n",
    "               linestyle='--', alpha=0.5)\n",
    "\n",
    "#    ax[i].set_ylim(0,1)\n",
    "    ax[i].set_xlim(0,10)\n",
    "    ax[i].set_ylim(0,1.1)\n",
    "    ax[i].set_xticks(np.arange(0,11,1))\n",
    "    ax[i].set_xticklabels(month_names,fontsize=12)\n",
    "    ax[i].grid(axis='both')\n",
    "    ax[i].set_title(var, fontsize=16)\n",
    "    ax[i].text(0.15,0.05, (\"Mean ratio = \"+str(np.round(np.mean(validation_stats[var]['gm_var_ratio']),2))),\n",
    "               fontsize=14)\n",
    "    ax[i].axhline(1.0,color='k',linestyle='--')\n",
    "\n",
    "if Insamp==True:     \n",
    "#     plt.suptitle(('LIM trained on all months \\n Training years: '+str(850)+'-'+str(int(850+ntrain*1000))+\n",
    "#                  ', Validation years: Historical'+str(850)+'-'+str(int(850+ntrain*1000))), fontsize=16)\n",
    "    plt.suptitle(('LIM trained on all months \\n Training years: '+str(850)+'-'+str(int(850+ntrain*1000))+\n",
    "                 ', Validation years: Historical'), fontsize=16)\n",
    "else:     \n",
    "#     plt.suptitle(('LIM trained on all months \\n Training years: '+str(850)+'-'+\n",
    "#                   str(int(850+ntrain*1000))+', Validation years: '+\n",
    "#                   str(int(850+ntrain*1000))+'-'+str(int(850+ntrain*1000+nvalidtimes/12))), fontsize=16)\n",
    "    plt.suptitle(('LIM trained on all months \\n Training years: Historical 1850-2005, Validation years: LM '+\n",
    "                  str(850)+'-'+str(int(850+ntrain_valid*1000))), fontsize=16)\n",
    "    \n",
    "ax[2].set_xlabel('Forecasted month', fontsize=14)\n",
    "ax[1].set_xlabel('Forecasted month', fontsize=14)\n",
    "ax[3].set_xlabel('Forecasted month', fontsize=14)\n",
    "ax[0].set_ylabel('GM ratio: \\nerror variance to true variance', fontsize=14)\n",
    "\n",
    "plt.subplots_adjust(top=0.8)\n",
    "#plt.tight_layout()"
   ]
  },
  {
   "cell_type": "markdown",
   "metadata": {},
   "source": [
    "### Validate all lags: "
   ]
  },
  {
   "cell_type": "code",
   "execution_count": null,
   "metadata": {},
   "outputs": [],
   "source": [
    "ar1_forecast_dcomp_lag = np.zeros((len(lags[1:]),E3_all.shape[0]+ E_sic.shape[0],nyearsvalid*12))\n",
    "\n",
    "for l,lag in enumerate(lags[1:]):\n",
    "    forecast, ar1_factor = statskb.red_noise_forecast_ar1(P_train.T, P_train_valid.T, lead=lag)\n",
    "\n",
    "    nmodes = E3_all.shape[1]\n",
    "    ar1_forecast_dcomp = np.zeros((E3_all.shape[0]+ E_sic.shape[0],nyearsvalid*12))\n",
    "\n",
    "    ar1_forecast_dcomp_lag[l,:,lag:] = limkb.decompress_eof_separate_sic(forecast.T,nmodes,nmodes_sic,E3_all,\n",
    "                                                                       E_sic,limvars,var_dict,W_all,Weights=True,\n",
    "                                                                       sic_separate=sic_separate)"
   ]
  },
  {
   "cell_type": "code",
   "execution_count": null,
   "metadata": {
    "scrolled": true
   },
   "outputs": [],
   "source": [
    "#validvars = ['tas','tos','sic']\n",
    "validvars = limvars\n",
    "# validvars = ['psl']\n",
    "lag=None\n",
    "validation_stats_ar1_lags = {}\n",
    "st=0\n",
    "\n",
    "for k, var in enumerate(validvars):\n",
    "    valid_stats_ar1_lags = {}\n",
    "    v = {}\n",
    "    X_var, _ = limkb.load_data(var, v, fdic_valid, remove_climo=True, detrend=True, verbose=True)\n",
    "    \n",
    "    corr_tot = np.zeros((len(lags)))\n",
    "    ce_tot = np.zeros((len(lags)))\n",
    "    gm_var_ratio = np.zeros((len(lags)))\n",
    "    \n",
    "    for i,lag in enumerate(lags[1:]):\n",
    "        print('Lag '+str(lag))\n",
    "        [truth_anom, forecast_anom] = limbuild.gather_truth_forecast(i,var,mo,X_var,ar1_forecast_dcomp_lag,\n",
    "                                                                     nvalidtimes,var_dict,ntrain_valid,\n",
    "                                                                     insamp=True)\n",
    "#         st = st + var_dict[var]['var_ndof']\n",
    "        \n",
    "        print('Truth_anom shape: '+str(truth_anom.shape))\n",
    "        print('Forecast_anom shape: '+str(forecast_anom.shape))\n",
    "\n",
    "#         [corr_tot[i], ce_tot[i], gm_var_ratio[i], tot_var_forecast, \n",
    "#          tot_var_truth] = limbuild.calc_validataion_stats(var, truth_anom[:,70:111], forecast_anom, var_dict,\n",
    "#                                                           areacell,areacell_dict,\n",
    "#                                                           areawt_name,month_names,iplot=True)\n",
    "        [corr_tot[i], ce_tot[i], gm_var_ratio[i], tot_var_forecast, \n",
    "         tot_var_truth] = limbuild.calc_validataion_stats(var, truth_anom, forecast_anom, var_dict,\n",
    "                                                          areacell,areacell_dict,\n",
    "                                                          areawt_name,month_names,iplot=True)\n",
    "        \n",
    "    valid_stats_ar1_lags['corr_tot'] = corr_tot\n",
    "    valid_stats_ar1_lags['ce_tot'] = ce_tot\n",
    "    valid_stats_ar1_lags['gm_var_ratio'] = gm_var_ratio\n",
    "    \n",
    "    validation_stats_ar1_lags[var] = valid_stats_ar1_lags\n",
    "    \n",
    "    del X_var"
   ]
  },
  {
   "cell_type": "code",
   "execution_count": null,
   "metadata": {
    "scrolled": true
   },
   "outputs": [],
   "source": [
    "#validvars = ['tas','tos','sic']\n",
    "validvars = limvars\n",
    "v = {}\n",
    "validation_stats_lag = {}\n",
    "lags_test = [0,1,2,3]\n",
    "#lags_test = [0, 1]\n",
    "gm_variance_mo = {}\n",
    "valid_stats_lags = {}\n",
    "\n",
    "for k, var in enumerate(validvars):\n",
    "    X_var, _ = limkb.load_data(var, v, fdic_valid, remove_climo=True, detrend=True, verbose=True)\n",
    "    \n",
    "    var_3d = np.reshape(X_var,(X_var.shape[0],1000,12))\n",
    "    x_anom_var = np.nanvar(var_3d,axis=1,ddof=1)\n",
    "    gm_x_var = statskb.global_mean(x_anom_var,areacell[areawt_name[var]])\n",
    "    \n",
    "    gm_variance_mo[var] = gm_x_var\n",
    "    \n",
    "    corr_tot = np.zeros((len(lags)))\n",
    "    ce_tot = np.zeros((len(lags)))\n",
    "    gm_var_ratio = np.zeros((len(lags)))\n",
    "    valid_stats = {}\n",
    "\n",
    "    for i,lag in enumerate(lags_test):\n",
    "        print('Lag '+str(lag))\n",
    "        [truth_anom, forecast_anom] = limbuild.gather_truth_forecast(lag,var,mo,X_var,x_forecast_dcomp,\n",
    "                                                                     nvalidtimes,var_dict,ntrain_valid,\n",
    "                                                                     insamp=True)\n",
    "        print('Truth_anom shape: '+str(truth_anom.shape))\n",
    "        print('Forecast_anom shape: '+str(forecast_anom.shape))\n",
    "\n",
    "        [corr_tot[i], ce_tot[i], gm_var_ratio[i], tot_var_forecast, \n",
    "         tot_var_truth] = limbuild.calc_validataion_stats(var, truth_anom, forecast_anom, var_dict,\n",
    "                                                          areacell,areacell_dict,\n",
    "                                                          areawt_name,month_names,iplot=True)\n",
    "        \n",
    "    valid_stats['corr_tot'] = corr_tot\n",
    "    valid_stats['ce_tot'] = ce_tot\n",
    "    valid_stats['gm_var_ratio'] = gm_var_ratio\n",
    "    \n",
    "    validation_stats_lag[var] = valid_stats\n",
    "    \n",
    "# valid_stats_allmo[var] = validation_stats"
   ]
  },
  {
   "cell_type": "code",
   "execution_count": null,
   "metadata": {},
   "outputs": [],
   "source": [
    "validation_stats_lag[var]['corr_tot']"
   ]
  },
  {
   "cell_type": "code",
   "execution_count": null,
   "metadata": {},
   "outputs": [],
   "source": [
    "fig,axs = plt.subplots(2,3,figsize=(20,8))\n",
    "#fig,axs= plt.subplots(2, 2)\n",
    "\n",
    "ax = axs.flatten()\n",
    "\n",
    "for i,var in enumerate(['tas','tos','sic','sit']):\n",
    "    ax[i].plot(validation_stats_lag[var]['corr_tot']**2, label='Correlation',linewidth=3.0)\n",
    "    ax[i].plot(np.arange(1,4,1),validation_stats_ar1_lags[var]['corr_tot'][:-1]**2, label='AR(1) Correlation',linewidth=3.0, \n",
    "               linestyle='--', color='tab:blue',alpha=0.5)\n",
    "\n",
    "    ax[i].plot(validation_stats_lag[var]['ce_tot'],label='CE',linewidth=3.0)\n",
    "    ax[i].plot(np.arange(1,4,1),validation_stats_ar1_lags[var]['ce_tot'][:-1],label='AR(1) CE',linewidth=3.0, \n",
    "               linestyle='--', color='tab:orange', alpha=0.5)\n",
    "\n",
    "    ax[i].set_xticks(np.arange(0,11,1))\n",
    "    ax[i].set_xticklabels(np.arange(0,11,1),fontsize=12)\n",
    "    ax[i].set_ylim(0,1)\n",
    "    ax[i].set_xlim(0,4)\n",
    "    ax[i].grid(axis='both')\n",
    "    ax[i].set_title(var, fontsize=14)\n",
    "#    ax[i].text(0.1,0.05, (\"Mean R$^2$ = \"+str(np.round(np.mean(validation_stats[var]['corr_tot']**2),2))),fontsize=14)\n",
    "    \n",
    "if Insamp==True:     \n",
    "#     plt.suptitle(('LIM trained on all months \\n Training years: '+str(850)+'-'+str(int(850+ntrain*1000))+\n",
    "#                  ', Validation years: Historical'+str(850)+'-'+str(int(850+ntrain*1000))), fontsize=16)\n",
    "    plt.suptitle(('LIM trained on all months \\n Training years: '+str(850)+'-'+str(int(850+ntrain*1000))+\n",
    "                 ', Validation years: Historical'), fontsize=16)\n",
    "else:     \n",
    "#     plt.suptitle(('LIM trained on all months \\n Training years: '+str(850)+'-'+\n",
    "#                   str(int(850+ntrain*1000))+', Validation years: '+\n",
    "#                   str(int(850+ntrain*1000))+'-'+str(int(850+ntrain*1000+nvalidtimes/12))), fontsize=16)\n",
    "    plt.suptitle(('LIM trained on all months \\n Training years: LM '+\n",
    "                  str(850)+'-'+str(int(850+ntrain_valid*1000))+\n",
    "                                   ', Validation years: Historical 1850-2005'), fontsize=16)\n",
    "\n",
    "# ax[i].text(0.1,0.05, (\"Training years: \"+str(850)+'-'+str(850+ntrain*1000)),fontsize=14)\n",
    "# ax[i].text(0.1,0.05, (\"Validation years: \"+str(850+ntrain*1000)+'-1850'),fontsize=14)\n",
    "\n",
    "\n",
    "ax[1].legend(loc='lower left', fontsize=14)\n",
    "ax[2].set_xlabel('Lag (months)', fontsize=14)\n",
    "ax[1].set_xlabel('Lag (months)', fontsize=14)\n",
    "ax[3].set_xlabel('Lag (months)', fontsize=14)\n",
    "\n",
    "plt.subplots_adjust(top=0.8)"
   ]
  },
  {
   "cell_type": "code",
   "execution_count": null,
   "metadata": {},
   "outputs": [],
   "source": [
    "validation_stats_ar1_lags[var]['gm_var_ratio']"
   ]
  },
  {
   "cell_type": "code",
   "execution_count": null,
   "metadata": {},
   "outputs": [],
   "source": [
    "fig,axs = plt.subplots(2,3,figsize=(20,8))\n",
    "#fig,axs= plt.subplots(2, 2)\n",
    "\n",
    "ax = axs.flatten()\n",
    "\n",
    "for i,var in enumerate(['tas','tos','sic','sit']):\n",
    "    ax[i].plot(validation_stats_lag[var]['gm_var_ratio'], label='LIM',linewidth=3.0, color='purple')\n",
    "    ax[i].plot(np.arange(1,4,1),validation_stats_ar1_lags[var]['gm_var_ratio'][:-1], label='AR(1)',linewidth=3.0, \n",
    "               linestyle='--', color='purple',alpha=0.5)\n",
    "\n",
    "    ax[i].set_xticks(np.arange(0,11,1))\n",
    "    ax[i].set_xticklabels(np.arange(0,11,1),fontsize=12)\n",
    "    ax[i].set_ylim(0,1)\n",
    "    ax[i].set_xlim(0,4)\n",
    "    ax[i].grid(axis='both')\n",
    "    ax[i].set_title(var, fontsize=14)\n",
    "    \n",
    "if Insamp==True:     \n",
    "#     plt.suptitle(('LIM trained on all months \\n Training years: '+str(850)+'-'+str(int(850+ntrain*1000))+\n",
    "#                  ', Validation years: Historical'+str(850)+'-'+str(int(850+ntrain*1000))), fontsize=16)\n",
    "    plt.suptitle(('LIM trained on all months \\n Training years: '+str(850)+'-'+str(int(850+ntrain*1000))+\n",
    "                 ', Validation years: Historical'), fontsize=16)\n",
    "else:     \n",
    "#     plt.suptitle(('LIM trained on all months \\n Training years: '+str(850)+'-'+\n",
    "#                   str(int(850+ntrain*1000))+', Validation years: '+\n",
    "#                   str(int(850+ntrain*1000))+'-'+str(int(850+ntrain*1000+nvalidtimes/12))), fontsize=16)\n",
    "    plt.suptitle(('LIM trained on all months \\n Training years: LM '+\n",
    "                  str(850)+'-'+str(int(850+ntrain_valid*1000))+\n",
    "                                   ', Validation years: Historical 1850-2005'), fontsize=16)\n",
    "\n",
    "# ax[i].text(0.1,0.05, (\"Training years: \"+str(850)+'-'+str(850+ntrain*1000)),fontsize=14)\n",
    "# ax[i].text(0.1,0.05, (\"Validation years: \"+str(850+ntrain*1000)+'-1850'),fontsize=14)\n",
    "\n",
    "\n",
    "ax[1].legend(loc='lower right', fontsize=14)\n",
    "ax[2].set_xlabel('Lag (months)', fontsize=14)\n",
    "ax[1].set_xlabel('Lag (months)', fontsize=14)\n",
    "ax[3].set_xlabel('Lag (months)', fontsize=14)\n",
    "\n",
    "plt.subplots_adjust(top=0.8)"
   ]
  },
  {
   "cell_type": "code",
   "execution_count": null,
   "metadata": {},
   "outputs": [],
   "source": []
  },
  {
   "cell_type": "markdown",
   "metadata": {},
   "source": [
    "#### Variance across variables across months:"
   ]
  },
  {
   "cell_type": "code",
   "execution_count": null,
   "metadata": {},
   "outputs": [],
   "source": [
    "for var in validvars:\n",
    "    plt.plot(gm_variance_mo[var], label=var)\n",
    "    \n",
    "plt.title('Global mean variance in LM simulation')\n",
    "plt.ylabel('Variance (%$^2$)')\n",
    "plt.xticks(np.arange(0,12,1),month_names, rotation=45)\n",
    "plt.legend()"
   ]
  },
  {
   "cell_type": "code",
   "execution_count": null,
   "metadata": {},
   "outputs": [],
   "source": [
    "for var in validvars:\n",
    "    plt.plot(gm_variance_mo[var]/gm_variance_mo[var].max(), label=var)\n",
    "    \n",
    "plt.title('Global mean variance in LM simulation')\n",
    "plt.ylabel('Variance (%$^2$)')\n",
    "plt.xticks(np.arange(0,12,1),month_names, rotation=45)\n",
    "plt.legend()"
   ]
  },
  {
   "cell_type": "markdown",
   "metadata": {},
   "source": [
    "#### Validate single variable: "
   ]
  },
  {
   "cell_type": "code",
   "execution_count": null,
   "metadata": {},
   "outputs": [],
   "source": [
    "lags_test = [1, 2, 3, 4, 5, 6, 7, 8, 9, 10]\n",
    "validvars = ['sic']\n",
    "v = {}\n",
    "validation_stats_test = {}\n",
    "\n",
    "for k, var in enumerate(validvars):\n",
    "    X_var, _ = limkb.load_data(var, v, fdic_valid, remove_climo=True, detrend=True, verbose=True)\n",
    "    \n",
    "    corr_tot = np.zeros((len(lags)))\n",
    "    ce_tot = np.zeros((len(lags)))\n",
    "    gm_var_ratio = np.zeros((len(lags)))\n",
    "    valid_stats_test = {}\n",
    "\n",
    "    for i,lag in enumerate(lags_test):\n",
    "        print('Lag '+str(lag))\n",
    "        [truth_anom, forecast_anom] = limbuild.gather_truth_forecast(lag,var,mo,X_var,x_forecast_dcomp,\n",
    "                                                                     var_dict,ntrain,insamp=Insamp)\n",
    "        print('Truth_anom shape: '+str(truth_anom.shape))\n",
    "        print('Forecast_anom shape: '+str(forecast_anom.shape))\n",
    "        \n",
    "#         if lag == 1: \n",
    "#             truth_error_var = np.nanvar(truth_anom,axis=1,ddof=1)\n",
    "#             truth_error_var = np.where(truth_var<1,0,truth_var)\n",
    "#             gm_truth_var = statskb.global_mean(truth_error_var,areacell[areawt_name[var]])          \n",
    "    \n",
    "#         error_var = np.nanvar(truth_anom-forecast_anom,axis=1,ddof=1)\n",
    "#         truth_error_var = np.nanvar(truth_anom,axis=1,ddof=1)\n",
    "\n",
    "#         ratio = error_var/truth_error_var\n",
    "        \n",
    "#         area_shape = areacell[areawt_name[var]].shape\n",
    "#         gm_var_ratio[i] = statskb.global_mean(ratio[np.isfinite(ratio)],\n",
    "#                                               np.reshape(areacell[areawt_name[var]],(area_shape[0]*area_shape[1]))[np.isfinite(ratio)])\n",
    "\n",
    "        if lag ==1: \n",
    "            truth_error_var = np.nanvar(truth_anom,axis=1,ddof=1)\n",
    "            area_shape = areacell[areawt_name[var]].shape\n",
    "            gm_truth_var = statskb.global_mean(truth_error_var[truth_error_var>0],\n",
    "                                               np.reshape(areacell[areawt_name[var]],(area_shape[0]*area_shape[1]))[truth_error_var>0])\n",
    "\n",
    "        area_shape = areacell[areawt_name[var]].shape\n",
    "        error_var = np.nanvar(truth_anom-forecast_anom,axis=1,ddof=1)\n",
    "        gm_error_var = statskb.global_mean(error_var[truth_error_var>0],\n",
    "                                           np.reshape(areacell[areawt_name[var]],(area_shape[0]*area_shape[1]))[truth_error_var>0])\n",
    "\n",
    "        gm_var_ratio[i]=gm_error_var/gm_truth_var\n",
    "#         print(gm_error_var)\n",
    "#         print(gm_truth_var)\n",
    "        \n",
    "    valid_stats_test['gm_var_ratio'] = gm_var_ratio\n",
    "    validation_stats_test[var] = valid_stats_test"
   ]
  },
  {
   "cell_type": "code",
   "execution_count": null,
   "metadata": {},
   "outputs": [],
   "source": [
    "fig,ax = plt.subplots(1,1,figsize=(7,4))\n",
    "#fig,axs= plt.subplots(2, 2)\n",
    "\n",
    "#ax = axs.flatten()\n",
    "\n",
    "for i,var in enumerate(['sic']):\n",
    "    ax.plot(np.arange(1,13,1),validation_stats_test[var]['gm_var_ratio'])\n",
    "\n",
    "#    ax[i].set_ylim(0,1)\n",
    "    ax.set_xlim(1,10)\n",
    "#    ax.set_ylim(0,1.1)\n",
    "    ax.set_xticks([1,2,3,4,5,6,7,8,9,10])\n",
    "    ax.grid(axis='both')\n",
    "    ax.set_ylabel('GM ratio: \\nerror variance to true variance', fontsize=14)\n",
    "    ax.set_title(var, fontsize=16)\n",
    "if mo == 'all':\n",
    "    plt.suptitle('All months', fontsize=16)\n",
    "else: \n",
    "    plt.suptitle(month_names[mo], fontsize=16)\n",
    "    \n",
    "ax.set_xlabel('lead time (months)', fontsize=14)\n",
    "ax.set_xlabel('lead time (months)', fontsize=14)"
   ]
  },
  {
   "cell_type": "markdown",
   "metadata": {},
   "source": [
    "#### Validate SIC: "
   ]
  },
  {
   "cell_type": "code",
   "execution_count": null,
   "metadata": {},
   "outputs": [],
   "source": [
    "# validvars = ['sic']\n",
    "# v = {}\n",
    "# validation_stats = {}\n",
    "\n",
    "# for k, var in enumerate(validvars):\n",
    "#     X_var, _ = limkb.load_data(var, v, fdic_train, remove_climo=True, detrend=True, verbose=True)\n",
    "    \n",
    "#     corr_tot = np.zeros((len(lags)))\n",
    "#     ce_tot = np.zeros((len(lags)))\n",
    "#     gm_var_ratio = np.zeros((len(lags)))\n",
    "#     valid_stats = {}\n",
    "\n",
    "#     for i,lag in enumerate(lags):\n",
    "#         print('Lag '+str(lag))\n",
    "#         [truth_anom, forecast_anom] = limbuild.gather_truth_forecast(lag,var,mo,X_var,x_forecast_dcomp,\n",
    "#                                                                      var_dict,ntrain,insamp=Insamp)\n",
    "#         print(truth_anom.shape)\n",
    "#         print(forecast_anom.shape)\n",
    "\n",
    "#         [corr_tot[i], ce_tot[i], gm_var_ratio[i], tot_nh_sic_forecast, \n",
    "#          tot_nh_sic_truth] = limbuild.calc_validataion_stats(var, truth_anom, forecast_anom, var_dict,\n",
    "#                                                              areacell,areacell_dict,\n",
    "#                                                              areawt_name,month_names,iplot=True)\n",
    "        \n",
    "#     valid_stats['corr_tot'] = corr_tot\n",
    "#     valid_stats['ce_tot'] = ce_tot\n",
    "#     valid_stats['gm_var_ratio'] = gm_var_ratio\n",
    "    \n",
    "#     validation_stats[var] = valid_stats\n",
    "    \n",
    "# valid_stats_allmo[mo] = validation_stats"
   ]
  },
  {
   "cell_type": "code",
   "execution_count": null,
   "metadata": {},
   "outputs": [],
   "source": [
    "# valid_stats['corr_tot'] = corr_tot\n",
    "# valid_stats['ce_tot'] = ce_tot\n",
    "# valid_stats['gm_var_ratio'] = gm_var_ratio\n",
    "\n",
    "# validation_stats[var] = valid_stats\n",
    "\n",
    "# valid_stats_allmo[mo] = validation_stats"
   ]
  },
  {
   "cell_type": "code",
   "execution_count": null,
   "metadata": {},
   "outputs": [],
   "source": []
  }
 ],
 "metadata": {
  "anaconda-cloud": {},
  "kernelspec": {
   "display_name": "Python 3",
   "language": "python",
   "name": "python3"
  },
  "language_info": {
   "codemirror_mode": {
    "name": "ipython",
    "version": 3
   },
   "file_extension": ".py",
   "mimetype": "text/x-python",
   "name": "python",
   "nbconvert_exporter": "python",
   "pygments_lexer": "ipython3",
   "version": "3.6.6"
  }
 },
 "nbformat": 4,
 "nbformat_minor": 2
}
