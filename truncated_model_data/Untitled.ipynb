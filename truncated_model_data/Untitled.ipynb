{
 "cells": [
  {
   "cell_type": "code",
   "execution_count": null,
   "metadata": {},
   "outputs": [],
   "source": []
  },
  {
   "cell_type": "code",
   "execution_count": 1,
   "metadata": {},
   "outputs": [],
   "source": [
    "import sys,os\n",
    "import xarray as xr\n",
    "import numpy as np\n",
    "import scipy as spy\n",
    "import pickle \n",
    "\n",
    "import matplotlib\n",
    "import matplotlib.pyplot as plt\n",
    "import cartopy.crs as ccrs\n",
    "import cartopy.feature as cfeature\n",
    "from cartopy.util import add_cyclic_point\n",
    "from collections import OrderedDict \n",
    "\n",
    "import time as timestamp "
   ]
  },
  {
   "cell_type": "code",
   "execution_count": 2,
   "metadata": {},
   "outputs": [],
   "source": [
    "sys.path.append(\"/home/disk/p/mkb22/Documents/si_analysis_kb/LIMs/SI_LIMs/\")\n",
    "import LIM_utils as lim\n",
    "\n",
    "import LIM_utils_kb as limkb\n",
    "import LIM_stats_kb as statskb\n",
    "import LIM_plot_kb as plotkb\n",
    "import LIM_building as limbuild"
   ]
  },
  {
   "cell_type": "code",
   "execution_count": 3,
   "metadata": {},
   "outputs": [
    {
     "data": {
      "text/plain": [
       "<module 'LIM_building' from '/home/disk/p/mkb22/Documents/si_analysis_kb/LIMs/SI_LIMs/LIM_building.py'>"
      ]
     },
     "execution_count": 3,
     "metadata": {},
     "output_type": "execute_result"
    }
   ],
   "source": [
    "import importlib\n",
    "importlib.reload(limkb)\n",
    "importlib.reload(statskb)\n",
    "importlib.reload(limbuild)"
   ]
  },
  {
   "cell_type": "code",
   "execution_count": 4,
   "metadata": {},
   "outputs": [],
   "source": [
    "arc_proj = dict(projection=ccrs.Stereographic(central_latitude=90,\n",
    "                                              central_longitude=-45,\n",
    "                                              true_scale_latitude=0.1))\n",
    "proj = dict(projection=ccrs.Robinson(central_longitude=0.),zorder=1)"
   ]
  },
  {
   "cell_type": "code",
   "execution_count": 5,
   "metadata": {},
   "outputs": [],
   "source": [
    "month_names = ['Jan','Feb','Mar','Apr','May','June','July','Aug','Sept','Oct','Nov','Dec']"
   ]
  },
  {
   "cell_type": "code",
   "execution_count": 6,
   "metadata": {},
   "outputs": [],
   "source": [
    "from datetime import date\n",
    "\n",
    "today = date.today()\n",
    "\n",
    "#Year-month-day\n",
    "today_date = today.strftime(\"%Y%m%d\")"
   ]
  },
  {
   "cell_type": "code",
   "execution_count": 7,
   "metadata": {},
   "outputs": [],
   "source": [
    "import warnings\n",
    "warnings.filterwarnings(\"ignore\")"
   ]
  },
  {
   "cell_type": "code",
   "execution_count": null,
   "metadata": {},
   "outputs": [],
   "source": [
    "# number of EOFs to retain for the LIM state vector\n",
    "ntrunc = 30 # EOF truncation for individual fields (reduced-state space)\n",
    "nmodes = 30 # number of coupled EOFs for LIM state space (truncated-state space)\n",
    "#nmodes = 25\n",
    "nmodes_sic = 50\n",
    "#modes_sic = 20\n",
    "\n",
    "mo='all'\n",
    "#mo=0\n",
    "\n",
    "# forecast lead time in months that defines the LIM training\n",
    "tau = 1\n",
    "\n",
    "# training data defined by the first ntrain times\n",
    "# fraction of years used in training\n",
    "# ensures that start year of both train and validation data is january \n",
    "ntrain = 1\n",
    "ntraintimes = 1980\n",
    "# nvalidtimes = 1872\n",
    "nttrain_valid = 0\n",
    "tscut_era = False    # time start cut \n",
    "tecut_era = False       # time end cut \n",
    "\n",
    "tscut_sat = False    # time start cut \n",
    "tecut_sat = 0       # time end cut \n",
    "\n",
    "# variables to include in the LIM (note \"vars\" is a Python command)\n",
    "#limvars = ['tas','zg']\n",
    "#limvars = ['tas','rlut','zg']\n",
    "#limvars = ['tas','tos','psl','sic']\n",
    "limvars = ['sic']\n",
    "#limvars = ['tas','sic']\n",
    "#limvars = ['tas','sic','zg','psl','pr','tos']\n",
    "#limvars = ['tas','psl','tos','sit','sic']\n",
    "# limvars = ['tas','tos','psl','sit','sic']\n",
    "# limvars_nosic = ['tas','tos','psl','sit']\n",
    "#limvars = ['tas','tos','psl','sit','sic']\n",
    "#limvars = ['tas','tos','sic']\n",
    "#limvars_nosic = ['tas','tos']\n",
    "limvars_nosic = []\n",
    "nvars = len(limvars)\n",
    "\n",
    "# specify the model source \n",
    "#train_dsource = 'ccsm4_hist_kb'\n",
    "#train_dsource = 'mpi_hist_kb'\n",
    "#train_dsource = 'cmip6_cesm2_ssp585'\n",
    "#train_dsource = 'cmip6_mpi_hist'\n",
    "#train_dsource = 'mpi_lm_kb'\n",
    "train_era = 'era5'\n",
    "#train_dsource = 'era5'\n",
    "#valid_dsource = 'mpi_lm_kb'\n",
    "valid_sat = 'satellite'\n",
    "#valid_dsource = 'ccsm4_lm_kb'\n",
    "\n",
    "sic_separate = True\n",
    "Insamp = False"
   ]
  },
  {
   "cell_type": "code",
   "execution_count": null,
   "metadata": {},
   "outputs": [],
   "source": [
    "pi = np.pi\n",
    "\n",
    "# fill continents if plotting SST; otherwise no\n",
    "# if var_to_extract == 'tos':\n",
    "#     noland = True\n",
    "# else:\n",
    "#     noland = False\n",
    "\n",
    "infile_20cr_tas = '/home/disk/kalman3/rtardif/LMR/data/model/20cr/tas_sfc_Amon_20CR_185101-201112.nc'\n",
    "\n",
    "fdic_era = limkb.build_training_dic(train_era)\n",
    "fdic_sat = limkb.build_training_dic(valid_sat)\n",
    "\n",
    "full_names, areawt_name, month_names = limbuild.load_full_names()\n",
    "areacell_era, areacell_dict_era = limbuild.load_areacell_dict(fdic_era, remove_climo=False, \n",
    "                                                              detrend=False, verbose=False )\n",
    "areacell_sat, areacell_dict_sat = limbuild.load_areacell_dict(fdic_sat, remove_climo=False, \n",
    "                                                              detrend=False, verbose=False )"
   ]
  },
  {
   "cell_type": "code",
   "execution_count": null,
   "metadata": {},
   "outputs": [],
   "source": [
    "tscut_era, tecut_era"
   ]
  },
  {
   "cell_type": "code",
   "execution_count": null,
   "metadata": {},
   "outputs": [],
   "source": [
    "var_era = 'sic'\n",
    "var_dict_era = {}\n",
    "\n",
    "X_var_era, var_dict_era = limkb.load_data(var_era, var_dict_era, fdic_era, remove_climo=True, \n",
    "                                  detrend=True, verbose=True, cmip6=False, \n",
    "                                  tscut=tscut_era, tecut=tecut_era)\n",
    "tsamp_era = X_var_era.shape[1]\n",
    "\n",
    "if var_era is 'sic':\n",
    "    if np.nanmax(X_var_era)>1:\n",
    "        print('Changing units of sic be a between 0 to 1')\n",
    "        X_var_era = X_var_era/100\n",
    "\n",
    "acell_era = areacell_era[areawt_name[var_era]]\n",
    "units_era = areacell_dict_era[areawt_name[var_era]][areawt_name[var_era]]['units']\n",
    "\n",
    "if 'km' in units_era:\n",
    "    acell_era = acell_era\n",
    "else: \n",
    "    print('changing cellarea units from '+\n",
    "          str(units_era)+' to km^2')\n",
    "    acell_era = acell_era/(1000*1000)\n",
    "    units_era = 'km^2'"
   ]
  },
  {
   "cell_type": "code",
   "execution_count": null,
   "metadata": {},
   "outputs": [],
   "source": [
    "var_sat = 'sic'\n",
    "var_dict_sat = {}\n",
    "\n",
    "X_var_sat, var_dict_sat = limkb.load_data(var_sat, var_dict_sat, fdic_sat, remove_climo=True, \n",
    "                                  detrend=True, verbose=True, cmip6=False, \n",
    "                                  tscut=tscut_era, tecut=tecut_era)\n",
    "tsamp_sat = X_var_sat.shape[1]\n",
    "\n",
    "if var_sat is 'sic':\n",
    "    if np.nanmax(X_var_sat)>1:\n",
    "        print('Changing units of sic be a between 0 to 1')\n",
    "        X_var_sat = X_var_sat/100\n",
    "\n",
    "acell_sat = areacell_sat[areawt_name[var]]\n",
    "units = areacell_dict_sat[areawt_name[var_sat]][areawt_name[var_sat]]['units']\n",
    "\n",
    "if 'km' in units:\n",
    "    acell_sat = acell_sat\n",
    "else: \n",
    "    print('changing cellarea units from '+\n",
    "          str(units)+' to km^2')\n",
    "    acell_sat = acell_sat/(1000*1000)\n",
    "    units_sat = 'km^2'"
   ]
  },
  {
   "cell_type": "code",
   "execution_count": null,
   "metadata": {},
   "outputs": [],
   "source": [
    "var_era2 = 'sic'\n",
    "var_dict_era2 = {}\n",
    "\n",
    "X_var_era2, var_dict_era2 = limkb.load_data(var_era2, var_dict_era2, fdic_era, remove_climo=True, \n",
    "                                  detrend=True, verbose=True, cmip6=False, \n",
    "                                  tscut=26, tecut=False)\n",
    "tsamp_era2 = X_var_era.shape[1]\n",
    "\n",
    "if var_era2 is 'sic':\n",
    "    if np.nanmax(X_var_era2)>1:\n",
    "        print('Changing units of sic be a between 0 to 1')\n",
    "        X_var_era2 = X_var_era2/100\n",
    "\n",
    "acell_era2 = areacell_era[areawt_name[var_era2]]\n",
    "units_era2 = areacell_dict_era[areawt_name[var_era2]][areawt_name[var_era]]['units']\n",
    "\n",
    "if 'km' in units_era2:\n",
    "    acell_era2 = acell_era2\n",
    "else: \n",
    "    print('changing cellarea units from '+\n",
    "          str(units_era2)+' to km^2')\n",
    "    acell_era2 = acell_era2/(1000*1000)\n",
    "    units_era2 = 'km^2'"
   ]
  },
  {
   "cell_type": "code",
   "execution_count": null,
   "metadata": {},
   "outputs": [],
   "source": [
    "if var == 'sic':\n",
    "    tot_var_era5 = statskb.calc_tot_si(X_var_era,acell_era,units_era,var_dict_era[var_era]['lat'],lat_cutoff=0.0)\n",
    "    tot_var_era5_2 = statskb.calc_tot_si(X_var_era2,acell_era2,units_era2,var_dict_era2[var_era2]['lat'],lat_cutoff=0.0)\n",
    "    tot_var_sat = statskb.calc_tot_si(X_var_sat,acell_sat,units_sat,var_dict_sat[var_sat]['lat'],lat_cutoff=0.0)\n",
    "else: \n",
    "    tot_var_era5 = statskb.global_mean(X_var_era,acell_era)\n",
    "    tot_var_sat = statskb.global_mean(X_var_sat,acell_sat)"
   ]
  },
  {
   "cell_type": "code",
   "execution_count": null,
   "metadata": {},
   "outputs": [],
   "source": [
    "from datetime import datetime, timedelta\n",
    "\n",
    "sat_time = np.array([datetime(y,n,1) for y in range(1979, 2017) for n in range(1, 13)])\n",
    "era_time = np.array([datetime(y,n,1) for y in range(1979, 2021) for n in range(1, 13)])"
   ]
  },
  {
   "cell_type": "code",
   "execution_count": null,
   "metadata": {},
   "outputs": [],
   "source": [
    "fig = plt.figure(figsize=(8,4))\n",
    "\n",
    "plt.plot(era_time,tot_var_era5, label='ERA5')\n",
    "\n",
    "plt.ylabel('Total Arctic sea ice area \\n(10$^6$ km$^2$)', fontsize=14)\n",
    "\n",
    "plt.legend(fontsize=12, loc='lower right')\n",
    "i = 312\n",
    "plt.xlim(era_time[i],era_time[-1])\n",
    "plt.ylim(-110,50)"
   ]
  },
  {
   "cell_type": "code",
   "execution_count": null,
   "metadata": {},
   "outputs": [],
   "source": [
    "np.nanmean(tot_var_era5[26*12:])"
   ]
  },
  {
   "cell_type": "code",
   "execution_count": null,
   "metadata": {},
   "outputs": [],
   "source": [
    "tot_var_era5_valid = tot_var_era5[26*12:] - np.nanmean(tot_var_era5[26*12:])"
   ]
  },
  {
   "cell_type": "code",
   "execution_count": null,
   "metadata": {},
   "outputs": [],
   "source": [
    "fig = plt.figure(figsize=(6,4))\n",
    "\n",
    "plt.plot(era_time[26*12:],tot_var_era5_2, label='ERA5')\n",
    "\n",
    "plt.ylabel('Total Arctic sea ice area \\n(10$^6$ km$^2$)', fontsize=14)\n",
    "\n",
    "plt.legend(fontsize=12, loc='lower right')\n",
    "i = 312\n",
    "plt.xlim(era_time[i],era_time[i+20])\n",
    "plt.ylim(-110,50)"
   ]
  },
  {
   "cell_type": "code",
   "execution_count": null,
   "metadata": {},
   "outputs": [],
   "source": []
  },
  {
   "cell_type": "code",
   "execution_count": null,
   "metadata": {},
   "outputs": [],
   "source": [
    "tot_var_era5.mean()"
   ]
  },
  {
   "cell_type": "code",
   "execution_count": null,
   "metadata": {},
   "outputs": [],
   "source": [
    "fig = plt.figure(figsize=(8,4))\n",
    "\n",
    "#plt.plot(era_time, tot_var_era5, label='ERA5')\n",
    "plt.plot(sat_time, tot_var_sat/1e6, label='Satellite')\n",
    "plt.plot(era_time, tot_var_era5/40, label='ERA5')\n",
    "\n",
    "plt.ylabel('Total Arctic sea ice area \\n(10$^6$ km$^2$)', fontsize=14)\n",
    "\n",
    "plt.legend(fontsize=12, loc='lower right')\n"
   ]
  },
  {
   "cell_type": "code",
   "execution_count": null,
   "metadata": {},
   "outputs": [],
   "source": [
    "areacell_era[areawt_name[var_era]]"
   ]
  },
  {
   "cell_type": "code",
   "execution_count": null,
   "metadata": {},
   "outputs": [],
   "source": [
    "acell_era*100, acell_sat"
   ]
  },
  {
   "cell_type": "code",
   "execution_count": null,
   "metadata": {},
   "outputs": [],
   "source": [
    "X_var_sat.shape, X_var_era.shape"
   ]
  },
  {
   "cell_type": "code",
   "execution_count": null,
   "metadata": {},
   "outputs": [],
   "source": [
    "X_var_era_3d = np.reshape(X_var_era,(181,720,504))\n",
    "X_var_sat_3d = np.reshape(X_var_sat,(448,304,456))"
   ]
  },
  {
   "cell_type": "code",
   "execution_count": null,
   "metadata": {},
   "outputs": [],
   "source": [
    "\n",
    "plt.pcolormesh(X_var_sat_3d[:,:,0])\n",
    "plt.colorbar()"
   ]
  },
  {
   "cell_type": "code",
   "execution_count": null,
   "metadata": {},
   "outputs": [],
   "source": [
    "plt.pcolormesh(X_var_era_3d[:,:,0])\n",
    "plt.colorbar()"
   ]
  },
  {
   "cell_type": "code",
   "execution_count": null,
   "metadata": {},
   "outputs": [],
   "source": [
    "iter_range = [4,5]\n",
    "MCiters = range(iter_range[0],iter_range[1]+1)\n"
   ]
  },
  {
   "cell_type": "code",
   "execution_count": null,
   "metadata": {},
   "outputs": [],
   "source": [
    "areacell_dict_era['areacello']['areacello']['lon'].shape"
   ]
  },
  {
   "cell_type": "code",
   "execution_count": null,
   "metadata": {},
   "outputs": [],
   "source": [
    "np.where(areacell_dict_era['areacello']['areacello']['lat']>=31.1)"
   ]
  },
  {
   "cell_type": "code",
   "execution_count": null,
   "metadata": {},
   "outputs": [],
   "source": [
    "lats = areacell_dict_era['areacello']['areacello']['lat'][np.where(areacell_dict_era['areacello']['areacello']['lat']>=31.1)]\n",
    "lons = areacell_dict_era['areacello']['areacello']['lon']"
   ]
  },
  {
   "cell_type": "code",
   "execution_count": null,
   "metadata": {},
   "outputs": [],
   "source": [
    "np.reshape(acell_era,(181,720))[:117,:].shape, lats.shape"
   ]
  },
  {
   "cell_type": "code",
   "execution_count": null,
   "metadata": {},
   "outputs": [],
   "source": [
    "lats = areacell_dict_era['areacello']['areacello']['lat'][np.where(areacell_dict_era['areacello']['areacello']['lat']>=31.1)]\n",
    "lons = areacell_dict_era['areacello']['areacello']['lon']\n",
    "\n",
    "plt.pcolormesh(lons,lats,np.reshape(acell_era,(181,720))[:118,:])\n",
    "plt.colorbar()"
   ]
  },
  {
   "cell_type": "code",
   "execution_count": null,
   "metadata": {},
   "outputs": [],
   "source": [
    "lats_sat = areacell_dict_sat['areacello']['areacello']['lat']\n",
    "lons_sat = areacell_dict_sat['areacello']['areacello']['lon']"
   ]
  },
  {
   "cell_type": "code",
   "execution_count": null,
   "metadata": {},
   "outputs": [],
   "source": [
    "plt.pcolormesh(np.reshape(acell_sat,(448,304)))\n",
    "plt.colorbar()"
   ]
  },
  {
   "cell_type": "code",
   "execution_count": null,
   "metadata": {},
   "outputs": [],
   "source": [
    "plt.pcolormesh(lats_sat,lons_sat,np.reshape(acell_sat,(448,304)))\n",
    "plt.colorbar()"
   ]
  },
  {
   "cell_type": "code",
   "execution_count": null,
   "metadata": {},
   "outputs": [],
   "source": [
    "lats_sat.shape,lons_sat.shape,np.reshape(acell_sat,(448,304)).T.shape"
   ]
  },
  {
   "cell_type": "code",
   "execution_count": null,
   "metadata": {},
   "outputs": [],
   "source": [
    "acell_sat.min(), acell_sat.max()"
   ]
  },
  {
   "cell_type": "code",
   "execution_count": null,
   "metadata": {},
   "outputs": [],
   "source": [
    "plt.pcolormesh(np.reshape(acell_era,(181,720)))\n",
    "plt.colorbar()"
   ]
  },
  {
   "cell_type": "code",
   "execution_count": null,
   "metadata": {},
   "outputs": [],
   "source": [
    "acell_era.min(), acell_era.max()"
   ]
  },
  {
   "cell_type": "markdown",
   "metadata": {},
   "source": [
    "# Estimate grid cell area: "
   ]
  },
  {
   "cell_type": "code",
   "execution_count": null,
   "metadata": {},
   "outputs": [],
   "source": [
    "r_earth = 6371.0 # km \n",
    "degrees = 0.5\n",
    "\n",
    "rads = (np.pi/180)*degrees"
   ]
  },
  {
   "cell_type": "code",
   "execution_count": null,
   "metadata": {},
   "outputs": [],
   "source": [
    "arc_length = r_earth*rads\n",
    "\n",
    "acell_nowt = arc_length*arc_length*np.ones((181,720))"
   ]
  },
  {
   "cell_type": "code",
   "execution_count": null,
   "metadata": {},
   "outputs": [],
   "source": [
    "lat_weights = np.cos(np.deg2rad(var_dict_era['sic']['lat']))\n",
    "\n",
    "acell_wt = acell_nowt*lat_weights[:,np.newaxis]"
   ]
  },
  {
   "cell_type": "code",
   "execution_count": null,
   "metadata": {},
   "outputs": [],
   "source": [
    "plt.pcolormesh(acell_wt)\n",
    "plt.colorbar()"
   ]
  },
  {
   "cell_type": "code",
   "execution_count": null,
   "metadata": {},
   "outputs": [],
   "source": [
    "plt.plot(lat_weights)"
   ]
  },
  {
   "cell_type": "code",
   "execution_count": null,
   "metadata": {},
   "outputs": [],
   "source": [
    "arc_length*arc_length"
   ]
  },
  {
   "cell_type": "markdown",
   "metadata": {},
   "source": [
    "# Test one month LIM: "
   ]
  },
  {
   "cell_type": "code",
   "execution_count": 80,
   "metadata": {},
   "outputs": [],
   "source": [
    "# number of EOFs to retain for the LIM state vector\n",
    "ntrunc = 30 # EOF truncation for individual fields (reduced-state space)\n",
    "nmodes = 30 # number of coupled EOFs for LIM state space (truncated-state space)\n",
    "#nmodes = 25\n",
    "nmodes_sic = 50\n",
    "#modes_sic = 20\n",
    "\n",
    "#mo='all'\n",
    "mo=4\n",
    "\n",
    "# forecast lead time in months that defines the LIM training\n",
    "tau = 1\n",
    "\n",
    "# training data defined by the first ntrain times\n",
    "# fraction of years used in training\n",
    "# ensures that start year of both train and validation data is january \n",
    "ntrain = 1\n",
    "ntraintimes = 1980\n",
    "# nvalidtimes = 1872\n",
    "nttrain_valid = 0\n",
    "tscut_era = False    # time start cut \n",
    "tecut_era = False       # time end cut \n",
    "\n",
    "tscut_sat = False    # time start cut \n",
    "tecut_sat = 0       # time end cut \n",
    "\n",
    "# variables to include in the LIM (note \"vars\" is a Python command)\n",
    "#limvars = ['tas','zg']\n",
    "#limvars = ['tas','rlut','zg']\n",
    "#limvars = ['tas','tos','psl','sic']\n",
    "limvars = ['sic']\n",
    "#limvars = ['tas','sic']\n",
    "#limvars = ['tas','sic','zg','psl','pr','tos']\n",
    "#limvars = ['tas','psl','tos','sit','sic']\n",
    "# limvars = ['tas','tos','psl','sit','sic']\n",
    "# limvars_nosic = ['tas','tos','psl','sit']\n",
    "#limvars = ['tas','tos','psl','sit','sic']\n",
    "#limvars = ['tas','tos','sic']\n",
    "#limvars_nosic = ['tas','tos']\n",
    "limvars_nosic = []\n",
    "nvars = len(limvars)\n",
    "\n",
    "# specify the model source \n",
    "#train_dsource = 'ccsm4_hist_kb'\n",
    "#train_dsource = 'mpi_hist_kb'\n",
    "#train_dsource = 'cmip6_cesm2_ssp585'\n",
    "#train_dsource = 'cmip6_mpi_hist'\n",
    "train_dsource = 'mpi_lm_kb'\n",
    "#train_dsource = 'era5'\n",
    "valid_dsource = 'era5'\n",
    "#valid_dsource = 'mpi_lm_kb'\n",
    "#valid_sat = 'satellite'\n",
    "#valid_dsource = 'ccsm4_lm_kb'\n",
    "#valid_dsource = 'cmip6_mpi_hist'\n",
    "\n",
    "sic_separate = True\n",
    "Insamp = False"
   ]
  },
  {
   "cell_type": "code",
   "execution_count": 81,
   "metadata": {},
   "outputs": [],
   "source": [
    "# Start with truncated training data: \n",
    "#mod_folder = 'truncated_model_data/last_millennium/'\n",
    "#mod_folder = 'truncated_model_data/'#+folder_add\n",
    "mod_folder = ''#+folder_add\n",
    "#mod_filename = '_ntrunc'+str(ntrunc)+'_month'+str(mo)+'_'+train_dsource+'_'+'ntrain_1850_2004_20210921.pkl'\n",
    "mod_filename = '_ntrunc'+str(ntrunc)+'_month'+str(mo)+'_'+train_dsource+'_grid05_ntrain_1979_2004_20210914.pkl'\n",
    "\n",
    "#mod_sic_filename = '_ntrunc'+str(nmodes_sic)+'_month'+str(mo)+'_'+train_dsource+'_ntrain_1850_2050_20210916.pkl'\n",
    "mod_sic_filename = '_ntrunc'+str(nmodes_sic)+'_month'+str(mo)+'_'+train_dsource+'_grid05_ntrain_1979_2004_20210921.pkl'\n",
    "#mod_sic_filename = '_ntrunc'+str(nmodes_sic)+'_month'+str(mo)+'_'+train_dsource+'_'+'ntrain_1850_2004_20210921.pkl'\n",
    "mod_sic_filename = '_ntrunc50_month4_mpi_lm_kb_ntrain_850_1833_20210921.pkl'"
   ]
  },
  {
   "cell_type": "code",
   "execution_count": 92,
   "metadata": {},
   "outputs": [],
   "source": [
    "exp_setup = {}\n",
    "exp_setup['mo'] = mo\n",
    "if 'all' in str(mo): \n",
    "    exp_setup['ind_month_trunc'] = False\n",
    "else: \n",
    "    exp_setup['ind_month_trunc'] = True\n",
    "exp_setup['tau'] = tau\n",
    "exp_setup['ntrunc'] = ntrunc \n",
    "exp_setup['nmodes_sic'] = nmodes_sic\n",
    "exp_setup['limvars'] = limvars\n",
    "exp_setup['train_dsource'] = train_dsource\n",
    "exp_setup['valid_dsource'] = valid_dsource \n",
    "exp_setup['sic_separate'] = sic_separate\n",
    "exp_setup['Insamp'] = Insamp\n",
    "exp_setup['mod_folder'] = mod_folder\n",
    "exp_setup['mod_filename'] = mod_filename\n",
    "exp_setup['mod_sic_filename'] = mod_sic_filename\n",
    "exp_setup['Weight']=True\n",
    "# era5 settings: \n",
    "# exp_setup['nyearsvalid'] = 16\n",
    "# exp_setup['nyearstot'] = 42\n",
    "# exp_setup['nyears_startvalid'] = 26*12\n",
    "\n",
    "# Satellite settings: \n",
    "# exp_setup['nyearsvalid'] = 12\n",
    "# exp_setup['nyearstot'] = 38\n",
    "# exp_setup['nyears_startvalid'] = 26*12\n",
    "\n",
    "# Historical settings: \n",
    "# exp_setup['nyearsvalid'] = 11\n",
    "# exp_setup['nyearstot'] = 164\n",
    "# exp_setup['nyears_startvalid'] = 154*12\n",
    "\n",
    "# LM settings\n",
    "exp_setup['nyearsvalid'] = 16\n",
    "exp_setup['nyearstot'] = 1000\n",
    "exp_setup['nyears_startvalid'] = (1000-16)*12\n",
    "\n",
    "exp_setup['ntrain']=((exp_setup['nyearstot']*12)-(exp_setup['nyearsvalid'] *12))/(exp_setup['nyearstot']*12)"
   ]
  },
  {
   "cell_type": "code",
   "execution_count": 93,
   "metadata": {},
   "outputs": [],
   "source": [
    "import run_forecast_model_data as rf"
   ]
  },
  {
   "cell_type": "code",
   "execution_count": 94,
   "metadata": {},
   "outputs": [
    {
     "data": {
      "text/plain": [
       "<module 'LIM_stats_kb' from '/home/disk/p/mkb22/Documents/si_analysis_kb/LIMs/SI_LIMs/LIM_stats_kb.py'>"
      ]
     },
     "execution_count": 94,
     "metadata": {},
     "output_type": "execute_result"
    }
   ],
   "source": [
    "importlib.reload(rf)\n",
    "importlib.reload(limbuild)\n",
    "importlib.reload(limkb)\n",
    "importlib.reload(statskb)"
   ]
  },
  {
   "cell_type": "code",
   "execution_count": 95,
   "metadata": {},
   "outputs": [],
   "source": [
    "def load_training_data_truncated(limvars, mod_folder, mod_sic_filename, mod_filename,\n",
    "                                 mo, nyearstot, nyearsvalid, ind_month_trunc = False): \n",
    "\n",
    "    var_dict = {}\n",
    "    v = {}\n",
    "    tot_var = {}\n",
    "    tot_var_eig = {}\n",
    "    W_all = {}\n",
    "    E3 = {}\n",
    "    Ptrunc = {}\n",
    "    Ptrunc_valid = {}\n",
    "    standard_factor = {}\n",
    "    \n",
    "    for k, var in enumerate(limvars): \n",
    "        if var == 'sic': \n",
    "            mod_fname = mod_sic_filename\n",
    "        else: \n",
    "            mod_fname = mod_filename\n",
    "    \n",
    "        [X_var, v, E3[var], standard_factor[var], \n",
    "         W_all[var]] = limkb.load_truncated_data(var, mod_folder, mod_fname)\n",
    "        \n",
    "        var_dict[var] = v[var]\n",
    "    \n",
    "        if mo is 'all':\n",
    "            X_t = X_var\n",
    "            ntime = X_t.shape[1]\n",
    "            nyears_train = int(ntrain*ntime)\n",
    "            nyears_valid = ntime - nyears_train\n",
    "\n",
    "            X_train = X_t[:,0:nyears_train]\n",
    "            X_train_2d = X_train\n",
    "            X_valid = X_t[:,nyears_train:]\n",
    "        elif ind_month_trunc is True: \n",
    "            ntime = X_var.shape[1]\n",
    "            nyears_train = nyearstot - nyearsvalid\n",
    "            nyears_valid = nyearsvalid\n",
    "            \n",
    "            X_t = np.reshape(X_var,(X_var.shape[0],int(ntime/2),2))\n",
    "\n",
    "            X_train = X_t\n",
    "            X_train_2d = np.reshape(X_train,(X_train.shape[0],nyears_train*2))\n",
    "            X_valid = X_t[:,:,1]\n",
    "        else: \n",
    "            ntime = X_var.shape[1]\n",
    "            nyears_train = int((ntime*ntrain)/12)\n",
    "            nyears_valid = int((ntime*(1-ntrain))/12)\n",
    "\n",
    "            X_t = np.reshape(X_var,(X_var.shape[0],int(ntime/12),12))\n",
    "\n",
    "            X_train = X_t[:,0:nyears_train,mo:mo+2]\n",
    "            X_train_2d = np.reshape(X_train,(X_train.shape[0],nyears_train*2))\n",
    "            X_valid = X_t[:,nyears_train:,mo]\n",
    "\n",
    "        Ptrunc[var] = X_train_2d \n",
    "        Ptrunc_valid[var] = X_valid\n",
    "#         Ptrunc_valid[var] = limkb.step1_projection_validation_var(X_valid, E3[var], standard_factor[var], \n",
    "#                                                                   W_all[var])\n",
    "\n",
    "        del X_var\n",
    "    \n",
    "    return Ptrunc, Ptrunc_valid, E3, tot_var, tot_var_eig, W_all, standard_factor, nyears_train, var_dict"
   ]
  },
  {
   "cell_type": "code",
   "execution_count": 96,
   "metadata": {},
   "outputs": [
    {
     "name": "stdout",
     "output_type": "stream",
     "text": [
      "Loading truncated sic from: sic_ntrunc50_month4_mpi_lm_kb_ntrain_850_1833_20210921.pkl\n"
     ]
    }
   ],
   "source": [
    "[Ptrunc, _, E3, tot_var, \n",
    " tot_var_eig, W_all, \n",
    " standard_factor, \n",
    " nyears_train, var_dict] = load_training_data_truncated(exp_setup['limvars'], exp_setup['mod_folder'], \n",
    "                                                        exp_setup['mod_sic_filename'], \n",
    "                                                        exp_setup['mod_filename'], \n",
    "                                                        exp_setup['mo'],exp_setup['nyearstot'],\n",
    "                                                        exp_setup['nyearsvalid'],\n",
    "                                                        ind_month_trunc=exp_setup['ind_month_trunc'])"
   ]
  },
  {
   "cell_type": "code",
   "execution_count": 97,
   "metadata": {},
   "outputs": [
    {
     "name": "stdout",
     "output_type": "stream",
     "text": [
      "working on sic\n",
      "Only one variable detected...\n"
     ]
    }
   ],
   "source": [
    "var_dict = limbuild.get_var_indices(exp_setup['limvars'], var_dict)\n",
    "\n",
    "ndof_all = limkb.count_ndof_all(exp_setup['limvars'], E3, sic_separate=exp_setup['sic_separate'])\n",
    "\n",
    "\n",
    "if len(exp_setup['limvars'])<=1:\n",
    "    print('Only one variable detected...')\n",
    "    Ptrunc_all = []\n",
    "    E3_all = []\n",
    "    Ptrunc_sic = Ptrunc['sic']\n",
    "    E_sic = E3['sic']\n",
    "\n",
    "    P_train = Ptrunc_sic\n",
    "else: \n",
    "    print('Multiple variables detected...')\n",
    "    [Ptrunc_all, E3_all, \n",
    "    Ptrunc_sic,E_sic] = limkb.stack_variable_eofs(exp_setup['limvars'], ndof_all, \n",
    "                                                  exp_setup['ntrunc'], Ptrunc, E3,var_dict,\n",
    "                                                  sic_separate=exp_setup['sic_separate'])\n",
    "\n",
    "    P_train = np.concatenate((Ptrunc_all, Ptrunc_sic),axis=0)"
   ]
  },
  {
   "cell_type": "code",
   "execution_count": 98,
   "metadata": {},
   "outputs": [
    {
     "name": "stdout",
     "output_type": "stream",
     "text": [
      "Training LIM with tau = 1\n"
     ]
    }
   ],
   "source": [
    "# TRAIN LIM: \n",
    "    #--------------------------------------------------\n",
    "\n",
    "nmo = int(P_train.shape[1]/nyears_train)\n",
    "# nmo = 2\n",
    "P_train_3d = np.reshape(P_train, (P_train.shape[0],nyears_train,nmo))\n",
    "\n",
    "if exp_setup['mo'] is 'all':\n",
    "    LIMd2, G2 = lim.LIM_train(exp_setup['tau'],P_train)\n",
    "    print('Training LIM with tau = '+str(exp_setup['tau']))\n",
    "else: \n",
    "    LIMd2, G2 = lim.LIM_train_flex(exp_setup['tau'],P_train_3d[:,:,0], P_train_3d[:,:,1])\n",
    "    print('Training LIM with tau = '+str(exp_setup['tau']))"
   ]
  },
  {
   "cell_type": "code",
   "execution_count": 103,
   "metadata": {},
   "outputs": [
    {
     "data": {
      "text/plain": [
       "(0, 100)"
      ]
     },
     "execution_count": 103,
     "metadata": {},
     "output_type": "execute_result"
    },
    {
     "data": {
      "image/png": "[encoded data removed]",
      "text/plain": [
       "<Figure size 432x288 with 1 Axes>"
      ]
     },
     "metadata": {
      "needs_background": "light"
     },
     "output_type": "display_data"
    }
   ],
   "source": [
    "plt.plot(P_train_3d[3,:,0])\n",
    "plt.plot(P_train_3d[3,:,1])\n",
    "plt.xlim(0,100)"
   ]
  },
  {
   "cell_type": "code",
   "execution_count": 104,
   "metadata": {},
   "outputs": [
    {
     "data": {
      "text/plain": [
       "(50, 984, 2)"
      ]
     },
     "execution_count": 104,
     "metadata": {},
     "output_type": "execute_result"
    }
   ],
   "source": [
    "P_train_3d.shape"
   ]
  },
  {
   "cell_type": "code",
   "execution_count": 100,
   "metadata": {},
   "outputs": [
    {
     "data": {
      "text/plain": [
       "[<matplotlib.lines.Line2D at 0x7f0afea99780>]"
      ]
     },
     "execution_count": 100,
     "metadata": {},
     "output_type": "execute_result"
    },
    {
     "data": {
      "image/png": "[encoded data removed]",
      "text/plain": [
       "<Figure size 432x288 with 1 Axes>"
      ]
     },
     "metadata": {
      "needs_background": "light"
     },
     "output_type": "display_data"
    }
   ],
   "source": [
    "plt.plot(P_train[0,:])"
   ]
  },
  {
   "cell_type": "code",
   "execution_count": 101,
   "metadata": {},
   "outputs": [
    {
     "name": "stdout",
     "output_type": "stream",
     "text": [
      "Number of positive eigenvalues = 0.3\n"
     ]
    }
   ],
   "source": [
    "#--------------------------------------------------\n",
    "\n",
    "max_eigenval = np.real(LIMd2['lam_L']).max()\n",
    "\n",
    "if max_eigenval >0: \n",
    "    LIMd2['lam_L_adj'] = LIMd2['lam_L'] - (max_eigenval+0.01)\n",
    "else: \n",
    "    LIMd2['lam_L_adj'] = LIMd2['lam_L']\n",
    "\n",
    "LIMd2['npos_eigenvalues'] = (LIMd2['lam_L']>0).sum()/(LIMd2['lam_L'].shape[0])\n",
    "print('Number of positive eigenvalues = '+ str((LIMd2['lam_L']>0).sum()/(LIMd2['lam_L'].shape[0])))"
   ]
  },
  {
   "cell_type": "code",
   "execution_count": 102,
   "metadata": {},
   "outputs": [
    {
     "data": {
      "text/plain": [
       "array([ 0.79059657+0.j        ,  0.03745065+1.16497518j,\n",
       "        0.03745065-1.16497518j, -0.00642996+0.98962328j,\n",
       "       -0.00642996-0.98962328j,  0.4135341 +0.j        ,\n",
       "        0.35939045+0.2086828j ,  0.35939045-0.2086828j ,\n",
       "        0.10349911+0.51134626j,  0.10349911-0.51134626j,\n",
       "        0.30045094+0.j        ,  0.26339739+0.15950429j,\n",
       "        0.26339739-0.15950429j, -1.51328073+1.26342935j,\n",
       "       -1.51328073-1.26342935j, -0.17404285+0.64079333j,\n",
       "       -0.17404285-0.64079333j, -1.74358904+1.06966527j,\n",
       "       -1.74358904-1.06966527j, -3.3113672 +0.j        ,\n",
       "       -2.31148708+0.40921287j, -2.31148708-0.40921287j,\n",
       "       -2.48072065+0.j        , -2.30563025+0.j        ,\n",
       "       -1.87345146+0.3465824j , -1.87345146-0.3465824j ,\n",
       "       -1.38669109+0.28894138j, -1.38669109-0.28894138j,\n",
       "        0.22167739+0.j        , -0.59472109+0.49781363j,\n",
       "       -0.59472109-0.49781363j, -0.41562146+0.49563609j,\n",
       "       -0.41562146-0.49563609j, -0.25674142+0.49018561j,\n",
       "       -0.25674142-0.49018561j, -0.73889448+0.04416986j,\n",
       "       -0.73889448-0.04416986j, -0.11879766+0.39140425j,\n",
       "       -0.11879766-0.39140425j, -0.0886385 +0.28842946j,\n",
       "       -0.0886385 -0.28842946j, -0.01197537+0.22394136j,\n",
       "       -0.01197537-0.22394136j,  0.01351164+0.09778071j,\n",
       "        0.01351164-0.09778071j,  0.04158196+0.j        ,\n",
       "       -0.12708977+0.08205952j, -0.12708977-0.08205952j,\n",
       "       -0.27105388+0.j        , -0.18845295+0.j        ])"
      ]
     },
     "execution_count": 102,
     "metadata": {},
     "output_type": "execute_result"
    }
   ],
   "source": [
    "LIMd2['lam_L']"
   ]
  },
  {
   "cell_type": "code",
   "execution_count": null,
   "metadata": {},
   "outputs": [],
   "source": []
  },
  {
   "cell_type": "code",
   "execution_count": null,
   "metadata": {},
   "outputs": [],
   "source": []
  },
  {
   "cell_type": "code",
   "execution_count": null,
   "metadata": {},
   "outputs": [],
   "source": []
  },
  {
   "cell_type": "code",
   "execution_count": null,
   "metadata": {},
   "outputs": [],
   "source": []
  },
  {
   "cell_type": "code",
   "execution_count": null,
   "metadata": {},
   "outputs": [],
   "source": []
  },
  {
   "cell_type": "code",
   "execution_count": null,
   "metadata": {},
   "outputs": [],
   "source": []
  }
 ],
 "metadata": {
  "kernelspec": {
   "display_name": "Python 3",
   "language": "python",
   "name": "python3"
  },
  "language_info": {
   "codemirror_mode": {
    "name": "ipython",
    "version": 3
   },
   "file_extension": ".py",
   "mimetype": "text/x-python",
   "name": "python",
   "nbconvert_exporter": "python",
   "pygments_lexer": "ipython3",
   "version": "3.6.6"
  }
 },
 "nbformat": 4,
 "nbformat_minor": 2
}
